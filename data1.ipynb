{
 "cells": [
  {
   "cell_type": "markdown",
   "id": "f969e512-a1aa-4616-8020-e3347280220b",
   "metadata": {},
   "source": [
    "# 지역별 아파트 거래 금액"
   ]
  },
  {
   "cell_type": "code",
   "execution_count": 16,
   "id": "f53593de-1a5a-4037-95cd-e5be7b6deecf",
   "metadata": {},
   "outputs": [
    {
     "name": "stdout",
     "output_type": "stream",
     "text": [
      "오류 발생: HTTPSConnectionPool(host='apis.data.go.kr', port=443): Max retries exceeded with url: /1613000/RTMSDataSvcAptTradeDev/getRTMSDataSvcAptTradeDev?serviceKey=IpbCbmSrYOJa2sR%2BRH6WDr7VH4yhzqR0u2%2FMy%2FgFrOMRoLuo1SS4r%2BSqwtsHkBemT7e%2FxS4B%2FGnQysPLp%2Fza8A%3D%3D&LAWD_CD=11110&DEAL_YMD=202407&pageNo=1&numOfRows=10&type=json (Caused by SSLError(SSLError(1, '[SSL: SSLV3_ALERT_ILLEGAL_PARAMETER] sslv3 alert illegal parameter (_ssl.c:1016)')))\n"
     ]
    }
   ],
   "source": [
    "import requests\n",
    "import pandas as pd\n",
    "\n",
    "API_KEY = 'IpbCbmSrYOJa2sR%2BRH6WDr7VH4yhzqR0u2%2FMy%2FgFrOMRoLuo1SS4r%2BSqwtsHkBemT7e%2FxS4B%2FGnQysPLp%2Fza8A%3D%3D'\n",
    "\n",
    "def get_apt_trade_data(lawd_cd, deal_ymd, num_of_rows=10):\n",
    "    url = 'https://apis.data.go.kr/1613000/RTMSDataSvcAptTradeDev/getRTMSDataSvcAptTradeDev'\n",
    "    params = {\n",
    "        'serviceKey': API_KEY,\n",
    "        'LAWD_CD': lawd_cd,\n",
    "        'DEAL_YMD': deal_ymd,\n",
    "        'pageNo': 1,\n",
    "        'numOfRows': num_of_rows,\n",
    "        'type': 'json'\n",
    "    }\n",
    "\n",
    "    try:\n",
    "        response = requests.get(url, params=params, timeout=5)\n",
    "        if response.status_code == 200:\n",
    "            data = response.json()\n",
    "            items = data.get(\"response\", {}).get(\"body\", {}).get(\"items\", {}).get(\"item\", [])\n",
    "            df = pd.DataFrame(items)\n",
    "            print(df.head())\n",
    "            return df\n",
    "        else:\n",
    "            print(f\"응답 실패: {response.status_code}, 내용: {response.text}\")\n",
    "    except Exception as e:\n",
    "        print(f\"오류 발생: {e}\")\n",
    "    return None\n",
    "\n",
    "# 실행 예시\n",
    "get_apt_trade_data('11110', '202407')"
   ]
  },
  {
   "cell_type": "code",
   "execution_count": 17,
   "id": "697d7ae7-c1d9-47b5-91b8-af9eb641e033",
   "metadata": {},
   "outputs": [
    {
     "name": "stdout",
     "output_type": "stream",
     "text": [
      "연결 오류: HTTPSConnectionPool(host='apis.data.go.kr', port=443): Max retries exceeded with url: /1613000/RTMSDataSvcAptTradeDev/getRTMSDataSvcAptTradeDev?serviceKey=IpbCbmSrYOJa2sR%252BRH6WDr7VH4yhzqR0u2%252FMy%252FgFrOMRoLuo1SS4r%252BSqwtsHkBemT7e%252FxS4B%252FGnQysPLp%252Fza8A%253D%253D&LAWD_CD=11110&DEAL_YMD=202407&pageNo=1&numOfRows=10&type=json (Caused by SSLError(SSLError(1, '[SSL: SSLV3_ALERT_ILLEGAL_PARAMETER] sslv3 alert illegal parameter (_ssl.c:1016)')))\n"
     ]
    }
   ],
   "source": [
    "import requests\n",
    "import pandas as pd\n",
    "from urllib.parse import unquote\n",
    "\n",
    "# URL 인코딩된 API Key (문서 기준으로 추정된 실제 값이어야 함)\n",
    "API_KEY = 'IpbCbmSrYOJa2sR%2BRH6WDr7VH4yhzqR0u2%2FMy%2FgFrOMRoLuo1SS4r%2BSqwtsHkBemT7e%2FxS4B%2FGnQysPLp%2Fza8A%3D%3D'\n",
    "\n",
    "def get_apt_trade_data(lawd_cd, deal_ymd, num_of_rows=10):\n",
    "    url = 'https://apis.data.go.kr/1613000/RTMSDataSvcAptTradeDev/getRTMSDataSvcAptTradeDev'\n",
    "\n",
    "    params = {\n",
    "        'serviceKey': API_KEY,\n",
    "        'LAWD_CD': lawd_cd,     # 예: 11110\n",
    "        'DEAL_YMD': deal_ymd,   # 예: 202407\n",
    "        'pageNo': 1,\n",
    "        'numOfRows': num_of_rows,\n",
    "        'type': 'json'\n",
    "    }\n",
    "\n",
    "    try:\n",
    "        response = requests.get(url, params=params, timeout=5)\n",
    "        response.raise_for_status()  # 오류코드 발생 시 예외 발생\n",
    "        data = response.json()\n",
    "        items = data.get('response', {}).get('body', {}).get('items', {}).get('item', [])\n",
    "        if not items:\n",
    "            print(\"데이터가 없습니다.\")\n",
    "            return None\n",
    "        df = pd.DataFrame(items)\n",
    "        print(df.head())\n",
    "        return df\n",
    "    except requests.exceptions.HTTPError as errh:\n",
    "        print(f\"HTTP 에러: {errh}\")\n",
    "    except requests.exceptions.ConnectionError as errc:\n",
    "        print(f\"연결 오류: {errc}\")\n",
    "    except requests.exceptions.Timeout as errt:\n",
    "        print(f\"타임아웃: {errt}\")\n",
    "    except requests.exceptions.RequestException as err:\n",
    "        print(f\"요청 실패: {err}\")\n",
    "    except Exception as e:\n",
    "        print(f\"기타 오류 발생: {e}\")\n",
    "    return None\n",
    "\n",
    "# 실제 실행\n",
    "get_apt_trade_data('11110', '202407')"
   ]
  },
  {
   "cell_type": "code",
   "execution_count": null,
   "id": "53880165-3aa8-4f76-895c-84c68c7d8ccc",
   "metadata": {},
   "outputs": [],
   "source": [
    "import requests\n",
    "import pandas as pd\n",
    "\n",
    "EDU_CODE = 'B10'                  # 교육청 코드\n",
    "SCHOOL_CODE = '7021105'\n",
    "TARGET_DATE = '20241030' # 수요일\n",
    "API_KEY = '6c74794f58666231373373564b6549'\n",
    "\n",
    "def get_school_name(edu_code, school_code):\n",
    "    print(f'학교 이름 조회 에정 : 교육청={edu_code}, 학교 코드= {school_code}')\n",
    "    url = 'https://open.neis.go.kr/hub/schoolInfo'\n",
    "    params = {\n",
    "        'KEY' : API_KEY,\n",
    "        'Type' : 'json',\n",
    "        'ATPT_OFCDC_SC_CODE' : edu_code,     # 시도교육청코드\n",
    "        'SD_SCHUL_CODE' : school_code        # 행정표준코드\n",
    "    }\n",
    "    try:\n",
    "        res = requests.get(url, params=params, timeout=5)\n",
    "        print(f\"응답코드 : {res.status_code}\")\n",
    "        if res.status_code ==200:\n",
    "            data = res.json()\n",
    "            if \"schoolInfo\" in data:\n",
    "                # 여기 코드가 핵심\n",
    "                name = data[\"schoolInfo\"][1][\"row\"][0][\"SCHUL_NM\"]    # school_info 접속 => 하나하나 접속해서 원하는 정보로 접근\n",
    "                print(f\"학교명: {name}\")\n",
    "                return name\n",
    "            else:\n",
    "                print(\"해당학교는 존재하지 않음\", data)\n",
    "        else:\n",
    "            print(\"응답 실패\", res.text)\n",
    "    except Exception as e:\n",
    "        print(f\"학교명 정보 조회 오류 : {e}\")\n",
    "    return \"학교명조회불가\"\n",
    "\n",
    "get_school_name(EDU_CODE, SCHOOL_CODE)"
   ]
  },
  {
   "cell_type": "code",
   "execution_count": 18,
   "id": "3a612e52-7266-4516-be11-7662ca63f51a",
   "metadata": {},
   "outputs": [
    {
     "name": "stdout",
     "output_type": "stream",
     "text": [
      "<Response [200]>\n"
     ]
    }
   ],
   "source": [
    "import requests\n",
    "print(requests.get(\"https://www.naver.com\"))"
   ]
  },
  {
   "cell_type": "code",
   "execution_count": 25,
   "id": "5aa4996a-a6ba-45ef-b7db-249150aefe24",
   "metadata": {},
   "outputs": [
    {
     "name": "stdout",
     "output_type": "stream",
     "text": [
      "🚨 오류: Expecting value: line 1 column 1 (char 0)\n"
     ]
    }
   ],
   "source": [
    "import requests\n",
    "import pandas as pd\n",
    "\n",
    "API_KEY = 'IpbCbmSrYOJa2sR+RH6WDr7VH4yhzqR0u2/My/gFrOMRoLuo1SS4r+SqwtsHkBemT7e/xS4B/GnQysPLp/za8A=='\n",
    "\n",
    "def get_apt_trade_data(lawd_cd, deal_ymd):\n",
    "    url = \"http://apis.data.go.kr/1613000/RTMSDataSvcAptTradeDev/getRTMSDataSvcAptTradeDev\"\n",
    "    params = {\n",
    "        'serviceKey': API_KEY,\n",
    "        'LAWD_CD': lawd_cd,\n",
    "        'DEAL_YMD': deal_ymd,\n",
    "        'pageNo': 1,\n",
    "        'numOfRows': 10,\n",
    "        'type': 'json'\n",
    "    }\n",
    "\n",
    "    try:\n",
    "        res = requests.get(url, params=params, timeout=10)\n",
    "        res.raise_for_status()\n",
    "        data = res.json()\n",
    "        items = data.get('response', {}).get('body', {}).get('items', {}).get('item', [])\n",
    "        if not items:\n",
    "            print(\"📭 데이터 없음.\")\n",
    "            return\n",
    "        df = pd.DataFrame(items)\n",
    "        print(df.head())\n",
    "        return df\n",
    "    except Exception as e:\n",
    "        print(\"🚨 오류:\", e)\n",
    "\n",
    "# 실행\n",
    "get_apt_trade_data('11110', '202407')\n"
   ]
  },
  {
   "cell_type": "code",
   "execution_count": null,
   "id": "8f4f4918-e65d-4784-a024-67b6024ab119",
   "metadata": {},
   "outputs": [],
   "source": []
  }
 ],
 "metadata": {
  "kernelspec": {
   "display_name": "Python 3 (ipykernel)",
   "language": "python",
   "name": "python3"
  },
  "language_info": {
   "codemirror_mode": {
    "name": "ipython",
    "version": 3
   },
   "file_extension": ".py",
   "mimetype": "text/x-python",
   "name": "python",
   "nbconvert_exporter": "python",
   "pygments_lexer": "ipython3",
   "version": "3.11.12"
  }
 },
 "nbformat": 4,
 "nbformat_minor": 5
}
