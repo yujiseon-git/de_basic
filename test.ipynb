{
 "cells": [
  {
   "cell_type": "markdown",
   "id": "13df3db5-377f-41a7-bd66-030345bd33d1",
   "metadata": {},
   "source": [
    "# 웹 크롤링\n",
    "- 목표 : 웹 크롤링 후 DB 연동까지"
   ]
  },
  {
   "cell_type": "code",
   "execution_count": 13,
   "id": "dd164f32-7a6c-44f2-aef0-ed6298474301",
   "metadata": {},
   "outputs": [],
   "source": [
    "from selenium import webdriver\n",
    "from selenium.webdriver.chrome.service import Service\n",
    "from selenium.webdriver.common.by import By\n",
    "from webdriver_manager.chrome import ChromeDriverManager\n",
    "import time\n",
    "\n",
    "# 1. Chrome 드라이버 설정\n",
    "options = webdriver.ChromeOptions()\n",
    "options.add_argument(\"--start-maximized\")  # 창 띄우기\n",
    "driver = webdriver.Chrome(service=Service(ChromeDriverManager().install()), options=options)\n",
    "\n",
    "# 2. 사이트 접속\n",
    "driver.get(\"https://quotes.toscrape.com\")\n",
    "time.sleep(2)  # 로딩 대기\n",
    "\n",
    "# 3. \"Login\" 버튼 클릭\n",
    "login_link = driver.find_element(By.LINK_TEXT, \"Login\")\n",
    "login_link.click()\n",
    "\n",
    "# 4. 결과 확인용 대기\n",
    "time.sleep(3)\n",
    "\n",
    "# driver.quit()"
   ]
  },
  {
   "cell_type": "markdown",
   "id": "9656013f-d566-46d2-a704-3470c17c65a5",
   "metadata": {},
   "source": [
    "# 웹사이트에서 직접 크롤링 (추천X)\n",
    "- 실무에서 쓰지않음\n",
    "- 기업에서 자주 바꿈 => 유지보수 불가능"
   ]
  },
  {
   "cell_type": "code",
   "execution_count": null,
   "id": "de5ec70e-2f97-472e-94f8-e6030bfaee6e",
   "metadata": {},
   "outputs": [],
   "source": [
    "import requests\n",
    "from bs4 import BeautifulSoup\n",
    "\n",
    "# 1. URL 설정\n",
    "url = \"http://quotes.toscrape.com/page/1/\"\n",
    "\n",
    "# 2. HTTP 요청\n",
    "response = requests.get(url)\n",
    "soup = BeautifulSoup(response.text, \"html.parser\")\n",
    "\n",
    "# 3. 명언과 저자 추출\n",
    "quotes = soup.find_all(\"div\", class_=\"quote\")\n",
    "\n",
    "for quote in quotes:\n",
    "    text = quote.find(\"span\", class_=\"text\").get_text()\n",
    "    author = quote.find(\"small\", class_=\"author\").get_text()\n",
    "    print(f\"{text} — {author}\")"
   ]
  },
  {
   "cell_type": "markdown",
   "id": "d939eadc-49d8-4ac7-894e-0ef396db83dc",
   "metadata": {},
   "source": [
    "# NY Times 웹 크롤링 (API)"
   ]
  },
  {
   "cell_type": "code",
   "execution_count": 8,
   "id": "1893c2b0-10da-400f-8eb3-87234ca4635f",
   "metadata": {},
   "outputs": [
    {
     "data": {
      "text/html": [
       "<div>\n",
       "<style scoped>\n",
       "    .dataframe tbody tr th:only-of-type {\n",
       "        vertical-align: middle;\n",
       "    }\n",
       "\n",
       "    .dataframe tbody tr th {\n",
       "        vertical-align: top;\n",
       "    }\n",
       "\n",
       "    .dataframe thead th {\n",
       "        text-align: right;\n",
       "    }\n",
       "</style>\n",
       "<table border=\"1\" class=\"dataframe\">\n",
       "  <thead>\n",
       "    <tr style=\"text-align: right;\">\n",
       "      <th></th>\n",
       "      <th>uri</th>\n",
       "      <th>url</th>\n",
       "      <th>id</th>\n",
       "      <th>asset_id</th>\n",
       "      <th>source</th>\n",
       "      <th>published_date</th>\n",
       "      <th>updated</th>\n",
       "      <th>section</th>\n",
       "      <th>subsection</th>\n",
       "      <th>nytdsection</th>\n",
       "      <th>...</th>\n",
       "      <th>byline</th>\n",
       "      <th>type</th>\n",
       "      <th>title</th>\n",
       "      <th>abstract</th>\n",
       "      <th>des_facet</th>\n",
       "      <th>org_facet</th>\n",
       "      <th>per_facet</th>\n",
       "      <th>geo_facet</th>\n",
       "      <th>media</th>\n",
       "      <th>eta_id</th>\n",
       "    </tr>\n",
       "  </thead>\n",
       "  <tbody>\n",
       "    <tr>\n",
       "      <th>0</th>\n",
       "      <td>nyt://article/145cfe92-7c5f-5da3-8ecf-6167d2e7...</td>\n",
       "      <td>https://www.nytimes.com/2025/06/17/nyregion/br...</td>\n",
       "      <td>100000010234457</td>\n",
       "      <td>100000010234457</td>\n",
       "      <td>New York Times</td>\n",
       "      <td>2025-06-17</td>\n",
       "      <td>2025-06-17 18:49:31</td>\n",
       "      <td>New York</td>\n",
       "      <td></td>\n",
       "      <td>new york</td>\n",
       "      <td>...</td>\n",
       "      <td>By Luis Ferré-Sadurní</td>\n",
       "      <td>Article</td>\n",
       "      <td>Brad Lander Is Arrested by ICE Agents at Immig...</td>\n",
       "      <td>Mr. Lander, the New York City comptroller and ...</td>\n",
       "      <td>[Immigration and Emigration, Elections, Mayors]</td>\n",
       "      <td>[Immigration and Customs Enforcement (US), Off...</td>\n",
       "      <td>[Lander, Brad]</td>\n",
       "      <td>[]</td>\n",
       "      <td>[{'type': 'image', 'subtype': 'photo', 'captio...</td>\n",
       "      <td>0</td>\n",
       "    </tr>\n",
       "  </tbody>\n",
       "</table>\n",
       "<p>1 rows × 22 columns</p>\n",
       "</div>"
      ],
      "text/plain": [
       "                                                 uri  \\\n",
       "0  nyt://article/145cfe92-7c5f-5da3-8ecf-6167d2e7...   \n",
       "\n",
       "                                                 url               id  \\\n",
       "0  https://www.nytimes.com/2025/06/17/nyregion/br...  100000010234457   \n",
       "\n",
       "          asset_id          source published_date              updated  \\\n",
       "0  100000010234457  New York Times     2025-06-17  2025-06-17 18:49:31   \n",
       "\n",
       "    section subsection nytdsection  ...                 byline     type  \\\n",
       "0  New York               new york  ...  By Luis Ferré-Sadurní  Article   \n",
       "\n",
       "                                               title  \\\n",
       "0  Brad Lander Is Arrested by ICE Agents at Immig...   \n",
       "\n",
       "                                            abstract  \\\n",
       "0  Mr. Lander, the New York City comptroller and ...   \n",
       "\n",
       "                                         des_facet  \\\n",
       "0  [Immigration and Emigration, Elections, Mayors]   \n",
       "\n",
       "                                           org_facet       per_facet  \\\n",
       "0  [Immigration and Customs Enforcement (US), Off...  [Lander, Brad]   \n",
       "\n",
       "  geo_facet                                              media eta_id  \n",
       "0        []  [{'type': 'image', 'subtype': 'photo', 'captio...      0  \n",
       "\n",
       "[1 rows x 22 columns]"
      ]
     },
     "execution_count": 8,
     "metadata": {},
     "output_type": "execute_result"
    }
   ],
   "source": [
    "import requests\n",
    "import pandas as pd\n",
    "\n",
    "API_KEY = 'I7b7XyEIcgfyZmPLz1KTlcZKnHpjzP33' # key 값\n",
    "\n",
    "url = 'https://api.nytimes.com/svc/mostpopular/v2/viewed/1.json' # 각 사이트마다 다름\n",
    "params = {\n",
    "    \"api-key\" : API_KEY\n",
    "}\n",
    "\n",
    "response = requests.get(url, params=params)\n",
    "\n",
    "data = response.json() # json\n",
    "df = pd.json_normalize(data['results']) # json 형태를 데이터프레임 형태로 변환\n",
    "df.head(1)"
   ]
  },
  {
   "cell_type": "markdown",
   "id": "b014e86c-5b00-4670-a7e0-e23dc5d829b3",
   "metadata": {},
   "source": [
    "# 단일 학교 1일 급식 정보 가져오기"
   ]
  },
  {
   "cell_type": "code",
   "execution_count": 1,
   "id": "d17badb9-33b9-4824-970c-22966144b7b7",
   "metadata": {},
   "outputs": [
    {
     "name": "stdout",
     "output_type": "stream",
     "text": [
      "학교 이름 조회 에정 : 교육청=B10, 학교 코드= 7021105\n",
      "응답코드 : 200\n",
      "학교명: 서울이문초등학교\n"
     ]
    },
    {
     "data": {
      "text/plain": [
       "'서울이문초등학교'"
      ]
     },
     "execution_count": 1,
     "metadata": {},
     "output_type": "execute_result"
    }
   ],
   "source": [
    "import requests\n",
    "import pandas as pd\n",
    "\n",
    "EDU_CODE = 'B10'                  # 교육청 코드\n",
    "SCHOOL_CODE = '7021105'           # 학교 코드\n",
    "API_KEY = '3c3bbe3ed1194b93a7aa44e8e81adee6'\n",
    "TARGET_DATE = '20241030' # 수요일\n",
    "\n",
    "# 학교의 이름 가져오는 함수 \n",
    "def get_school_name(edu_code, school_code):\n",
    "    print(f'학교 이름 조회 에정 : 교육청={edu_code}, 학교 코드= {school_code}')\n",
    "    url = 'https://open.neis.go.kr/hub/schoolInfo'\n",
    "    params = {\n",
    "        'KEY' : API_KEY,\n",
    "        'Type' : 'json',\n",
    "        'ATPT_OFCDC_SC_CODE' : edu_code,     # 시도교육청코드\n",
    "        'SD_SCHUL_CODE' : school_code        # 행정표준코드\n",
    "    }\n",
    "    try:\n",
    "        res = requests.get(url, params=params, timeout=5)\n",
    "        print(f\"응답코드 : {res.status_code}\")\n",
    "        if res.status_code ==200:\n",
    "            data = res.json()\n",
    "            if \"schoolInfo\" in data:\n",
    "                # 여기 코드가 핵심\n",
    "                name = data[\"schoolInfo\"][1][\"row\"][0][\"SCHUL_NM\"]    # school_info 접속 => 하나하나 접속해서 원하는 정보로 접근\n",
    "                print(f\"학교명: {name}\")\n",
    "                return name\n",
    "            else:\n",
    "                print(\"해당학교는 존재하지 않음\", data)\n",
    "        else:\n",
    "            print(\"응답 실패\", res.text)\n",
    "    except Exception as e:\n",
    "        print(f\"학교명 정보 조회 오류 : {e}\")\n",
    "    return \"학교명조회불가\"\n",
    "\n",
    "get_school_name(EDU_CODE, SCHOOL_CODE)"
   ]
  },
  {
   "cell_type": "code",
   "execution_count": 2,
   "id": "851b4d13-e766-428a-9300-37cbd9d66bf5",
   "metadata": {},
   "outputs": [
    {
     "name": "stdout",
     "output_type": "stream",
     "text": [
      "학교 이름 조회 에정 : 교육청=B10, 학교 코드= 7021105\n",
      "응답코드 : 200\n",
      "학교명: 서울이문초등학교\n",
      "급식 정보 조회 중: 날짜=20241030\n",
      "mealService 응답코드: 200\n",
      "급식 데이터 수: 1\n",
      "수집된 행 수: 1\n",
      "  교육청코드     학교코드       학교명      급식일자 식사명  \\\n",
      "0   B10  7021105  서울이문초등학교  20241030  중식   \n",
      "\n",
      "                                                급식식단  \n",
      "0  해물죽 (9.13.17.18)<br/>로제스파게티(우유) (1.2.5.6.12.13...  \n",
      "CSV 저장 완료: 서울_초등학교_급식_20241030.csv\n"
     ]
    }
   ],
   "source": [
    "def get_meal_info(edu_code, school_code):\n",
    "    print(f\"급식 정보 조회 중: 날짜={TARGET_DATE}\")\n",
    "    url = \"https://open.neis.go.kr/hub/mealServiceDietInfo\"\n",
    "    params = {\n",
    "        \"KEY\": API_KEY,\n",
    "        \"Type\": \"json\",\n",
    "        \"ATPT_OFCDC_SC_CODE\": edu_code,\n",
    "        \"SD_SCHUL_CODE\": school_code,\n",
    "        \"MLSV_YMD\": TARGET_DATE\n",
    "    }\n",
    "    try:\n",
    "        res = requests.get(url, params=params, timeout=5)\n",
    "        print(f\"mealService 응답코드: {res.status_code}\")\n",
    "        if res.status_code == 200:\n",
    "            data = res.json()\n",
    "            if \"mealServiceDietInfo\" in data:\n",
    "                print(f\"급식 데이터 수: {len(data['mealServiceDietInfo'][1]['row'])}\")\n",
    "                return data[\"mealServiceDietInfo\"][1][\"row\"]\n",
    "            else:\n",
    "                print(\"mealServiceDietInfo 키 없음:\", data)\n",
    "        else:\n",
    "            print(\"응답 실패:\", res.text)\n",
    "    except Exception as e:\n",
    "        print(f\"급식 정보 조회 오류: {e}\")\n",
    "    return []\n",
    "\n",
    "# 데이터 수집\n",
    "school_name = get_school_name(EDU_CODE, SCHOOL_CODE)\n",
    "meals = get_meal_info(EDU_CODE, SCHOOL_CODE)\n",
    "\n",
    "data = []\n",
    "for meal in meals:\n",
    "    data.append({\n",
    "        \"교육청코드\": EDU_CODE,\n",
    "        \"학교코드\": SCHOOL_CODE,\n",
    "        \"학교명\": school_name,\n",
    "        \"급식일자\": meal.get(\"MLSV_YMD\"),\n",
    "        \"식사명\": meal.get(\"MMEAL_SC_NM\"),\n",
    "        \"급식식단\": meal.get(\"DDISH_NM\")\n",
    "    })\n",
    "\n",
    "df = pd.DataFrame(data)\n",
    "print(\"수집된 행 수:\", len(df))\n",
    "print(df.head())\n",
    "\n",
    "df.to_csv(\"서울_초등학교_급식_20241030.csv\", index=False, encoding=\"utf-8-sig\")\n",
    "print(\"CSV 저장 완료: 서울_초등학교_급식_20241030.csv\")"
   ]
  },
  {
   "cell_type": "code",
   "execution_count": null,
   "id": "c2161b21-d51d-4eae-bab8-a10a2f848ae9",
   "metadata": {},
   "outputs": [],
   "source": [
    "import requests\n",
    "import pandas as pd\n",
    "\n",
    "EDU_CODE = 'B10'                  # 교육청 코드\n",
    "SCHOOL_CODE = '7021105'           # 학교 코드\n",
    "API_KEY = '3c3bbe3ed1194b93a7aa44e8e81adee6'\n",
    "TARGET_DATE = '20241030' # 수요일\n",
    "\n",
    "# 학교의 이름 가져오는 함수 \n",
    "def get_school_name(edu_code, school_code):\n",
    "    print(f'학교 이름 조회 에정 : 교육청={edu_code}, 학교 코드= {school_code}')\n",
    "    url = 'https://open.neis.go.kr/hub/schoolInfo'\n",
    "    params = {\n",
    "        'KEY' : API_KEY,\n",
    "        'Type' : 'json',\n",
    "        'ATPT_OFCDC_SC_CODE' : edu_code,     # 시도교육청코드\n",
    "        'SD_SCHUL_CODE' : school_code        # 행정표준코드\n",
    "    }\n",
    "    try:\n",
    "        res = requests.get(url, params=params, timeout=5)\n",
    "        print(f\"응답코드 : {res.status_code}\")\n",
    "        if res.status_code ==200:\n",
    "            data = res.json()\n",
    "            if \"schoolInfo\" in data:\n",
    "                # 여기 코드가 핵심\n",
    "                name = data[\"schoolInfo\"][1][\"row\"][0][\"SCHUL_NM\"]    # school_info 접속 => 하나하나 접속해서 원하는 정보로 접근\n",
    "                print(f\"학교명: {name}\")\n",
    "                return name\n",
    "            else:\n",
    "                print(\"해당학교는 존재하지 않음\", data)\n",
    "        else:\n",
    "            print(\"응답 실패\", res.text)\n",
    "    except Exception as e:\n",
    "        print(f\"학교명 정보 조회 오류 : {e}\")\n",
    "    return \"학교명조회불가\"\n",
    "\n",
    "def get_meal_info(edu_code, school_code):\n",
    "    print(f\"급식 정보 조회 중: 날짜={TARGET_DATE}\")\n",
    "    url = \"https://open.neis.go.kr/hub/mealServiceDietInfo\"\n",
    "    params = {\n",
    "        \"KEY\": API_KEY,\n",
    "        \"Type\": \"json\",\n",
    "        \"ATPT_OFCDC_SC_CODE\": edu_code,\n",
    "        \"SD_SCHUL_CODE\": school_code,\n",
    "        \"MLSV_YMD\": TARGET_DATE\n",
    "    }\n",
    "    try:\n",
    "        res = requests.get(url, params=params, timeout=5)\n",
    "        print(f\"mealService 응답코드: {res.status_code}\")\n",
    "        if res.status_code == 200:\n",
    "            data = res.json()\n",
    "            if \"mealServiceDietInfo\" in data:\n",
    "                print(f\"급식 데이터 수: {len(data['mealServiceDietInfo'][1]['row'])}\")\n",
    "                return data[\"mealServiceDietInfo\"][1][\"row\"]\n",
    "            else:\n",
    "                print(\"mealServiceDietInfo 키 없음:\", data)\n",
    "        else:\n",
    "            print(\"응답 실패:\", res.text)\n",
    "    except Exception as e:\n",
    "        print(f\"급식 정보 조회 오류: {e}\")\n",
    "    return []\n",
    "\n",
    "# 데이터 수집\n",
    "school_name = get_school_name(EDU_CODE, SCHOOL_CODE)\n",
    "meals = get_meal_info(EDU_CODE, SCHOOL_CODE)\n",
    "\n",
    "data = []\n",
    "for meal in meals:\n",
    "    data.append({\n",
    "        \"교육청코드\": EDU_CODE,\n",
    "        \"학교코드\": SCHOOL_CODE,\n",
    "        \"학교명\": school_name,\n",
    "        \"급식일자\": meal.get(\"MLSV_YMD\"),\n",
    "        \"식사명\": meal.get(\"MMEAL_SC_NM\"),\n",
    "        \"급식식단\": meal.get(\"DDISH_NM\")\n",
    "    })\n",
    "\n",
    "df = pd.DataFrame(data)\n",
    "print(\"수집된 행 수:\", len(df))\n",
    "print(df.head())\n",
    "\n",
    "df.to_csv(\"서울_초등학교_급식_20241030.csv\", index=False, encoding=\"utf-8-sig\")\n",
    "print(\"CSV 저장 완료: 서울_초등학교_급식_20241030.csv\")"
   ]
  },
  {
   "cell_type": "markdown",
   "id": "0506934a-f6dc-41d9-a4e4-3e61ef77289e",
   "metadata": {},
   "source": [
    "# 1개의 학교의 한달 데이터 수집\n",
    "- 날짜만 변경"
   ]
  },
  {
   "cell_type": "code",
   "execution_count": 3,
   "id": "8fe8cf08-72d7-4be9-bc36-0e43181fa160",
   "metadata": {},
   "outputs": [
    {
     "name": "stdout",
     "output_type": "stream",
     "text": [
      "2025-06-18 12:48:16.494880\n",
      "2025-05-19 12:48:16.494880\n"
     ]
    },
    {
     "data": {
      "text/plain": [
       "('20250519', '20250618')"
      ]
     },
     "execution_count": 3,
     "metadata": {},
     "output_type": "execute_result"
    }
   ],
   "source": [
    "from datetime import datetime, timedelta\n",
    "today = datetime.today()\n",
    "one_month_age = today - timedelta(days=30)\n",
    "print(today)\n",
    "print(one_month_age)\n",
    "\n",
    "FROM_DATE = one_month_age.strftime('%Y%m%d')\n",
    "TO_DATE = today.strftime('%Y%m%d')\n",
    "\n",
    "FROM_DATE, TO_DATE"
   ]
  },
  {
   "cell_type": "code",
   "execution_count": 4,
   "id": "0fcd9ab5-5a12-46a6-9406-ecffa8a172f3",
   "metadata": {},
   "outputs": [
    {
     "name": "stdout",
     "output_type": "stream",
     "text": [
      "학교 이름 조회 에정 : 교육청=B10, 학교 코드= 7021105\n",
      "응답코드 : 200\n",
      "학교명: 서울이문초등학교\n",
      "급식 정보 조회 중: 날짜=20241030\n",
      "mealService 응답코드: 200\n",
      "mealServiceDietInfo 키 없음: {'RESULT': {'CODE': 'ERROR-300', 'MESSAGE': '필수 값이 누락되어 있습니다. 요청인자를 참고 하십시오.'}}\n",
      "수집된 행 수: 0\n",
      "Empty DataFrame\n",
      "Columns: []\n",
      "Index: []\n"
     ]
    }
   ],
   "source": [
    "import requests\n",
    "import pandas as pd\n",
    "from datetime import datetime, timedelta\n",
    "\n",
    "EDU_CODE = 'B10'                  # 교육청 코드\n",
    "SCHOOL_CODE = '7021105'           # 학교 코드\n",
    "API_KEY = '3c3bbe3ed1194b93a7aa44e8e81adee6'\n",
    "\n",
    "# 최근 한달 기간 설정\n",
    "today = datetime.today()\n",
    "one_month_age = today - timedelta(days=30)\n",
    "FROM_DATE = one_month_age.strftime('%Y%m%d')\n",
    "TO_DATE = today.strftime('%Y%m%d')\n",
    "\n",
    "# 학교의 이름 가져오는 함수 \n",
    "def get_school_name(edu_code, school_code):\n",
    "    print(f'학교 이름 조회 에정 : 교육청={edu_code}, 학교 코드= {school_code}')\n",
    "    url = 'https://open.neis.go.kr/hub/schoolInfo'\n",
    "    params = {\n",
    "        'KEY' : API_KEY,\n",
    "        'Type' : 'json',\n",
    "        'ATPT_OFCDC_SC_CODE' : edu_code,     # 시도교육청코드\n",
    "        'SD_SCHUL_CODE' : school_code       # 행정표준코드\n",
    "    }\n",
    "    try:\n",
    "        res = requests.get(url, params=params, timeout=5)\n",
    "        print(f\"응답코드 : {res.status_code}\")\n",
    "        if res.status_code == 200:\n",
    "            data = res.json()\n",
    "            if \"schoolInfo\" in data:\n",
    "                # 여기 코드가 핵심\n",
    "                name = data[\"schoolInfo\"][1][\"row\"][0][\"SCHUL_NM\"]    # school_info 접속 => 하나하나 접속해서 원하는 정보로 접근\n",
    "                print(f\"학교명: {name}\")\n",
    "                return name\n",
    "            else:\n",
    "                print(\"해당학교는 존재하지 않음\", data)\n",
    "        else:\n",
    "            print(\"응답 실패\", res.text)\n",
    "    except Exception as e:\n",
    "        print(f\"학교명 정보 조회 오류 : {e}\")\n",
    "    return \"학교명조회불가\"\n",
    "\n",
    "def get_meal_info(edu_code, school_code, from_date, to_date):\n",
    "    print(f\"급식 정보 조회 중: 날짜={TARGET_DATE}\")\n",
    "    url = \"https://open.neis.go.kr/hub/mealServiceDietInfo\"\n",
    "    params = {\n",
    "        \"KEY\": API_KEY,\n",
    "        \"Type\": \"json\",\n",
    "        \"ATPT_OFCDC_SC_CODE\": edu_code,\n",
    "        \"MLSV_FROM_YMD\": from_date,\n",
    "        \"MLSV_TO_YMD\": to_date,\n",
    "        \"pIndex\" : 1,\n",
    "        \"pSize\" : 100\n",
    "    }\n",
    "    try:\n",
    "        res = requests.get(url, params=params, timeout=5)\n",
    "        print(f\"mealService 응답코드: {res.status_code}\")\n",
    "        if res.status_code == 200:\n",
    "            data = res.json()\n",
    "            if \"mealServiceDietInfo\" in data:\n",
    "                print(f\"급식 데이터 수: {len(data['mealServiceDietInfo'][1]['row'])}\")\n",
    "                return data[\"mealServiceDietInfo\"][1][\"row\"]\n",
    "            else:\n",
    "                print(\"mealServiceDietInfo 키 없음:\", data)\n",
    "        else:\n",
    "            print(\"응답 실패:\", res.text)\n",
    "    except Exception as e:\n",
    "        print(f\"급식 정보 조회 오류: {e}\")\n",
    "    return []\n",
    "\n",
    "# 데이터 수집\n",
    "school_name = get_school_name(EDU_CODE, SCHOOL_CODE)\n",
    "meals = get_meal_info(EDU_CODE, SCHOOL_CODE, FROM_DATE, TO_DATE)\n",
    "\n",
    "data = []\n",
    "for meal in meals:\n",
    "    data.append({\n",
    "        \"교육청코드\": EDU_CODE,\n",
    "        \"학교코드\": SCHOOL_CODE,\n",
    "        \"학교명\": school_name,\n",
    "        \"급식일자\": meal.get(\"MLSV_YMD\"),\n",
    "        \"식사명\": meal.get(\"MMEAL_SC_NM\"),\n",
    "        \"급식식단\": meal.get(\"DDISH_NM\")\n",
    "    })\n",
    "\n",
    "df = pd.DataFrame(data)\n",
    "print(\"수집된 행 수:\", len(df))\n",
    "print(df.head())\n",
    "\n",
    "#df.to_csv(\"서울_초등학교_급식_20241030.csv\", index=False, encoding=\"utf-8-sig\")\n",
    "#print(\"CSV 저장 완료: 서울_초등학교_급식_20241030.csv\")"
   ]
  },
  {
   "cell_type": "markdown",
   "id": "45e83e3e-9dfc-4bab-ae30-f3925bd7944a",
   "metadata": {},
   "source": [
    "# 서울에 있는 모든 고등학교 최근 1개월 데이터 수정\n",
    "- 가장 중요한 건, 학교명과 학교코드가 필요"
   ]
  },
  {
   "cell_type": "code",
   "execution_count": 6,
   "id": "9638d151-6d68-43ac-84d1-81a97e7994fd",
   "metadata": {},
   "outputs": [
    {
     "ename": "NameError",
     "evalue": "name 'tqdm' is not defined",
     "output_type": "error",
     "traceback": [
      "\u001b[31m---------------------------------------------------------------------------\u001b[39m",
      "\u001b[31mNameError\u001b[39m                                 Traceback (most recent call last)",
      "\u001b[36mCell\u001b[39m\u001b[36m \u001b[39m\u001b[32mIn[6]\u001b[39m\u001b[32m, line 37\u001b[39m\n\u001b[32m     34\u001b[39m     \u001b[38;5;28;01mreturn\u001b[39;00m []\n\u001b[32m     36\u001b[39m all_data = []\n\u001b[32m---> \u001b[39m\u001b[32m37\u001b[39m \u001b[38;5;28;01mfor\u001b[39;00m school_code, school_name \u001b[38;5;129;01min\u001b[39;00m \u001b[43mtqdm\u001b[49m(highschool_list, desc=\u001b[33m\"\u001b[39m\u001b[33m고등학교 급식 조회\u001b[39m\u001b[33m\"\u001b[39m):\n\u001b[32m     38\u001b[39m     \u001b[38;5;28mprint\u001b[39m(school_code, school_name)\n\u001b[32m     39\u001b[39m     meals = get_meal_info(EDU_CODE, school_code, FROM_DATE, TO_DATE)\n",
      "\u001b[31mNameError\u001b[39m: name 'tqdm' is not defined"
     ]
    }
   ],
   "source": [
    "import requests\n",
    "import pandas as pd\n",
    "from datetime import datetime, timedelta\n",
    "\n",
    "EDU_CODE = 'B10'                  # 교육청 코드\n",
    "SCHOOL_CODE = '7021105'           # 학교 코드\n",
    "API_KEY = '3c3bbe3ed1194b93a7aa44e8e81adee6'\n",
    "\n",
    "\n",
    "# 최근 한달 기간 설정\n",
    "today = datetime.today()\n",
    "one_month_ago = today - timedelta(days=30)\n",
    "FROM_DATE = one_month_ago.strftime('%Y%m%d')\n",
    "TO_DATE = today.strftime('%Y%m%d')\n",
    "\n",
    "def get_meal_info(edu_code, school_code, from_date, to_date):\n",
    "    print(f\"급식 정보 조회 중: 날짜={TARGET_DATE}\")\n",
    "    url = \"https://open.neis.go.kr/hub/mealServiceDietInfo\"\n",
    "    params = {\n",
    "        \"KEY\": API_KEY,\n",
    "        \"Type\": \"json\",\n",
    "        \"ATPT_OFCDC_SC_CODE\": edu_code,\n",
    "        \"SD_SCHUL_CODE\": school_code,\n",
    "        \"MLSV_FROM_YMD\": from_date, \n",
    "        \"MLSV_TO_YMD\" : to_date, \n",
    "        \"pIndex\" : 1, \n",
    "        \"pSize\" : 100\n",
    "    }\n",
    "    try:\n",
    "        res = requests.get(url, params=params, timeout=5)\n",
    "        print(f\"mealService 응답코드: {res.status_code}\")\n",
    "        if res.status_code == 200:\n",
    "            data = res.json()\n",
    "            if \"mealServiceDietInfo\" in data:\n",
    "                print(f\"급식 데이터 수: {len(data['mealServiceDietInfo'][1]['row'])}\")\n",
    "                return data[\"mealServiceDietInfo\"][1][\"row\"]\n",
    "            else:\n",
    "                print(\"mealServiceDietInfo 키 없음:\", data)\n",
    "        else:\n",
    "            print(\"응답 실패:\", res.text)\n",
    "    except Exception as e:\n",
    "        print(f\"급식 정보 조회 오류: {e}\")\n",
    "    return []\n",
    "\n",
    "all_data = []\n",
    "for school_code, school_name in tqdm(highschool_list, desc=\"고등학교 급식 조회\"):\n",
    "    print(school_code, school_name)\n",
    "    meals = get_meal_info(EDU_CODE, school_code, FROM_DATE, TO_DATE)\n",
    "    for meal in meals:\n",
    "        all_data.append({\n",
    "            \"교육청코드\": EDU_CODE,\n",
    "            \"학교코드\": school_code,\n",
    "            \"학교명\": school_name,\n",
    "            \"급식일자\": meal.get(\"MLSV_YMD\"),\n",
    "            \"식사명\": meal.get(\"MMEAL_SC_NM\"),\n",
    "            \"급식식단\": meal.get(\"DDISH_NM\")\n",
    "        })\n",
    "    time.sleep(0.1)\n",
    "\n",
    "# 저장\n",
    "df = pd.DataFrame(all_data)\n",
    "print(\"수집된 급식 행 수:\", len(df))\n",
    "print(df.head())"
   ]
  },
  {
   "cell_type": "code",
   "execution_count": null,
   "id": "9b1da69e-22c2-443c-bf10-118880812f25",
   "metadata": {},
   "outputs": [],
   "source": [
    "df.to_csv(\"서울_고등학교_급식정보.csv\", index=False, encoding=\"utf-8-sig\")\n",
    "print(\"CSV 저장 완료: 서울_고등학교_급식정보_20241030.csv\")"
   ]
  },
  {
   "cell_type": "markdown",
   "id": "be4374df-bef9-459c-a090-45bcb3289fdd",
   "metadata": {},
   "source": [
    "# 전국시도교육청 기반으로 고등학교 전체 급식데이터 수집\n",
    "ChatGPt 사용하지 않고 진행 (반복문~반복문~조건문, 기초문법 확장한 개념)"
   ]
  },
  {
   "cell_type": "code",
   "execution_count": null,
   "id": "c2b3724c-b317-4180-9c23-cf589db9617e",
   "metadata": {},
   "outputs": [],
   "source": [
    "EDU_CODES = [\n",
    "    \"B10\", \"C10\", \"D10\", \"E10\", \"F10\", \"G10\", \"H10\", \"I10\", \"J10\",\n",
    "    \"K10\", \"M10\", \"N10\", \"P10\", \"Q10\", \"R10\", \"S10\", \"T10\"\n",
    "]\n",
    "\n",
    "import requests\n",
    "import pandas as pd\n",
    "from datetime import datetime, timedelta\n",
    "from tqdm import tqdm\n",
    "import time\n",
    "\n",
    "EDU_CODE = 'B10'\n",
    "API_KEY = '3c3bbe3ed1194b93a7aa44e8e81adee6'\n",
    "\n",
    "\n",
    "# 최근 한달 기간 설정\n",
    "today = datetime.today()\n",
    "one_month_ago = today - timedelta(days=30)\n",
    "FROM_DATE = one_month_ago.strftime('%Y%m%d')\n",
    "TO_DATE = today.strftime('%Y%m%d')\n",
    "\n",
    "# 고등학교만 조회\n",
    "def get_highschools(edu_code):\n",
    "    url = 'https://open.neis.go.kr/hub/schoolInfo'\n",
    "    params = {\n",
    "        'KEY': API_KEY, \n",
    "        'Type' : 'json', \n",
    "        'ATPT_OFCDC_SC_CODE' : edu_code, \n",
    "        'pIndex': 1, \n",
    "        'pSize': 1000\n",
    "    }\n",
    "    highschools = []\n",
    "    try:\n",
    "        res = requests.get(url, params=params, timeout=5)\n",
    "        print(f\"응답코드 : {res.status_code}\")\n",
    "        if res.status_code == 200 and 'schoolInfo' in res.json():\n",
    "            rows = res.json()['schoolInfo'][1]['row']\n",
    "            for row in rows:\n",
    "                if row.get('SCHUL_KND_SC_NM') == '고등학교':\n",
    "                    highschools.append((row['SD_SCHUL_CODE'], row['SCHUL_NM']))\n",
    "                else:\n",
    "                    pass\n",
    "        else:\n",
    "            print(\"200은 뜨나, schoolinfo은 없음\")\n",
    "    except Exception as e:\n",
    "        print(\"고등학교 목록 오류: {e}\")\n",
    "    return highschools\n",
    "\n",
    "highschool_list = get_highschools(EDU_CODE)\n",
    "len(highschool_list)\n",
    "\n",
    "def get_meal_info(edu_code, school_code, from_date, to_date):\n",
    "    print(f\"급식 정보 조회 중: 날짜={TARGET_DATE}\")\n",
    "    url = \"https://open.neis.go.kr/hub/mealServiceDietInfo\"\n",
    "    params = {\n",
    "        \"KEY\": API_KEY,\n",
    "        \"Type\": \"json\",\n",
    "        \"ATPT_OFCDC_SC_CODE\": edu_code,\n",
    "        \"MLSV_FROM_YMD\": from_date,\n",
    "        \"MLSV_TO_YMD\": to_date,\n",
    "        \"pIndex\" : 1,\n",
    "        \"pSize\" : 100\n",
    "    }\n",
    "    try:\n",
    "        res = requests.get(url, params=params, timeout=5)\n",
    "        print(f\"mealService 응답코드: {res.status_code}\")\n",
    "        if res.status_code == 200:\n",
    "            data = res.json()\n",
    "            if \"mealServiceDietInfo\" in data:\n",
    "                print(f\"급식 데이터 수: {len(data['mealServiceDietInfo'][1]['row'])}\")\n",
    "                return data[\"mealServiceDietInfo\"][1][\"row\"]\n",
    "            else:\n",
    "                print(\"mealServiceDietInfo 키 없음:\", data)\n",
    "        else:\n",
    "            print(\"응답 실패:\", res.text)\n",
    "    except Exception as e:\n",
    "        print(f\"급식 정보 조회 오류: {e}\")\n",
    "    return []\n",
    "\n",
    "\n",
    "all_data =[]\n",
    "for school_code, school_name in tqdm(highschool_list, desc=\"고등학교 급식 조회\"):\n",
    "    print(school_code, school_name)\n",
    "    meals = get_meal_info(EDU_CODE, school_code, FROM_DATE, TO_DATE)\n",
    "    print(meals)\n",
    "    for meal in meals:\n",
    "        all_data.append({\n",
    "            \"교육청코드\": EDU_CODE,\n",
    "            \"학교코드\": school_code,\n",
    "            \"학교명\": school_name,\n",
    "            \"급식일자\": meal.get(\"MLSV_YMD\"),\n",
    "            \"식사명\": meal.get(\"MMEAL_SC_NM\"),\n",
    "            \"급식식단\": meal.get(\"DDISH_NM\")\n",
    "        })\n",
    "    time.sleep(0.1)\n",
    "\n",
    "# 저장\n",
    "df = pd.DataFrame(all_data)\n",
    "print(\"수집된 급식 행 수:\", len(df))\n",
    "print(df.head())"
   ]
  },
  {
   "cell_type": "code",
   "execution_count": 19,
   "id": "275d4287-9843-4e4a-a468-b57531d13e3e",
   "metadata": {},
   "outputs": [
    {
     "name": "stdout",
     "output_type": "stream",
     "text": [
      "응답코드 : 200\n",
      "응답코드 : 200\n"
     ]
    },
    {
     "name": "stderr",
     "output_type": "stream",
     "text": [
      " ... (more hidden) ..."
     ]
    },
    {
     "name": "stdout",
     "output_type": "stream",
     "text": [
      "7010057 가락고등학교\n",
      "급식 정보 조회 중: 날짜=20241030\n",
      "mealService 응답코드: 200\n",
      "mealServiceDietInfo 키 없음: {'RESULT': {'CODE': 'ERROR-300', 'MESSAGE': '필수 값이 누락되어 있습니다. 요청인자를 참고 하십시오.'}}\n",
      "[]\n",
      "7011169 가재울고등학교\n",
      "급식 정보 조회 중: 날짜=20241030\n"
     ]
    },
    {
     "name": "stderr",
     "output_type": "stream",
     "text": [
      " ... (more hidden) ..."
     ]
    },
    {
     "name": "stdout",
     "output_type": "stream",
     "text": [
      "mealService 응답코드: 200\n",
      "mealServiceDietInfo 키 없음: {'RESULT': {'CODE': 'ERROR-300', 'MESSAGE': '필수 값이 누락되어 있습니다. 요청인자를 참고 하십시오.'}}\n",
      "[]\n",
      "7010117 강동고등학교\n",
      "급식 정보 조회 중: 날짜=20241030\n",
      "mealService 응답코드: 200\n",
      "mealServiceDietInfo 키 없음: {'RESULT': {'CODE': 'ERROR-300', 'MESSAGE': '필수 값이 누락되어 있습니다. 요청인자를 참고 하십시오.'}}\n",
      "[]\n"
     ]
    },
    {
     "name": "stderr",
     "output_type": "stream",
     "text": [
      " ... (more hidden) ..."
     ]
    },
    {
     "name": "stdout",
     "output_type": "stream",
     "text": [
      "7010118 강서고등학교\n",
      "급식 정보 조회 중: 날짜=20241030\n",
      "mealService 응답코드: 200\n",
      "mealServiceDietInfo 키 없음: {'RESULT': {'CODE': 'ERROR-300', 'MESSAGE': '필수 값이 누락되어 있습니다. 요청인자를 참고 하십시오.'}}\n",
      "[]\n",
      "7010958 강일고등학교\n",
      "급식 정보 조회 중: 날짜=20241030\n"
     ]
    },
    {
     "name": "stderr",
     "output_type": "stream",
     "text": [
      " ... (more hidden) ..."
     ]
    },
    {
     "name": "stdout",
     "output_type": "stream",
     "text": [
      "mealService 응답코드: 200\n",
      "mealServiceDietInfo 키 없음: {'RESULT': {'CODE': 'ERROR-300', 'MESSAGE': '필수 값이 누락되어 있습니다. 요청인자를 참고 하십시오.'}}\n",
      "[]\n",
      "7010058 개포고등학교\n",
      "급식 정보 조회 중: 날짜=20241030\n",
      "mealService 응답코드: 200\n",
      "mealServiceDietInfo 키 없음: {'RESULT': {'CODE': 'ERROR-300', 'MESSAGE': '필수 값이 누락되어 있습니다. 요청인자를 참고 하십시오.'}}\n",
      "[]\n"
     ]
    },
    {
     "name": "stderr",
     "output_type": "stream",
     "text": [
      " ... (more hidden) ..."
     ]
    },
    {
     "name": "stdout",
     "output_type": "stream",
     "text": [
      "7010119 건국대학교사범대학부속고등학교\n",
      "급식 정보 조회 중: 날짜=20241030\n",
      "mealService 응답코드: 200\n",
      "mealServiceDietInfo 키 없음: {'RESULT': {'CODE': 'ERROR-300', 'MESSAGE': '필수 값이 누락되어 있습니다. 요청인자를 참고 하십시오.'}}\n",
      "[]\n",
      "7010059 경기고등학교\n",
      "급식 정보 조회 중: 날짜=20241030\n",
      "mealService 응답코드: 200\n",
      "mealServiceDietInfo 키 없음: {'RESULT': {'CODE': 'ERROR-300', 'MESSAGE': '필수 값이 누락되어 있습니다. 요청인자를 참고 하십시오.'}}\n",
      "[]\n"
     ]
    },
    {
     "name": "stderr",
     "output_type": "stream",
     "text": [
      " ... (more hidden) ..."
     ]
    },
    {
     "name": "stdout",
     "output_type": "stream",
     "text": [
      "7010271 경기기계공업고등학교\n",
      "급식 정보 조회 중: 날짜=20241030\n",
      "mealService 응답코드: 200\n",
      "mealServiceDietInfo 키 없음: {'RESULT': {'CODE': 'ERROR-300', 'MESSAGE': '필수 값이 누락되어 있습니다. 요청인자를 참고 하십시오.'}}\n",
      "[]\n",
      "7010272 경기상업고등학교\n",
      "급식 정보 조회 중: 날짜=20241030\n"
     ]
    },
    {
     "name": "stderr",
     "output_type": "stream",
     "text": [
      " ... (more hidden) ..."
     ]
    },
    {
     "name": "stdout",
     "output_type": "stream",
     "text": [
      "mealService 응답코드: 200\n",
      "mealServiceDietInfo 키 없음: {'RESULT': {'CODE': 'ERROR-300', 'MESSAGE': '필수 값이 누락되어 있습니다. 요청인자를 참고 하십시오.'}}\n",
      "[]\n",
      "7010060 경기여자고등학교\n",
      "급식 정보 조회 중: 날짜=20241030\n",
      "mealService 응답코드: 200\n",
      "mealServiceDietInfo 키 없음: {'RESULT': {'CODE': 'ERROR-300', 'MESSAGE': '필수 값이 누락되어 있습니다. 요청인자를 참고 하십시오.'}}\n",
      "[]\n"
     ]
    },
    {
     "name": "stderr",
     "output_type": "stream",
     "text": [
      " ... (more hidden) ..."
     ]
    },
    {
     "name": "stdout",
     "output_type": "stream",
     "text": [
      "7010061 경동고등학교\n",
      "급식 정보 조회 중: 날짜=20241030\n",
      "mealService 응답코드: 200\n",
      "mealServiceDietInfo 키 없음: {'RESULT': {'CODE': 'ERROR-300', 'MESSAGE': '필수 값이 누락되어 있습니다. 요청인자를 참고 하십시오.'}}\n",
      "[]\n",
      "7010120 경문고등학교\n",
      "급식 정보 조회 중: 날짜=20241030\n"
     ]
    },
    {
     "name": "stderr",
     "output_type": "stream",
     "text": [
      " ... (more hidden) ..."
     ]
    },
    {
     "name": "stdout",
     "output_type": "stream",
     "text": [
      "mealService 응답코드: 200\n",
      "mealServiceDietInfo 키 없음: {'RESULT': {'CODE': 'ERROR-300', 'MESSAGE': '필수 값이 누락되어 있습니다. 요청인자를 참고 하십시오.'}}\n",
      "[]\n",
      "7010062 경복고등학교\n",
      "급식 정보 조회 중: 날짜=20241030\n",
      "mealService 응답코드: 200\n",
      "mealServiceDietInfo 키 없음: {'RESULT': {'CODE': 'ERROR-300', 'MESSAGE': '필수 값이 누락되어 있습니다. 요청인자를 참고 하십시오.'}}\n",
      "[]\n"
     ]
    },
    {
     "name": "stderr",
     "output_type": "stream",
     "text": [
      " ... (more hidden) ..."
     ]
    },
    {
     "name": "stdout",
     "output_type": "stream",
     "text": [
      "7010835 경복비즈니스고등학교\n",
      "급식 정보 조회 중: 날짜=20241030\n",
      "mealService 응답코드: 200\n",
      "mealServiceDietInfo 키 없음: {'RESULT': {'CODE': 'ERROR-300', 'MESSAGE': '필수 값이 누락되어 있습니다. 요청인자를 참고 하십시오.'}}\n",
      "[]\n",
      "7010122 경복여자고등학교\n",
      "급식 정보 조회 중: 날짜=20241030\n"
     ]
    },
    {
     "name": "stderr",
     "output_type": "stream",
     "text": [
      " ... (more hidden) ..."
     ]
    },
    {
     "name": "stdout",
     "output_type": "stream",
     "text": [
      "mealService 응답코드: 200\n",
      "mealServiceDietInfo 키 없음: {'RESULT': {'CODE': 'ERROR-300', 'MESSAGE': '필수 값이 누락되어 있습니다. 요청인자를 참고 하십시오.'}}\n",
      "[]\n",
      "7010124 경성고등학교\n",
      "급식 정보 조회 중: 날짜=20241030\n",
      "mealService 응답코드: 200\n",
      "mealServiceDietInfo 키 없음: {'RESULT': {'CODE': 'ERROR-300', 'MESSAGE': '필수 값이 누락되어 있습니다. 요청인자를 참고 하십시오.'}}\n",
      "[]\n"
     ]
    },
    {
     "name": "stderr",
     "output_type": "stream",
     "text": [
      " ... (more hidden) ..."
     ]
    },
    {
     "name": "stdout",
     "output_type": "stream",
     "text": [
      "7010125 경신고등학교\n",
      "급식 정보 조회 중: 날짜=20241030\n",
      "mealService 응답코드: 200\n",
      "mealServiceDietInfo 키 없음: {'RESULT': {'CODE': 'ERROR-300', 'MESSAGE': '필수 값이 누락되어 있습니다. 요청인자를 참고 하십시오.'}}\n",
      "[]\n",
      "7010563 경인고등학교\n",
      "급식 정보 조회 중: 날짜=20241030\n"
     ]
    },
    {
     "name": "stderr",
     "output_type": "stream",
     "text": [
      " ... (more hidden) ..."
     ]
    },
    {
     "name": "stdout",
     "output_type": "stream",
     "text": [
      "mealService 응답코드: 200\n",
      "mealServiceDietInfo 키 없음: {'RESULT': {'CODE': 'ERROR-300', 'MESSAGE': '필수 값이 누락되어 있습니다. 요청인자를 참고 하십시오.'}}\n",
      "[]\n",
      "7010698 경일고등학교\n",
      "급식 정보 조회 중: 날짜=20241030\n",
      "mealService 응답코드: 200\n",
      "mealServiceDietInfo 키 없음: {'RESULT': {'CODE': 'ERROR-300', 'MESSAGE': '필수 값이 누락되어 있습니다. 요청인자를 참고 하십시오.'}}\n",
      "[]\n"
     ]
    },
    {
     "name": "stderr",
     "output_type": "stream",
     "text": [
      " ... (more hidden) ..."
     ]
    },
    {
     "name": "stdout",
     "output_type": "stream",
     "text": [
      "7010126 경희고등학교\n",
      "급식 정보 조회 중: 날짜=20241030\n",
      "mealService 응답코드: 200\n",
      "mealServiceDietInfo 키 없음: {'RESULT': {'CODE': 'ERROR-300', 'MESSAGE': '필수 값이 누락되어 있습니다. 요청인자를 참고 하십시오.'}}\n",
      "[]\n",
      "7010127 경희여자고등학교\n",
      "급식 정보 조회 중: 날짜=20241030\n",
      "mealService 응답코드: 200\n",
      "mealServiceDietInfo 키 없음: {'RESULT': {'CODE': 'ERROR-300', 'MESSAGE': '필수 값이 누락되어 있습니다. 요청인자를 참고 하십시오.'}}\n",
      "[]\n"
     ]
    },
    {
     "name": "stderr",
     "output_type": "stream",
     "text": [
      " ... (more hidden) ..."
     ]
    },
    {
     "name": "stdout",
     "output_type": "stream",
     "text": [
      "7011312 계성고등학교\n",
      "급식 정보 조회 중: 날짜=20241030\n",
      "mealService 응답코드: 200\n",
      "mealServiceDietInfo 키 없음: {'RESULT': {'CODE': 'ERROR-300', 'MESSAGE': '필수 값이 누락되어 있습니다. 요청인자를 참고 하십시오.'}}\n",
      "[]\n"
     ]
    },
    {
     "name": "stderr",
     "output_type": "stream",
     "text": [
      " ... (more hidden) ..."
     ]
    },
    {
     "name": "stdout",
     "output_type": "stream",
     "text": [
      "7010797 고려대학교사범대학부속고등학교\n",
      "급식 정보 조회 중: 날짜=20241030\n",
      "mealService 응답코드: 200\n",
      "mealServiceDietInfo 키 없음: {'RESULT': {'CODE': 'ERROR-300', 'MESSAGE': '필수 값이 누락되어 있습니다. 요청인자를 참고 하십시오.'}}\n",
      "[]\n",
      "7011487 고명외식고등학교\n",
      "급식 정보 조회 중: 날짜=20241030\n"
     ]
    },
    {
     "name": "stderr",
     "output_type": "stream",
     "text": [
      " ... (more hidden) ..."
     ]
    },
    {
     "name": "stdout",
     "output_type": "stream",
     "text": [
      "mealService 응답코드: 200\n",
      "mealServiceDietInfo 키 없음: {'RESULT': {'CODE': 'ERROR-300', 'MESSAGE': '필수 값이 누락되어 있습니다. 요청인자를 참고 하십시오.'}}\n",
      "[]\n",
      "7010063 고척고등학교\n",
      "급식 정보 조회 중: 날짜=20241030\n",
      "mealService 응답코드: 200\n",
      "mealServiceDietInfo 키 없음: {'RESULT': {'CODE': 'ERROR-300', 'MESSAGE': '필수 값이 누락되어 있습니다. 요청인자를 참고 하십시오.'}}\n",
      "[]\n"
     ]
    },
    {
     "name": "stderr",
     "output_type": "stream",
     "text": [
      " ... (more hidden) ..."
     ]
    },
    {
     "name": "stdout",
     "output_type": "stream",
     "text": [
      "7010064 공항고등학교\n",
      "급식 정보 조회 중: 날짜=20241030\n",
      "mealService 응답코드: 200\n",
      "mealServiceDietInfo 키 없음: {'RESULT': {'CODE': 'ERROR-300', 'MESSAGE': '필수 값이 누락되어 있습니다. 요청인자를 참고 하십시오.'}}\n",
      "[]\n",
      "7010065 관악고등학교\n",
      "급식 정보 조회 중: 날짜=20241030\n",
      "mealService 응답코드: 200\n",
      "mealServiceDietInfo 키 없음: {'RESULT': {'CODE': 'ERROR-300', 'MESSAGE': '필수 값이 누락되어 있습니다. 요청인자를 참고 하십시오.'}}\n",
      "[]\n"
     ]
    },
    {
     "name": "stderr",
     "output_type": "stream",
     "text": [
      " ... (more hidden) ..."
     ]
    },
    {
     "name": "stdout",
     "output_type": "stream",
     "text": [
      "7010066 광남고등학교\n",
      "급식 정보 조회 중: 날짜=20241030\n",
      "mealService 응답코드: 200\n",
      "mealServiceDietInfo 키 없음: {'RESULT': {'CODE': 'ERROR-300', 'MESSAGE': '필수 값이 누락되어 있습니다. 요청인자를 참고 하십시오.'}}\n",
      "[]\n",
      "7010131 광문고등학교\n",
      "급식 정보 조회 중: 날짜=20241030\n"
     ]
    },
    {
     "name": "stderr",
     "output_type": "stream",
     "text": [
      " ... (more hidden) ..."
     ]
    },
    {
     "name": "stdout",
     "output_type": "stream",
     "text": [
      "mealService 응답코드: 200\n",
      "mealServiceDietInfo 키 없음: {'RESULT': {'CODE': 'ERROR-300', 'MESSAGE': '필수 값이 누락되어 있습니다. 요청인자를 참고 하십시오.'}}\n",
      "[]\n",
      "7010132 광성고등학교\n",
      "급식 정보 조회 중: 날짜=20241030\n",
      "mealService 응답코드: 200\n",
      "mealServiceDietInfo 키 없음: {'RESULT': {'CODE': 'ERROR-300', 'MESSAGE': '필수 값이 누락되어 있습니다. 요청인자를 참고 하십시오.'}}\n",
      "[]\n"
     ]
    },
    {
     "name": "stderr",
     "output_type": "stream",
     "text": [
      " ... (more hidden) ..."
     ]
    },
    {
     "name": "stdout",
     "output_type": "stream",
     "text": [
      "7010133 광신고등학교\n",
      "급식 정보 조회 중: 날짜=20241030\n",
      "mealService 응답코드: 200\n",
      "mealServiceDietInfo 키 없음: {'RESULT': {'CODE': 'ERROR-300', 'MESSAGE': '필수 값이 누락되어 있습니다. 요청인자를 참고 하십시오.'}}\n",
      "[]\n",
      "7011488 광신방송예술고등학교\n",
      "급식 정보 조회 중: 날짜=20241030\n"
     ]
    },
    {
     "name": "stderr",
     "output_type": "stream",
     "text": [
      " ... (more hidden) ..."
     ]
    },
    {
     "name": "stdout",
     "output_type": "stream",
     "text": [
      "mealService 응답코드: 200\n",
      "mealServiceDietInfo 키 없음: {'RESULT': {'CODE': 'ERROR-300', 'MESSAGE': '필수 값이 누락되어 있습니다. 요청인자를 참고 하십시오.'}}\n",
      "[]\n",
      "7010067 광양고등학교\n",
      "급식 정보 조회 중: 날짜=20241030\n",
      "mealService 응답코드: 200\n",
      "mealServiceDietInfo 키 없음: {'RESULT': {'CODE': 'ERROR-300', 'MESSAGE': '필수 값이 누락되어 있습니다. 요청인자를 참고 하십시오.'}}\n",
      "[]\n"
     ]
    },
    {
     "name": "stderr",
     "output_type": "stream",
     "text": [
      " ... (more hidden) ..."
     ]
    },
    {
     "name": "stdout",
     "output_type": "stream",
     "text": [
      "7010134 광영고등학교\n",
      "급식 정보 조회 중: 날짜=20241030\n",
      "mealService 응답코드: 200\n",
      "mealServiceDietInfo 키 없음: {'RESULT': {'CODE': 'ERROR-300', 'MESSAGE': '필수 값이 누락되어 있습니다. 요청인자를 참고 하십시오.'}}\n",
      "[]\n",
      "7010135 광영여자고등학교\n",
      "급식 정보 조회 중: 날짜=20241030\n"
     ]
    },
    {
     "name": "stderr",
     "output_type": "stream",
     "text": [
      " ... (more hidden) ..."
     ]
    },
    {
     "name": "stdout",
     "output_type": "stream",
     "text": [
      "mealService 응답코드: 200\n",
      "mealServiceDietInfo 키 없음: {'RESULT': {'CODE': 'ERROR-300', 'MESSAGE': '필수 값이 누락되어 있습니다. 요청인자를 참고 하십시오.'}}\n",
      "[]\n",
      "7011505 광운인공지능고등학교\n",
      "급식 정보 조회 중: 날짜=20241030\n",
      "mealService 응답코드: 200\n",
      "mealServiceDietInfo 키 없음: {'RESULT': {'CODE': 'ERROR-300', 'MESSAGE': '필수 값이 누락되어 있습니다. 요청인자를 참고 하십시오.'}}\n",
      "[]\n"
     ]
    },
    {
     "name": "stderr",
     "output_type": "stream",
     "text": [
      " ... (more hidden) ..."
     ]
    },
    {
     "name": "stdout",
     "output_type": "stream",
     "text": [
      "7010068 구로고등학교\n",
      "급식 정보 조회 중: 날짜=20241030\n",
      "mealService 응답코드: 200\n",
      "mealServiceDietInfo 키 없음: {'RESULT': {'CODE': 'ERROR-300', 'MESSAGE': '필수 값이 누락되어 있습니다. 요청인자를 참고 하십시오.'}}\n",
      "[]\n",
      "7011111 구암고등학교\n",
      "급식 정보 조회 중: 날짜=20241030\n",
      "mealService 응답코드: 200\n",
      "mealServiceDietInfo 키 없음: {'RESULT': {'CODE': 'ERROR-300', 'MESSAGE': '필수 값이 누락되어 있습니다. 요청인자를 참고 하십시오.'}}\n",
      "[]\n"
     ]
    },
    {
     "name": "stderr",
     "output_type": "stream",
     "text": [
      " ... (more hidden) ..."
     ]
    },
    {
     "name": "stdout",
     "output_type": "stream",
     "text": [
      "7010069 구일고등학교\n",
      "급식 정보 조회 중: 날짜=20241030\n",
      "mealService 응답코드: 200\n",
      "mealServiceDietInfo 키 없음: {'RESULT': {'CODE': 'ERROR-300', 'MESSAGE': '필수 값이 누락되어 있습니다. 요청인자를 참고 하십시오.'}}\n",
      "[]\n",
      "7010827 구현고등학교\n",
      "급식 정보 조회 중: 날짜=20241030\n",
      "mealService 응답코드: 200\n",
      "mealServiceDietInfo 키 없음: {'RESULT': {'CODE': 'ERROR-300', 'MESSAGE': '필수 값이 누락되어 있습니다. 요청인자를 참고 하십시오.'}}\n",
      "[]\n"
     ]
    },
    {
     "name": "stderr",
     "output_type": "stream",
     "text": [
      " ... (more hidden) ..."
     ]
    },
    {
     "name": "stdout",
     "output_type": "stream",
     "text": [
      "1371661 국립국악고등학교\n",
      "급식 정보 조회 중: 날짜=20241030\n",
      "mealService 응답코드: 200\n",
      "mealServiceDietInfo 키 없음: {'RESULT': {'CODE': 'ERROR-300', 'MESSAGE': '필수 값이 누락되어 있습니다. 요청인자를 참고 하십시오.'}}\n",
      "[]\n",
      "1371663 국립전통예술고등학교\n",
      "급식 정보 조회 중: 날짜=20241030\n",
      "mealService 응답코드: 200\n",
      "mealServiceDietInfo 키 없음: {'RESULT': {'CODE': 'ERROR-300', 'MESSAGE': '필수 값이 누락되어 있습니다. 요청인자를 참고 하십시오.'}}\n",
      "[]\n"
     ]
    },
    {
     "name": "stderr",
     "output_type": "stream",
     "text": [
      " ... (more hidden) ..."
     ]
    },
    {
     "name": "stdout",
     "output_type": "stream",
     "text": [
      "7010071 금옥여자고등학교\n",
      "급식 정보 조회 중: 날짜=20241030\n",
      "mealService 응답코드: 200\n",
      "mealServiceDietInfo 키 없음: {'RESULT': {'CODE': 'ERROR-300', 'MESSAGE': '필수 값이 누락되어 있습니다. 요청인자를 참고 하십시오.'}}\n",
      "[]\n",
      "7010072 금천고등학교\n",
      "급식 정보 조회 중: 날짜=20241030\n"
     ]
    },
    {
     "name": "stderr",
     "output_type": "stream",
     "text": [
      " ... (more hidden) ..."
     ]
    },
    {
     "name": "stdout",
     "output_type": "stream",
     "text": [
      "mealService 응답코드: 200\n",
      "mealServiceDietInfo 키 없음: {'RESULT': {'CODE': 'ERROR-300', 'MESSAGE': '필수 값이 누락되어 있습니다. 요청인자를 참고 하십시오.'}}\n",
      "[]\n",
      "7011319 금호고등학교\n",
      "급식 정보 조회 중: 날짜=20241030\n",
      "mealService 응답코드: 200\n",
      "mealServiceDietInfo 키 없음: {'RESULT': {'CODE': 'ERROR-300', 'MESSAGE': '필수 값이 누락되어 있습니다. 요청인자를 참고 하십시오.'}}\n",
      "[]\n"
     ]
    },
    {
     "name": "stderr",
     "output_type": "stream",
     "text": [
      " ... (more hidden) ..."
     ]
    },
    {
     "name": "stdout",
     "output_type": "stream",
     "text": [
      "7010136 남강고등학교\n",
      "급식 정보 조회 중: 날짜=20241030\n",
      "mealService 응답코드: 200\n",
      "mealServiceDietInfo 키 없음: {'RESULT': {'CODE': 'ERROR-300', 'MESSAGE': '필수 값이 누락되어 있습니다. 요청인자를 참고 하십시오.'}}\n",
      "[]\n",
      "7010564 노원고등학교\n",
      "급식 정보 조회 중: 날짜=20241030\n"
     ]
    },
    {
     "name": "stderr",
     "output_type": "stream",
     "text": [
      " ... (more hidden) ..."
     ]
    },
    {
     "name": "stdout",
     "output_type": "stream",
     "text": [
      "mealService 응답코드: 200\n",
      "mealServiceDietInfo 키 없음: {'RESULT': {'CODE': 'ERROR-300', 'MESSAGE': '필수 값이 누락되어 있습니다. 요청인자를 참고 하십시오.'}}\n",
      "[]\n",
      "7010589 누원고등학교\n",
      "급식 정보 조회 중: 날짜=20241030\n",
      "mealService 응답코드: 200\n",
      "mealServiceDietInfo 키 없음: {'RESULT': {'CODE': 'ERROR-300', 'MESSAGE': '필수 값이 누락되어 있습니다. 요청인자를 참고 하십시오.'}}\n",
      "[]\n"
     ]
    },
    {
     "name": "stderr",
     "output_type": "stream",
     "text": [
      " ... (more hidden) ..."
     ]
    },
    {
     "name": "stdout",
     "output_type": "stream",
     "text": [
      "7011489 단국대학교부속소프트웨어고등학교\n",
      "급식 정보 조회 중: 날짜=20241030\n",
      "mealService 응답코드: 200\n",
      "mealServiceDietInfo 키 없음: {'RESULT': {'CODE': 'ERROR-300', 'MESSAGE': '필수 값이 누락되어 있습니다. 요청인자를 참고 하십시오.'}}\n",
      "[]\n",
      "7010137 단국대학교사범대학부속고등학교\n",
      "급식 정보 조회 중: 날짜=20241030\n",
      "mealService 응답코드: 200\n",
      "mealServiceDietInfo 키 없음: {'RESULT': {'CODE': 'ERROR-300', 'MESSAGE': '필수 값이 누락되어 있습니다. 요청인자를 참고 하십시오.'}}\n",
      "[]\n"
     ]
    },
    {
     "name": "stderr",
     "output_type": "stream",
     "text": [
      " ... (more hidden) ..."
     ]
    },
    {
     "name": "stdout",
     "output_type": "stream",
     "text": [
      "7010073 당곡고등학교\n",
      "급식 정보 조회 중: 날짜=20241030\n",
      "mealService 응답코드: 200\n",
      "mealServiceDietInfo 키 없음: {'RESULT': {'CODE': 'ERROR-300', 'MESSAGE': '필수 값이 누락되어 있습니다. 요청인자를 참고 하십시오.'}}\n",
      "[]\n",
      "7011507 대경생활과학고등학교\n",
      "급식 정보 조회 중: 날짜=20241030\n",
      "mealService 응답코드: 200\n",
      "mealServiceDietInfo 키 없음: {'RESULT': {'CODE': 'ERROR-300', 'MESSAGE': '필수 값이 누락되어 있습니다. 요청인자를 참고 하십시오.'}}\n",
      "[]\n"
     ]
    },
    {
     "name": "stderr",
     "output_type": "stream",
     "text": [
      " ... (more hidden) ..."
     ]
    },
    {
     "name": "stdout",
     "output_type": "stream",
     "text": [
      "7010138 대광고등학교\n",
      "급식 정보 조회 중: 날짜=20241030\n",
      "mealService 응답코드: 200\n",
      "mealServiceDietInfo 키 없음: {'RESULT': {'CODE': 'ERROR-300', 'MESSAGE': '필수 값이 누락되어 있습니다. 요청인자를 참고 하십시오.'}}\n",
      "[]\n",
      "7010833 대동세무고등학교\n",
      "급식 정보 조회 중: 날짜=20241030\n"
     ]
    },
    {
     "name": "stderr",
     "output_type": "stream",
     "text": [
      " ... (more hidden) ..."
     ]
    },
    {
     "name": "stdout",
     "output_type": "stream",
     "text": [
      "mealService 응답코드: 200\n",
      "mealServiceDietInfo 키 없음: {'RESULT': {'CODE': 'ERROR-300', 'MESSAGE': '필수 값이 누락되어 있습니다. 요청인자를 참고 하십시오.'}}\n",
      "[]\n",
      "7010139 대성고등학교\n",
      "급식 정보 조회 중: 날짜=20241030\n",
      "mealService 응답코드: 200\n",
      "mealServiceDietInfo 키 없음: {'RESULT': {'CODE': 'ERROR-300', 'MESSAGE': '필수 값이 누락되어 있습니다. 요청인자를 참고 하십시오.'}}\n",
      "[]\n"
     ]
    },
    {
     "name": "stderr",
     "output_type": "stream",
     "text": [
      " ... (more hidden) ..."
     ]
    },
    {
     "name": "stdout",
     "output_type": "stream",
     "text": [
      "7010140 대신고등학교\n",
      "급식 정보 조회 중: 날짜=20241030\n",
      "mealService 응답코드: 200\n",
      "mealServiceDietInfo 키 없음: {'RESULT': {'CODE': 'ERROR-300', 'MESSAGE': '필수 값이 누락되어 있습니다. 요청인자를 참고 하십시오.'}}\n",
      "[]\n",
      "7010074 대영고등학교\n",
      "급식 정보 조회 중: 날짜=20241030\n"
     ]
    },
    {
     "name": "stderr",
     "output_type": "stream",
     "text": [
      " ... (more hidden) ..."
     ]
    },
    {
     "name": "stdout",
     "output_type": "stream",
     "text": [
      "mealService 응답코드: 200\n",
      "mealServiceDietInfo 키 없음: {'RESULT': {'CODE': 'ERROR-300', 'MESSAGE': '필수 값이 누락되어 있습니다. 요청인자를 참고 하십시오.'}}\n",
      "[]\n",
      "7010141 대원고등학교\n",
      "급식 정보 조회 중: 날짜=20241030\n",
      "mealService 응답코드: 200\n",
      "mealServiceDietInfo 키 없음: {'RESULT': {'CODE': 'ERROR-300', 'MESSAGE': '필수 값이 누락되어 있습니다. 요청인자를 참고 하십시오.'}}\n",
      "[]\n"
     ]
    },
    {
     "name": "stderr",
     "output_type": "stream",
     "text": [
      " ... (more hidden) ..."
     ]
    },
    {
     "name": "stdout",
     "output_type": "stream",
     "text": [
      "7010142 대원여자고등학교\n",
      "급식 정보 조회 중: 날짜=20241030\n",
      "mealService 응답코드: 200\n",
      "mealServiceDietInfo 키 없음: {'RESULT': {'CODE': 'ERROR-300', 'MESSAGE': '필수 값이 누락되어 있습니다. 요청인자를 참고 하십시오.'}}\n",
      "[]\n",
      "7010143 대원외국어고등학교\n",
      "급식 정보 조회 중: 날짜=20241030\n"
     ]
    },
    {
     "name": "stderr",
     "output_type": "stream",
     "text": [
      " ... (more hidden) ..."
     ]
    },
    {
     "name": "stdout",
     "output_type": "stream",
     "text": [
      "mealService 응답코드: 200\n",
      "mealServiceDietInfo 키 없음: {'RESULT': {'CODE': 'ERROR-300', 'MESSAGE': '필수 값이 누락되어 있습니다. 요청인자를 참고 하십시오.'}}\n",
      "[]\n",
      "7010144 대일고등학교\n",
      "급식 정보 조회 중: 날짜=20241030\n",
      "mealService 응답코드: 200\n",
      "mealServiceDietInfo 키 없음: {'RESULT': {'CODE': 'ERROR-300', 'MESSAGE': '필수 값이 누락되어 있습니다. 요청인자를 참고 하십시오.'}}\n",
      "[]\n"
     ]
    },
    {
     "name": "stderr",
     "output_type": "stream",
     "text": [
      " ... (more hidden) ..."
     ]
    },
    {
     "name": "stdout",
     "output_type": "stream",
     "text": [
      "7011186 대일관광고등학교\n",
      "급식 정보 조회 중: 날짜=20241030\n",
      "mealService 응답코드: 200\n",
      "mealServiceDietInfo 키 없음: {'RESULT': {'CODE': 'ERROR-300', 'MESSAGE': '필수 값이 누락되어 있습니다. 요청인자를 참고 하십시오.'}}\n",
      "[]\n",
      "7010145 대일외국어고등학교\n",
      "급식 정보 조회 중: 날짜=20241030\n",
      "mealService 응답코드: 200\n",
      "mealServiceDietInfo 키 없음: {'RESULT': {'CODE': 'ERROR-300', 'MESSAGE': '필수 값이 누락되어 있습니다. 요청인자를 참고 하십시오.'}}\n",
      "[]\n"
     ]
    },
    {
     "name": "stderr",
     "output_type": "stream",
     "text": [
      " ... (more hidden) ..."
     ]
    },
    {
     "name": "stdout",
     "output_type": "stream",
     "text": [
      "7010146 대진고등학교\n",
      "급식 정보 조회 중: 날짜=20241030\n",
      "mealService 응답코드: 200\n",
      "mealServiceDietInfo 키 없음: {'RESULT': {'CODE': 'ERROR-300', 'MESSAGE': '필수 값이 누락되어 있습니다. 요청인자를 참고 하십시오.'}}\n",
      "[]\n",
      "7010740 대진디자인고등학교\n",
      "급식 정보 조회 중: 날짜=20241030\n",
      "mealService 응답코드: 200\n",
      "mealServiceDietInfo 키 없음: {'RESULT': {'CODE': 'ERROR-300', 'MESSAGE': '필수 값이 누락되어 있습니다. 요청인자를 참고 하십시오.'}}\n",
      "[]\n"
     ]
    },
    {
     "name": "stderr",
     "output_type": "stream",
     "text": [
      " ... (more hidden) ..."
     ]
    },
    {
     "name": "stdout",
     "output_type": "stream",
     "text": [
      "7010147 대진여자고등학교\n",
      "급식 정보 조회 중: 날짜=20241030\n",
      "mealService 응답코드: 200\n",
      "mealServiceDietInfo 키 없음: {'RESULT': {'CODE': 'ERROR-300', 'MESSAGE': '필수 값이 누락되어 있습니다. 요청인자를 참고 하십시오.'}}\n",
      "[]\n",
      "7010148 덕성여자고등학교\n",
      "급식 정보 조회 중: 날짜=20241030\n",
      "mealService 응답코드: 200\n",
      "mealServiceDietInfo 키 없음: {'RESULT': {'CODE': 'ERROR-300', 'MESSAGE': '필수 값이 누락되어 있습니다. 요청인자를 참고 하십시오.'}}\n",
      "[]\n"
     ]
    },
    {
     "name": "stderr",
     "output_type": "stream",
     "text": [
      " ... (more hidden) ..."
     ]
    },
    {
     "name": "stdout",
     "output_type": "stream",
     "text": [
      "7010808 덕수고등학교\n",
      "급식 정보 조회 중: 날짜=20241030\n",
      "mealService 응답코드: 200\n",
      "mealServiceDietInfo 키 없음: {'RESULT': {'CODE': 'ERROR-300', 'MESSAGE': '필수 값이 누락되어 있습니다. 요청인자를 참고 하십시오.'}}\n",
      "[]\n",
      "7010149 덕원여자고등학교\n",
      "급식 정보 조회 중: 날짜=20241030\n",
      "mealService 응답코드: 200\n",
      "mealServiceDietInfo 키 없음: {'RESULT': {'CODE': 'ERROR-300', 'MESSAGE': '필수 값이 누락되어 있습니다. 요청인자를 참고 하십시오.'}}\n",
      "[]\n"
     ]
    },
    {
     "name": "stderr",
     "output_type": "stream",
     "text": [
      " ... (more hidden) ..."
     ]
    },
    {
     "name": "stdout",
     "output_type": "stream",
     "text": [
      "7010150 덕원예술고등학교\n",
      "급식 정보 조회 중: 날짜=20241030\n",
      "mealService 응답코드: 200\n",
      "mealServiceDietInfo 키 없음: {'RESULT': {'CODE': 'ERROR-300', 'MESSAGE': '필수 값이 누락되어 있습니다. 요청인자를 참고 하십시오.'}}\n",
      "[]\n",
      "7010317 덕일전자공업고등학교\n",
      "급식 정보 조회 중: 날짜=20241030\n"
     ]
    },
    {
     "name": "stderr",
     "output_type": "stream",
     "text": [
      " ... (more hidden) ..."
     ]
    },
    {
     "name": "stdout",
     "output_type": "stream",
     "text": [
      "mealService 응답코드: 200\n",
      "mealServiceDietInfo 키 없음: {'RESULT': {'CODE': 'ERROR-300', 'MESSAGE': '필수 값이 누락되어 있습니다. 요청인자를 참고 하십시오.'}}\n",
      "[]\n",
      "7011318 도선고등학교\n",
      "급식 정보 조회 중: 날짜=20241030\n",
      "mealService 응답코드: 200\n",
      "mealServiceDietInfo 키 없음: {'RESULT': {'CODE': 'ERROR-300', 'MESSAGE': '필수 값이 누락되어 있습니다. 요청인자를 참고 하십시오.'}}\n",
      "[]\n"
     ]
    },
    {
     "name": "stderr",
     "output_type": "stream",
     "text": [
      " ... (more hidden) ..."
     ]
    },
    {
     "name": "stdout",
     "output_type": "stream",
     "text": [
      "7010560 독산고등학교\n",
      "급식 정보 조회 중: 날짜=20241030\n",
      "mealService 응답코드: 200\n",
      "mealServiceDietInfo 키 없음: {'RESULT': {'CODE': 'ERROR-300', 'MESSAGE': '필수 값이 누락되어 있습니다. 요청인자를 참고 하십시오.'}}\n",
      "[]\n",
      "7011586 동국대학교사범대학부속가람고등학교\n",
      "급식 정보 조회 중: 날짜=20241030\n"
     ]
    },
    {
     "name": "stderr",
     "output_type": "stream",
     "text": [
      " ... (more hidden) ..."
     ]
    },
    {
     "name": "stdout",
     "output_type": "stream",
     "text": [
      "mealService 응답코드: 200\n",
      "mealServiceDietInfo 키 없음: {'RESULT': {'CODE': 'ERROR-300', 'MESSAGE': '필수 값이 누락되어 있습니다. 요청인자를 참고 하십시오.'}}\n",
      "[]\n",
      "7010151 동국대학교사범대학부속고등학교\n",
      "급식 정보 조회 중: 날짜=20241030\n",
      "mealService 응답코드: 200\n",
      "mealServiceDietInfo 키 없음: {'RESULT': {'CODE': 'ERROR-300', 'MESSAGE': '필수 값이 누락되어 있습니다. 요청인자를 참고 하십시오.'}}\n",
      "[]\n"
     ]
    },
    {
     "name": "stderr",
     "output_type": "stream",
     "text": [
      " ... (more hidden) ..."
     ]
    },
    {
     "name": "stdout",
     "output_type": "stream",
     "text": [
      "7010152 동덕여자고등학교\n",
      "급식 정보 조회 중: 날짜=20241030\n",
      "mealService 응답코드: 200\n",
      "mealServiceDietInfo 키 없음: {'RESULT': {'CODE': 'ERROR-300', 'MESSAGE': '필수 값이 누락되어 있습니다. 요청인자를 참고 하십시오.'}}\n",
      "[]\n",
      "7011490 동명생활경영고등학교\n",
      "급식 정보 조회 중: 날짜=20241030\n"
     ]
    },
    {
     "name": "stderr",
     "output_type": "stream",
     "text": [
      " ... (more hidden) ..."
     ]
    },
    {
     "name": "stdout",
     "output_type": "stream",
     "text": [
      "mealService 응답코드: 200\n",
      "mealServiceDietInfo 키 없음: {'RESULT': {'CODE': 'ERROR-300', 'MESSAGE': '필수 값이 누락되어 있습니다. 요청인자를 참고 하십시오.'}}\n",
      "[]\n",
      "7010153 동명여자고등학교\n",
      "급식 정보 조회 중: 날짜=20241030\n",
      "mealService 응답코드: 200\n",
      "mealServiceDietInfo 키 없음: {'RESULT': {'CODE': 'ERROR-300', 'MESSAGE': '필수 값이 누락되어 있습니다. 요청인자를 참고 하십시오.'}}\n",
      "[]\n"
     ]
    },
    {
     "name": "stderr",
     "output_type": "stream",
     "text": [
      " ... (more hidden) ..."
     ]
    },
    {
     "name": "stdout",
     "output_type": "stream",
     "text": [
      "7010154 동북고등학교\n",
      "급식 정보 조회 중: 날짜=20241030\n",
      "mealService 응답코드: 200\n",
      "mealServiceDietInfo 키 없음: {'RESULT': {'CODE': 'ERROR-300', 'MESSAGE': '필수 값이 누락되어 있습니다. 요청인자를 참고 하십시오.'}}\n",
      "[]\n",
      "7010155 동성고등학교\n",
      "급식 정보 조회 중: 날짜=20241030\n"
     ]
    },
    {
     "name": "stderr",
     "output_type": "stream",
     "text": [
      " ... (more hidden) ..."
     ]
    },
    {
     "name": "stdout",
     "output_type": "stream",
     "text": [
      "mealService 응답코드: 200\n",
      "mealServiceDietInfo 키 없음: {'RESULT': {'CODE': 'ERROR-300', 'MESSAGE': '필수 값이 누락되어 있습니다. 요청인자를 참고 하십시오.'}}\n",
      "[]\n",
      "7010965 동양고등학교\n",
      "급식 정보 조회 중: 날짜=20241030\n",
      "mealService 응답코드: 200\n",
      "mealServiceDietInfo 키 없음: {'RESULT': {'CODE': 'ERROR-300', 'MESSAGE': '필수 값이 누락되어 있습니다. 요청인자를 참고 하십시오.'}}\n",
      "[]\n"
     ]
    },
    {
     "name": "stderr",
     "output_type": "stream",
     "text": [
      " ... (more hidden) ..."
     ]
    },
    {
     "name": "stdout",
     "output_type": "stream",
     "text": [
      "7010156 동일여자고등학교\n",
      "급식 정보 조회 중: 날짜=20241030\n",
      "mealService 응답코드: 200\n",
      "mealServiceDietInfo 키 없음: {'RESULT': {'CODE': 'ERROR-300', 'MESSAGE': '필수 값이 누락되어 있습니다. 요청인자를 참고 하십시오.'}}\n",
      "[]\n",
      "7010075 동작고등학교\n",
      "급식 정보 조회 중: 날짜=20241030\n",
      "mealService 응답코드: 200\n",
      "mealServiceDietInfo 키 없음: {'RESULT': {'CODE': 'ERROR-300', 'MESSAGE': '필수 값이 누락되어 있습니다. 요청인자를 참고 하십시오.'}}\n",
      "[]\n"
     ]
    },
    {
     "name": "stderr",
     "output_type": "stream",
     "text": [
      " ... (more hidden) ..."
     ]
    },
    {
     "name": "stdout",
     "output_type": "stream",
     "text": [
      "7010076 둔촌고등학교\n",
      "급식 정보 조회 중: 날짜=20241030\n",
      "mealService 응답코드: 200\n",
      "mealServiceDietInfo 키 없음: {'RESULT': {'CODE': 'ERROR-300', 'MESSAGE': '필수 값이 누락되어 있습니다. 요청인자를 참고 하십시오.'}}\n",
      "[]\n",
      "7010700 등촌고등학교\n",
      "급식 정보 조회 중: 날짜=20241030\n",
      "mealService 응답코드: 200\n",
      "mealServiceDietInfo 키 없음: {'RESULT': {'CODE': 'ERROR-300', 'MESSAGE': '필수 값이 누락되어 있습니다. 요청인자를 참고 하십시오.'}}\n",
      "[]\n"
     ]
    },
    {
     "name": "stderr",
     "output_type": "stream",
     "text": [
      " ... (more hidden) ..."
     ]
    },
    {
     "name": "stdout",
     "output_type": "stream",
     "text": [
      "7010908 리라아트고등학교\n",
      "급식 정보 조회 중: 날짜=20241030\n",
      "mealService 응답코드: 200\n",
      "mealServiceDietInfo 키 없음: {'RESULT': {'CODE': 'ERROR-300', 'MESSAGE': '필수 값이 누락되어 있습니다. 요청인자를 참고 하십시오.'}}\n",
      "[]\n",
      "7010157 마포고등학교\n",
      "급식 정보 조회 중: 날짜=20241030\n"
     ]
    },
    {
     "name": "stderr",
     "output_type": "stream",
     "text": [
      " ... (more hidden) ..."
     ]
    },
    {
     "name": "stdout",
     "output_type": "stream",
     "text": [
      "mealService 응답코드: 200\n",
      "mealServiceDietInfo 키 없음: {'RESULT': {'CODE': 'ERROR-300', 'MESSAGE': '필수 값이 누락되어 있습니다. 요청인자를 참고 하십시오.'}}\n",
      "[]\n",
      "7010077 면목고등학교\n",
      "급식 정보 조회 중: 날짜=20241030\n",
      "mealService 응답코드: 200\n",
      "mealServiceDietInfo 키 없음: {'RESULT': {'CODE': 'ERROR-300', 'MESSAGE': '필수 값이 누락되어 있습니다. 요청인자를 참고 하십시오.'}}\n",
      "[]\n"
     ]
    },
    {
     "name": "stderr",
     "output_type": "stream",
     "text": [
      " ... (more hidden) ..."
     ]
    },
    {
     "name": "stdout",
     "output_type": "stream",
     "text": [
      "7010158 명덕고등학교\n",
      "급식 정보 조회 중: 날짜=20241030\n",
      "mealService 응답코드: 200\n",
      "mealServiceDietInfo 키 없음: {'RESULT': {'CODE': 'ERROR-300', 'MESSAGE': '필수 값이 누락되어 있습니다. 요청인자를 참고 하십시오.'}}\n",
      "[]\n",
      "7010159 명덕여자고등학교\n",
      "급식 정보 조회 중: 날짜=20241030\n"
     ]
    },
    {
     "name": "stderr",
     "output_type": "stream",
     "text": [
      " ... (more hidden) ..."
     ]
    },
    {
     "name": "stdout",
     "output_type": "stream",
     "text": [
      "mealService 응답코드: 200\n",
      "mealServiceDietInfo 키 없음: {'RESULT': {'CODE': 'ERROR-300', 'MESSAGE': '필수 값이 누락되어 있습니다. 요청인자를 참고 하십시오.'}}\n",
      "[]\n",
      "7010160 명덕외국어고등학교\n",
      "급식 정보 조회 중: 날짜=20241030\n",
      "mealService 응답코드: 200\n",
      "mealServiceDietInfo 키 없음: {'RESULT': {'CODE': 'ERROR-300', 'MESSAGE': '필수 값이 누락되어 있습니다. 요청인자를 참고 하십시오.'}}\n",
      "[]\n"
     ]
    },
    {
     "name": "stderr",
     "output_type": "stream",
     "text": [
      " ... (more hidden) ..."
     ]
    },
    {
     "name": "stdout",
     "output_type": "stream",
     "text": [
      "7010078 명일여자고등학교\n",
      "급식 정보 조회 중: 날짜=20241030\n",
      "mealService 응답코드: 200\n",
      "mealServiceDietInfo 키 없음: {'RESULT': {'CODE': 'ERROR-300', 'MESSAGE': '필수 값이 누락되어 있습니다. 요청인자를 참고 하십시오.'}}\n",
      "[]\n",
      "7010163 명지고등학교\n",
      "급식 정보 조회 중: 날짜=20241030\n"
     ]
    },
    {
     "name": "stderr",
     "output_type": "stream",
     "text": [
      " ... (more hidden) ..."
     ]
    },
    {
     "name": "stdout",
     "output_type": "stream",
     "text": [
      "mealService 응답코드: 200\n",
      "mealServiceDietInfo 키 없음: {'RESULT': {'CODE': 'ERROR-300', 'MESSAGE': '필수 값이 누락되어 있습니다. 요청인자를 참고 하십시오.'}}\n",
      "[]\n",
      "7010744 목동고등학교\n",
      "급식 정보 조회 중: 날짜=20241030\n",
      "mealService 응답코드: 200\n",
      "mealServiceDietInfo 키 없음: {'RESULT': {'CODE': 'ERROR-300', 'MESSAGE': '필수 값이 누락되어 있습니다. 요청인자를 참고 하십시오.'}}\n",
      "[]\n"
     ]
    },
    {
     "name": "stderr",
     "output_type": "stream",
     "text": [
      " ... (more hidden) ..."
     ]
    },
    {
     "name": "stdout",
     "output_type": "stream",
     "text": [
      "7010079 무학여자고등학교\n",
      "급식 정보 조회 중: 날짜=20241030\n",
      "mealService 응답코드: 200\n",
      "mealServiceDietInfo 키 없음: {'RESULT': {'CODE': 'ERROR-300', 'MESSAGE': '필수 값이 누락되어 있습니다. 요청인자를 참고 하십시오.'}}\n",
      "[]\n",
      "7010166 문일고등학교\n",
      "급식 정보 조회 중: 날짜=20241030\n",
      "mealService 응답코드: 200\n",
      "mealServiceDietInfo 키 없음: {'RESULT': {'CODE': 'ERROR-300', 'MESSAGE': '필수 값이 누락되어 있습니다. 요청인자를 참고 하십시오.'}}\n",
      "[]\n"
     ]
    },
    {
     "name": "stderr",
     "output_type": "stream",
     "text": [
      " ... (more hidden) ..."
     ]
    },
    {
     "name": "stdout",
     "output_type": "stream",
     "text": [
      "7010701 문정고등학교\n",
      "급식 정보 조회 중: 날짜=20241030\n",
      "mealService 응답코드: 200\n",
      "mealServiceDietInfo 키 없음: {'RESULT': {'CODE': 'ERROR-300', 'MESSAGE': '필수 값이 누락되어 있습니다. 요청인자를 참고 하십시오.'}}\n",
      "[]\n",
      "7010959 문현고등학교\n",
      "급식 정보 조회 중: 날짜=20241030\n"
     ]
    },
    {
     "name": "stderr",
     "output_type": "stream",
     "text": [
      " ... (more hidden) ..."
     ]
    },
    {
     "name": "stdout",
     "output_type": "stream",
     "text": [
      "mealService 응답코드: 200\n",
      "mealServiceDietInfo 키 없음: {'RESULT': {'CODE': 'ERROR-300', 'MESSAGE': '필수 값이 누락되어 있습니다. 요청인자를 참고 하십시오.'}}\n",
      "[]\n",
      "7010591 미래산업과학고등학교\n",
      "급식 정보 조회 중: 날짜=20241030\n",
      "mealService 응답코드: 200\n",
      "mealServiceDietInfo 키 없음: {'RESULT': {'CODE': 'ERROR-300', 'MESSAGE': '필수 값이 누락되어 있습니다. 요청인자를 참고 하십시오.'}}\n",
      "[]\n"
     ]
    },
    {
     "name": "stderr",
     "output_type": "stream",
     "text": [
      " ... (more hidden) ..."
     ]
    },
    {
     "name": "stdout",
     "output_type": "stream",
     "text": [
      "7011569 미림마이스터고등학교\n",
      "급식 정보 조회 중: 날짜=20241030\n",
      "mealService 응답코드: 200\n",
      "mealServiceDietInfo 키 없음: {'RESULT': {'CODE': 'ERROR-300', 'MESSAGE': '필수 값이 누락되어 있습니다. 요청인자를 참고 하십시오.'}}\n",
      "[]\n",
      "7010167 미림여자고등학교\n",
      "급식 정보 조회 중: 날짜=20241030\n",
      "mealService 응답코드: 200\n",
      "mealServiceDietInfo 키 없음: {'RESULT': {'CODE': 'ERROR-300', 'MESSAGE': '필수 값이 누락되어 있습니다. 요청인자를 참고 하십시오.'}}\n",
      "[]\n"
     ]
    },
    {
     "name": "stderr",
     "output_type": "stream",
     "text": [
      " ... (more hidden) ..."
     ]
    },
    {
     "name": "stdout",
     "output_type": "stream",
     "text": [
      "7010080 반포고등학교\n",
      "급식 정보 조회 중: 날짜=20241030\n",
      "mealService 응답코드: 200\n",
      "mealServiceDietInfo 키 없음: {'RESULT': {'CODE': 'ERROR-300', 'MESSAGE': '필수 값이 누락되어 있습니다. 요청인자를 참고 하십시오.'}}\n",
      "[]\n",
      "7010590 방산고등학교\n",
      "급식 정보 조회 중: 날짜=20241030\n",
      "mealService 응답코드: 200\n",
      "mealServiceDietInfo 키 없음: {'RESULT': {'CODE': 'ERROR-300', 'MESSAGE': '필수 값이 누락되어 있습니다. 요청인자를 참고 하십시오.'}}\n",
      "[]\n"
     ]
    },
    {
     "name": "stderr",
     "output_type": "stream",
     "text": [
      " ... (more hidden) ..."
     ]
    },
    {
     "name": "stdout",
     "output_type": "stream",
     "text": [
      "7010168 배명고등학교\n",
      "급식 정보 조회 중: 날짜=20241030\n",
      "mealService 응답코드: 200\n",
      "mealServiceDietInfo 키 없음: {'RESULT': {'CODE': 'ERROR-300', 'MESSAGE': '필수 값이 누락되어 있습니다. 요청인자를 참고 하십시오.'}}\n",
      "[]\n",
      "7010169 배문고등학교\n",
      "급식 정보 조회 중: 날짜=20241030\n"
     ]
    },
    {
     "name": "stderr",
     "output_type": "stream",
     "text": [
      " ... (more hidden) ..."
     ]
    },
    {
     "name": "stdout",
     "output_type": "stream",
     "text": [
      "mealService 응답코드: 200\n",
      "mealServiceDietInfo 키 없음: {'RESULT': {'CODE': 'ERROR-300', 'MESSAGE': '필수 값이 누락되어 있습니다. 요청인자를 참고 하십시오.'}}\n",
      "[]\n",
      "7010170 배재고등학교\n",
      "급식 정보 조회 중: 날짜=20241030\n",
      "mealService 응답코드: 200\n",
      "mealServiceDietInfo 키 없음: {'RESULT': {'CODE': 'ERROR-300', 'MESSAGE': '필수 값이 누락되어 있습니다. 요청인자를 참고 하십시오.'}}\n",
      "[]\n"
     ]
    },
    {
     "name": "stderr",
     "output_type": "stream",
     "text": [
      " ... (more hidden) ..."
     ]
    },
    {
     "name": "stdout",
     "output_type": "stream",
     "text": [
      "7010171 배화여자고등학교\n",
      "급식 정보 조회 중: 날짜=20241030\n",
      "mealService 응답코드: 200\n",
      "mealServiceDietInfo 키 없음: {'RESULT': {'CODE': 'ERROR-300', 'MESSAGE': '필수 값이 누락되어 있습니다. 요청인자를 참고 하십시오.'}}\n",
      "[]\n",
      "7010172 백암고등학교\n",
      "급식 정보 조회 중: 날짜=20241030\n",
      "mealService 응답코드: 200\n",
      "mealServiceDietInfo 키 없음: {'RESULT': {'CODE': 'ERROR-300', 'MESSAGE': '필수 값이 누락되어 있습니다. 요청인자를 참고 하십시오.'}}\n",
      "[]\n"
     ]
    },
    {
     "name": "stderr",
     "output_type": "stream",
     "text": [
      " ... (more hidden) ..."
     ]
    },
    {
     "name": "stdout",
     "output_type": "stream",
     "text": [
      "7010173 보성고등학교\n",
      "급식 정보 조회 중: 날짜=20241030\n",
      "mealService 응답코드: 200\n",
      "mealServiceDietInfo 키 없음: {'RESULT': {'CODE': 'ERROR-300', 'MESSAGE': '필수 값이 누락되어 있습니다. 요청인자를 참고 하십시오.'}}\n",
      "[]\n",
      "7010174 보성여자고등학교\n",
      "급식 정보 조회 중: 날짜=20241030\n",
      "mealService 응답코드: 200\n",
      "mealServiceDietInfo 키 없음: {'RESULT': {'CODE': 'ERROR-300', 'MESSAGE': '필수 값이 누락되어 있습니다. 요청인자를 참고 하십시오.'}}\n",
      "[]\n"
     ]
    },
    {
     "name": "stderr",
     "output_type": "stream",
     "text": [
      " ... (more hidden) ..."
     ]
    },
    {
     "name": "stdout",
     "output_type": "stream",
     "text": [
      "7010813 보인고등학교\n",
      "급식 정보 조회 중: 날짜=20241030\n",
      "mealService 응답코드: 200\n",
      "mealServiceDietInfo 키 없음: {'RESULT': {'CODE': 'ERROR-300', 'MESSAGE': '필수 값이 누락되어 있습니다. 요청인자를 참고 하십시오.'}}\n",
      "[]\n",
      "7010736 불암고등학교\n",
      "급식 정보 조회 중: 날짜=20241030\n"
     ]
    },
    {
     "name": "stderr",
     "output_type": "stream",
     "text": [
      " ... (more hidden) ..."
     ]
    },
    {
     "name": "stdout",
     "output_type": "stream",
     "text": [
      "mealService 응답코드: 200\n",
      "mealServiceDietInfo 키 없음: {'RESULT': {'CODE': 'ERROR-300', 'MESSAGE': '필수 값이 누락되어 있습니다. 요청인자를 참고 하십시오.'}}\n",
      "[]\n",
      "7010985 삼각산고등학교\n",
      "급식 정보 조회 중: 날짜=20241030\n",
      "mealService 응답코드: 200\n",
      "mealServiceDietInfo 키 없음: {'RESULT': {'CODE': 'ERROR-300', 'MESSAGE': '필수 값이 누락되어 있습니다. 요청인자를 참고 하십시오.'}}\n",
      "[]\n"
     ]
    },
    {
     "name": "stderr",
     "output_type": "stream",
     "text": [
      " ... (more hidden) ..."
     ]
    },
    {
     "name": "stdout",
     "output_type": "stream",
     "text": [
      "7010081 삼성고등학교\n",
      "급식 정보 조회 중: 날짜=20241030\n",
      "mealService 응답코드: 200\n",
      "mealServiceDietInfo 키 없음: {'RESULT': {'CODE': 'ERROR-300', 'MESSAGE': '필수 값이 누락되어 있습니다. 요청인자를 참고 하십시오.'}}\n",
      "[]\n",
      "7010082 상계고등학교\n",
      "급식 정보 조회 중: 날짜=20241030\n",
      "mealService 응답코드: 200\n",
      "mealServiceDietInfo 키 없음: {'RESULT': {'CODE': 'ERROR-300', 'MESSAGE': '필수 값이 누락되어 있습니다. 요청인자를 참고 하십시오.'}}\n",
      "[]\n"
     ]
    },
    {
     "name": "stderr",
     "output_type": "stream",
     "text": [
      " ... (more hidden) ..."
     ]
    },
    {
     "name": "stdout",
     "output_type": "stream",
     "text": [
      "7010593 상명고등학교\n",
      "급식 정보 조회 중: 날짜=20241030\n",
      "mealService 응답코드: 200\n",
      "mealServiceDietInfo 키 없음: {'RESULT': {'CODE': 'ERROR-300', 'MESSAGE': '필수 값이 누락되어 있습니다. 요청인자를 참고 하십시오.'}}\n",
      "[]\n",
      "7010178 상명대학교사범대학부속여자고등학교\n",
      "급식 정보 조회 중: 날짜=20241030\n"
     ]
    },
    {
     "name": "stderr",
     "output_type": "stream",
     "text": [
      " ... (more hidden) ..."
     ]
    },
    {
     "name": "stdout",
     "output_type": "stream",
     "text": [
      "mealService 응답코드: 200\n",
      "mealServiceDietInfo 키 없음: {'RESULT': {'CODE': 'ERROR-300', 'MESSAGE': '필수 값이 누락되어 있습니다. 요청인자를 참고 하십시오.'}}\n",
      "[]\n",
      "7010179 상문고등학교\n",
      "급식 정보 조회 중: 날짜=20241030\n",
      "mealService 응답코드: 200\n",
      "mealServiceDietInfo 키 없음: {'RESULT': {'CODE': 'ERROR-300', 'MESSAGE': '필수 값이 누락되어 있습니다. 요청인자를 참고 하십시오.'}}\n",
      "[]\n"
     ]
    },
    {
     "name": "stderr",
     "output_type": "stream",
     "text": [
      " ... (more hidden) ..."
     ]
    },
    {
     "name": "stdout",
     "output_type": "stream",
     "text": [
      "7010806 상암고등학교\n",
      "급식 정보 조회 중: 날짜=20241030\n",
      "mealService 응답코드: 200\n",
      "mealServiceDietInfo 키 없음: {'RESULT': {'CODE': 'ERROR-300', 'MESSAGE': '필수 값이 누락되어 있습니다. 요청인자를 참고 하십시오.'}}\n",
      "[]\n",
      "7010916 상일미디어고등학교\n",
      "급식 정보 조회 중: 날짜=20241030\n",
      "mealService 응답코드: 200\n",
      "mealServiceDietInfo 키 없음: {'RESULT': {'CODE': 'ERROR-300', 'MESSAGE': '필수 값이 누락되어 있습니다. 요청인자를 참고 하십시오.'}}\n",
      "[]\n"
     ]
    },
    {
     "name": "stderr",
     "output_type": "stream",
     "text": [
      " ... (more hidden) ..."
     ]
    },
    {
     "name": "stdout",
     "output_type": "stream",
     "text": [
      "7010181 상일여자고등학교\n",
      "급식 정보 조회 중: 날짜=20241030\n",
      "mealService 응답코드: 200\n",
      "mealServiceDietInfo 키 없음: {'RESULT': {'CODE': 'ERROR-300', 'MESSAGE': '필수 값이 누락되어 있습니다. 요청인자를 참고 하십시오.'}}\n",
      "[]\n",
      "7010182 서라벌고등학교\n",
      "급식 정보 조회 중: 날짜=20241030\n",
      "mealService 응답코드: 200\n",
      "mealServiceDietInfo 키 없음: {'RESULT': {'CODE': 'ERROR-300', 'MESSAGE': '필수 값이 누락되어 있습니다. 요청인자를 참고 하십시오.'}}\n",
      "[]\n"
     ]
    },
    {
     "name": "stderr",
     "output_type": "stream",
     "text": [
      " ... (more hidden) ..."
     ]
    },
    {
     "name": "stdout",
     "output_type": "stream",
     "text": [
      "7010183 서문여자고등학교\n",
      "급식 정보 조회 중: 날짜=20241030\n",
      "mealService 응답코드: 200\n",
      "mealServiceDietInfo 키 없음: {'RESULT': {'CODE': 'ERROR-300', 'MESSAGE': '필수 값이 누락되어 있습니다. 요청인자를 참고 하십시오.'}}\n",
      "[]\n",
      "7010721 서서울생활과학고등학교\n",
      "급식 정보 조회 중: 날짜=20241030\n"
     ]
    },
    {
     "name": "stderr",
     "output_type": "stream",
     "text": [
      " ... (more hidden) ..."
     ]
    },
    {
     "name": "stdout",
     "output_type": "stream",
     "text": [
      "mealService 응답코드: 200\n",
      "mealServiceDietInfo 키 없음: {'RESULT': {'CODE': 'ERROR-300', 'MESSAGE': '필수 값이 누락되어 있습니다. 요청인자를 참고 하십시오.'}}\n",
      "[]\n",
      "7010083 서울고등학교\n",
      "급식 정보 조회 중: 날짜=20241030\n",
      "mealService 응답코드: 200\n",
      "mealServiceDietInfo 키 없음: {'RESULT': {'CODE': 'ERROR-300', 'MESSAGE': '필수 값이 누락되어 있습니다. 요청인자를 참고 하십시오.'}}\n",
      "[]\n"
     ]
    },
    {
     "name": "stderr",
     "output_type": "stream",
     "text": [
      " ... (more hidden) ..."
     ]
    },
    {
     "name": "stdout",
     "output_type": "stream",
     "text": [
      "7010278 서울공업고등학교\n",
      "급식 정보 조회 중: 날짜=20241030\n",
      "mealService 응답코드: 200\n",
      "mealServiceDietInfo 키 없음: {'RESULT': {'CODE': 'ERROR-300', 'MESSAGE': '필수 값이 누락되어 있습니다. 요청인자를 참고 하십시오.'}}\n",
      "[]\n",
      "7010906 서울공연예술고등학교\n",
      "급식 정보 조회 중: 날짜=20241030\n"
     ]
    },
    {
     "name": "stderr",
     "output_type": "stream",
     "text": [
      " ... (more hidden) ..."
     ]
    },
    {
     "name": "stdout",
     "output_type": "stream",
     "text": [
      "mealService 응답코드: 200\n",
      "mealServiceDietInfo 키 없음: {'RESULT': {'CODE': 'ERROR-300', 'MESSAGE': '필수 값이 누락되어 있습니다. 요청인자를 참고 하십시오.'}}\n",
      "[]\n",
      "7010084 서울과학고등학교\n",
      "급식 정보 조회 중: 날짜=20241030\n",
      "mealService 응답코드: 200\n",
      "mealServiceDietInfo 키 없음: {'RESULT': {'CODE': 'ERROR-300', 'MESSAGE': '필수 값이 누락되어 있습니다. 요청인자를 참고 하십시오.'}}\n",
      "[]\n"
     ]
    },
    {
     "name": "stderr",
     "output_type": "stream",
     "text": [
      " ... (more hidden) ..."
     ]
    },
    {
     "name": "stdout",
     "output_type": "stream",
     "text": [
      "7010739 서울관광고등학교\n",
      "급식 정보 조회 중: 날짜=20241030\n",
      "mealService 응답코드: 200\n",
      "mealServiceDietInfo 키 없음: {'RESULT': {'CODE': 'ERROR-300', 'MESSAGE': '필수 값이 누락되어 있습니다. 요청인자를 참고 하십시오.'}}\n",
      "[]\n",
      "7010817 서울국제고등학교\n",
      "급식 정보 조회 중: 날짜=20241030\n",
      "mealService 응답코드: 200\n",
      "mealServiceDietInfo 키 없음: {'RESULT': {'CODE': 'ERROR-300', 'MESSAGE': '필수 값이 누락되어 있습니다. 요청인자를 참고 하십시오.'}}\n",
      "[]\n"
     ]
    },
    {
     "name": "stderr",
     "output_type": "stream",
     "text": [
      " ... (more hidden) ..."
     ]
    },
    {
     "name": "stdout",
     "output_type": "stream",
     "text": [
      "7010964 서울금융고등학교\n",
      "급식 정보 조회 중: 날짜=20241030\n",
      "mealService 응답코드: 200\n",
      "mealServiceDietInfo 키 없음: {'RESULT': {'CODE': 'ERROR-300', 'MESSAGE': '필수 값이 누락되어 있습니다. 요청인자를 참고 하십시오.'}}\n",
      "[]\n",
      "7011109 서울대학교사범대학부설고등학교\n",
      "급식 정보 조회 중: 날짜=20241030\n"
     ]
    },
    {
     "name": "stderr",
     "output_type": "stream",
     "text": [
      " ... (more hidden) ..."
     ]
    },
    {
     "name": "stdout",
     "output_type": "stream",
     "text": [
      "mealService 응답코드: 200\n",
      "mealServiceDietInfo 키 없음: {'RESULT': {'CODE': 'ERROR-300', 'MESSAGE': '필수 값이 누락되어 있습니다. 요청인자를 참고 하십시오.'}}\n",
      "[]\n",
      "7011180 서울도시과학기술고등학교\n",
      "급식 정보 조회 중: 날짜=20241030\n",
      "mealService 응답코드: 200\n",
      "mealServiceDietInfo 키 없음: {'RESULT': {'CODE': 'ERROR-300', 'MESSAGE': '필수 값이 누락되어 있습니다. 요청인자를 참고 하십시오.'}}\n",
      "[]\n"
     ]
    },
    {
     "name": "stderr",
     "output_type": "stream",
     "text": [
      " ... (more hidden) ..."
     ]
    },
    {
     "name": "stdout",
     "output_type": "stream",
     "text": [
      "7011539 서울동구고등학교\n",
      "급식 정보 조회 중: 날짜=20241030\n",
      "mealService 응답코드: 200\n",
      "mealServiceDietInfo 키 없음: {'RESULT': {'CODE': 'ERROR-300', 'MESSAGE': '필수 값이 누락되어 있습니다. 요청인자를 참고 하십시오.'}}\n",
      "[]\n",
      "7011494 서울동산고등학교\n",
      "급식 정보 조회 중: 날짜=20241030\n",
      "mealService 응답코드: 200\n",
      "mealServiceDietInfo 키 없음: {'RESULT': {'CODE': 'ERROR-300', 'MESSAGE': '필수 값이 누락되어 있습니다. 요청인자를 참고 하십시오.'}}\n",
      "[]\n"
     ]
    },
    {
     "name": "stderr",
     "output_type": "stream",
     "text": [
      " ... (more hidden) ..."
     ]
    },
    {
     "name": "stdout",
     "output_type": "stream",
     "text": [
      "7010741 서울디자인고등학교\n",
      "급식 정보 조회 중: 날짜=20241030\n",
      "mealService 응답코드: 200\n",
      "mealServiceDietInfo 키 없음: {'RESULT': {'CODE': 'ERROR-300', 'MESSAGE': '필수 값이 누락되어 있습니다. 요청인자를 참고 하십시오.'}}\n",
      "[]\n",
      "7011585 서울디지털콘텐츠고등학교\n",
      "급식 정보 조회 중: 날짜=20241030\n"
     ]
    },
    {
     "name": "stderr",
     "output_type": "stream",
     "text": [
      " ... (more hidden) ..."
     ]
    },
    {
     "name": "stdout",
     "output_type": "stream",
     "text": [
      "mealService 응답코드: 200\n",
      "mealServiceDietInfo 키 없음: {'RESULT': {'CODE': 'ERROR-300', 'MESSAGE': '필수 값이 누락되어 있습니다. 요청인자를 참고 하십시오.'}}\n",
      "[]\n",
      "7010572 서울디지텍고등학교\n",
      "급식 정보 조회 중: 날짜=20241030\n",
      "mealService 응답코드: 200\n",
      "mealServiceDietInfo 키 없음: {'RESULT': {'CODE': 'ERROR-300', 'MESSAGE': '필수 값이 누락되어 있습니다. 요청인자를 참고 하십시오.'}}\n",
      "[]\n"
     ]
    },
    {
     "name": "stderr",
     "output_type": "stream",
     "text": [
      " ... (more hidden) ..."
     ]
    },
    {
     "name": "stdout",
     "output_type": "stream",
     "text": [
      "7010738 서울로봇고등학교\n",
      "급식 정보 조회 중: 날짜=20241030\n",
      "mealService 응답코드: 200\n",
      "mealServiceDietInfo 키 없음: {'RESULT': {'CODE': 'ERROR-300', 'MESSAGE': '필수 값이 누락되어 있습니다. 요청인자를 참고 하십시오.'}}\n",
      "[]\n",
      "7011506 서울매그넷고등학교\n",
      "급식 정보 조회 중: 날짜=20241030\n",
      "mealService 응답코드: 200\n",
      "mealServiceDietInfo 키 없음: {'RESULT': {'CODE': 'ERROR-300', 'MESSAGE': '필수 값이 누락되어 있습니다. 요청인자를 참고 하십시오.'}}\n",
      "[]\n"
     ]
    },
    {
     "name": "stderr",
     "output_type": "stream",
     "text": [
      " ... (more hidden) ..."
     ]
    },
    {
     "name": "stdout",
     "output_type": "stream",
     "text": [
      "7010697 서울문영여자고등학교\n",
      "급식 정보 조회 중: 날짜=20241030\n",
      "mealService 응답코드: 200\n",
      "mealServiceDietInfo 키 없음: {'RESULT': {'CODE': 'ERROR-300', 'MESSAGE': '필수 값이 누락되어 있습니다. 요청인자를 참고 하십시오.'}}\n",
      "[]\n",
      "7010888 서울문화고등학교\n",
      "급식 정보 조회 중: 날짜=20241030\n",
      "mealService 응답코드: 200\n",
      "mealServiceDietInfo 키 없음: {'RESULT': {'CODE': 'ERROR-300', 'MESSAGE': '필수 값이 누락되어 있습니다. 요청인자를 참고 하십시오.'}}\n",
      "[]\n"
     ]
    },
    {
     "name": "stderr",
     "output_type": "stream",
     "text": [
      " ... (more hidden) ..."
     ]
    },
    {
     "name": "stdout",
     "output_type": "stream",
     "text": [
      "7010185 서울미술고등학교\n",
      "급식 정보 조회 중: 날짜=20241030\n",
      "mealService 응답코드: 200\n",
      "mealServiceDietInfo 키 없음: {'RESULT': {'CODE': 'ERROR-300', 'MESSAGE': '필수 값이 누락되어 있습니다. 요청인자를 참고 하십시오.'}}\n",
      "[]\n",
      "7011575 서울반도체고등학교\n",
      "급식 정보 조회 중: 날짜=20241030\n",
      "mealService 응답코드: 200\n",
      "mealServiceDietInfo 키 없음: {'RESULT': {'CODE': 'ERROR-300', 'MESSAGE': '필수 값이 누락되어 있습니다. 요청인자를 참고 하십시오.'}}\n",
      "[]\n"
     ]
    },
    {
     "name": "stderr",
     "output_type": "stream",
     "text": [
      " ... (more hidden) ..."
     ]
    },
    {
     "name": "stdout",
     "output_type": "stream",
     "text": [
      "7010836 서울방송고등학교\n",
      "급식 정보 조회 중: 날짜=20241030\n",
      "mealService 응답코드: 200\n",
      "mealServiceDietInfo 키 없음: {'RESULT': {'CODE': 'ERROR-300', 'MESSAGE': '필수 값이 누락되어 있습니다. 요청인자를 참고 하십시오.'}}\n",
      "[]\n",
      "7011584 서울백영고등학교\n",
      "급식 정보 조회 중: 날짜=20241030\n",
      "mealService 응답코드: 200\n",
      "mealServiceDietInfo 키 없음: {'RESULT': {'CODE': 'ERROR-300', 'MESSAGE': '필수 값이 누락되어 있습니다. 요청인자를 참고 하십시오.'}}\n",
      "[]\n"
     ]
    },
    {
     "name": "stderr",
     "output_type": "stream",
     "text": [
      " ... (more hidden) ..."
     ]
    },
    {
     "name": "stdout",
     "output_type": "stream",
     "text": [
      "7010186 서울세종고등학교\n",
      "급식 정보 조회 중: 날짜=20241030\n",
      "mealService 응답코드: 200\n",
      "mealServiceDietInfo 키 없음: {'RESULT': {'CODE': 'ERROR-300', 'MESSAGE': '필수 값이 누락되어 있습니다. 요청인자를 참고 하십시오.'}}\n",
      "[]\n",
      "7011492 서울신정고등학교\n",
      "급식 정보 조회 중: 날짜=20241030\n",
      "mealService 응답코드: 200\n",
      "mealServiceDietInfo 키 없음: {'RESULT': {'CODE': 'ERROR-300', 'MESSAGE': '필수 값이 누락되어 있습니다. 요청인자를 참고 하십시오.'}}\n",
      "[]\n"
     ]
    },
    {
     "name": "stderr",
     "output_type": "stream",
     "text": [
      " ... (more hidden) ..."
     ]
    },
    {
     "name": "stdout",
     "output_type": "stream",
     "text": [
      "7010960 서울아이티고등학교\n",
      "급식 정보 조회 중: 날짜=20241030\n",
      "mealService 응답코드: 200\n",
      "mealServiceDietInfo 키 없음: {'RESULT': {'CODE': 'ERROR-300', 'MESSAGE': '필수 값이 누락되어 있습니다. 요청인자를 참고 하십시오.'}}\n",
      "[]\n",
      "7010085 서울여자고등학교\n",
      "급식 정보 조회 중: 날짜=20241030\n",
      "mealService 응답코드: 200\n",
      "mealServiceDietInfo 키 없음: {'RESULT': {'CODE': 'ERROR-300', 'MESSAGE': '필수 값이 누락되어 있습니다. 요청인자를 참고 하십시오.'}}\n",
      "[]\n"
     ]
    },
    {
     "name": "stderr",
     "output_type": "stream",
     "text": [
      " ... (more hidden) ..."
     ]
    },
    {
     "name": "stdout",
     "output_type": "stream",
     "text": [
      "7010340 서울여자상업고등학교\n",
      "급식 정보 조회 중: 날짜=20241030\n",
      "mealService 응답코드: 200\n",
      "mealServiceDietInfo 키 없음: {'RESULT': {'CODE': 'ERROR-300', 'MESSAGE': '필수 값이 누락되어 있습니다. 요청인자를 참고 하십시오.'}}\n",
      "[]\n",
      "7010795 서울영상고등학교\n",
      "급식 정보 조회 중: 날짜=20241030\n"
     ]
    },
    {
     "name": "stderr",
     "output_type": "stream",
     "text": [
      " ... (more hidden) ..."
     ]
    },
    {
     "name": "stdout",
     "output_type": "stream",
     "text": [
      "mealService 응답코드: 200\n",
      "mealServiceDietInfo 키 없음: {'RESULT': {'CODE': 'ERROR-300', 'MESSAGE': '필수 값이 누락되어 있습니다. 요청인자를 참고 하십시오.'}}\n",
      "[]\n",
      "7010187 서울예술고등학교\n",
      "급식 정보 조회 중: 날짜=20241030\n",
      "mealService 응답코드: 200\n",
      "mealServiceDietInfo 키 없음: {'RESULT': {'CODE': 'ERROR-300', 'MESSAGE': '필수 값이 누락되어 있습니다. 요청인자를 참고 하십시오.'}}\n",
      "[]\n"
     ]
    },
    {
     "name": "stderr",
     "output_type": "stream",
     "text": [
      " ... (more hidden) ..."
     ]
    },
    {
     "name": "stdout",
     "output_type": "stream",
     "text": [
      "7010188 서울외국어고등학교\n",
      "급식 정보 조회 중: 날짜=20241030\n",
      "mealService 응답코드: 200\n",
      "mealServiceDietInfo 키 없음: {'RESULT': {'CODE': 'ERROR-300', 'MESSAGE': '필수 값이 누락되어 있습니다. 요청인자를 참고 하십시오.'}}\n",
      "[]\n",
      "7011558 서울웹툰애니메이션고등학교\n",
      "급식 정보 조회 중: 날짜=20241030\n",
      "mealService 응답코드: 200\n",
      "mealServiceDietInfo 키 없음: {'RESULT': {'CODE': 'ERROR-300', 'MESSAGE': '필수 값이 누락되어 있습니다. 요청인자를 참고 하십시오.'}}\n",
      "[]\n"
     ]
    },
    {
     "name": "stderr",
     "output_type": "stream",
     "text": [
      " ... (more hidden) ..."
     ]
    },
    {
     "name": "stdout",
     "output_type": "stream",
     "text": [
      "7011486 서울의료보건고등학교\n",
      "급식 정보 조회 중: 날짜=20241030\n",
      "mealService 응답코드: 200\n",
      "mealServiceDietInfo 키 없음: {'RESULT': {'CODE': 'ERROR-300', 'MESSAGE': '필수 값이 누락되어 있습니다. 요청인자를 참고 하십시오.'}}\n",
      "[]\n",
      "7011498 서울인공지능고등학교\n",
      "급식 정보 조회 중: 날짜=20241030\n",
      "mealService 응답코드: 200\n",
      "mealServiceDietInfo 키 없음: {'RESULT': {'CODE': 'ERROR-300', 'MESSAGE': '필수 값이 누락되어 있습니다. 요청인자를 참고 하십시오.'}}\n",
      "[]\n"
     ]
    },
    {
     "name": "stderr",
     "output_type": "stream",
     "text": [
      " ... (more hidden) ..."
     ]
    },
    {
     "name": "stdout",
     "output_type": "stream",
     "text": [
      "7011513 서울정화고등학교\n",
      "급식 정보 조회 중: 날짜=20241030\n",
      "mealService 응답코드: 200\n",
      "mealServiceDietInfo 키 없음: {'RESULT': {'CODE': 'ERROR-300', 'MESSAGE': '필수 값이 누락되어 있습니다. 요청인자를 참고 하십시오.'}}\n",
      "[]\n",
      "7010086 서울체육고등학교\n",
      "급식 정보 조회 중: 날짜=20241030\n",
      "mealService 응답코드: 200\n",
      "mealServiceDietInfo 키 없음: {'RESULT': {'CODE': 'ERROR-300', 'MESSAGE': '필수 값이 누락되어 있습니다. 요청인자를 참고 하십시오.'}}\n",
      "[]\n"
     ]
    },
    {
     "name": "stderr",
     "output_type": "stream",
     "text": [
      " ... (more hidden) ..."
     ]
    },
    {
     "name": "stdout",
     "output_type": "stream",
     "text": [
      "7011213 서울컨벤션고등학교\n",
      "급식 정보 조회 중: 날짜=20241030\n",
      "mealService 응답코드: 200\n",
      "mealServiceDietInfo 키 없음: {'RESULT': {'CODE': 'ERROR-300', 'MESSAGE': '필수 값이 누락되어 있습니다. 요청인자를 참고 하십시오.'}}\n",
      "[]\n",
      "7011491 서일문화예술고등학교\n",
      "급식 정보 조회 중: 날짜=20241030\n"
     ]
    },
    {
     "name": "stderr",
     "output_type": "stream",
     "text": [
      " ... (more hidden) ..."
     ]
    },
    {
     "name": "stdout",
     "output_type": "stream",
     "text": [
      "mealService 응답코드: 200\n",
      "mealServiceDietInfo 키 없음: {'RESULT': {'CODE': 'ERROR-300', 'MESSAGE': '필수 값이 누락되어 있습니다. 요청인자를 참고 하십시오.'}}\n",
      "[]\n",
      "7010087 서초고등학교\n",
      "급식 정보 조회 중: 날짜=20241030\n",
      "mealService 응답코드: 200\n",
      "mealServiceDietInfo 키 없음: {'RESULT': {'CODE': 'ERROR-300', 'MESSAGE': '필수 값이 누락되어 있습니다. 요청인자를 참고 하십시오.'}}\n",
      "[]\n"
     ]
    },
    {
     "name": "stderr",
     "output_type": "stream",
     "text": [
      " ... (more hidden) ..."
     ]
    },
    {
     "name": "stdout",
     "output_type": "stream",
     "text": [
      "7010088 석관고등학교\n",
      "급식 정보 조회 중: 날짜=20241030\n",
      "mealService 응답코드: 200\n",
      "mealServiceDietInfo 키 없음: {'RESULT': {'CODE': 'ERROR-300', 'MESSAGE': '필수 값이 누락되어 있습니다. 요청인자를 참고 하십시오.'}}\n",
      "[]\n",
      "7010189 선덕고등학교\n",
      "급식 정보 조회 중: 날짜=20241030\n"
     ]
    },
    {
     "name": "stderr",
     "output_type": "stream",
     "text": [
      " ... (more hidden) ..."
     ]
    },
    {
     "name": "stdout",
     "output_type": "stream",
     "text": [
      "mealService 응답코드: 200\n",
      "mealServiceDietInfo 키 없음: {'RESULT': {'CODE': 'ERROR-300', 'MESSAGE': '필수 값이 누락되어 있습니다. 요청인자를 참고 하십시오.'}}\n",
      "[]\n",
      "7010536 선린인터넷고등학교\n",
      "급식 정보 조회 중: 날짜=20241030\n",
      "mealService 응답코드: 200\n",
      "mealServiceDietInfo 키 없음: {'RESULT': {'CODE': 'ERROR-300', 'MESSAGE': '필수 값이 누락되어 있습니다. 요청인자를 참고 하십시오.'}}\n",
      "[]\n"
     ]
    },
    {
     "name": "stderr",
     "output_type": "stream",
     "text": [
      " ... (more hidden) ..."
     ]
    },
    {
     "name": "stdout",
     "output_type": "stream",
     "text": [
      "7010984 선사고등학교\n",
      "급식 정보 조회 중: 날짜=20241030\n",
      "mealService 응답코드: 200\n",
      "mealServiceDietInfo 키 없음: {'RESULT': {'CODE': 'ERROR-300', 'MESSAGE': '필수 값이 누락되어 있습니다. 요청인자를 참고 하십시오.'}}\n",
      "[]\n",
      "7010734 선유고등학교\n",
      "급식 정보 조회 중: 날짜=20241030\n"
     ]
    },
    {
     "name": "stderr",
     "output_type": "stream",
     "text": [
      " ... (more hidden) ..."
     ]
    },
    {
     "name": "stdout",
     "output_type": "stream",
     "text": [
      "mealService 응답코드: 200\n",
      "mealServiceDietInfo 키 없음: {'RESULT': {'CODE': 'ERROR-300', 'MESSAGE': '필수 값이 누락되어 있습니다. 요청인자를 참고 하십시오.'}}\n",
      "[]\n",
      "7011508 선일빅데이터고등학교\n",
      "급식 정보 조회 중: 날짜=20241030\n",
      "mealService 응답코드: 200\n",
      "mealServiceDietInfo 키 없음: {'RESULT': {'CODE': 'ERROR-300', 'MESSAGE': '필수 값이 누락되어 있습니다. 요청인자를 참고 하십시오.'}}\n",
      "[]\n"
     ]
    },
    {
     "name": "stderr",
     "output_type": "stream",
     "text": [
      " ... (more hidden) ..."
     ]
    },
    {
     "name": "stdout",
     "output_type": "stream",
     "text": [
      "7010190 선일여자고등학교\n",
      "급식 정보 조회 중: 날짜=20241030\n",
      "mealService 응답코드: 200\n",
      "mealServiceDietInfo 키 없음: {'RESULT': {'CODE': 'ERROR-300', 'MESSAGE': '필수 값이 누락되어 있습니다. 요청인자를 참고 하십시오.'}}\n",
      "[]\n",
      "7010191 선정고등학교\n",
      "급식 정보 조회 중: 날짜=20241030\n"
     ]
    },
    {
     "name": "stderr",
     "output_type": "stream",
     "text": [
      " ... (more hidden) ..."
     ]
    },
    {
     "name": "stdout",
     "output_type": "stream",
     "text": [
      "mealService 응답코드: 200\n",
      "mealServiceDietInfo 키 없음: {'RESULT': {'CODE': 'ERROR-300', 'MESSAGE': '필수 값이 누락되어 있습니다. 요청인자를 참고 하십시오.'}}\n",
      "[]\n",
      "7011315 선정국제관광고등학교\n",
      "급식 정보 조회 중: 날짜=20241030\n",
      "mealService 응답코드: 200\n",
      "mealServiceDietInfo 키 없음: {'RESULT': {'CODE': 'ERROR-300', 'MESSAGE': '필수 값이 누락되어 있습니다. 요청인자를 참고 하십시오.'}}\n",
      "[]\n"
     ]
    },
    {
     "name": "stderr",
     "output_type": "stream",
     "text": [
      " ... (more hidden) ..."
     ]
    },
    {
     "name": "stdout",
     "output_type": "stream",
     "text": [
      "7010192 선화예술고등학교\n",
      "급식 정보 조회 중: 날짜=20241030\n",
      "mealService 응답코드: 200\n",
      "mealServiceDietInfo 키 없음: {'RESULT': {'CODE': 'ERROR-300', 'MESSAGE': '필수 값이 누락되어 있습니다. 요청인자를 참고 하십시오.'}}\n",
      "[]\n",
      "7010193 성남고등학교\n",
      "급식 정보 조회 중: 날짜=20241030\n",
      "mealService 응답코드: 200\n",
      "mealServiceDietInfo 키 없음: {'RESULT': {'CODE': 'ERROR-300', 'MESSAGE': '필수 값이 누락되어 있습니다. 요청인자를 참고 하십시오.'}}\n",
      "[]\n"
     ]
    },
    {
     "name": "stderr",
     "output_type": "stream",
     "text": [
      " ... (more hidden) ..."
     ]
    },
    {
     "name": "stdout",
     "output_type": "stream",
     "text": [
      "7011179 성덕고등학교\n",
      "급식 정보 조회 중: 날짜=20241030\n",
      "mealService 응답코드: 200\n",
      "mealServiceDietInfo 키 없음: {'RESULT': {'CODE': 'ERROR-300', 'MESSAGE': '필수 값이 누락되어 있습니다. 요청인자를 참고 하십시오.'}}\n",
      "[]\n",
      "7010089 성동고등학교\n",
      "급식 정보 조회 중: 날짜=20241030\n"
     ]
    },
    {
     "name": "stderr",
     "output_type": "stream",
     "text": [
      " ... (more hidden) ..."
     ]
    },
    {
     "name": "stdout",
     "output_type": "stream",
     "text": [
      "mealService 응답코드: 200\n",
      "mealServiceDietInfo 키 없음: {'RESULT': {'CODE': 'ERROR-300', 'MESSAGE': '필수 값이 누락되어 있습니다. 요청인자를 참고 하십시오.'}}\n",
      "[]\n",
      "7010737 성동공업고등학교\n",
      "급식 정보 조회 중: 날짜=20241030\n",
      "mealService 응답코드: 200\n",
      "mealServiceDietInfo 키 없음: {'RESULT': {'CODE': 'ERROR-300', 'MESSAGE': '필수 값이 누락되어 있습니다. 요청인자를 참고 하십시오.'}}\n",
      "[]\n"
     ]
    },
    {
     "name": "stderr",
     "output_type": "stream",
     "text": [
      " ... (more hidden) ...\n"
     ]
    },
    {
     "name": "stdout",
     "output_type": "stream",
     "text": [
      "7010889 성동글로벌경영고등학교\n",
      "급식 정보 조회 중: 날짜=20241030\n",
      "mealService 응답코드: 200\n",
      "mealServiceDietInfo 키 없음: {'RESULT': {'CODE': 'ERROR-300', 'MESSAGE': '필수 값이 누락되어 있습니다. 요청인자를 참고 하십시오.'}}\n",
      "[]\n",
      "응답코드 : 200\n"
     ]
    },
    {
     "name": "stderr",
     "output_type": "stream",
     "text": [
      " ... (more hidden) ..."
     ]
    },
    {
     "name": "stdout",
     "output_type": "stream",
     "text": [
      "7150119 가야고등학교\n",
      "급식 정보 조회 중: 날짜=20241030\n",
      "mealService 응답코드: 200\n",
      "mealServiceDietInfo 키 없음: {'RESULT': {'CODE': 'ERROR-300', 'MESSAGE': '필수 값이 누락되어 있습니다. 요청인자를 참고 하십시오.'}}\n",
      "[]\n",
      "7150084 개금고등학교\n",
      "급식 정보 조회 중: 날짜=20241030\n"
     ]
    },
    {
     "name": "stderr",
     "output_type": "stream",
     "text": [
      " ... (more hidden) ..."
     ]
    },
    {
     "name": "stdout",
     "output_type": "stream",
     "text": [
      "mealService 응답코드: 200\n",
      "mealServiceDietInfo 키 없음: {'RESULT': {'CODE': 'ERROR-300', 'MESSAGE': '필수 값이 누락되어 있습니다. 요청인자를 참고 하십시오.'}}\n",
      "[]\n",
      "7150396 개성고등학교\n",
      "급식 정보 조회 중: 날짜=20241030\n",
      "mealService 응답코드: 200\n",
      "mealServiceDietInfo 키 없음: {'RESULT': {'CODE': 'ERROR-300', 'MESSAGE': '필수 값이 누락되어 있습니다. 요청인자를 참고 하십시오.'}}\n",
      "[]\n"
     ]
    },
    {
     "name": "stderr",
     "output_type": "stream",
     "text": [
      " ... (more hidden) ..."
     ]
    },
    {
     "name": "stdout",
     "output_type": "stream",
     "text": [
      "7150120 건국고등학교\n",
      "급식 정보 조회 중: 날짜=20241030\n",
      "mealService 응답코드: 200\n",
      "mealServiceDietInfo 키 없음: {'RESULT': {'CODE': 'ERROR-300', 'MESSAGE': '필수 값이 누락되어 있습니다. 요청인자를 참고 하십시오.'}}\n",
      "[]\n",
      "7150085 경남고등학교\n",
      "급식 정보 조회 중: 날짜=20241030\n"
     ]
    },
    {
     "name": "stderr",
     "output_type": "stream",
     "text": [
      " ... (more hidden) ..."
     ]
    },
    {
     "name": "stdout",
     "output_type": "stream",
     "text": [
      "mealService 응답코드: 200\n",
      "mealServiceDietInfo 키 없음: {'RESULT': {'CODE': 'ERROR-300', 'MESSAGE': '필수 값이 누락되어 있습니다. 요청인자를 참고 하십시오.'}}\n",
      "[]\n",
      "7150166 경남공업고등학교\n",
      "급식 정보 조회 중: 날짜=20241030\n",
      "mealService 응답코드: 200\n",
      "mealServiceDietInfo 키 없음: {'RESULT': {'CODE': 'ERROR-300', 'MESSAGE': '필수 값이 누락되어 있습니다. 요청인자를 참고 하십시오.'}}\n",
      "[]\n"
     ]
    },
    {
     "name": "stderr",
     "output_type": "stream",
     "text": [
      " ... (more hidden) ..."
     ]
    },
    {
     "name": "stdout",
     "output_type": "stream",
     "text": [
      "7150086 경남여자고등학교\n",
      "급식 정보 조회 중: 날짜=20241030\n",
      "mealService 응답코드: 200\n",
      "mealServiceDietInfo 키 없음: {'RESULT': {'CODE': 'ERROR-300', 'MESSAGE': '필수 값이 누락되어 있습니다. 요청인자를 참고 하십시오.'}}\n",
      "[]\n",
      "7150429 경성전자고등학교\n",
      "급식 정보 조회 중: 날짜=20241030\n",
      "mealService 응답코드: 200\n",
      "mealServiceDietInfo 키 없음: {'RESULT': {'CODE': 'ERROR-300', 'MESSAGE': '필수 값이 누락되어 있습니다. 요청인자를 참고 하십시오.'}}\n",
      "[]\n"
     ]
    },
    {
     "name": "stderr",
     "output_type": "stream",
     "text": [
      " ... (more hidden) ..."
     ]
    },
    {
     "name": "stdout",
     "output_type": "stream",
     "text": [
      "7150121 경원고등학교\n",
      "급식 정보 조회 중: 날짜=20241030\n",
      "mealService 응답코드: 200\n",
      "mealServiceDietInfo 키 없음: {'RESULT': {'CODE': 'ERROR-300', 'MESSAGE': '필수 값이 누락되어 있습니다. 요청인자를 참고 하십시오.'}}\n",
      "[]\n",
      "7150423 경일고등학교\n",
      "급식 정보 조회 중: 날짜=20241030\n"
     ]
    },
    {
     "name": "stderr",
     "output_type": "stream",
     "text": [
      " ... (more hidden) ..."
     ]
    },
    {
     "name": "stdout",
     "output_type": "stream",
     "text": [
      "mealService 응답코드: 200\n",
      "mealServiceDietInfo 키 없음: {'RESULT': {'CODE': 'ERROR-300', 'MESSAGE': '필수 값이 누락되어 있습니다. 요청인자를 참고 하십시오.'}}\n",
      "[]\n",
      "7150122 경혜여자고등학교\n",
      "급식 정보 조회 중: 날짜=20241030\n",
      "mealService 응답코드: 200\n",
      "mealServiceDietInfo 키 없음: {'RESULT': {'CODE': 'ERROR-300', 'MESSAGE': '필수 값이 누락되어 있습니다. 요청인자를 참고 하십시오.'}}\n",
      "[]\n"
     ]
    },
    {
     "name": "stderr",
     "output_type": "stream",
     "text": [
      " ... (more hidden) ..."
     ]
    },
    {
     "name": "stdout",
     "output_type": "stream",
     "text": [
      "7150623 계성여자고등학교\n",
      "급식 정보 조회 중: 날짜=20241030\n",
      "mealService 응답코드: 200\n",
      "mealServiceDietInfo 키 없음: {'RESULT': {'CODE': 'ERROR-300', 'MESSAGE': '필수 값이 누락되어 있습니다. 요청인자를 참고 하십시오.'}}\n",
      "[]\n",
      "7150123 광명고등학교\n",
      "급식 정보 조회 중: 날짜=20241030\n"
     ]
    },
    {
     "name": "stderr",
     "output_type": "stream",
     "text": [
      " ... (more hidden) ..."
     ]
    },
    {
     "name": "stdout",
     "output_type": "stream",
     "text": [
      "mealService 응답코드: 200\n",
      "mealServiceDietInfo 키 없음: {'RESULT': {'CODE': 'ERROR-300', 'MESSAGE': '필수 값이 누락되어 있습니다. 요청인자를 참고 하십시오.'}}\n",
      "[]\n",
      "7150087 구덕고등학교\n",
      "급식 정보 조회 중: 날짜=20241030\n",
      "mealService 응답코드: 200\n",
      "mealServiceDietInfo 키 없음: {'RESULT': {'CODE': 'ERROR-300', 'MESSAGE': '필수 값이 누락되어 있습니다. 요청인자를 참고 하십시오.'}}\n",
      "[]\n"
     ]
    },
    {
     "name": "stderr",
     "output_type": "stream",
     "text": [
      " ... (more hidden) ..."
     ]
    },
    {
     "name": "stdout",
     "output_type": "stream",
     "text": [
      "7150372 금곡고등학교\n",
      "급식 정보 조회 중: 날짜=20241030\n",
      "mealService 응답코드: 200\n",
      "mealServiceDietInfo 키 없음: {'RESULT': {'CODE': 'ERROR-300', 'MESSAGE': '필수 값이 누락되어 있습니다. 요청인자를 참고 하십시오.'}}\n",
      "[]\n",
      "7150424 금명여자고등학교\n",
      "급식 정보 조회 중: 날짜=20241030\n"
     ]
    },
    {
     "name": "stderr",
     "output_type": "stream",
     "text": [
      " ... (more hidden) ..."
     ]
    },
    {
     "name": "stdout",
     "output_type": "stream",
     "text": [
      "mealService 응답코드: 200\n",
      "mealServiceDietInfo 키 없음: {'RESULT': {'CODE': 'ERROR-300', 'MESSAGE': '필수 값이 누락되어 있습니다. 요청인자를 참고 하십시오.'}}\n",
      "[]\n",
      "7150738 금샘고등학교\n",
      "급식 정보 조회 중: 날짜=20241030\n",
      "mealService 응답코드: 200\n",
      "mealServiceDietInfo 키 없음: {'RESULT': {'CODE': 'ERROR-300', 'MESSAGE': '필수 값이 누락되어 있습니다. 요청인자를 참고 하십시오.'}}\n",
      "[]\n"
     ]
    },
    {
     "name": "stderr",
     "output_type": "stream",
     "text": [
      " ... (more hidden) ..."
     ]
    },
    {
     "name": "stdout",
     "output_type": "stream",
     "text": [
      "7150124 금성고등학교\n",
      "급식 정보 조회 중: 날짜=20241030\n",
      "mealService 응답코드: 200\n",
      "mealServiceDietInfo 키 없음: {'RESULT': {'CODE': 'ERROR-300', 'MESSAGE': '필수 값이 누락되어 있습니다. 요청인자를 참고 하십시오.'}}\n",
      "[]\n",
      "7150090 금정고등학교\n",
      "급식 정보 조회 중: 날짜=20241030\n"
     ]
    },
    {
     "name": "stderr",
     "output_type": "stream",
     "text": [
      " ... (more hidden) ..."
     ]
    },
    {
     "name": "stdout",
     "output_type": "stream",
     "text": [
      "mealService 응답코드: 200\n",
      "mealServiceDietInfo 키 없음: {'RESULT': {'CODE': 'ERROR-300', 'MESSAGE': '필수 값이 누락되어 있습니다. 요청인자를 참고 하십시오.'}}\n",
      "[]\n",
      "7150091 금정여자고등학교\n",
      "급식 정보 조회 중: 날짜=20241030\n",
      "mealService 응답코드: 200\n",
      "mealServiceDietInfo 키 없음: {'RESULT': {'CODE': 'ERROR-300', 'MESSAGE': '필수 값이 누락되어 있습니다. 요청인자를 참고 하십시오.'}}\n",
      "[]\n"
     ]
    },
    {
     "name": "stderr",
     "output_type": "stream",
     "text": [
      " ... (more hidden) ..."
     ]
    },
    {
     "name": "stdout",
     "output_type": "stream",
     "text": [
      "7150089 기장고등학교\n",
      "급식 정보 조회 중: 날짜=20241030\n",
      "mealService 응답코드: 200\n",
      "mealServiceDietInfo 키 없음: {'RESULT': {'CODE': 'ERROR-300', 'MESSAGE': '필수 값이 누락되어 있습니다. 요청인자를 참고 하십시오.'}}\n",
      "[]\n",
      "7150092 낙동고등학교\n",
      "급식 정보 조회 중: 날짜=20241030\n",
      "mealService 응답코드: 200\n",
      "mealServiceDietInfo 키 없음: {'RESULT': {'CODE': 'ERROR-300', 'MESSAGE': '필수 값이 누락되어 있습니다. 요청인자를 참고 하십시오.'}}\n",
      "[]\n"
     ]
    },
    {
     "name": "stderr",
     "output_type": "stream",
     "text": [
      " ... (more hidden) ..."
     ]
    },
    {
     "name": "stdout",
     "output_type": "stream",
     "text": [
      "7150093 남산고등학교\n",
      "급식 정보 조회 중: 날짜=20241030\n",
      "mealService 응답코드: 200\n",
      "mealServiceDietInfo 키 없음: {'RESULT': {'CODE': 'ERROR-300', 'MESSAGE': '필수 값이 누락되어 있습니다. 요청인자를 참고 하십시오.'}}\n",
      "[]\n",
      "7150125 남성여자고등학교\n",
      "급식 정보 조회 중: 날짜=20241030\n",
      "mealService 응답코드: 200\n",
      "mealServiceDietInfo 키 없음: {'RESULT': {'CODE': 'ERROR-300', 'MESSAGE': '필수 값이 누락되어 있습니다. 요청인자를 참고 하십시오.'}}\n",
      "[]\n"
     ]
    },
    {
     "name": "stderr",
     "output_type": "stream",
     "text": [
      " ... (more hidden) ..."
     ]
    },
    {
     "name": "stdout",
     "output_type": "stream",
     "text": [
      "7150094 내성고등학교\n",
      "급식 정보 조회 중: 날짜=20241030\n",
      "mealService 응답코드: 200\n",
      "mealServiceDietInfo 키 없음: {'RESULT': {'CODE': 'ERROR-300', 'MESSAGE': '필수 값이 누락되어 있습니다. 요청인자를 참고 하십시오.'}}\n",
      "[]\n",
      "7150095 다대고등학교\n",
      "급식 정보 조회 중: 날짜=20241030\n"
     ]
    },
    {
     "name": "stderr",
     "output_type": "stream",
     "text": [
      " ... (more hidden) ..."
     ]
    },
    {
     "name": "stdout",
     "output_type": "stream",
     "text": [
      "mealService 응답코드: 200\n",
      "mealServiceDietInfo 키 없음: {'RESULT': {'CODE': 'ERROR-300', 'MESSAGE': '필수 값이 누락되어 있습니다. 요청인자를 참고 하십시오.'}}\n",
      "[]\n",
      "7150624 대광고등학교\n",
      "급식 정보 조회 중: 날짜=20241030\n",
      "mealService 응답코드: 200\n",
      "mealServiceDietInfo 키 없음: {'RESULT': {'CODE': 'ERROR-300', 'MESSAGE': '필수 값이 누락되어 있습니다. 요청인자를 참고 하십시오.'}}\n",
      "[]\n"
     ]
    },
    {
     "name": "stderr",
     "output_type": "stream",
     "text": [
      " ... (more hidden) ..."
     ]
    },
    {
     "name": "stdout",
     "output_type": "stream",
     "text": [
      "7150126 대덕여자고등학교\n",
      "급식 정보 조회 중: 날짜=20241030\n",
      "mealService 응답코드: 200\n",
      "mealServiceDietInfo 키 없음: {'RESULT': {'CODE': 'ERROR-300', 'MESSAGE': '필수 값이 누락되어 있습니다. 요청인자를 참고 하십시오.'}}\n",
      "[]\n",
      "7150127 대동고등학교\n",
      "급식 정보 조회 중: 날짜=20241030\n",
      "mealService 응답코드: 200\n",
      "mealServiceDietInfo 키 없음: {'RESULT': {'CODE': 'ERROR-300', 'MESSAGE': '필수 값이 누락되어 있습니다. 요청인자를 참고 하십시오.'}}\n",
      "[]\n"
     ]
    },
    {
     "name": "stderr",
     "output_type": "stream",
     "text": [
      " ... (more hidden) ..."
     ]
    },
    {
     "name": "stdout",
     "output_type": "stream",
     "text": [
      "7150128 대명여자고등학교\n",
      "급식 정보 조회 중: 날짜=20241030\n",
      "mealService 응답코드: 200\n",
      "mealServiceDietInfo 키 없음: {'RESULT': {'CODE': 'ERROR-300', 'MESSAGE': '필수 값이 누락되어 있습니다. 요청인자를 참고 하십시오.'}}\n",
      "[]\n",
      "7150626 대양고등학교\n",
      "급식 정보 조회 중: 날짜=20241030\n",
      "mealService 응답코드: 200\n",
      "mealServiceDietInfo 키 없음: {'RESULT': {'CODE': 'ERROR-300', 'MESSAGE': '필수 값이 누락되어 있습니다. 요청인자를 참고 하십시오.'}}\n",
      "[]\n"
     ]
    },
    {
     "name": "stderr",
     "output_type": "stream",
     "text": [
      " ... (more hidden) ..."
     ]
    },
    {
     "name": "stdout",
     "output_type": "stream",
     "text": [
      "7150129 대연고등학교\n",
      "급식 정보 조회 중: 날짜=20241030\n",
      "mealService 응답코드: 200\n",
      "mealServiceDietInfo 키 없음: {'RESULT': {'CODE': 'ERROR-300', 'MESSAGE': '필수 값이 누락되어 있습니다. 요청인자를 참고 하십시오.'}}\n",
      "[]\n",
      "7150597 대진전자통신고등학교\n",
      "급식 정보 조회 중: 날짜=20241030\n"
     ]
    },
    {
     "name": "stderr",
     "output_type": "stream",
     "text": [
      " ... (more hidden) ..."
     ]
    },
    {
     "name": "stdout",
     "output_type": "stream",
     "text": [
      "mealService 응답코드: 200\n",
      "mealServiceDietInfo 키 없음: {'RESULT': {'CODE': 'ERROR-300', 'MESSAGE': '필수 값이 누락되어 있습니다. 요청인자를 참고 하십시오.'}}\n",
      "[]\n",
      "7150096 덕문고등학교\n",
      "급식 정보 조회 중: 날짜=20241030\n",
      "mealService 응답코드: 200\n",
      "mealServiceDietInfo 키 없음: {'RESULT': {'CODE': 'ERROR-300', 'MESSAGE': '필수 값이 누락되어 있습니다. 요청인자를 참고 하십시오.'}}\n",
      "[]\n"
     ]
    },
    {
     "name": "stderr",
     "output_type": "stream",
     "text": [
      " ... (more hidden) ..."
     ]
    },
    {
     "name": "stdout",
     "output_type": "stream",
     "text": [
      "7150130 덕문여자고등학교\n",
      "급식 정보 조회 중: 날짜=20241030\n",
      "mealService 응답코드: 200\n",
      "mealServiceDietInfo 키 없음: {'RESULT': {'CODE': 'ERROR-300', 'MESSAGE': '필수 값이 누락되어 있습니다. 요청인자를 참고 하십시오.'}}\n",
      "[]\n",
      "7150131 데레사여자고등학교\n",
      "급식 정보 조회 중: 날짜=20241030\n"
     ]
    },
    {
     "name": "stderr",
     "output_type": "stream",
     "text": [
      " ... (more hidden) ..."
     ]
    },
    {
     "name": "stdout",
     "output_type": "stream",
     "text": [
      "mealService 응답코드: 200\n",
      "mealServiceDietInfo 키 없음: {'RESULT': {'CODE': 'ERROR-300', 'MESSAGE': '필수 값이 누락되어 있습니다. 요청인자를 참고 하십시오.'}}\n",
      "[]\n",
      "7150097 동래고등학교\n",
      "급식 정보 조회 중: 날짜=20241030\n",
      "mealService 응답코드: 200\n",
      "mealServiceDietInfo 키 없음: {'RESULT': {'CODE': 'ERROR-300', 'MESSAGE': '필수 값이 누락되어 있습니다. 요청인자를 참고 하십시오.'}}\n",
      "[]\n"
     ]
    },
    {
     "name": "stderr",
     "output_type": "stream",
     "text": [
      " ... (more hidden) ..."
     ]
    },
    {
     "name": "stdout",
     "output_type": "stream",
     "text": [
      "7150132 동래여자고등학교\n",
      "급식 정보 조회 중: 날짜=20241030\n",
      "mealService 응답코드: 200\n",
      "mealServiceDietInfo 키 없음: {'RESULT': {'CODE': 'ERROR-300', 'MESSAGE': '필수 값이 누락되어 있습니다. 요청인자를 참고 하십시오.'}}\n",
      "[]\n",
      "7150170 동래원예고등학교\n",
      "급식 정보 조회 중: 날짜=20241030\n",
      "mealService 응답코드: 200\n",
      "mealServiceDietInfo 키 없음: {'RESULT': {'CODE': 'ERROR-300', 'MESSAGE': '필수 값이 누락되어 있습니다. 요청인자를 참고 하십시오.'}}\n",
      "[]\n"
     ]
    },
    {
     "name": "stderr",
     "output_type": "stream",
     "text": [
      " ... (more hidden) ..."
     ]
    },
    {
     "name": "stdout",
     "output_type": "stream",
     "text": [
      "7150620 동명공업고등학교\n",
      "급식 정보 조회 중: 날짜=20241030\n",
      "mealService 응답코드: 200\n",
      "mealServiceDietInfo 키 없음: {'RESULT': {'CODE': 'ERROR-300', 'MESSAGE': '필수 값이 누락되어 있습니다. 요청인자를 참고 하십시오.'}}\n",
      "[]\n",
      "7150133 동아고등학교\n",
      "급식 정보 조회 중: 날짜=20241030\n"
     ]
    },
    {
     "name": "stderr",
     "output_type": "stream",
     "text": [
      " ... (more hidden) ..."
     ]
    },
    {
     "name": "stdout",
     "output_type": "stream",
     "text": [
      "mealService 응답코드: 200\n",
      "mealServiceDietInfo 키 없음: {'RESULT': {'CODE': 'ERROR-300', 'MESSAGE': '필수 값이 누락되어 있습니다. 요청인자를 참고 하십시오.'}}\n",
      "[]\n",
      "7150198 동아공업고등학교\n",
      "급식 정보 조회 중: 날짜=20241030\n",
      "mealService 응답코드: 200\n",
      "mealServiceDietInfo 키 없음: {'RESULT': {'CODE': 'ERROR-300', 'MESSAGE': '필수 값이 누락되어 있습니다. 요청인자를 참고 하십시오.'}}\n",
      "[]\n"
     ]
    },
    {
     "name": "stderr",
     "output_type": "stream",
     "text": [
      " ... (more hidden) ..."
     ]
    },
    {
     "name": "stdout",
     "output_type": "stream",
     "text": [
      "7150739 동의고등학교\n",
      "급식 정보 조회 중: 날짜=20241030\n",
      "mealService 응답코드: 200\n",
      "mealServiceDietInfo 키 없음: {'RESULT': {'CODE': 'ERROR-300', 'MESSAGE': '필수 값이 누락되어 있습니다. 요청인자를 참고 하십시오.'}}\n",
      "[]\n",
      "7150134 동인고등학교\n",
      "급식 정보 조회 중: 날짜=20241030\n"
     ]
    },
    {
     "name": "stderr",
     "output_type": "stream",
     "text": [
      " ... (more hidden) ..."
     ]
    },
    {
     "name": "stdout",
     "output_type": "stream",
     "text": [
      "mealService 응답코드: 200\n",
      "mealServiceDietInfo 키 없음: {'RESULT': {'CODE': 'ERROR-300', 'MESSAGE': '필수 값이 누락되어 있습니다. 요청인자를 참고 하십시오.'}}\n",
      "[]\n",
      "7150431 동주여자고등학교\n",
      "급식 정보 조회 중: 날짜=20241030\n",
      "mealService 응답코드: 200\n",
      "mealServiceDietInfo 키 없음: {'RESULT': {'CODE': 'ERROR-300', 'MESSAGE': '필수 값이 누락되어 있습니다. 요청인자를 참고 하십시오.'}}\n",
      "[]\n"
     ]
    },
    {
     "name": "stderr",
     "output_type": "stream",
     "text": [
      " ... (more hidden) ..."
     ]
    },
    {
     "name": "stdout",
     "output_type": "stream",
     "text": [
      "7150135 동천고등학교\n",
      "급식 정보 조회 중: 날짜=20241030\n",
      "mealService 응답코드: 200\n",
      "mealServiceDietInfo 키 없음: {'RESULT': {'CODE': 'ERROR-300', 'MESSAGE': '필수 값이 누락되어 있습니다. 요청인자를 참고 하십시오.'}}\n",
      "[]\n",
      "7150363 만덕고등학교\n",
      "급식 정보 조회 중: 날짜=20241030\n"
     ]
    },
    {
     "name": "stderr",
     "output_type": "stream",
     "text": [
      " ... (more hidden) ..."
     ]
    },
    {
     "name": "stdout",
     "output_type": "stream",
     "text": [
      "mealService 응답코드: 200\n",
      "mealServiceDietInfo 키 없음: {'RESULT': {'CODE': 'ERROR-300', 'MESSAGE': '필수 값이 누락되어 있습니다. 요청인자를 참고 하십시오.'}}\n",
      "[]\n",
      "7150451 명호고등학교\n",
      "급식 정보 조회 중: 날짜=20241030\n",
      "mealService 응답코드: 200\n",
      "mealServiceDietInfo 키 없음: {'RESULT': {'CODE': 'ERROR-300', 'MESSAGE': '필수 값이 누락되어 있습니다. 요청인자를 참고 하십시오.'}}\n",
      "[]\n"
     ]
    },
    {
     "name": "stderr",
     "output_type": "stream",
     "text": [
      " ... (more hidden) ..."
     ]
    },
    {
     "name": "stdout",
     "output_type": "stream",
     "text": [
      "7150098 문현여자고등학교\n",
      "급식 정보 조회 중: 날짜=20241030\n",
      "mealService 응답코드: 200\n",
      "mealServiceDietInfo 키 없음: {'RESULT': {'CODE': 'ERROR-300', 'MESSAGE': '필수 값이 누락되어 있습니다. 요청인자를 참고 하십시오.'}}\n",
      "[]\n",
      "7150383 반여고등학교\n",
      "급식 정보 조회 중: 날짜=20241030\n"
     ]
    },
    {
     "name": "stderr",
     "output_type": "stream",
     "text": [
      " ... (more hidden) ..."
     ]
    },
    {
     "name": "stdout",
     "output_type": "stream",
     "text": [
      "mealService 응답코드: 200\n",
      "mealServiceDietInfo 키 없음: {'RESULT': {'CODE': 'ERROR-300', 'MESSAGE': '필수 값이 누락되어 있습니다. 요청인자를 참고 하십시오.'}}\n",
      "[]\n",
      "7150136 배정고등학교\n",
      "급식 정보 조회 중: 날짜=20241030\n",
      "mealService 응답코드: 200\n",
      "mealServiceDietInfo 키 없음: {'RESULT': {'CODE': 'ERROR-300', 'MESSAGE': '필수 값이 누락되어 있습니다. 요청인자를 참고 하십시오.'}}\n",
      "[]\n"
     ]
    },
    {
     "name": "stderr",
     "output_type": "stream",
     "text": [
      " ... (more hidden) ..."
     ]
    },
    {
     "name": "stdout",
     "output_type": "stream",
     "text": [
      "7150625 배정미래고등학교\n",
      "급식 정보 조회 중: 날짜=20241030\n",
      "mealService 응답코드: 200\n",
      "mealServiceDietInfo 키 없음: {'RESULT': {'CODE': 'ERROR-300', 'MESSAGE': '필수 값이 누락되어 있습니다. 요청인자를 참고 하십시오.'}}\n",
      "[]\n",
      "7150397 부경고등학교\n",
      "급식 정보 조회 중: 날짜=20241030\n",
      "mealService 응답코드: 200\n",
      "mealServiceDietInfo 키 없음: {'RESULT': {'CODE': 'ERROR-300', 'MESSAGE': '필수 값이 누락되어 있습니다. 요청인자를 참고 하십시오.'}}\n",
      "[]\n"
     ]
    },
    {
     "name": "stderr",
     "output_type": "stream",
     "text": [
      " ... (more hidden) ..."
     ]
    },
    {
     "name": "stdout",
     "output_type": "stream",
     "text": [
      "7150099 부산강서고등학교\n",
      "급식 정보 조회 중: 날짜=20241030\n",
      "mealService 응답코드: 200\n",
      "mealServiceDietInfo 키 없음: {'RESULT': {'CODE': 'ERROR-300', 'MESSAGE': '필수 값이 누락되어 있습니다. 요청인자를 참고 하십시오.'}}\n",
      "[]\n",
      "7150100 부산고등학교\n",
      "급식 정보 조회 중: 날짜=20241030\n"
     ]
    },
    {
     "name": "stderr",
     "output_type": "stream",
     "text": [
      " ... (more hidden) ..."
     ]
    },
    {
     "name": "stdout",
     "output_type": "stream",
     "text": [
      "mealService 응답코드: 200\n",
      "mealServiceDietInfo 키 없음: {'RESULT': {'CODE': 'ERROR-300', 'MESSAGE': '필수 값이 누락되어 있습니다. 요청인자를 참고 하십시오.'}}\n",
      "[]\n",
      "7150171 부산공업고등학교\n",
      "급식 정보 조회 중: 날짜=20241030\n",
      "mealService 응답코드: 200\n",
      "mealServiceDietInfo 키 없음: {'RESULT': {'CODE': 'ERROR-300', 'MESSAGE': '필수 값이 누락되어 있습니다. 요청인자를 참고 하십시오.'}}\n",
      "[]\n"
     ]
    },
    {
     "name": "stderr",
     "output_type": "stream",
     "text": [
      " ... (more hidden) ..."
     ]
    },
    {
     "name": "stdout",
     "output_type": "stream",
     "text": [
      "7150459 부산과학고등학교\n",
      "급식 정보 조회 중: 날짜=20241030\n",
      "mealService 응답코드: 200\n",
      "mealServiceDietInfo 키 없음: {'RESULT': {'CODE': 'ERROR-300', 'MESSAGE': '필수 값이 누락되어 있습니다. 요청인자를 참고 하십시오.'}}\n",
      "[]\n",
      "7150422 부산관광고등학교\n",
      "급식 정보 조회 중: 날짜=20241030\n"
     ]
    },
    {
     "name": "stderr",
     "output_type": "stream",
     "text": [
      " ... (more hidden) ..."
     ]
    },
    {
     "name": "stdout",
     "output_type": "stream",
     "text": [
      "mealService 응답코드: 200\n",
      "mealServiceDietInfo 키 없음: {'RESULT': {'CODE': 'ERROR-300', 'MESSAGE': '필수 값이 누락되어 있습니다. 요청인자를 참고 하십시오.'}}\n",
      "[]\n",
      "7150369 부산국제고등학교\n",
      "급식 정보 조회 중: 날짜=20241030\n",
      "mealService 응답코드: 200\n",
      "mealServiceDietInfo 키 없음: {'RESULT': {'CODE': 'ERROR-300', 'MESSAGE': '필수 값이 누락되어 있습니다. 요청인자를 참고 하십시오.'}}\n",
      "[]\n"
     ]
    },
    {
     "name": "stderr",
     "output_type": "stream",
     "text": [
      " ... (more hidden) ..."
     ]
    },
    {
     "name": "stdout",
     "output_type": "stream",
     "text": [
      "1421117 부산기계공업고등학교\n",
      "급식 정보 조회 중: 날짜=20241030\n",
      "mealService 응답코드: 200\n",
      "mealServiceDietInfo 키 없음: {'RESULT': {'CODE': 'ERROR-300', 'MESSAGE': '필수 값이 누락되어 있습니다. 요청인자를 참고 하십시오.'}}\n",
      "[]\n",
      "7150102 부산남고등학교\n",
      "급식 정보 조회 중: 날짜=20241030\n"
     ]
    },
    {
     "name": "stderr",
     "output_type": "stream",
     "text": [
      " ... (more hidden) ..."
     ]
    },
    {
     "name": "stdout",
     "output_type": "stream",
     "text": [
      "mealService 응답코드: 200\n",
      "mealServiceDietInfo 키 없음: {'RESULT': {'CODE': 'ERROR-300', 'MESSAGE': '필수 값이 누락되어 있습니다. 요청인자를 참고 하십시오.'}}\n",
      "[]\n",
      "7150743 부산남고등학교임시교육시설\n",
      "급식 정보 조회 중: 날짜=20241030\n",
      "mealService 응답코드: 200\n",
      "mealServiceDietInfo 키 없음: {'RESULT': {'CODE': 'ERROR-300', 'MESSAGE': '필수 값이 누락되어 있습니다. 요청인자를 참고 하십시오.'}}\n",
      "[]\n"
     ]
    },
    {
     "name": "stderr",
     "output_type": "stream",
     "text": [
      " ... (more hidden) ..."
     ]
    },
    {
     "name": "stdout",
     "output_type": "stream",
     "text": [
      "7150103 부산남일고등학교\n",
      "급식 정보 조회 중: 날짜=20241030\n",
      "mealService 응답코드: 200\n",
      "mealServiceDietInfo 키 없음: {'RESULT': {'CODE': 'ERROR-300', 'MESSAGE': '필수 값이 누락되어 있습니다. 요청인자를 참고 하십시오.'}}\n",
      "[]\n",
      "7150137 부산대저고등학교\n",
      "급식 정보 조회 중: 날짜=20241030\n"
     ]
    },
    {
     "name": "stderr",
     "output_type": "stream",
     "text": [
      " ... (more hidden) ..."
     ]
    },
    {
     "name": "stdout",
     "output_type": "stream",
     "text": [
      "mealService 응답코드: 200\n",
      "mealServiceDietInfo 키 없음: {'RESULT': {'CODE': 'ERROR-300', 'MESSAGE': '필수 값이 누락되어 있습니다. 요청인자를 참고 하십시오.'}}\n",
      "[]\n",
      "7005103 부산대학교사범대학부설고등학교\n",
      "급식 정보 조회 중: 날짜=20241030\n",
      "mealService 응답코드: 200\n",
      "mealServiceDietInfo 키 없음: {'RESULT': {'CODE': 'ERROR-300', 'MESSAGE': '필수 값이 누락되어 있습니다. 요청인자를 참고 하십시오.'}}\n",
      "[]\n"
     ]
    },
    {
     "name": "stderr",
     "output_type": "stream",
     "text": [
      " ... (more hidden) ..."
     ]
    },
    {
     "name": "stdout",
     "output_type": "stream",
     "text": [
      "7150138 부산동고등학교\n",
      "급식 정보 조회 중: 날짜=20241030\n",
      "mealService 응답코드: 200\n",
      "mealServiceDietInfo 키 없음: {'RESULT': {'CODE': 'ERROR-300', 'MESSAGE': '필수 값이 누락되어 있습니다. 요청인자를 참고 하십시오.'}}\n",
      "[]\n",
      "7150139 부산동성고등학교\n",
      "급식 정보 조회 중: 날짜=20241030\n"
     ]
    },
    {
     "name": "stderr",
     "output_type": "stream",
     "text": [
      " ... (more hidden) ..."
     ]
    },
    {
     "name": "stdout",
     "output_type": "stream",
     "text": [
      "mealService 응답코드: 200\n",
      "mealServiceDietInfo 키 없음: {'RESULT': {'CODE': 'ERROR-300', 'MESSAGE': '필수 값이 누락되어 있습니다. 요청인자를 참고 하십시오.'}}\n",
      "[]\n",
      "7150104 부산동여자고등학교\n",
      "급식 정보 조회 중: 날짜=20241030\n",
      "mealService 응답코드: 200\n",
      "mealServiceDietInfo 키 없음: {'RESULT': {'CODE': 'ERROR-300', 'MESSAGE': '필수 값이 누락되어 있습니다. 요청인자를 참고 하십시오.'}}\n",
      "[]\n"
     ]
    },
    {
     "name": "stderr",
     "output_type": "stream",
     "text": [
      " ... (more hidden) ..."
     ]
    },
    {
     "name": "stdout",
     "output_type": "stream",
     "text": [
      "7150345 부산디지털고등학교\n",
      "급식 정보 조회 중: 날짜=20241030\n",
      "mealService 응답코드: 200\n",
      "mealServiceDietInfo 키 없음: {'RESULT': {'CODE': 'ERROR-300', 'MESSAGE': '필수 값이 누락되어 있습니다. 요청인자를 참고 하십시오.'}}\n",
      "[]\n",
      "7150421 부산마케팅고등학교\n",
      "급식 정보 조회 중: 날짜=20241030\n"
     ]
    },
    {
     "name": "stderr",
     "output_type": "stream",
     "text": [
      " ... (more hidden) ..."
     ]
    },
    {
     "name": "stdout",
     "output_type": "stream",
     "text": [
      "mealService 응답코드: 200\n",
      "mealServiceDietInfo 키 없음: {'RESULT': {'CODE': 'ERROR-300', 'MESSAGE': '필수 값이 누락되어 있습니다. 요청인자를 참고 하십시오.'}}\n",
      "[]\n",
      "7150456 부산문화여자고등학교\n",
      "급식 정보 조회 중: 날짜=20241030\n",
      "mealService 응답코드: 200\n",
      "mealServiceDietInfo 키 없음: {'RESULT': {'CODE': 'ERROR-300', 'MESSAGE': '필수 값이 누락되어 있습니다. 요청인자를 참고 하십시오.'}}\n",
      "[]\n"
     ]
    },
    {
     "name": "stderr",
     "output_type": "stream",
     "text": [
      " ... (more hidden) ..."
     ]
    },
    {
     "name": "stdout",
     "output_type": "stream",
     "text": [
      "7150420 부산백양고등학교\n",
      "급식 정보 조회 중: 날짜=20241030\n",
      "mealService 응답코드: 200\n",
      "mealServiceDietInfo 키 없음: {'RESULT': {'CODE': 'ERROR-300', 'MESSAGE': '필수 값이 누락되어 있습니다. 요청인자를 참고 하십시오.'}}\n",
      "[]\n",
      "7150533 부산보건고등학교\n",
      "급식 정보 조회 중: 날짜=20241030\n"
     ]
    },
    {
     "name": "stderr",
     "output_type": "stream",
     "text": [
      " ... (more hidden) ..."
     ]
    },
    {
     "name": "stdout",
     "output_type": "stream",
     "text": [
      "mealService 응답코드: 200\n",
      "mealServiceDietInfo 키 없음: {'RESULT': {'CODE': 'ERROR-300', 'MESSAGE': '필수 값이 누락되어 있습니다. 요청인자를 참고 하십시오.'}}\n",
      "[]\n",
      "7150105 부산서여자고등학교\n",
      "급식 정보 조회 중: 날짜=20241030\n",
      "mealService 응답코드: 200\n",
      "mealServiceDietInfo 키 없음: {'RESULT': {'CODE': 'ERROR-300', 'MESSAGE': '필수 값이 누락되어 있습니다. 요청인자를 참고 하십시오.'}}\n",
      "[]\n"
     ]
    },
    {
     "name": "stderr",
     "output_type": "stream",
     "text": [
      " ... (more hidden) ..."
     ]
    },
    {
     "name": "stdout",
     "output_type": "stream",
     "text": [
      "7150659 부산센텀여자고등학교\n",
      "급식 정보 조회 중: 날짜=20241030\n",
      "mealService 응답코드: 200\n",
      "mealServiceDietInfo 키 없음: {'RESULT': {'CODE': 'ERROR-300', 'MESSAGE': '필수 값이 누락되어 있습니다. 요청인자를 참고 하십시오.'}}\n",
      "[]\n",
      "7150658 부산소프트웨어마이스터고등학교\n",
      "급식 정보 조회 중: 날짜=20241030\n",
      "mealService 응답코드: 200\n",
      "mealServiceDietInfo 키 없음: {'RESULT': {'CODE': 'ERROR-300', 'MESSAGE': '필수 값이 누락되어 있습니다. 요청인자를 참고 하십시오.'}}\n",
      "[]\n"
     ]
    },
    {
     "name": "stderr",
     "output_type": "stream",
     "text": [
      " ... (more hidden) ..."
     ]
    },
    {
     "name": "stdout",
     "output_type": "stream",
     "text": [
      "7150106 부산여자고등학교\n",
      "급식 정보 조회 중: 날짜=20241030\n",
      "mealService 응답코드: 200\n",
      "mealServiceDietInfo 키 없음: {'RESULT': {'CODE': 'ERROR-300', 'MESSAGE': '필수 값이 누락되어 있습니다. 요청인자를 참고 하십시오.'}}\n",
      "[]\n",
      "7150207 부산여자상업고등학교\n",
      "급식 정보 조회 중: 날짜=20241030\n",
      "mealService 응답코드: 200\n",
      "mealServiceDietInfo 키 없음: {'RESULT': {'CODE': 'ERROR-300', 'MESSAGE': '필수 값이 누락되어 있습니다. 요청인자를 참고 하십시오.'}}\n",
      "[]\n"
     ]
    },
    {
     "name": "stderr",
     "output_type": "stream",
     "text": [
      " ... (more hidden) ..."
     ]
    },
    {
     "name": "stdout",
     "output_type": "stream",
     "text": [
      "7150426 부산영상예술고등학교\n",
      "급식 정보 조회 중: 날짜=20241030\n",
      "mealService 응답코드: 200\n",
      "mealServiceDietInfo 키 없음: {'RESULT': {'CODE': 'ERROR-300', 'MESSAGE': '필수 값이 누락되어 있습니다. 요청인자를 참고 하십시오.'}}\n",
      "[]\n",
      "7150140 부산예술고등학교\n",
      "급식 정보 조회 중: 날짜=20241030\n"
     ]
    },
    {
     "name": "stderr",
     "output_type": "stream",
     "text": [
      " ... (more hidden) ..."
     ]
    },
    {
     "name": "stdout",
     "output_type": "stream",
     "text": [
      "mealService 응답코드: 200\n",
      "mealServiceDietInfo 키 없음: {'RESULT': {'CODE': 'ERROR-300', 'MESSAGE': '필수 값이 누락되어 있습니다. 요청인자를 참고 하십시오.'}}\n",
      "[]\n",
      "7150141 부산외국어고등학교\n",
      "급식 정보 조회 중: 날짜=20241030\n",
      "mealService 응답코드: 200\n",
      "mealServiceDietInfo 키 없음: {'RESULT': {'CODE': 'ERROR-300', 'MESSAGE': '필수 값이 누락되어 있습니다. 요청인자를 참고 하십시오.'}}\n",
      "[]\n"
     ]
    },
    {
     "name": "stderr",
     "output_type": "stream",
     "text": [
      " ... (more hidden) ..."
     ]
    },
    {
     "name": "stdout",
     "output_type": "stream",
     "text": [
      "7150532 부산일과학고등학교\n",
      "급식 정보 조회 중: 날짜=20241030\n",
      "mealService 응답코드: 200\n",
      "mealServiceDietInfo 키 없음: {'RESULT': {'CODE': 'ERROR-300', 'MESSAGE': '필수 값이 누락되어 있습니다. 요청인자를 참고 하십시오.'}}\n",
      "[]\n",
      "7150747 부산자동차마이스터고등학교\n",
      "급식 정보 조회 중: 날짜=20241030\n"
     ]
    },
    {
     "name": "stderr",
     "output_type": "stream",
     "text": [
      " ... (more hidden) ..."
     ]
    },
    {
     "name": "stdout",
     "output_type": "stream",
     "text": [
      "mealService 응답코드: 200\n",
      "mealServiceDietInfo 키 없음: {'RESULT': {'CODE': 'ERROR-300', 'MESSAGE': '필수 값이 누락되어 있습니다. 요청인자를 참고 하십시오.'}}\n",
      "[]\n",
      "7150365 부산장안고등학교\n",
      "급식 정보 조회 중: 날짜=20241030\n",
      "mealService 응답코드: 200\n",
      "mealServiceDietInfo 키 없음: {'RESULT': {'CODE': 'ERROR-300', 'MESSAGE': '필수 값이 누락되어 있습니다. 요청인자를 참고 하십시오.'}}\n",
      "[]\n"
     ]
    },
    {
     "name": "stderr",
     "output_type": "stream",
     "text": [
      " ... (more hidden) ..."
     ]
    },
    {
     "name": "stdout",
     "output_type": "stream",
     "text": [
      "7150177 부산전자공업고등학교\n",
      "급식 정보 조회 중: 날짜=20241030\n",
      "mealService 응답코드: 200\n",
      "mealServiceDietInfo 키 없음: {'RESULT': {'CODE': 'ERROR-300', 'MESSAGE': '필수 값이 누락되어 있습니다. 요청인자를 참고 하십시오.'}}\n",
      "[]\n",
      "7150348 부산정보고등학교\n",
      "급식 정보 조회 중: 날짜=20241030\n",
      "mealService 응답코드: 200\n",
      "mealServiceDietInfo 키 없음: {'RESULT': {'CODE': 'ERROR-300', 'MESSAGE': '필수 값이 누락되어 있습니다. 요청인자를 참고 하십시오.'}}\n",
      "[]\n"
     ]
    },
    {
     "name": "stderr",
     "output_type": "stream",
     "text": [
      " ... (more hidden) ..."
     ]
    },
    {
     "name": "stdout",
     "output_type": "stream",
     "text": [
      "7150208 부산정보관광고등학교\n",
      "급식 정보 조회 중: 날짜=20241030\n",
      "mealService 응답코드: 200\n",
      "mealServiceDietInfo 키 없음: {'RESULT': {'CODE': 'ERROR-300', 'MESSAGE': '필수 값이 누락되어 있습니다. 요청인자를 참고 하십시오.'}}\n",
      "[]\n",
      "7150107 부산중앙고등학교\n",
      "급식 정보 조회 중: 날짜=20241030\n",
      "mealService 응답코드: 200\n",
      "mealServiceDietInfo 키 없음: {'RESULT': {'CODE': 'ERROR-300', 'MESSAGE': '필수 값이 누락되어 있습니다. 요청인자를 참고 하십시오.'}}\n",
      "[]\n"
     ]
    },
    {
     "name": "stderr",
     "output_type": "stream",
     "text": [
      " ... (more hidden) ..."
     ]
    },
    {
     "name": "stdout",
     "output_type": "stream",
     "text": [
      "7150108 부산중앙여자고등학교\n",
      "급식 정보 조회 중: 날짜=20241030\n",
      "mealService 응답코드: 200\n",
      "mealServiceDietInfo 키 없음: {'RESULT': {'CODE': 'ERROR-300', 'MESSAGE': '필수 값이 누락되어 있습니다. 요청인자를 참고 하십시오.'}}\n",
      "[]\n",
      "7150109 부산진고등학교\n",
      "급식 정보 조회 중: 날짜=20241030\n",
      "mealService 응답코드: 200\n",
      "mealServiceDietInfo 키 없음: {'RESULT': {'CODE': 'ERROR-300', 'MESSAGE': '필수 값이 누락되어 있습니다. 요청인자를 참고 하십시오.'}}\n",
      "[]\n"
     ]
    },
    {
     "name": "stderr",
     "output_type": "stream",
     "text": [
      " ... (more hidden) ..."
     ]
    },
    {
     "name": "stdout",
     "output_type": "stream",
     "text": [
      "7150142 부산진여자고등학교\n",
      "급식 정보 조회 중: 날짜=20241030\n",
      "mealService 응답코드: 200\n",
      "mealServiceDietInfo 키 없음: {'RESULT': {'CODE': 'ERROR-300', 'MESSAGE': '필수 값이 누락되어 있습니다. 요청인자를 참고 하십시오.'}}\n",
      "[]\n",
      "7150178 부산진여자상업고등학교\n",
      "급식 정보 조회 중: 날짜=20241030\n",
      "mealService 응답코드: 200\n",
      "mealServiceDietInfo 키 없음: {'RESULT': {'CODE': 'ERROR-300', 'MESSAGE': '필수 값이 누락되어 있습니다. 요청인자를 참고 하십시오.'}}\n",
      "[]\n"
     ]
    },
    {
     "name": "stderr",
     "output_type": "stream",
     "text": [
      " ... (more hidden) ..."
     ]
    },
    {
     "name": "stdout",
     "output_type": "stream",
     "text": [
      "7150110 부산체육고등학교\n",
      "급식 정보 조회 중: 날짜=20241030\n",
      "mealService 응답코드: 200\n",
      "mealServiceDietInfo 키 없음: {'RESULT': {'CODE': 'ERROR-300', 'MESSAGE': '필수 값이 누락되어 있습니다. 요청인자를 참고 하십시오.'}}\n",
      "[]\n",
      "7150337 부산컴퓨터과학고등학교\n",
      "급식 정보 조회 중: 날짜=20241030\n"
     ]
    },
    {
     "name": "stderr",
     "output_type": "stream",
     "text": [
      " ... (more hidden) ..."
     ]
    },
    {
     "name": "stdout",
     "output_type": "stream",
     "text": [
      "mealService 응답코드: 200\n",
      "mealServiceDietInfo 키 없음: {'RESULT': {'CODE': 'ERROR-300', 'MESSAGE': '필수 값이 누락되어 있습니다. 요청인자를 참고 하십시오.'}}\n",
      "[]\n",
      "7150737 부산항공고등학교\n",
      "급식 정보 조회 중: 날짜=20241030\n",
      "mealService 응답코드: 200\n",
      "mealServiceDietInfo 키 없음: {'RESULT': {'CODE': 'ERROR-300', 'MESSAGE': '필수 값이 누락되어 있습니다. 요청인자를 참고 하십시오.'}}\n",
      "[]\n"
     ]
    },
    {
     "name": "stderr",
     "output_type": "stream",
     "text": [
      " ... (more hidden) ..."
     ]
    },
    {
     "name": "stdout",
     "output_type": "stream",
     "text": [
      "7150746 부산해군과학기술고등학교\n",
      "급식 정보 조회 중: 날짜=20241030\n",
      "mealService 응답코드: 200\n",
      "mealServiceDietInfo 키 없음: {'RESULT': {'CODE': 'ERROR-300', 'MESSAGE': '필수 값이 누락되어 있습니다. 요청인자를 참고 하십시오.'}}\n",
      "[]\n",
      "1192068 부산해사고등학교\n",
      "급식 정보 조회 중: 날짜=20241030\n",
      "mealService 응답코드: 200\n",
      "mealServiceDietInfo 키 없음: {'RESULT': {'CODE': 'ERROR-300', 'MESSAGE': '필수 값이 누락되어 있습니다. 요청인자를 참고 하십시오.'}}\n",
      "[]\n"
     ]
    },
    {
     "name": "stderr",
     "output_type": "stream",
     "text": [
      " ... (more hidden) ..."
     ]
    },
    {
     "name": "stdout",
     "output_type": "stream",
     "text": [
      "7150143 부일외국어고등학교\n",
      "급식 정보 조회 중: 날짜=20241030\n",
      "mealService 응답코드: 200\n",
      "mealServiceDietInfo 키 없음: {'RESULT': {'CODE': 'ERROR-300', 'MESSAGE': '필수 값이 누락되어 있습니다. 요청인자를 참고 하십시오.'}}\n",
      "[]\n",
      "7150346 부일전자디자인고등학교\n",
      "급식 정보 조회 중: 날짜=20241030\n"
     ]
    },
    {
     "name": "stderr",
     "output_type": "stream",
     "text": [
      " ... (more hidden) ..."
     ]
    },
    {
     "name": "stdout",
     "output_type": "stream",
     "text": [
      "mealService 응답코드: 200\n",
      "mealServiceDietInfo 키 없음: {'RESULT': {'CODE': 'ERROR-300', 'MESSAGE': '필수 값이 누락되어 있습니다. 요청인자를 참고 하십시오.'}}\n",
      "[]\n",
      "7150111 부흥고등학교\n",
      "급식 정보 조회 중: 날짜=20241030\n",
      "mealService 응답코드: 200\n",
      "mealServiceDietInfo 키 없음: {'RESULT': {'CODE': 'ERROR-300', 'MESSAGE': '필수 값이 누락되어 있습니다. 요청인자를 참고 하십시오.'}}\n",
      "[]\n"
     ]
    },
    {
     "name": "stderr",
     "output_type": "stream",
     "text": [
      " ... (more hidden) ..."
     ]
    },
    {
     "name": "stdout",
     "output_type": "stream",
     "text": [
      "7150371 분포고등학교\n",
      "급식 정보 조회 중: 날짜=20241030\n",
      "mealService 응답코드: 200\n",
      "mealServiceDietInfo 키 없음: {'RESULT': {'CODE': 'ERROR-300', 'MESSAGE': '필수 값이 누락되어 있습니다. 요청인자를 참고 하십시오.'}}\n",
      "[]\n",
      "7150144 브니엘고등학교\n",
      "급식 정보 조회 중: 날짜=20241030\n",
      "mealService 응답코드: 200\n",
      "mealServiceDietInfo 키 없음: {'RESULT': {'CODE': 'ERROR-300', 'MESSAGE': '필수 값이 누락되어 있습니다. 요청인자를 참고 하십시오.'}}\n",
      "[]\n"
     ]
    },
    {
     "name": "stderr",
     "output_type": "stream",
     "text": [
      " ... (more hidden) ..."
     ]
    },
    {
     "name": "stdout",
     "output_type": "stream",
     "text": [
      "7150145 브니엘여자고등학교\n",
      "급식 정보 조회 중: 날짜=20241030\n",
      "mealService 응답코드: 200\n",
      "mealServiceDietInfo 키 없음: {'RESULT': {'CODE': 'ERROR-300', 'MESSAGE': '필수 값이 누락되어 있습니다. 요청인자를 참고 하십시오.'}}\n",
      "[]\n",
      "7150592 브니엘예술고등학교\n",
      "급식 정보 조회 중: 날짜=20241030\n",
      "mealService 응답코드: 200\n",
      "mealServiceDietInfo 키 없음: {'RESULT': {'CODE': 'ERROR-300', 'MESSAGE': '필수 값이 누락되어 있습니다. 요청인자를 참고 하십시오.'}}\n",
      "[]\n"
     ]
    },
    {
     "name": "stderr",
     "output_type": "stream",
     "text": [
      " ... (more hidden) ..."
     ]
    },
    {
     "name": "stdout",
     "output_type": "stream",
     "text": [
      "7150425 사상고등학교\n",
      "급식 정보 조회 중: 날짜=20241030\n",
      "mealService 응답코드: 200\n",
      "mealServiceDietInfo 키 없음: {'RESULT': {'CODE': 'ERROR-300', 'MESSAGE': '필수 값이 누락되어 있습니다. 요청인자를 참고 하십시오.'}}\n",
      "[]\n",
      "7150112 사직고등학교\n",
      "급식 정보 조회 중: 날짜=20241030\n"
     ]
    },
    {
     "name": "stderr",
     "output_type": "stream",
     "text": [
      " ... (more hidden) ..."
     ]
    },
    {
     "name": "stdout",
     "output_type": "stream",
     "text": [
      "mealService 응답코드: 200\n",
      "mealServiceDietInfo 키 없음: {'RESULT': {'CODE': 'ERROR-300', 'MESSAGE': '필수 값이 누락되어 있습니다. 요청인자를 참고 하십시오.'}}\n",
      "[]\n",
      "7150146 사직여자고등학교\n",
      "급식 정보 조회 중: 날짜=20241030\n",
      "mealService 응답코드: 200\n",
      "mealServiceDietInfo 키 없음: {'RESULT': {'CODE': 'ERROR-300', 'MESSAGE': '필수 값이 누락되어 있습니다. 요청인자를 참고 하십시오.'}}\n",
      "[]\n"
     ]
    },
    {
     "name": "stderr",
     "output_type": "stream",
     "text": [
      " ... (more hidden) ..."
     ]
    },
    {
     "name": "stdout",
     "output_type": "stream",
     "text": [
      "7150147 삼성여자고등학교\n",
      "급식 정보 조회 중: 날짜=20241030\n",
      "mealService 응답코드: 200\n",
      "mealServiceDietInfo 키 없음: {'RESULT': {'CODE': 'ERROR-300', 'MESSAGE': '필수 값이 누락되어 있습니다. 요청인자를 참고 하십시오.'}}\n",
      "[]\n",
      "7150430 삼정고등학교\n",
      "급식 정보 조회 중: 날짜=20241030\n"
     ]
    },
    {
     "name": "stderr",
     "output_type": "stream",
     "text": [
      " ... (more hidden) ..."
     ]
    },
    {
     "name": "stdout",
     "output_type": "stream",
     "text": [
      "mealService 응답코드: 200\n",
      "mealServiceDietInfo 키 없음: {'RESULT': {'CODE': 'ERROR-300', 'MESSAGE': '필수 값이 누락되어 있습니다. 요청인자를 참고 하십시오.'}}\n",
      "[]\n",
      "7150148 성도고등학교\n",
      "급식 정보 조회 중: 날짜=20241030\n",
      "mealService 응답코드: 200\n",
      "mealServiceDietInfo 키 없음: {'RESULT': {'CODE': 'ERROR-300', 'MESSAGE': '필수 값이 누락되어 있습니다. 요청인자를 참고 하십시오.'}}\n",
      "[]\n"
     ]
    },
    {
     "name": "stderr",
     "output_type": "stream",
     "text": [
      " ... (more hidden) ..."
     ]
    },
    {
     "name": "stdout",
     "output_type": "stream",
     "text": [
      "7150149 성모여자고등학교\n",
      "급식 정보 조회 중: 날짜=20241030\n",
      "mealService 응답코드: 200\n",
      "mealServiceDietInfo 키 없음: {'RESULT': {'CODE': 'ERROR-300', 'MESSAGE': '필수 값이 누락되어 있습니다. 요청인자를 참고 하십시오.'}}\n",
      "[]\n",
      "7150150 성일여자고등학교\n",
      "급식 정보 조회 중: 날짜=20241030\n",
      "mealService 응답코드: 200\n",
      "mealServiceDietInfo 키 없음: {'RESULT': {'CODE': 'ERROR-300', 'MESSAGE': '필수 값이 누락되어 있습니다. 요청인자를 참고 하십시오.'}}\n",
      "[]\n"
     ]
    },
    {
     "name": "stderr",
     "output_type": "stream",
     "text": [
      " ... (more hidden) ..."
     ]
    },
    {
     "name": "stdout",
     "output_type": "stream",
     "text": [
      "7150455 성지고등학교\n",
      "급식 정보 조회 중: 날짜=20241030\n",
      "mealService 응답코드: 200\n",
      "mealServiceDietInfo 키 없음: {'RESULT': {'CODE': 'ERROR-300', 'MESSAGE': '필수 값이 누락되어 있습니다. 요청인자를 참고 하십시오.'}}\n",
      "[]\n",
      "7150660 세연고등학교\n",
      "급식 정보 조회 중: 날짜=20241030\n",
      "mealService 응답코드: 200\n",
      "mealServiceDietInfo 키 없음: {'RESULT': {'CODE': 'ERROR-300', 'MESSAGE': '필수 값이 누락되어 있습니다. 요청인자를 참고 하십시오.'}}\n",
      "[]\n"
     ]
    },
    {
     "name": "stderr",
     "output_type": "stream",
     "text": [
      " ... (more hidden) ..."
     ]
    },
    {
     "name": "stdout",
     "output_type": "stream",
     "text": [
      "7150622 세정고등학교\n",
      "급식 정보 조회 중: 날짜=20241030\n",
      "mealService 응답코드: 200\n",
      "mealServiceDietInfo 키 없음: {'RESULT': {'CODE': 'ERROR-300', 'MESSAGE': '필수 값이 누락되어 있습니다. 요청인자를 참고 하십시오.'}}\n",
      "[]\n",
      "7150428 센텀고등학교\n",
      "급식 정보 조회 중: 날짜=20241030\n",
      "mealService 응답코드: 200\n",
      "mealServiceDietInfo 키 없음: {'RESULT': {'CODE': 'ERROR-300', 'MESSAGE': '필수 값이 누락되어 있습니다. 요청인자를 참고 하십시오.'}}\n",
      "[]\n"
     ]
    },
    {
     "name": "stderr",
     "output_type": "stream",
     "text": [
      " ... (more hidden) ..."
     ]
    },
    {
     "name": "stdout",
     "output_type": "stream",
     "text": [
      "7150114 신도고등학교\n",
      "급식 정보 조회 중: 날짜=20241030\n",
      "mealService 응답코드: 200\n",
      "mealServiceDietInfo 키 없음: {'RESULT': {'CODE': 'ERROR-300', 'MESSAGE': '필수 값이 누락되어 있습니다. 요청인자를 참고 하십시오.'}}\n",
      "[]\n",
      "7150452 신정고등학교\n",
      "급식 정보 조회 중: 날짜=20241030\n"
     ]
    },
    {
     "name": "stderr",
     "output_type": "stream",
     "text": [
      " ... (more hidden) ..."
     ]
    },
    {
     "name": "stdout",
     "output_type": "stream",
     "text": [
      "mealService 응답코드: 200\n",
      "mealServiceDietInfo 키 없음: {'RESULT': {'CODE': 'ERROR-300', 'MESSAGE': '필수 값이 누락되어 있습니다. 요청인자를 참고 하십시오.'}}\n",
      "[]\n",
      "7150115 양운고등학교\n",
      "급식 정보 조회 중: 날짜=20241030\n",
      "mealService 응답코드: 200\n",
      "mealServiceDietInfo 키 없음: {'RESULT': {'CODE': 'ERROR-300', 'MESSAGE': '필수 값이 누락되어 있습니다. 요청인자를 참고 하십시오.'}}\n",
      "[]\n"
     ]
    },
    {
     "name": "stderr",
     "output_type": "stream",
     "text": [
      " ... (more hidden) ..."
     ]
    },
    {
     "name": "stdout",
     "output_type": "stream",
     "text": [
      "7150152 양정고등학교\n",
      "급식 정보 조회 중: 날짜=20241030\n",
      "mealService 응답코드: 200\n",
      "mealServiceDietInfo 키 없음: {'RESULT': {'CODE': 'ERROR-300', 'MESSAGE': '필수 값이 누락되어 있습니다. 요청인자를 참고 하십시오.'}}\n",
      "[]\n",
      "7150405 연제고등학교\n",
      "급식 정보 조회 중: 날짜=20241030\n"
     ]
    },
    {
     "name": "stderr",
     "output_type": "stream",
     "text": [
      " ... (more hidden) ..."
     ]
    },
    {
     "name": "stdout",
     "output_type": "stream",
     "text": [
      "mealService 응답코드: 200\n",
      "mealServiceDietInfo 키 없음: {'RESULT': {'CODE': 'ERROR-300', 'MESSAGE': '필수 값이 누락되어 있습니다. 요청인자를 참고 하십시오.'}}\n",
      "[]\n",
      "7150116 영도여자고등학교\n",
      "급식 정보 조회 중: 날짜=20241030\n",
      "mealService 응답코드: 200\n",
      "mealServiceDietInfo 키 없음: {'RESULT': {'CODE': 'ERROR-300', 'MESSAGE': '필수 값이 누락되어 있습니다. 요청인자를 참고 하십시오.'}}\n",
      "[]\n"
     ]
    },
    {
     "name": "stderr",
     "output_type": "stream",
     "text": [
      " ... (more hidden) ..."
     ]
    },
    {
     "name": "stdout",
     "output_type": "stream",
     "text": [
      "7150621 영산고등학교\n",
      "급식 정보 조회 중: 날짜=20241030\n",
      "mealService 응답코드: 200\n",
      "mealServiceDietInfo 키 없음: {'RESULT': {'CODE': 'ERROR-300', 'MESSAGE': '필수 값이 누락되어 있습니다. 요청인자를 참고 하십시오.'}}\n",
      "[]\n",
      "7150153 예문여자고등학교\n",
      "급식 정보 조회 중: 날짜=20241030\n"
     ]
    },
    {
     "name": "stderr",
     "output_type": "stream",
     "text": [
      " ... (more hidden) ..."
     ]
    },
    {
     "name": "stdout",
     "output_type": "stream",
     "text": [
      "mealService 응답코드: 200\n",
      "mealServiceDietInfo 키 없음: {'RESULT': {'CODE': 'ERROR-300', 'MESSAGE': '필수 값이 누락되어 있습니다. 요청인자를 참고 하십시오.'}}\n",
      "[]\n",
      "7150154 용인고등학교\n",
      "급식 정보 조회 중: 날짜=20241030\n",
      "mealService 응답코드: 200\n",
      "mealServiceDietInfo 키 없음: {'RESULT': {'CODE': 'ERROR-300', 'MESSAGE': '필수 값이 누락되어 있습니다. 요청인자를 참고 하십시오.'}}\n",
      "[]\n"
     ]
    },
    {
     "name": "stderr",
     "output_type": "stream",
     "text": [
      " ... (more hidden) ..."
     ]
    },
    {
     "name": "stdout",
     "output_type": "stream",
     "text": [
      "7150344 이사벨고등학교\n",
      "급식 정보 조회 중: 날짜=20241030\n",
      "mealService 응답코드: 200\n",
      "mealServiceDietInfo 키 없음: {'RESULT': {'CODE': 'ERROR-300', 'MESSAGE': '필수 값이 누락되어 있습니다. 요청인자를 참고 하십시오.'}}\n",
      "[]\n",
      "7150341 장안제일고등학교\n",
      "급식 정보 조회 중: 날짜=20241030\n",
      "mealService 응답코드: 200\n",
      "mealServiceDietInfo 키 없음: {'RESULT': {'CODE': 'ERROR-300', 'MESSAGE': '필수 값이 누락되어 있습니다. 요청인자를 참고 하십시오.'}}\n",
      "[]\n"
     ]
    },
    {
     "name": "stderr",
     "output_type": "stream",
     "text": [
      " ... (more hidden) ..."
     ]
    },
    {
     "name": "stdout",
     "output_type": "stream",
     "text": [
      "7150580 정관고등학교\n",
      "급식 정보 조회 중: 날짜=20241030\n",
      "mealService 응답코드: 200\n",
      "mealServiceDietInfo 키 없음: {'RESULT': {'CODE': 'ERROR-300', 'MESSAGE': '필수 값이 누락되어 있습니다. 요청인자를 참고 하십시오.'}}\n",
      "[]\n",
      "7150117 주례여자고등학교\n",
      "급식 정보 조회 중: 날짜=20241030\n"
     ]
    },
    {
     "name": "stderr",
     "output_type": "stream",
     "text": [
      " ... (more hidden) ..."
     ]
    },
    {
     "name": "stdout",
     "output_type": "stream",
     "text": [
      "mealService 응답코드: 200\n",
      "mealServiceDietInfo 키 없음: {'RESULT': {'CODE': 'ERROR-300', 'MESSAGE': '필수 값이 누락되어 있습니다. 요청인자를 참고 하십시오.'}}\n",
      "[]\n",
      "7150157 지산고등학교\n",
      "급식 정보 조회 중: 날짜=20241030\n",
      "mealService 응답코드: 200\n",
      "mealServiceDietInfo 키 없음: {'RESULT': {'CODE': 'ERROR-300', 'MESSAGE': '필수 값이 누락되어 있습니다. 요청인자를 참고 하십시오.'}}\n",
      "[]\n"
     ]
    },
    {
     "name": "stderr",
     "output_type": "stream",
     "text": [
      " ... (more hidden) ..."
     ]
    },
    {
     "name": "stdout",
     "output_type": "stream",
     "text": [
      "7150118 충렬고등학교\n",
      "급식 정보 조회 중: 날짜=20241030\n",
      "mealService 응답코드: 200\n",
      "mealServiceDietInfo 키 없음: {'RESULT': {'CODE': 'ERROR-300', 'MESSAGE': '필수 값이 누락되어 있습니다. 요청인자를 참고 하십시오.'}}\n",
      "[]\n",
      "7150158 학산여자고등학교\n",
      "급식 정보 조회 중: 날짜=20241030\n",
      "mealService 응답코드: 200\n",
      "mealServiceDietInfo 키 없음: {'RESULT': {'CODE': 'ERROR-300', 'MESSAGE': '필수 값이 누락되어 있습니다. 요청인자를 참고 하십시오.'}}\n",
      "[]\n"
     ]
    },
    {
     "name": "stderr",
     "output_type": "stream",
     "text": [
      " ... (more hidden) ..."
     ]
    },
    {
     "name": "stdout",
     "output_type": "stream",
     "text": [
      "7150400 한국과학영재학교\n",
      "급식 정보 조회 중: 날짜=20241030\n",
      "mealService 응답코드: 200\n",
      "mealServiceDietInfo 키 없음: {'RESULT': {'CODE': 'ERROR-300', 'MESSAGE': '필수 값이 누락되어 있습니다. 요청인자를 참고 하십시오.'}}\n",
      "[]\n",
      "7150579 한국조형예술고등학교\n",
      "급식 정보 조회 중: 날짜=20241030\n"
     ]
    },
    {
     "name": "stderr",
     "output_type": "stream",
     "text": [
      " ... (more hidden) ..."
     ]
    },
    {
     "name": "stdout",
     "output_type": "stream",
     "text": [
      "mealService 응답코드: 200\n",
      "mealServiceDietInfo 키 없음: {'RESULT': {'CODE': 'ERROR-300', 'MESSAGE': '필수 값이 누락되어 있습니다. 요청인자를 참고 하십시오.'}}\n",
      "[]\n",
      "7150598 한얼고등학교\n",
      "급식 정보 조회 중: 날짜=20241030\n",
      "mealService 응답코드: 200\n",
      "mealServiceDietInfo 키 없음: {'RESULT': {'CODE': 'ERROR-300', 'MESSAGE': '필수 값이 누락되어 있습니다. 요청인자를 참고 하십시오.'}}\n",
      "[]\n"
     ]
    },
    {
     "name": "stderr",
     "output_type": "stream",
     "text": [
      " ... (more hidden) ..."
     ]
    },
    {
     "name": "stdout",
     "output_type": "stream",
     "text": [
      "7150404 해강고등학교\n",
      "급식 정보 조회 중: 날짜=20241030\n",
      "mealService 응답코드: 200\n",
      "mealServiceDietInfo 키 없음: {'RESULT': {'CODE': 'ERROR-300', 'MESSAGE': '필수 값이 누락되어 있습니다. 요청인자를 참고 하십시오.'}}\n",
      "[]\n",
      "7150159 해동고등학교\n",
      "급식 정보 조회 중: 날짜=20241030\n"
     ]
    },
    {
     "name": "stderr",
     "output_type": "stream",
     "text": [
      " ... (more hidden) ..."
     ]
    },
    {
     "name": "stdout",
     "output_type": "stream",
     "text": [
      "mealService 응답코드: 200\n",
      "mealServiceDietInfo 키 없음: {'RESULT': {'CODE': 'ERROR-300', 'MESSAGE': '필수 값이 누락되어 있습니다. 요청인자를 참고 하십시오.'}}\n",
      "[]\n",
      "7150160 해운대고등학교\n",
      "급식 정보 조회 중: 날짜=20241030\n",
      "mealService 응답코드: 200\n",
      "mealServiceDietInfo 키 없음: {'RESULT': {'CODE': 'ERROR-300', 'MESSAGE': '필수 값이 누락되어 있습니다. 요청인자를 참고 하십시오.'}}\n",
      "[]\n"
     ]
    },
    {
     "name": "stderr",
     "output_type": "stream",
     "text": [
      " ... (more hidden) ..."
     ]
    },
    {
     "name": "stdout",
     "output_type": "stream",
     "text": [
      "7150367 해운대관광고등학교\n",
      "급식 정보 조회 중: 날짜=20241030\n",
      "mealService 응답코드: 200\n",
      "mealServiceDietInfo 키 없음: {'RESULT': {'CODE': 'ERROR-300', 'MESSAGE': '필수 값이 누락되어 있습니다. 요청인자를 참고 하십시오.'}}\n",
      "[]\n",
      "7150161 해운대여자고등학교\n",
      "급식 정보 조회 중: 날짜=20241030\n"
     ]
    },
    {
     "name": "stderr",
     "output_type": "stream",
     "text": [
      " ... (more hidden) ..."
     ]
    },
    {
     "name": "stdout",
     "output_type": "stream",
     "text": [
      "mealService 응답코드: 200\n",
      "mealServiceDietInfo 키 없음: {'RESULT': {'CODE': 'ERROR-300', 'MESSAGE': '필수 값이 누락되어 있습니다. 요청인자를 참고 하십시오.'}}\n",
      "[]\n",
      "7150162 혜광고등학교\n",
      "급식 정보 조회 중: 날짜=20241030\n",
      "mealService 응답코드: 200\n",
      "mealServiceDietInfo 키 없음: {'RESULT': {'CODE': 'ERROR-300', 'MESSAGE': '필수 값이 누락되어 있습니다. 요청인자를 참고 하십시오.'}}\n",
      "[]\n"
     ]
    },
    {
     "name": "stderr",
     "output_type": "stream",
     "text": [
      " ... (more hidden) ..."
     ]
    },
    {
     "name": "stdout",
     "output_type": "stream",
     "text": [
      "7150163 혜화여자고등학교\n",
      "급식 정보 조회 중: 날짜=20241030\n",
      "mealService 응답코드: 200\n",
      "mealServiceDietInfo 키 없음: {'RESULT': {'CODE': 'ERROR-300', 'MESSAGE': '필수 값이 누락되어 있습니다. 요청인자를 참고 하십시오.'}}\n",
      "[]\n",
      "7150364 화명고등학교\n",
      "급식 정보 조회 중: 날짜=20241030\n"
     ]
    },
    {
     "name": "stderr",
     "output_type": "stream",
     "text": [
      " ... (more hidden) ...\n"
     ]
    },
    {
     "name": "stdout",
     "output_type": "stream",
     "text": [
      "mealService 응답코드: 200\n",
      "mealServiceDietInfo 키 없음: {'RESULT': {'CODE': 'ERROR-300', 'MESSAGE': '필수 값이 누락되어 있습니다. 요청인자를 참고 하십시오.'}}\n",
      "[]\n",
      "응답코드 : 200\n"
     ]
    },
    {
     "name": "stderr",
     "output_type": "stream",
     "text": [
      " ... (more hidden) ..."
     ]
    },
    {
     "name": "stdout",
     "output_type": "stream",
     "text": [
      "7240223 강동고등학교\n",
      "급식 정보 조회 중: 날짜=20241030\n",
      "mealService 응답코드: 200\n",
      "mealServiceDietInfo 키 없음: {'RESULT': {'CODE': 'ERROR-300', 'MESSAGE': '필수 값이 누락되어 있습니다. 요청인자를 참고 하십시오.'}}\n",
      "[]\n",
      "7240068 강북고등학교\n",
      "급식 정보 조회 중: 날짜=20241030\n"
     ]
    },
    {
     "name": "stderr",
     "output_type": "stream",
     "text": [
      " ... (more hidden) ..."
     ]
    },
    {
     "name": "stdout",
     "output_type": "stream",
     "text": [
      "mealService 응답코드: 200\n",
      "mealServiceDietInfo 키 없음: {'RESULT': {'CODE': 'ERROR-300', 'MESSAGE': '필수 값이 누락되어 있습니다. 요청인자를 참고 하십시오.'}}\n",
      "[]\n",
      "7240053 경덕여자고등학교\n",
      "급식 정보 조회 중: 날짜=20241030\n",
      "mealService 응답코드: 200\n",
      "mealServiceDietInfo 키 없음: {'RESULT': {'CODE': 'ERROR-300', 'MESSAGE': '필수 값이 누락되어 있습니다. 요청인자를 참고 하십시오.'}}\n",
      "[]\n"
     ]
    },
    {
     "name": "stderr",
     "output_type": "stream",
     "text": [
      " ... (more hidden) ..."
     ]
    },
    {
     "name": "stdout",
     "output_type": "stream",
     "text": [
      "7240069 경명여자고등학교\n",
      "급식 정보 조회 중: 날짜=20241030\n",
      "mealService 응답코드: 200\n",
      "mealServiceDietInfo 키 없음: {'RESULT': {'CODE': 'ERROR-300', 'MESSAGE': '필수 값이 누락되어 있습니다. 요청인자를 참고 하십시오.'}}\n",
      "[]\n",
      "7240054 경북고등학교\n",
      "급식 정보 조회 중: 날짜=20241030\n",
      "mealService 응답코드: 200\n",
      "mealServiceDietInfo 키 없음: {'RESULT': {'CODE': 'ERROR-300', 'MESSAGE': '필수 값이 누락되어 있습니다. 요청인자를 참고 하십시오.'}}\n",
      "[]\n"
     ]
    },
    {
     "name": "stderr",
     "output_type": "stream",
     "text": [
      " ... (more hidden) ..."
     ]
    },
    {
     "name": "stdout",
     "output_type": "stream",
     "text": [
      "7240123 경북공업고등학교\n",
      "급식 정보 조회 중: 날짜=20241030\n",
      "mealService 응답코드: 200\n",
      "mealServiceDietInfo 키 없음: {'RESULT': {'CODE': 'ERROR-300', 'MESSAGE': '필수 값이 누락되어 있습니다. 요청인자를 참고 하십시오.'}}\n",
      "[]\n",
      "7240107 경북기계공업고등학교\n",
      "급식 정보 조회 중: 날짜=20241030\n"
     ]
    },
    {
     "name": "stderr",
     "output_type": "stream",
     "text": [
      " ... (more hidden) ..."
     ]
    },
    {
     "name": "stdout",
     "output_type": "stream",
     "text": [
      "mealService 응답코드: 200\n",
      "mealServiceDietInfo 키 없음: {'RESULT': {'CODE': 'ERROR-300', 'MESSAGE': '필수 값이 누락되어 있습니다. 요청인자를 참고 하십시오.'}}\n",
      "[]\n",
      "7004180 경북대학교사범대학부설고등학교\n",
      "급식 정보 조회 중: 날짜=20241030\n",
      "mealService 응답코드: 200\n",
      "mealServiceDietInfo 키 없음: {'RESULT': {'CODE': 'ERROR-300', 'MESSAGE': '필수 값이 누락되어 있습니다. 요청인자를 참고 하십시오.'}}\n",
      "[]\n"
     ]
    },
    {
     "name": "stderr",
     "output_type": "stream",
     "text": [
      " ... (more hidden) ..."
     ]
    },
    {
     "name": "stdout",
     "output_type": "stream",
     "text": [
      "7240055 경북여자고등학교\n",
      "급식 정보 조회 중: 날짜=20241030\n",
      "mealService 응답코드: 200\n",
      "mealServiceDietInfo 키 없음: {'RESULT': {'CODE': 'ERROR-300', 'MESSAGE': '필수 값이 누락되어 있습니다. 요청인자를 참고 하십시오.'}}\n",
      "[]\n",
      "7240296 경북여자상업고등학교\n",
      "급식 정보 조회 중: 날짜=20241030\n"
     ]
    },
    {
     "name": "stderr",
     "output_type": "stream",
     "text": [
      " ... (more hidden) ..."
     ]
    },
    {
     "name": "stdout",
     "output_type": "stream",
     "text": [
      "mealService 응답코드: 200\n",
      "mealServiceDietInfo 키 없음: {'RESULT': {'CODE': 'ERROR-300', 'MESSAGE': '필수 값이 누락되어 있습니다. 요청인자를 참고 하십시오.'}}\n",
      "[]\n",
      "7240070 경북예술고등학교\n",
      "급식 정보 조회 중: 날짜=20241030\n",
      "mealService 응답코드: 200\n",
      "mealServiceDietInfo 키 없음: {'RESULT': {'CODE': 'ERROR-300', 'MESSAGE': '필수 값이 누락되어 있습니다. 요청인자를 참고 하십시오.'}}\n",
      "[]\n"
     ]
    },
    {
     "name": "stderr",
     "output_type": "stream",
     "text": [
      " ... (more hidden) ..."
     ]
    },
    {
     "name": "stdout",
     "output_type": "stream",
     "text": [
      "7240071 경상고등학교\n",
      "급식 정보 조회 중: 날짜=20241030\n",
      "mealService 응답코드: 200\n",
      "mealServiceDietInfo 키 없음: {'RESULT': {'CODE': 'ERROR-300', 'MESSAGE': '필수 값이 누락되어 있습니다. 요청인자를 참고 하십시오.'}}\n",
      "[]\n",
      "7240126 경상공업고등학교\n",
      "급식 정보 조회 중: 날짜=20241030\n"
     ]
    },
    {
     "name": "stderr",
     "output_type": "stream",
     "text": [
      " ... (more hidden) ..."
     ]
    },
    {
     "name": "stdout",
     "output_type": "stream",
     "text": [
      "mealService 응답코드: 200\n",
      "mealServiceDietInfo 키 없음: {'RESULT': {'CODE': 'ERROR-300', 'MESSAGE': '필수 값이 누락되어 있습니다. 요청인자를 참고 하십시오.'}}\n",
      "[]\n",
      "7240072 경상여자고등학교\n",
      "급식 정보 조회 중: 날짜=20241030\n",
      "mealService 응답코드: 200\n",
      "mealServiceDietInfo 키 없음: {'RESULT': {'CODE': 'ERROR-300', 'MESSAGE': '필수 값이 누락되어 있습니다. 요청인자를 참고 하십시오.'}}\n",
      "[]\n"
     ]
    },
    {
     "name": "stderr",
     "output_type": "stream",
     "text": [
      " ... (more hidden) ..."
     ]
    },
    {
     "name": "stdout",
     "output_type": "stream",
     "text": [
      "7240073 경신고등학교\n",
      "급식 정보 조회 중: 날짜=20241030\n",
      "mealService 응답코드: 200\n",
      "mealServiceDietInfo 키 없음: {'RESULT': {'CODE': 'ERROR-300', 'MESSAGE': '필수 값이 누락되어 있습니다. 요청인자를 참고 하십시오.'}}\n",
      "[]\n",
      "7240074 경원고등학교\n",
      "급식 정보 조회 중: 날짜=20241030\n",
      "mealService 응답코드: 200\n",
      "mealServiceDietInfo 키 없음: {'RESULT': {'CODE': 'ERROR-300', 'MESSAGE': '필수 값이 누락되어 있습니다. 요청인자를 참고 하십시오.'}}\n",
      "[]\n"
     ]
    },
    {
     "name": "stderr",
     "output_type": "stream",
     "text": [
      " ... (more hidden) ..."
     ]
    },
    {
     "name": "stdout",
     "output_type": "stream",
     "text": [
      "7240075 경일여자고등학교\n",
      "급식 정보 조회 중: 날짜=20241030\n",
      "mealService 응답코드: 200\n",
      "mealServiceDietInfo 키 없음: {'RESULT': {'CODE': 'ERROR-300', 'MESSAGE': '필수 값이 누락되어 있습니다. 요청인자를 참고 하십시오.'}}\n",
      "[]\n",
      "7240076 경화여자고등학교\n",
      "급식 정보 조회 중: 날짜=20241030\n"
     ]
    },
    {
     "name": "stderr",
     "output_type": "stream",
     "text": [
      " ... (more hidden) ..."
     ]
    },
    {
     "name": "stdout",
     "output_type": "stream",
     "text": [
      "mealService 응답코드: 200\n",
      "mealServiceDietInfo 키 없음: {'RESULT': {'CODE': 'ERROR-300', 'MESSAGE': '필수 값이 누락되어 있습니다. 요청인자를 참고 하십시오.'}}\n",
      "[]\n",
      "7240078 계성고등학교\n",
      "급식 정보 조회 중: 날짜=20241030\n",
      "mealService 응답코드: 200\n",
      "mealServiceDietInfo 키 없음: {'RESULT': {'CODE': 'ERROR-300', 'MESSAGE': '필수 값이 누락되어 있습니다. 요청인자를 참고 하십시오.'}}\n",
      "[]\n"
     ]
    },
    {
     "name": "stderr",
     "output_type": "stream",
     "text": [
      " ... (more hidden) ..."
     ]
    },
    {
     "name": "stdout",
     "output_type": "stream",
     "text": [
      "7240056 구암고등학교\n",
      "급식 정보 조회 중: 날짜=20241030\n",
      "mealService 응답코드: 200\n",
      "mealServiceDietInfo 키 없음: {'RESULT': {'CODE': 'ERROR-300', 'MESSAGE': '필수 값이 누락되어 있습니다. 요청인자를 참고 하십시오.'}}\n",
      "[]\n",
      "7240459 군위고등학교\n",
      "급식 정보 조회 중: 날짜=20241030\n"
     ]
    },
    {
     "name": "stderr",
     "output_type": "stream",
     "text": [
      " ... (more hidden) ..."
     ]
    },
    {
     "name": "stdout",
     "output_type": "stream",
     "text": [
      "mealService 응답코드: 200\n",
      "mealServiceDietInfo 키 없음: {'RESULT': {'CODE': 'ERROR-300', 'MESSAGE': '필수 값이 누락되어 있습니다. 요청인자를 참고 하십시오.'}}\n",
      "[]\n",
      "7240080 능인고등학교\n",
      "급식 정보 조회 중: 날짜=20241030\n",
      "mealService 응답코드: 200\n",
      "mealServiceDietInfo 키 없음: {'RESULT': {'CODE': 'ERROR-300', 'MESSAGE': '필수 값이 누락되어 있습니다. 요청인자를 참고 하십시오.'}}\n",
      "[]\n"
     ]
    },
    {
     "name": "stderr",
     "output_type": "stream",
     "text": [
      " ... (more hidden) ..."
     ]
    },
    {
     "name": "stdout",
     "output_type": "stream",
     "text": [
      "7240057 다사고등학교\n",
      "급식 정보 조회 중: 날짜=20241030\n",
      "mealService 응답코드: 200\n",
      "mealServiceDietInfo 키 없음: {'RESULT': {'CODE': 'ERROR-300', 'MESSAGE': '필수 값이 누락되어 있습니다. 요청인자를 참고 하십시오.'}}\n",
      "[]\n",
      "7240224 달구벌고등학교\n",
      "급식 정보 조회 중: 날짜=20241030\n"
     ]
    },
    {
     "name": "stderr",
     "output_type": "stream",
     "text": [
      " ... (more hidden) ..."
     ]
    },
    {
     "name": "stdout",
     "output_type": "stream",
     "text": [
      "mealService 응답코드: 200\n",
      "mealServiceDietInfo 키 없음: {'RESULT': {'CODE': 'ERROR-300', 'MESSAGE': '필수 값이 누락되어 있습니다. 요청인자를 참고 하십시오.'}}\n",
      "[]\n",
      "7240081 달서고등학교\n",
      "급식 정보 조회 중: 날짜=20241030\n",
      "mealService 응답코드: 200\n",
      "mealServiceDietInfo 키 없음: {'RESULT': {'CODE': 'ERROR-300', 'MESSAGE': '필수 값이 누락되어 있습니다. 요청인자를 참고 하십시오.'}}\n",
      "[]\n"
     ]
    },
    {
     "name": "stderr",
     "output_type": "stream",
     "text": [
      " ... (more hidden) ..."
     ]
    },
    {
     "name": "stdout",
     "output_type": "stream",
     "text": [
      "7240058 달성고등학교\n",
      "급식 정보 조회 중: 날짜=20241030\n",
      "mealService 응답코드: 200\n",
      "mealServiceDietInfo 키 없음: {'RESULT': {'CODE': 'ERROR-300', 'MESSAGE': '필수 값이 누락되어 있습니다. 요청인자를 참고 하십시오.'}}\n",
      "[]\n",
      "7240082 대건고등학교\n",
      "급식 정보 조회 중: 날짜=20241030\n"
     ]
    },
    {
     "name": "stderr",
     "output_type": "stream",
     "text": [
      " ... (more hidden) ..."
     ]
    },
    {
     "name": "stdout",
     "output_type": "stream",
     "text": [
      "mealService 응답코드: 200\n",
      "mealServiceDietInfo 키 없음: {'RESULT': {'CODE': 'ERROR-300', 'MESSAGE': '필수 값이 누락되어 있습니다. 요청인자를 참고 하십시오.'}}\n",
      "[]\n",
      "7240205 대곡고등학교\n",
      "급식 정보 조회 중: 날짜=20241030\n",
      "mealService 응답코드: 200\n",
      "mealServiceDietInfo 키 없음: {'RESULT': {'CODE': 'ERROR-300', 'MESSAGE': '필수 값이 누락되어 있습니다. 요청인자를 참고 하십시오.'}}\n",
      "[]\n"
     ]
    },
    {
     "name": "stderr",
     "output_type": "stream",
     "text": [
      " ... (more hidden) ..."
     ]
    },
    {
     "name": "stdout",
     "output_type": "stream",
     "text": [
      "7240059 대구고등학교\n",
      "급식 정보 조회 중: 날짜=20241030\n",
      "mealService 응답코드: 200\n",
      "mealServiceDietInfo 키 없음: {'RESULT': {'CODE': 'ERROR-300', 'MESSAGE': '필수 값이 누락되어 있습니다. 요청인자를 참고 하십시오.'}}\n",
      "[]\n"
     ]
    },
    {
     "name": "stderr",
     "output_type": "stream",
     "text": [
      " ... (more hidden) ..."
     ]
    },
    {
     "name": "stdout",
     "output_type": "stream",
     "text": [
      "7240111 대구공업고등학교\n",
      "급식 정보 조회 중: 날짜=20241030\n",
      "mealService 응답코드: 200\n",
      "mealServiceDietInfo 키 없음: {'RESULT': {'CODE': 'ERROR-300', 'MESSAGE': '필수 값이 누락되어 있습니다. 요청인자를 참고 하십시오.'}}\n",
      "[]\n",
      "7240453 대구공업고등학교 테크노폴리스 캠퍼스\n",
      "급식 정보 조회 중: 날짜=20241030\n"
     ]
    },
    {
     "name": "stderr",
     "output_type": "stream",
     "text": [
      " ... (more hidden) ..."
     ]
    },
    {
     "name": "stdout",
     "output_type": "stream",
     "text": [
      "mealService 응답코드: 200\n",
      "mealServiceDietInfo 키 없음: {'RESULT': {'CODE': 'ERROR-300', 'MESSAGE': '필수 값이 누락되어 있습니다. 요청인자를 참고 하십시오.'}}\n",
      "[]\n",
      "7240060 대구과학고등학교\n",
      "급식 정보 조회 중: 날짜=20241030\n",
      "mealService 응답코드: 200\n",
      "mealServiceDietInfo 키 없음: {'RESULT': {'CODE': 'ERROR-300', 'MESSAGE': '필수 값이 누락되어 있습니다. 요청인자를 참고 하십시오.'}}\n",
      "[]\n"
     ]
    },
    {
     "name": "stderr",
     "output_type": "stream",
     "text": [
      " ... (more hidden) ..."
     ]
    },
    {
     "name": "stdout",
     "output_type": "stream",
     "text": [
      "7240452 대구과학기술고등학교\n",
      "급식 정보 조회 중: 날짜=20241030\n",
      "mealService 응답코드: 200\n",
      "mealServiceDietInfo 키 없음: {'RESULT': {'CODE': 'ERROR-300', 'MESSAGE': '필수 값이 누락되어 있습니다. 요청인자를 참고 하십시오.'}}\n",
      "[]\n",
      "7240219 대구관광고등학교\n",
      "급식 정보 조회 중: 날짜=20241030\n"
     ]
    },
    {
     "name": "stderr",
     "output_type": "stream",
     "text": [
      " ... (more hidden) ..."
     ]
    },
    {
     "name": "stdout",
     "output_type": "stream",
     "text": [
      "mealService 응답코드: 200\n",
      "mealServiceDietInfo 키 없음: {'RESULT': {'CODE': 'ERROR-300', 'MESSAGE': '필수 값이 누락되어 있습니다. 요청인자를 참고 하십시오.'}}\n",
      "[]\n",
      "7240450 대구국제고등학교\n",
      "급식 정보 조회 중: 날짜=20241030\n",
      "mealService 응답코드: 200\n",
      "mealServiceDietInfo 키 없음: {'RESULT': {'CODE': 'ERROR-300', 'MESSAGE': '필수 값이 누락되어 있습니다. 요청인자를 참고 하십시오.'}}\n",
      "[]\n"
     ]
    },
    {
     "name": "stderr",
     "output_type": "stream",
     "text": [
      " ... (more hidden) ..."
     ]
    },
    {
     "name": "stdout",
     "output_type": "stream",
     "text": [
      "7240213 대구남산고등학교\n",
      "급식 정보 조회 중: 날짜=20241030\n",
      "mealService 응답코드: 200\n",
      "mealServiceDietInfo 키 없음: {'RESULT': {'CODE': 'ERROR-300', 'MESSAGE': '필수 값이 누락되어 있습니다. 요청인자를 참고 하십시오.'}}\n",
      "[]\n"
     ]
    },
    {
     "name": "stderr",
     "output_type": "stream",
     "text": [
      " ... (more hidden) ..."
     ]
    },
    {
     "name": "stdout",
     "output_type": "stream",
     "text": [
      "7240400 대구농업마이스터고등학교\n",
      "급식 정보 조회 중: 날짜=20241030\n",
      "mealService 응답코드: 200\n",
      "mealServiceDietInfo 키 없음: {'RESULT': {'CODE': 'ERROR-300', 'MESSAGE': '필수 값이 누락되어 있습니다. 요청인자를 참고 하십시오.'}}\n",
      "[]\n",
      "7240217 대구동부고등학교\n",
      "급식 정보 조회 중: 날짜=20241030\n"
     ]
    },
    {
     "name": "stderr",
     "output_type": "stream",
     "text": [
      " ... (more hidden) ..."
     ]
    },
    {
     "name": "stdout",
     "output_type": "stream",
     "text": [
      "mealService 응답코드: 200\n",
      "mealServiceDietInfo 키 없음: {'RESULT': {'CODE': 'ERROR-300', 'MESSAGE': '필수 값이 누락되어 있습니다. 요청인자를 참고 하십시오.'}}\n",
      "[]\n",
      "7240514 대구반도체마이스터고등학교\n",
      "급식 정보 조회 중: 날짜=20241030\n",
      "mealService 응답코드: 200\n",
      "mealServiceDietInfo 키 없음: {'RESULT': {'CODE': 'ERROR-300', 'MESSAGE': '필수 값이 누락되어 있습니다. 요청인자를 참고 하십시오.'}}\n",
      "[]\n"
     ]
    },
    {
     "name": "stderr",
     "output_type": "stream",
     "text": [
      " ... (more hidden) ..."
     ]
    },
    {
     "name": "stdout",
     "output_type": "stream",
     "text": [
      "7240401 대구보건고등학교\n",
      "급식 정보 조회 중: 날짜=20241030\n",
      "mealService 응답코드: 200\n",
      "mealServiceDietInfo 키 없음: {'RESULT': {'CODE': 'ERROR-300', 'MESSAGE': '필수 값이 누락되어 있습니다. 요청인자를 참고 하십시오.'}}\n",
      "[]\n",
      "7240215 대구상원고등학교\n",
      "급식 정보 조회 중: 날짜=20241030\n",
      "mealService 응답코드: 200\n",
      "mealServiceDietInfo 키 없음: {'RESULT': {'CODE': 'ERROR-300', 'MESSAGE': '필수 값이 누락되어 있습니다. 요청인자를 참고 하십시오.'}}\n",
      "[]\n"
     ]
    },
    {
     "name": "stderr",
     "output_type": "stream",
     "text": [
      " ... (more hidden) ..."
     ]
    },
    {
     "name": "stdout",
     "output_type": "stream",
     "text": [
      "7240061 대구서부고등학교\n",
      "급식 정보 조회 중: 날짜=20241030\n",
      "mealService 응답코드: 200\n",
      "mealServiceDietInfo 키 없음: {'RESULT': {'CODE': 'ERROR-300', 'MESSAGE': '필수 값이 누락되어 있습니다. 요청인자를 참고 하십시오.'}}\n",
      "[]\n",
      "7240454 대구소프트웨어마이스터고등학교\n",
      "급식 정보 조회 중: 날짜=20241030\n"
     ]
    },
    {
     "name": "stderr",
     "output_type": "stream",
     "text": [
      " ... (more hidden) ..."
     ]
    },
    {
     "name": "stdout",
     "output_type": "stream",
     "text": [
      "mealService 응답코드: 200\n",
      "mealServiceDietInfo 키 없음: {'RESULT': {'CODE': 'ERROR-300', 'MESSAGE': '필수 값이 누락되어 있습니다. 요청인자를 참고 하십시오.'}}\n",
      "[]\n",
      "7240062 대구여자고등학교\n",
      "급식 정보 조회 중: 날짜=20241030\n",
      "mealService 응답코드: 200\n",
      "mealServiceDietInfo 키 없음: {'RESULT': {'CODE': 'ERROR-300', 'MESSAGE': '필수 값이 누락되어 있습니다. 요청인자를 참고 하십시오.'}}\n",
      "[]\n"
     ]
    },
    {
     "name": "stderr",
     "output_type": "stream",
     "text": [
      " ... (more hidden) ..."
     ]
    },
    {
     "name": "stdout",
     "output_type": "stream",
     "text": [
      "7240295 대구여자상업고등학교\n",
      "급식 정보 조회 중: 날짜=20241030\n",
      "mealService 응답코드: 200\n",
      "mealServiceDietInfo 키 없음: {'RESULT': {'CODE': 'ERROR-300', 'MESSAGE': '필수 값이 누락되어 있습니다. 요청인자를 참고 하십시오.'}}\n",
      "[]\n",
      "7240063 대구외국어고등학교\n",
      "급식 정보 조회 중: 날짜=20241030\n",
      "mealService 응답코드: 200\n",
      "mealServiceDietInfo 키 없음: {'RESULT': {'CODE': 'ERROR-300', 'MESSAGE': '필수 값이 누락되어 있습니다. 요청인자를 참고 하십시오.'}}\n",
      "[]\n"
     ]
    },
    {
     "name": "stderr",
     "output_type": "stream",
     "text": [
      " ... (more hidden) ..."
     ]
    },
    {
     "name": "stdout",
     "output_type": "stream",
     "text": [
      "7240331 대구일과학고등학교\n",
      "급식 정보 조회 중: 날짜=20241030\n",
      "mealService 응답코드: 200\n",
      "mealServiceDietInfo 키 없음: {'RESULT': {'CODE': 'ERROR-300', 'MESSAGE': '필수 값이 누락되어 있습니다. 요청인자를 참고 하십시오.'}}\n",
      "[]\n",
      "7240372 대구일마이스터고등학교\n",
      "급식 정보 조회 중: 날짜=20241030\n"
     ]
    },
    {
     "name": "stderr",
     "output_type": "stream",
     "text": [
      " ... (more hidden) ..."
     ]
    },
    {
     "name": "stdout",
     "output_type": "stream",
     "text": [
      "mealService 응답코드: 200\n",
      "mealServiceDietInfo 키 없음: {'RESULT': {'CODE': 'ERROR-300', 'MESSAGE': '필수 값이 누락되어 있습니다. 요청인자를 참고 하십시오.'}}\n",
      "[]\n",
      "7240183 대구제일고등학교\n",
      "급식 정보 조회 중: 날짜=20241030\n",
      "mealService 응답코드: 200\n",
      "mealServiceDietInfo 키 없음: {'RESULT': {'CODE': 'ERROR-300', 'MESSAGE': '필수 값이 누락되어 있습니다. 요청인자를 참고 하십시오.'}}\n",
      "[]\n"
     ]
    },
    {
     "name": "stderr",
     "output_type": "stream",
     "text": [
      " ... (more hidden) ..."
     ]
    },
    {
     "name": "stdout",
     "output_type": "stream",
     "text": [
      "7240293 대구제일여자상업고등학교\n",
      "급식 정보 조회 중: 날짜=20241030\n",
      "mealService 응답코드: 200\n",
      "mealServiceDietInfo 키 없음: {'RESULT': {'CODE': 'ERROR-300', 'MESSAGE': '필수 값이 누락되어 있습니다. 요청인자를 참고 하십시오.'}}\n",
      "[]\n",
      "7240294 대구중앙고등학교\n",
      "급식 정보 조회 중: 날짜=20241030\n"
     ]
    },
    {
     "name": "stderr",
     "output_type": "stream",
     "text": [
      " ... (more hidden) ..."
     ]
    },
    {
     "name": "stdout",
     "output_type": "stream",
     "text": [
      "mealService 응답코드: 200\n",
      "mealServiceDietInfo 키 없음: {'RESULT': {'CODE': 'ERROR-300', 'MESSAGE': '필수 값이 누락되어 있습니다. 요청인자를 참고 하십시오.'}}\n",
      "[]\n",
      "7240206 대구체육고등학교\n",
      "급식 정보 조회 중: 날짜=20241030\n",
      "mealService 응답코드: 200\n",
      "mealServiceDietInfo 키 없음: {'RESULT': {'CODE': 'ERROR-300', 'MESSAGE': '필수 값이 누락되어 있습니다. 요청인자를 참고 하십시오.'}}\n",
      "[]\n"
     ]
    },
    {
     "name": "stderr",
     "output_type": "stream",
     "text": [
      " ... (more hidden) ..."
     ]
    },
    {
     "name": "stdout",
     "output_type": "stream",
     "text": [
      "7240462 대구하이텍고등학교\n",
      "급식 정보 조회 중: 날짜=20241030\n",
      "mealService 응답코드: 200\n",
      "mealServiceDietInfo 키 없음: {'RESULT': {'CODE': 'ERROR-300', 'MESSAGE': '필수 값이 누락되어 있습니다. 요청인자를 참고 하십시오.'}}\n",
      "[]\n",
      "7240084 대구혜화여자고등학교\n",
      "급식 정보 조회 중: 날짜=20241030\n",
      "mealService 응답코드: 200\n",
      "mealServiceDietInfo 키 없음: {'RESULT': {'CODE': 'ERROR-300', 'MESSAGE': '필수 값이 누락되어 있습니다. 요청인자를 참고 하십시오.'}}\n",
      "[]\n"
     ]
    },
    {
     "name": "stderr",
     "output_type": "stream",
     "text": [
      " ... (more hidden) ..."
     ]
    },
    {
     "name": "stdout",
     "output_type": "stream",
     "text": [
      "7240085 대륜고등학교\n",
      "급식 정보 조회 중: 날짜=20241030\n",
      "mealService 응답코드: 200\n",
      "mealServiceDietInfo 키 없음: {'RESULT': {'CODE': 'ERROR-300', 'MESSAGE': '필수 값이 누락되어 있습니다. 요청인자를 참고 하십시오.'}}\n",
      "[]\n",
      "7240216 대원고등학교\n",
      "급식 정보 조회 중: 날짜=20241030\n"
     ]
    },
    {
     "name": "stderr",
     "output_type": "stream",
     "text": [
      " ... (more hidden) ..."
     ]
    },
    {
     "name": "stdout",
     "output_type": "stream",
     "text": [
      "mealService 응답코드: 200\n",
      "mealServiceDietInfo 키 없음: {'RESULT': {'CODE': 'ERROR-300', 'MESSAGE': '필수 값이 누락되어 있습니다. 요청인자를 참고 하십시오.'}}\n",
      "[]\n",
      "7240133 대중금속공업고등학교\n",
      "급식 정보 조회 중: 날짜=20241030\n",
      "mealService 응답코드: 200\n",
      "mealServiceDietInfo 키 없음: {'RESULT': {'CODE': 'ERROR-300', 'MESSAGE': '필수 값이 누락되어 있습니다. 요청인자를 참고 하십시오.'}}\n",
      "[]\n"
     ]
    },
    {
     "name": "stderr",
     "output_type": "stream",
     "text": [
      " ... (more hidden) ..."
     ]
    },
    {
     "name": "stdout",
     "output_type": "stream",
     "text": [
      "7240271 대진고등학교\n",
      "급식 정보 조회 중: 날짜=20241030\n",
      "mealService 응답코드: 200\n",
      "mealServiceDietInfo 키 없음: {'RESULT': {'CODE': 'ERROR-300', 'MESSAGE': '필수 값이 누락되어 있습니다. 요청인자를 참고 하십시오.'}}\n",
      "[]\n",
      "7240086 덕원고등학교\n",
      "급식 정보 조회 중: 날짜=20241030\n"
     ]
    },
    {
     "name": "stderr",
     "output_type": "stream",
     "text": [
      " ... (more hidden) ..."
     ]
    },
    {
     "name": "stdout",
     "output_type": "stream",
     "text": [
      "mealService 응답코드: 200\n",
      "mealServiceDietInfo 키 없음: {'RESULT': {'CODE': 'ERROR-300', 'MESSAGE': '필수 값이 누락되어 있습니다. 요청인자를 참고 하십시오.'}}\n",
      "[]\n",
      "7240203 도원고등학교\n",
      "급식 정보 조회 중: 날짜=20241030\n",
      "mealService 응답코드: 200\n",
      "mealServiceDietInfo 키 없음: {'RESULT': {'CODE': 'ERROR-300', 'MESSAGE': '필수 값이 누락되어 있습니다. 요청인자를 참고 하십시오.'}}\n",
      "[]\n"
     ]
    },
    {
     "name": "stderr",
     "output_type": "stream",
     "text": [
      " ... (more hidden) ..."
     ]
    },
    {
     "name": "stdout",
     "output_type": "stream",
     "text": [
      "7240222 동문고등학교\n",
      "급식 정보 조회 중: 날짜=20241030\n",
      "mealService 응답코드: 200\n",
      "mealServiceDietInfo 키 없음: {'RESULT': {'CODE': 'ERROR-300', 'MESSAGE': '필수 값이 누락되어 있습니다. 요청인자를 참고 하십시오.'}}\n",
      "[]\n",
      "7240272 매천고등학교\n",
      "급식 정보 조회 중: 날짜=20241030\n"
     ]
    },
    {
     "name": "stderr",
     "output_type": "stream",
     "text": [
      " ... (more hidden) ..."
     ]
    },
    {
     "name": "stdout",
     "output_type": "stream",
     "text": [
      "mealService 응답코드: 200\n",
      "mealServiceDietInfo 키 없음: {'RESULT': {'CODE': 'ERROR-300', 'MESSAGE': '필수 값이 누락되어 있습니다. 요청인자를 참고 하십시오.'}}\n",
      "[]\n",
      "7240394 비슬고등학교\n",
      "급식 정보 조회 중: 날짜=20241030\n",
      "mealService 응답코드: 200\n",
      "mealServiceDietInfo 키 없음: {'RESULT': {'CODE': 'ERROR-300', 'MESSAGE': '필수 값이 누락되어 있습니다. 요청인자를 참고 하십시오.'}}\n",
      "[]\n"
     ]
    },
    {
     "name": "stderr",
     "output_type": "stream",
     "text": [
      " ... (more hidden) ..."
     ]
    },
    {
     "name": "stdout",
     "output_type": "stream",
     "text": [
      "7240356 상서고등학교\n",
      "급식 정보 조회 중: 날짜=20241030\n",
      "mealService 응답코드: 200\n",
      "mealServiceDietInfo 키 없음: {'RESULT': {'CODE': 'ERROR-300', 'MESSAGE': '필수 값이 누락되어 있습니다. 요청인자를 참고 하십시오.'}}\n",
      "[]\n",
      "7240187 상인고등학교\n",
      "급식 정보 조회 중: 날짜=20241030\n"
     ]
    },
    {
     "name": "stderr",
     "output_type": "stream",
     "text": [
      " ... (more hidden) ..."
     ]
    },
    {
     "name": "stdout",
     "output_type": "stream",
     "text": [
      "mealService 응답코드: 200\n",
      "mealServiceDietInfo 키 없음: {'RESULT': {'CODE': 'ERROR-300', 'MESSAGE': '필수 값이 누락되어 있습니다. 요청인자를 참고 하십시오.'}}\n",
      "[]\n",
      "7240090 성광고등학교\n",
      "급식 정보 조회 중: 날짜=20241030\n",
      "mealService 응답코드: 200\n",
      "mealServiceDietInfo 키 없음: {'RESULT': {'CODE': 'ERROR-300', 'MESSAGE': '필수 값이 누락되어 있습니다. 요청인자를 참고 하십시오.'}}\n",
      "[]\n"
     ]
    },
    {
     "name": "stderr",
     "output_type": "stream",
     "text": [
      " ... (more hidden) ..."
     ]
    },
    {
     "name": "stdout",
     "output_type": "stream",
     "text": [
      "7240204 성산고등학교\n",
      "급식 정보 조회 중: 날짜=20241030\n",
      "mealService 응답코드: 200\n",
      "mealServiceDietInfo 키 없음: {'RESULT': {'CODE': 'ERROR-300', 'MESSAGE': '필수 값이 누락되어 있습니다. 요청인자를 참고 하십시오.'}}\n",
      "[]\n",
      "7240064 성서고등학교\n",
      "급식 정보 조회 중: 날짜=20241030\n"
     ]
    },
    {
     "name": "stderr",
     "output_type": "stream",
     "text": [
      " ... (more hidden) ..."
     ]
    },
    {
     "name": "stdout",
     "output_type": "stream",
     "text": [
      "mealService 응답코드: 200\n",
      "mealServiceDietInfo 키 없음: {'RESULT': {'CODE': 'ERROR-300', 'MESSAGE': '필수 값이 누락되어 있습니다. 요청인자를 참고 하십시오.'}}\n",
      "[]\n",
      "7240091 성화여자고등학교\n",
      "급식 정보 조회 중: 날짜=20241030\n",
      "mealService 응답코드: 200\n",
      "mealServiceDietInfo 키 없음: {'RESULT': {'CODE': 'ERROR-300', 'MESSAGE': '필수 값이 누락되어 있습니다. 요청인자를 참고 하십시오.'}}\n",
      "[]\n"
     ]
    },
    {
     "name": "stderr",
     "output_type": "stream",
     "text": [
      " ... (more hidden) ..."
     ]
    },
    {
     "name": "stdout",
     "output_type": "stream",
     "text": [
      "7240092 송현여자고등학교\n",
      "급식 정보 조회 중: 날짜=20241030\n",
      "mealService 응답코드: 200\n",
      "mealServiceDietInfo 키 없음: {'RESULT': {'CODE': 'ERROR-300', 'MESSAGE': '필수 값이 누락되어 있습니다. 요청인자를 참고 하십시오.'}}\n",
      "[]\n",
      "7240259 수성고등학교\n",
      "급식 정보 조회 중: 날짜=20241030\n"
     ]
    },
    {
     "name": "stderr",
     "output_type": "stream",
     "text": [
      " ... (more hidden) ..."
     ]
    },
    {
     "name": "stdout",
     "output_type": "stream",
     "text": [
      "mealService 응답코드: 200\n",
      "mealServiceDietInfo 키 없음: {'RESULT': {'CODE': 'ERROR-300', 'MESSAGE': '필수 값이 누락되어 있습니다. 요청인자를 참고 하십시오.'}}\n",
      "[]\n",
      "7240065 시지고등학교\n",
      "급식 정보 조회 중: 날짜=20241030\n",
      "mealService 응답코드: 200\n",
      "mealServiceDietInfo 키 없음: {'RESULT': {'CODE': 'ERROR-300', 'MESSAGE': '필수 값이 누락되어 있습니다. 요청인자를 참고 하십시오.'}}\n",
      "[]\n"
     ]
    },
    {
     "name": "stderr",
     "output_type": "stream",
     "text": [
      " ... (more hidden) ..."
     ]
    },
    {
     "name": "stdout",
     "output_type": "stream",
     "text": [
      "7240218 신명고등학교\n",
      "급식 정보 조회 중: 날짜=20241030\n",
      "mealService 응답코드: 200\n",
      "mealServiceDietInfo 키 없음: {'RESULT': {'CODE': 'ERROR-300', 'MESSAGE': '필수 값이 누락되어 있습니다. 요청인자를 참고 하십시오.'}}\n",
      "[]\n",
      "7240094 심인고등학교\n",
      "급식 정보 조회 중: 날짜=20241030\n",
      "mealService 응답코드: 200\n",
      "mealServiceDietInfo 키 없음: {'RESULT': {'CODE': 'ERROR-300', 'MESSAGE': '필수 값이 누락되어 있습니다. 요청인자를 참고 하십시오.'}}\n",
      "[]\n"
     ]
    },
    {
     "name": "stderr",
     "output_type": "stream",
     "text": [
      " ... (more hidden) ..."
     ]
    },
    {
     "name": "stdout",
     "output_type": "stream",
     "text": [
      "7240095 영남고등학교\n",
      "급식 정보 조회 중: 날짜=20241030\n",
      "mealService 응답코드: 200\n",
      "mealServiceDietInfo 키 없음: {'RESULT': {'CODE': 'ERROR-300', 'MESSAGE': '필수 값이 누락되어 있습니다. 요청인자를 참고 하십시오.'}}\n",
      "[]\n",
      "7240144 영남공업고등학교\n",
      "급식 정보 조회 중: 날짜=20241030\n"
     ]
    },
    {
     "name": "stderr",
     "output_type": "stream",
     "text": [
      " ... (more hidden) ..."
     ]
    },
    {
     "name": "stdout",
     "output_type": "stream",
     "text": [
      "mealService 응답코드: 200\n",
      "mealServiceDietInfo 키 없음: {'RESULT': {'CODE': 'ERROR-300', 'MESSAGE': '필수 값이 누락되어 있습니다. 요청인자를 참고 하십시오.'}}\n",
      "[]\n",
      "7240096 영송여자고등학교\n",
      "급식 정보 조회 중: 날짜=20241030\n",
      "mealService 응답코드: 200\n",
      "mealServiceDietInfo 키 없음: {'RESULT': {'CODE': 'ERROR-300', 'MESSAGE': '필수 값이 누락되어 있습니다. 요청인자를 참고 하십시오.'}}\n",
      "[]\n"
     ]
    },
    {
     "name": "stderr",
     "output_type": "stream",
     "text": [
      " ... (more hidden) ..."
     ]
    },
    {
     "name": "stdout",
     "output_type": "stream",
     "text": [
      "7240097 영신고등학교\n",
      "급식 정보 조회 중: 날짜=20241030\n",
      "mealService 응답코드: 200\n",
      "mealServiceDietInfo 키 없음: {'RESULT': {'CODE': 'ERROR-300', 'MESSAGE': '필수 값이 누락되어 있습니다. 요청인자를 참고 하십시오.'}}\n",
      "[]\n",
      "7240098 영진고등학교\n",
      "급식 정보 조회 중: 날짜=20241030\n"
     ]
    },
    {
     "name": "stderr",
     "output_type": "stream",
     "text": [
      " ... (more hidden) ..."
     ]
    },
    {
     "name": "stdout",
     "output_type": "stream",
     "text": [
      "mealService 응답코드: 200\n",
      "mealServiceDietInfo 키 없음: {'RESULT': {'CODE': 'ERROR-300', 'MESSAGE': '필수 값이 누락되어 있습니다. 요청인자를 참고 하십시오.'}}\n",
      "[]\n",
      "7240099 오성고등학교\n",
      "급식 정보 조회 중: 날짜=20241030\n",
      "mealService 응답코드: 200\n",
      "mealServiceDietInfo 키 없음: {'RESULT': {'CODE': 'ERROR-300', 'MESSAGE': '필수 값이 누락되어 있습니다. 요청인자를 참고 하십시오.'}}\n",
      "[]\n"
     ]
    },
    {
     "name": "stderr",
     "output_type": "stream",
     "text": [
      " ... (more hidden) ..."
     ]
    },
    {
     "name": "stdout",
     "output_type": "stream",
     "text": [
      "7240182 와룡고등학교\n",
      "급식 정보 조회 중: 날짜=20241030\n",
      "mealService 응답코드: 200\n",
      "mealServiceDietInfo 키 없음: {'RESULT': {'CODE': 'ERROR-300', 'MESSAGE': '필수 값이 누락되어 있습니다. 요청인자를 참고 하십시오.'}}\n",
      "[]\n",
      "7240188 운암고등학교\n",
      "급식 정보 조회 중: 날짜=20241030\n"
     ]
    },
    {
     "name": "stderr",
     "output_type": "stream",
     "text": [
      " ... (more hidden) ..."
     ]
    },
    {
     "name": "stdout",
     "output_type": "stream",
     "text": [
      "mealService 응답코드: 200\n",
      "mealServiceDietInfo 키 없음: {'RESULT': {'CODE': 'ERROR-300', 'MESSAGE': '필수 값이 누락되어 있습니다. 요청인자를 참고 하십시오.'}}\n",
      "[]\n",
      "7240100 원화여자고등학교\n",
      "급식 정보 조회 중: 날짜=20241030\n",
      "mealService 응답코드: 200\n",
      "mealServiceDietInfo 키 없음: {'RESULT': {'CODE': 'ERROR-300', 'MESSAGE': '필수 값이 누락되어 있습니다. 요청인자를 참고 하십시오.'}}\n",
      "[]\n"
     ]
    },
    {
     "name": "stderr",
     "output_type": "stream",
     "text": [
      " ... (more hidden) ..."
     ]
    },
    {
     "name": "stdout",
     "output_type": "stream",
     "text": [
      "7240101 정동고등학교\n",
      "급식 정보 조회 중: 날짜=20241030\n",
      "mealService 응답코드: 200\n",
      "mealServiceDietInfo 키 없음: {'RESULT': {'CODE': 'ERROR-300', 'MESSAGE': '필수 값이 누락되어 있습니다. 요청인자를 참고 하십시오.'}}\n",
      "[]\n",
      "7240102 정화여자고등학교\n",
      "급식 정보 조회 중: 날짜=20241030\n",
      "mealService 응답코드: 200\n",
      "mealServiceDietInfo 키 없음: {'RESULT': {'CODE': 'ERROR-300', 'MESSAGE': '필수 값이 누락되어 있습니다. 요청인자를 참고 하십시오.'}}\n",
      "[]\n"
     ]
    },
    {
     "name": "stderr",
     "output_type": "stream",
     "text": [
      " ... (more hidden) ..."
     ]
    },
    {
     "name": "stdout",
     "output_type": "stream",
     "text": [
      "7240402 조일고등학교\n",
      "급식 정보 조회 중: 날짜=20241030\n",
      "mealService 응답코드: 200\n",
      "mealServiceDietInfo 키 없음: {'RESULT': {'CODE': 'ERROR-300', 'MESSAGE': '필수 값이 누락되어 있습니다. 요청인자를 참고 하십시오.'}}\n",
      "[]\n",
      "7240103 청구고등학교\n",
      "급식 정보 조회 중: 날짜=20241030\n"
     ]
    },
    {
     "name": "stderr",
     "output_type": "stream",
     "text": [
      " ... (more hidden) ..."
     ]
    },
    {
     "name": "stdout",
     "output_type": "stream",
     "text": [
      "mealService 응답코드: 200\n",
      "mealServiceDietInfo 키 없음: {'RESULT': {'CODE': 'ERROR-300', 'MESSAGE': '필수 값이 누락되어 있습니다. 요청인자를 참고 하십시오.'}}\n",
      "[]\n",
      "7240282 칠성고등학교\n",
      "급식 정보 조회 중: 날짜=20241030\n",
      "mealService 응답코드: 200\n",
      "mealServiceDietInfo 키 없음: {'RESULT': {'CODE': 'ERROR-300', 'MESSAGE': '필수 값이 누락되어 있습니다. 요청인자를 참고 하십시오.'}}\n",
      "[]\n"
     ]
    },
    {
     "name": "stderr",
     "output_type": "stream",
     "text": [
      " ... (more hidden) ..."
     ]
    },
    {
     "name": "stdout",
     "output_type": "stream",
     "text": [
      "7240189 포산고등학교\n",
      "급식 정보 조회 중: 날짜=20241030\n",
      "mealService 응답코드: 200\n",
      "mealServiceDietInfo 키 없음: {'RESULT': {'CODE': 'ERROR-300', 'MESSAGE': '필수 값이 누락되어 있습니다. 요청인자를 참고 하십시오.'}}\n",
      "[]\n",
      "7240207 학남고등학교\n",
      "급식 정보 조회 중: 날짜=20241030\n"
     ]
    },
    {
     "name": "stderr",
     "output_type": "stream",
     "text": [
      " ... (more hidden) ..."
     ]
    },
    {
     "name": "stdout",
     "output_type": "stream",
     "text": [
      "mealService 응답코드: 200\n",
      "mealServiceDietInfo 키 없음: {'RESULT': {'CODE': 'ERROR-300', 'MESSAGE': '필수 값이 누락되어 있습니다. 요청인자를 참고 하십시오.'}}\n",
      "[]\n",
      "7240273 함지고등학교\n",
      "급식 정보 조회 중: 날짜=20241030\n",
      "mealService 응답코드: 200\n",
      "mealServiceDietInfo 키 없음: {'RESULT': {'CODE': 'ERROR-300', 'MESSAGE': '필수 값이 누락되어 있습니다. 요청인자를 참고 하십시오.'}}\n",
      "[]\n"
     ]
    },
    {
     "name": "stderr",
     "output_type": "stream",
     "text": [
      " ... (more hidden) ..."
     ]
    },
    {
     "name": "stdout",
     "output_type": "stream",
     "text": [
      "7240104 현풍고등학교\n",
      "급식 정보 조회 중: 날짜=20241030\n",
      "mealService 응답코드: 200\n",
      "mealServiceDietInfo 키 없음: {'RESULT': {'CODE': 'ERROR-300', 'MESSAGE': '필수 값이 누락되어 있습니다. 요청인자를 참고 하십시오.'}}\n",
      "[]\n",
      "7240105 협성고등학교\n",
      "급식 정보 조회 중: 날짜=20241030\n"
     ]
    },
    {
     "name": "stderr",
     "output_type": "stream",
     "text": [
      " ... (more hidden) ..."
     ]
    },
    {
     "name": "stdout",
     "output_type": "stream",
     "text": [
      "mealService 응답코드: 200\n",
      "mealServiceDietInfo 키 없음: {'RESULT': {'CODE': 'ERROR-300', 'MESSAGE': '필수 값이 누락되어 있습니다. 요청인자를 참고 하십시오.'}}\n",
      "[]\n",
      "7240283 호산고등학교\n",
      "급식 정보 조회 중: 날짜=20241030\n",
      "mealService 응답코드: 200\n",
      "mealServiceDietInfo 키 없음: {'RESULT': {'CODE': 'ERROR-300', 'MESSAGE': '필수 값이 누락되어 있습니다. 요청인자를 참고 하십시오.'}}\n",
      "[]\n"
     ]
    },
    {
     "name": "stderr",
     "output_type": "stream",
     "text": [
      " ... (more hidden) ..."
     ]
    },
    {
     "name": "stdout",
     "output_type": "stream",
     "text": [
      "7240209 화원고등학교\n",
      "급식 정보 조회 중: 날짜=20241030\n",
      "mealService 응답코드: 200\n",
      "mealServiceDietInfo 키 없음: {'RESULT': {'CODE': 'ERROR-300', 'MESSAGE': '필수 값이 누락되어 있습니다. 요청인자를 참고 하십시오.'}}\n",
      "[]\n",
      "7240458 효령고등학교\n",
      "급식 정보 조회 중: 날짜=20241030\n"
     ]
    },
    {
     "name": "stderr",
     "output_type": "stream",
     "text": [
      " ... (more hidden) ..."
     ]
    },
    {
     "name": "stdout",
     "output_type": "stream",
     "text": [
      "mealService 응답코드: 200\n",
      "mealServiceDietInfo 키 없음: {'RESULT': {'CODE': 'ERROR-300', 'MESSAGE': '필수 값이 누락되어 있습니다. 요청인자를 참고 하십시오.'}}\n",
      "[]\n",
      "7240106 효성여자고등학교\n",
      "급식 정보 조회 중: 날짜=20241030\n",
      "mealService 응답코드: 200\n",
      "mealServiceDietInfo 키 없음: {'RESULT': {'CODE': 'ERROR-300', 'MESSAGE': '필수 값이 누락되어 있습니다. 요청인자를 참고 하십시오.'}}\n",
      "[]\n"
     ]
    },
    {
     "name": "stderr",
     "output_type": "stream",
     "text": [
      " ... (more hidden) ...\n"
     ]
    },
    {
     "name": "stdout",
     "output_type": "stream",
     "text": [
      "응답코드 : 200\n"
     ]
    },
    {
     "name": "stderr",
     "output_type": "stream",
     "text": [
      " ... (more hidden) ..."
     ]
    },
    {
     "name": "stdout",
     "output_type": "stream",
     "text": [
      "7310207 가림고등학교\n",
      "급식 정보 조회 중: 날짜=20241030\n",
      "mealService 응답코드: 200\n",
      "mealServiceDietInfo 키 없음: {'RESULT': {'CODE': 'ERROR-300', 'MESSAGE': '필수 값이 누락되어 있습니다. 요청인자를 참고 하십시오.'}}\n",
      "[]\n",
      "7310035 가정고등학교\n",
      "급식 정보 조회 중: 날짜=20241030\n"
     ]
    },
    {
     "name": "stderr",
     "output_type": "stream",
     "text": [
      " ... (more hidden) ..."
     ]
    },
    {
     "name": "stdout",
     "output_type": "stream",
     "text": [
      "mealService 응답코드: 200\n",
      "mealServiceDietInfo 키 없음: {'RESULT': {'CODE': 'ERROR-300', 'MESSAGE': '필수 값이 누락되어 있습니다. 요청인자를 참고 하십시오.'}}\n",
      "[]\n",
      "7310217 가좌고등학교\n",
      "급식 정보 조회 중: 날짜=20241030\n",
      "mealService 응답코드: 200\n",
      "mealServiceDietInfo 키 없음: {'RESULT': {'CODE': 'ERROR-300', 'MESSAGE': '필수 값이 누락되어 있습니다. 요청인자를 참고 하십시오.'}}\n",
      "[]\n"
     ]
    },
    {
     "name": "stderr",
     "output_type": "stream",
     "text": [
      " ... (more hidden) ..."
     ]
    },
    {
     "name": "stdout",
     "output_type": "stream",
     "text": [
      "7310346 강남영상미디어고등학교\n",
      "급식 정보 조회 중: 날짜=20241030\n",
      "mealService 응답코드: 200\n",
      "mealServiceDietInfo 키 없음: {'RESULT': {'CODE': 'ERROR-300', 'MESSAGE': '필수 값이 누락되어 있습니다. 요청인자를 참고 하십시오.'}}\n",
      "[]\n",
      "7310036 강화고등학교\n",
      "급식 정보 조회 중: 날짜=20241030\n"
     ]
    },
    {
     "name": "stderr",
     "output_type": "stream",
     "text": [
      " ... (more hidden) ..."
     ]
    },
    {
     "name": "stdout",
     "output_type": "stream",
     "text": [
      "mealService 응답코드: 200\n",
      "mealServiceDietInfo 키 없음: {'RESULT': {'CODE': 'ERROR-300', 'MESSAGE': '필수 값이 누락되어 있습니다. 요청인자를 참고 하십시오.'}}\n",
      "[]\n",
      "7310201 강화여자고등학교\n",
      "급식 정보 조회 중: 날짜=20241030\n",
      "mealService 응답코드: 200\n",
      "mealServiceDietInfo 키 없음: {'RESULT': {'CODE': 'ERROR-300', 'MESSAGE': '필수 값이 누락되어 있습니다. 요청인자를 참고 하십시오.'}}\n",
      "[]\n"
     ]
    },
    {
     "name": "stderr",
     "output_type": "stream",
     "text": [
      " ... (more hidden) ..."
     ]
    },
    {
     "name": "stdout",
     "output_type": "stream",
     "text": [
      "7310203 검단고등학교\n",
      "급식 정보 조회 중: 날짜=20241030\n",
      "mealService 응답코드: 200\n",
      "mealServiceDietInfo 키 없음: {'RESULT': {'CODE': 'ERROR-300', 'MESSAGE': '필수 값이 누락되어 있습니다. 요청인자를 참고 하십시오.'}}\n",
      "[]\n",
      "7310037 계산고등학교\n",
      "급식 정보 조회 중: 날짜=20241030\n"
     ]
    },
    {
     "name": "stderr",
     "output_type": "stream",
     "text": [
      " ... (more hidden) ..."
     ]
    },
    {
     "name": "stdout",
     "output_type": "stream",
     "text": [
      "mealService 응답코드: 200\n",
      "mealServiceDietInfo 키 없음: {'RESULT': {'CODE': 'ERROR-300', 'MESSAGE': '필수 값이 누락되어 있습니다. 요청인자를 참고 하십시오.'}}\n",
      "[]\n",
      "7310090 계산공업고등학교\n",
      "급식 정보 조회 중: 날짜=20241030\n",
      "mealService 응답코드: 200\n",
      "mealServiceDietInfo 키 없음: {'RESULT': {'CODE': 'ERROR-300', 'MESSAGE': '필수 값이 누락되어 있습니다. 요청인자를 참고 하십시오.'}}\n",
      "[]\n"
     ]
    },
    {
     "name": "stderr",
     "output_type": "stream",
     "text": [
      " ... (more hidden) ..."
     ]
    },
    {
     "name": "stdout",
     "output_type": "stream",
     "text": [
      "7310038 계산여자고등학교\n",
      "급식 정보 조회 중: 날짜=20241030\n",
      "mealService 응답코드: 200\n",
      "mealServiceDietInfo 키 없음: {'RESULT': {'CODE': 'ERROR-300', 'MESSAGE': '필수 값이 누락되어 있습니다. 요청인자를 참고 하십시오.'}}\n",
      "[]\n",
      "7310039 계양고등학교\n",
      "급식 정보 조회 중: 날짜=20241030\n"
     ]
    },
    {
     "name": "stderr",
     "output_type": "stream",
     "text": [
      " ... (more hidden) ..."
     ]
    },
    {
     "name": "stdout",
     "output_type": "stream",
     "text": [
      "mealService 응답코드: 200\n",
      "mealServiceDietInfo 키 없음: {'RESULT': {'CODE': 'ERROR-300', 'MESSAGE': '필수 값이 누락되어 있습니다. 요청인자를 참고 하십시오.'}}\n",
      "[]\n",
      "7310067 광성고등학교\n",
      "급식 정보 조회 중: 날짜=20241030\n",
      "mealService 응답코드: 200\n",
      "mealServiceDietInfo 키 없음: {'RESULT': {'CODE': 'ERROR-300', 'MESSAGE': '필수 값이 누락되어 있습니다. 요청인자를 참고 하십시오.'}}\n",
      "[]\n"
     ]
    },
    {
     "name": "stderr",
     "output_type": "stream",
     "text": [
      " ... (more hidden) ..."
     ]
    },
    {
     "name": "stdout",
     "output_type": "stream",
     "text": [
      "7310189 교동고등학교\n",
      "급식 정보 조회 중: 날짜=20241030\n",
      "mealService 응답코드: 200\n",
      "mealServiceDietInfo 키 없음: {'RESULT': {'CODE': 'ERROR-300', 'MESSAGE': '필수 값이 누락되어 있습니다. 요청인자를 참고 하십시오.'}}\n",
      "[]\n",
      "7310069 대인고등학교\n",
      "급식 정보 조회 중: 날짜=20241030\n"
     ]
    },
    {
     "name": "stderr",
     "output_type": "stream",
     "text": [
      " ... (more hidden) ..."
     ]
    },
    {
     "name": "stdout",
     "output_type": "stream",
     "text": [
      "mealService 응답코드: 200\n",
      "mealServiceDietInfo 키 없음: {'RESULT': {'CODE': 'ERROR-300', 'MESSAGE': '필수 값이 누락되어 있습니다. 요청인자를 참고 하십시오.'}}\n",
      "[]\n",
      "7310041 대청고등학교\n",
      "급식 정보 조회 중: 날짜=20241030\n",
      "mealService 응답코드: 200\n",
      "mealServiceDietInfo 키 없음: {'RESULT': {'CODE': 'ERROR-300', 'MESSAGE': '필수 값이 누락되어 있습니다. 요청인자를 참고 하십시오.'}}\n",
      "[]\n"
     ]
    },
    {
     "name": "stderr",
     "output_type": "stream",
     "text": [
      " ... (more hidden) ..."
     ]
    },
    {
     "name": "stdout",
     "output_type": "stream",
     "text": [
      "7310070 덕신고등학교\n",
      "급식 정보 조회 중: 날짜=20241030\n",
      "mealService 응답코드: 200\n",
      "mealServiceDietInfo 키 없음: {'RESULT': {'CODE': 'ERROR-300', 'MESSAGE': '필수 값이 누락되어 있습니다. 요청인자를 참고 하십시오.'}}\n",
      "[]\n",
      "7310042 덕적고등학교\n",
      "급식 정보 조회 중: 날짜=20241030\n"
     ]
    },
    {
     "name": "stderr",
     "output_type": "stream",
     "text": [
      " ... (more hidden) ..."
     ]
    },
    {
     "name": "stdout",
     "output_type": "stream",
     "text": [
      "mealService 응답코드: 200\n",
      "mealServiceDietInfo 키 없음: {'RESULT': {'CODE': 'ERROR-300', 'MESSAGE': '필수 값이 누락되어 있습니다. 요청인자를 참고 하십시오.'}}\n",
      "[]\n",
      "7310220 도림고등학교\n",
      "급식 정보 조회 중: 날짜=20241030\n",
      "mealService 응답코드: 200\n",
      "mealServiceDietInfo 키 없음: {'RESULT': {'CODE': 'ERROR-300', 'MESSAGE': '필수 값이 누락되어 있습니다. 요청인자를 참고 하십시오.'}}\n",
      "[]\n"
     ]
    },
    {
     "name": "stderr",
     "output_type": "stream",
     "text": [
      " ... (more hidden) ..."
     ]
    },
    {
     "name": "stdout",
     "output_type": "stream",
     "text": [
      "7310071 동산고등학교\n",
      "급식 정보 조회 중: 날짜=20241030\n",
      "mealService 응답코드: 200\n",
      "mealServiceDietInfo 키 없음: {'RESULT': {'CODE': 'ERROR-300', 'MESSAGE': '필수 값이 누락되어 있습니다. 요청인자를 참고 하십시오.'}}\n",
      "[]\n",
      "7310043 동인천고등학교\n",
      "급식 정보 조회 중: 날짜=20241030\n"
     ]
    },
    {
     "name": "stderr",
     "output_type": "stream",
     "text": [
      " ... (more hidden) ..."
     ]
    },
    {
     "name": "stdout",
     "output_type": "stream",
     "text": [
      "mealService 응답코드: 200\n",
      "mealServiceDietInfo 키 없음: {'RESULT': {'CODE': 'ERROR-300', 'MESSAGE': '필수 값이 누락되어 있습니다. 요청인자를 참고 하십시오.'}}\n",
      "[]\n",
      "7310072 명신여자고등학교\n",
      "급식 정보 조회 중: 날짜=20241030\n",
      "mealService 응답코드: 200\n",
      "mealServiceDietInfo 키 없음: {'RESULT': {'CODE': 'ERROR-300', 'MESSAGE': '필수 값이 누락되어 있습니다. 요청인자를 참고 하십시오.'}}\n",
      "[]\n"
     ]
    },
    {
     "name": "stderr",
     "output_type": "stream",
     "text": [
      " ... (more hidden) ..."
     ]
    },
    {
     "name": "stdout",
     "output_type": "stream",
     "text": [
      "7310626 문곡고등학교\n",
      "급식 정보 조회 중: 날짜=20241030\n",
      "mealService 응답코드: 200\n",
      "mealServiceDietInfo 키 없음: {'RESULT': {'CODE': 'ERROR-300', 'MESSAGE': '필수 값이 누락되어 있습니다. 요청인자를 참고 하십시오.'}}\n",
      "[]\n",
      "7310073 문일여자고등학교\n",
      "급식 정보 조회 중: 날짜=20241030\n",
      "mealService 응답코드: 200\n",
      "mealServiceDietInfo 키 없음: {'RESULT': {'CODE': 'ERROR-300', 'MESSAGE': '필수 값이 누락되어 있습니다. 요청인자를 참고 하십시오.'}}\n",
      "[]\n"
     ]
    },
    {
     "name": "stderr",
     "output_type": "stream",
     "text": [
      " ... (more hidden) ..."
     ]
    },
    {
     "name": "stdout",
     "output_type": "stream",
     "text": [
      "7310192 문학정보고등학교\n",
      "급식 정보 조회 중: 날짜=20241030\n",
      "mealService 응답코드: 200\n",
      "mealServiceDietInfo 키 없음: {'RESULT': {'CODE': 'ERROR-300', 'MESSAGE': '필수 값이 누락되어 있습니다. 요청인자를 참고 하십시오.'}}\n",
      "[]\n",
      "7310350 미추홀외국어고등학교\n",
      "급식 정보 조회 중: 날짜=20241030\n",
      "mealService 응답코드: 200\n",
      "mealServiceDietInfo 키 없음: {'RESULT': {'CODE': 'ERROR-300', 'MESSAGE': '필수 값이 누락되어 있습니다. 요청인자를 참고 하십시오.'}}\n",
      "[]\n"
     ]
    },
    {
     "name": "stderr",
     "output_type": "stream",
     "text": [
      " ... (more hidden) ..."
     ]
    },
    {
     "name": "stdout",
     "output_type": "stream",
     "text": [
      "7310427 박문여자고등학교\n",
      "급식 정보 조회 중: 날짜=20241030\n",
      "mealService 응답코드: 200\n",
      "mealServiceDietInfo 키 없음: {'RESULT': {'CODE': 'ERROR-300', 'MESSAGE': '필수 값이 누락되어 있습니다. 요청인자를 참고 하십시오.'}}\n",
      "[]\n",
      "7310403 백령고등학교\n",
      "급식 정보 조회 중: 날짜=20241030\n"
     ]
    },
    {
     "name": "stderr",
     "output_type": "stream",
     "text": [
      " ... (more hidden) ..."
     ]
    },
    {
     "name": "stdout",
     "output_type": "stream",
     "text": [
      "mealService 응답코드: 200\n",
      "mealServiceDietInfo 키 없음: {'RESULT': {'CODE': 'ERROR-300', 'MESSAGE': '필수 값이 누락되어 있습니다. 요청인자를 참고 하십시오.'}}\n",
      "[]\n",
      "7310044 백석고등학교\n",
      "급식 정보 조회 중: 날짜=20241030\n",
      "mealService 응답코드: 200\n",
      "mealServiceDietInfo 키 없음: {'RESULT': {'CODE': 'ERROR-300', 'MESSAGE': '필수 값이 누락되어 있습니다. 요청인자를 참고 하십시오.'}}\n",
      "[]\n"
     ]
    },
    {
     "name": "stderr",
     "output_type": "stream",
     "text": [
      " ... (more hidden) ..."
     ]
    },
    {
     "name": "stdout",
     "output_type": "stream",
     "text": [
      "7310219 부개고등학교\n",
      "급식 정보 조회 중: 날짜=20241030\n",
      "mealService 응답코드: 200\n",
      "mealServiceDietInfo 키 없음: {'RESULT': {'CODE': 'ERROR-300', 'MESSAGE': '필수 값이 누락되어 있습니다. 요청인자를 참고 하십시오.'}}\n",
      "[]\n",
      "7310045 부개여자고등학교\n",
      "급식 정보 조회 중: 날짜=20241030\n"
     ]
    },
    {
     "name": "stderr",
     "output_type": "stream",
     "text": [
      " ... (more hidden) ..."
     ]
    },
    {
     "name": "stdout",
     "output_type": "stream",
     "text": [
      "mealService 응답코드: 200\n",
      "mealServiceDietInfo 키 없음: {'RESULT': {'CODE': 'ERROR-300', 'MESSAGE': '필수 값이 누락되어 있습니다. 요청인자를 참고 하십시오.'}}\n",
      "[]\n",
      "7310046 부광고등학교\n",
      "급식 정보 조회 중: 날짜=20241030\n",
      "mealService 응답코드: 200\n",
      "mealServiceDietInfo 키 없음: {'RESULT': {'CODE': 'ERROR-300', 'MESSAGE': '필수 값이 누락되어 있습니다. 요청인자를 참고 하십시오.'}}\n",
      "[]\n"
     ]
    },
    {
     "name": "stderr",
     "output_type": "stream",
     "text": [
      " ... (more hidden) ..."
     ]
    },
    {
     "name": "stdout",
     "output_type": "stream",
     "text": [
      "7310047 부광여자고등학교\n",
      "급식 정보 조회 중: 날짜=20241030\n",
      "mealService 응답코드: 200\n",
      "mealServiceDietInfo 키 없음: {'RESULT': {'CODE': 'ERROR-300', 'MESSAGE': '필수 값이 누락되어 있습니다. 요청인자를 참고 하십시오.'}}\n",
      "[]\n",
      "7310048 부평고등학교\n",
      "급식 정보 조회 중: 날짜=20241030\n"
     ]
    },
    {
     "name": "stderr",
     "output_type": "stream",
     "text": [
      " ... (more hidden) ..."
     ]
    },
    {
     "name": "stdout",
     "output_type": "stream",
     "text": [
      "mealService 응답코드: 200\n",
      "mealServiceDietInfo 키 없음: {'RESULT': {'CODE': 'ERROR-300', 'MESSAGE': '필수 값이 누락되어 있습니다. 요청인자를 참고 하십시오.'}}\n",
      "[]\n",
      "7310093 부평공업고등학교\n",
      "급식 정보 조회 중: 날짜=20241030\n",
      "mealService 응답코드: 200\n",
      "mealServiceDietInfo 키 없음: {'RESULT': {'CODE': 'ERROR-300', 'MESSAGE': '필수 값이 누락되어 있습니다. 요청인자를 참고 하십시오.'}}\n",
      "[]\n"
     ]
    },
    {
     "name": "stderr",
     "output_type": "stream",
     "text": [
      " ... (more hidden) ..."
     ]
    },
    {
     "name": "stdout",
     "output_type": "stream",
     "text": [
      "7310049 부평여자고등학교\n",
      "급식 정보 조회 중: 날짜=20241030\n",
      "mealService 응답코드: 200\n",
      "mealServiceDietInfo 키 없음: {'RESULT': {'CODE': 'ERROR-300', 'MESSAGE': '필수 값이 누락되어 있습니다. 요청인자를 참고 하십시오.'}}\n",
      "[]\n",
      "7310212 산마을고등학교\n",
      "급식 정보 조회 중: 날짜=20241030\n"
     ]
    },
    {
     "name": "stderr",
     "output_type": "stream",
     "text": [
      " ... (more hidden) ..."
     ]
    },
    {
     "name": "stdout",
     "output_type": "stream",
     "text": [
      "mealService 응답코드: 200\n",
      "mealServiceDietInfo 키 없음: {'RESULT': {'CODE': 'ERROR-300', 'MESSAGE': '필수 값이 누락되어 있습니다. 요청인자를 참고 하십시오.'}}\n",
      "[]\n",
      "7310190 삼산고등학교\n",
      "급식 정보 조회 중: 날짜=20241030\n",
      "mealService 응답코드: 200\n",
      "mealServiceDietInfo 키 없음: {'RESULT': {'CODE': 'ERROR-300', 'MESSAGE': '필수 값이 누락되어 있습니다. 요청인자를 참고 하십시오.'}}\n",
      "[]\n"
     ]
    },
    {
     "name": "stderr",
     "output_type": "stream",
     "text": [
      " ... (more hidden) ..."
     ]
    },
    {
     "name": "stdout",
     "output_type": "stream",
     "text": [
      "7310050 서도고등학교\n",
      "급식 정보 조회 중: 날짜=20241030\n",
      "mealService 응답코드: 200\n",
      "mealServiceDietInfo 키 없음: {'RESULT': {'CODE': 'ERROR-300', 'MESSAGE': '필수 값이 누락되어 있습니다. 요청인자를 참고 하십시오.'}}\n",
      "[]\n",
      "7310204 서운고등학교\n",
      "급식 정보 조회 중: 날짜=20241030\n"
     ]
    },
    {
     "name": "stderr",
     "output_type": "stream",
     "text": [
      " ... (more hidden) ..."
     ]
    },
    {
     "name": "stdout",
     "output_type": "stream",
     "text": [
      "mealService 응답코드: 200\n",
      "mealServiceDietInfo 키 없음: {'RESULT': {'CODE': 'ERROR-300', 'MESSAGE': '필수 값이 누락되어 있습니다. 요청인자를 참고 하십시오.'}}\n",
      "[]\n",
      "7310075 서인천고등학교\n",
      "급식 정보 조회 중: 날짜=20241030\n",
      "mealService 응답코드: 200\n",
      "mealServiceDietInfo 키 없음: {'RESULT': {'CODE': 'ERROR-300', 'MESSAGE': '필수 값이 누락되어 있습니다. 요청인자를 참고 하십시오.'}}\n",
      "[]\n"
     ]
    },
    {
     "name": "stderr",
     "output_type": "stream",
     "text": [
      " ... (more hidden) ..."
     ]
    },
    {
     "name": "stdout",
     "output_type": "stream",
     "text": [
      "7310051 석정여자고등학교\n",
      "급식 정보 조회 중: 날짜=20241030\n",
      "mealService 응답코드: 200\n",
      "mealServiceDietInfo 키 없음: {'RESULT': {'CODE': 'ERROR-300', 'MESSAGE': '필수 값이 누락되어 있습니다. 요청인자를 참고 하십시오.'}}\n",
      "[]\n",
      "7310052 선인고등학교\n",
      "급식 정보 조회 중: 날짜=20241030\n",
      "mealService 응답코드: 200\n",
      "mealServiceDietInfo 키 없음: {'RESULT': {'CODE': 'ERROR-300', 'MESSAGE': '필수 값이 누락되어 있습니다. 요청인자를 참고 하십시오.'}}\n",
      "[]\n"
     ]
    },
    {
     "name": "stderr",
     "output_type": "stream",
     "text": [
      " ... (more hidden) ..."
     ]
    },
    {
     "name": "stdout",
     "output_type": "stream",
     "text": [
      "7310077 세일고등학교\n",
      "급식 정보 조회 중: 날짜=20241030\n",
      "mealService 응답코드: 200\n",
      "mealServiceDietInfo 키 없음: {'RESULT': {'CODE': 'ERROR-300', 'MESSAGE': '필수 값이 누락되어 있습니다. 요청인자를 참고 하십시오.'}}\n",
      "[]\n",
      "7310078 송도고등학교\n",
      "급식 정보 조회 중: 날짜=20241030\n"
     ]
    },
    {
     "name": "stderr",
     "output_type": "stream",
     "text": [
      " ... (more hidden) ..."
     ]
    },
    {
     "name": "stdout",
     "output_type": "stream",
     "text": [
      "mealService 응답코드: 200\n",
      "mealServiceDietInfo 키 없음: {'RESULT': {'CODE': 'ERROR-300', 'MESSAGE': '필수 값이 누락되어 있습니다. 요청인자를 참고 하십시오.'}}\n",
      "[]\n",
      "7310079 숭덕여자고등학교\n",
      "급식 정보 조회 중: 날짜=20241030\n",
      "mealService 응답코드: 200\n",
      "mealServiceDietInfo 키 없음: {'RESULT': {'CODE': 'ERROR-300', 'MESSAGE': '필수 값이 누락되어 있습니다. 요청인자를 참고 하십시오.'}}\n",
      "[]\n"
     ]
    },
    {
     "name": "stderr",
     "output_type": "stream",
     "text": [
      " ... (more hidden) ..."
     ]
    },
    {
     "name": "stdout",
     "output_type": "stream",
     "text": [
      "7310080 신명여자고등학교\n",
      "급식 정보 조회 중: 날짜=20241030\n",
      "mealService 응답코드: 200\n",
      "mealServiceDietInfo 키 없음: {'RESULT': {'CODE': 'ERROR-300', 'MESSAGE': '필수 값이 누락되어 있습니다. 요청인자를 참고 하십시오.'}}\n",
      "[]\n"
     ]
    },
    {
     "name": "stderr",
     "output_type": "stream",
     "text": [
      " ... (more hidden) ..."
     ]
    },
    {
     "name": "stdout",
     "output_type": "stream",
     "text": [
      "7310250 신송고등학교\n",
      "급식 정보 조회 중: 날짜=20241030\n",
      "mealService 응답코드: 200\n",
      "mealServiceDietInfo 키 없음: {'RESULT': {'CODE': 'ERROR-300', 'MESSAGE': '필수 값이 누락되어 있습니다. 요청인자를 참고 하십시오.'}}\n",
      "[]\n",
      "7310214 안남고등학교\n",
      "급식 정보 조회 중: 날짜=20241030\n"
     ]
    },
    {
     "name": "stderr",
     "output_type": "stream",
     "text": [
      " ... (more hidden) ..."
     ]
    },
    {
     "name": "stdout",
     "output_type": "stream",
     "text": [
      "mealService 응답코드: 200\n",
      "mealServiceDietInfo 키 없음: {'RESULT': {'CODE': 'ERROR-300', 'MESSAGE': '필수 값이 누락되어 있습니다. 요청인자를 참고 하십시오.'}}\n",
      "[]\n",
      "7310053 연수고등학교\n",
      "급식 정보 조회 중: 날짜=20241030\n",
      "mealService 응답코드: 200\n",
      "mealServiceDietInfo 키 없음: {'RESULT': {'CODE': 'ERROR-300', 'MESSAGE': '필수 값이 누락되어 있습니다. 요청인자를 참고 하십시오.'}}\n",
      "[]\n"
     ]
    },
    {
     "name": "stderr",
     "output_type": "stream",
     "text": [
      " ... (more hidden) ..."
     ]
    },
    {
     "name": "stdout",
     "output_type": "stream",
     "text": [
      "7310054 연수여자고등학교\n",
      "급식 정보 조회 중: 날짜=20241030\n",
      "mealService 응답코드: 200\n",
      "mealServiceDietInfo 키 없음: {'RESULT': {'CODE': 'ERROR-300', 'MESSAGE': '필수 값이 누락되어 있습니다. 요청인자를 참고 하십시오.'}}\n",
      "[]\n",
      "7310055 연평고등학교\n",
      "급식 정보 조회 중: 날짜=20241030\n",
      "mealService 응답코드: 200\n",
      "mealServiceDietInfo 키 없음: {'RESULT': {'CODE': 'ERROR-300', 'MESSAGE': '필수 값이 누락되어 있습니다. 요청인자를 참고 하십시오.'}}\n",
      "[]\n"
     ]
    },
    {
     "name": "stderr",
     "output_type": "stream",
     "text": [
      " ... (more hidden) ..."
     ]
    },
    {
     "name": "stdout",
     "output_type": "stream",
     "text": [
      "7310261 영종국제물류고등학교\n",
      "급식 정보 조회 중: 날짜=20241030\n",
      "mealService 응답코드: 200\n",
      "mealServiceDietInfo 키 없음: {'RESULT': {'CODE': 'ERROR-300', 'MESSAGE': '필수 값이 누락되어 있습니다. 요청인자를 참고 하십시오.'}}\n",
      "[]\n"
     ]
    },
    {
     "name": "stderr",
     "output_type": "stream",
     "text": [
      " ... (more hidden) ..."
     ]
    },
    {
     "name": "stdout",
     "output_type": "stream",
     "text": [
      "7310560 영화국제관광고등학교\n",
      "급식 정보 조회 중: 날짜=20241030\n",
      "mealService 응답코드: 200\n",
      "mealServiceDietInfo 키 없음: {'RESULT': {'CODE': 'ERROR-300', 'MESSAGE': '필수 값이 누락되어 있습니다. 요청인자를 참고 하십시오.'}}\n",
      "[]\n",
      "7310216 옥련여자고등학교\n",
      "급식 정보 조회 중: 날짜=20241030\n",
      "mealService 응답코드: 200\n",
      "mealServiceDietInfo 키 없음: {'RESULT': {'CODE': 'ERROR-300', 'MESSAGE': '필수 값이 누락되어 있습니다. 요청인자를 참고 하십시오.'}}\n",
      "[]\n"
     ]
    },
    {
     "name": "stderr",
     "output_type": "stream",
     "text": [
      " ... (more hidden) ..."
     ]
    },
    {
     "name": "stdout",
     "output_type": "stream",
     "text": [
      "7310082 인명여자고등학교\n",
      "급식 정보 조회 중: 날짜=20241030\n",
      "mealService 응답코드: 200\n",
      "mealServiceDietInfo 키 없음: {'RESULT': {'CODE': 'ERROR-300', 'MESSAGE': '필수 값이 누락되어 있습니다. 요청인자를 참고 하십시오.'}}\n",
      "[]\n",
      "7310083 인성여자고등학교\n",
      "급식 정보 조회 중: 날짜=20241030\n",
      "mealService 응답코드: 200\n",
      "mealServiceDietInfo 키 없음: {'RESULT': {'CODE': 'ERROR-300', 'MESSAGE': '필수 값이 누락되어 있습니다. 요청인자를 참고 하십시오.'}}\n",
      "[]\n"
     ]
    },
    {
     "name": "stderr",
     "output_type": "stream",
     "text": [
      " ... (more hidden) ..."
     ]
    },
    {
     "name": "stdout",
     "output_type": "stream",
     "text": [
      "7310056 인일여자고등학교\n",
      "급식 정보 조회 중: 날짜=20241030\n",
      "mealService 응답코드: 200\n",
      "mealServiceDietInfo 키 없음: {'RESULT': {'CODE': 'ERROR-300', 'MESSAGE': '필수 값이 누락되어 있습니다. 요청인자를 참고 하십시오.'}}\n",
      "[]\n",
      "7310084 인제고등학교\n",
      "급식 정보 조회 중: 날짜=20241030\n"
     ]
    },
    {
     "name": "stderr",
     "output_type": "stream",
     "text": [
      " ... (more hidden) ..."
     ]
    },
    {
     "name": "stdout",
     "output_type": "stream",
     "text": [
      "mealService 응답코드: 200\n",
      "mealServiceDietInfo 키 없음: {'RESULT': {'CODE': 'ERROR-300', 'MESSAGE': '필수 값이 누락되어 있습니다. 요청인자를 참고 하십시오.'}}\n",
      "[]\n",
      "7310057 인천고등학교\n",
      "급식 정보 조회 중: 날짜=20241030\n",
      "mealService 응답코드: 200\n",
      "mealServiceDietInfo 키 없음: {'RESULT': {'CODE': 'ERROR-300', 'MESSAGE': '필수 값이 누락되어 있습니다. 요청인자를 참고 하십시오.'}}\n",
      "[]\n"
     ]
    },
    {
     "name": "stderr",
     "output_type": "stream",
     "text": [
      " ... (more hidden) ..."
     ]
    },
    {
     "name": "stdout",
     "output_type": "stream",
     "text": [
      "7310348 인천고잔고등학교\n",
      "급식 정보 조회 중: 날짜=20241030\n",
      "mealService 응답코드: 200\n",
      "mealServiceDietInfo 키 없음: {'RESULT': {'CODE': 'ERROR-300', 'MESSAGE': '필수 값이 누락되어 있습니다. 요청인자를 참고 하십시오.'}}\n",
      "[]\n",
      "7310205 인천공항고등학교\n",
      "급식 정보 조회 중: 날짜=20241030\n"
     ]
    },
    {
     "name": "stderr",
     "output_type": "stream",
     "text": [
      " ... (more hidden) ..."
     ]
    },
    {
     "name": "stdout",
     "output_type": "stream",
     "text": [
      "mealService 응답코드: 200\n",
      "mealServiceDietInfo 키 없음: {'RESULT': {'CODE': 'ERROR-300', 'MESSAGE': '필수 값이 누락되어 있습니다. 요청인자를 참고 하십시오.'}}\n",
      "[]\n",
      "7310058 인천과학고등학교\n",
      "급식 정보 조회 중: 날짜=20241030\n",
      "mealService 응답코드: 200\n",
      "mealServiceDietInfo 키 없음: {'RESULT': {'CODE': 'ERROR-300', 'MESSAGE': '필수 값이 누락되어 있습니다. 요청인자를 참고 하십시오.'}}\n",
      "[]\n"
     ]
    },
    {
     "name": "stderr",
     "output_type": "stream",
     "text": [
      " ... (more hidden) ..."
     ]
    },
    {
     "name": "stdout",
     "output_type": "stream",
     "text": [
      "7310449 인천과학예술영재학교\n",
      "급식 정보 조회 중: 날짜=20241030\n",
      "mealService 응답코드: 200\n",
      "mealServiceDietInfo 키 없음: {'RESULT': {'CODE': 'ERROR-300', 'MESSAGE': '필수 값이 누락되어 있습니다. 요청인자를 참고 하십시오.'}}\n",
      "[]\n",
      "7310334 인천국제고등학교\n",
      "급식 정보 조회 중: 날짜=20241030\n"
     ]
    },
    {
     "name": "stderr",
     "output_type": "stream",
     "text": [
      " ... (more hidden) ..."
     ]
    },
    {
     "name": "stdout",
     "output_type": "stream",
     "text": [
      "mealService 응답코드: 200\n",
      "mealServiceDietInfo 키 없음: {'RESULT': {'CODE': 'ERROR-300', 'MESSAGE': '필수 값이 누락되어 있습니다. 요청인자를 참고 하십시오.'}}\n",
      "[]\n",
      "7310475 인천금융고등학교\n",
      "급식 정보 조회 중: 날짜=20241030\n",
      "mealService 응답코드: 200\n",
      "mealServiceDietInfo 키 없음: {'RESULT': {'CODE': 'ERROR-300', 'MESSAGE': '필수 값이 누락되어 있습니다. 요청인자를 참고 하십시오.'}}\n",
      "[]\n"
     ]
    },
    {
     "name": "stderr",
     "output_type": "stream",
     "text": [
      " ... (more hidden) ..."
     ]
    },
    {
     "name": "stdout",
     "output_type": "stream",
     "text": [
      "7310100 인천기계공업고등학교\n",
      "급식 정보 조회 중: 날짜=20241030\n",
      "mealService 응답코드: 200\n",
      "mealServiceDietInfo 키 없음: {'RESULT': {'CODE': 'ERROR-300', 'MESSAGE': '필수 값이 누락되어 있습니다. 요청인자를 참고 하십시오.'}}\n",
      "[]\n",
      "7310059 인천남고등학교\n",
      "급식 정보 조회 중: 날짜=20241030\n"
     ]
    },
    {
     "name": "stderr",
     "output_type": "stream",
     "text": [
      " ... (more hidden) ..."
     ]
    },
    {
     "name": "stdout",
     "output_type": "stream",
     "text": [
      "mealService 응답코드: 200\n",
      "mealServiceDietInfo 키 없음: {'RESULT': {'CODE': 'ERROR-300', 'MESSAGE': '필수 값이 누락되어 있습니다. 요청인자를 참고 하십시오.'}}\n",
      "[]\n",
      "7310339 인천남동고등학교\n",
      "급식 정보 조회 중: 날짜=20241030\n",
      "mealService 응답코드: 200\n",
      "mealServiceDietInfo 키 없음: {'RESULT': {'CODE': 'ERROR-300', 'MESSAGE': '필수 값이 누락되어 있습니다. 요청인자를 참고 하십시오.'}}\n",
      "[]\n"
     ]
    },
    {
     "name": "stderr",
     "output_type": "stream",
     "text": [
      " ... (more hidden) ..."
     ]
    },
    {
     "name": "stdout",
     "output_type": "stream",
     "text": [
      "7310256 인천논현고등학교\n",
      "급식 정보 조회 중: 날짜=20241030\n",
      "mealService 응답코드: 200\n",
      "mealServiceDietInfo 키 없음: {'RESULT': {'CODE': 'ERROR-300', 'MESSAGE': '필수 값이 누락되어 있습니다. 요청인자를 참고 하십시오.'}}\n",
      "[]\n",
      "7310068 인천대건고등학교\n",
      "급식 정보 조회 중: 날짜=20241030\n",
      "mealService 응답코드: 200\n",
      "mealServiceDietInfo 키 없음: {'RESULT': {'CODE': 'ERROR-300', 'MESSAGE': '필수 값이 누락되어 있습니다. 요청인자를 참고 하십시오.'}}\n",
      "[]\n"
     ]
    },
    {
     "name": "stderr",
     "output_type": "stream",
     "text": [
      " ... (more hidden) ..."
     ]
    },
    {
     "name": "stdout",
     "output_type": "stream",
     "text": [
      "7310563 인천대중예술고등학교\n",
      "급식 정보 조회 중: 날짜=20241030\n",
      "mealService 응답코드: 200\n",
      "mealServiceDietInfo 키 없음: {'RESULT': {'CODE': 'ERROR-300', 'MESSAGE': '필수 값이 누락되어 있습니다. 요청인자를 참고 하십시오.'}}\n",
      "[]\n",
      "7310191 인천디자인고등학교\n",
      "급식 정보 조회 중: 날짜=20241030\n"
     ]
    },
    {
     "name": "stderr",
     "output_type": "stream",
     "text": [
      " ... (more hidden) ..."
     ]
    },
    {
     "name": "stdout",
     "output_type": "stream",
     "text": [
      "mealService 응답코드: 200\n",
      "mealServiceDietInfo 키 없음: {'RESULT': {'CODE': 'ERROR-300', 'MESSAGE': '필수 값이 누락되어 있습니다. 요청인자를 참고 하십시오.'}}\n",
      "[]\n",
      "7310452 인천마전고등학교\n",
      "급식 정보 조회 중: 날짜=20241030\n",
      "mealService 응답코드: 200\n",
      "mealServiceDietInfo 키 없음: {'RESULT': {'CODE': 'ERROR-300', 'MESSAGE': '필수 값이 누락되어 있습니다. 요청인자를 참고 하십시오.'}}\n",
      "[]\n"
     ]
    },
    {
     "name": "stderr",
     "output_type": "stream",
     "text": [
      " ... (more hidden) ..."
     ]
    },
    {
     "name": "stdout",
     "output_type": "stream",
     "text": [
      "7310332 인천만수고등학교\n",
      "급식 정보 조회 중: 날짜=20241030\n",
      "mealService 응답코드: 200\n",
      "mealServiceDietInfo 키 없음: {'RESULT': {'CODE': 'ERROR-300', 'MESSAGE': '필수 값이 누락되어 있습니다. 요청인자를 참고 하십시오.'}}\n",
      "[]\n",
      "7310480 인천미래생활고등학교\n",
      "급식 정보 조회 중: 날짜=20241030\n"
     ]
    },
    {
     "name": "stderr",
     "output_type": "stream",
     "text": [
      " ... (more hidden) ..."
     ]
    },
    {
     "name": "stdout",
     "output_type": "stream",
     "text": [
      "mealService 응답코드: 200\n",
      "mealServiceDietInfo 키 없음: {'RESULT': {'CODE': 'ERROR-300', 'MESSAGE': '필수 값이 누락되어 있습니다. 요청인자를 참고 하십시오.'}}\n",
      "[]\n",
      "7310593 인천바이오과학고등학교\n",
      "급식 정보 조회 중: 날짜=20241030\n",
      "mealService 응답코드: 200\n",
      "mealServiceDietInfo 키 없음: {'RESULT': {'CODE': 'ERROR-300', 'MESSAGE': '필수 값이 누락되어 있습니다. 요청인자를 참고 하십시오.'}}\n",
      "[]\n"
     ]
    },
    {
     "name": "stderr",
     "output_type": "stream",
     "text": [
      " ... (more hidden) ..."
     ]
    },
    {
     "name": "stdout",
     "output_type": "stream",
     "text": [
      "7310624 인천반도체고등학교\n",
      "급식 정보 조회 중: 날짜=20241030\n",
      "mealService 응답코드: 200\n",
      "mealServiceDietInfo 키 없음: {'RESULT': {'CODE': 'ERROR-300', 'MESSAGE': '필수 값이 누락되어 있습니다. 요청인자를 참고 하십시오.'}}\n",
      "[]\n",
      "7310455 인천보건고등학교\n",
      "급식 정보 조회 중: 날짜=20241030\n"
     ]
    },
    {
     "name": "stderr",
     "output_type": "stream",
     "text": [
      " ... (more hidden) ..."
     ]
    },
    {
     "name": "stdout",
     "output_type": "stream",
     "text": [
      "mealService 응답코드: 200\n",
      "mealServiceDietInfo 키 없음: {'RESULT': {'CODE': 'ERROR-300', 'MESSAGE': '필수 값이 누락되어 있습니다. 요청인자를 참고 하십시오.'}}\n",
      "[]\n",
      "7310248 인천부흥고등학교\n",
      "급식 정보 조회 중: 날짜=20241030\n",
      "mealService 응답코드: 200\n",
      "mealServiceDietInfo 키 없음: {'RESULT': {'CODE': 'ERROR-300', 'MESSAGE': '필수 값이 누락되어 있습니다. 요청인자를 참고 하십시오.'}}\n",
      "[]\n"
     ]
    },
    {
     "name": "stderr",
     "output_type": "stream",
     "text": [
      " ... (more hidden) ..."
     ]
    },
    {
     "name": "stdout",
     "output_type": "stream",
     "text": [
      "7310453 인천뷰티예술고등학교\n",
      "급식 정보 조회 중: 날짜=20241030\n",
      "mealService 응답코드: 200\n",
      "mealServiceDietInfo 키 없음: {'RESULT': {'CODE': 'ERROR-300', 'MESSAGE': '필수 값이 누락되어 있습니다. 요청인자를 참고 하십시오.'}}\n",
      "[]\n",
      "7310345 인천비즈니스고등학교\n",
      "급식 정보 조회 중: 날짜=20241030\n",
      "mealService 응답코드: 200\n",
      "mealServiceDietInfo 키 없음: {'RESULT': {'CODE': 'ERROR-300', 'MESSAGE': '필수 값이 누락되어 있습니다. 요청인자를 참고 하십시오.'}}\n",
      "[]\n"
     ]
    },
    {
     "name": "stderr",
     "output_type": "stream",
     "text": [
      " ... (more hidden) ..."
     ]
    },
    {
     "name": "stdout",
     "output_type": "stream",
     "text": [
      "7310257 인천산곡고등학교\n",
      "급식 정보 조회 중: 날짜=20241030\n",
      "mealService 응답코드: 200\n",
      "mealServiceDietInfo 키 없음: {'RESULT': {'CODE': 'ERROR-300', 'MESSAGE': '필수 값이 누락되어 있습니다. 요청인자를 참고 하십시오.'}}\n",
      "[]\n",
      "7310342 인천상정고등학교\n",
      "급식 정보 조회 중: 날짜=20241030\n",
      "mealService 응답코드: 200\n",
      "mealServiceDietInfo 키 없음: {'RESULT': {'CODE': 'ERROR-300', 'MESSAGE': '필수 값이 누락되어 있습니다. 요청인자를 참고 하십시오.'}}\n",
      "[]\n"
     ]
    },
    {
     "name": "stderr",
     "output_type": "stream",
     "text": [
      " ... (more hidden) ..."
     ]
    },
    {
     "name": "stdout",
     "output_type": "stream",
     "text": [
      "7310193 인천생활과학고등학교\n",
      "급식 정보 조회 중: 날짜=20241030\n",
      "mealService 응답코드: 200\n",
      "mealServiceDietInfo 키 없음: {'RESULT': {'CODE': 'ERROR-300', 'MESSAGE': '필수 값이 누락되어 있습니다. 요청인자를 참고 하십시오.'}}\n",
      "[]\n",
      "7310369 인천세원고등학교\n",
      "급식 정보 조회 중: 날짜=20241030\n"
     ]
    },
    {
     "name": "stderr",
     "output_type": "stream",
     "text": [
      " ... (more hidden) ..."
     ]
    },
    {
     "name": "stdout",
     "output_type": "stream",
     "text": [
      "mealService 응답코드: 200\n",
      "mealServiceDietInfo 키 없음: {'RESULT': {'CODE': 'ERROR-300', 'MESSAGE': '필수 값이 누락되어 있습니다. 요청인자를 참고 하십시오.'}}\n",
      "[]\n",
      "7310592 인천소방고등학교\n",
      "급식 정보 조회 중: 날짜=20241030\n",
      "mealService 응답코드: 200\n",
      "mealServiceDietInfo 키 없음: {'RESULT': {'CODE': 'ERROR-300', 'MESSAGE': '필수 값이 누락되어 있습니다. 요청인자를 참고 하십시오.'}}\n",
      "[]\n"
     ]
    },
    {
     "name": "stderr",
     "output_type": "stream",
     "text": [
      " ... (more hidden) ..."
     ]
    },
    {
     "name": "stdout",
     "output_type": "stream",
     "text": [
      "7310373 인천송천고등학교\n",
      "급식 정보 조회 중: 날짜=20241030\n",
      "mealService 응답코드: 200\n",
      "mealServiceDietInfo 키 없음: {'RESULT': {'CODE': 'ERROR-300', 'MESSAGE': '필수 값이 누락되어 있습니다. 요청인자를 참고 하십시오.'}}\n",
      "[]\n",
      "7310333 인천신현고등학교\n",
      "급식 정보 조회 중: 날짜=20241030\n"
     ]
    },
    {
     "name": "stderr",
     "output_type": "stream",
     "text": [
      " ... (more hidden) ..."
     ]
    },
    {
     "name": "stdout",
     "output_type": "stream",
     "text": [
      "mealService 응답코드: 200\n",
      "mealServiceDietInfo 키 없음: {'RESULT': {'CODE': 'ERROR-300', 'MESSAGE': '필수 값이 누락되어 있습니다. 요청인자를 참고 하십시오.'}}\n",
      "[]\n",
      "7310598 인천아라고등학교\n",
      "급식 정보 조회 중: 날짜=20241030\n",
      "mealService 응답코드: 200\n",
      "mealServiceDietInfo 키 없음: {'RESULT': {'CODE': 'ERROR-300', 'MESSAGE': '필수 값이 누락되어 있습니다. 요청인자를 참고 하십시오.'}}\n",
      "[]\n"
     ]
    },
    {
     "name": "stderr",
     "output_type": "stream",
     "text": [
      " ... (more hidden) ..."
     ]
    },
    {
     "name": "stdout",
     "output_type": "stream",
     "text": [
      "7310060 인천여자고등학교\n",
      "급식 정보 조회 중: 날짜=20241030\n",
      "mealService 응답코드: 200\n",
      "mealServiceDietInfo 키 없음: {'RESULT': {'CODE': 'ERROR-300', 'MESSAGE': '필수 값이 누락되어 있습니다. 요청인자를 참고 하십시오.'}}\n",
      "[]\n",
      "7310104 인천여자상업고등학교\n",
      "급식 정보 조회 중: 날짜=20241030\n"
     ]
    },
    {
     "name": "stderr",
     "output_type": "stream",
     "text": [
      " ... (more hidden) ..."
     ]
    },
    {
     "name": "stdout",
     "output_type": "stream",
     "text": [
      "mealService 응답코드: 200\n",
      "mealServiceDietInfo 키 없음: {'RESULT': {'CODE': 'ERROR-300', 'MESSAGE': '필수 값이 누락되어 있습니다. 요청인자를 참고 하십시오.'}}\n",
      "[]\n",
      "7310422 인천연송고등학교\n",
      "급식 정보 조회 중: 날짜=20241030\n",
      "mealService 응답코드: 200\n",
      "mealServiceDietInfo 키 없음: {'RESULT': {'CODE': 'ERROR-300', 'MESSAGE': '필수 값이 누락되어 있습니다. 요청인자를 참고 하십시오.'}}\n",
      "[]\n"
     ]
    },
    {
     "name": "stderr",
     "output_type": "stream",
     "text": [
      " ... (more hidden) ..."
     ]
    },
    {
     "name": "stdout",
     "output_type": "stream",
     "text": [
      "7310259 인천영선고등학교\n",
      "급식 정보 조회 중: 날짜=20241030\n",
      "mealService 응답코드: 200\n",
      "mealServiceDietInfo 키 없음: {'RESULT': {'CODE': 'ERROR-300', 'MESSAGE': '필수 값이 누락되어 있습니다. 요청인자를 참고 하십시오.'}}\n",
      "[]\n",
      "7310405 인천영종고등학교\n",
      "급식 정보 조회 중: 날짜=20241030\n"
     ]
    },
    {
     "name": "stderr",
     "output_type": "stream",
     "text": [
      " ... (more hidden) ..."
     ]
    },
    {
     "name": "stdout",
     "output_type": "stream",
     "text": [
      "mealService 응답코드: 200\n",
      "mealServiceDietInfo 키 없음: {'RESULT': {'CODE': 'ERROR-300', 'MESSAGE': '필수 값이 누락되어 있습니다. 요청인자를 참고 하십시오.'}}\n",
      "[]\n",
      "7310383 인천영흥고등학교\n",
      "급식 정보 조회 중: 날짜=20241030\n",
      "mealService 응답코드: 200\n",
      "mealServiceDietInfo 키 없음: {'RESULT': {'CODE': 'ERROR-300', 'MESSAGE': '필수 값이 누락되어 있습니다. 요청인자를 참고 하십시오.'}}\n",
      "[]\n"
     ]
    },
    {
     "name": "stderr",
     "output_type": "stream",
     "text": [
      " ... (more hidden) ..."
     ]
    },
    {
     "name": "stdout",
     "output_type": "stream",
     "text": [
      "7310061 인천예술고등학교\n",
      "급식 정보 조회 중: 날짜=20241030\n",
      "mealService 응답코드: 200\n",
      "mealServiceDietInfo 키 없음: {'RESULT': {'CODE': 'ERROR-300', 'MESSAGE': '필수 값이 누락되어 있습니다. 요청인자를 참고 하십시오.'}}\n",
      "[]\n",
      "7310253 인천예일고등학교\n",
      "급식 정보 조회 중: 날짜=20241030\n"
     ]
    },
    {
     "name": "stderr",
     "output_type": "stream",
     "text": [
      " ... (more hidden) ..."
     ]
    },
    {
     "name": "stdout",
     "output_type": "stream",
     "text": [
      "mealService 응답코드: 200\n",
      "mealServiceDietInfo 키 없음: {'RESULT': {'CODE': 'ERROR-300', 'MESSAGE': '필수 값이 누락되어 있습니다. 요청인자를 참고 하십시오.'}}\n",
      "[]\n",
      "7310242 인천외국어고등학교\n",
      "급식 정보 조회 중: 날짜=20241030\n",
      "mealService 응답코드: 200\n",
      "mealServiceDietInfo 키 없음: {'RESULT': {'CODE': 'ERROR-300', 'MESSAGE': '필수 값이 누락되어 있습니다. 요청인자를 참고 하십시오.'}}\n",
      "[]\n"
     ]
    },
    {
     "name": "stderr",
     "output_type": "stream",
     "text": [
      " ... (more hidden) ..."
     ]
    },
    {
     "name": "stdout",
     "output_type": "stream",
     "text": [
      "7310260 인천원당고등학교\n",
      "급식 정보 조회 중: 날짜=20241030\n",
      "mealService 응답코드: 200\n",
      "mealServiceDietInfo 키 없음: {'RESULT': {'CODE': 'ERROR-300', 'MESSAGE': '필수 값이 누락되어 있습니다. 요청인자를 참고 하십시오.'}}\n",
      "[]\n",
      "7310628 인천이음고등학교\n",
      "급식 정보 조회 중: 날짜=20241030\n"
     ]
    },
    {
     "name": "stderr",
     "output_type": "stream",
     "text": [
      " ... (more hidden) ..."
     ]
    },
    {
     "name": "stdout",
     "output_type": "stream",
     "text": [
      "mealService 응답코드: 200\n",
      "mealServiceDietInfo 키 없음: {'RESULT': {'CODE': 'ERROR-300', 'MESSAGE': '필수 값이 누락되어 있습니다. 요청인자를 참고 하십시오.'}}\n",
      "[]\n",
      "7310370 인천전자마이스터고등학교\n",
      "급식 정보 조회 중: 날짜=20241030\n",
      "mealService 응답코드: 200\n",
      "mealServiceDietInfo 키 없음: {'RESULT': {'CODE': 'ERROR-300', 'MESSAGE': '필수 값이 누락되어 있습니다. 요청인자를 참고 하십시오.'}}\n",
      "[]\n"
     ]
    },
    {
     "name": "stderr",
     "output_type": "stream",
     "text": [
      " ... (more hidden) ..."
     ]
    },
    {
     "name": "stdout",
     "output_type": "stream",
     "text": [
      "7310562 인천중산고등학교\n",
      "급식 정보 조회 중: 날짜=20241030\n",
      "mealService 응답코드: 200\n",
      "mealServiceDietInfo 키 없음: {'RESULT': {'CODE': 'ERROR-300', 'MESSAGE': '필수 값이 누락되어 있습니다. 요청인자를 참고 하십시오.'}}\n",
      "[]\n",
      "7310625 인천중앙여자고등학교\n",
      "급식 정보 조회 중: 날짜=20241030\n"
     ]
    },
    {
     "name": "stderr",
     "output_type": "stream",
     "text": [
      " ... (more hidden) ..."
     ]
    },
    {
     "name": "stdout",
     "output_type": "stream",
     "text": [
      "mealService 응답코드: 200\n",
      "mealServiceDietInfo 키 없음: {'RESULT': {'CODE': 'ERROR-300', 'MESSAGE': '필수 값이 누락되어 있습니다. 요청인자를 참고 하십시오.'}}\n",
      "[]\n",
      "7310404 인천진산과학고등학교\n",
      "급식 정보 조회 중: 날짜=20241030\n",
      "mealService 응답코드: 200\n",
      "mealServiceDietInfo 키 없음: {'RESULT': {'CODE': 'ERROR-300', 'MESSAGE': '필수 값이 누락되어 있습니다. 요청인자를 참고 하십시오.'}}\n",
      "[]\n"
     ]
    },
    {
     "name": "stderr",
     "output_type": "stream",
     "text": [
      " ... (more hidden) ..."
     ]
    },
    {
     "name": "stdout",
     "output_type": "stream",
     "text": [
      "7310375 인천청라고등학교\n",
      "급식 정보 조회 중: 날짜=20241030\n",
      "mealService 응답코드: 200\n",
      "mealServiceDietInfo 키 없음: {'RESULT': {'CODE': 'ERROR-300', 'MESSAGE': '필수 값이 누락되어 있습니다. 요청인자를 참고 하십시오.'}}\n",
      "[]\n",
      "7310062 인천체육고등학교\n",
      "급식 정보 조회 중: 날짜=20241030\n"
     ]
    },
    {
     "name": "stderr",
     "output_type": "stream",
     "text": [
      " ... (more hidden) ..."
     ]
    },
    {
     "name": "stdout",
     "output_type": "stream",
     "text": [
      "mealService 응답코드: 200\n",
      "mealServiceDietInfo 키 없음: {'RESULT': {'CODE': 'ERROR-300', 'MESSAGE': '필수 값이 누락되어 있습니다. 요청인자를 참고 하십시오.'}}\n",
      "[]\n",
      "7310374 인천초은고등학교\n",
      "급식 정보 조회 중: 날짜=20241030\n",
      "mealService 응답코드: 200\n",
      "mealServiceDietInfo 키 없음: {'RESULT': {'CODE': 'ERROR-300', 'MESSAGE': '필수 값이 누락되어 있습니다. 요청인자를 참고 하십시오.'}}\n",
      "[]\n"
     ]
    },
    {
     "name": "stderr",
     "output_type": "stream",
     "text": [
      " ... (more hidden) ..."
     ]
    },
    {
     "name": "stdout",
     "output_type": "stream",
     "text": [
      "7310447 인천포스코고등학교\n",
      "급식 정보 조회 중: 날짜=20241030\n",
      "mealService 응답코드: 200\n",
      "mealServiceDietInfo 키 없음: {'RESULT': {'CODE': 'ERROR-300', 'MESSAGE': '필수 값이 누락되어 있습니다. 요청인자를 참고 하십시오.'}}\n",
      "[]\n"
     ]
    },
    {
     "name": "stderr",
     "output_type": "stream",
     "text": [
      " ... (more hidden) ..."
     ]
    },
    {
     "name": "stdout",
     "output_type": "stream",
     "text": [
      "7310371 인천하늘고등학교\n",
      "급식 정보 조회 중: 날짜=20241030\n",
      "mealService 응답코드: 200\n",
      "mealServiceDietInfo 키 없음: {'RESULT': {'CODE': 'ERROR-300', 'MESSAGE': '필수 값이 누락되어 있습니다. 요청인자를 참고 하십시오.'}}\n",
      "[]\n",
      "1192069 인천해사고등학교\n",
      "급식 정보 조회 중: 날짜=20241030\n"
     ]
    },
    {
     "name": "stderr",
     "output_type": "stream",
     "text": [
      " ... (more hidden) ..."
     ]
    },
    {
     "name": "stdout",
     "output_type": "stream",
     "text": [
      "mealService 응답코드: 200\n",
      "mealServiceDietInfo 키 없음: {'RESULT': {'CODE': 'ERROR-300', 'MESSAGE': '필수 값이 누락되어 있습니다. 요청인자를 참고 하십시오.'}}\n",
      "[]\n",
      "7310349 인천해송고등학교\n",
      "급식 정보 조회 중: 날짜=20241030\n",
      "mealService 응답코드: 200\n",
      "mealServiceDietInfo 키 없음: {'RESULT': {'CODE': 'ERROR-300', 'MESSAGE': '필수 값이 누락되어 있습니다. 요청인자를 참고 하십시오.'}}\n",
      "[]\n"
     ]
    },
    {
     "name": "stderr",
     "output_type": "stream",
     "text": [
      " ... (more hidden) ..."
     ]
    },
    {
     "name": "stdout",
     "output_type": "stream",
     "text": [
      "7310109 인천해양과학고등학교\n",
      "급식 정보 조회 중: 날짜=20241030\n",
      "mealService 응답코드: 200\n",
      "mealServiceDietInfo 키 없음: {'RESULT': {'CODE': 'ERROR-300', 'MESSAGE': '필수 값이 누락되어 있습니다. 요청인자를 참고 하십시오.'}}\n",
      "[]\n"
     ]
    },
    {
     "name": "stderr",
     "output_type": "stream",
     "text": [
      " ... (more hidden) ..."
     ]
    },
    {
     "name": "stdout",
     "output_type": "stream",
     "text": [
      "7310423 인천해원고등학교\n",
      "급식 정보 조회 중: 날짜=20241030\n",
      "mealService 응답코드: 200\n",
      "mealServiceDietInfo 키 없음: {'RESULT': {'CODE': 'ERROR-300', 'MESSAGE': '필수 값이 누락되어 있습니다. 요청인자를 참고 하십시오.'}}\n",
      "[]\n"
     ]
    },
    {
     "name": "stderr",
     "output_type": "stream",
     "text": [
      " ... (more hidden) ..."
     ]
    },
    {
     "name": "stdout",
     "output_type": "stream",
     "text": [
      "7310252 인천효성고등학교\n",
      "급식 정보 조회 중: 날짜=20241030\n",
      "mealService 응답코드: 200\n",
      "mealServiceDietInfo 키 없음: {'RESULT': {'CODE': 'ERROR-300', 'MESSAGE': '필수 값이 누락되어 있습니다. 요청인자를 참고 하십시오.'}}\n",
      "[]\n",
      "7310479 인평자동차고등학교\n",
      "급식 정보 조회 중: 날짜=20241030\n"
     ]
    },
    {
     "name": "stderr",
     "output_type": "stream",
     "text": [
      " ... (more hidden) ..."
     ]
    },
    {
     "name": "stdout",
     "output_type": "stream",
     "text": [
      "mealService 응답코드: 200\n",
      "mealServiceDietInfo 키 없음: {'RESULT': {'CODE': 'ERROR-300', 'MESSAGE': '필수 값이 누락되어 있습니다. 요청인자를 참고 하십시오.'}}\n",
      "[]\n",
      "7310085 인하대학교사범대학부속고등학교\n",
      "급식 정보 조회 중: 날짜=20241030\n",
      "mealService 응답코드: 200\n",
      "mealServiceDietInfo 키 없음: {'RESULT': {'CODE': 'ERROR-300', 'MESSAGE': '필수 값이 누락되어 있습니다. 요청인자를 참고 하십시오.'}}\n",
      "[]\n"
     ]
    },
    {
     "name": "stderr",
     "output_type": "stream",
     "text": [
      " ... (more hidden) ..."
     ]
    },
    {
     "name": "stdout",
     "output_type": "stream",
     "text": [
      "7310086 인항고등학교\n",
      "급식 정보 조회 중: 날짜=20241030\n",
      "mealService 응답코드: 200\n",
      "mealServiceDietInfo 키 없음: {'RESULT': {'CODE': 'ERROR-300', 'MESSAGE': '필수 값이 누락되어 있습니다. 요청인자를 참고 하십시오.'}}\n",
      "[]\n",
      "7310063 인화여자고등학교\n",
      "급식 정보 조회 중: 날짜=20241030\n",
      "mealService 응답코드: 200\n",
      "mealServiceDietInfo 키 없음: {'RESULT': {'CODE': 'ERROR-300', 'MESSAGE': '필수 값이 누락되어 있습니다. 요청인자를 참고 하십시오.'}}\n",
      "[]\n"
     ]
    },
    {
     "name": "stderr",
     "output_type": "stream",
     "text": [
      " ... (more hidden) ..."
     ]
    },
    {
     "name": "stdout",
     "output_type": "stream",
     "text": [
      "7310213 작전고등학교\n",
      "급식 정보 조회 중: 날짜=20241030\n",
      "mealService 응답코드: 200\n",
      "mealServiceDietInfo 키 없음: {'RESULT': {'CODE': 'ERROR-300', 'MESSAGE': '필수 값이 누락되어 있습니다. 요청인자를 참고 하십시오.'}}\n",
      "[]\n",
      "7310241 작전여자고등학교\n",
      "급식 정보 조회 중: 날짜=20241030\n"
     ]
    },
    {
     "name": "stderr",
     "output_type": "stream",
     "text": [
      " ... (more hidden) ..."
     ]
    },
    {
     "name": "stdout",
     "output_type": "stream",
     "text": [
      "mealService 응답코드: 200\n",
      "mealServiceDietInfo 키 없음: {'RESULT': {'CODE': 'ERROR-300', 'MESSAGE': '필수 값이 누락되어 있습니다. 요청인자를 참고 하십시오.'}}\n",
      "[]\n",
      "7310627 재능고등학교\n",
      "급식 정보 조회 중: 날짜=20241030\n",
      "mealService 응답코드: 200\n",
      "mealServiceDietInfo 키 없음: {'RESULT': {'CODE': 'ERROR-300', 'MESSAGE': '필수 값이 누락되어 있습니다. 요청인자를 참고 하십시오.'}}\n",
      "[]\n"
     ]
    },
    {
     "name": "stderr",
     "output_type": "stream",
     "text": [
      " ... (more hidden) ..."
     ]
    },
    {
     "name": "stdout",
     "output_type": "stream",
     "text": [
      "7310372 정석항공과학고등학교\n",
      "급식 정보 조회 중: 날짜=20241030\n",
      "mealService 응답코드: 200\n",
      "mealServiceDietInfo 키 없음: {'RESULT': {'CODE': 'ERROR-300', 'MESSAGE': '필수 값이 누락되어 있습니다. 요청인자를 참고 하십시오.'}}\n",
      "[]\n",
      "7310064 제물포고등학교\n",
      "급식 정보 조회 중: 날짜=20241030\n",
      "mealService 응답코드: 200\n",
      "mealServiceDietInfo 키 없음: {'RESULT': {'CODE': 'ERROR-300', 'MESSAGE': '필수 값이 누락되어 있습니다. 요청인자를 참고 하십시오.'}}\n",
      "[]\n"
     ]
    },
    {
     "name": "stderr",
     "output_type": "stream",
     "text": [
      " ... (more hidden) ..."
     ]
    },
    {
     "name": "stdout",
     "output_type": "stream",
     "text": [
      "7310246 제일고등학교\n",
      "급식 정보 조회 중: 날짜=20241030\n",
      "mealService 응답코드: 200\n",
      "mealServiceDietInfo 키 없음: {'RESULT': {'CODE': 'ERROR-300', 'MESSAGE': '필수 값이 누락되어 있습니다. 요청인자를 참고 하십시오.'}}\n",
      "[]\n",
      "7310065 학익고등학교\n",
      "급식 정보 조회 중: 날짜=20241030\n"
     ]
    },
    {
     "name": "stderr",
     "output_type": "stream",
     "text": [
      " ... (more hidden) ..."
     ]
    },
    {
     "name": "stdout",
     "output_type": "stream",
     "text": [
      "mealService 응답코드: 200\n",
      "mealServiceDietInfo 키 없음: {'RESULT': {'CODE': 'ERROR-300', 'MESSAGE': '필수 값이 누락되어 있습니다. 요청인자를 참고 하십시오.'}}\n",
      "[]\n",
      "7310066 학익여자고등학교\n",
      "급식 정보 조회 중: 날짜=20241030\n",
      "mealService 응답코드: 200\n",
      "mealServiceDietInfo 키 없음: {'RESULT': {'CODE': 'ERROR-300', 'MESSAGE': '필수 값이 누락되어 있습니다. 요청인자를 참고 하십시오.'}}\n",
      "[]\n"
     ]
    },
    {
     "name": "stderr",
     "output_type": "stream",
     "text": [
      " ... (more hidden) ..."
     ]
    },
    {
     "name": "stdout",
     "output_type": "stream",
     "text": [
      "7310601 한국글로벌셰프고등학교\n",
      "급식 정보 조회 중: 날짜=20241030\n",
      "mealService 응답코드: 200\n",
      "mealServiceDietInfo 키 없음: {'RESULT': {'CODE': 'ERROR-300', 'MESSAGE': '필수 값이 누락되어 있습니다. 요청인자를 참고 하십시오.'}}\n",
      "[]\n",
      "7310454 한국주얼리고등학교\n",
      "급식 정보 조회 중: 날짜=20241030\n"
     ]
    },
    {
     "name": "stderr",
     "output_type": "stream",
     "text": [
      " ... (more hidden) ...\n"
     ]
    },
    {
     "name": "stdout",
     "output_type": "stream",
     "text": [
      "mealService 응답코드: 200\n",
      "mealServiceDietInfo 키 없음: {'RESULT': {'CODE': 'ERROR-300', 'MESSAGE': '필수 값이 누락되어 있습니다. 요청인자를 참고 하십시오.'}}\n",
      "[]\n",
      "응답코드 : 200\n"
     ]
    },
    {
     "name": "stderr",
     "output_type": "stream",
     "text": [
      " ... (more hidden) ..."
     ]
    },
    {
     "name": "stdout",
     "output_type": "stream",
     "text": [
      "7380041 고려고등학교\n",
      "급식 정보 조회 중: 날짜=20241030\n",
      "mealService 응답코드: 200\n",
      "mealServiceDietInfo 키 없음: {'RESULT': {'CODE': 'ERROR-300', 'MESSAGE': '필수 값이 누락되어 있습니다. 요청인자를 참고 하십시오.'}}\n",
      "[]\n",
      "7380042 광덕고등학교\n",
      "급식 정보 조회 중: 날짜=20241030\n"
     ]
    },
    {
     "name": "stderr",
     "output_type": "stream",
     "text": [
      " ... (more hidden) ..."
     ]
    },
    {
     "name": "stdout",
     "output_type": "stream",
     "text": [
      "mealService 응답코드: 200\n",
      "mealServiceDietInfo 키 없음: {'RESULT': {'CODE': 'ERROR-300', 'MESSAGE': '필수 값이 누락되어 있습니다. 요청인자를 참고 하십시오.'}}\n",
      "[]\n",
      "7380047 광일고등학교\n",
      "급식 정보 조회 중: 날짜=20241030\n",
      "mealService 응답코드: 200\n",
      "mealServiceDietInfo 키 없음: {'RESULT': {'CODE': 'ERROR-300', 'MESSAGE': '필수 값이 누락되어 있습니다. 요청인자를 참고 하십시오.'}}\n",
      "[]\n"
     ]
    },
    {
     "name": "stderr",
     "output_type": "stream",
     "text": [
      " ... (more hidden) ..."
     ]
    },
    {
     "name": "stdout",
     "output_type": "stream",
     "text": [
      "7380048 광주경신여자고등학교\n",
      "급식 정보 조회 중: 날짜=20241030\n",
      "mealService 응답코드: 200\n",
      "mealServiceDietInfo 키 없음: {'RESULT': {'CODE': 'ERROR-300', 'MESSAGE': '필수 값이 누락되어 있습니다. 요청인자를 참고 하십시오.'}}\n",
      "[]\n",
      "7380030 광주고등학교\n",
      "급식 정보 조회 중: 날짜=20241030\n",
      "mealService 응답코드: 200\n",
      "mealServiceDietInfo 키 없음: {'RESULT': {'CODE': 'ERROR-300', 'MESSAGE': '필수 값이 누락되어 있습니다. 요청인자를 참고 하십시오.'}}\n",
      "[]\n"
     ]
    },
    {
     "name": "stderr",
     "output_type": "stream",
     "text": [
      " ... (more hidden) ..."
     ]
    },
    {
     "name": "stdout",
     "output_type": "stream",
     "text": [
      "7380146 광주공업고등학교\n",
      "급식 정보 조회 중: 날짜=20241030\n",
      "mealService 응답코드: 200\n",
      "mealServiceDietInfo 키 없음: {'RESULT': {'CODE': 'ERROR-300', 'MESSAGE': '필수 값이 누락되어 있습니다. 요청인자를 참고 하십시오.'}}\n",
      "[]\n",
      "7380031 광주과학고등학교\n",
      "급식 정보 조회 중: 날짜=20241030\n"
     ]
    },
    {
     "name": "stderr",
     "output_type": "stream",
     "text": [
      " ... (more hidden) ..."
     ]
    },
    {
     "name": "stdout",
     "output_type": "stream",
     "text": [
      "mealService 응답코드: 200\n",
      "mealServiceDietInfo 키 없음: {'RESULT': {'CODE': 'ERROR-300', 'MESSAGE': '필수 값이 누락되어 있습니다. 요청인자를 참고 하십시오.'}}\n",
      "[]\n",
      "7380049 광주대동고등학교\n",
      "급식 정보 조회 중: 날짜=20241030\n",
      "mealService 응답코드: 200\n",
      "mealServiceDietInfo 키 없음: {'RESULT': {'CODE': 'ERROR-300', 'MESSAGE': '필수 값이 누락되어 있습니다. 요청인자를 참고 하십시오.'}}\n",
      "[]\n"
     ]
    },
    {
     "name": "stderr",
     "output_type": "stream",
     "text": [
      " ... (more hidden) ..."
     ]
    },
    {
     "name": "stdout",
     "output_type": "stream",
     "text": [
      "7380127 광주동성고등학교\n",
      "급식 정보 조회 중: 날짜=20241030\n",
      "mealService 응답코드: 200\n",
      "mealServiceDietInfo 키 없음: {'RESULT': {'CODE': 'ERROR-300', 'MESSAGE': '필수 값이 누락되어 있습니다. 요청인자를 참고 하십시오.'}}\n",
      "[]\n",
      "7380050 광주동신고등학교\n",
      "급식 정보 조회 중: 날짜=20241030\n",
      "mealService 응답코드: 200\n",
      "mealServiceDietInfo 키 없음: {'RESULT': {'CODE': 'ERROR-300', 'MESSAGE': '필수 값이 누락되어 있습니다. 요청인자를 참고 하십시오.'}}\n",
      "[]\n"
     ]
    },
    {
     "name": "stderr",
     "output_type": "stream",
     "text": [
      " ... (more hidden) ..."
     ]
    },
    {
     "name": "stdout",
     "output_type": "stream",
     "text": [
      "7380051 광주동신여자고등학교\n",
      "급식 정보 조회 중: 날짜=20241030\n",
      "mealService 응답코드: 200\n",
      "mealServiceDietInfo 키 없음: {'RESULT': {'CODE': 'ERROR-300', 'MESSAGE': '필수 값이 누락되어 있습니다. 요청인자를 참고 하십시오.'}}\n",
      "[]\n",
      "7380053 광주서석고등학교\n",
      "급식 정보 조회 중: 날짜=20241030\n"
     ]
    },
    {
     "name": "stderr",
     "output_type": "stream",
     "text": [
      " ... (more hidden) ..."
     ]
    },
    {
     "name": "stdout",
     "output_type": "stream",
     "text": [
      "mealService 응답코드: 200\n",
      "mealServiceDietInfo 키 없음: {'RESULT': {'CODE': 'ERROR-300', 'MESSAGE': '필수 값이 누락되어 있습니다. 요청인자를 참고 하십시오.'}}\n",
      "[]\n",
      "7380054 광주석산고등학교\n",
      "급식 정보 조회 중: 날짜=20241030\n",
      "mealService 응답코드: 200\n",
      "mealServiceDietInfo 키 없음: {'RESULT': {'CODE': 'ERROR-300', 'MESSAGE': '필수 값이 누락되어 있습니다. 요청인자를 참고 하십시오.'}}\n",
      "[]\n"
     ]
    },
    {
     "name": "stderr",
     "output_type": "stream",
     "text": [
      " ... (more hidden) ..."
     ]
    },
    {
     "name": "stdout",
     "output_type": "stream",
     "text": [
      "7380292 광주소프트웨어마이스터고등학교\n",
      "급식 정보 조회 중: 날짜=20241030\n",
      "mealService 응답코드: 200\n",
      "mealServiceDietInfo 키 없음: {'RESULT': {'CODE': 'ERROR-300', 'MESSAGE': '필수 값이 누락되어 있습니다. 요청인자를 참고 하십시오.'}}\n",
      "[]\n",
      "7380055 광주수피아여자고등학교\n",
      "급식 정보 조회 중: 날짜=20241030\n"
     ]
    },
    {
     "name": "stderr",
     "output_type": "stream",
     "text": [
      " ... (more hidden) ..."
     ]
    },
    {
     "name": "stdout",
     "output_type": "stream",
     "text": [
      "mealService 응답코드: 200\n",
      "mealServiceDietInfo 키 없음: {'RESULT': {'CODE': 'ERROR-300', 'MESSAGE': '필수 값이 누락되어 있습니다. 요청인자를 참고 하십시오.'}}\n",
      "[]\n",
      "7380056 광주숭일고등학교\n",
      "급식 정보 조회 중: 날짜=20241030\n",
      "mealService 응답코드: 200\n",
      "mealServiceDietInfo 키 없음: {'RESULT': {'CODE': 'ERROR-300', 'MESSAGE': '필수 값이 누락되어 있습니다. 요청인자를 참고 하십시오.'}}\n",
      "[]\n"
     ]
    },
    {
     "name": "stderr",
     "output_type": "stream",
     "text": [
      " ... (more hidden) ..."
     ]
    },
    {
     "name": "stdout",
     "output_type": "stream",
     "text": [
      "7380032 광주여자고등학교\n",
      "급식 정보 조회 중: 날짜=20241030\n",
      "mealService 응답코드: 200\n",
      "mealServiceDietInfo 키 없음: {'RESULT': {'CODE': 'ERROR-300', 'MESSAGE': '필수 값이 누락되어 있습니다. 요청인자를 참고 하십시오.'}}\n",
      "[]\n",
      "7380091 광주여자상업고등학교\n",
      "급식 정보 조회 중: 날짜=20241030\n"
     ]
    },
    {
     "name": "stderr",
     "output_type": "stream",
     "text": [
      " ... (more hidden) ..."
     ]
    },
    {
     "name": "stdout",
     "output_type": "stream",
     "text": [
      "mealService 응답코드: 200\n",
      "mealServiceDietInfo 키 없음: {'RESULT': {'CODE': 'ERROR-300', 'MESSAGE': '필수 값이 누락되어 있습니다. 요청인자를 참고 하십시오.'}}\n",
      "[]\n",
      "7380033 광주예술고등학교\n",
      "급식 정보 조회 중: 날짜=20241030\n",
      "mealService 응답코드: 200\n",
      "mealServiceDietInfo 키 없음: {'RESULT': {'CODE': 'ERROR-300', 'MESSAGE': '필수 값이 누락되어 있습니다. 요청인자를 참고 하십시오.'}}\n",
      "[]\n"
     ]
    },
    {
     "name": "stderr",
     "output_type": "stream",
     "text": [
      " ... (more hidden) ..."
     ]
    },
    {
     "name": "stdout",
     "output_type": "stream",
     "text": [
      "7380057 광주인성고등학교\n",
      "급식 정보 조회 중: 날짜=20241030\n",
      "mealService 응답코드: 200\n",
      "mealServiceDietInfo 키 없음: {'RESULT': {'CODE': 'ERROR-300', 'MESSAGE': '필수 값이 누락되어 있습니다. 요청인자를 참고 하십시오.'}}\n",
      "[]\n",
      "7380353 광주자동화설비마이스터고등학교\n",
      "급식 정보 조회 중: 날짜=20241030\n"
     ]
    },
    {
     "name": "stderr",
     "output_type": "stream",
     "text": [
      " ... (more hidden) ..."
     ]
    },
    {
     "name": "stdout",
     "output_type": "stream",
     "text": [
      "mealService 응답코드: 200\n",
      "mealServiceDietInfo 키 없음: {'RESULT': {'CODE': 'ERROR-300', 'MESSAGE': '필수 값이 누락되어 있습니다. 요청인자를 참고 하십시오.'}}\n",
      "[]\n",
      "7380128 광주자연과학고등학교\n",
      "급식 정보 조회 중: 날짜=20241030\n",
      "mealService 응답코드: 200\n",
      "mealServiceDietInfo 키 없음: {'RESULT': {'CODE': 'ERROR-300', 'MESSAGE': '필수 값이 누락되어 있습니다. 요청인자를 참고 하십시오.'}}\n",
      "[]\n"
     ]
    },
    {
     "name": "stderr",
     "output_type": "stream",
     "text": [
      " ... (more hidden) ..."
     ]
    },
    {
     "name": "stdout",
     "output_type": "stream",
     "text": [
      "7380083 광주전자공업고등학교\n",
      "급식 정보 조회 중: 날짜=20241030\n",
      "mealService 응답코드: 200\n",
      "mealServiceDietInfo 키 없음: {'RESULT': {'CODE': 'ERROR-300', 'MESSAGE': '필수 값이 누락되어 있습니다. 요청인자를 참고 하십시오.'}}\n",
      "[]\n"
     ]
    },
    {
     "name": "stderr",
     "output_type": "stream",
     "text": [
      " ... (more hidden) ..."
     ]
    },
    {
     "name": "stdout",
     "output_type": "stream",
     "text": [
      "7380034 광주제일고등학교\n",
      "급식 정보 조회 중: 날짜=20241030\n",
      "mealService 응답코드: 200\n",
      "mealServiceDietInfo 키 없음: {'RESULT': {'CODE': 'ERROR-300', 'MESSAGE': '필수 값이 누락되어 있습니다. 요청인자를 참고 하십시오.'}}\n",
      "[]\n",
      "7380059 광주진흥고등학교\n",
      "급식 정보 조회 중: 날짜=20241030\n"
     ]
    },
    {
     "name": "stderr",
     "output_type": "stream",
     "text": [
      " ... (more hidden) ..."
     ]
    },
    {
     "name": "stdout",
     "output_type": "stream",
     "text": [
      "mealService 응답코드: 200\n",
      "mealServiceDietInfo 키 없음: {'RESULT': {'CODE': 'ERROR-300', 'MESSAGE': '필수 값이 누락되어 있습니다. 요청인자를 참고 하십시오.'}}\n",
      "[]\n",
      "7380035 광주체육고등학교\n",
      "급식 정보 조회 중: 날짜=20241030\n",
      "mealService 응답코드: 200\n",
      "mealServiceDietInfo 키 없음: {'RESULT': {'CODE': 'ERROR-300', 'MESSAGE': '필수 값이 누락되어 있습니다. 요청인자를 참고 하십시오.'}}\n",
      "[]\n"
     ]
    },
    {
     "name": "stderr",
     "output_type": "stream",
     "text": [
      " ... (more hidden) ..."
     ]
    },
    {
     "name": "stdout",
     "output_type": "stream",
     "text": [
      "7380291 광주푸른꿈창작학교\n",
      "급식 정보 조회 중: 날짜=20241030\n",
      "mealService 응답코드: 200\n",
      "mealServiceDietInfo 키 없음: {'RESULT': {'CODE': 'ERROR-300', 'MESSAGE': '필수 값이 누락되어 있습니다. 요청인자를 참고 하십시오.'}}\n",
      "[]\n",
      "7380060 국제고등학교\n",
      "급식 정보 조회 중: 날짜=20241030\n"
     ]
    },
    {
     "name": "stderr",
     "output_type": "stream",
     "text": [
      " ... (more hidden) ..."
     ]
    },
    {
     "name": "stdout",
     "output_type": "stream",
     "text": [
      "mealService 응답코드: 200\n",
      "mealServiceDietInfo 키 없음: {'RESULT': {'CODE': 'ERROR-300', 'MESSAGE': '필수 값이 누락되어 있습니다. 요청인자를 참고 하십시오.'}}\n",
      "[]\n",
      "7380094 금파공업고등학교\n",
      "급식 정보 조회 중: 날짜=20241030\n",
      "mealService 응답코드: 200\n",
      "mealServiceDietInfo 키 없음: {'RESULT': {'CODE': 'ERROR-300', 'MESSAGE': '필수 값이 누락되어 있습니다. 요청인자를 참고 하십시오.'}}\n",
      "[]\n"
     ]
    },
    {
     "name": "stderr",
     "output_type": "stream",
     "text": [
      " ... (more hidden) ..."
     ]
    },
    {
     "name": "stdout",
     "output_type": "stream",
     "text": [
      "7380061 금호고등학교\n",
      "급식 정보 조회 중: 날짜=20241030\n",
      "mealService 응답코드: 200\n",
      "mealServiceDietInfo 키 없음: {'RESULT': {'CODE': 'ERROR-300', 'MESSAGE': '필수 값이 누락되어 있습니다. 요청인자를 참고 하십시오.'}}\n",
      "[]\n",
      "7380278 금호중앙여자고등학교\n",
      "급식 정보 조회 중: 날짜=20241030\n",
      "mealService 응답코드: 200\n",
      "mealServiceDietInfo 키 없음: {'RESULT': {'CODE': 'ERROR-300', 'MESSAGE': '필수 값이 누락되어 있습니다. 요청인자를 참고 하십시오.'}}\n",
      "[]\n"
     ]
    },
    {
     "name": "stderr",
     "output_type": "stream",
     "text": [
      " ... (more hidden) ..."
     ]
    },
    {
     "name": "stdout",
     "output_type": "stream",
     "text": [
      "7380062 대광여자고등학교\n",
      "급식 정보 조회 중: 날짜=20241030\n",
      "mealService 응답코드: 200\n",
      "mealServiceDietInfo 키 없음: {'RESULT': {'CODE': 'ERROR-300', 'MESSAGE': '필수 값이 누락되어 있습니다. 요청인자를 참고 하십시오.'}}\n",
      "[]\n",
      "7380063 대성여자고등학교\n",
      "급식 정보 조회 중: 날짜=20241030\n",
      "mealService 응답코드: 200\n",
      "mealServiceDietInfo 키 없음: {'RESULT': {'CODE': 'ERROR-300', 'MESSAGE': '필수 값이 누락되어 있습니다. 요청인자를 참고 하십시오.'}}\n",
      "[]\n"
     ]
    },
    {
     "name": "stderr",
     "output_type": "stream",
     "text": [
      " ... (more hidden) ..."
     ]
    },
    {
     "name": "stdout",
     "output_type": "stream",
     "text": [
      "7380187 돈보스코학교\n",
      "급식 정보 조회 중: 날짜=20241030\n",
      "mealService 응답코드: 200\n",
      "mealServiceDietInfo 키 없음: {'RESULT': {'CODE': 'ERROR-300', 'MESSAGE': '필수 값이 누락되어 있습니다. 요청인자를 참고 하십시오.'}}\n",
      "[]\n",
      "7380131 동명고등학교\n",
      "급식 정보 조회 중: 날짜=20241030\n"
     ]
    },
    {
     "name": "stderr",
     "output_type": "stream",
     "text": [
      " ... (more hidden) ..."
     ]
    },
    {
     "name": "stdout",
     "output_type": "stream",
     "text": [
      "mealService 응답코드: 200\n",
      "mealServiceDietInfo 키 없음: {'RESULT': {'CODE': 'ERROR-300', 'MESSAGE': '필수 값이 누락되어 있습니다. 요청인자를 참고 하십시오.'}}\n",
      "[]\n",
      "7380064 동아여자고등학교\n",
      "급식 정보 조회 중: 날짜=20241030\n",
      "mealService 응답코드: 200\n",
      "mealServiceDietInfo 키 없음: {'RESULT': {'CODE': 'ERROR-300', 'MESSAGE': '필수 값이 누락되어 있습니다. 요청인자를 참고 하십시오.'}}\n",
      "[]\n"
     ]
    },
    {
     "name": "stderr",
     "output_type": "stream",
     "text": [
      " ... (more hidden) ..."
     ]
    },
    {
     "name": "stdout",
     "output_type": "stream",
     "text": [
      "7380290 동일미래과학고등학교\n",
      "급식 정보 조회 중: 날짜=20241030\n",
      "mealService 응답코드: 200\n",
      "mealServiceDietInfo 키 없음: {'RESULT': {'CODE': 'ERROR-300', 'MESSAGE': '필수 값이 누락되어 있습니다. 요청인자를 참고 하십시오.'}}\n",
      "[]\n",
      "7380273 명진고등학교\n",
      "급식 정보 조회 중: 날짜=20241030\n"
     ]
    },
    {
     "name": "stderr",
     "output_type": "stream",
     "text": [
      " ... (more hidden) ..."
     ]
    },
    {
     "name": "stdout",
     "output_type": "stream",
     "text": [
      "mealService 응답코드: 200\n",
      "mealServiceDietInfo 키 없음: {'RESULT': {'CODE': 'ERROR-300', 'MESSAGE': '필수 값이 누락되어 있습니다. 요청인자를 참고 하십시오.'}}\n",
      "[]\n",
      "7380065 문성고등학교\n",
      "급식 정보 조회 중: 날짜=20241030\n",
      "mealService 응답코드: 200\n",
      "mealServiceDietInfo 키 없음: {'RESULT': {'CODE': 'ERROR-300', 'MESSAGE': '필수 값이 누락되어 있습니다. 요청인자를 참고 하십시오.'}}\n",
      "[]\n"
     ]
    },
    {
     "name": "stderr",
     "output_type": "stream",
     "text": [
      " ... (more hidden) ..."
     ]
    },
    {
     "name": "stdout",
     "output_type": "stream",
     "text": [
      "7380180 문정여자고등학교\n",
      "급식 정보 조회 중: 날짜=20241030\n",
      "mealService 응답코드: 200\n",
      "mealServiceDietInfo 키 없음: {'RESULT': {'CODE': 'ERROR-300', 'MESSAGE': '필수 값이 누락되어 있습니다. 요청인자를 참고 하십시오.'}}\n",
      "[]\n",
      "7380148 보문고등학교\n",
      "급식 정보 조회 중: 날짜=20241030\n",
      "mealService 응답코드: 200\n",
      "mealServiceDietInfo 키 없음: {'RESULT': {'CODE': 'ERROR-300', 'MESSAGE': '필수 값이 누락되어 있습니다. 요청인자를 참고 하십시오.'}}\n",
      "[]\n"
     ]
    },
    {
     "name": "stderr",
     "output_type": "stream",
     "text": [
      " ... (more hidden) ..."
     ]
    },
    {
     "name": "stdout",
     "output_type": "stream",
     "text": [
      "7380326 비아고등학교\n",
      "급식 정보 조회 중: 날짜=20241030\n",
      "mealService 응답코드: 200\n",
      "mealServiceDietInfo 키 없음: {'RESULT': {'CODE': 'ERROR-300', 'MESSAGE': '필수 값이 누락되어 있습니다. 요청인자를 참고 하십시오.'}}\n",
      "[]\n",
      "7380196 빛고을고등학교\n",
      "급식 정보 조회 중: 날짜=20241030\n"
     ]
    },
    {
     "name": "stderr",
     "output_type": "stream",
     "text": [
      " ... (more hidden) ..."
     ]
    },
    {
     "name": "stdout",
     "output_type": "stream",
     "text": [
      "mealService 응답코드: 200\n",
      "mealServiceDietInfo 키 없음: {'RESULT': {'CODE': 'ERROR-300', 'MESSAGE': '필수 값이 누락되어 있습니다. 요청인자를 참고 하십시오.'}}\n",
      "[]\n",
      "7380067 살레시오고등학교\n",
      "급식 정보 조회 중: 날짜=20241030\n",
      "mealService 응답코드: 200\n",
      "mealServiceDietInfo 키 없음: {'RESULT': {'CODE': 'ERROR-300', 'MESSAGE': '필수 값이 누락되어 있습니다. 요청인자를 참고 하십시오.'}}\n",
      "[]\n"
     ]
    },
    {
     "name": "stderr",
     "output_type": "stream",
     "text": [
      " ... (more hidden) ..."
     ]
    },
    {
     "name": "stdout",
     "output_type": "stream",
     "text": [
      "7380068 살레시오여자고등학교\n",
      "급식 정보 조회 중: 날짜=20241030\n",
      "mealService 응답코드: 200\n",
      "mealServiceDietInfo 키 없음: {'RESULT': {'CODE': 'ERROR-300', 'MESSAGE': '필수 값이 누락되어 있습니다. 요청인자를 참고 하십시오.'}}\n",
      "[]\n",
      "7380132 상무고등학교\n",
      "급식 정보 조회 중: 날짜=20241030\n"
     ]
    },
    {
     "name": "stderr",
     "output_type": "stream",
     "text": [
      " ... (more hidden) ..."
     ]
    },
    {
     "name": "stdout",
     "output_type": "stream",
     "text": [
      "mealService 응답코드: 200\n",
      "mealServiceDietInfo 키 없음: {'RESULT': {'CODE': 'ERROR-300', 'MESSAGE': '필수 값이 누락되어 있습니다. 요청인자를 참고 하십시오.'}}\n",
      "[]\n",
      "7380177 상일여자고등학교\n",
      "급식 정보 조회 중: 날짜=20241030\n",
      "mealService 응답코드: 200\n",
      "mealServiceDietInfo 키 없음: {'RESULT': {'CODE': 'ERROR-300', 'MESSAGE': '필수 값이 누락되어 있습니다. 요청인자를 참고 하십시오.'}}\n",
      "[]\n"
     ]
    },
    {
     "name": "stderr",
     "output_type": "stream",
     "text": [
      " ... (more hidden) ..."
     ]
    },
    {
     "name": "stdout",
     "output_type": "stream",
     "text": [
      "7380258 새날학교\n",
      "급식 정보 조회 중: 날짜=20241030\n",
      "mealService 응답코드: 200\n",
      "mealServiceDietInfo 키 없음: {'RESULT': {'CODE': 'ERROR-300', 'MESSAGE': '필수 값이 누락되어 있습니다. 요청인자를 참고 하십시오.'}}\n",
      "[]\n",
      "7380069 서강고등학교\n",
      "급식 정보 조회 중: 날짜=20241030\n"
     ]
    },
    {
     "name": "stderr",
     "output_type": "stream",
     "text": [
      " ... (more hidden) ..."
     ]
    },
    {
     "name": "stdout",
     "output_type": "stream",
     "text": [
      "mealService 응답코드: 200\n",
      "mealServiceDietInfo 키 없음: {'RESULT': {'CODE': 'ERROR-300', 'MESSAGE': '필수 값이 누락되어 있습니다. 요청인자를 참고 하십시오.'}}\n",
      "[]\n",
      "7380149 서진여자고등학교\n",
      "급식 정보 조회 중: 날짜=20241030\n",
      "mealService 응답코드: 200\n",
      "mealServiceDietInfo 키 없음: {'RESULT': {'CODE': 'ERROR-300', 'MESSAGE': '필수 값이 누락되어 있습니다. 요청인자를 참고 하십시오.'}}\n",
      "[]\n"
     ]
    },
    {
     "name": "stderr",
     "output_type": "stream",
     "text": [
      " ... (more hidden) ..."
     ]
    },
    {
     "name": "stdout",
     "output_type": "stream",
     "text": [
      "7380073 설월여자고등학교\n",
      "급식 정보 조회 중: 날짜=20241030\n",
      "mealService 응답코드: 200\n",
      "mealServiceDietInfo 키 없음: {'RESULT': {'CODE': 'ERROR-300', 'MESSAGE': '필수 값이 누락되어 있습니다. 요청인자를 참고 하십시오.'}}\n",
      "[]\n",
      "7380260 성덕고등학교\n",
      "급식 정보 조회 중: 날짜=20241030\n"
     ]
    },
    {
     "name": "stderr",
     "output_type": "stream",
     "text": [
      " ... (more hidden) ..."
     ]
    },
    {
     "name": "stdout",
     "output_type": "stream",
     "text": [
      "mealService 응답코드: 200\n",
      "mealServiceDietInfo 키 없음: {'RESULT': {'CODE': 'ERROR-300', 'MESSAGE': '필수 값이 누락되어 있습니다. 요청인자를 참고 하십시오.'}}\n",
      "[]\n",
      "7380070 송원고등학교\n",
      "급식 정보 조회 중: 날짜=20241030\n",
      "mealService 응답코드: 200\n",
      "mealServiceDietInfo 키 없음: {'RESULT': {'CODE': 'ERROR-300', 'MESSAGE': '필수 값이 누락되어 있습니다. 요청인자를 참고 하십시오.'}}\n",
      "[]\n"
     ]
    },
    {
     "name": "stderr",
     "output_type": "stream",
     "text": [
      " ... (more hidden) ..."
     ]
    },
    {
     "name": "stdout",
     "output_type": "stream",
     "text": [
      "7380071 송원여자고등학교\n",
      "급식 정보 조회 중: 날짜=20241030\n",
      "mealService 응답코드: 200\n",
      "mealServiceDietInfo 키 없음: {'RESULT': {'CODE': 'ERROR-300', 'MESSAGE': '필수 값이 누락되어 있습니다. 요청인자를 참고 하십시오.'}}\n",
      "[]\n",
      "7380158 송원여자상업고등학교\n",
      "급식 정보 조회 중: 날짜=20241030\n"
     ]
    },
    {
     "name": "stderr",
     "output_type": "stream",
     "text": [
      " ... (more hidden) ..."
     ]
    },
    {
     "name": "stdout",
     "output_type": "stream",
     "text": [
      "mealService 응답코드: 200\n",
      "mealServiceDietInfo 키 없음: {'RESULT': {'CODE': 'ERROR-300', 'MESSAGE': '필수 값이 누락되어 있습니다. 요청인자를 참고 하십시오.'}}\n",
      "[]\n",
      "7380182 수완고등학교\n",
      "급식 정보 조회 중: 날짜=20241030\n",
      "mealService 응답코드: 200\n",
      "mealServiceDietInfo 키 없음: {'RESULT': {'CODE': 'ERROR-300', 'MESSAGE': '필수 값이 누락되어 있습니다. 요청인자를 참고 하십시오.'}}\n",
      "[]\n"
     ]
    },
    {
     "name": "stderr",
     "output_type": "stream",
     "text": [
      " ... (more hidden) ..."
     ]
    },
    {
     "name": "stdout",
     "output_type": "stream",
     "text": [
      "7380072 숭덕고등학교\n",
      "급식 정보 조회 중: 날짜=20241030\n",
      "mealService 응답코드: 200\n",
      "mealServiceDietInfo 키 없음: {'RESULT': {'CODE': 'ERROR-300', 'MESSAGE': '필수 값이 누락되어 있습니다. 요청인자를 참고 하십시오.'}}\n",
      "[]\n",
      "7380321 숭의과학기술고등학교\n",
      "급식 정보 조회 중: 날짜=20241030\n"
     ]
    },
    {
     "name": "stderr",
     "output_type": "stream",
     "text": [
      " ... (more hidden) ..."
     ]
    },
    {
     "name": "stdout",
     "output_type": "stream",
     "text": [
      "mealService 응답코드: 200\n",
      "mealServiceDietInfo 키 없음: {'RESULT': {'CODE': 'ERROR-300', 'MESSAGE': '필수 값이 누락되어 있습니다. 요청인자를 참고 하십시오.'}}\n",
      "[]\n",
      "7380147 운남고등학교\n",
      "급식 정보 조회 중: 날짜=20241030\n",
      "mealService 응답코드: 200\n",
      "mealServiceDietInfo 키 없음: {'RESULT': {'CODE': 'ERROR-300', 'MESSAGE': '필수 값이 누락되어 있습니다. 요청인자를 참고 하십시오.'}}\n",
      "[]\n"
     ]
    },
    {
     "name": "stderr",
     "output_type": "stream",
     "text": [
      " ... (more hidden) ..."
     ]
    },
    {
     "name": "stdout",
     "output_type": "stream",
     "text": [
      "7380181 장덕고등학교\n",
      "급식 정보 조회 중: 날짜=20241030\n",
      "mealService 응답코드: 200\n",
      "mealServiceDietInfo 키 없음: {'RESULT': {'CODE': 'ERROR-300', 'MESSAGE': '필수 값이 누락되어 있습니다. 요청인자를 참고 하십시오.'}}\n",
      "[]\n",
      "7380037 전남고등학교\n",
      "급식 정보 조회 중: 날짜=20241030\n"
     ]
    },
    {
     "name": "stderr",
     "output_type": "stream",
     "text": [
      " ... (more hidden) ..."
     ]
    },
    {
     "name": "stdout",
     "output_type": "stream",
     "text": [
      "mealService 응답코드: 200\n",
      "mealServiceDietInfo 키 없음: {'RESULT': {'CODE': 'ERROR-300', 'MESSAGE': '필수 값이 누락되어 있습니다. 요청인자를 참고 하십시오.'}}\n",
      "[]\n",
      "7380086 전남공업고등학교\n",
      "급식 정보 조회 중: 날짜=20241030\n",
      "mealService 응답코드: 200\n",
      "mealServiceDietInfo 키 없음: {'RESULT': {'CODE': 'ERROR-300', 'MESSAGE': '필수 값이 누락되어 있습니다. 요청인자를 참고 하십시오.'}}\n",
      "[]\n"
     ]
    },
    {
     "name": "stderr",
     "output_type": "stream",
     "text": [
      " ... (more hidden) ..."
     ]
    },
    {
     "name": "stdout",
     "output_type": "stream",
     "text": [
      "7380029 전남대학교사범대학부설고등학교\n",
      "급식 정보 조회 중: 날짜=20241030\n",
      "mealService 응답코드: 200\n",
      "mealServiceDietInfo 키 없음: {'RESULT': {'CODE': 'ERROR-300', 'MESSAGE': '필수 값이 누락되어 있습니다. 요청인자를 참고 하십시오.'}}\n",
      "[]\n",
      "7380039 전남여자고등학교\n",
      "급식 정보 조회 중: 날짜=20241030\n",
      "mealService 응답코드: 200\n",
      "mealServiceDietInfo 키 없음: {'RESULT': {'CODE': 'ERROR-300', 'MESSAGE': '필수 값이 누락되어 있습니다. 요청인자를 참고 하십시오.'}}\n",
      "[]\n"
     ]
    },
    {
     "name": "stderr",
     "output_type": "stream",
     "text": [
      " ... (more hidden) ..."
     ]
    },
    {
     "name": "stdout",
     "output_type": "stream",
     "text": [
      "7380097 전남여자상업고등학교\n",
      "급식 정보 조회 중: 날짜=20241030\n",
      "mealService 응답코드: 200\n",
      "mealServiceDietInfo 키 없음: {'RESULT': {'CODE': 'ERROR-300', 'MESSAGE': '필수 값이 누락되어 있습니다. 요청인자를 참고 하십시오.'}}\n",
      "[]\n",
      "7380075 정광고등학교\n",
      "급식 정보 조회 중: 날짜=20241030\n"
     ]
    },
    {
     "name": "stderr",
     "output_type": "stream",
     "text": [
      " ... (more hidden) ..."
     ]
    },
    {
     "name": "stdout",
     "output_type": "stream",
     "text": [
      "mealService 응답코드: 200\n",
      "mealServiceDietInfo 키 없음: {'RESULT': {'CODE': 'ERROR-300', 'MESSAGE': '필수 값이 누락되어 있습니다. 요청인자를 참고 하십시오.'}}\n",
      "[]\n",
      "7380076 조선대학교부속고등학교\n",
      "급식 정보 조회 중: 날짜=20241030\n",
      "mealService 응답코드: 200\n",
      "mealServiceDietInfo 키 없음: {'RESULT': {'CODE': 'ERROR-300', 'MESSAGE': '필수 값이 누락되어 있습니다. 요청인자를 참고 하십시오.'}}\n",
      "[]\n"
     ]
    },
    {
     "name": "stderr",
     "output_type": "stream",
     "text": [
      " ... (more hidden) ..."
     ]
    },
    {
     "name": "stdout",
     "output_type": "stream",
     "text": [
      "7380077 조선대학교여자고등학교\n",
      "급식 정보 조회 중: 날짜=20241030\n",
      "mealService 응답코드: 200\n",
      "mealServiceDietInfo 키 없음: {'RESULT': {'CODE': 'ERROR-300', 'MESSAGE': '필수 값이 누락되어 있습니다. 요청인자를 참고 하십시오.'}}\n",
      "[]\n",
      "7380153 첨단고등학교\n",
      "급식 정보 조회 중: 날짜=20241030\n",
      "mealService 응답코드: 200\n",
      "mealServiceDietInfo 키 없음: {'RESULT': {'CODE': 'ERROR-300', 'MESSAGE': '필수 값이 누락되어 있습니다. 요청인자를 참고 하십시오.'}}\n",
      "[]\n"
     ]
    },
    {
     "name": "stderr",
     "output_type": "stream",
     "text": [
      " ... (more hidden) ..."
     ]
    },
    {
     "name": "stdout",
     "output_type": "stream",
     "text": [
      "7380145 풍암고등학교\n",
      "급식 정보 조회 중: 날짜=20241030\n",
      "mealService 응답코드: 200\n",
      "mealServiceDietInfo 키 없음: {'RESULT': {'CODE': 'ERROR-300', 'MESSAGE': '필수 값이 누락되어 있습니다. 요청인자를 참고 하십시오.'}}\n",
      "[]\n",
      "7380078 호남삼육고등학교\n",
      "급식 정보 조회 중: 날짜=20241030\n",
      "mealService 응답코드: 200\n",
      "mealServiceDietInfo 키 없음: {'RESULT': {'CODE': 'ERROR-300', 'MESSAGE': '필수 값이 누락되어 있습니다. 요청인자를 참고 하십시오.'}}\n",
      "[]\n"
     ]
    },
    {
     "name": "stderr",
     "output_type": "stream",
     "text": [
      " ... (more hidden) ...\n"
     ]
    },
    {
     "name": "stdout",
     "output_type": "stream",
     "text": [
      "응답코드 : 200\n"
     ]
    },
    {
     "name": "stderr",
     "output_type": "stream",
     "text": [
      " ... (more hidden) ..."
     ]
    },
    {
     "name": "stdout",
     "output_type": "stream",
     "text": [
      "7430324 계룡디지텍고등학교\n",
      "급식 정보 조회 중: 날짜=20241030\n",
      "mealService 응답코드: 200\n",
      "mealServiceDietInfo 키 없음: {'RESULT': {'CODE': 'ERROR-300', 'MESSAGE': '필수 값이 누락되어 있습니다. 요청인자를 참고 하십시오.'}}\n",
      "[]\n",
      "7430046 남대전고등학교\n",
      "급식 정보 조회 중: 날짜=20241030\n"
     ]
    },
    {
     "name": "stderr",
     "output_type": "stream",
     "text": [
      " ... (more hidden) ..."
     ]
    },
    {
     "name": "stdout",
     "output_type": "stream",
     "text": [
      "mealService 응답코드: 200\n",
      "mealServiceDietInfo 키 없음: {'RESULT': {'CODE': 'ERROR-300', 'MESSAGE': '필수 값이 누락되어 있습니다. 요청인자를 참고 하십시오.'}}\n",
      "[]\n",
      "7430030 대덕고등학교\n",
      "급식 정보 조회 중: 날짜=20241030\n",
      "mealService 응답코드: 200\n",
      "mealServiceDietInfo 키 없음: {'RESULT': {'CODE': 'ERROR-300', 'MESSAGE': '필수 값이 누락되어 있습니다. 요청인자를 참고 하십시오.'}}\n",
      "[]\n"
     ]
    },
    {
     "name": "stderr",
     "output_type": "stream",
     "text": [
      " ... (more hidden) ..."
     ]
    },
    {
     "name": "stdout",
     "output_type": "stream",
     "text": [
      "7430310 대덕소프트웨어마이스터고등학교\n",
      "급식 정보 조회 중: 날짜=20241030\n",
      "mealService 응답코드: 200\n",
      "mealServiceDietInfo 키 없음: {'RESULT': {'CODE': 'ERROR-300', 'MESSAGE': '필수 값이 누락되어 있습니다. 요청인자를 참고 하십시오.'}}\n",
      "[]\n",
      "7430241 대전가오고등학교\n",
      "급식 정보 조회 중: 날짜=20241030\n"
     ]
    },
    {
     "name": "stderr",
     "output_type": "stream",
     "text": [
      " ... (more hidden) ..."
     ]
    },
    {
     "name": "stdout",
     "output_type": "stream",
     "text": [
      "mealService 응답코드: 200\n",
      "mealServiceDietInfo 키 없음: {'RESULT': {'CODE': 'ERROR-300', 'MESSAGE': '필수 값이 누락되어 있습니다. 요청인자를 참고 하십시오.'}}\n",
      "[]\n",
      "7430031 대전고등학교\n",
      "급식 정보 조회 중: 날짜=20241030\n",
      "mealService 응답코드: 200\n",
      "mealServiceDietInfo 키 없음: {'RESULT': {'CODE': 'ERROR-300', 'MESSAGE': '필수 값이 누락되어 있습니다. 요청인자를 참고 하십시오.'}}\n",
      "[]\n"
     ]
    },
    {
     "name": "stderr",
     "output_type": "stream",
     "text": [
      " ... (more hidden) ..."
     ]
    },
    {
     "name": "stdout",
     "output_type": "stream",
     "text": [
      "7430032 대전과학고등학교\n",
      "급식 정보 조회 중: 날짜=20241030\n",
      "mealService 응답코드: 200\n",
      "mealServiceDietInfo 키 없음: {'RESULT': {'CODE': 'ERROR-300', 'MESSAGE': '필수 값이 누락되어 있습니다. 요청인자를 참고 하십시오.'}}\n",
      "[]\n",
      "7430033 대전관저고등학교\n",
      "급식 정보 조회 중: 날짜=20241030\n",
      "mealService 응답코드: 200\n",
      "mealServiceDietInfo 키 없음: {'RESULT': {'CODE': 'ERROR-300', 'MESSAGE': '필수 값이 누락되어 있습니다. 요청인자를 참고 하십시오.'}}\n",
      "[]\n"
     ]
    },
    {
     "name": "stderr",
     "output_type": "stream",
     "text": [
      " ... (more hidden) ..."
     ]
    },
    {
     "name": "stdout",
     "output_type": "stream",
     "text": [
      "7430237 대전괴정고등학교\n",
      "급식 정보 조회 중: 날짜=20241030\n",
      "mealService 응답코드: 200\n",
      "mealServiceDietInfo 키 없음: {'RESULT': {'CODE': 'ERROR-300', 'MESSAGE': '필수 값이 누락되어 있습니다. 요청인자를 참고 하십시오.'}}\n",
      "[]\n",
      "7430150 대전구봉고등학교\n",
      "급식 정보 조회 중: 날짜=20241030\n"
     ]
    },
    {
     "name": "stderr",
     "output_type": "stream",
     "text": [
      " ... (more hidden) ..."
     ]
    },
    {
     "name": "stdout",
     "output_type": "stream",
     "text": [
      "mealService 응답코드: 200\n",
      "mealServiceDietInfo 키 없음: {'RESULT': {'CODE': 'ERROR-300', 'MESSAGE': '필수 값이 누락되어 있습니다. 요청인자를 참고 하십시오.'}}\n",
      "[]\n",
      "7430252 대전국제통상고등학교\n",
      "급식 정보 조회 중: 날짜=20241030\n",
      "mealService 응답코드: 200\n",
      "mealServiceDietInfo 키 없음: {'RESULT': {'CODE': 'ERROR-300', 'MESSAGE': '필수 값이 누락되어 있습니다. 요청인자를 참고 하십시오.'}}\n",
      "[]\n"
     ]
    },
    {
     "name": "stderr",
     "output_type": "stream",
     "text": [
      " ... (more hidden) ..."
     ]
    },
    {
     "name": "stdout",
     "output_type": "stream",
     "text": [
      "7430143 대전노은고등학교\n",
      "급식 정보 조회 중: 날짜=20241030\n",
      "mealService 응답코드: 200\n",
      "mealServiceDietInfo 키 없음: {'RESULT': {'CODE': 'ERROR-300', 'MESSAGE': '필수 값이 누락되어 있습니다. 요청인자를 참고 하십시오.'}}\n",
      "[]\n",
      "7430325 대전대성고등학교\n",
      "급식 정보 조회 중: 날짜=20241030\n",
      "mealService 응답코드: 200\n",
      "mealServiceDietInfo 키 없음: {'RESULT': {'CODE': 'ERROR-300', 'MESSAGE': '필수 값이 누락되어 있습니다. 요청인자를 참고 하십시오.'}}\n",
      "[]\n"
     ]
    },
    {
     "name": "stderr",
     "output_type": "stream",
     "text": [
      " ... (more hidden) ..."
     ]
    },
    {
     "name": "stdout",
     "output_type": "stream",
     "text": [
      "7430326 대전대성여자고등학교\n",
      "급식 정보 조회 중: 날짜=20241030\n",
      "mealService 응답코드: 200\n",
      "mealServiceDietInfo 키 없음: {'RESULT': {'CODE': 'ERROR-300', 'MESSAGE': '필수 값이 누락되어 있습니다. 요청인자를 참고 하십시오.'}}\n",
      "[]\n",
      "7430048 대전대신고등학교\n",
      "급식 정보 조회 중: 날짜=20241030\n"
     ]
    },
    {
     "name": "stderr",
     "output_type": "stream",
     "text": [
      " ... (more hidden) ..."
     ]
    },
    {
     "name": "stdout",
     "output_type": "stream",
     "text": [
      "mealService 응답코드: 200\n",
      "mealServiceDietInfo 키 없음: {'RESULT': {'CODE': 'ERROR-300', 'MESSAGE': '필수 값이 누락되어 있습니다. 요청인자를 참고 하십시오.'}}\n",
      "[]\n",
      "7430351 대전도시과학고등학교\n",
      "급식 정보 조회 중: 날짜=20241030\n",
      "mealService 응답코드: 200\n",
      "mealServiceDietInfo 키 없음: {'RESULT': {'CODE': 'ERROR-300', 'MESSAGE': '필수 값이 누락되어 있습니다. 요청인자를 참고 하십시오.'}}\n",
      "[]\n"
     ]
    },
    {
     "name": "stderr",
     "output_type": "stream",
     "text": [
      " ... (more hidden) ..."
     ]
    },
    {
     "name": "stdout",
     "output_type": "stream",
     "text": [
      "7430290 대전도안고등학교\n",
      "급식 정보 조회 중: 날짜=20241030\n",
      "mealService 응답코드: 200\n",
      "mealServiceDietInfo 키 없음: {'RESULT': {'CODE': 'ERROR-300', 'MESSAGE': '필수 값이 누락되어 있습니다. 요청인자를 참고 하십시오.'}}\n",
      "[]\n",
      "7430049 대전동산고등학교\n",
      "급식 정보 조회 중: 날짜=20241030\n"
     ]
    },
    {
     "name": "stderr",
     "output_type": "stream",
     "text": [
      " ... (more hidden) ..."
     ]
    },
    {
     "name": "stdout",
     "output_type": "stream",
     "text": [
      "mealService 응답코드: 200\n",
      "mealServiceDietInfo 키 없음: {'RESULT': {'CODE': 'ERROR-300', 'MESSAGE': '필수 값이 누락되어 있습니다. 요청인자를 참고 하십시오.'}}\n",
      "[]\n",
      "7430295 대전동신과학고등학교\n",
      "급식 정보 조회 중: 날짜=20241030\n",
      "mealService 응답코드: 200\n",
      "mealServiceDietInfo 키 없음: {'RESULT': {'CODE': 'ERROR-300', 'MESSAGE': '필수 값이 누락되어 있습니다. 요청인자를 참고 하십시오.'}}\n",
      "[]\n"
     ]
    },
    {
     "name": "stderr",
     "output_type": "stream",
     "text": [
      " ... (more hidden) ..."
     ]
    },
    {
     "name": "stdout",
     "output_type": "stream",
     "text": [
      "7430034 대전둔산여자고등학교\n",
      "급식 정보 조회 중: 날짜=20241030\n",
      "mealService 응답코드: 200\n",
      "mealServiceDietInfo 키 없음: {'RESULT': {'CODE': 'ERROR-300', 'MESSAGE': '필수 값이 누락되어 있습니다. 요청인자를 참고 하십시오.'}}\n",
      "[]\n",
      "7430142 대전둔원고등학교\n",
      "급식 정보 조회 중: 날짜=20241030\n",
      "mealService 응답코드: 200\n",
      "mealServiceDietInfo 키 없음: {'RESULT': {'CODE': 'ERROR-300', 'MESSAGE': '필수 값이 누락되어 있습니다. 요청인자를 참고 하십시오.'}}\n",
      "[]\n"
     ]
    },
    {
     "name": "stderr",
     "output_type": "stream",
     "text": [
      " ... (more hidden) ..."
     ]
    },
    {
     "name": "stdout",
     "output_type": "stream",
     "text": [
      "7430035 대전만년고등학교\n",
      "급식 정보 조회 중: 날짜=20241030\n",
      "mealService 응답코드: 200\n",
      "mealServiceDietInfo 키 없음: {'RESULT': {'CODE': 'ERROR-300', 'MESSAGE': '필수 값이 누락되어 있습니다. 요청인자를 참고 하십시오.'}}\n",
      "[]\n",
      "7430238 대전반석고등학교\n",
      "급식 정보 조회 중: 날짜=20241030\n"
     ]
    },
    {
     "name": "stderr",
     "output_type": "stream",
     "text": [
      " ... (more hidden) ..."
     ]
    },
    {
     "name": "stdout",
     "output_type": "stream",
     "text": [
      "mealService 응답코드: 200\n",
      "mealServiceDietInfo 키 없음: {'RESULT': {'CODE': 'ERROR-300', 'MESSAGE': '필수 값이 누락되어 있습니다. 요청인자를 참고 하십시오.'}}\n",
      "[]\n",
      "7430253 대전복수고등학교\n",
      "급식 정보 조회 중: 날짜=20241030\n",
      "mealService 응답코드: 200\n",
      "mealServiceDietInfo 키 없음: {'RESULT': {'CODE': 'ERROR-300', 'MESSAGE': '필수 값이 누락되어 있습니다. 요청인자를 참고 하십시오.'}}\n",
      "[]\n"
     ]
    },
    {
     "name": "stderr",
     "output_type": "stream",
     "text": [
      " ... (more hidden) ..."
     ]
    },
    {
     "name": "stdout",
     "output_type": "stream",
     "text": [
      "7430329 대전생활과학고등학교\n",
      "급식 정보 조회 중: 날짜=20241030\n",
      "mealService 응답코드: 200\n",
      "mealServiceDietInfo 키 없음: {'RESULT': {'CODE': 'ERROR-300', 'MESSAGE': '필수 값이 누락되어 있습니다. 요청인자를 참고 하십시오.'}}\n",
      "[]\n"
     ]
    },
    {
     "name": "stderr",
     "output_type": "stream",
     "text": [
      " ... (more hidden) ..."
     ]
    },
    {
     "name": "stdout",
     "output_type": "stream",
     "text": [
      "7430051 대전성모여자고등학교\n",
      "급식 정보 조회 중: 날짜=20241030\n",
      "mealService 응답코드: 200\n",
      "mealServiceDietInfo 키 없음: {'RESULT': {'CODE': 'ERROR-300', 'MESSAGE': '필수 값이 누락되어 있습니다. 요청인자를 참고 하십시오.'}}\n",
      "[]\n",
      "7430132 대전송촌고등학교\n",
      "급식 정보 조회 중: 날짜=20241030\n"
     ]
    },
    {
     "name": "stderr",
     "output_type": "stream",
     "text": [
      " ... (more hidden) ..."
     ]
    },
    {
     "name": "stdout",
     "output_type": "stream",
     "text": [
      "mealService 응답코드: 200\n",
      "mealServiceDietInfo 키 없음: {'RESULT': {'CODE': 'ERROR-300', 'MESSAGE': '필수 값이 누락되어 있습니다. 요청인자를 참고 하십시오.'}}\n",
      "[]\n",
      "7430133 대전신일여자고등학교\n",
      "급식 정보 조회 중: 날짜=20241030\n",
      "mealService 응답코드: 200\n",
      "mealServiceDietInfo 키 없음: {'RESULT': {'CODE': 'ERROR-300', 'MESSAGE': '필수 값이 누락되어 있습니다. 요청인자를 참고 하십시오.'}}\n",
      "[]\n"
     ]
    },
    {
     "name": "stderr",
     "output_type": "stream",
     "text": [
      " ... (more hidden) ..."
     ]
    },
    {
     "name": "stdout",
     "output_type": "stream",
     "text": [
      "7430036 대전여자고등학교\n",
      "급식 정보 조회 중: 날짜=20241030\n",
      "mealService 응답코드: 200\n",
      "mealServiceDietInfo 키 없음: {'RESULT': {'CODE': 'ERROR-300', 'MESSAGE': '필수 값이 누락되어 있습니다. 요청인자를 참고 하십시오.'}}\n",
      "[]\n",
      "7430083 대전여자상업고등학교\n",
      "급식 정보 조회 중: 날짜=20241030\n"
     ]
    },
    {
     "name": "stderr",
     "output_type": "stream",
     "text": [
      " ... (more hidden) ..."
     ]
    },
    {
     "name": "stdout",
     "output_type": "stream",
     "text": [
      "mealService 응답코드: 200\n",
      "mealServiceDietInfo 키 없음: {'RESULT': {'CODE': 'ERROR-300', 'MESSAGE': '필수 값이 누락되어 있습니다. 요청인자를 참고 하십시오.'}}\n",
      "[]\n",
      "7430053 대전예술고등학교\n",
      "급식 정보 조회 중: 날짜=20241030\n",
      "mealService 응답코드: 200\n",
      "mealServiceDietInfo 키 없음: {'RESULT': {'CODE': 'ERROR-300', 'MESSAGE': '필수 값이 누락되어 있습니다. 요청인자를 참고 하십시오.'}}\n",
      "[]\n"
     ]
    },
    {
     "name": "stderr",
     "output_type": "stream",
     "text": [
      " ... (more hidden) ..."
     ]
    },
    {
     "name": "stdout",
     "output_type": "stream",
     "text": [
      "7430037 대전외국어고등학교\n",
      "급식 정보 조회 중: 날짜=20241030\n",
      "mealService 응답코드: 200\n",
      "mealServiceDietInfo 키 없음: {'RESULT': {'CODE': 'ERROR-300', 'MESSAGE': '필수 값이 누락되어 있습니다. 요청인자를 참고 하십시오.'}}\n",
      "[]\n",
      "7430239 대전용산고등학교\n",
      "급식 정보 조회 중: 날짜=20241030\n"
     ]
    },
    {
     "name": "stderr",
     "output_type": "stream",
     "text": [
      " ... (more hidden) ..."
     ]
    },
    {
     "name": "stdout",
     "output_type": "stream",
     "text": [
      "mealService 응답코드: 200\n",
      "mealServiceDietInfo 키 없음: {'RESULT': {'CODE': 'ERROR-300', 'MESSAGE': '필수 값이 누락되어 있습니다. 요청인자를 참고 하십시오.'}}\n",
      "[]\n",
      "7430240 대전이문고등학교\n",
      "급식 정보 조회 중: 날짜=20241030\n",
      "mealService 응답코드: 200\n",
      "mealServiceDietInfo 키 없음: {'RESULT': {'CODE': 'ERROR-300', 'MESSAGE': '필수 값이 누락되어 있습니다. 요청인자를 참고 하십시오.'}}\n",
      "[]\n"
     ]
    },
    {
     "name": "stderr",
     "output_type": "stream",
     "text": [
      " ... (more hidden) ..."
     ]
    },
    {
     "name": "stdout",
     "output_type": "stream",
     "text": [
      "7430148 대전전민고등학교\n",
      "급식 정보 조회 중: 날짜=20241030\n",
      "mealService 응답코드: 200\n",
      "mealServiceDietInfo 키 없음: {'RESULT': {'CODE': 'ERROR-300', 'MESSAGE': '필수 값이 누락되어 있습니다. 요청인자를 참고 하십시오.'}}\n",
      "[]\n",
      "7430311 대전전자디자인고등학교\n",
      "급식 정보 조회 중: 날짜=20241030\n"
     ]
    },
    {
     "name": "stderr",
     "output_type": "stream",
     "text": [
      " ... (more hidden) ..."
     ]
    },
    {
     "name": "stdout",
     "output_type": "stream",
     "text": [
      "mealService 응답코드: 200\n",
      "mealServiceDietInfo 키 없음: {'RESULT': {'CODE': 'ERROR-300', 'MESSAGE': '필수 값이 누락되어 있습니다. 요청인자를 참고 하십시오.'}}\n",
      "[]\n",
      "7430242 대전제일고등학교\n",
      "급식 정보 조회 중: 날짜=20241030\n",
      "mealService 응답코드: 200\n",
      "mealServiceDietInfo 키 없음: {'RESULT': {'CODE': 'ERROR-300', 'MESSAGE': '필수 값이 누락되어 있습니다. 요청인자를 참고 하십시오.'}}\n",
      "[]\n"
     ]
    },
    {
     "name": "stderr",
     "output_type": "stream",
     "text": [
      " ... (more hidden) ..."
     ]
    },
    {
     "name": "stdout",
     "output_type": "stream",
     "text": [
      "7430052 대전중앙고등학교\n",
      "급식 정보 조회 중: 날짜=20241030\n",
      "mealService 응답코드: 200\n",
      "mealServiceDietInfo 키 없음: {'RESULT': {'CODE': 'ERROR-300', 'MESSAGE': '필수 값이 누락되어 있습니다. 요청인자를 참고 하십시오.'}}\n",
      "[]\n",
      "7430149 대전지족고등학교\n",
      "급식 정보 조회 중: 날짜=20241030\n"
     ]
    },
    {
     "name": "stderr",
     "output_type": "stream",
     "text": [
      " ... (more hidden) ..."
     ]
    },
    {
     "name": "stdout",
     "output_type": "stream",
     "text": [
      "mealService 응답코드: 200\n",
      "mealServiceDietInfo 키 없음: {'RESULT': {'CODE': 'ERROR-300', 'MESSAGE': '필수 값이 누락되어 있습니다. 요청인자를 참고 하십시오.'}}\n",
      "[]\n",
      "7430038 대전체육고등학교\n",
      "급식 정보 조회 중: 날짜=20241030\n",
      "mealService 응답코드: 200\n",
      "mealServiceDietInfo 키 없음: {'RESULT': {'CODE': 'ERROR-300', 'MESSAGE': '필수 값이 누락되어 있습니다. 요청인자를 참고 하십시오.'}}\n",
      "[]\n"
     ]
    },
    {
     "name": "stderr",
     "output_type": "stream",
     "text": [
      " ... (more hidden) ..."
     ]
    },
    {
     "name": "stdout",
     "output_type": "stream",
     "text": [
      "7430138 대전한빛고등학교\n",
      "급식 정보 조회 중: 날짜=20241030\n",
      "mealService 응답코드: 200\n",
      "mealServiceDietInfo 키 없음: {'RESULT': {'CODE': 'ERROR-300', 'MESSAGE': '필수 값이 누락되어 있습니다. 요청인자를 참고 하십시오.'}}\n",
      "[]\n",
      "7430039 동대전고등학교\n",
      "급식 정보 조회 중: 날짜=20241030\n"
     ]
    },
    {
     "name": "stderr",
     "output_type": "stream",
     "text": [
      " ... (more hidden) ..."
     ]
    },
    {
     "name": "stdout",
     "output_type": "stream",
     "text": [
      "mealService 응답코드: 200\n",
      "mealServiceDietInfo 키 없음: {'RESULT': {'CODE': 'ERROR-300', 'MESSAGE': '필수 값이 누락되어 있습니다. 요청인자를 참고 하십시오.'}}\n",
      "[]\n",
      "7430244 동방고등학교\n",
      "급식 정보 조회 중: 날짜=20241030\n",
      "mealService 응답코드: 200\n",
      "mealServiceDietInfo 키 없음: {'RESULT': {'CODE': 'ERROR-300', 'MESSAGE': '필수 값이 누락되어 있습니다. 요청인자를 참고 하십시오.'}}\n",
      "[]\n"
     ]
    },
    {
     "name": "stderr",
     "output_type": "stream",
     "text": [
      " ... (more hidden) ..."
     ]
    },
    {
     "name": "stdout",
     "output_type": "stream",
     "text": [
      "7430256 동아마이스터고등학교\n",
      "급식 정보 조회 중: 날짜=20241030\n",
      "mealService 응답코드: 200\n",
      "mealServiceDietInfo 키 없음: {'RESULT': {'CODE': 'ERROR-300', 'MESSAGE': '필수 값이 누락되어 있습니다. 요청인자를 참고 하십시오.'}}\n",
      "[]\n",
      "7430056 명석고등학교\n",
      "급식 정보 조회 중: 날짜=20241030\n",
      "mealService 응답코드: 200\n",
      "mealServiceDietInfo 키 없음: {'RESULT': {'CODE': 'ERROR-300', 'MESSAGE': '필수 값이 누락되어 있습니다. 요청인자를 참고 하십시오.'}}\n",
      "[]\n"
     ]
    },
    {
     "name": "stderr",
     "output_type": "stream",
     "text": [
      " ... (more hidden) ..."
     ]
    },
    {
     "name": "stdout",
     "output_type": "stream",
     "text": [
      "7430057 보문고등학교\n",
      "급식 정보 조회 중: 날짜=20241030\n",
      "mealService 응답코드: 200\n",
      "mealServiceDietInfo 키 없음: {'RESULT': {'CODE': 'ERROR-300', 'MESSAGE': '필수 값이 누락되어 있습니다. 요청인자를 참고 하십시오.'}}\n",
      "[]\n",
      "7430059 서대전고등학교\n",
      "급식 정보 조회 중: 날짜=20241030\n"
     ]
    },
    {
     "name": "stderr",
     "output_type": "stream",
     "text": [
      " ... (more hidden) ..."
     ]
    },
    {
     "name": "stdout",
     "output_type": "stream",
     "text": [
      "mealService 응답코드: 200\n",
      "mealServiceDietInfo 키 없음: {'RESULT': {'CODE': 'ERROR-300', 'MESSAGE': '필수 값이 누락되어 있습니다. 요청인자를 참고 하십시오.'}}\n",
      "[]\n",
      "7430060 서대전여자고등학교\n",
      "급식 정보 조회 중: 날짜=20241030\n",
      "mealService 응답코드: 200\n",
      "mealServiceDietInfo 키 없음: {'RESULT': {'CODE': 'ERROR-300', 'MESSAGE': '필수 값이 누락되어 있습니다. 요청인자를 참고 하십시오.'}}\n",
      "[]\n"
     ]
    },
    {
     "name": "stderr",
     "output_type": "stream",
     "text": [
      " ... (more hidden) ..."
     ]
    },
    {
     "name": "stdout",
     "output_type": "stream",
     "text": [
      "7430061 서일고등학교\n",
      "급식 정보 조회 중: 날짜=20241030\n",
      "mealService 응답코드: 200\n",
      "mealServiceDietInfo 키 없음: {'RESULT': {'CODE': 'ERROR-300', 'MESSAGE': '필수 값이 누락되어 있습니다. 요청인자를 참고 하십시오.'}}\n",
      "[]\n",
      "7430062 서일여자고등학교\n",
      "급식 정보 조회 중: 날짜=20241030\n"
     ]
    },
    {
     "name": "stderr",
     "output_type": "stream",
     "text": [
      " ... (more hidden) ..."
     ]
    },
    {
     "name": "stdout",
     "output_type": "stream",
     "text": [
      "mealService 응답코드: 200\n",
      "mealServiceDietInfo 키 없음: {'RESULT': {'CODE': 'ERROR-300', 'MESSAGE': '필수 값이 누락되어 있습니다. 요청인자를 참고 하십시오.'}}\n",
      "[]\n",
      "7430041 신탄진고등학교\n",
      "급식 정보 조회 중: 날짜=20241030\n",
      "mealService 응답코드: 200\n",
      "mealServiceDietInfo 키 없음: {'RESULT': {'CODE': 'ERROR-300', 'MESSAGE': '필수 값이 누락되어 있습니다. 요청인자를 참고 하십시오.'}}\n",
      "[]\n"
     ]
    },
    {
     "name": "stderr",
     "output_type": "stream",
     "text": [
      " ... (more hidden) ..."
     ]
    },
    {
     "name": "stdout",
     "output_type": "stream",
     "text": [
      "7430140 우송고등학교\n",
      "급식 정보 조회 중: 날짜=20241030\n",
      "mealService 응답코드: 200\n",
      "mealServiceDietInfo 키 없음: {'RESULT': {'CODE': 'ERROR-300', 'MESSAGE': '필수 값이 누락되어 있습니다. 요청인자를 참고 하십시오.'}}\n",
      "[]\n",
      "7430042 유성고등학교\n",
      "급식 정보 조회 중: 날짜=20241030\n"
     ]
    },
    {
     "name": "stderr",
     "output_type": "stream",
     "text": [
      " ... (more hidden) ..."
     ]
    },
    {
     "name": "stdout",
     "output_type": "stream",
     "text": [
      "mealService 응답코드: 200\n",
      "mealServiceDietInfo 키 없음: {'RESULT': {'CODE': 'ERROR-300', 'MESSAGE': '필수 값이 누락되어 있습니다. 요청인자를 참고 하십시오.'}}\n",
      "[]\n",
      "7430135 유성생명과학고등학교\n",
      "급식 정보 조회 중: 날짜=20241030\n",
      "mealService 응답코드: 200\n",
      "mealServiceDietInfo 키 없음: {'RESULT': {'CODE': 'ERROR-300', 'MESSAGE': '필수 값이 누락되어 있습니다. 요청인자를 참고 하십시오.'}}\n",
      "[]\n"
     ]
    },
    {
     "name": "stderr",
     "output_type": "stream",
     "text": [
      " ... (more hidden) ..."
     ]
    },
    {
     "name": "stdout",
     "output_type": "stream",
     "text": [
      "7430064 유성여자고등학교\n",
      "급식 정보 조회 중: 날짜=20241030\n",
      "mealService 응답코드: 200\n",
      "mealServiceDietInfo 키 없음: {'RESULT': {'CODE': 'ERROR-300', 'MESSAGE': '필수 값이 누락되어 있습니다. 요청인자를 참고 하십시오.'}}\n",
      "[]\n",
      "7430065 중일고등학교\n",
      "급식 정보 조회 중: 날짜=20241030\n"
     ]
    },
    {
     "name": "stderr",
     "output_type": "stream",
     "text": [
      " ... (more hidden) ..."
     ]
    },
    {
     "name": "stdout",
     "output_type": "stream",
     "text": [
      "mealService 응답코드: 200\n",
      "mealServiceDietInfo 키 없음: {'RESULT': {'CODE': 'ERROR-300', 'MESSAGE': '필수 값이 누락되어 있습니다. 요청인자를 참고 하십시오.'}}\n",
      "[]\n",
      "7430066 청란여자고등학교\n",
      "급식 정보 조회 중: 날짜=20241030\n",
      "mealService 응답코드: 200\n",
      "mealServiceDietInfo 키 없음: {'RESULT': {'CODE': 'ERROR-300', 'MESSAGE': '필수 값이 누락되어 있습니다. 요청인자를 참고 하십시오.'}}\n",
      "[]\n"
     ]
    },
    {
     "name": "stderr",
     "output_type": "stream",
     "text": [
      " ... (more hidden) ..."
     ]
    },
    {
     "name": "stdout",
     "output_type": "stream",
     "text": [
      "7430043 충남고등학교\n",
      "급식 정보 조회 중: 날짜=20241030\n",
      "mealService 응답코드: 200\n",
      "mealServiceDietInfo 키 없음: {'RESULT': {'CODE': 'ERROR-300', 'MESSAGE': '필수 값이 누락되어 있습니다. 요청인자를 참고 하십시오.'}}\n",
      "[]\n",
      "7430073 충남기계공업고등학교\n",
      "급식 정보 조회 중: 날짜=20241030\n"
     ]
    },
    {
     "name": "stderr",
     "output_type": "stream",
     "text": [
      " ... (more hidden) ..."
     ]
    },
    {
     "name": "stdout",
     "output_type": "stream",
     "text": [
      "mealService 응답코드: 200\n",
      "mealServiceDietInfo 키 없음: {'RESULT': {'CODE': 'ERROR-300', 'MESSAGE': '필수 값이 누락되어 있습니다. 요청인자를 참고 하십시오.'}}\n",
      "[]\n",
      "7430044 충남여자고등학교\n",
      "급식 정보 조회 중: 날짜=20241030\n",
      "mealService 응답코드: 200\n",
      "mealServiceDietInfo 키 없음: {'RESULT': {'CODE': 'ERROR-300', 'MESSAGE': '필수 값이 누락되어 있습니다. 요청인자를 참고 하십시오.'}}\n",
      "[]\n"
     ]
    },
    {
     "name": "stderr",
     "output_type": "stream",
     "text": [
      " ... (more hidden) ..."
     ]
    },
    {
     "name": "stdout",
     "output_type": "stream",
     "text": [
      "7430045 한밭고등학교\n",
      "급식 정보 조회 중: 날짜=20241030\n",
      "mealService 응답코드: 200\n",
      "mealServiceDietInfo 키 없음: {'RESULT': {'CODE': 'ERROR-300', 'MESSAGE': '필수 값이 누락되어 있습니다. 요청인자를 참고 하십시오.'}}\n",
      "[]\n",
      "7430067 호수돈여자고등학교\n",
      "급식 정보 조회 중: 날짜=20241030\n",
      "mealService 응답코드: 200\n",
      "mealServiceDietInfo 키 없음: {'RESULT': {'CODE': 'ERROR-300', 'MESSAGE': '필수 값이 누락되어 있습니다. 요청인자를 참고 하십시오.'}}\n",
      "[]\n"
     ]
    },
    {
     "name": "stderr",
     "output_type": "stream",
     "text": [
      " ... (more hidden) ...\n"
     ]
    },
    {
     "name": "stdout",
     "output_type": "stream",
     "text": [
      "응답코드 : 200\n"
     ]
    },
    {
     "name": "stderr",
     "output_type": "stream",
     "text": [
      " ... (more hidden) ..."
     ]
    },
    {
     "name": "stdout",
     "output_type": "stream",
     "text": [
      "7480237 강동고등학교\n",
      "급식 정보 조회 중: 날짜=20241030\n",
      "mealService 응답코드: 200\n",
      "mealServiceDietInfo 키 없음: {'RESULT': {'CODE': 'ERROR-300', 'MESSAGE': '필수 값이 누락되어 있습니다. 요청인자를 참고 하십시오.'}}\n",
      "[]\n",
      "7480124 남목고등학교\n",
      "급식 정보 조회 중: 날짜=20241030\n"
     ]
    },
    {
     "name": "stderr",
     "output_type": "stream",
     "text": [
      " ... (more hidden) ..."
     ]
    },
    {
     "name": "stdout",
     "output_type": "stream",
     "text": [
      "mealService 응답코드: 200\n",
      "mealServiceDietInfo 키 없음: {'RESULT': {'CODE': 'ERROR-300', 'MESSAGE': '필수 값이 누락되어 있습니다. 요청인자를 참고 하십시오.'}}\n",
      "[]\n",
      "7480023 남창고등학교\n",
      "급식 정보 조회 중: 날짜=20241030\n",
      "mealService 응답코드: 200\n",
      "mealServiceDietInfo 키 없음: {'RESULT': {'CODE': 'ERROR-300', 'MESSAGE': '필수 값이 누락되어 있습니다. 요청인자를 참고 하십시오.'}}\n",
      "[]\n"
     ]
    },
    {
     "name": "stderr",
     "output_type": "stream",
     "text": [
      " ... (more hidden) ..."
     ]
    },
    {
     "name": "stdout",
     "output_type": "stream",
     "text": [
      "7480126 다운고등학교\n",
      "급식 정보 조회 중: 날짜=20241030\n",
      "mealService 응답코드: 200\n",
      "mealServiceDietInfo 키 없음: {'RESULT': {'CODE': 'ERROR-300', 'MESSAGE': '필수 값이 누락되어 있습니다. 요청인자를 참고 하십시오.'}}\n",
      "[]\n",
      "7480135 달천고등학교\n",
      "급식 정보 조회 중: 날짜=20241030\n"
     ]
    },
    {
     "name": "stderr",
     "output_type": "stream",
     "text": [
      " ... (more hidden) ..."
     ]
    },
    {
     "name": "stdout",
     "output_type": "stream",
     "text": [
      "mealService 응답코드: 200\n",
      "mealServiceDietInfo 키 없음: {'RESULT': {'CODE': 'ERROR-300', 'MESSAGE': '필수 값이 누락되어 있습니다. 요청인자를 참고 하십시오.'}}\n",
      "[]\n",
      "7480069 대송고등학교\n",
      "급식 정보 조회 중: 날짜=20241030\n",
      "mealService 응답코드: 200\n",
      "mealServiceDietInfo 키 없음: {'RESULT': {'CODE': 'ERROR-300', 'MESSAGE': '필수 값이 누락되어 있습니다. 요청인자를 참고 하십시오.'}}\n",
      "[]\n"
     ]
    },
    {
     "name": "stderr",
     "output_type": "stream",
     "text": [
      " ... (more hidden) ..."
     ]
    },
    {
     "name": "stdout",
     "output_type": "stream",
     "text": [
      "7480093 대현고등학교\n",
      "급식 정보 조회 중: 날짜=20241030\n",
      "mealService 응답코드: 200\n",
      "mealServiceDietInfo 키 없음: {'RESULT': {'CODE': 'ERROR-300', 'MESSAGE': '필수 값이 누락되어 있습니다. 요청인자를 참고 하십시오.'}}\n",
      "[]\n",
      "7480199 매곡고등학교\n",
      "급식 정보 조회 중: 날짜=20241030\n"
     ]
    },
    {
     "name": "stderr",
     "output_type": "stream",
     "text": [
      " ... (more hidden) ..."
     ]
    },
    {
     "name": "stdout",
     "output_type": "stream",
     "text": [
      "mealService 응답코드: 200\n",
      "mealServiceDietInfo 키 없음: {'RESULT': {'CODE': 'ERROR-300', 'MESSAGE': '필수 값이 누락되어 있습니다. 요청인자를 참고 하십시오.'}}\n",
      "[]\n",
      "7480107 무거고등학교\n",
      "급식 정보 조회 중: 날짜=20241030\n",
      "mealService 응답코드: 200\n",
      "mealServiceDietInfo 키 없음: {'RESULT': {'CODE': 'ERROR-300', 'MESSAGE': '필수 값이 누락되어 있습니다. 요청인자를 참고 하십시오.'}}\n",
      "[]\n"
     ]
    },
    {
     "name": "stderr",
     "output_type": "stream",
     "text": [
      " ... (more hidden) ..."
     ]
    },
    {
     "name": "stdout",
     "output_type": "stream",
     "text": [
      "7480070 무룡고등학교\n",
      "급식 정보 조회 중: 날짜=20241030\n",
      "mealService 응답코드: 200\n",
      "mealServiceDietInfo 키 없음: {'RESULT': {'CODE': 'ERROR-300', 'MESSAGE': '필수 값이 누락되어 있습니다. 요청인자를 참고 하십시오.'}}\n",
      "[]\n",
      "7480088 문수고등학교\n",
      "급식 정보 조회 중: 날짜=20241030\n"
     ]
    },
    {
     "name": "stderr",
     "output_type": "stream",
     "text": [
      " ... (more hidden) ..."
     ]
    },
    {
     "name": "stdout",
     "output_type": "stream",
     "text": [
      "mealService 응답코드: 200\n",
      "mealServiceDietInfo 키 없음: {'RESULT': {'CODE': 'ERROR-300', 'MESSAGE': '필수 값이 누락되어 있습니다. 요청인자를 참고 하십시오.'}}\n",
      "[]\n",
      "7480108 문현고등학교\n",
      "급식 정보 조회 중: 날짜=20241030\n",
      "mealService 응답코드: 200\n",
      "mealServiceDietInfo 키 없음: {'RESULT': {'CODE': 'ERROR-300', 'MESSAGE': '필수 값이 누락되어 있습니다. 요청인자를 참고 하십시오.'}}\n",
      "[]\n"
     ]
    },
    {
     "name": "stderr",
     "output_type": "stream",
     "text": [
      " ... (more hidden) ..."
     ]
    },
    {
     "name": "stdout",
     "output_type": "stream",
     "text": [
      "7480024 방어진고등학교\n",
      "급식 정보 조회 중: 날짜=20241030\n",
      "mealService 응답코드: 200\n",
      "mealServiceDietInfo 키 없음: {'RESULT': {'CODE': 'ERROR-300', 'MESSAGE': '필수 값이 누락되어 있습니다. 요청인자를 참고 하십시오.'}}\n",
      "[]\n",
      "7480125 범서고등학교\n",
      "급식 정보 조회 중: 날짜=20241030\n"
     ]
    },
    {
     "name": "stderr",
     "output_type": "stream",
     "text": [
      " ... (more hidden) ..."
     ]
    },
    {
     "name": "stdout",
     "output_type": "stream",
     "text": [
      "mealService 응답코드: 200\n",
      "mealServiceDietInfo 키 없음: {'RESULT': {'CODE': 'ERROR-300', 'MESSAGE': '필수 값이 누락되어 있습니다. 요청인자를 참고 하십시오.'}}\n",
      "[]\n",
      "7480096 삼산고등학교\n",
      "급식 정보 조회 중: 날짜=20241030\n",
      "mealService 응답코드: 200\n",
      "mealServiceDietInfo 키 없음: {'RESULT': {'CODE': 'ERROR-300', 'MESSAGE': '필수 값이 누락되어 있습니다. 요청인자를 참고 하십시오.'}}\n",
      "[]\n"
     ]
    },
    {
     "name": "stderr",
     "output_type": "stream",
     "text": [
      " ... (more hidden) ..."
     ]
    },
    {
     "name": "stdout",
     "output_type": "stream",
     "text": [
      "7480033 성광여자고등학교\n",
      "급식 정보 조회 중: 날짜=20241030\n",
      "mealService 응답코드: 200\n",
      "mealServiceDietInfo 키 없음: {'RESULT': {'CODE': 'ERROR-300', 'MESSAGE': '필수 값이 누락되어 있습니다. 요청인자를 참고 하십시오.'}}\n",
      "[]\n",
      "7480034 성신고등학교\n",
      "급식 정보 조회 중: 날짜=20241030\n"
     ]
    },
    {
     "name": "stderr",
     "output_type": "stream",
     "text": [
      " ... (more hidden) ..."
     ]
    },
    {
     "name": "stdout",
     "output_type": "stream",
     "text": [
      "mealService 응답코드: 200\n",
      "mealServiceDietInfo 키 없음: {'RESULT': {'CODE': 'ERROR-300', 'MESSAGE': '필수 값이 누락되어 있습니다. 요청인자를 참고 하십시오.'}}\n",
      "[]\n",
      "7480095 신선여자고등학교\n",
      "급식 정보 조회 중: 날짜=20241030\n",
      "mealService 응답코드: 200\n",
      "mealServiceDietInfo 키 없음: {'RESULT': {'CODE': 'ERROR-300', 'MESSAGE': '필수 값이 누락되어 있습니다. 요청인자를 참고 하십시오.'}}\n",
      "[]\n"
     ]
    },
    {
     "name": "stderr",
     "output_type": "stream",
     "text": [
      " ... (more hidden) ..."
     ]
    },
    {
     "name": "stdout",
     "output_type": "stream",
     "text": [
      "7480072 신정고등학교\n",
      "급식 정보 조회 중: 날짜=20241030\n",
      "mealService 응답코드: 200\n",
      "mealServiceDietInfo 키 없음: {'RESULT': {'CODE': 'ERROR-300', 'MESSAGE': '필수 값이 누락되어 있습니다. 요청인자를 참고 하십시오.'}}\n",
      "[]\n",
      "7480189 약사고등학교\n",
      "급식 정보 조회 중: 날짜=20241030\n"
     ]
    },
    {
     "name": "stderr",
     "output_type": "stream",
     "text": [
      " ... (more hidden) ..."
     ]
    },
    {
     "name": "stdout",
     "output_type": "stream",
     "text": [
      "mealService 응답코드: 200\n",
      "mealServiceDietInfo 키 없음: {'RESULT': {'CODE': 'ERROR-300', 'MESSAGE': '필수 값이 누락되어 있습니다. 요청인자를 참고 하십시오.'}}\n",
      "[]\n",
      "7480188 언양고등학교\n",
      "급식 정보 조회 중: 날짜=20241030\n",
      "mealService 응답코드: 200\n",
      "mealServiceDietInfo 키 없음: {'RESULT': {'CODE': 'ERROR-300', 'MESSAGE': '필수 값이 누락되어 있습니다. 요청인자를 참고 하십시오.'}}\n",
      "[]\n"
     ]
    },
    {
     "name": "stderr",
     "output_type": "stream",
     "text": [
      " ... (more hidden) ..."
     ]
    },
    {
     "name": "stdout",
     "output_type": "stream",
     "text": [
      "7480205 온산고등학교\n",
      "급식 정보 조회 중: 날짜=20241030\n",
      "mealService 응답코드: 200\n",
      "mealServiceDietInfo 키 없음: {'RESULT': {'CODE': 'ERROR-300', 'MESSAGE': '필수 값이 누락되어 있습니다. 요청인자를 참고 하십시오.'}}\n",
      "[]\n",
      "7480074 우신고등학교\n",
      "급식 정보 조회 중: 날짜=20241030\n",
      "mealService 응답코드: 200\n",
      "mealServiceDietInfo 키 없음: {'RESULT': {'CODE': 'ERROR-300', 'MESSAGE': '필수 값이 누락되어 있습니다. 요청인자를 참고 하십시오.'}}\n",
      "[]\n"
     ]
    },
    {
     "name": "stderr",
     "output_type": "stream",
     "text": [
      " ... (more hidden) ..."
     ]
    },
    {
     "name": "stdout",
     "output_type": "stream",
     "text": [
      "7480254 울산가온고등학교\n",
      "급식 정보 조회 중: 날짜=20241030\n",
      "mealService 응답코드: 200\n",
      "mealServiceDietInfo 키 없음: {'RESULT': {'CODE': 'ERROR-300', 'MESSAGE': '필수 값이 누락되어 있습니다. 요청인자를 참고 하십시오.'}}\n",
      "[]\n",
      "7480142 울산강남고등학교\n",
      "급식 정보 조회 중: 날짜=20241030\n"
     ]
    },
    {
     "name": "stderr",
     "output_type": "stream",
     "text": [
      " ... (more hidden) ..."
     ]
    },
    {
     "name": "stdout",
     "output_type": "stream",
     "text": [
      "mealService 응답코드: 200\n",
      "mealServiceDietInfo 키 없음: {'RESULT': {'CODE': 'ERROR-300', 'MESSAGE': '필수 값이 누락되어 있습니다. 요청인자를 참고 하십시오.'}}\n",
      "[]\n",
      "7480075 울산경의고등학교\n",
      "급식 정보 조회 중: 날짜=20241030\n",
      "mealService 응답코드: 200\n",
      "mealServiceDietInfo 키 없음: {'RESULT': {'CODE': 'ERROR-300', 'MESSAGE': '필수 값이 누락되어 있습니다. 요청인자를 참고 하십시오.'}}\n",
      "[]\n"
     ]
    },
    {
     "name": "stderr",
     "output_type": "stream",
     "text": [
      " ... (more hidden) ..."
     ]
    },
    {
     "name": "stdout",
     "output_type": "stream",
     "text": [
      "7480035 울산고등학교\n",
      "급식 정보 조회 중: 날짜=20241030\n",
      "mealService 응답코드: 200\n",
      "mealServiceDietInfo 키 없음: {'RESULT': {'CODE': 'ERROR-300', 'MESSAGE': '필수 값이 누락되어 있습니다. 요청인자를 참고 하십시오.'}}\n",
      "[]\n",
      "7480044 울산공업고등학교\n",
      "급식 정보 조회 중: 날짜=20241030\n",
      "mealService 응답코드: 200\n",
      "mealServiceDietInfo 키 없음: {'RESULT': {'CODE': 'ERROR-300', 'MESSAGE': '필수 값이 누락되어 있습니다. 요청인자를 참고 하십시오.'}}\n",
      "[]\n"
     ]
    },
    {
     "name": "stderr",
     "output_type": "stream",
     "text": [
      " ... (more hidden) ..."
     ]
    },
    {
     "name": "stdout",
     "output_type": "stream",
     "text": [
      "7480110 울산과학고등학교\n",
      "급식 정보 조회 중: 날짜=20241030\n",
      "mealService 응답코드: 200\n",
      "mealServiceDietInfo 키 없음: {'RESULT': {'CODE': 'ERROR-300', 'MESSAGE': '필수 값이 누락되어 있습니다. 요청인자를 참고 하십시오.'}}\n",
      "[]\n",
      "7480208 울산기술공업고등학교\n",
      "급식 정보 조회 중: 날짜=20241030\n"
     ]
    },
    {
     "name": "stderr",
     "output_type": "stream",
     "text": [
      " ... (more hidden) ..."
     ]
    },
    {
     "name": "stdout",
     "output_type": "stream",
     "text": [
      "mealService 응답코드: 200\n",
      "mealServiceDietInfo 키 없음: {'RESULT': {'CODE': 'ERROR-300', 'MESSAGE': '필수 값이 누락되어 있습니다. 요청인자를 참고 하십시오.'}}\n",
      "[]\n",
      "7480172 울산동천고등학교\n",
      "급식 정보 조회 중: 날짜=20241030\n",
      "mealService 응답코드: 200\n",
      "mealServiceDietInfo 키 없음: {'RESULT': {'CODE': 'ERROR-300', 'MESSAGE': '필수 값이 누락되어 있습니다. 요청인자를 참고 하십시오.'}}\n",
      "[]\n"
     ]
    },
    {
     "name": "stderr",
     "output_type": "stream",
     "text": [
      " ... (more hidden) ..."
     ]
    },
    {
     "name": "stdout",
     "output_type": "stream",
     "text": [
      "7480143 울산마이스터고등학교\n",
      "급식 정보 조회 중: 날짜=20241030\n",
      "mealService 응답코드: 200\n",
      "mealServiceDietInfo 키 없음: {'RESULT': {'CODE': 'ERROR-300', 'MESSAGE': '필수 값이 누락되어 있습니다. 요청인자를 참고 하십시오.'}}\n",
      "[]\n",
      "7480173 울산미용예술고등학교\n",
      "급식 정보 조회 중: 날짜=20241030\n",
      "mealService 응답코드: 200\n",
      "mealServiceDietInfo 키 없음: {'RESULT': {'CODE': 'ERROR-300', 'MESSAGE': '필수 값이 누락되어 있습니다. 요청인자를 참고 하십시오.'}}\n",
      "[]\n"
     ]
    },
    {
     "name": "stderr",
     "output_type": "stream",
     "text": [
      " ... (more hidden) ..."
     ]
    },
    {
     "name": "stdout",
     "output_type": "stream",
     "text": [
      "7480190 울산산업고등학교\n",
      "급식 정보 조회 중: 날짜=20241030\n",
      "mealService 응답코드: 200\n",
      "mealServiceDietInfo 키 없음: {'RESULT': {'CODE': 'ERROR-300', 'MESSAGE': '필수 값이 누락되어 있습니다. 요청인자를 참고 하십시오.'}}\n",
      "[]\n",
      "7480252 울산삼일고등학교\n",
      "급식 정보 조회 중: 날짜=20241030\n"
     ]
    },
    {
     "name": "stderr",
     "output_type": "stream",
     "text": [
      " ... (more hidden) ..."
     ]
    },
    {
     "name": "stdout",
     "output_type": "stream",
     "text": [
      "mealService 응답코드: 200\n",
      "mealServiceDietInfo 키 없음: {'RESULT': {'CODE': 'ERROR-300', 'MESSAGE': '필수 값이 누락되어 있습니다. 요청인자를 참고 하십시오.'}}\n",
      "[]\n",
      "7480198 울산상업고등학교\n",
      "급식 정보 조회 중: 날짜=20241030\n",
      "mealService 응답코드: 200\n",
      "mealServiceDietInfo 키 없음: {'RESULT': {'CODE': 'ERROR-300', 'MESSAGE': '필수 값이 누락되어 있습니다. 요청인자를 참고 하십시오.'}}\n",
      "[]\n"
     ]
    },
    {
     "name": "stderr",
     "output_type": "stream",
     "text": [
      " ... (more hidden) ..."
     ]
    },
    {
     "name": "stdout",
     "output_type": "stream",
     "text": [
      "7480047 울산생활과학고등학교\n",
      "급식 정보 조회 중: 날짜=20241030\n",
      "mealService 응답코드: 200\n",
      "mealServiceDietInfo 키 없음: {'RESULT': {'CODE': 'ERROR-300', 'MESSAGE': '필수 값이 누락되어 있습니다. 요청인자를 참고 하십시오.'}}\n",
      "[]\n",
      "7480191 울산스포츠과학고등학교\n",
      "급식 정보 조회 중: 날짜=20241030\n"
     ]
    },
    {
     "name": "stderr",
     "output_type": "stream",
     "text": [
      " ... (more hidden) ..."
     ]
    },
    {
     "name": "stdout",
     "output_type": "stream",
     "text": [
      "mealService 응답코드: 200\n",
      "mealServiceDietInfo 키 없음: {'RESULT': {'CODE': 'ERROR-300', 'MESSAGE': '필수 값이 누락되어 있습니다. 요청인자를 참고 하십시오.'}}\n",
      "[]\n",
      "7480087 울산애니원고등학교\n",
      "급식 정보 조회 중: 날짜=20241030\n",
      "mealService 응답코드: 200\n",
      "mealServiceDietInfo 키 없음: {'RESULT': {'CODE': 'ERROR-300', 'MESSAGE': '필수 값이 누락되어 있습니다. 요청인자를 참고 하십시오.'}}\n",
      "[]\n"
     ]
    },
    {
     "name": "stderr",
     "output_type": "stream",
     "text": [
      " ... (more hidden) ..."
     ]
    },
    {
     "name": "stdout",
     "output_type": "stream",
     "text": [
      "7480183 울산에너지고등학교\n",
      "급식 정보 조회 중: 날짜=20241030\n",
      "mealService 응답코드: 200\n",
      "mealServiceDietInfo 키 없음: {'RESULT': {'CODE': 'ERROR-300', 'MESSAGE': '필수 값이 누락되어 있습니다. 요청인자를 참고 하십시오.'}}\n",
      "[]\n",
      "7480026 울산여자고등학교\n",
      "급식 정보 조회 중: 날짜=20241030\n"
     ]
    },
    {
     "name": "stderr",
     "output_type": "stream",
     "text": [
      " ... (more hidden) ..."
     ]
    },
    {
     "name": "stdout",
     "output_type": "stream",
     "text": [
      "mealService 응답코드: 200\n",
      "mealServiceDietInfo 키 없음: {'RESULT': {'CODE': 'ERROR-300', 'MESSAGE': '필수 값이 누락되어 있습니다. 요청인자를 참고 하십시오.'}}\n",
      "[]\n",
      "7480048 울산여자상업고등학교\n",
      "급식 정보 조회 중: 날짜=20241030\n",
      "mealService 응답코드: 200\n",
      "mealServiceDietInfo 키 없음: {'RESULT': {'CODE': 'ERROR-300', 'MESSAGE': '필수 값이 누락되어 있습니다. 요청인자를 참고 하십시오.'}}\n",
      "[]\n"
     ]
    },
    {
     "name": "stderr",
     "output_type": "stream",
     "text": [
      " ... (more hidden) ..."
     ]
    },
    {
     "name": "stdout",
     "output_type": "stream",
     "text": [
      "7480036 울산예술고등학교\n",
      "급식 정보 조회 중: 날짜=20241030\n",
      "mealService 응답코드: 200\n",
      "mealServiceDietInfo 키 없음: {'RESULT': {'CODE': 'ERROR-300', 'MESSAGE': '필수 값이 누락되어 있습니다. 요청인자를 참고 하십시오.'}}\n",
      "[]\n",
      "7480141 울산외국어고등학교\n",
      "급식 정보 조회 중: 날짜=20241030\n"
     ]
    },
    {
     "name": "stderr",
     "output_type": "stream",
     "text": [
      " ... (more hidden) ..."
     ]
    },
    {
     "name": "stdout",
     "output_type": "stream",
     "text": [
      "mealService 응답코드: 200\n",
      "mealServiceDietInfo 키 없음: {'RESULT': {'CODE': 'ERROR-300', 'MESSAGE': '필수 값이 누락되어 있습니다. 요청인자를 참고 하십시오.'}}\n",
      "[]\n",
      "7480037 울산제일고등학교\n",
      "급식 정보 조회 중: 날짜=20241030\n",
      "mealService 응답코드: 200\n",
      "mealServiceDietInfo 키 없음: {'RESULT': {'CODE': 'ERROR-300', 'MESSAGE': '필수 값이 누락되어 있습니다. 요청인자를 참고 하십시오.'}}\n",
      "[]\n"
     ]
    },
    {
     "name": "stderr",
     "output_type": "stream",
     "text": [
      " ... (more hidden) ..."
     ]
    },
    {
     "name": "stdout",
     "output_type": "stream",
     "text": [
      "7480027 울산중앙고등학교\n",
      "급식 정보 조회 중: 날짜=20241030\n",
      "mealService 응답코드: 200\n",
      "mealServiceDietInfo 키 없음: {'RESULT': {'CODE': 'ERROR-300', 'MESSAGE': '필수 값이 누락되어 있습니다. 요청인자를 참고 하십시오.'}}\n",
      "[]\n",
      "7480209 천상고등학교\n",
      "급식 정보 조회 중: 날짜=20241030\n"
     ]
    },
    {
     "name": "stderr",
     "output_type": "stream",
     "text": [
      " ... (more hidden) ..."
     ]
    },
    {
     "name": "stdout",
     "output_type": "stream",
     "text": [
      "mealService 응답코드: 200\n",
      "mealServiceDietInfo 키 없음: {'RESULT': {'CODE': 'ERROR-300', 'MESSAGE': '필수 값이 누락되어 있습니다. 요청인자를 참고 하십시오.'}}\n",
      "[]\n",
      "7480029 학성고등학교\n",
      "급식 정보 조회 중: 날짜=20241030\n",
      "mealService 응답코드: 200\n",
      "mealServiceDietInfo 키 없음: {'RESULT': {'CODE': 'ERROR-300', 'MESSAGE': '필수 값이 누락되어 있습니다. 요청인자를 참고 하십시오.'}}\n",
      "[]\n"
     ]
    },
    {
     "name": "stderr",
     "output_type": "stream",
     "text": [
      " ... (more hidden) ..."
     ]
    },
    {
     "name": "stdout",
     "output_type": "stream",
     "text": [
      "7480030 학성여자고등학교\n",
      "급식 정보 조회 중: 날짜=20241030\n",
      "mealService 응답코드: 200\n",
      "mealServiceDietInfo 키 없음: {'RESULT': {'CODE': 'ERROR-300', 'MESSAGE': '필수 값이 누락되어 있습니다. 요청인자를 참고 하십시오.'}}\n",
      "[]\n",
      "7480094 함월고등학교\n",
      "급식 정보 조회 중: 날짜=20241030\n"
     ]
    },
    {
     "name": "stderr",
     "output_type": "stream",
     "text": [
      " ... (more hidden) ..."
     ]
    },
    {
     "name": "stdout",
     "output_type": "stream",
     "text": [
      "mealService 응답코드: 200\n",
      "mealServiceDietInfo 키 없음: {'RESULT': {'CODE': 'ERROR-300', 'MESSAGE': '필수 값이 누락되어 있습니다. 요청인자를 참고 하십시오.'}}\n",
      "[]\n",
      "7480039 현대고등학교\n",
      "급식 정보 조회 중: 날짜=20241030\n",
      "mealService 응답코드: 200\n",
      "mealServiceDietInfo 키 없음: {'RESULT': {'CODE': 'ERROR-300', 'MESSAGE': '필수 값이 누락되어 있습니다. 요청인자를 참고 하십시오.'}}\n",
      "[]\n"
     ]
    },
    {
     "name": "stderr",
     "output_type": "stream",
     "text": [
      " ... (more hidden) ..."
     ]
    },
    {
     "name": "stdout",
     "output_type": "stream",
     "text": [
      "7480186 현대공업고등학교\n",
      "급식 정보 조회 중: 날짜=20241030\n",
      "mealService 응답코드: 200\n",
      "mealServiceDietInfo 키 없음: {'RESULT': {'CODE': 'ERROR-300', 'MESSAGE': '필수 값이 누락되어 있습니다. 요청인자를 참고 하십시오.'}}\n",
      "[]\n",
      "7480085 현대청운고등학교\n",
      "급식 정보 조회 중: 날짜=20241030\n"
     ]
    },
    {
     "name": "stderr",
     "output_type": "stream",
     "text": [
      " ... (more hidden) ..."
     ]
    },
    {
     "name": "stdout",
     "output_type": "stream",
     "text": [
      "mealService 응답코드: 200\n",
      "mealServiceDietInfo 키 없음: {'RESULT': {'CODE': 'ERROR-300', 'MESSAGE': '필수 값이 누락되어 있습니다. 요청인자를 참고 하십시오.'}}\n",
      "[]\n",
      "7480109 호계고등학교\n",
      "급식 정보 조회 중: 날짜=20241030\n",
      "mealService 응답코드: 200\n",
      "mealServiceDietInfo 키 없음: {'RESULT': {'CODE': 'ERROR-300', 'MESSAGE': '필수 값이 누락되어 있습니다. 요청인자를 참고 하십시오.'}}\n",
      "[]\n"
     ]
    },
    {
     "name": "stderr",
     "output_type": "stream",
     "text": [
      " ... (more hidden) ..."
     ]
    },
    {
     "name": "stdout",
     "output_type": "stream",
     "text": [
      "7480171 화봉고등학교\n",
      "급식 정보 조회 중: 날짜=20241030\n",
      "mealService 응답코드: 200\n",
      "mealServiceDietInfo 키 없음: {'RESULT': {'CODE': 'ERROR-300', 'MESSAGE': '필수 값이 누락되어 있습니다. 요청인자를 참고 하십시오.'}}\n",
      "[]\n",
      "7480083 화암고등학교\n",
      "급식 정보 조회 중: 날짜=20241030\n"
     ]
    },
    {
     "name": "stderr",
     "output_type": "stream",
     "text": [
      " ... (more hidden) ..."
     ]
    },
    {
     "name": "stdout",
     "output_type": "stream",
     "text": [
      "mealService 응답코드: 200\n",
      "mealServiceDietInfo 키 없음: {'RESULT': {'CODE': 'ERROR-300', 'MESSAGE': '필수 값이 누락되어 있습니다. 요청인자를 참고 하십시오.'}}\n",
      "[]\n",
      "7480073 효정고등학교\n",
      "급식 정보 조회 중: 날짜=20241030\n",
      "mealService 응답코드: 200\n",
      "mealServiceDietInfo 키 없음: {'RESULT': {'CODE': 'ERROR-300', 'MESSAGE': '필수 값이 누락되어 있습니다. 요청인자를 참고 하십시오.'}}\n",
      "[]\n"
     ]
    },
    {
     "name": "stderr",
     "output_type": "stream",
     "text": [
      " ... (more hidden) ...\n"
     ]
    },
    {
     "name": "stdout",
     "output_type": "stream",
     "text": [
      "응답코드 : 200\n"
     ]
    },
    {
     "name": "stderr",
     "output_type": "stream",
     "text": [
      " ... (more hidden) ..."
     ]
    },
    {
     "name": "stdout",
     "output_type": "stream",
     "text": [
      "9300178 고운고등학교\n",
      "급식 정보 조회 중: 날짜=20241030\n",
      "mealService 응답코드: 200\n",
      "mealServiceDietInfo 키 없음: {'RESULT': {'CODE': 'ERROR-300', 'MESSAGE': '필수 값이 누락되어 있습니다. 요청인자를 참고 하십시오.'}}\n",
      "[]\n",
      "9300235 다정고등학교\n",
      "급식 정보 조회 중: 날짜=20241030\n"
     ]
    },
    {
     "name": "stderr",
     "output_type": "stream",
     "text": [
      " ... (more hidden) ..."
     ]
    },
    {
     "name": "stdout",
     "output_type": "stream",
     "text": [
      "mealService 응답코드: 200\n",
      "mealServiceDietInfo 키 없음: {'RESULT': {'CODE': 'ERROR-300', 'MESSAGE': '필수 값이 누락되어 있습니다. 요청인자를 참고 하십시오.'}}\n",
      "[]\n",
      "9300107 도담고등학교\n",
      "급식 정보 조회 중: 날짜=20241030\n",
      "mealService 응답코드: 200\n",
      "mealServiceDietInfo 키 없음: {'RESULT': {'CODE': 'ERROR-300', 'MESSAGE': '필수 값이 누락되어 있습니다. 요청인자를 참고 하십시오.'}}\n",
      "[]\n"
     ]
    },
    {
     "name": "stderr",
     "output_type": "stream",
     "text": [
      " ... (more hidden) ..."
     ]
    },
    {
     "name": "stdout",
     "output_type": "stream",
     "text": [
      "9300177 두루고등학교\n",
      "급식 정보 조회 중: 날짜=20241030\n",
      "mealService 응답코드: 200\n",
      "mealServiceDietInfo 키 없음: {'RESULT': {'CODE': 'ERROR-300', 'MESSAGE': '필수 값이 누락되어 있습니다. 요청인자를 참고 하십시오.'}}\n",
      "[]\n"
     ]
    },
    {
     "name": "stderr",
     "output_type": "stream",
     "text": [
      " ... (more hidden) ..."
     ]
    },
    {
     "name": "stdout",
     "output_type": "stream",
     "text": [
      "9300265 반곡고등학교\n",
      "급식 정보 조회 중: 날짜=20241030\n",
      "mealService 응답코드: 200\n",
      "mealServiceDietInfo 키 없음: {'RESULT': {'CODE': 'ERROR-300', 'MESSAGE': '필수 값이 누락되어 있습니다. 요청인자를 참고 하십시오.'}}\n",
      "[]\n",
      "9300191 보람고등학교\n",
      "급식 정보 조회 중: 날짜=20241030\n"
     ]
    },
    {
     "name": "stderr",
     "output_type": "stream",
     "text": [
      " ... (more hidden) ..."
     ]
    },
    {
     "name": "stdout",
     "output_type": "stream",
     "text": [
      "mealService 응답코드: 200\n",
      "mealServiceDietInfo 키 없음: {'RESULT': {'CODE': 'ERROR-300', 'MESSAGE': '필수 값이 누락되어 있습니다. 요청인자를 참고 하십시오.'}}\n",
      "[]\n",
      "9300219 새롬고등학교\n",
      "급식 정보 조회 중: 날짜=20241030\n",
      "mealService 응답코드: 200\n",
      "mealServiceDietInfo 키 없음: {'RESULT': {'CODE': 'ERROR-300', 'MESSAGE': '필수 값이 누락되어 있습니다. 요청인자를 참고 하십시오.'}}\n",
      "[]\n"
     ]
    },
    {
     "name": "stderr",
     "output_type": "stream",
     "text": [
      " ... (more hidden) ..."
     ]
    },
    {
     "name": "stdout",
     "output_type": "stream",
     "text": [
      "9300054 세종고등학교\n",
      "급식 정보 조회 중: 날짜=20241030\n",
      "mealService 응답코드: 200\n",
      "mealServiceDietInfo 키 없음: {'RESULT': {'CODE': 'ERROR-300', 'MESSAGE': '필수 값이 누락되어 있습니다. 요청인자를 참고 하십시오.'}}\n",
      "[]\n"
     ]
    },
    {
     "name": "stderr",
     "output_type": "stream",
     "text": [
      " ... (more hidden) ..."
     ]
    },
    {
     "name": "stdout",
     "output_type": "stream",
     "text": [
      "9300181 세종과학예술영재학교\n",
      "급식 정보 조회 중: 날짜=20241030\n",
      "mealService 응답코드: 200\n",
      "mealServiceDietInfo 키 없음: {'RESULT': {'CODE': 'ERROR-300', 'MESSAGE': '필수 값이 누락되어 있습니다. 요청인자를 참고 하십시오.'}}\n",
      "[]\n"
     ]
    },
    {
     "name": "stderr",
     "output_type": "stream",
     "text": [
      " ... (more hidden) ..."
     ]
    },
    {
     "name": "stdout",
     "output_type": "stream",
     "text": [
      "9300108 세종국제고등학교\n",
      "급식 정보 조회 중: 날짜=20241030\n",
      "mealService 응답코드: 200\n",
      "mealServiceDietInfo 키 없음: {'RESULT': {'CODE': 'ERROR-300', 'MESSAGE': '필수 값이 누락되어 있습니다. 요청인자를 참고 하십시오.'}}\n",
      "[]\n",
      "9300278 세종대성고등학교\n",
      "급식 정보 조회 중: 날짜=20241030\n"
     ]
    },
    {
     "name": "stderr",
     "output_type": "stream",
     "text": [
      " ... (more hidden) ..."
     ]
    },
    {
     "name": "stdout",
     "output_type": "stream",
     "text": [
      "mealService 응답코드: 200\n",
      "mealServiceDietInfo 키 없음: {'RESULT': {'CODE': 'ERROR-300', 'MESSAGE': '필수 값이 누락되어 있습니다. 요청인자를 참고 하십시오.'}}\n",
      "[]\n",
      "9300329 세종미래고등학교\n",
      "급식 정보 조회 중: 날짜=20241030\n",
      "mealService 응답코드: 200\n",
      "mealServiceDietInfo 키 없음: {'RESULT': {'CODE': 'ERROR-300', 'MESSAGE': '필수 값이 누락되어 있습니다. 요청인자를 참고 하십시오.'}}\n",
      "[]\n"
     ]
    },
    {
     "name": "stderr",
     "output_type": "stream",
     "text": [
      " ... (more hidden) ..."
     ]
    },
    {
     "name": "stdout",
     "output_type": "stream",
     "text": [
      "9300185 세종여자고등학교\n",
      "급식 정보 조회 중: 날짜=20241030\n",
      "mealService 응답코드: 200\n",
      "mealServiceDietInfo 키 없음: {'RESULT': {'CODE': 'ERROR-300', 'MESSAGE': '필수 값이 누락되어 있습니다. 요청인자를 참고 하십시오.'}}\n",
      "[]\n",
      "9300233 세종예술고등학교\n",
      "급식 정보 조회 중: 날짜=20241030\n"
     ]
    },
    {
     "name": "stderr",
     "output_type": "stream",
     "text": [
      " ... (more hidden) ..."
     ]
    },
    {
     "name": "stdout",
     "output_type": "stream",
     "text": [
      "mealService 응답코드: 200\n",
      "mealServiceDietInfo 키 없음: {'RESULT': {'CODE': 'ERROR-300', 'MESSAGE': '필수 값이 누락되어 있습니다. 요청인자를 참고 하십시오.'}}\n",
      "[]\n",
      "9300266 세종장영실고등학교\n",
      "급식 정보 조회 중: 날짜=20241030\n",
      "mealService 응답코드: 200\n",
      "mealServiceDietInfo 키 없음: {'RESULT': {'CODE': 'ERROR-300', 'MESSAGE': '필수 값이 누락되어 있습니다. 요청인자를 참고 하십시오.'}}\n",
      "[]\n"
     ]
    },
    {
     "name": "stderr",
     "output_type": "stream",
     "text": [
      " ... (more hidden) ..."
     ]
    },
    {
     "name": "stdout",
     "output_type": "stream",
     "text": [
      "9300357 세종캠퍼스고등학교\n",
      "급식 정보 조회 중: 날짜=20241030\n",
      "mealService 응답코드: 200\n",
      "mealServiceDietInfo 키 없음: {'RESULT': {'CODE': 'ERROR-300', 'MESSAGE': '필수 값이 누락되어 있습니다. 요청인자를 참고 하십시오.'}}\n",
      "[]\n",
      "9300220 소담고등학교\n",
      "급식 정보 조회 중: 날짜=20241030\n",
      "mealService 응답코드: 200\n",
      "mealServiceDietInfo 키 없음: {'RESULT': {'CODE': 'ERROR-300', 'MESSAGE': '필수 값이 누락되어 있습니다. 요청인자를 참고 하십시오.'}}\n",
      "[]\n"
     ]
    },
    {
     "name": "stderr",
     "output_type": "stream",
     "text": [
      " ... (more hidden) ..."
     ]
    },
    {
     "name": "stdout",
     "output_type": "stream",
     "text": [
      "9300117 아름고등학교\n",
      "급식 정보 조회 중: 날짜=20241030\n",
      "mealService 응답코드: 200\n",
      "mealServiceDietInfo 키 없음: {'RESULT': {'CODE': 'ERROR-300', 'MESSAGE': '필수 값이 누락되어 있습니다. 요청인자를 참고 하십시오.'}}\n",
      "[]\n",
      "9300179 양지고등학교\n",
      "급식 정보 조회 중: 날짜=20241030\n"
     ]
    },
    {
     "name": "stderr",
     "output_type": "stream",
     "text": [
      " ... (more hidden) ..."
     ]
    },
    {
     "name": "stdout",
     "output_type": "stream",
     "text": [
      "mealService 응답코드: 200\n",
      "mealServiceDietInfo 키 없음: {'RESULT': {'CODE': 'ERROR-300', 'MESSAGE': '필수 값이 누락되어 있습니다. 요청인자를 참고 하십시오.'}}\n",
      "[]\n",
      "9300180 종촌고등학교\n",
      "급식 정보 조회 중: 날짜=20241030\n",
      "mealService 응답코드: 200\n",
      "mealServiceDietInfo 키 없음: {'RESULT': {'CODE': 'ERROR-300', 'MESSAGE': '필수 값이 누락되어 있습니다. 요청인자를 참고 하십시오.'}}\n",
      "[]\n"
     ]
    },
    {
     "name": "stderr",
     "output_type": "stream",
     "text": [
      " ... (more hidden) ..."
     ]
    },
    {
     "name": "stdout",
     "output_type": "stream",
     "text": [
      "9300058 한솔고등학교\n",
      "급식 정보 조회 중: 날짜=20241030\n",
      "mealService 응답코드: 200\n",
      "mealServiceDietInfo 키 없음: {'RESULT': {'CODE': 'ERROR-300', 'MESSAGE': '필수 값이 누락되어 있습니다. 요청인자를 참고 하십시오.'}}\n",
      "[]\n",
      "9300270 해밀고등학교\n",
      "급식 정보 조회 중: 날짜=20241030\n"
     ]
    },
    {
     "name": "stderr",
     "output_type": "stream",
     "text": [
      " ... (more hidden) ...\n"
     ]
    },
    {
     "name": "stdout",
     "output_type": "stream",
     "text": [
      "mealService 응답코드: 200\n",
      "mealServiceDietInfo 키 없음: {'RESULT': {'CODE': 'ERROR-300', 'MESSAGE': '필수 값이 누락되어 있습니다. 요청인자를 참고 하십시오.'}}\n",
      "[]\n",
      "응답코드 : 200\n"
     ]
    },
    {
     "name": "stderr",
     "output_type": "stream",
     "text": [
      " ... (more hidden) ..."
     ]
    },
    {
     "name": "stdout",
     "output_type": "stream",
     "text": [
      "7530907 가온고등학교\n",
      "급식 정보 조회 중: 날짜=20241030\n",
      "mealService 응답코드: 200\n",
      "mealServiceDietInfo 키 없음: {'RESULT': {'CODE': 'ERROR-300', 'MESSAGE': '필수 값이 누락되어 있습니다. 요청인자를 참고 하십시오.'}}\n",
      "[]\n",
      "7530974 가운고등학교\n",
      "급식 정보 조회 중: 날짜=20241030\n"
     ]
    },
    {
     "name": "stderr",
     "output_type": "stream",
     "text": [
      " ... (more hidden) ..."
     ]
    },
    {
     "name": "stdout",
     "output_type": "stream",
     "text": [
      "mealService 응답코드: 200\n",
      "mealServiceDietInfo 키 없음: {'RESULT': {'CODE': 'ERROR-300', 'MESSAGE': '필수 값이 누락되어 있습니다. 요청인자를 참고 하십시오.'}}\n",
      "[]\n",
      "7530854 가좌고등학교\n",
      "급식 정보 조회 중: 날짜=20241030\n",
      "mealService 응답코드: 200\n",
      "mealServiceDietInfo 키 없음: {'RESULT': {'CODE': 'ERROR-300', 'MESSAGE': '필수 값이 누락되어 있습니다. 요청인자를 참고 하십시오.'}}\n",
      "[]\n"
     ]
    },
    {
     "name": "stderr",
     "output_type": "stream",
     "text": [
      " ... (more hidden) ..."
     ]
    },
    {
     "name": "stdout",
     "output_type": "stream",
     "text": [
      "7530633 가평고등학교\n",
      "급식 정보 조회 중: 날짜=20241030\n",
      "mealService 응답코드: 200\n",
      "mealServiceDietInfo 키 없음: {'RESULT': {'CODE': 'ERROR-300', 'MESSAGE': '필수 값이 누락되어 있습니다. 요청인자를 참고 하십시오.'}}\n",
      "[]\n"
     ]
    },
    {
     "name": "stderr",
     "output_type": "stream",
     "text": [
      " ... (more hidden) ..."
     ]
    },
    {
     "name": "stdout",
     "output_type": "stream",
     "text": [
      "7531270 갈매고등학교\n",
      "급식 정보 조회 중: 날짜=20241030\n",
      "mealService 응답코드: 200\n",
      "mealServiceDietInfo 키 없음: {'RESULT': {'CODE': 'ERROR-300', 'MESSAGE': '필수 값이 누락되어 있습니다. 요청인자를 참고 하십시오.'}}\n",
      "[]\n",
      "7531390 감일고등학교\n",
      "급식 정보 조회 중: 날짜=20241030\n"
     ]
    },
    {
     "name": "stderr",
     "output_type": "stream",
     "text": [
      " ... (more hidden) ..."
     ]
    },
    {
     "name": "stdout",
     "output_type": "stream",
     "text": [
      "mealService 응답코드: 200\n",
      "mealServiceDietInfo 키 없음: {'RESULT': {'CODE': 'ERROR-300', 'MESSAGE': '필수 값이 누락되어 있습니다. 요청인자를 참고 하십시오.'}}\n",
      "[]\n",
      "7531377 경기게임마이스터고등학교\n",
      "급식 정보 조회 중: 날짜=20241030\n",
      "mealService 응답코드: 200\n",
      "mealServiceDietInfo 키 없음: {'RESULT': {'CODE': 'ERROR-300', 'MESSAGE': '필수 값이 누락되어 있습니다. 요청인자를 참고 하십시오.'}}\n",
      "[]\n"
     ]
    },
    {
     "name": "stderr",
     "output_type": "stream",
     "text": [
      " ... (more hidden) ..."
     ]
    },
    {
     "name": "stdout",
     "output_type": "stream",
     "text": [
      "7531275 경기경영고등학교\n",
      "급식 정보 조회 중: 날짜=20241030\n",
      "mealService 응답코드: 200\n",
      "mealServiceDietInfo 키 없음: {'RESULT': {'CODE': 'ERROR-300', 'MESSAGE': '필수 값이 누락되어 있습니다. 요청인자를 참고 하십시오.'}}\n",
      "[]\n",
      "7530045 경기과학고등학교\n",
      "급식 정보 조회 중: 날짜=20241030\n"
     ]
    },
    {
     "name": "stderr",
     "output_type": "stream",
     "text": [
      " ... (more hidden) ..."
     ]
    },
    {
     "name": "stdout",
     "output_type": "stream",
     "text": [
      "mealService 응답코드: 200\n",
      "mealServiceDietInfo 키 없음: {'RESULT': {'CODE': 'ERROR-300', 'MESSAGE': '필수 값이 누락되어 있습니다. 요청인자를 참고 하십시오.'}}\n",
      "[]\n",
      "7531056 경기관광고등학교\n",
      "급식 정보 조회 중: 날짜=20241030\n",
      "mealService 응답코드: 200\n",
      "mealServiceDietInfo 키 없음: {'RESULT': {'CODE': 'ERROR-300', 'MESSAGE': '필수 값이 누락되어 있습니다. 요청인자를 참고 하십시오.'}}\n",
      "[]\n"
     ]
    },
    {
     "name": "stderr",
     "output_type": "stream",
     "text": [
      " ... (more hidden) ..."
     ]
    },
    {
     "name": "stdout",
     "output_type": "stream",
     "text": [
      "7530989 경기국제통상고등학교\n",
      "급식 정보 조회 중: 날짜=20241030\n",
      "mealService 응답코드: 200\n",
      "mealServiceDietInfo 키 없음: {'RESULT': {'CODE': 'ERROR-300', 'MESSAGE': '필수 값이 누락되어 있습니다. 요청인자를 참고 하십시오.'}}\n",
      "[]\n",
      "7530551 경기대명고등학교\n",
      "급식 정보 조회 중: 날짜=20241030\n"
     ]
    },
    {
     "name": "stderr",
     "output_type": "stream",
     "text": [
      " ... (more hidden) ..."
     ]
    },
    {
     "name": "stdout",
     "output_type": "stream",
     "text": [
      "mealService 응답코드: 200\n",
      "mealServiceDietInfo 키 없음: {'RESULT': {'CODE': 'ERROR-300', 'MESSAGE': '필수 값이 누락되어 있습니다. 요청인자를 참고 하십시오.'}}\n",
      "[]\n",
      "7530903 경기모바일과학고등학교\n",
      "급식 정보 조회 중: 날짜=20241030\n",
      "mealService 응답코드: 200\n",
      "mealServiceDietInfo 키 없음: {'RESULT': {'CODE': 'ERROR-300', 'MESSAGE': '필수 값이 누락되어 있습니다. 요청인자를 참고 하십시오.'}}\n",
      "[]\n"
     ]
    },
    {
     "name": "stderr",
     "output_type": "stream",
     "text": [
      " ... (more hidden) ..."
     ]
    },
    {
     "name": "stdout",
     "output_type": "stream",
     "text": [
      "7530945 경기물류고등학교\n",
      "급식 정보 조회 중: 날짜=20241030\n",
      "mealService 응답코드: 200\n",
      "mealServiceDietInfo 키 없음: {'RESULT': {'CODE': 'ERROR-300', 'MESSAGE': '필수 값이 누락되어 있습니다. 요청인자를 참고 하십시오.'}}\n",
      "[]\n",
      "7530851 경기북과학고등학교\n",
      "급식 정보 조회 중: 날짜=20241030\n"
     ]
    },
    {
     "name": "stderr",
     "output_type": "stream",
     "text": [
      " ... (more hidden) ..."
     ]
    },
    {
     "name": "stdout",
     "output_type": "stream",
     "text": [
      "mealService 응답코드: 200\n",
      "mealServiceDietInfo 키 없음: {'RESULT': {'CODE': 'ERROR-300', 'MESSAGE': '필수 값이 누락되어 있습니다. 요청인자를 참고 하십시오.'}}\n",
      "[]\n",
      "7531380 경기스마트고등학교\n",
      "급식 정보 조회 중: 날짜=20241030\n",
      "mealService 응답코드: 200\n",
      "mealServiceDietInfo 키 없음: {'RESULT': {'CODE': 'ERROR-300', 'MESSAGE': '필수 값이 누락되어 있습니다. 요청인자를 참고 하십시오.'}}\n",
      "[]\n"
     ]
    },
    {
     "name": "stderr",
     "output_type": "stream",
     "text": [
      " ... (more hidden) ..."
     ]
    },
    {
     "name": "stdout",
     "output_type": "stream",
     "text": [
      "7530943 경기영상과학고등학교\n",
      "급식 정보 조회 중: 날짜=20241030\n",
      "mealService 응답코드: 200\n",
      "mealServiceDietInfo 키 없음: {'RESULT': {'CODE': 'ERROR-300', 'MESSAGE': '필수 값이 누락되어 있습니다. 요청인자를 참고 하십시오.'}}\n",
      "[]\n",
      "7530569 경기예술고등학교\n",
      "급식 정보 조회 중: 날짜=20241030\n"
     ]
    },
    {
     "name": "stderr",
     "output_type": "stream",
     "text": [
      " ... (more hidden) ..."
     ]
    },
    {
     "name": "stdout",
     "output_type": "stream",
     "text": [
      "mealService 응답코드: 200\n",
      "mealServiceDietInfo 키 없음: {'RESULT': {'CODE': 'ERROR-300', 'MESSAGE': '필수 값이 누락되어 있습니다. 요청인자를 참고 하십시오.'}}\n",
      "[]\n",
      "7530909 경기외국어고등학교\n",
      "급식 정보 조회 중: 날짜=20241030\n",
      "mealService 응답코드: 200\n",
      "mealServiceDietInfo 키 없음: {'RESULT': {'CODE': 'ERROR-300', 'MESSAGE': '필수 값이 누락되어 있습니다. 요청인자를 참고 하십시오.'}}\n",
      "[]\n"
     ]
    },
    {
     "name": "stderr",
     "output_type": "stream",
     "text": [
      " ... (more hidden) ..."
     ]
    },
    {
     "name": "stdout",
     "output_type": "stream",
     "text": [
      "7530908 경기자동차과학고등학교\n",
      "급식 정보 조회 중: 날짜=20241030\n",
      "mealService 응답코드: 200\n",
      "mealServiceDietInfo 키 없음: {'RESULT': {'CODE': 'ERROR-300', 'MESSAGE': '필수 값이 누락되어 있습니다. 요청인자를 참고 하십시오.'}}\n",
      "[]\n",
      "7530937 경기창조고등학교\n",
      "급식 정보 조회 중: 날짜=20241030\n"
     ]
    },
    {
     "name": "stderr",
     "output_type": "stream",
     "text": [
      " ... (more hidden) ..."
     ]
    },
    {
     "name": "stdout",
     "output_type": "stream",
     "text": [
      "mealService 응답코드: 200\n",
      "mealServiceDietInfo 키 없음: {'RESULT': {'CODE': 'ERROR-300', 'MESSAGE': '필수 값이 누락되어 있습니다. 요청인자를 참고 하십시오.'}}\n",
      "[]\n",
      "7530046 경기체육고등학교\n",
      "급식 정보 조회 중: 날짜=20241030\n",
      "mealService 응답코드: 200\n",
      "mealServiceDietInfo 키 없음: {'RESULT': {'CODE': 'ERROR-300', 'MESSAGE': '필수 값이 누락되어 있습니다. 요청인자를 참고 하십시오.'}}\n",
      "[]\n"
     ]
    },
    {
     "name": "stderr",
     "output_type": "stream",
     "text": [
      " ... (more hidden) ..."
     ]
    },
    {
     "name": "stdout",
     "output_type": "stream",
     "text": [
      "7531378 경기폴리텍고등학교\n",
      "급식 정보 조회 중: 날짜=20241030\n",
      "mealService 응답코드: 200\n",
      "mealServiceDietInfo 키 없음: {'RESULT': {'CODE': 'ERROR-300', 'MESSAGE': '필수 값이 누락되어 있습니다. 요청인자를 참고 하십시오.'}}\n",
      "[]\n",
      "7531382 경기항공고등학교\n",
      "급식 정보 조회 중: 날짜=20241030\n"
     ]
    },
    {
     "name": "stderr",
     "output_type": "stream",
     "text": [
      " ... (more hidden) ..."
     ]
    },
    {
     "name": "stdout",
     "output_type": "stream",
     "text": [
      "mealService 응답코드: 200\n",
      "mealServiceDietInfo 키 없음: {'RESULT': {'CODE': 'ERROR-300', 'MESSAGE': '필수 값이 누락되어 있습니다. 요청인자를 참고 하십시오.'}}\n",
      "[]\n",
      "7530995 경민IT고등학교\n",
      "급식 정보 조회 중: 날짜=20241030\n",
      "mealService 응답코드: 200\n",
      "mealServiceDietInfo 키 없음: {'RESULT': {'CODE': 'ERROR-300', 'MESSAGE': '필수 값이 누락되어 있습니다. 요청인자를 참고 하십시오.'}}\n",
      "[]\n"
     ]
    },
    {
     "name": "stderr",
     "output_type": "stream",
     "text": [
      " ... (more hidden) ..."
     ]
    },
    {
     "name": "stdout",
     "output_type": "stream",
     "text": [
      "7530141 경민고등학교\n",
      "급식 정보 조회 중: 날짜=20241030\n",
      "mealService 응답코드: 200\n",
      "mealServiceDietInfo 키 없음: {'RESULT': {'CODE': 'ERROR-300', 'MESSAGE': '필수 값이 누락되어 있습니다. 요청인자를 참고 하십시오.'}}\n",
      "[]\n",
      "7531061 경민비즈니스고등학교\n",
      "급식 정보 조회 중: 날짜=20241030\n",
      "mealService 응답코드: 200\n",
      "mealServiceDietInfo 키 없음: {'RESULT': {'CODE': 'ERROR-300', 'MESSAGE': '필수 값이 누락되어 있습니다. 요청인자를 참고 하십시오.'}}\n",
      "[]\n"
     ]
    },
    {
     "name": "stderr",
     "output_type": "stream",
     "text": [
      " ... (more hidden) ..."
     ]
    },
    {
     "name": "stdout",
     "output_type": "stream",
     "text": [
      "7530143 경안고등학교\n",
      "급식 정보 조회 중: 날짜=20241030\n",
      "mealService 응답코드: 200\n",
      "mealServiceDietInfo 키 없음: {'RESULT': {'CODE': 'ERROR-300', 'MESSAGE': '필수 값이 누락되어 있습니다. 요청인자를 참고 하십시오.'}}\n",
      "[]\n",
      "7531055 경일관광경영고등학교\n",
      "급식 정보 조회 중: 날짜=20241030\n",
      "mealService 응답코드: 200\n",
      "mealServiceDietInfo 키 없음: {'RESULT': {'CODE': 'ERROR-300', 'MESSAGE': '필수 값이 누락되어 있습니다. 요청인자를 참고 하십시오.'}}\n",
      "[]\n"
     ]
    },
    {
     "name": "stderr",
     "output_type": "stream",
     "text": [
      " ... (more hidden) ..."
     ]
    },
    {
     "name": "stdout",
     "output_type": "stream",
     "text": [
      "7530993 경화여자English Business고등학교\n",
      "급식 정보 조회 중: 날짜=20241030\n",
      "mealService 응답코드: 200\n",
      "mealServiceDietInfo 키 없음: {'RESULT': {'CODE': 'ERROR-300', 'MESSAGE': '필수 값이 누락되어 있습니다. 요청인자를 참고 하십시오.'}}\n",
      "[]\n",
      "7530535 경화여자고등학교\n",
      "급식 정보 조회 중: 날짜=20241030\n"
     ]
    },
    {
     "name": "stderr",
     "output_type": "stream",
     "text": [
      " ... (more hidden) ..."
     ]
    },
    {
     "name": "stdout",
     "output_type": "stream",
     "text": [
      "mealService 응답코드: 200\n",
      "mealServiceDietInfo 키 없음: {'RESULT': {'CODE': 'ERROR-300', 'MESSAGE': '필수 값이 누락되어 있습니다. 요청인자를 참고 하십시오.'}}\n",
      "[]\n",
      "7530047 계남고등학교\n",
      "급식 정보 조회 중: 날짜=20241030\n",
      "mealService 응답코드: 200\n",
      "mealServiceDietInfo 키 없음: {'RESULT': {'CODE': 'ERROR-300', 'MESSAGE': '필수 값이 누락되어 있습니다. 요청인자를 참고 하십시오.'}}\n",
      "[]\n"
     ]
    },
    {
     "name": "stderr",
     "output_type": "stream",
     "text": [
      " ... (more hidden) ..."
     ]
    },
    {
     "name": "stdout",
     "output_type": "stream",
     "text": [
      "7530144 계원예술고등학교\n",
      "급식 정보 조회 중: 날짜=20241030\n",
      "mealService 응답코드: 200\n",
      "mealServiceDietInfo 키 없음: {'RESULT': {'CODE': 'ERROR-300', 'MESSAGE': '필수 값이 누락되어 있습니다. 요청인자를 참고 하십시오.'}}\n",
      "[]\n",
      "7531242 고림고등학교\n",
      "급식 정보 조회 중: 날짜=20241030\n"
     ]
    },
    {
     "name": "stderr",
     "output_type": "stream",
     "text": [
      " ... (more hidden) ..."
     ]
    },
    {
     "name": "stdout",
     "output_type": "stream",
     "text": [
      "mealService 응답코드: 200\n",
      "mealServiceDietInfo 키 없음: {'RESULT': {'CODE': 'ERROR-300', 'MESSAGE': '필수 값이 누락되어 있습니다. 요청인자를 참고 하십시오.'}}\n",
      "[]\n",
      "7530878 고색고등학교\n",
      "급식 정보 조회 중: 날짜=20241030\n",
      "mealService 응답코드: 200\n",
      "mealServiceDietInfo 키 없음: {'RESULT': {'CODE': 'ERROR-300', 'MESSAGE': '필수 값이 누락되어 있습니다. 요청인자를 참고 하십시오.'}}\n",
      "[]\n"
     ]
    },
    {
     "name": "stderr",
     "output_type": "stream",
     "text": [
      " ... (more hidden) ..."
     ]
    },
    {
     "name": "stdout",
     "output_type": "stream",
     "text": [
      "7530576 고양고등학교\n",
      "급식 정보 조회 중: 날짜=20241030\n",
      "mealService 응답코드: 200\n",
      "mealServiceDietInfo 키 없음: {'RESULT': {'CODE': 'ERROR-300', 'MESSAGE': '필수 값이 누락되어 있습니다. 요청인자를 참고 하십시오.'}}\n",
      "[]\n"
     ]
    },
    {
     "name": "stderr",
     "output_type": "stream",
     "text": [
      " ... (more hidden) ..."
     ]
    },
    {
     "name": "stdout",
     "output_type": "stream",
     "text": [
      "7530977 고양국제고등학교\n",
      "급식 정보 조회 중: 날짜=20241030\n",
      "mealService 응답코드: 200\n",
      "mealServiceDietInfo 키 없음: {'RESULT': {'CODE': 'ERROR-300', 'MESSAGE': '필수 값이 누락되어 있습니다. 요청인자를 참고 하십시오.'}}\n",
      "[]\n",
      "7531099 고양동산고등학교\n",
      "급식 정보 조회 중: 날짜=20241030\n"
     ]
    },
    {
     "name": "stderr",
     "output_type": "stream",
     "text": [
      " ... (more hidden) ..."
     ]
    },
    {
     "name": "stdout",
     "output_type": "stream",
     "text": [
      "mealService 응답코드: 200\n",
      "mealServiceDietInfo 키 없음: {'RESULT': {'CODE': 'ERROR-300', 'MESSAGE': '필수 값이 누락되어 있습니다. 요청인자를 참고 하십시오.'}}\n",
      "[]\n",
      "7530777 고양예술고등학교\n",
      "급식 정보 조회 중: 날짜=20241030\n",
      "mealService 응답코드: 200\n",
      "mealServiceDietInfo 키 없음: {'RESULT': {'CODE': 'ERROR-300', 'MESSAGE': '필수 값이 누락되어 있습니다. 요청인자를 참고 하십시오.'}}\n",
      "[]\n"
     ]
    },
    {
     "name": "stderr",
     "output_type": "stream",
     "text": [
      " ... (more hidden) ..."
     ]
    },
    {
     "name": "stdout",
     "output_type": "stream",
     "text": [
      "7530552 고양외국어고등학교\n",
      "급식 정보 조회 중: 날짜=20241030\n",
      "mealService 응답코드: 200\n",
      "mealServiceDietInfo 키 없음: {'RESULT': {'CODE': 'ERROR-300', 'MESSAGE': '필수 값이 누락되어 있습니다. 요청인자를 참고 하십시오.'}}\n",
      "[]\n",
      "7530892 고양일고등학교\n",
      "급식 정보 조회 중: 날짜=20241030\n"
     ]
    },
    {
     "name": "stderr",
     "output_type": "stream",
     "text": [
      " ... (more hidden) ..."
     ]
    },
    {
     "name": "stdout",
     "output_type": "stream",
     "text": [
      "mealService 응답코드: 200\n",
      "mealServiceDietInfo 키 없음: {'RESULT': {'CODE': 'ERROR-300', 'MESSAGE': '필수 값이 누락되어 있습니다. 요청인자를 참고 하십시오.'}}\n",
      "[]\n",
      "7530520 고잔고등학교\n",
      "급식 정보 조회 중: 날짜=20241030\n",
      "mealService 응답코드: 200\n",
      "mealServiceDietInfo 키 없음: {'RESULT': {'CODE': 'ERROR-300', 'MESSAGE': '필수 값이 누락되어 있습니다. 요청인자를 참고 하십시오.'}}\n",
      "[]\n"
     ]
    },
    {
     "name": "stderr",
     "output_type": "stream",
     "text": [
      " ... (more hidden) ..."
     ]
    },
    {
     "name": "stdout",
     "output_type": "stream",
     "text": [
      "7531375 고촌고등학교\n",
      "급식 정보 조회 중: 날짜=20241030\n",
      "mealService 응답코드: 200\n",
      "mealServiceDietInfo 키 없음: {'RESULT': {'CODE': 'ERROR-300', 'MESSAGE': '필수 값이 누락되어 있습니다. 요청인자를 참고 하십시오.'}}\n",
      "[]\n",
      "7531239 곡정고등학교\n",
      "급식 정보 조회 중: 날짜=20241030\n"
     ]
    },
    {
     "name": "stderr",
     "output_type": "stream",
     "text": [
      " ... (more hidden) ..."
     ]
    },
    {
     "name": "stdout",
     "output_type": "stream",
     "text": [
      "mealService 응답코드: 200\n",
      "mealServiceDietInfo 키 없음: {'RESULT': {'CODE': 'ERROR-300', 'MESSAGE': '필수 값이 누락되어 있습니다. 요청인자를 참고 하십시오.'}}\n",
      "[]\n",
      "7530632 곤지암고등학교\n",
      "급식 정보 조회 중: 날짜=20241030\n",
      "mealService 응답코드: 200\n",
      "mealServiceDietInfo 키 없음: {'RESULT': {'CODE': 'ERROR-300', 'MESSAGE': '필수 값이 누락되어 있습니다. 요청인자를 참고 하십시오.'}}\n",
      "[]\n"
     ]
    },
    {
     "name": "stderr",
     "output_type": "stream",
     "text": [
      " ... (more hidden) ..."
     ]
    },
    {
     "name": "stdout",
     "output_type": "stream",
     "text": [
      "7530048 과천고등학교\n",
      "급식 정보 조회 중: 날짜=20241030\n",
      "mealService 응답코드: 200\n",
      "mealServiceDietInfo 키 없음: {'RESULT': {'CODE': 'ERROR-300', 'MESSAGE': '필수 값이 누락되어 있습니다. 요청인자를 참고 하십시오.'}}\n",
      "[]\n",
      "7530145 과천여자고등학교\n",
      "급식 정보 조회 중: 날짜=20241030\n"
     ]
    },
    {
     "name": "stderr",
     "output_type": "stream",
     "text": [
      " ... (more hidden) ..."
     ]
    },
    {
     "name": "stdout",
     "output_type": "stream",
     "text": [
      "mealService 응답코드: 200\n",
      "mealServiceDietInfo 키 없음: {'RESULT': {'CODE': 'ERROR-300', 'MESSAGE': '필수 값이 누락되어 있습니다. 요청인자를 참고 하십시오.'}}\n",
      "[]\n",
      "7530146 과천외국어고등학교\n",
      "급식 정보 조회 중: 날짜=20241030\n",
      "mealService 응답코드: 200\n",
      "mealServiceDietInfo 키 없음: {'RESULT': {'CODE': 'ERROR-300', 'MESSAGE': '필수 값이 누락되어 있습니다. 요청인자를 참고 하십시오.'}}\n",
      "[]\n"
     ]
    },
    {
     "name": "stderr",
     "output_type": "stream",
     "text": [
      " ... (more hidden) ..."
     ]
    },
    {
     "name": "stdout",
     "output_type": "stream",
     "text": [
      "7530469 과천중앙고등학교\n",
      "급식 정보 조회 중: 날짜=20241030\n",
      "mealService 응답코드: 200\n",
      "mealServiceDietInfo 키 없음: {'RESULT': {'CODE': 'ERROR-300', 'MESSAGE': '필수 값이 누락되어 있습니다. 요청인자를 참고 하십시오.'}}\n",
      "[]\n",
      "7530553 관양고등학교\n",
      "급식 정보 조회 중: 날짜=20241030\n",
      "mealService 응답코드: 200\n",
      "mealServiceDietInfo 키 없음: {'RESULT': {'CODE': 'ERROR-300', 'MESSAGE': '필수 값이 누락되어 있습니다. 요청인자를 참고 하십시오.'}}\n",
      "[]\n"
     ]
    },
    {
     "name": "stderr",
     "output_type": "stream",
     "text": [
      " ... (more hidden) ..."
     ]
    },
    {
     "name": "stdout",
     "output_type": "stream",
     "text": [
      "7530049 관인고등학교\n",
      "급식 정보 조회 중: 날짜=20241030\n",
      "mealService 응답코드: 200\n",
      "mealServiceDietInfo 키 없음: {'RESULT': {'CODE': 'ERROR-300', 'MESSAGE': '필수 값이 누락되어 있습니다. 요청인자를 참고 하십시오.'}}\n",
      "[]\n",
      "7531040 광교고등학교\n",
      "급식 정보 조회 중: 날짜=20241030\n"
     ]
    },
    {
     "name": "stderr",
     "output_type": "stream",
     "text": [
      " ... (more hidden) ..."
     ]
    },
    {
     "name": "stdout",
     "output_type": "stream",
     "text": [
      "mealService 응답코드: 200\n",
      "mealServiceDietInfo 키 없음: {'RESULT': {'CODE': 'ERROR-300', 'MESSAGE': '필수 값이 누락되어 있습니다. 요청인자를 참고 하십시오.'}}\n",
      "[]\n",
      "7530885 광남고등학교\n",
      "급식 정보 조회 중: 날짜=20241030\n",
      "mealService 응답코드: 200\n",
      "mealServiceDietInfo 키 없음: {'RESULT': {'CODE': 'ERROR-300', 'MESSAGE': '필수 값이 누락되어 있습니다. 요청인자를 참고 하십시오.'}}\n",
      "[]\n"
     ]
    },
    {
     "name": "stderr",
     "output_type": "stream",
     "text": [
      " ... (more hidden) ..."
     ]
    },
    {
     "name": "stdout",
     "output_type": "stream",
     "text": [
      "7530934 광덕고등학교\n",
      "급식 정보 조회 중: 날짜=20241030\n",
      "mealService 응답코드: 200\n",
      "mealServiceDietInfo 키 없음: {'RESULT': {'CODE': 'ERROR-300', 'MESSAGE': '필수 값이 누락되어 있습니다. 요청인자를 참고 하십시오.'}}\n",
      "[]\n",
      "7530542 광동고등학교\n",
      "급식 정보 조회 중: 날짜=20241030\n",
      "mealService 응답코드: 200\n",
      "mealServiceDietInfo 키 없음: {'RESULT': {'CODE': 'ERROR-300', 'MESSAGE': '필수 값이 누락되어 있습니다. 요청인자를 참고 하십시오.'}}\n",
      "[]\n"
     ]
    },
    {
     "name": "stderr",
     "output_type": "stream",
     "text": [
      " ... (more hidden) ..."
     ]
    },
    {
     "name": "stdout",
     "output_type": "stream",
     "text": [
      "7530050 광명고등학교\n",
      "급식 정보 조회 중: 날짜=20241030\n",
      "mealService 응답코드: 200\n",
      "mealServiceDietInfo 키 없음: {'RESULT': {'CODE': 'ERROR-300', 'MESSAGE': '필수 값이 누락되어 있습니다. 요청인자를 참고 하십시오.'}}\n",
      "[]\n",
      "7530051 광명북고등학교\n",
      "급식 정보 조회 중: 날짜=20241030\n"
     ]
    },
    {
     "name": "stderr",
     "output_type": "stream",
     "text": [
      " ... (more hidden) ..."
     ]
    },
    {
     "name": "stdout",
     "output_type": "stream",
     "text": [
      "mealService 응답코드: 200\n",
      "mealServiceDietInfo 키 없음: {'RESULT': {'CODE': 'ERROR-300', 'MESSAGE': '필수 값이 누락되어 있습니다. 요청인자를 참고 하십시오.'}}\n",
      "[]\n",
      "7530053 광문고등학교\n",
      "급식 정보 조회 중: 날짜=20241030\n",
      "mealService 응답코드: 200\n",
      "mealServiceDietInfo 키 없음: {'RESULT': {'CODE': 'ERROR-300', 'MESSAGE': '필수 값이 누락되어 있습니다. 요청인자를 참고 하십시오.'}}\n",
      "[]\n"
     ]
    },
    {
     "name": "stderr",
     "output_type": "stream",
     "text": [
      " ... (more hidden) ..."
     ]
    },
    {
     "name": "stdout",
     "output_type": "stream",
     "text": [
      "7530521 광주고등학교\n",
      "급식 정보 조회 중: 날짜=20241030\n",
      "mealService 응답코드: 200\n",
      "mealServiceDietInfo 키 없음: {'RESULT': {'CODE': 'ERROR-300', 'MESSAGE': '필수 값이 누락되어 있습니다. 요청인자를 참고 하십시오.'}}\n",
      "[]\n",
      "7530786 광주중앙고등학교\n",
      "급식 정보 조회 중: 날짜=20241030\n"
     ]
    },
    {
     "name": "stderr",
     "output_type": "stream",
     "text": [
      " ... (more hidden) ..."
     ]
    },
    {
     "name": "stdout",
     "output_type": "stream",
     "text": [
      "mealService 응답코드: 200\n",
      "mealServiceDietInfo 키 없음: {'RESULT': {'CODE': 'ERROR-300', 'MESSAGE': '필수 값이 누락되어 있습니다. 요청인자를 참고 하십시오.'}}\n",
      "[]\n",
      "7530838 광탄고등학교\n",
      "급식 정보 조회 중: 날짜=20241030\n",
      "mealService 응답코드: 200\n",
      "mealServiceDietInfo 키 없음: {'RESULT': {'CODE': 'ERROR-300', 'MESSAGE': '필수 값이 누락되어 있습니다. 요청인자를 참고 하십시오.'}}\n",
      "[]\n"
     ]
    },
    {
     "name": "stderr",
     "output_type": "stream",
     "text": [
      " ... (more hidden) ..."
     ]
    },
    {
     "name": "stdout",
     "output_type": "stream",
     "text": [
      "7531100 광휘고등학교\n",
      "급식 정보 조회 중: 날짜=20241030\n",
      "mealService 응답코드: 200\n",
      "mealServiceDietInfo 키 없음: {'RESULT': {'CODE': 'ERROR-300', 'MESSAGE': '필수 값이 누락되어 있습니다. 요청인자를 참고 하십시오.'}}\n",
      "[]\n",
      "7530774 교하고등학교\n",
      "급식 정보 조회 중: 날짜=20241030\n",
      "mealService 응답코드: 200\n",
      "mealServiceDietInfo 키 없음: {'RESULT': {'CODE': 'ERROR-300', 'MESSAGE': '필수 값이 누락되어 있습니다. 요청인자를 참고 하십시오.'}}\n",
      "[]\n"
     ]
    },
    {
     "name": "stderr",
     "output_type": "stream",
     "text": [
      " ... (more hidden) ..."
     ]
    },
    {
     "name": "stdout",
     "output_type": "stream",
     "text": [
      "7530054 구리고등학교\n",
      "급식 정보 조회 중: 날짜=20241030\n",
      "mealService 응답코드: 200\n",
      "mealServiceDietInfo 키 없음: {'RESULT': {'CODE': 'ERROR-300', 'MESSAGE': '필수 값이 누락되어 있습니다. 요청인자를 참고 하십시오.'}}\n",
      "[]\n",
      "7530055 구리여자고등학교\n",
      "급식 정보 조회 중: 날짜=20241030\n",
      "mealService 응답코드: 200\n",
      "mealServiceDietInfo 키 없음: {'RESULT': {'CODE': 'ERROR-300', 'MESSAGE': '필수 값이 누락되어 있습니다. 요청인자를 참고 하십시오.'}}\n",
      "[]\n"
     ]
    },
    {
     "name": "stderr",
     "output_type": "stream",
     "text": [
      " ... (more hidden) ..."
     ]
    },
    {
     "name": "stdout",
     "output_type": "stream",
     "text": [
      "7530611 구성고등학교\n",
      "급식 정보 조회 중: 날짜=20241030\n",
      "mealService 응답코드: 200\n",
      "mealServiceDietInfo 키 없음: {'RESULT': {'CODE': 'ERROR-300', 'MESSAGE': '필수 값이 누락되어 있습니다. 요청인자를 참고 하십시오.'}}\n",
      "[]\n",
      "7530766 군서고등학교\n",
      "급식 정보 조회 중: 날짜=20241030\n"
     ]
    },
    {
     "name": "stderr",
     "output_type": "stream",
     "text": [
      " ... (more hidden) ..."
     ]
    },
    {
     "name": "stdout",
     "output_type": "stream",
     "text": [
      "mealService 응답코드: 200\n",
      "mealServiceDietInfo 키 없음: {'RESULT': {'CODE': 'ERROR-300', 'MESSAGE': '필수 값이 누락되어 있습니다. 요청인자를 참고 하십시오.'}}\n",
      "[]\n",
      "7531293 군자디지털과학고등학교\n",
      "급식 정보 조회 중: 날짜=20241030\n",
      "mealService 응답코드: 200\n",
      "mealServiceDietInfo 키 없음: {'RESULT': {'CODE': 'ERROR-300', 'MESSAGE': '필수 값이 누락되어 있습니다. 요청인자를 참고 하십시오.'}}\n",
      "[]\n"
     ]
    },
    {
     "name": "stderr",
     "output_type": "stream",
     "text": [
      " ... (more hidden) ..."
     ]
    },
    {
     "name": "stdout",
     "output_type": "stream",
     "text": [
      "7530902 군포e비즈니스고등학교\n",
      "급식 정보 조회 중: 날짜=20241030\n",
      "mealService 응답코드: 200\n",
      "mealServiceDietInfo 키 없음: {'RESULT': {'CODE': 'ERROR-300', 'MESSAGE': '필수 값이 누락되어 있습니다. 요청인자를 참고 하십시오.'}}\n",
      "[]\n",
      "7530148 군포고등학교\n",
      "급식 정보 조회 중: 날짜=20241030\n"
     ]
    },
    {
     "name": "stderr",
     "output_type": "stream",
     "text": [
      " ... (more hidden) ..."
     ]
    },
    {
     "name": "stdout",
     "output_type": "stream",
     "text": [
      "mealService 응답코드: 200\n",
      "mealServiceDietInfo 키 없음: {'RESULT': {'CODE': 'ERROR-300', 'MESSAGE': '필수 값이 누락되어 있습니다. 요청인자를 참고 하십시오.'}}\n",
      "[]\n",
      "7531272 군포중앙고등학교\n",
      "급식 정보 조회 중: 날짜=20241030\n",
      "mealService 응답코드: 200\n",
      "mealServiceDietInfo 키 없음: {'RESULT': {'CODE': 'ERROR-300', 'MESSAGE': '필수 값이 누락되어 있습니다. 요청인자를 참고 하십시오.'}}\n",
      "[]\n"
     ]
    },
    {
     "name": "stderr",
     "output_type": "stream",
     "text": [
      " ... (more hidden) ..."
     ]
    },
    {
     "name": "stdout",
     "output_type": "stream",
     "text": [
      "7530057 권선고등학교\n",
      "급식 정보 조회 중: 날짜=20241030\n",
      "mealService 응답코드: 200\n",
      "mealServiceDietInfo 키 없음: {'RESULT': {'CODE': 'ERROR-300', 'MESSAGE': '필수 값이 누락되어 있습니다. 요청인자를 참고 하십시오.'}}\n",
      "[]\n",
      "7531381 근명고등학교\n",
      "급식 정보 조회 중: 날짜=20241030\n"
     ]
    },
    {
     "name": "stderr",
     "output_type": "stream",
     "text": [
      " ... (more hidden) ..."
     ]
    },
    {
     "name": "stdout",
     "output_type": "stream",
     "text": [
      "mealService 응답코드: 200\n",
      "mealServiceDietInfo 키 없음: {'RESULT': {'CODE': 'ERROR-300', 'MESSAGE': '필수 값이 누락되어 있습니다. 요청인자를 참고 하십시오.'}}\n",
      "[]\n",
      "7530629 금곡고등학교\n",
      "급식 정보 조회 중: 날짜=20241030\n",
      "mealService 응답코드: 200\n",
      "mealServiceDietInfo 키 없음: {'RESULT': {'CODE': 'ERROR-300', 'MESSAGE': '필수 값이 누락되어 있습니다. 요청인자를 참고 하십시오.'}}\n",
      "[]\n"
     ]
    },
    {
     "name": "stderr",
     "output_type": "stream",
     "text": [
      " ... (more hidden) ..."
     ]
    },
    {
     "name": "stdout",
     "output_type": "stream",
     "text": [
      "7530656 금촌고등학교\n",
      "급식 정보 조회 중: 날짜=20241030\n",
      "mealService 응답코드: 200\n",
      "mealServiceDietInfo 키 없음: {'RESULT': {'CODE': 'ERROR-300', 'MESSAGE': '필수 값이 누락되어 있습니다. 요청인자를 참고 하십시오.'}}\n",
      "[]\n",
      "7530522 기흥고등학교\n",
      "급식 정보 조회 중: 날짜=20241030\n"
     ]
    },
    {
     "name": "stderr",
     "output_type": "stream",
     "text": [
      " ... (more hidden) ..."
     ]
    },
    {
     "name": "stdout",
     "output_type": "stream",
     "text": [
      "mealService 응답코드: 200\n",
      "mealServiceDietInfo 키 없음: {'RESULT': {'CODE': 'ERROR-300', 'MESSAGE': '필수 값이 누락되어 있습니다. 요청인자를 참고 하십시오.'}}\n",
      "[]\n",
      "7530058 김포고등학교\n",
      "급식 정보 조회 중: 날짜=20241030\n",
      "mealService 응답코드: 200\n",
      "mealServiceDietInfo 키 없음: {'RESULT': {'CODE': 'ERROR-300', 'MESSAGE': '필수 값이 누락되어 있습니다. 요청인자를 참고 하십시오.'}}\n",
      "[]\n"
     ]
    },
    {
     "name": "stderr",
     "output_type": "stream",
     "text": [
      " ... (more hidden) ..."
     ]
    },
    {
     "name": "stdout",
     "output_type": "stream",
     "text": [
      "7531517 김포과학기술고등학교\n",
      "급식 정보 조회 중: 날짜=20241030\n",
      "mealService 응답코드: 200\n",
      "mealServiceDietInfo 키 없음: {'RESULT': {'CODE': 'ERROR-300', 'MESSAGE': '필수 값이 누락되어 있습니다. 요청인자를 참고 하십시오.'}}\n",
      "[]\n",
      "7530745 김포외국어고등학교\n",
      "급식 정보 조회 중: 날짜=20241030\n",
      "mealService 응답코드: 200\n",
      "mealServiceDietInfo 키 없음: {'RESULT': {'CODE': 'ERROR-300', 'MESSAGE': '필수 값이 누락되어 있습니다. 요청인자를 참고 하십시오.'}}\n",
      "[]\n"
     ]
    },
    {
     "name": "stderr",
     "output_type": "stream",
     "text": [
      " ... (more hidden) ..."
     ]
    },
    {
     "name": "stdout",
     "output_type": "stream",
     "text": [
      "7531149 김포제일고등학교\n",
      "급식 정보 조회 중: 날짜=20241030\n",
      "mealService 응답코드: 200\n",
      "mealServiceDietInfo 키 없음: {'RESULT': {'CODE': 'ERROR-300', 'MESSAGE': '필수 값이 누락되어 있습니다. 요청인자를 참고 하십시오.'}}\n",
      "[]\n",
      "7531530 김포호수고등학교\n",
      "급식 정보 조회 중: 날짜=20241030\n"
     ]
    },
    {
     "name": "stderr",
     "output_type": "stream",
     "text": [
      " ... (more hidden) ..."
     ]
    },
    {
     "name": "stdout",
     "output_type": "stream",
     "text": [
      "mealService 응답코드: 200\n",
      "mealServiceDietInfo 키 없음: {'RESULT': {'CODE': 'ERROR-300', 'MESSAGE': '필수 값이 누락되어 있습니다. 요청인자를 참고 하십시오.'}}\n",
      "[]\n",
      "7530880 나루고등학교\n",
      "급식 정보 조회 중: 날짜=20241030\n",
      "mealService 응답코드: 200\n",
      "mealServiceDietInfo 키 없음: {'RESULT': {'CODE': 'ERROR-300', 'MESSAGE': '필수 값이 누락되어 있습니다. 요청인자를 참고 하십시오.'}}\n",
      "[]\n"
     ]
    },
    {
     "name": "stderr",
     "output_type": "stream",
     "text": [
      " ... (more hidden) ..."
     ]
    },
    {
     "name": "stdout",
     "output_type": "stream",
     "text": [
      "7530149 낙생고등학교\n",
      "급식 정보 조회 중: 날짜=20241030\n",
      "mealService 응답코드: 200\n",
      "mealServiceDietInfo 키 없음: {'RESULT': {'CODE': 'ERROR-300', 'MESSAGE': '필수 값이 누락되어 있습니다. 요청인자를 참고 하십시오.'}}\n",
      "[]\n",
      "7530783 남양고등학교\n",
      "급식 정보 조회 중: 날짜=20241030\n"
     ]
    },
    {
     "name": "stderr",
     "output_type": "stream",
     "text": [
      " ... (more hidden) ..."
     ]
    },
    {
     "name": "stdout",
     "output_type": "stream",
     "text": [
      "mealService 응답코드: 200\n",
      "mealServiceDietInfo 키 없음: {'RESULT': {'CODE': 'ERROR-300', 'MESSAGE': '필수 값이 누락되어 있습니다. 요청인자를 참고 하십시오.'}}\n",
      "[]\n",
      "7531425 남양주고등학교\n",
      "급식 정보 조회 중: 날짜=20241030\n",
      "mealService 응답코드: 200\n",
      "mealServiceDietInfo 키 없음: {'RESULT': {'CODE': 'ERROR-300', 'MESSAGE': '필수 값이 누락되어 있습니다. 요청인자를 참고 하십시오.'}}\n",
      "[]\n"
     ]
    },
    {
     "name": "stderr",
     "output_type": "stream",
     "text": [
      " ... (more hidden) ..."
     ]
    },
    {
     "name": "stdout",
     "output_type": "stream",
     "text": [
      "7531376 남양주다산고등학교\n",
      "급식 정보 조회 중: 날짜=20241030\n",
      "mealService 응답코드: 200\n",
      "mealServiceDietInfo 키 없음: {'RESULT': {'CODE': 'ERROR-300', 'MESSAGE': '필수 값이 누락되어 있습니다. 요청인자를 참고 하십시오.'}}\n",
      "[]\n",
      "7530059 남한고등학교\n",
      "급식 정보 조회 중: 날짜=20241030\n",
      "mealService 응답코드: 200\n",
      "mealServiceDietInfo 키 없음: {'RESULT': {'CODE': 'ERROR-300', 'MESSAGE': '필수 값이 누락되어 있습니다. 요청인자를 참고 하십시오.'}}\n",
      "[]\n"
     ]
    },
    {
     "name": "stderr",
     "output_type": "stream",
     "text": [
      " ... (more hidden) ..."
     ]
    },
    {
     "name": "stdout",
     "output_type": "stream",
     "text": [
      "7531527 내손고등학교\n",
      "급식 정보 조회 중: 날짜=20241030\n",
      "mealService 응답코드: 200\n",
      "mealServiceDietInfo 키 없음: {'RESULT': {'CODE': 'ERROR-300', 'MESSAGE': '필수 값이 누락되어 있습니다. 요청인자를 참고 하십시오.'}}\n",
      "[]\n",
      "7530625 늘푸른고등학교\n",
      "급식 정보 조회 중: 날짜=20241030\n"
     ]
    },
    {
     "name": "stderr",
     "output_type": "stream",
     "text": [
      " ... (more hidden) ..."
     ]
    },
    {
     "name": "stdout",
     "output_type": "stream",
     "text": [
      "mealService 응답코드: 200\n",
      "mealServiceDietInfo 키 없음: {'RESULT': {'CODE': 'ERROR-300', 'MESSAGE': '필수 값이 누락되어 있습니다. 요청인자를 참고 하십시오.'}}\n",
      "[]\n",
      "7530060 능곡고등학교\n",
      "급식 정보 조회 중: 날짜=20241030\n",
      "mealService 응답코드: 200\n",
      "mealServiceDietInfo 키 없음: {'RESULT': {'CODE': 'ERROR-300', 'MESSAGE': '필수 값이 누락되어 있습니다. 요청인자를 참고 하십시오.'}}\n",
      "[]\n"
     ]
    },
    {
     "name": "stderr",
     "output_type": "stream",
     "text": [
      " ... (more hidden) ..."
     ]
    },
    {
     "name": "stdout",
     "output_type": "stream",
     "text": [
      "7530942 능동고등학교\n",
      "급식 정보 조회 중: 날짜=20241030\n",
      "mealService 응답코드: 200\n",
      "mealServiceDietInfo 키 없음: {'RESULT': {'CODE': 'ERROR-300', 'MESSAGE': '필수 값이 누락되어 있습니다. 요청인자를 참고 하십시오.'}}\n",
      "[]\n",
      "7530608 다산고등학교\n",
      "급식 정보 조회 중: 날짜=20241030\n",
      "mealService 응답코드: 200\n",
      "mealServiceDietInfo 키 없음: {'RESULT': {'CODE': 'ERROR-300', 'MESSAGE': '필수 값이 누락되어 있습니다. 요청인자를 참고 하십시오.'}}\n",
      "[]\n"
     ]
    },
    {
     "name": "stderr",
     "output_type": "stream",
     "text": [
      " ... (more hidden) ..."
     ]
    },
    {
     "name": "stdout",
     "output_type": "stream",
     "text": [
      "7530654 단원고등학교\n",
      "급식 정보 조회 중: 날짜=20241030\n",
      "mealService 응답코드: 200\n",
      "mealServiceDietInfo 키 없음: {'RESULT': {'CODE': 'ERROR-300', 'MESSAGE': '필수 값이 누락되어 있습니다. 요청인자를 참고 하십시오.'}}\n",
      "[]\n"
     ]
    },
    {
     "name": "stderr",
     "output_type": "stream",
     "text": [
      " ... (more hidden) ..."
     ]
    },
    {
     "name": "stdout",
     "output_type": "stream",
     "text": [
      "7530785 대부고등학교\n",
      "급식 정보 조회 중: 날짜=20241030\n",
      "mealService 응답코드: 200\n",
      "mealServiceDietInfo 키 없음: {'RESULT': {'CODE': 'ERROR-300', 'MESSAGE': '필수 값이 누락되어 있습니다. 요청인자를 참고 하십시오.'}}\n",
      "[]\n",
      "7530150 대신고등학교\n",
      "급식 정보 조회 중: 날짜=20241030\n",
      "mealService 응답코드: 200\n",
      "mealServiceDietInfo 키 없음: {'RESULT': {'CODE': 'ERROR-300', 'MESSAGE': '필수 값이 누락되어 있습니다. 요청인자를 참고 하십시오.'}}\n",
      "[]\n"
     ]
    },
    {
     "name": "stderr",
     "output_type": "stream",
     "text": [
      " ... (more hidden) ..."
     ]
    },
    {
     "name": "stdout",
     "output_type": "stream",
     "text": [
      "7530824 대지고등학교\n",
      "급식 정보 조회 중: 날짜=20241030\n",
      "mealService 응답코드: 200\n",
      "mealServiceDietInfo 키 없음: {'RESULT': {'CODE': 'ERROR-300', 'MESSAGE': '필수 값이 누락되어 있습니다. 요청인자를 참고 하십시오.'}}\n",
      "[]\n",
      "7530554 대평고등학교\n",
      "급식 정보 조회 중: 날짜=20241030\n",
      "mealService 응답코드: 200\n",
      "mealServiceDietInfo 키 없음: {'RESULT': {'CODE': 'ERROR-300', 'MESSAGE': '필수 값이 누락되어 있습니다. 요청인자를 참고 하십시오.'}}\n",
      "[]\n"
     ]
    },
    {
     "name": "stderr",
     "output_type": "stream",
     "text": [
      " ... (more hidden) ..."
     ]
    },
    {
     "name": "stdout",
     "output_type": "stream",
     "text": [
      "7531042 대화고등학교\n",
      "급식 정보 조회 중: 날짜=20241030\n",
      "mealService 응답코드: 200\n",
      "mealServiceDietInfo 키 없음: {'RESULT': {'CODE': 'ERROR-300', 'MESSAGE': '필수 값이 누락되어 있습니다. 요청인자를 참고 하십시오.'}}\n",
      "[]\n",
      "7530619 덕계고등학교\n",
      "급식 정보 조회 중: 날짜=20241030\n"
     ]
    },
    {
     "name": "stderr",
     "output_type": "stream",
     "text": [
      " ... (more hidden) ..."
     ]
    },
    {
     "name": "stdout",
     "output_type": "stream",
     "text": [
      "mealService 응답코드: 200\n",
      "mealServiceDietInfo 키 없음: {'RESULT': {'CODE': 'ERROR-300', 'MESSAGE': '필수 값이 누락되어 있습니다. 요청인자를 참고 하십시오.'}}\n",
      "[]\n",
      "7530555 덕산고등학교\n",
      "급식 정보 조회 중: 날짜=20241030\n",
      "mealService 응답코드: 200\n",
      "mealServiceDietInfo 키 없음: {'RESULT': {'CODE': 'ERROR-300', 'MESSAGE': '필수 값이 누락되어 있습니다. 요청인자를 참고 하십시오.'}}\n",
      "[]\n"
     ]
    },
    {
     "name": "stderr",
     "output_type": "stream",
     "text": [
      " ... (more hidden) ..."
     ]
    },
    {
     "name": "stdout",
     "output_type": "stream",
     "text": [
      "7530151 덕소고등학교\n",
      "급식 정보 조회 중: 날짜=20241030\n",
      "mealService 응답코드: 200\n",
      "mealServiceDietInfo 키 없음: {'RESULT': {'CODE': 'ERROR-300', 'MESSAGE': '필수 값이 누락되어 있습니다. 요청인자를 참고 하십시오.'}}\n",
      "[]\n",
      "7531328 덕영고등학교\n",
      "급식 정보 조회 중: 날짜=20241030\n"
     ]
    },
    {
     "name": "stderr",
     "output_type": "stream",
     "text": [
      " ... (more hidden) ..."
     ]
    },
    {
     "name": "stdout",
     "output_type": "stream",
     "text": [
      "mealService 응답코드: 200\n",
      "mealServiceDietInfo 키 없음: {'RESULT': {'CODE': 'ERROR-300', 'MESSAGE': '필수 값이 누락되어 있습니다. 요청인자를 참고 하십시오.'}}\n",
      "[]\n",
      "7531043 덕이고등학교\n",
      "급식 정보 조회 중: 날짜=20241030\n",
      "mealService 응답코드: 200\n",
      "mealServiceDietInfo 키 없음: {'RESULT': {'CODE': 'ERROR-300', 'MESSAGE': '필수 값이 누락되어 있습니다. 요청인자를 참고 하십시오.'}}\n",
      "[]\n"
     ]
    },
    {
     "name": "stderr",
     "output_type": "stream",
     "text": [
      " ... (more hidden) ..."
     ]
    },
    {
     "name": "stdout",
     "output_type": "stream",
     "text": [
      "7530470 덕정고등학교\n",
      "급식 정보 조회 중: 날짜=20241030\n",
      "mealService 응답코드: 200\n",
      "mealServiceDietInfo 키 없음: {'RESULT': {'CODE': 'ERROR-300', 'MESSAGE': '필수 값이 누락되어 있습니다. 요청인자를 참고 하십시오.'}}\n",
      "[]\n",
      "7530979 덕현고등학교\n",
      "급식 정보 조회 중: 날짜=20241030\n"
     ]
    },
    {
     "name": "stderr",
     "output_type": "stream",
     "text": [
      " ... (more hidden) ..."
     ]
    },
    {
     "name": "stdout",
     "output_type": "stream",
     "text": [
      "mealService 응답코드: 200\n",
      "mealServiceDietInfo 키 없음: {'RESULT': {'CODE': 'ERROR-300', 'MESSAGE': '필수 값이 누락되어 있습니다. 요청인자를 참고 하십시오.'}}\n",
      "[]\n",
      "7530857 도농고등학교\n",
      "급식 정보 조회 중: 날짜=20241030\n"
     ]
    },
    {
     "name": "stderr",
     "output_type": "stream",
     "text": [
      " ... (more hidden) ..."
     ]
    },
    {
     "name": "stdout",
     "output_type": "stream",
     "text": [
      "mealService 응답코드: 200\n",
      "mealServiceDietInfo 키 없음: {'RESULT': {'CODE': 'ERROR-300', 'MESSAGE': '필수 값이 누락되어 있습니다. 요청인자를 참고 하십시오.'}}\n",
      "[]\n",
      "7530471 도당고등학교\n",
      "급식 정보 조회 중: 날짜=20241030\n",
      "mealService 응답코드: 200\n",
      "mealServiceDietInfo 키 없음: {'RESULT': {'CODE': 'ERROR-300', 'MESSAGE': '필수 값이 누락되어 있습니다. 요청인자를 참고 하십시오.'}}\n",
      "[]\n"
     ]
    },
    {
     "name": "stderr",
     "output_type": "stream",
     "text": [
      " ... (more hidden) ..."
     ]
    },
    {
     "name": "stdout",
     "output_type": "stream",
     "text": [
      "7531165 도래울고등학교\n",
      "급식 정보 조회 중: 날짜=20241030\n",
      "mealService 응답코드: 200\n",
      "mealServiceDietInfo 키 없음: {'RESULT': {'CODE': 'ERROR-300', 'MESSAGE': '필수 값이 누락되어 있습니다. 요청인자를 참고 하십시오.'}}\n",
      "[]\n",
      "7530523 돌마고등학교\n",
      "급식 정보 조회 중: 날짜=20241030\n"
     ]
    },
    {
     "name": "stderr",
     "output_type": "stream",
     "text": [
      " ... (more hidden) ..."
     ]
    },
    {
     "name": "stdout",
     "output_type": "stream",
     "text": [
      "mealService 응답코드: 200\n",
      "mealServiceDietInfo 키 없음: {'RESULT': {'CODE': 'ERROR-300', 'MESSAGE': '필수 값이 누락되어 있습니다. 요청인자를 참고 하십시오.'}}\n",
      "[]\n",
      "7530990 동광고등학교\n",
      "급식 정보 조회 중: 날짜=20241030\n",
      "mealService 응답코드: 200\n",
      "mealServiceDietInfo 키 없음: {'RESULT': {'CODE': 'ERROR-300', 'MESSAGE': '필수 값이 누락되어 있습니다. 요청인자를 참고 하십시오.'}}\n",
      "[]\n"
     ]
    },
    {
     "name": "stderr",
     "output_type": "stream",
     "text": [
      " ... (more hidden) ..."
     ]
    },
    {
     "name": "stdout",
     "output_type": "stream",
     "text": [
      "7530999 동국대학교사범대학부속영석고등학교\n",
      "급식 정보 조회 중: 날짜=20241030\n",
      "mealService 응답코드: 200\n",
      "mealServiceDietInfo 키 없음: {'RESULT': {'CODE': 'ERROR-300', 'MESSAGE': '필수 값이 누락되어 있습니다. 요청인자를 참고 하십시오.'}}\n",
      "[]\n",
      "7530484 동남고등학교\n",
      "급식 정보 조회 중: 날짜=20241030\n",
      "mealService 응답코드: 200\n",
      "mealServiceDietInfo 키 없음: {'RESULT': {'CODE': 'ERROR-300', 'MESSAGE': '필수 값이 누락되어 있습니다. 요청인자를 참고 하십시오.'}}\n",
      "[]\n"
     ]
    },
    {
     "name": "stderr",
     "output_type": "stream",
     "text": [
      " ... (more hidden) ..."
     ]
    },
    {
     "name": "stdout",
     "output_type": "stream",
     "text": [
      "7530153 동두천고등학교\n",
      "급식 정보 조회 중: 날짜=20241030\n",
      "mealService 응답코드: 200\n",
      "mealServiceDietInfo 키 없음: {'RESULT': {'CODE': 'ERROR-300', 'MESSAGE': '필수 값이 누락되어 있습니다. 요청인자를 참고 하십시오.'}}\n",
      "[]\n",
      "7530655 동두천외국어고등학교\n",
      "급식 정보 조회 중: 날짜=20241030\n"
     ]
    },
    {
     "name": "stderr",
     "output_type": "stream",
     "text": [
      " ... (more hidden) ..."
     ]
    },
    {
     "name": "stdout",
     "output_type": "stream",
     "text": [
      "mealService 응답코드: 200\n",
      "mealServiceDietInfo 키 없음: {'RESULT': {'CODE': 'ERROR-300', 'MESSAGE': '필수 값이 누락되어 있습니다. 요청인자를 참고 하십시오.'}}\n",
      "[]\n",
      "7530544 동두천중앙고등학교\n",
      "급식 정보 조회 중: 날짜=20241030\n",
      "mealService 응답코드: 200\n",
      "mealServiceDietInfo 키 없음: {'RESULT': {'CODE': 'ERROR-300', 'MESSAGE': '필수 값이 누락되어 있습니다. 요청인자를 참고 하십시오.'}}\n",
      "[]\n"
     ]
    },
    {
     "name": "stderr",
     "output_type": "stream",
     "text": [
      " ... (more hidden) ..."
     ]
    },
    {
     "name": "stdout",
     "output_type": "stream",
     "text": [
      "7530823 동백고등학교\n",
      "급식 정보 조회 중: 날짜=20241030\n",
      "mealService 응답코드: 200\n",
      "mealServiceDietInfo 키 없음: {'RESULT': {'CODE': 'ERROR-300', 'MESSAGE': '필수 값이 누락되어 있습니다. 요청인자를 참고 하십시오.'}}\n",
      "[]\n",
      "7530063 동안고등학교\n",
      "급식 정보 조회 중: 날짜=20241030\n"
     ]
    },
    {
     "name": "stderr",
     "output_type": "stream",
     "text": [
      " ... (more hidden) ..."
     ]
    },
    {
     "name": "stdout",
     "output_type": "stream",
     "text": [
      "mealService 응답코드: 200\n",
      "mealServiceDietInfo 키 없음: {'RESULT': {'CODE': 'ERROR-300', 'MESSAGE': '필수 값이 누락되어 있습니다. 요청인자를 참고 하십시오.'}}\n",
      "[]\n",
      "7530154 동우여자고등학교\n",
      "급식 정보 조회 중: 날짜=20241030\n",
      "mealService 응답코드: 200\n",
      "mealServiceDietInfo 키 없음: {'RESULT': {'CODE': 'ERROR-300', 'MESSAGE': '필수 값이 누락되어 있습니다. 요청인자를 참고 하십시오.'}}\n",
      "[]\n"
     ]
    },
    {
     "name": "stderr",
     "output_type": "stream",
     "text": [
      " ... (more hidden) ..."
     ]
    },
    {
     "name": "stdout",
     "output_type": "stream",
     "text": [
      "7531598 동원동우고등학교\n",
      "급식 정보 조회 중: 날짜=20241030\n",
      "mealService 응답코드: 200\n",
      "mealServiceDietInfo 키 없음: {'RESULT': {'CODE': 'ERROR-300', 'MESSAGE': '필수 값이 누락되어 있습니다. 요청인자를 참고 하십시오.'}}\n",
      "[]\n",
      "7530327 동일공업고등학교\n",
      "급식 정보 조회 중: 날짜=20241030\n"
     ]
    },
    {
     "name": "stderr",
     "output_type": "stream",
     "text": [
      " ... (more hidden) ..."
     ]
    },
    {
     "name": "stdout",
     "output_type": "stream",
     "text": [
      "mealService 응답코드: 200\n",
      "mealServiceDietInfo 키 없음: {'RESULT': {'CODE': 'ERROR-300', 'MESSAGE': '필수 값이 누락되어 있습니다. 요청인자를 참고 하십시오.'}}\n",
      "[]\n",
      "7530820 동탄고등학교\n",
      "급식 정보 조회 중: 날짜=20241030\n",
      "mealService 응답코드: 200\n",
      "mealServiceDietInfo 키 없음: {'RESULT': {'CODE': 'ERROR-300', 'MESSAGE': '필수 값이 누락되어 있습니다. 요청인자를 참고 하십시오.'}}\n",
      "[]\n"
     ]
    },
    {
     "name": "stderr",
     "output_type": "stream",
     "text": [
      " ... (more hidden) ..."
     ]
    },
    {
     "name": "stdout",
     "output_type": "stream",
     "text": [
      "7530976 동탄국제고등학교\n",
      "급식 정보 조회 중: 날짜=20241030\n",
      "mealService 응답코드: 200\n",
      "mealServiceDietInfo 키 없음: {'RESULT': {'CODE': 'ERROR-300', 'MESSAGE': '필수 값이 누락되어 있습니다. 요청인자를 참고 하십시오.'}}\n",
      "[]\n",
      "7531159 동탄중앙고등학교\n",
      "급식 정보 조회 중: 날짜=20241030\n",
      "mealService 응답코드: 200\n",
      "mealServiceDietInfo 키 없음: {'RESULT': {'CODE': 'ERROR-300', 'MESSAGE': '필수 값이 누락되어 있습니다. 요청인자를 참고 하십시오.'}}\n",
      "[]\n"
     ]
    },
    {
     "name": "stderr",
     "output_type": "stream",
     "text": [
      " ... (more hidden) ..."
     ]
    },
    {
     "name": "stdout",
     "output_type": "stream",
     "text": [
      "7530969 동패고등학교\n",
      "급식 정보 조회 중: 날짜=20241030\n",
      "mealService 응답코드: 200\n",
      "mealServiceDietInfo 키 없음: {'RESULT': {'CODE': 'ERROR-300', 'MESSAGE': '필수 값이 누락되어 있습니다. 요청인자를 참고 하십시오.'}}\n",
      "[]\n",
      "7530156 동화고등학교\n",
      "급식 정보 조회 중: 날짜=20241030\n",
      "mealService 응답코드: 200\n",
      "mealServiceDietInfo 키 없음: {'RESULT': {'CODE': 'ERROR-300', 'MESSAGE': '필수 값이 누락되어 있습니다. 요청인자를 참고 하십시오.'}}\n",
      "[]\n"
     ]
    },
    {
     "name": "stderr",
     "output_type": "stream",
     "text": [
      " ... (more hidden) ..."
     ]
    },
    {
     "name": "stdout",
     "output_type": "stream",
     "text": [
      "7530485 두레자연고등학교\n",
      "급식 정보 조회 중: 날짜=20241030\n",
      "mealService 응답코드: 200\n",
      "mealServiceDietInfo 키 없음: {'RESULT': {'CODE': 'ERROR-300', 'MESSAGE': '필수 값이 누락되어 있습니다. 요청인자를 참고 하십시오.'}}\n",
      "[]\n",
      "7531257 두원공업고등학교\n",
      "급식 정보 조회 중: 날짜=20241030\n",
      "mealService 응답코드: 200\n",
      "mealServiceDietInfo 키 없음: {'RESULT': {'CODE': 'ERROR-300', 'MESSAGE': '필수 값이 누락되어 있습니다. 요청인자를 참고 하십시오.'}}\n",
      "[]\n"
     ]
    },
    {
     "name": "stderr",
     "output_type": "stream",
     "text": [
      " ... (more hidden) ..."
     ]
    },
    {
     "name": "stdout",
     "output_type": "stream",
     "text": [
      "7531294 라온고등학교\n",
      "급식 정보 조회 중: 날짜=20241030\n",
      "mealService 응답코드: 200\n",
      "mealServiceDietInfo 키 없음: {'RESULT': {'CODE': 'ERROR-300', 'MESSAGE': '필수 값이 누락되어 있습니다. 요청인자를 참고 하십시오.'}}\n",
      "[]\n",
      "7530972 마석고등학교\n",
      "급식 정보 조회 중: 날짜=20241030\n"
     ]
    },
    {
     "name": "stderr",
     "output_type": "stream",
     "text": [
      " ... (more hidden) ..."
     ]
    },
    {
     "name": "stdout",
     "output_type": "stream",
     "text": [
      "mealService 응답코드: 200\n",
      "mealServiceDietInfo 키 없음: {'RESULT': {'CODE': 'ERROR-300', 'MESSAGE': '필수 값이 누락되어 있습니다. 요청인자를 참고 하십시오.'}}\n",
      "[]\n",
      "7530930 마송고등학교\n",
      "급식 정보 조회 중: 날짜=20241030\n",
      "mealService 응답코드: 200\n",
      "mealServiceDietInfo 키 없음: {'RESULT': {'CODE': 'ERROR-300', 'MESSAGE': '필수 값이 누락되어 있습니다. 요청인자를 참고 하십시오.'}}\n",
      "[]\n"
     ]
    },
    {
     "name": "stderr",
     "output_type": "stream",
     "text": [
      " ... (more hidden) ..."
     ]
    },
    {
     "name": "stdout",
     "output_type": "stream",
     "text": [
      "7530649 마장고등학교\n",
      "급식 정보 조회 중: 날짜=20241030\n",
      "mealService 응답코드: 200\n",
      "mealServiceDietInfo 키 없음: {'RESULT': {'CODE': 'ERROR-300', 'MESSAGE': '필수 값이 누락되어 있습니다. 요청인자를 참고 하십시오.'}}\n",
      "[]\n",
      "7530844 망포고등학교\n",
      "급식 정보 조회 중: 날짜=20241030\n"
     ]
    },
    {
     "name": "stderr",
     "output_type": "stream",
     "text": [
      " ... (more hidden) ..."
     ]
    },
    {
     "name": "stdout",
     "output_type": "stream",
     "text": [
      "mealService 응답코드: 200\n",
      "mealServiceDietInfo 키 없음: {'RESULT': {'CODE': 'ERROR-300', 'MESSAGE': '필수 값이 누락되어 있습니다. 요청인자를 참고 하십시오.'}}\n",
      "[]\n",
      "7530845 매원고등학교\n",
      "급식 정보 조회 중: 날짜=20241030\n",
      "mealService 응답코드: 200\n",
      "mealServiceDietInfo 키 없음: {'RESULT': {'CODE': 'ERROR-300', 'MESSAGE': '필수 값이 누락되어 있습니다. 요청인자를 참고 하십시오.'}}\n",
      "[]\n"
     ]
    },
    {
     "name": "stderr",
     "output_type": "stream",
     "text": [
      " ... (more hidden) ..."
     ]
    },
    {
     "name": "stdout",
     "output_type": "stream",
     "text": [
      "7530652 매탄고등학교\n",
      "급식 정보 조회 중: 날짜=20241030\n",
      "mealService 응답코드: 200\n",
      "mealServiceDietInfo 키 없음: {'RESULT': {'CODE': 'ERROR-300', 'MESSAGE': '필수 값이 누락되어 있습니다. 요청인자를 참고 하십시오.'}}\n",
      "[]\n"
     ]
    },
    {
     "name": "stderr",
     "output_type": "stream",
     "text": [
      " ... (more hidden) ..."
     ]
    },
    {
     "name": "stdout",
     "output_type": "stream",
     "text": [
      "7530497 매향여자정보고등학교\n",
      "급식 정보 조회 중: 날짜=20241030\n",
      "mealService 응답코드: 200\n",
      "mealServiceDietInfo 키 없음: {'RESULT': {'CODE': 'ERROR-300', 'MESSAGE': '필수 값이 누락되어 있습니다. 요청인자를 참고 하십시오.'}}\n",
      "[]\n",
      "7531139 매홀고등학교\n",
      "급식 정보 조회 중: 날짜=20241030\n"
     ]
    },
    {
     "name": "stderr",
     "output_type": "stream",
     "text": [
      " ... (more hidden) ..."
     ]
    },
    {
     "name": "stdout",
     "output_type": "stream",
     "text": [
      "mealService 응답코드: 200\n",
      "mealServiceDietInfo 키 없음: {'RESULT': {'CODE': 'ERROR-300', 'MESSAGE': '필수 값이 누락되어 있습니다. 요청인자를 참고 하십시오.'}}\n",
      "[]\n",
      "7530628 명문고등학교\n",
      "급식 정보 조회 중: 날짜=20241030\n",
      "mealService 응답코드: 200\n",
      "mealServiceDietInfo 키 없음: {'RESULT': {'CODE': 'ERROR-300', 'MESSAGE': '필수 값이 누락되어 있습니다. 요청인자를 참고 하십시오.'}}\n",
      "[]\n"
     ]
    },
    {
     "name": "stderr",
     "output_type": "stream",
     "text": [
      " ... (more hidden) ..."
     ]
    },
    {
     "name": "stdout",
     "output_type": "stream",
     "text": [
      "7531108 모락고등학교\n",
      "급식 정보 조회 중: 날짜=20241030\n",
      "mealService 응답코드: 200\n",
      "mealServiceDietInfo 키 없음: {'RESULT': {'CODE': 'ERROR-300', 'MESSAGE': '필수 값이 누락되어 있습니다. 요청인자를 참고 하십시오.'}}\n",
      "[]\n",
      "7531370 목감고등학교\n",
      "급식 정보 조회 중: 날짜=20241030\n",
      "mealService 응답코드: 200\n",
      "mealServiceDietInfo 키 없음: {'RESULT': {'CODE': 'ERROR-300', 'MESSAGE': '필수 값이 누락되어 있습니다. 요청인자를 참고 하십시오.'}}\n"
     ]
    },
    {
     "name": "stderr",
     "output_type": "stream",
     "text": [
      " ... (more hidden) ..."
     ]
    },
    {
     "name": "stdout",
     "output_type": "stream",
     "text": [
      "[]\n",
      "7530064 무원고등학교\n",
      "급식 정보 조회 중: 날짜=20241030\n",
      "mealService 응답코드: 200\n",
      "mealServiceDietInfo 키 없음: {'RESULT': {'CODE': 'ERROR-300', 'MESSAGE': '필수 값이 누락되어 있습니다. 요청인자를 참고 하십시오.'}}\n",
      "[]\n"
     ]
    },
    {
     "name": "stderr",
     "output_type": "stream",
     "text": [
      " ... (more hidden) ..."
     ]
    },
    {
     "name": "stdout",
     "output_type": "stream",
     "text": [
      "7530065 문산고등학교\n",
      "급식 정보 조회 중: 날짜=20241030\n",
      "mealService 응답코드: 200\n",
      "mealServiceDietInfo 키 없음: {'RESULT': {'CODE': 'ERROR-300', 'MESSAGE': '필수 값이 누락되어 있습니다. 요청인자를 참고 하십시오.'}}\n",
      "[]\n",
      "7531236 문산수억고등학교\n",
      "급식 정보 조회 중: 날짜=20241030\n"
     ]
    },
    {
     "name": "stderr",
     "output_type": "stream",
     "text": [
      " ... (more hidden) ..."
     ]
    },
    {
     "name": "stdout",
     "output_type": "stream",
     "text": [
      "mealService 응답코드: 200\n",
      "mealServiceDietInfo 키 없음: {'RESULT': {'CODE': 'ERROR-300', 'MESSAGE': '필수 값이 누락되어 있습니다. 요청인자를 참고 하십시오.'}}\n",
      "[]\n",
      "7530630 문산제일고등학교\n",
      "급식 정보 조회 중: 날짜=20241030\n",
      "mealService 응답코드: 200\n",
      "mealServiceDietInfo 키 없음: {'RESULT': {'CODE': 'ERROR-300', 'MESSAGE': '필수 값이 누락되어 있습니다. 요청인자를 참고 하십시오.'}}\n",
      "[]\n"
     ]
    },
    {
     "name": "stderr",
     "output_type": "stream",
     "text": [
      " ... (more hidden) ..."
     ]
    },
    {
     "name": "stdout",
     "output_type": "stream",
     "text": [
      "7531244 미사강변고등학교\n",
      "급식 정보 조회 중: 날짜=20241030\n",
      "mealService 응답코드: 200\n",
      "mealServiceDietInfo 키 없음: {'RESULT': {'CODE': 'ERROR-300', 'MESSAGE': '필수 값이 누락되어 있습니다. 요청인자를 참고 하십시오.'}}\n",
      "[]\n",
      "7531163 미사고등학교\n",
      "급식 정보 조회 중: 날짜=20241030\n"
     ]
    },
    {
     "name": "stderr",
     "output_type": "stream",
     "text": [
      " ... (more hidden) ..."
     ]
    },
    {
     "name": "stdout",
     "output_type": "stream",
     "text": [
      "mealService 응답코드: 200\n",
      "mealServiceDietInfo 키 없음: {'RESULT': {'CODE': 'ERROR-300', 'MESSAGE': '필수 값이 누락되어 있습니다. 요청인자를 참고 하십시오.'}}\n",
      "[]\n",
      "7530847 반송고등학교\n",
      "급식 정보 조회 중: 날짜=20241030\n",
      "mealService 응답코드: 200\n",
      "mealServiceDietInfo 키 없음: {'RESULT': {'CODE': 'ERROR-300', 'MESSAGE': '필수 값이 누락되어 있습니다. 요청인자를 참고 하십시오.'}}\n",
      "[]\n"
     ]
    },
    {
     "name": "stderr",
     "output_type": "stream",
     "text": [
      " ... (more hidden) ..."
     ]
    },
    {
     "name": "stdout",
     "output_type": "stream",
     "text": [
      "7530933 발곡고등학교\n",
      "급식 정보 조회 중: 날짜=20241030\n",
      "mealService 응답코드: 200\n",
      "mealServiceDietInfo 키 없음: {'RESULT': {'CODE': 'ERROR-300', 'MESSAGE': '필수 값이 누락되어 있습니다. 요청인자를 참고 하십시오.'}}\n",
      "[]\n",
      "7530904 발안바이오과학고등학교\n",
      "급식 정보 조회 중: 날짜=20241030\n"
     ]
    },
    {
     "name": "stderr",
     "output_type": "stream",
     "text": [
      " ... (more hidden) ..."
     ]
    },
    {
     "name": "stdout",
     "output_type": "stream",
     "text": [
      "mealService 응답코드: 200\n",
      "mealServiceDietInfo 키 없음: {'RESULT': {'CODE': 'ERROR-300', 'MESSAGE': '필수 값이 누락되어 있습니다. 요청인자를 참고 하십시오.'}}\n",
      "[]\n",
      "7531246 배곧고등학교\n",
      "급식 정보 조회 중: 날짜=20241030\n",
      "mealService 응답코드: 200\n",
      "mealServiceDietInfo 키 없음: {'RESULT': {'CODE': 'ERROR-300', 'MESSAGE': '필수 값이 누락되어 있습니다. 요청인자를 참고 하십시오.'}}\n",
      "[]\n"
     ]
    },
    {
     "name": "stderr",
     "output_type": "stream",
     "text": [
      " ... (more hidden) ..."
     ]
    },
    {
     "name": "stdout",
     "output_type": "stream",
     "text": [
      "7530066 백마고등학교\n",
      "급식 정보 조회 중: 날짜=20241030\n",
      "mealService 응답코드: 200\n",
      "mealServiceDietInfo 키 없음: {'RESULT': {'CODE': 'ERROR-300', 'MESSAGE': '필수 값이 누락되어 있습니다. 요청인자를 참고 하십시오.'}}\n",
      "[]\n",
      "7530067 백석고등학교\n",
      "급식 정보 조회 중: 날짜=20241030\n"
     ]
    },
    {
     "name": "stderr",
     "output_type": "stream",
     "text": [
      " ... (more hidden) ..."
     ]
    },
    {
     "name": "stdout",
     "output_type": "stream",
     "text": [
      "mealService 응답코드: 200\n",
      "mealServiceDietInfo 키 없음: {'RESULT': {'CODE': 'ERROR-300', 'MESSAGE': '필수 값이 누락되어 있습니다. 요청인자를 참고 하십시오.'}}\n",
      "[]\n",
      "7531057 백송고등학교\n",
      "급식 정보 조회 중: 날짜=20241030\n",
      "mealService 응답코드: 200\n",
      "mealServiceDietInfo 키 없음: {'RESULT': {'CODE': 'ERROR-300', 'MESSAGE': '필수 값이 누락되어 있습니다. 요청인자를 참고 하십시오.'}}\n",
      "[]\n"
     ]
    },
    {
     "name": "stderr",
     "output_type": "stream",
     "text": [
      " ... (more hidden) ..."
     ]
    },
    {
     "name": "stdout",
     "output_type": "stream",
     "text": [
      "7530068 백신고등학교\n",
      "급식 정보 조회 중: 날짜=20241030\n",
      "mealService 응답코드: 200\n",
      "mealServiceDietInfo 키 없음: {'RESULT': {'CODE': 'ERROR-300', 'MESSAGE': '필수 값이 누락되어 있습니다. 요청인자를 참고 하십시오.'}}\n",
      "[]\n",
      "7530650 백암고등학교\n",
      "급식 정보 조회 중: 날짜=20241030\n"
     ]
    },
    {
     "name": "stderr",
     "output_type": "stream",
     "text": [
      " ... (more hidden) ..."
     ]
    },
    {
     "name": "stdout",
     "output_type": "stream",
     "text": [
      "mealService 응답코드: 200\n",
      "mealServiceDietInfo 키 없음: {'RESULT': {'CODE': 'ERROR-300', 'MESSAGE': '필수 값이 누락되어 있습니다. 요청인자를 참고 하십시오.'}}\n",
      "[]\n",
      "7530472 백양고등학교\n",
      "급식 정보 조회 중: 날짜=20241030\n",
      "mealService 응답코드: 200\n",
      "mealServiceDietInfo 키 없음: {'RESULT': {'CODE': 'ERROR-300', 'MESSAGE': '필수 값이 누락되어 있습니다. 요청인자를 참고 하십시오.'}}\n",
      "[]\n"
     ]
    },
    {
     "name": "stderr",
     "output_type": "stream",
     "text": [
      " ... (more hidden) ..."
     ]
    },
    {
     "name": "stdout",
     "output_type": "stream",
     "text": [
      "7530157 백영고등학교\n",
      "급식 정보 조회 중: 날짜=20241030\n",
      "mealService 응답코드: 200\n",
      "mealServiceDietInfo 키 없음: {'RESULT': {'CODE': 'ERROR-300', 'MESSAGE': '필수 값이 누락되어 있습니다. 요청인자를 참고 하십시오.'}}\n",
      "[]\n",
      "7530069 백운고등학교\n",
      "급식 정보 조회 중: 날짜=20241030\n"
     ]
    },
    {
     "name": "stderr",
     "output_type": "stream",
     "text": [
      " ... (more hidden) ..."
     ]
    },
    {
     "name": "stdout",
     "output_type": "stream",
     "text": [
      "mealService 응답코드: 200\n",
      "mealServiceDietInfo 키 없음: {'RESULT': {'CODE': 'ERROR-300', 'MESSAGE': '필수 값이 누락되어 있습니다. 요청인자를 참고 하십시오.'}}\n",
      "[]\n",
      "7530763 범박고등학교\n",
      "급식 정보 조회 중: 날짜=20241030\n",
      "mealService 응답코드: 200\n",
      "mealServiceDietInfo 키 없음: {'RESULT': {'CODE': 'ERROR-300', 'MESSAGE': '필수 값이 누락되어 있습니다. 요청인자를 참고 하십시오.'}}\n",
      "[]\n"
     ]
    },
    {
     "name": "stderr",
     "output_type": "stream",
     "text": [
      " ... (more hidden) ..."
     ]
    },
    {
     "name": "stdout",
     "output_type": "stream",
     "text": [
      "7531247 별가람고등학교\n",
      "급식 정보 조회 중: 날짜=20241030\n",
      "mealService 응답코드: 200\n",
      "mealServiceDietInfo 키 없음: {'RESULT': {'CODE': 'ERROR-300', 'MESSAGE': '필수 값이 누락되어 있습니다. 요청인자를 참고 하십시오.'}}\n",
      "[]\n",
      "7531113 별내고등학교\n",
      "급식 정보 조회 중: 날짜=20241030\n"
     ]
    },
    {
     "name": "stderr",
     "output_type": "stream",
     "text": [
      " ... (more hidden) ..."
     ]
    },
    {
     "name": "stdout",
     "output_type": "stream",
     "text": [
      "mealService 응답코드: 200\n",
      "mealServiceDietInfo 키 없음: {'RESULT': {'CODE': 'ERROR-300', 'MESSAGE': '필수 값이 누락되어 있습니다. 요청인자를 참고 하십시오.'}}\n",
      "[]\n",
      "7530627 병점고등학교\n",
      "급식 정보 조회 중: 날짜=20241030\n",
      "mealService 응답코드: 200\n",
      "mealServiceDietInfo 키 없음: {'RESULT': {'CODE': 'ERROR-300', 'MESSAGE': '필수 값이 누락되어 있습니다. 요청인자를 참고 하십시오.'}}\n",
      "[]\n"
     ]
    },
    {
     "name": "stderr",
     "output_type": "stream",
     "text": [
      " ... (more hidden) ..."
     ]
    },
    {
     "name": "stdout",
     "output_type": "stream",
     "text": [
      "7530882 보라고등학교\n",
      "급식 정보 조회 중: 날짜=20241030\n",
      "mealService 응답코드: 200\n",
      "mealServiceDietInfo 키 없음: {'RESULT': {'CODE': 'ERROR-300', 'MESSAGE': '필수 값이 누락되어 있습니다. 요청인자를 참고 하십시오.'}}\n",
      "[]\n",
      "7530658 보정고등학교\n",
      "급식 정보 조회 중: 날짜=20241030\n"
     ]
    },
    {
     "name": "stderr",
     "output_type": "stream",
     "text": [
      " ... (more hidden) ..."
     ]
    },
    {
     "name": "stdout",
     "output_type": "stream",
     "text": [
      "mealService 응답코드: 200\n",
      "mealServiceDietInfo 키 없음: {'RESULT': {'CODE': 'ERROR-300', 'MESSAGE': '필수 값이 누락되어 있습니다. 요청인자를 참고 하십시오.'}}\n",
      "[]\n",
      "7530921 보평고등학교\n",
      "급식 정보 조회 중: 날짜=20241030\n",
      "mealService 응답코드: 200\n",
      "mealServiceDietInfo 키 없음: {'RESULT': {'CODE': 'ERROR-300', 'MESSAGE': '필수 값이 누락되어 있습니다. 요청인자를 참고 하십시오.'}}\n",
      "[]\n"
     ]
    },
    {
     "name": "stderr",
     "output_type": "stream",
     "text": [
      " ... (more hidden) ..."
     ]
    },
    {
     "name": "stdout",
     "output_type": "stream",
     "text": [
      "7530940 복정고등학교\n",
      "급식 정보 조회 중: 날짜=20241030\n",
      "mealService 응답코드: 200\n",
      "mealServiceDietInfo 키 없음: {'RESULT': {'CODE': 'ERROR-300', 'MESSAGE': '필수 값이 누락되어 있습니다. 요청인자를 참고 하십시오.'}}\n",
      "[]\n",
      "7530848 봉담고등학교\n",
      "급식 정보 조회 중: 날짜=20241030\n",
      "mealService 응답코드: 200\n",
      "mealServiceDietInfo 키 없음: {'RESULT': {'CODE': 'ERROR-300', 'MESSAGE': '필수 값이 누락되어 있습니다. 요청인자를 참고 하십시오.'}}\n",
      "[]\n"
     ]
    },
    {
     "name": "stderr",
     "output_type": "stream",
     "text": [
      " ... (more hidden) ..."
     ]
    },
    {
     "name": "stdout",
     "output_type": "stream",
     "text": [
      "7530825 봉일천고등학교\n",
      "급식 정보 조회 중: 날짜=20241030\n",
      "mealService 응답코드: 200\n",
      "mealServiceDietInfo 키 없음: {'RESULT': {'CODE': 'ERROR-300', 'MESSAGE': '필수 값이 누락되어 있습니다. 요청인자를 참고 하십시오.'}}\n",
      "[]\n",
      "7531106 부곡고등학교\n",
      "급식 정보 조회 중: 날짜=20241030\n"
     ]
    },
    {
     "name": "stderr",
     "output_type": "stream",
     "text": [
      " ... (more hidden) ..."
     ]
    },
    {
     "name": "stdout",
     "output_type": "stream",
     "text": [
      "mealService 응답코드: 200\n",
      "mealServiceDietInfo 키 없음: {'RESULT': {'CODE': 'ERROR-300', 'MESSAGE': '필수 값이 누락되어 있습니다. 요청인자를 참고 하십시오.'}}\n",
      "[]\n",
      "7530070 부명고등학교\n",
      "급식 정보 조회 중: 날짜=20241030\n",
      "mealService 응답코드: 200\n",
      "mealServiceDietInfo 키 없음: {'RESULT': {'CODE': 'ERROR-300', 'MESSAGE': '필수 값이 누락되어 있습니다. 요청인자를 참고 하십시오.'}}\n",
      "[]\n"
     ]
    },
    {
     "name": "stderr",
     "output_type": "stream",
     "text": [
      " ... (more hidden) ..."
     ]
    },
    {
     "name": "stdout",
     "output_type": "stream",
     "text": [
      "7530575 부용고등학교\n",
      "급식 정보 조회 중: 날짜=20241030\n",
      "mealService 응답코드: 200\n",
      "mealServiceDietInfo 키 없음: {'RESULT': {'CODE': 'ERROR-300', 'MESSAGE': '필수 값이 누락되어 있습니다. 요청인자를 참고 하십시오.'}}\n",
      "[]\n",
      "7530842 부원고등학교\n",
      "급식 정보 조회 중: 날짜=20241030\n"
     ]
    },
    {
     "name": "stderr",
     "output_type": "stream",
     "text": [
      " ... (more hidden) ..."
     ]
    },
    {
     "name": "stdout",
     "output_type": "stream",
     "text": [
      "mealService 응답코드: 200\n",
      "mealServiceDietInfo 키 없음: {'RESULT': {'CODE': 'ERROR-300', 'MESSAGE': '필수 값이 누락되어 있습니다. 요청인자를 참고 하십시오.'}}\n",
      "[]\n",
      "7530071 부천고등학교\n",
      "급식 정보 조회 중: 날짜=20241030\n",
      "mealService 응답코드: 200\n",
      "mealServiceDietInfo 키 없음: {'RESULT': {'CODE': 'ERROR-300', 'MESSAGE': '필수 값이 누락되어 있습니다. 요청인자를 참고 하십시오.'}}\n",
      "[]\n"
     ]
    },
    {
     "name": "stderr",
     "output_type": "stream",
     "text": [
      " ... (more hidden) ..."
     ]
    },
    {
     "name": "stdout",
     "output_type": "stream",
     "text": [
      "7530254 부천공업고등학교\n",
      "급식 정보 조회 중: 날짜=20241030\n",
      "mealService 응답코드: 200\n",
      "mealServiceDietInfo 키 없음: {'RESULT': {'CODE': 'ERROR-300', 'MESSAGE': '필수 값이 누락되어 있습니다. 요청인자를 참고 하십시오.'}}\n",
      "[]\n",
      "7530072 부천북고등학교\n",
      "급식 정보 조회 중: 날짜=20241030\n"
     ]
    },
    {
     "name": "stderr",
     "output_type": "stream",
     "text": [
      " ... (more hidden) ..."
     ]
    },
    {
     "name": "stdout",
     "output_type": "stream",
     "text": [
      "mealService 응답코드: 200\n",
      "mealServiceDietInfo 키 없음: {'RESULT': {'CODE': 'ERROR-300', 'MESSAGE': '필수 값이 누락되어 있습니다. 요청인자를 참고 하십시오.'}}\n",
      "[]\n",
      "7530073 부천여자고등학교\n",
      "급식 정보 조회 중: 날짜=20241030\n",
      "mealService 응답코드: 200\n",
      "mealServiceDietInfo 키 없음: {'RESULT': {'CODE': 'ERROR-300', 'MESSAGE': '필수 값이 누락되어 있습니다. 요청인자를 참고 하십시오.'}}\n",
      "[]\n"
     ]
    },
    {
     "name": "stderr",
     "output_type": "stream",
     "text": [
      " ... (more hidden) ..."
     ]
    },
    {
     "name": "stdout",
     "output_type": "stream",
     "text": [
      "7530256 부천정보산업고등학교\n",
      "급식 정보 조회 중: 날짜=20241030\n",
      "mealService 응답코드: 200\n",
      "mealServiceDietInfo 키 없음: {'RESULT': {'CODE': 'ERROR-300', 'MESSAGE': '필수 값이 누락되어 있습니다. 요청인자를 참고 하십시오.'}}\n",
      "[]\n",
      "7530074 부흥고등학교\n",
      "급식 정보 조회 중: 날짜=20241030\n"
     ]
    },
    {
     "name": "stderr",
     "output_type": "stream",
     "text": [
      " ... (more hidden) ..."
     ]
    },
    {
     "name": "stdout",
     "output_type": "stream",
     "text": [
      "mealService 응답코드: 200\n",
      "mealServiceDietInfo 키 없음: {'RESULT': {'CODE': 'ERROR-300', 'MESSAGE': '필수 값이 누락되어 있습니다. 요청인자를 참고 하십시오.'}}\n",
      "[]\n",
      "7531114 분당경영고등학교\n",
      "급식 정보 조회 중: 날짜=20241030\n",
      "mealService 응답코드: 200\n",
      "mealServiceDietInfo 키 없음: {'RESULT': {'CODE': 'ERROR-300', 'MESSAGE': '필수 값이 누락되어 있습니다. 요청인자를 참고 하십시오.'}}\n",
      "[]\n"
     ]
    },
    {
     "name": "stderr",
     "output_type": "stream",
     "text": [
      " ... (more hidden) ..."
     ]
    },
    {
     "name": "stdout",
     "output_type": "stream",
     "text": [
      "7530075 분당고등학교\n",
      "급식 정보 조회 중: 날짜=20241030\n",
      "mealService 응답코드: 200\n",
      "mealServiceDietInfo 키 없음: {'RESULT': {'CODE': 'ERROR-300', 'MESSAGE': '필수 값이 누락되어 있습니다. 요청인자를 참고 하십시오.'}}\n",
      "[]\n",
      "7530160 분당대진고등학교\n",
      "급식 정보 조회 중: 날짜=20241030\n",
      "mealService 응답코드: 200\n",
      "mealServiceDietInfo 키 없음: {'RESULT': {'CODE': 'ERROR-300', 'MESSAGE': '필수 값이 누락되어 있습니다. 요청인자를 참고 하십시오.'}}\n",
      "[]\n"
     ]
    },
    {
     "name": "stderr",
     "output_type": "stream",
     "text": [
      " ... (more hidden) ..."
     ]
    },
    {
     "name": "stdout",
     "output_type": "stream",
     "text": [
      "7531423 분당아람고등학교\n",
      "급식 정보 조회 중: 날짜=20241030\n",
      "mealService 응답코드: 200\n",
      "mealServiceDietInfo 키 없음: {'RESULT': {'CODE': 'ERROR-300', 'MESSAGE': '필수 값이 누락되어 있습니다. 요청인자를 참고 하십시오.'}}\n",
      "[]\n",
      "7530598 분당영덕여자고등학교\n",
      "급식 정보 조회 중: 날짜=20241030\n"
     ]
    },
    {
     "name": "stderr",
     "output_type": "stream",
     "text": [
      " ... (more hidden) ..."
     ]
    },
    {
     "name": "stdout",
     "output_type": "stream",
     "text": [
      "mealService 응답코드: 200\n",
      "mealServiceDietInfo 키 없음: {'RESULT': {'CODE': 'ERROR-300', 'MESSAGE': '필수 값이 누락되어 있습니다. 요청인자를 참고 하십시오.'}}\n",
      "[]\n",
      "7530076 분당중앙고등학교\n",
      "급식 정보 조회 중: 날짜=20241030\n",
      "mealService 응답코드: 200\n",
      "mealServiceDietInfo 키 없음: {'RESULT': {'CODE': 'ERROR-300', 'MESSAGE': '필수 값이 누락되어 있습니다. 요청인자를 참고 하십시오.'}}\n",
      "[]\n"
     ]
    },
    {
     "name": "stderr",
     "output_type": "stream",
     "text": [
      " ... (more hidden) ..."
     ]
    },
    {
     "name": "stdout",
     "output_type": "stream",
     "text": [
      "7530077 불곡고등학교\n",
      "급식 정보 조회 중: 날짜=20241030\n",
      "mealService 응답코드: 200\n",
      "mealServiceDietInfo 키 없음: {'RESULT': {'CODE': 'ERROR-300', 'MESSAGE': '필수 값이 누락되어 있습니다. 요청인자를 참고 하십시오.'}}\n",
      "[]\n",
      "7530603 비봉고등학교\n",
      "급식 정보 조회 중: 날짜=20241030\n"
     ]
    },
    {
     "name": "stderr",
     "output_type": "stream",
     "text": [
      " ... (more hidden) ..."
     ]
    },
    {
     "name": "stdout",
     "output_type": "stream",
     "text": [
      "mealService 응답코드: 200\n",
      "mealServiceDietInfo 키 없음: {'RESULT': {'CODE': 'ERROR-300', 'MESSAGE': '필수 값이 누락되어 있습니다. 요청인자를 참고 하십시오.'}}\n",
      "[]\n",
      "7531109 비전고등학교\n",
      "급식 정보 조회 중: 날짜=20241030\n",
      "mealService 응답코드: 200\n",
      "mealServiceDietInfo 키 없음: {'RESULT': {'CODE': 'ERROR-300', 'MESSAGE': '필수 값이 누락되어 있습니다. 요청인자를 참고 하십시오.'}}\n",
      "[]\n"
     ]
    },
    {
     "name": "stderr",
     "output_type": "stream",
     "text": [
      " ... (more hidden) ...\n"
     ]
    },
    {
     "name": "stdout",
     "output_type": "stream",
     "text": [
      "7530474 사우고등학교\n",
      "급식 정보 조회 중: 날짜=20241030\n",
      "mealService 응답코드: 200\n",
      "mealServiceDietInfo 키 없음: {'RESULT': {'CODE': 'ERROR-300', 'MESSAGE': '필수 값이 누락되어 있습니다. 요청인자를 참고 하십시오.'}}\n",
      "[]\n",
      "응답코드 : 200\n"
     ]
    },
    {
     "name": "stderr",
     "output_type": "stream",
     "text": [
      " ... (more hidden) ..."
     ]
    },
    {
     "name": "stdout",
     "output_type": "stream",
     "text": [
      "7801089 가곡고등학교\n",
      "급식 정보 조회 중: 날짜=20241030\n",
      "mealService 응답코드: 200\n",
      "mealServiceDietInfo 키 없음: {'RESULT': {'CODE': 'ERROR-300', 'MESSAGE': '필수 값이 누락되어 있습니다. 요청인자를 참고 하십시오.'}}\n",
      "[]\n",
      "7801090 간동고등학교\n",
      "급식 정보 조회 중: 날짜=20241030\n"
     ]
    },
    {
     "name": "stderr",
     "output_type": "stream",
     "text": [
      " ... (more hidden) ..."
     ]
    },
    {
     "name": "stdout",
     "output_type": "stream",
     "text": [
      "mealService 응답코드: 200\n",
      "mealServiceDietInfo 키 없음: {'RESULT': {'CODE': 'ERROR-300', 'MESSAGE': '필수 값이 누락되어 있습니다. 요청인자를 참고 하십시오.'}}\n",
      "[]\n",
      "7801091 갑천고등학교\n",
      "급식 정보 조회 중: 날짜=20241030\n",
      "mealService 응답코드: 200\n",
      "mealServiceDietInfo 키 없음: {'RESULT': {'CODE': 'ERROR-300', 'MESSAGE': '필수 값이 누락되어 있습니다. 요청인자를 참고 하십시오.'}}\n",
      "[]\n"
     ]
    },
    {
     "name": "stderr",
     "output_type": "stream",
     "text": [
      " ... (more hidden) ..."
     ]
    },
    {
     "name": "stdout",
     "output_type": "stream",
     "text": [
      "7801092 강릉고등학교\n",
      "급식 정보 조회 중: 날짜=20241030\n",
      "mealService 응답코드: 200\n",
      "mealServiceDietInfo 키 없음: {'RESULT': {'CODE': 'ERROR-300', 'MESSAGE': '필수 값이 누락되어 있습니다. 요청인자를 참고 하십시오.'}}\n",
      "[]\n",
      "7801093 강릉명륜고등학교\n",
      "급식 정보 조회 중: 날짜=20241030\n"
     ]
    },
    {
     "name": "stderr",
     "output_type": "stream",
     "text": [
      " ... (more hidden) ..."
     ]
    },
    {
     "name": "stdout",
     "output_type": "stream",
     "text": [
      "mealService 응답코드: 200\n",
      "mealServiceDietInfo 키 없음: {'RESULT': {'CODE': 'ERROR-300', 'MESSAGE': '필수 값이 누락되어 있습니다. 요청인자를 참고 하십시오.'}}\n",
      "[]\n",
      "7801094 강릉문성고등학교\n",
      "급식 정보 조회 중: 날짜=20241030\n",
      "mealService 응답코드: 200\n",
      "mealServiceDietInfo 키 없음: {'RESULT': {'CODE': 'ERROR-300', 'MESSAGE': '필수 값이 누락되어 있습니다. 요청인자를 참고 하십시오.'}}\n",
      "[]\n"
     ]
    },
    {
     "name": "stderr",
     "output_type": "stream",
     "text": [
      " ... (more hidden) ..."
     ]
    },
    {
     "name": "stdout",
     "output_type": "stream",
     "text": [
      "7801095 강릉여자고등학교\n",
      "급식 정보 조회 중: 날짜=20241030\n",
      "mealService 응답코드: 200\n",
      "mealServiceDietInfo 키 없음: {'RESULT': {'CODE': 'ERROR-300', 'MESSAGE': '필수 값이 누락되어 있습니다. 요청인자를 참고 하십시오.'}}\n",
      "[]\n",
      "7801096 강릉정보공업고등학교\n",
      "급식 정보 조회 중: 날짜=20241030\n"
     ]
    },
    {
     "name": "stderr",
     "output_type": "stream",
     "text": [
      " ... (more hidden) ..."
     ]
    },
    {
     "name": "stdout",
     "output_type": "stream",
     "text": [
      "mealService 응답코드: 200\n",
      "mealServiceDietInfo 키 없음: {'RESULT': {'CODE': 'ERROR-300', 'MESSAGE': '필수 값이 누락되어 있습니다. 요청인자를 참고 하십시오.'}}\n",
      "[]\n",
      "7801097 강릉제일고등학교\n",
      "급식 정보 조회 중: 날짜=20241030\n",
      "mealService 응답코드: 200\n",
      "mealServiceDietInfo 키 없음: {'RESULT': {'CODE': 'ERROR-300', 'MESSAGE': '필수 값이 누락되어 있습니다. 요청인자를 참고 하십시오.'}}\n",
      "[]\n"
     ]
    },
    {
     "name": "stderr",
     "output_type": "stream",
     "text": [
      " ... (more hidden) ..."
     ]
    },
    {
     "name": "stdout",
     "output_type": "stream",
     "text": [
      "7801099 강릉중앙고등학교\n",
      "급식 정보 조회 중: 날짜=20241030\n",
      "mealService 응답코드: 200\n",
      "mealServiceDietInfo 키 없음: {'RESULT': {'CODE': 'ERROR-300', 'MESSAGE': '필수 값이 누락되어 있습니다. 요청인자를 참고 하십시오.'}}\n",
      "[]\n",
      "7801100 강원고등학교\n",
      "급식 정보 조회 중: 날짜=20241030\n"
     ]
    },
    {
     "name": "stderr",
     "output_type": "stream",
     "text": [
      " ... (more hidden) ..."
     ]
    },
    {
     "name": "stdout",
     "output_type": "stream",
     "text": [
      "mealService 응답코드: 200\n",
      "mealServiceDietInfo 키 없음: {'RESULT': {'CODE': 'ERROR-300', 'MESSAGE': '필수 값이 누락되어 있습니다. 요청인자를 참고 하십시오.'}}\n",
      "[]\n",
      "7801101 강원과학고등학교\n",
      "급식 정보 조회 중: 날짜=20241030\n",
      "mealService 응답코드: 200\n",
      "mealServiceDietInfo 키 없음: {'RESULT': {'CODE': 'ERROR-300', 'MESSAGE': '필수 값이 누락되어 있습니다. 요청인자를 참고 하십시오.'}}\n",
      "[]\n"
     ]
    },
    {
     "name": "stderr",
     "output_type": "stream",
     "text": [
      " ... (more hidden) ..."
     ]
    },
    {
     "name": "stdout",
     "output_type": "stream",
     "text": [
      "7004207 강원대학교사범대학부설고등학교\n",
      "급식 정보 조회 중: 날짜=20241030\n",
      "mealService 응답코드: 200\n",
      "mealServiceDietInfo 키 없음: {'RESULT': {'CODE': 'ERROR-300', 'MESSAGE': '필수 값이 누락되어 있습니다. 요청인자를 참고 하십시오.'}}\n",
      "[]\n",
      "7801102 강원생명과학고등학교\n",
      "급식 정보 조회 중: 날짜=20241030\n"
     ]
    },
    {
     "name": "stderr",
     "output_type": "stream",
     "text": [
      " ... (more hidden) ..."
     ]
    },
    {
     "name": "stdout",
     "output_type": "stream",
     "text": [
      "mealService 응답코드: 200\n",
      "mealServiceDietInfo 키 없음: {'RESULT': {'CODE': 'ERROR-300', 'MESSAGE': '필수 값이 누락되어 있습니다. 요청인자를 참고 하십시오.'}}\n",
      "[]\n",
      "7801103 강원생활과학고등학교\n",
      "급식 정보 조회 중: 날짜=20241030\n",
      "mealService 응답코드: 200\n",
      "mealServiceDietInfo 키 없음: {'RESULT': {'CODE': 'ERROR-300', 'MESSAGE': '필수 값이 누락되어 있습니다. 요청인자를 참고 하십시오.'}}\n",
      "[]\n"
     ]
    },
    {
     "name": "stderr",
     "output_type": "stream",
     "text": [
      " ... (more hidden) ..."
     ]
    },
    {
     "name": "stdout",
     "output_type": "stream",
     "text": [
      "7801104 강원애니고등학교\n",
      "급식 정보 조회 중: 날짜=20241030\n",
      "mealService 응답코드: 200\n",
      "mealServiceDietInfo 키 없음: {'RESULT': {'CODE': 'ERROR-300', 'MESSAGE': '필수 값이 누락되어 있습니다. 요청인자를 참고 하십시오.'}}\n",
      "[]\n",
      "7801105 강원예술고등학교\n",
      "급식 정보 조회 중: 날짜=20241030\n",
      "mealService 응답코드: 200\n",
      "mealServiceDietInfo 키 없음: {'RESULT': {'CODE': 'ERROR-300', 'MESSAGE': '필수 값이 누락되어 있습니다. 요청인자를 참고 하십시오.'}}\n",
      "[]\n"
     ]
    },
    {
     "name": "stderr",
     "output_type": "stream",
     "text": [
      " ... (more hidden) ..."
     ]
    },
    {
     "name": "stdout",
     "output_type": "stream",
     "text": [
      "7801106 강원외국어고등학교\n",
      "급식 정보 조회 중: 날짜=20241030\n",
      "mealService 응답코드: 200\n",
      "mealServiceDietInfo 키 없음: {'RESULT': {'CODE': 'ERROR-300', 'MESSAGE': '필수 값이 누락되어 있습니다. 요청인자를 참고 하십시오.'}}\n",
      "[]\n"
     ]
    },
    {
     "name": "stderr",
     "output_type": "stream",
     "text": [
      " ... (more hidden) ..."
     ]
    },
    {
     "name": "stdout",
     "output_type": "stream",
     "text": [
      "7801107 강원체육고등학교\n",
      "급식 정보 조회 중: 날짜=20241030\n",
      "mealService 응답코드: 200\n",
      "mealServiceDietInfo 키 없음: {'RESULT': {'CODE': 'ERROR-300', 'MESSAGE': '필수 값이 누락되어 있습니다. 요청인자를 참고 하십시오.'}}\n",
      "[]\n"
     ]
    },
    {
     "name": "stderr",
     "output_type": "stream",
     "text": [
      " ... (more hidden) ..."
     ]
    },
    {
     "name": "stdout",
     "output_type": "stream",
     "text": [
      "7801108 강일여자고등학교\n",
      "급식 정보 조회 중: 날짜=20241030\n",
      "mealService 응답코드: 200\n",
      "mealServiceDietInfo 키 없음: {'RESULT': {'CODE': 'ERROR-300', 'MESSAGE': '필수 값이 누락되어 있습니다. 요청인자를 참고 하십시오.'}}\n",
      "[]\n",
      "7801109 거진고등학교\n",
      "급식 정보 조회 중: 날짜=20241030\n"
     ]
    },
    {
     "name": "stderr",
     "output_type": "stream",
     "text": [
      " ... (more hidden) ..."
     ]
    },
    {
     "name": "stdout",
     "output_type": "stream",
     "text": [
      "mealService 응답코드: 200\n",
      "mealServiceDietInfo 키 없음: {'RESULT': {'CODE': 'ERROR-300', 'MESSAGE': '필수 값이 누락되어 있습니다. 요청인자를 참고 하십시오.'}}\n",
      "[]\n",
      "7801110 경포고등학교\n",
      "급식 정보 조회 중: 날짜=20241030\n",
      "mealService 응답코드: 200\n",
      "mealServiceDietInfo 키 없음: {'RESULT': {'CODE': 'ERROR-300', 'MESSAGE': '필수 값이 누락되어 있습니다. 요청인자를 참고 하십시오.'}}\n",
      "[]\n"
     ]
    },
    {
     "name": "stderr",
     "output_type": "stream",
     "text": [
      " ... (more hidden) ..."
     ]
    },
    {
     "name": "stdout",
     "output_type": "stream",
     "text": [
      "7801111 고성고등학교\n",
      "급식 정보 조회 중: 날짜=20241030\n",
      "mealService 응답코드: 200\n",
      "mealServiceDietInfo 키 없음: {'RESULT': {'CODE': 'ERROR-300', 'MESSAGE': '필수 값이 누락되어 있습니다. 요청인자를 참고 하십시오.'}}\n",
      "[]\n",
      "7801112 고한고등학교\n",
      "급식 정보 조회 중: 날짜=20241030\n"
     ]
    },
    {
     "name": "stderr",
     "output_type": "stream",
     "text": [
      " ... (more hidden) ..."
     ]
    },
    {
     "name": "stdout",
     "output_type": "stream",
     "text": [
      "mealService 응답코드: 200\n",
      "mealServiceDietInfo 키 없음: {'RESULT': {'CODE': 'ERROR-300', 'MESSAGE': '필수 값이 누락되어 있습니다. 요청인자를 참고 하십시오.'}}\n",
      "[]\n",
      "7801113 기린고등학교\n",
      "급식 정보 조회 중: 날짜=20241030\n",
      "mealService 응답코드: 200\n",
      "mealServiceDietInfo 키 없음: {'RESULT': {'CODE': 'ERROR-300', 'MESSAGE': '필수 값이 누락되어 있습니다. 요청인자를 참고 하십시오.'}}\n",
      "[]\n"
     ]
    },
    {
     "name": "stderr",
     "output_type": "stream",
     "text": [
      " ... (more hidden) ..."
     ]
    },
    {
     "name": "stdout",
     "output_type": "stream",
     "text": [
      "7801114 김화고등학교\n",
      "급식 정보 조회 중: 날짜=20241030\n",
      "mealService 응답코드: 200\n",
      "mealServiceDietInfo 키 없음: {'RESULT': {'CODE': 'ERROR-300', 'MESSAGE': '필수 값이 누락되어 있습니다. 요청인자를 참고 하십시오.'}}\n",
      "[]\n",
      "7801115 김화공업고등학교\n",
      "급식 정보 조회 중: 날짜=20241030\n"
     ]
    },
    {
     "name": "stderr",
     "output_type": "stream",
     "text": [
      " ... (more hidden) ..."
     ]
    },
    {
     "name": "stdout",
     "output_type": "stream",
     "text": [
      "mealService 응답코드: 200\n",
      "mealServiceDietInfo 키 없음: {'RESULT': {'CODE': 'ERROR-300', 'MESSAGE': '필수 값이 누락되어 있습니다. 요청인자를 참고 하십시오.'}}\n",
      "[]\n",
      "7801116 내면고등학교\n",
      "급식 정보 조회 중: 날짜=20241030\n",
      "mealService 응답코드: 200\n",
      "mealServiceDietInfo 키 없음: {'RESULT': {'CODE': 'ERROR-300', 'MESSAGE': '필수 값이 누락되어 있습니다. 요청인자를 참고 하십시오.'}}\n",
      "[]\n"
     ]
    },
    {
     "name": "stderr",
     "output_type": "stream",
     "text": [
      " ... (more hidden) ..."
     ]
    },
    {
     "name": "stdout",
     "output_type": "stream",
     "text": [
      "7801117 대성고등학교\n",
      "급식 정보 조회 중: 날짜=20241030\n",
      "mealService 응답코드: 200\n",
      "mealServiceDietInfo 키 없음: {'RESULT': {'CODE': 'ERROR-300', 'MESSAGE': '필수 값이 누락되어 있습니다. 요청인자를 참고 하십시오.'}}\n",
      "[]\n",
      "7801118 대진고등학교\n",
      "급식 정보 조회 중: 날짜=20241030\n"
     ]
    },
    {
     "name": "stderr",
     "output_type": "stream",
     "text": [
      " ... (more hidden) ..."
     ]
    },
    {
     "name": "stdout",
     "output_type": "stream",
     "text": [
      "mealService 응답코드: 200\n",
      "mealServiceDietInfo 키 없음: {'RESULT': {'CODE': 'ERROR-300', 'MESSAGE': '필수 값이 누락되어 있습니다. 요청인자를 참고 하십시오.'}}\n",
      "[]\n",
      "7801119 대화고등학교\n",
      "급식 정보 조회 중: 날짜=20241030\n",
      "mealService 응답코드: 200\n",
      "mealServiceDietInfo 키 없음: {'RESULT': {'CODE': 'ERROR-300', 'MESSAGE': '필수 값이 누락되어 있습니다. 요청인자를 참고 하십시오.'}}\n",
      "[]\n"
     ]
    },
    {
     "name": "stderr",
     "output_type": "stream",
     "text": [
      " ... (more hidden) ..."
     ]
    },
    {
     "name": "stdout",
     "output_type": "stream",
     "text": [
      "7801120 도계고등학교\n",
      "급식 정보 조회 중: 날짜=20241030\n",
      "mealService 응답코드: 200\n",
      "mealServiceDietInfo 키 없음: {'RESULT': {'CODE': 'ERROR-300', 'MESSAGE': '필수 값이 누락되어 있습니다. 요청인자를 참고 하십시오.'}}\n",
      "[]\n",
      "7801121 도계전산정보고등학교\n",
      "급식 정보 조회 중: 날짜=20241030\n"
     ]
    },
    {
     "name": "stderr",
     "output_type": "stream",
     "text": [
      " ... (more hidden) ..."
     ]
    },
    {
     "name": "stdout",
     "output_type": "stream",
     "text": [
      "mealService 응답코드: 200\n",
      "mealServiceDietInfo 키 없음: {'RESULT': {'CODE': 'ERROR-300', 'MESSAGE': '필수 값이 누락되어 있습니다. 요청인자를 참고 하십시오.'}}\n",
      "[]\n",
      "7801122 동광산업과학고등학교\n",
      "급식 정보 조회 중: 날짜=20241030\n",
      "mealService 응답코드: 200\n",
      "mealServiceDietInfo 키 없음: {'RESULT': {'CODE': 'ERROR-300', 'MESSAGE': '필수 값이 누락되어 있습니다. 요청인자를 참고 하십시오.'}}\n",
      "[]\n"
     ]
    },
    {
     "name": "stderr",
     "output_type": "stream",
     "text": [
      " ... (more hidden) ..."
     ]
    },
    {
     "name": "stdout",
     "output_type": "stream",
     "text": [
      "7801123 동해광희고등학교\n",
      "급식 정보 조회 중: 날짜=20241030\n",
      "mealService 응답코드: 200\n",
      "mealServiceDietInfo 키 없음: {'RESULT': {'CODE': 'ERROR-300', 'MESSAGE': '필수 값이 누락되어 있습니다. 요청인자를 참고 하십시오.'}}\n",
      "[]\n",
      "7801124 동해삼육고등학교\n",
      "급식 정보 조회 중: 날짜=20241030\n"
     ]
    },
    {
     "name": "stderr",
     "output_type": "stream",
     "text": [
      " ... (more hidden) ..."
     ]
    },
    {
     "name": "stdout",
     "output_type": "stream",
     "text": [
      "mealService 응답코드: 200\n",
      "mealServiceDietInfo 키 없음: {'RESULT': {'CODE': 'ERROR-300', 'MESSAGE': '필수 값이 누락되어 있습니다. 요청인자를 참고 하십시오.'}}\n",
      "[]\n",
      "7801125 동해상업고등학교\n",
      "급식 정보 조회 중: 날짜=20241030\n",
      "mealService 응답코드: 200\n",
      "mealServiceDietInfo 키 없음: {'RESULT': {'CODE': 'ERROR-300', 'MESSAGE': '필수 값이 누락되어 있습니다. 요청인자를 참고 하십시오.'}}\n",
      "[]\n"
     ]
    },
    {
     "name": "stderr",
     "output_type": "stream",
     "text": [
      " ... (more hidden) ..."
     ]
    },
    {
     "name": "stdout",
     "output_type": "stream",
     "text": [
      "7801126 둔내고등학교\n",
      "급식 정보 조회 중: 날짜=20241030\n",
      "mealService 응답코드: 200\n",
      "mealServiceDietInfo 키 없음: {'RESULT': {'CODE': 'ERROR-300', 'MESSAGE': '필수 값이 누락되어 있습니다. 요청인자를 참고 하십시오.'}}\n",
      "[]\n",
      "7801127 마차고등학교\n",
      "급식 정보 조회 중: 날짜=20241030\n"
     ]
    },
    {
     "name": "stderr",
     "output_type": "stream",
     "text": [
      " ... (more hidden) ..."
     ]
    },
    {
     "name": "stdout",
     "output_type": "stream",
     "text": [
      "mealService 응답코드: 200\n",
      "mealServiceDietInfo 키 없음: {'RESULT': {'CODE': 'ERROR-300', 'MESSAGE': '필수 값이 누락되어 있습니다. 요청인자를 참고 하십시오.'}}\n",
      "[]\n",
      "7801128 묵호고등학교\n",
      "급식 정보 조회 중: 날짜=20241030\n",
      "mealService 응답코드: 200\n",
      "mealServiceDietInfo 키 없음: {'RESULT': {'CODE': 'ERROR-300', 'MESSAGE': '필수 값이 누락되어 있습니다. 요청인자를 참고 하십시오.'}}\n",
      "[]\n"
     ]
    },
    {
     "name": "stderr",
     "output_type": "stream",
     "text": [
      " ... (more hidden) ..."
     ]
    },
    {
     "name": "stdout",
     "output_type": "stream",
     "text": [
      "7801130 문막고등학교\n",
      "급식 정보 조회 중: 날짜=20241030\n",
      "mealService 응답코드: 200\n",
      "mealServiceDietInfo 키 없음: {'RESULT': {'CODE': 'ERROR-300', 'MESSAGE': '필수 값이 누락되어 있습니다. 요청인자를 참고 하십시오.'}}\n",
      "[]\n",
      "7801131 미래고등학교\n",
      "급식 정보 조회 중: 날짜=20241030\n",
      "mealService 응답코드: 200\n",
      "mealServiceDietInfo 키 없음: {'RESULT': {'CODE': 'ERROR-300', 'MESSAGE': '필수 값이 누락되어 있습니다. 요청인자를 참고 하십시오.'}}\n",
      "[]\n"
     ]
    },
    {
     "name": "stderr",
     "output_type": "stream",
     "text": [
      " ... (more hidden) ..."
     ]
    },
    {
     "name": "stdout",
     "output_type": "stream",
     "text": [
      "7801132 민족사관고등학교\n",
      "급식 정보 조회 중: 날짜=20241030\n",
      "mealService 응답코드: 200\n",
      "mealServiceDietInfo 키 없음: {'RESULT': {'CODE': 'ERROR-300', 'MESSAGE': '필수 값이 누락되어 있습니다. 요청인자를 참고 하십시오.'}}\n",
      "[]\n",
      "7801133 봉의고등학교\n",
      "급식 정보 조회 중: 날짜=20241030\n"
     ]
    },
    {
     "name": "stderr",
     "output_type": "stream",
     "text": [
      " ... (more hidden) ..."
     ]
    },
    {
     "name": "stdout",
     "output_type": "stream",
     "text": [
      "mealService 응답코드: 200\n",
      "mealServiceDietInfo 키 없음: {'RESULT': {'CODE': 'ERROR-300', 'MESSAGE': '필수 값이 누락되어 있습니다. 요청인자를 참고 하십시오.'}}\n",
      "[]\n",
      "7801134 봉평고등학교\n",
      "급식 정보 조회 중: 날짜=20241030\n",
      "mealService 응답코드: 200\n",
      "mealServiceDietInfo 키 없음: {'RESULT': {'CODE': 'ERROR-300', 'MESSAGE': '필수 값이 누락되어 있습니다. 요청인자를 참고 하십시오.'}}\n",
      "[]\n"
     ]
    },
    {
     "name": "stderr",
     "output_type": "stream",
     "text": [
      " ... (more hidden) ..."
     ]
    },
    {
     "name": "stdout",
     "output_type": "stream",
     "text": [
      "7801135 북원여자고등학교\n",
      "급식 정보 조회 중: 날짜=20241030\n",
      "mealService 응답코드: 200\n",
      "mealServiceDietInfo 키 없음: {'RESULT': {'CODE': 'ERROR-300', 'MESSAGE': '필수 값이 누락되어 있습니다. 요청인자를 참고 하십시오.'}}\n",
      "[]\n",
      "7801136 북평고등학교\n",
      "급식 정보 조회 중: 날짜=20241030\n"
     ]
    },
    {
     "name": "stderr",
     "output_type": "stream",
     "text": [
      " ... (more hidden) ..."
     ]
    },
    {
     "name": "stdout",
     "output_type": "stream",
     "text": [
      "mealService 응답코드: 200\n",
      "mealServiceDietInfo 키 없음: {'RESULT': {'CODE': 'ERROR-300', 'MESSAGE': '필수 값이 누락되어 있습니다. 요청인자를 참고 하십시오.'}}\n",
      "[]\n",
      "7801137 북평여자고등학교\n",
      "급식 정보 조회 중: 날짜=20241030\n",
      "mealService 응답코드: 200\n",
      "mealServiceDietInfo 키 없음: {'RESULT': {'CODE': 'ERROR-300', 'MESSAGE': '필수 값이 누락되어 있습니다. 요청인자를 참고 하십시오.'}}\n",
      "[]\n"
     ]
    },
    {
     "name": "stderr",
     "output_type": "stream",
     "text": [
      " ... (more hidden) ..."
     ]
    },
    {
     "name": "stdout",
     "output_type": "stream",
     "text": [
      "7801138 사내고등학교\n",
      "급식 정보 조회 중: 날짜=20241030\n",
      "mealService 응답코드: 200\n",
      "mealServiceDietInfo 키 없음: {'RESULT': {'CODE': 'ERROR-300', 'MESSAGE': '필수 값이 누락되어 있습니다. 요청인자를 참고 하십시오.'}}\n",
      "[]\n"
     ]
    },
    {
     "name": "stderr",
     "output_type": "stream",
     "text": [
      " ... (more hidden) ..."
     ]
    },
    {
     "name": "stdout",
     "output_type": "stream",
     "text": [
      "7801139 사북고등학교\n",
      "급식 정보 조회 중: 날짜=20241030\n",
      "mealService 응답코드: 200\n",
      "mealServiceDietInfo 키 없음: {'RESULT': {'CODE': 'ERROR-300', 'MESSAGE': '필수 값이 누락되어 있습니다. 요청인자를 참고 하십시오.'}}\n",
      "[]\n",
      "7801140 삼일고등학교\n",
      "급식 정보 조회 중: 날짜=20241030\n"
     ]
    },
    {
     "name": "stderr",
     "output_type": "stream",
     "text": [
      " ... (more hidden) ..."
     ]
    },
    {
     "name": "stdout",
     "output_type": "stream",
     "text": [
      "mealService 응답코드: 200\n",
      "mealServiceDietInfo 키 없음: {'RESULT': {'CODE': 'ERROR-300', 'MESSAGE': '필수 값이 누락되어 있습니다. 요청인자를 참고 하십시오.'}}\n",
      "[]\n",
      "7801141 삼척고등학교\n",
      "급식 정보 조회 중: 날짜=20241030\n",
      "mealService 응답코드: 200\n",
      "mealServiceDietInfo 키 없음: {'RESULT': {'CODE': 'ERROR-300', 'MESSAGE': '필수 값이 누락되어 있습니다. 요청인자를 참고 하십시오.'}}\n",
      "[]\n"
     ]
    },
    {
     "name": "stderr",
     "output_type": "stream",
     "text": [
      " ... (more hidden) ..."
     ]
    },
    {
     "name": "stdout",
     "output_type": "stream",
     "text": [
      "7801142 삼척여자고등학교\n",
      "급식 정보 조회 중: 날짜=20241030\n",
      "mealService 응답코드: 200\n",
      "mealServiceDietInfo 키 없음: {'RESULT': {'CODE': 'ERROR-300', 'MESSAGE': '필수 값이 누락되어 있습니다. 요청인자를 참고 하십시오.'}}\n",
      "[]\n",
      "7801143 상동고등학교\n",
      "급식 정보 조회 중: 날짜=20241030\n"
     ]
    },
    {
     "name": "stderr",
     "output_type": "stream",
     "text": [
      " ... (more hidden) ..."
     ]
    },
    {
     "name": "stdout",
     "output_type": "stream",
     "text": [
      "mealService 응답코드: 200\n",
      "mealServiceDietInfo 키 없음: {'RESULT': {'CODE': 'ERROR-300', 'MESSAGE': '필수 값이 누락되어 있습니다. 요청인자를 참고 하십시오.'}}\n",
      "[]\n",
      "7801144 상지대관령고등학교\n",
      "급식 정보 조회 중: 날짜=20241030\n",
      "mealService 응답코드: 200\n",
      "mealServiceDietInfo 키 없음: {'RESULT': {'CODE': 'ERROR-300', 'MESSAGE': '필수 값이 누락되어 있습니다. 요청인자를 참고 하십시오.'}}\n",
      "[]\n"
     ]
    },
    {
     "name": "stderr",
     "output_type": "stream",
     "text": [
      " ... (more hidden) ..."
     ]
    },
    {
     "name": "stdout",
     "output_type": "stream",
     "text": [
      "7801145 상지여자고등학교\n",
      "급식 정보 조회 중: 날짜=20241030\n",
      "mealService 응답코드: 200\n",
      "mealServiceDietInfo 키 없음: {'RESULT': {'CODE': 'ERROR-300', 'MESSAGE': '필수 값이 누락되어 있습니다. 요청인자를 참고 하십시오.'}}\n",
      "[]\n",
      "7801146 서석고등학교\n",
      "급식 정보 조회 중: 날짜=20241030\n"
     ]
    },
    {
     "name": "stderr",
     "output_type": "stream",
     "text": [
      " ... (more hidden) ..."
     ]
    },
    {
     "name": "stdout",
     "output_type": "stream",
     "text": [
      "mealService 응답코드: 200\n",
      "mealServiceDietInfo 키 없음: {'RESULT': {'CODE': 'ERROR-300', 'MESSAGE': '필수 값이 누락되어 있습니다. 요청인자를 참고 하십시오.'}}\n",
      "[]\n",
      "7801147 석정여자고등학교\n",
      "급식 정보 조회 중: 날짜=20241030\n",
      "mealService 응답코드: 200\n",
      "mealServiceDietInfo 키 없음: {'RESULT': {'CODE': 'ERROR-300', 'MESSAGE': '필수 값이 누락되어 있습니다. 요청인자를 참고 하십시오.'}}\n",
      "[]\n"
     ]
    },
    {
     "name": "stderr",
     "output_type": "stream",
     "text": [
      " ... (more hidden) ..."
     ]
    },
    {
     "name": "stdout",
     "output_type": "stream",
     "text": [
      "7801148 설악고등학교\n",
      "급식 정보 조회 중: 날짜=20241030\n",
      "mealService 응답코드: 200\n",
      "mealServiceDietInfo 키 없음: {'RESULT': {'CODE': 'ERROR-300', 'MESSAGE': '필수 값이 누락되어 있습니다. 요청인자를 참고 하십시오.'}}\n",
      "[]\n",
      "7801233 섬강고등학교\n",
      "급식 정보 조회 중: 날짜=20241030\n"
     ]
    },
    {
     "name": "stderr",
     "output_type": "stream",
     "text": [
      " ... (more hidden) ..."
     ]
    },
    {
     "name": "stdout",
     "output_type": "stream",
     "text": [
      "mealService 응답코드: 200\n",
      "mealServiceDietInfo 키 없음: {'RESULT': {'CODE': 'ERROR-300', 'MESSAGE': '필수 값이 누락되어 있습니다. 요청인자를 참고 하십시오.'}}\n",
      "[]\n",
      "7801150 성수고등학교\n",
      "급식 정보 조회 중: 날짜=20241030\n",
      "mealService 응답코드: 200\n",
      "mealServiceDietInfo 키 없음: {'RESULT': {'CODE': 'ERROR-300', 'MESSAGE': '필수 값이 누락되어 있습니다. 요청인자를 참고 하십시오.'}}\n",
      "[]\n"
     ]
    },
    {
     "name": "stderr",
     "output_type": "stream",
     "text": [
      " ... (more hidden) ..."
     ]
    },
    {
     "name": "stdout",
     "output_type": "stream",
     "text": [
      "7801151 성수여자고등학교\n",
      "급식 정보 조회 중: 날짜=20241030\n",
      "mealService 응답코드: 200\n",
      "mealServiceDietInfo 키 없음: {'RESULT': {'CODE': 'ERROR-300', 'MESSAGE': '필수 값이 누락되어 있습니다. 요청인자를 참고 하십시오.'}}\n",
      "[]\n",
      "7801152 속초고등학교\n",
      "급식 정보 조회 중: 날짜=20241030\n"
     ]
    },
    {
     "name": "stderr",
     "output_type": "stream",
     "text": [
      " ... (more hidden) ..."
     ]
    },
    {
     "name": "stdout",
     "output_type": "stream",
     "text": [
      "mealService 응답코드: 200\n",
      "mealServiceDietInfo 키 없음: {'RESULT': {'CODE': 'ERROR-300', 'MESSAGE': '필수 값이 누락되어 있습니다. 요청인자를 참고 하십시오.'}}\n",
      "[]\n",
      "7801153 속초여자고등학교\n",
      "급식 정보 조회 중: 날짜=20241030\n",
      "mealService 응답코드: 200\n",
      "mealServiceDietInfo 키 없음: {'RESULT': {'CODE': 'ERROR-300', 'MESSAGE': '필수 값이 누락되어 있습니다. 요청인자를 참고 하십시오.'}}\n",
      "[]\n"
     ]
    },
    {
     "name": "stderr",
     "output_type": "stream",
     "text": [
      " ... (more hidden) ..."
     ]
    },
    {
     "name": "stdout",
     "output_type": "stream",
     "text": [
      "7801154 신남고등학교\n",
      "급식 정보 조회 중: 날짜=20241030\n",
      "mealService 응답코드: 200\n",
      "mealServiceDietInfo 키 없음: {'RESULT': {'CODE': 'ERROR-300', 'MESSAGE': '필수 값이 누락되어 있습니다. 요청인자를 참고 하십시오.'}}\n",
      "[]\n",
      "7801155 신철원고등학교\n",
      "급식 정보 조회 중: 날짜=20241030\n"
     ]
    },
    {
     "name": "stderr",
     "output_type": "stream",
     "text": [
      " ... (more hidden) ..."
     ]
    },
    {
     "name": "stdout",
     "output_type": "stream",
     "text": [
      "mealService 응답코드: 200\n",
      "mealServiceDietInfo 키 없음: {'RESULT': {'CODE': 'ERROR-300', 'MESSAGE': '필수 값이 누락되어 있습니다. 요청인자를 참고 하십시오.'}}\n",
      "[]\n",
      "7801156 안흥고등학교\n",
      "급식 정보 조회 중: 날짜=20241030\n",
      "mealService 응답코드: 200\n",
      "mealServiceDietInfo 키 없음: {'RESULT': {'CODE': 'ERROR-300', 'MESSAGE': '필수 값이 누락되어 있습니다. 요청인자를 참고 하십시오.'}}\n",
      "[]\n"
     ]
    },
    {
     "name": "stderr",
     "output_type": "stream",
     "text": [
      " ... (more hidden) ..."
     ]
    },
    {
     "name": "stdout",
     "output_type": "stream",
     "text": [
      "7801157 양구고등학교\n",
      "급식 정보 조회 중: 날짜=20241030\n",
      "mealService 응답코드: 200\n",
      "mealServiceDietInfo 키 없음: {'RESULT': {'CODE': 'ERROR-300', 'MESSAGE': '필수 값이 누락되어 있습니다. 요청인자를 참고 하십시오.'}}\n",
      "[]\n",
      "7801158 양구여자고등학교\n",
      "급식 정보 조회 중: 날짜=20241030\n"
     ]
    },
    {
     "name": "stderr",
     "output_type": "stream",
     "text": [
      " ... (more hidden) ..."
     ]
    },
    {
     "name": "stdout",
     "output_type": "stream",
     "text": [
      "mealService 응답코드: 200\n",
      "mealServiceDietInfo 키 없음: {'RESULT': {'CODE': 'ERROR-300', 'MESSAGE': '필수 값이 누락되어 있습니다. 요청인자를 참고 하십시오.'}}\n",
      "[]\n",
      "7801159 양양고등학교\n",
      "급식 정보 조회 중: 날짜=20241030\n",
      "mealService 응답코드: 200\n",
      "mealServiceDietInfo 키 없음: {'RESULT': {'CODE': 'ERROR-300', 'MESSAGE': '필수 값이 누락되어 있습니다. 요청인자를 참고 하십시오.'}}\n",
      "[]\n"
     ]
    },
    {
     "name": "stderr",
     "output_type": "stream",
     "text": [
      " ... (more hidden) ..."
     ]
    },
    {
     "name": "stdout",
     "output_type": "stream",
     "text": [
      "7801160 여량고등학교\n",
      "급식 정보 조회 중: 날짜=20241030\n",
      "mealService 응답코드: 200\n",
      "mealServiceDietInfo 키 없음: {'RESULT': {'CODE': 'ERROR-300', 'MESSAGE': '필수 값이 누락되어 있습니다. 요청인자를 참고 하십시오.'}}\n",
      "[]\n"
     ]
    },
    {
     "name": "stderr",
     "output_type": "stream",
     "text": [
      " ... (more hidden) ..."
     ]
    },
    {
     "name": "stdout",
     "output_type": "stream",
     "text": [
      "7801161 영서고등학교\n",
      "급식 정보 조회 중: 날짜=20241030\n",
      "mealService 응답코드: 200\n",
      "mealServiceDietInfo 키 없음: {'RESULT': {'CODE': 'ERROR-300', 'MESSAGE': '필수 값이 누락되어 있습니다. 요청인자를 참고 하십시오.'}}\n",
      "[]\n",
      "7801162 영월고등학교\n",
      "급식 정보 조회 중: 날짜=20241030\n"
     ]
    },
    {
     "name": "stderr",
     "output_type": "stream",
     "text": [
      " ... (more hidden) ..."
     ]
    },
    {
     "name": "stdout",
     "output_type": "stream",
     "text": [
      "mealService 응답코드: 200\n",
      "mealServiceDietInfo 키 없음: {'RESULT': {'CODE': 'ERROR-300', 'MESSAGE': '필수 값이 누락되어 있습니다. 요청인자를 참고 하십시오.'}}\n",
      "[]\n",
      "7801163 원덕고등학교\n",
      "급식 정보 조회 중: 날짜=20241030\n",
      "mealService 응답코드: 200\n",
      "mealServiceDietInfo 키 없음: {'RESULT': {'CODE': 'ERROR-300', 'MESSAGE': '필수 값이 누락되어 있습니다. 요청인자를 참고 하십시오.'}}\n",
      "[]\n"
     ]
    },
    {
     "name": "stderr",
     "output_type": "stream",
     "text": [
      " ... (more hidden) ..."
     ]
    },
    {
     "name": "stdout",
     "output_type": "stream",
     "text": [
      "7801164 원주고등학교\n",
      "급식 정보 조회 중: 날짜=20241030\n",
      "mealService 응답코드: 200\n",
      "mealServiceDietInfo 키 없음: {'RESULT': {'CODE': 'ERROR-300', 'MESSAGE': '필수 값이 누락되어 있습니다. 요청인자를 참고 하십시오.'}}\n",
      "[]\n",
      "7801166 원주금융회계고등학교\n",
      "급식 정보 조회 중: 날짜=20241030\n",
      "mealService 응답코드: 200\n",
      "mealServiceDietInfo 키 없음: {'RESULT': {'CODE': 'ERROR-300', 'MESSAGE': '필수 값이 누락되어 있습니다. 요청인자를 참고 하십시오.'}}\n",
      "[]\n"
     ]
    },
    {
     "name": "stderr",
     "output_type": "stream",
     "text": [
      " ... (more hidden) ..."
     ]
    },
    {
     "name": "stdout",
     "output_type": "stream",
     "text": [
      "7801167 원주삼육고등학교\n",
      "급식 정보 조회 중: 날짜=20241030\n",
      "mealService 응답코드: 200\n",
      "mealServiceDietInfo 키 없음: {'RESULT': {'CODE': 'ERROR-300', 'MESSAGE': '필수 값이 누락되어 있습니다. 요청인자를 참고 하십시오.'}}\n",
      "[]\n",
      "7801168 원주여자고등학교\n",
      "급식 정보 조회 중: 날짜=20241030\n"
     ]
    },
    {
     "name": "stderr",
     "output_type": "stream",
     "text": [
      " ... (more hidden) ..."
     ]
    },
    {
     "name": "stdout",
     "output_type": "stream",
     "text": [
      "mealService 응답코드: 200\n",
      "mealServiceDietInfo 키 없음: {'RESULT': {'CODE': 'ERROR-300', 'MESSAGE': '필수 값이 누락되어 있습니다. 요청인자를 참고 하십시오.'}}\n",
      "[]\n",
      "7801169 원주의료고등학교\n",
      "급식 정보 조회 중: 날짜=20241030\n",
      "mealService 응답코드: 200\n",
      "mealServiceDietInfo 키 없음: {'RESULT': {'CODE': 'ERROR-300', 'MESSAGE': '필수 값이 누락되어 있습니다. 요청인자를 참고 하십시오.'}}\n",
      "[]\n"
     ]
    },
    {
     "name": "stderr",
     "output_type": "stream",
     "text": [
      " ... (more hidden) ..."
     ]
    },
    {
     "name": "stdout",
     "output_type": "stream",
     "text": [
      "7801170 원통고등학교\n",
      "급식 정보 조회 중: 날짜=20241030\n",
      "mealService 응답코드: 200\n",
      "mealServiceDietInfo 키 없음: {'RESULT': {'CODE': 'ERROR-300', 'MESSAGE': '필수 값이 누락되어 있습니다. 요청인자를 참고 하십시오.'}}\n",
      "[]\n",
      "7801171 유봉여자고등학교\n",
      "급식 정보 조회 중: 날짜=20241030\n",
      "mealService 응답코드: 200\n",
      "mealServiceDietInfo 키 없음: {'RESULT': {'CODE': 'ERROR-300', 'MESSAGE': '필수 값이 누락되어 있습니다. 요청인자를 참고 하십시오.'}}\n",
      "[]\n"
     ]
    },
    {
     "name": "stderr",
     "output_type": "stream",
     "text": [
      " ... (more hidden) ..."
     ]
    },
    {
     "name": "stdout",
     "output_type": "stream",
     "text": [
      "7801172 육민관고등학교\n",
      "급식 정보 조회 중: 날짜=20241030\n",
      "mealService 응답코드: 200\n",
      "mealServiceDietInfo 키 없음: {'RESULT': {'CODE': 'ERROR-300', 'MESSAGE': '필수 값이 누락되어 있습니다. 요청인자를 참고 하십시오.'}}\n",
      "[]\n"
     ]
    },
    {
     "name": "stderr",
     "output_type": "stream",
     "text": [
      " ... (more hidden) ..."
     ]
    },
    {
     "name": "stdout",
     "output_type": "stream",
     "text": [
      "7801173 인제고등학교\n",
      "급식 정보 조회 중: 날짜=20241030\n",
      "mealService 응답코드: 200\n",
      "mealServiceDietInfo 키 없음: {'RESULT': {'CODE': 'ERROR-300', 'MESSAGE': '필수 값이 누락되어 있습니다. 요청인자를 참고 하십시오.'}}\n",
      "[]\n",
      "7801174 임계고등학교\n",
      "급식 정보 조회 중: 날짜=20241030\n"
     ]
    },
    {
     "name": "stderr",
     "output_type": "stream",
     "text": [
      " ... (more hidden) ..."
     ]
    },
    {
     "name": "stdout",
     "output_type": "stream",
     "text": [
      "mealService 응답코드: 200\n",
      "mealServiceDietInfo 키 없음: {'RESULT': {'CODE': 'ERROR-300', 'MESSAGE': '필수 값이 누락되어 있습니다. 요청인자를 참고 하십시오.'}}\n",
      "[]\n",
      "7801175 장성여자고등학교\n",
      "급식 정보 조회 중: 날짜=20241030\n",
      "mealService 응답코드: 200\n",
      "mealServiceDietInfo 키 없음: {'RESULT': {'CODE': 'ERROR-300', 'MESSAGE': '필수 값이 누락되어 있습니다. 요청인자를 참고 하십시오.'}}\n",
      "[]\n"
     ]
    },
    {
     "name": "stderr",
     "output_type": "stream",
     "text": [
      " ... (more hidden) ..."
     ]
    },
    {
     "name": "stdout",
     "output_type": "stream",
     "text": [
      "7801209 전인고등학교\n",
      "급식 정보 조회 중: 날짜=20241030\n",
      "mealService 응답코드: 200\n",
      "mealServiceDietInfo 키 없음: {'RESULT': {'CODE': 'ERROR-300', 'MESSAGE': '필수 값이 누락되어 있습니다. 요청인자를 참고 하십시오.'}}\n",
      "[]\n",
      "7801176 정선고등학교\n",
      "급식 정보 조회 중: 날짜=20241030\n"
     ]
    },
    {
     "name": "stderr",
     "output_type": "stream",
     "text": [
      " ... (more hidden) ..."
     ]
    },
    {
     "name": "stdout",
     "output_type": "stream",
     "text": [
      "mealService 응답코드: 200\n",
      "mealServiceDietInfo 키 없음: {'RESULT': {'CODE': 'ERROR-300', 'MESSAGE': '필수 값이 누락되어 있습니다. 요청인자를 참고 하십시오.'}}\n",
      "[]\n",
      "7801177 정선정보공업고등학교\n",
      "급식 정보 조회 중: 날짜=20241030\n",
      "mealService 응답코드: 200\n",
      "mealServiceDietInfo 키 없음: {'RESULT': {'CODE': 'ERROR-300', 'MESSAGE': '필수 값이 누락되어 있습니다. 요청인자를 참고 하십시오.'}}\n",
      "[]\n"
     ]
    },
    {
     "name": "stderr",
     "output_type": "stream",
     "text": [
      " ... (more hidden) ..."
     ]
    },
    {
     "name": "stdout",
     "output_type": "stream",
     "text": [
      "7801178 주문진고등학교\n",
      "급식 정보 조회 중: 날짜=20241030\n",
      "mealService 응답코드: 200\n",
      "mealServiceDietInfo 키 없음: {'RESULT': {'CODE': 'ERROR-300', 'MESSAGE': '필수 값이 누락되어 있습니다. 요청인자를 참고 하십시오.'}}\n",
      "[]\n",
      "7801179 주천고등학교\n",
      "급식 정보 조회 중: 날짜=20241030\n"
     ]
    },
    {
     "name": "stderr",
     "output_type": "stream",
     "text": [
      " ... (more hidden) ..."
     ]
    },
    {
     "name": "stdout",
     "output_type": "stream",
     "text": [
      "mealService 응답코드: 200\n",
      "mealServiceDietInfo 키 없음: {'RESULT': {'CODE': 'ERROR-300', 'MESSAGE': '필수 값이 누락되어 있습니다. 요청인자를 참고 하십시오.'}}\n",
      "[]\n",
      "7801180 진광고등학교\n",
      "급식 정보 조회 중: 날짜=20241030\n",
      "mealService 응답코드: 200\n",
      "mealServiceDietInfo 키 없음: {'RESULT': {'CODE': 'ERROR-300', 'MESSAGE': '필수 값이 누락되어 있습니다. 요청인자를 참고 하십시오.'}}\n",
      "[]\n"
     ]
    },
    {
     "name": "stderr",
     "output_type": "stream",
     "text": [
      " ... (more hidden) ..."
     ]
    },
    {
     "name": "stdout",
     "output_type": "stream",
     "text": [
      "7801181 진부고등학교\n",
      "급식 정보 조회 중: 날짜=20241030\n",
      "mealService 응답코드: 200\n",
      "mealServiceDietInfo 키 없음: {'RESULT': {'CODE': 'ERROR-300', 'MESSAGE': '필수 값이 누락되어 있습니다. 요청인자를 참고 하십시오.'}}\n",
      "[]\n",
      "7801182 철암고등학교\n",
      "급식 정보 조회 중: 날짜=20241030\n"
     ]
    },
    {
     "name": "stderr",
     "output_type": "stream",
     "text": [
      " ... (more hidden) ..."
     ]
    },
    {
     "name": "stdout",
     "output_type": "stream",
     "text": [
      "mealService 응답코드: 200\n",
      "mealServiceDietInfo 키 없음: {'RESULT': {'CODE': 'ERROR-300', 'MESSAGE': '필수 값이 누락되어 있습니다. 요청인자를 참고 하십시오.'}}\n",
      "[]\n",
      "7801183 철원고등학교\n",
      "급식 정보 조회 중: 날짜=20241030\n",
      "mealService 응답코드: 200\n",
      "mealServiceDietInfo 키 없음: {'RESULT': {'CODE': 'ERROR-300', 'MESSAGE': '필수 값이 누락되어 있습니다. 요청인자를 참고 하십시오.'}}\n",
      "[]\n"
     ]
    },
    {
     "name": "stderr",
     "output_type": "stream",
     "text": [
      " ... (more hidden) ..."
     ]
    },
    {
     "name": "stdout",
     "output_type": "stream",
     "text": [
      "7801184 철원여자고등학교\n",
      "급식 정보 조회 중: 날짜=20241030\n",
      "mealService 응답코드: 200\n",
      "mealServiceDietInfo 키 없음: {'RESULT': {'CODE': 'ERROR-300', 'MESSAGE': '필수 값이 누락되어 있습니다. 요청인자를 참고 하십시오.'}}\n",
      "[]\n",
      "7801185 춘천고등학교\n",
      "급식 정보 조회 중: 날짜=20241030\n"
     ]
    },
    {
     "name": "stderr",
     "output_type": "stream",
     "text": [
      " ... (more hidden) ..."
     ]
    },
    {
     "name": "stdout",
     "output_type": "stream",
     "text": [
      "mealService 응답코드: 200\n",
      "mealServiceDietInfo 키 없음: {'RESULT': {'CODE': 'ERROR-300', 'MESSAGE': '필수 값이 누락되어 있습니다. 요청인자를 참고 하십시오.'}}\n",
      "[]\n",
      "7801187 춘천기계공업고등학교\n",
      "급식 정보 조회 중: 날짜=20241030\n",
      "mealService 응답코드: 200\n",
      "mealServiceDietInfo 키 없음: {'RESULT': {'CODE': 'ERROR-300', 'MESSAGE': '필수 값이 누락되어 있습니다. 요청인자를 참고 하십시오.'}}\n",
      "[]\n"
     ]
    },
    {
     "name": "stderr",
     "output_type": "stream",
     "text": [
      " ... (more hidden) ..."
     ]
    },
    {
     "name": "stdout",
     "output_type": "stream",
     "text": [
      "7801188 춘천여자고등학교\n",
      "급식 정보 조회 중: 날짜=20241030\n",
      "mealService 응답코드: 200\n",
      "mealServiceDietInfo 키 없음: {'RESULT': {'CODE': 'ERROR-300', 'MESSAGE': '필수 값이 누락되어 있습니다. 요청인자를 참고 하십시오.'}}\n",
      "[]\n"
     ]
    },
    {
     "name": "stderr",
     "output_type": "stream",
     "text": [
      " ... (more hidden) ..."
     ]
    },
    {
     "name": "stdout",
     "output_type": "stream",
     "text": [
      "7801190 춘천한샘고등학교\n",
      "급식 정보 조회 중: 날짜=20241030\n",
      "mealService 응답코드: 200\n",
      "mealServiceDietInfo 키 없음: {'RESULT': {'CODE': 'ERROR-300', 'MESSAGE': '필수 값이 누락되어 있습니다. 요청인자를 참고 하십시오.'}}\n",
      "[]\n",
      "7801191 치악고등학교\n",
      "급식 정보 조회 중: 날짜=20241030\n"
     ]
    },
    {
     "name": "stderr",
     "output_type": "stream",
     "text": [
      " ... (more hidden) ..."
     ]
    },
    {
     "name": "stdout",
     "output_type": "stream",
     "text": [
      "mealService 응답코드: 200\n",
      "mealServiceDietInfo 키 없음: {'RESULT': {'CODE': 'ERROR-300', 'MESSAGE': '필수 값이 누락되어 있습니다. 요청인자를 참고 하십시오.'}}\n",
      "[]\n",
      "7801193 팔렬고등학교\n",
      "급식 정보 조회 중: 날짜=20241030\n",
      "mealService 응답코드: 200\n",
      "mealServiceDietInfo 키 없음: {'RESULT': {'CODE': 'ERROR-300', 'MESSAGE': '필수 값이 누락되어 있습니다. 요청인자를 참고 하십시오.'}}\n",
      "[]\n"
     ]
    },
    {
     "name": "stderr",
     "output_type": "stream",
     "text": [
      " ... (more hidden) ..."
     ]
    },
    {
     "name": "stdout",
     "output_type": "stream",
     "text": [
      "7801194 평창고등학교\n",
      "급식 정보 조회 중: 날짜=20241030\n",
      "mealService 응답코드: 200\n",
      "mealServiceDietInfo 키 없음: {'RESULT': {'CODE': 'ERROR-300', 'MESSAGE': '필수 값이 누락되어 있습니다. 요청인자를 참고 하십시오.'}}\n",
      "[]\n",
      "7801195 한국소방마이스터고등학교\n",
      "급식 정보 조회 중: 날짜=20241030\n"
     ]
    },
    {
     "name": "stderr",
     "output_type": "stream",
     "text": [
      " ... (more hidden) ..."
     ]
    },
    {
     "name": "stdout",
     "output_type": "stream",
     "text": [
      "mealService 응답코드: 200\n",
      "mealServiceDietInfo 키 없음: {'RESULT': {'CODE': 'ERROR-300', 'MESSAGE': '필수 값이 누락되어 있습니다. 요청인자를 참고 하십시오.'}}\n",
      "[]\n",
      "7801196 한국에너지마이스터고등학교\n",
      "급식 정보 조회 중: 날짜=20241030\n",
      "mealService 응답코드: 200\n",
      "mealServiceDietInfo 키 없음: {'RESULT': {'CODE': 'ERROR-300', 'MESSAGE': '필수 값이 누락되어 있습니다. 요청인자를 참고 하십시오.'}}\n",
      "[]\n"
     ]
    },
    {
     "name": "stderr",
     "output_type": "stream",
     "text": [
      " ... (more hidden) ..."
     ]
    },
    {
     "name": "stdout",
     "output_type": "stream",
     "text": [
      "7801228 한국항공고등학교\n",
      "급식 정보 조회 중: 날짜=20241030\n",
      "mealService 응답코드: 200\n",
      "mealServiceDietInfo 키 없음: {'RESULT': {'CODE': 'ERROR-300', 'MESSAGE': '필수 값이 누락되어 있습니다. 요청인자를 참고 하십시오.'}}\n",
      "[]\n",
      "7801197 함백고등학교\n",
      "급식 정보 조회 중: 날짜=20241030\n"
     ]
    },
    {
     "name": "stderr",
     "output_type": "stream",
     "text": [
      " ... (more hidden) ..."
     ]
    },
    {
     "name": "stdout",
     "output_type": "stream",
     "text": [
      "mealService 응답코드: 200\n",
      "mealServiceDietInfo 키 없음: {'RESULT': {'CODE': 'ERROR-300', 'MESSAGE': '필수 값이 누락되어 있습니다. 요청인자를 참고 하십시오.'}}\n",
      "[]\n",
      "7801198 현천고등학교\n",
      "급식 정보 조회 중: 날짜=20241030\n",
      "mealService 응답코드: 200\n",
      "mealServiceDietInfo 키 없음: {'RESULT': {'CODE': 'ERROR-300', 'MESSAGE': '필수 값이 누락되어 있습니다. 요청인자를 참고 하십시오.'}}\n",
      "[]\n"
     ]
    },
    {
     "name": "stderr",
     "output_type": "stream",
     "text": [
      " ... (more hidden) ..."
     ]
    },
    {
     "name": "stdout",
     "output_type": "stream",
     "text": [
      "7801199 홍천고등학교\n",
      "급식 정보 조회 중: 날짜=20241030\n",
      "mealService 응답코드: 200\n",
      "mealServiceDietInfo 키 없음: {'RESULT': {'CODE': 'ERROR-300', 'MESSAGE': '필수 값이 누락되어 있습니다. 요청인자를 참고 하십시오.'}}\n",
      "[]\n",
      "7801200 홍천농업고등학교\n",
      "급식 정보 조회 중: 날짜=20241030\n"
     ]
    },
    {
     "name": "stderr",
     "output_type": "stream",
     "text": [
      " ... (more hidden) ..."
     ]
    },
    {
     "name": "stdout",
     "output_type": "stream",
     "text": [
      "mealService 응답코드: 200\n",
      "mealServiceDietInfo 키 없음: {'RESULT': {'CODE': 'ERROR-300', 'MESSAGE': '필수 값이 누락되어 있습니다. 요청인자를 참고 하십시오.'}}\n",
      "[]\n",
      "7801201 홍천여자고등학교\n",
      "급식 정보 조회 중: 날짜=20241030\n",
      "mealService 응답코드: 200\n",
      "mealServiceDietInfo 키 없음: {'RESULT': {'CODE': 'ERROR-300', 'MESSAGE': '필수 값이 누락되어 있습니다. 요청인자를 참고 하십시오.'}}\n",
      "[]\n"
     ]
    },
    {
     "name": "stderr",
     "output_type": "stream",
     "text": [
      " ... (more hidden) ..."
     ]
    },
    {
     "name": "stdout",
     "output_type": "stream",
     "text": [
      "7801202 화천고등학교\n",
      "급식 정보 조회 중: 날짜=20241030\n",
      "mealService 응답코드: 200\n",
      "mealServiceDietInfo 키 없음: {'RESULT': {'CODE': 'ERROR-300', 'MESSAGE': '필수 값이 누락되어 있습니다. 요청인자를 참고 하십시오.'}}\n",
      "[]\n",
      "7801203 화천정보산업고등학교\n",
      "급식 정보 조회 중: 날짜=20241030\n"
     ]
    },
    {
     "name": "stderr",
     "output_type": "stream",
     "text": [
      " ... (more hidden) ..."
     ]
    },
    {
     "name": "stdout",
     "output_type": "stream",
     "text": [
      "mealService 응답코드: 200\n",
      "mealServiceDietInfo 키 없음: {'RESULT': {'CODE': 'ERROR-300', 'MESSAGE': '필수 값이 누락되어 있습니다. 요청인자를 참고 하십시오.'}}\n",
      "[]\n",
      "7801204 황지고등학교\n",
      "급식 정보 조회 중: 날짜=20241030\n",
      "mealService 응답코드: 200\n",
      "mealServiceDietInfo 키 없음: {'RESULT': {'CODE': 'ERROR-300', 'MESSAGE': '필수 값이 누락되어 있습니다. 요청인자를 참고 하십시오.'}}\n",
      "[]\n"
     ]
    },
    {
     "name": "stderr",
     "output_type": "stream",
     "text": [
      " ... (more hidden) ..."
     ]
    },
    {
     "name": "stdout",
     "output_type": "stream",
     "text": [
      "7801206 황지정보산업고등학교\n",
      "급식 정보 조회 중: 날짜=20241030\n",
      "mealService 응답코드: 200\n",
      "mealServiceDietInfo 키 없음: {'RESULT': {'CODE': 'ERROR-300', 'MESSAGE': '필수 값이 누락되어 있습니다. 요청인자를 참고 하십시오.'}}\n",
      "[]\n",
      "7801207 횡성고등학교\n",
      "급식 정보 조회 중: 날짜=20241030\n"
     ]
    },
    {
     "name": "stderr",
     "output_type": "stream",
     "text": [
      " ... (more hidden) ..."
     ]
    },
    {
     "name": "stdout",
     "output_type": "stream",
     "text": [
      "mealService 응답코드: 200\n",
      "mealServiceDietInfo 키 없음: {'RESULT': {'CODE': 'ERROR-300', 'MESSAGE': '필수 값이 누락되어 있습니다. 요청인자를 참고 하십시오.'}}\n",
      "[]\n",
      "7801208 횡성여자고등학교\n",
      "급식 정보 조회 중: 날짜=20241030\n",
      "mealService 응답코드: 200\n",
      "mealServiceDietInfo 키 없음: {'RESULT': {'CODE': 'ERROR-300', 'MESSAGE': '필수 값이 누락되어 있습니다. 요청인자를 참고 하십시오.'}}\n",
      "[]\n"
     ]
    },
    {
     "name": "stderr",
     "output_type": "stream",
     "text": [
      " ... (more hidden) ...\n"
     ]
    },
    {
     "name": "stdout",
     "output_type": "stream",
     "text": [
      "응답코드 : 200\n"
     ]
    },
    {
     "name": "stderr",
     "output_type": "stream",
     "text": [
      " ... (more hidden) ..."
     ]
    },
    {
     "name": "stdout",
     "output_type": "stream",
     "text": [
      "        (가칭)오송2고등학교\n",
      "급식 정보 조회 중: 날짜=20241030\n",
      "mealService 응답코드: 200\n",
      "mealServiceDietInfo 키 없음: {'RESULT': {'CODE': 'ERROR-300', 'MESSAGE': '필수 값이 누락되어 있습니다. 요청인자를 참고 하십시오.'}}\n",
      "[]\n",
      "8000032 광혜원고등학교\n",
      "급식 정보 조회 중: 날짜=20241030\n"
     ]
    },
    {
     "name": "stderr",
     "output_type": "stream",
     "text": [
      " ... (more hidden) ..."
     ]
    },
    {
     "name": "stdout",
     "output_type": "stream",
     "text": [
      "mealService 응답코드: 200\n",
      "mealServiceDietInfo 키 없음: {'RESULT': {'CODE': 'ERROR-300', 'MESSAGE': '필수 값이 누락되어 있습니다. 요청인자를 참고 하십시오.'}}\n",
      "[]\n",
      "8000033 괴산고등학교\n",
      "급식 정보 조회 중: 날짜=20241030\n",
      "mealService 응답코드: 200\n",
      "mealServiceDietInfo 키 없음: {'RESULT': {'CODE': 'ERROR-300', 'MESSAGE': '필수 값이 누락되어 있습니다. 요청인자를 참고 하십시오.'}}\n",
      "[]\n"
     ]
    },
    {
     "name": "stderr",
     "output_type": "stream",
     "text": [
      " ... (more hidden) ..."
     ]
    },
    {
     "name": "stdout",
     "output_type": "stream",
     "text": [
      "8000308 국원고등학교\n",
      "급식 정보 조회 중: 날짜=20241030\n",
      "mealService 응답코드: 200\n",
      "mealServiceDietInfo 키 없음: {'RESULT': {'CODE': 'ERROR-300', 'MESSAGE': '필수 값이 누락되어 있습니다. 요청인자를 참고 하십시오.'}}\n",
      "[]\n",
      "8000038 금천고등학교\n",
      "급식 정보 조회 중: 날짜=20241030\n"
     ]
    },
    {
     "name": "stderr",
     "output_type": "stream",
     "text": [
      " ... (more hidden) ..."
     ]
    },
    {
     "name": "stdout",
     "output_type": "stream",
     "text": [
      "mealService 응답코드: 200\n",
      "mealServiceDietInfo 키 없음: {'RESULT': {'CODE': 'ERROR-300', 'MESSAGE': '필수 값이 누락되어 있습니다. 요청인자를 참고 하십시오.'}}\n",
      "[]\n",
      "8000040 단양고등학교\n",
      "급식 정보 조회 중: 날짜=20241030\n",
      "mealService 응답코드: 200\n",
      "mealServiceDietInfo 키 없음: {'RESULT': {'CODE': 'ERROR-300', 'MESSAGE': '필수 값이 누락되어 있습니다. 요청인자를 참고 하십시오.'}}\n",
      "[]\n"
     ]
    },
    {
     "name": "stderr",
     "output_type": "stream",
     "text": [
      " ... (more hidden) ..."
     ]
    },
    {
     "name": "stdout",
     "output_type": "stream",
     "text": [
      "8000431 대금고등학교\n",
      "급식 정보 조회 중: 날짜=20241030\n",
      "mealService 응답코드: 200\n",
      "mealServiceDietInfo 키 없음: {'RESULT': {'CODE': 'ERROR-300', 'MESSAGE': '필수 값이 누락되어 있습니다. 요청인자를 참고 하십시오.'}}\n",
      "[]\n",
      "8000135 대성여자상업고등학교\n",
      "급식 정보 조회 중: 날짜=20241030\n"
     ]
    },
    {
     "name": "stderr",
     "output_type": "stream",
     "text": [
      " ... (more hidden) ..."
     ]
    },
    {
     "name": "stdout",
     "output_type": "stream",
     "text": [
      "mealService 응답코드: 200\n",
      "mealServiceDietInfo 키 없음: {'RESULT': {'CODE': 'ERROR-300', 'MESSAGE': '필수 값이 누락되어 있습니다. 요청인자를 참고 하십시오.'}}\n",
      "[]\n",
      "8000530 동성고등학교\n",
      "급식 정보 조회 중: 날짜=20241030\n",
      "mealService 응답코드: 200\n",
      "mealServiceDietInfo 키 없음: {'RESULT': {'CODE': 'ERROR-300', 'MESSAGE': '필수 값이 누락되어 있습니다. 요청인자를 참고 하십시오.'}}\n",
      "[]\n"
     ]
    },
    {
     "name": "stderr",
     "output_type": "stream",
     "text": [
      " ... (more hidden) ..."
     ]
    },
    {
     "name": "stdout",
     "output_type": "stream",
     "text": [
      "8000183 매괴고등학교\n",
      "급식 정보 조회 중: 날짜=20241030\n",
      "mealService 응답코드: 200\n",
      "mealServiceDietInfo 키 없음: {'RESULT': {'CODE': 'ERROR-300', 'MESSAGE': '필수 값이 누락되어 있습니다. 요청인자를 참고 하십시오.'}}\n",
      "[]\n",
      "8000085 보은고등학교\n",
      "급식 정보 조회 중: 날짜=20241030\n"
     ]
    },
    {
     "name": "stderr",
     "output_type": "stream",
     "text": [
      " ... (more hidden) ..."
     ]
    },
    {
     "name": "stdout",
     "output_type": "stream",
     "text": [
      "mealService 응답코드: 200\n",
      "mealServiceDietInfo 키 없음: {'RESULT': {'CODE': 'ERROR-300', 'MESSAGE': '필수 값이 누락되어 있습니다. 요청인자를 참고 하십시오.'}}\n",
      "[]\n",
      "8000046 보은여자고등학교\n",
      "급식 정보 조회 중: 날짜=20241030\n",
      "mealService 응답코드: 200\n",
      "mealServiceDietInfo 키 없음: {'RESULT': {'CODE': 'ERROR-300', 'MESSAGE': '필수 값이 누락되어 있습니다. 요청인자를 참고 하십시오.'}}\n",
      "[]\n"
     ]
    },
    {
     "name": "stderr",
     "output_type": "stream",
     "text": [
      " ... (more hidden) ..."
     ]
    },
    {
     "name": "stdout",
     "output_type": "stream",
     "text": [
      "8000212 봉명고등학교\n",
      "급식 정보 조회 중: 날짜=20241030\n",
      "mealService 응답코드: 200\n",
      "mealServiceDietInfo 키 없음: {'RESULT': {'CODE': 'ERROR-300', 'MESSAGE': '필수 값이 누락되어 있습니다. 요청인자를 참고 하십시오.'}}\n",
      "[]\n",
      "8000213 산남고등학교\n",
      "급식 정보 조회 중: 날짜=20241030\n",
      "mealService 응답코드: 200\n",
      "mealServiceDietInfo 키 없음: {'RESULT': {'CODE': 'ERROR-300', 'MESSAGE': '필수 값이 누락되어 있습니다. 요청인자를 참고 하십시오.'}}\n",
      "[]\n"
     ]
    },
    {
     "name": "stderr",
     "output_type": "stream",
     "text": [
      " ... (more hidden) ..."
     ]
    },
    {
     "name": "stdout",
     "output_type": "stream",
     "text": [
      "8000047 상당고등학교\n",
      "급식 정보 조회 중: 날짜=20241030\n",
      "mealService 응답코드: 200\n",
      "mealServiceDietInfo 키 없음: {'RESULT': {'CODE': 'ERROR-300', 'MESSAGE': '필수 값이 누락되어 있습니다. 요청인자를 참고 하십시오.'}}\n",
      "[]\n",
      "8000199 서원고등학교\n",
      "급식 정보 조회 중: 날짜=20241030\n",
      "mealService 응답코드: 200\n",
      "mealServiceDietInfo 키 없음: {'RESULT': {'CODE': 'ERROR-300', 'MESSAGE': '필수 값이 누락되어 있습니다. 요청인자를 참고 하십시오.'}}\n",
      "[]\n"
     ]
    },
    {
     "name": "stderr",
     "output_type": "stream",
     "text": [
      " ... (more hidden) ..."
     ]
    },
    {
     "name": "stdout",
     "output_type": "stream",
     "text": [
      "8000376 서전고등학교\n",
      "급식 정보 조회 중: 날짜=20241030\n",
      "mealService 응답코드: 200\n",
      "mealServiceDietInfo 키 없음: {'RESULT': {'CODE': 'ERROR-300', 'MESSAGE': '필수 값이 누락되어 있습니다. 요청인자를 참고 하십시오.'}}\n",
      "[]\n",
      "8000086 세광고등학교\n",
      "급식 정보 조회 중: 날짜=20241030\n"
     ]
    },
    {
     "name": "stderr",
     "output_type": "stream",
     "text": [
      " ... (more hidden) ..."
     ]
    },
    {
     "name": "stdout",
     "output_type": "stream",
     "text": [
      "mealService 응답코드: 200\n",
      "mealServiceDietInfo 키 없음: {'RESULT': {'CODE': 'ERROR-300', 'MESSAGE': '필수 값이 누락되어 있습니다. 요청인자를 참고 하십시오.'}}\n",
      "[]\n",
      "8000087 세명고등학교\n",
      "급식 정보 조회 중: 날짜=20241030\n",
      "mealService 응답코드: 200\n",
      "mealServiceDietInfo 키 없음: {'RESULT': {'CODE': 'ERROR-300', 'MESSAGE': '필수 값이 누락되어 있습니다. 요청인자를 참고 하십시오.'}}\n",
      "[]\n"
     ]
    },
    {
     "name": "stderr",
     "output_type": "stream",
     "text": [
      " ... (more hidden) ..."
     ]
    },
    {
     "name": "stdout",
     "output_type": "stream",
     "text": [
      "8000090 양업고등학교\n",
      "급식 정보 조회 중: 날짜=20241030\n",
      "mealService 응답코드: 200\n",
      "mealServiceDietInfo 키 없음: {'RESULT': {'CODE': 'ERROR-300', 'MESSAGE': '필수 값이 누락되어 있습니다. 요청인자를 참고 하십시오.'}}\n",
      "[]\n",
      "8000268 양청고등학교\n",
      "급식 정보 조회 중: 날짜=20241030\n"
     ]
    },
    {
     "name": "stderr",
     "output_type": "stream",
     "text": [
      " ... (more hidden) ..."
     ]
    },
    {
     "name": "stdout",
     "output_type": "stream",
     "text": [
      "mealService 응답코드: 200\n",
      "mealServiceDietInfo 키 없음: {'RESULT': {'CODE': 'ERROR-300', 'MESSAGE': '필수 값이 누락되어 있습니다. 요청인자를 참고 하십시오.'}}\n",
      "[]\n",
      "8000048 영동고등학교\n",
      "급식 정보 조회 중: 날짜=20241030\n",
      "mealService 응답코드: 200\n",
      "mealServiceDietInfo 키 없음: {'RESULT': {'CODE': 'ERROR-300', 'MESSAGE': '필수 값이 누락되어 있습니다. 요청인자를 참고 하십시오.'}}\n",
      "[]\n"
     ]
    },
    {
     "name": "stderr",
     "output_type": "stream",
     "text": [
      " ... (more hidden) ..."
     ]
    },
    {
     "name": "stdout",
     "output_type": "stream",
     "text": [
      "8000508 영동미래고등학교\n",
      "급식 정보 조회 중: 날짜=20241030\n",
      "mealService 응답코드: 200\n",
      "mealServiceDietInfo 키 없음: {'RESULT': {'CODE': 'ERROR-300', 'MESSAGE': '필수 값이 누락되어 있습니다. 요청인자를 참고 하십시오.'}}\n",
      "[]\n"
     ]
    },
    {
     "name": "stderr",
     "output_type": "stream",
     "text": [
      " ... (more hidden) ..."
     ]
    },
    {
     "name": "stdout",
     "output_type": "stream",
     "text": [
      "8000211 영동산업과학고등학교\n",
      "급식 정보 조회 중: 날짜=20241030\n",
      "mealService 응답코드: 200\n",
      "mealServiceDietInfo 키 없음: {'RESULT': {'CODE': 'ERROR-300', 'MESSAGE': '필수 값이 누락되어 있습니다. 요청인자를 참고 하십시오.'}}\n",
      "[]\n",
      "8000283 오송고등학교\n",
      "급식 정보 조회 중: 날짜=20241030\n",
      "mealService 응답코드: 200\n",
      "mealServiceDietInfo 키 없음: {'RESULT': {'CODE': 'ERROR-300', 'MESSAGE': '필수 값이 누락되어 있습니다. 요청인자를 참고 하십시오.'}}\n",
      "[]\n"
     ]
    },
    {
     "name": "stderr",
     "output_type": "stream",
     "text": [
      " ... (more hidden) ..."
     ]
    },
    {
     "name": "stdout",
     "output_type": "stream",
     "text": [
      "8000050 오창고등학교\n",
      "급식 정보 조회 중: 날짜=20241030\n",
      "mealService 응답코드: 200\n",
      "mealServiceDietInfo 키 없음: {'RESULT': {'CODE': 'ERROR-300', 'MESSAGE': '필수 값이 누락되어 있습니다. 요청인자를 참고 하십시오.'}}\n",
      "[]\n",
      "8000051 옥천고등학교\n",
      "급식 정보 조회 중: 날짜=20241030\n"
     ]
    },
    {
     "name": "stderr",
     "output_type": "stream",
     "text": [
      " ... (more hidden) ..."
     ]
    },
    {
     "name": "stdout",
     "output_type": "stream",
     "text": [
      "mealService 응답코드: 200\n",
      "mealServiceDietInfo 키 없음: {'RESULT': {'CODE': 'ERROR-300', 'MESSAGE': '필수 값이 누락되어 있습니다. 요청인자를 참고 하십시오.'}}\n",
      "[]\n",
      "8000091 운호고등학교\n",
      "급식 정보 조회 중: 날짜=20241030\n",
      "mealService 응답코드: 200\n",
      "mealServiceDietInfo 키 없음: {'RESULT': {'CODE': 'ERROR-300', 'MESSAGE': '필수 값이 누락되어 있습니다. 요청인자를 참고 하십시오.'}}\n",
      "[]\n"
     ]
    },
    {
     "name": "stderr",
     "output_type": "stream",
     "text": [
      " ... (more hidden) ..."
     ]
    },
    {
     "name": "stdout",
     "output_type": "stream",
     "text": [
      "8000053 음성고등학교\n",
      "급식 정보 조회 중: 날짜=20241030\n",
      "mealService 응답코드: 200\n",
      "mealServiceDietInfo 키 없음: {'RESULT': {'CODE': 'ERROR-300', 'MESSAGE': '필수 값이 누락되어 있습니다. 요청인자를 참고 하십시오.'}}\n",
      "[]\n",
      "8000093 일신여자고등학교\n",
      "급식 정보 조회 중: 날짜=20241030\n",
      "mealService 응답코드: 200\n",
      "mealServiceDietInfo 키 없음: {'RESULT': {'CODE': 'ERROR-300', 'MESSAGE': '필수 값이 누락되어 있습니다. 요청인자를 참고 하십시오.'}}\n",
      "[]\n"
     ]
    },
    {
     "name": "stderr",
     "output_type": "stream",
     "text": [
      " ... (more hidden) ..."
     ]
    },
    {
     "name": "stdout",
     "output_type": "stream",
     "text": [
      "8000057 제천고등학교\n",
      "급식 정보 조회 중: 날짜=20241030\n",
      "mealService 응답코드: 200\n",
      "mealServiceDietInfo 키 없음: {'RESULT': {'CODE': 'ERROR-300', 'MESSAGE': '필수 값이 누락되어 있습니다. 요청인자를 참고 하십시오.'}}\n",
      "[]\n",
      "8000207 제천디지털전자고등학교\n",
      "급식 정보 조회 중: 날짜=20241030\n",
      "mealService 응답코드: 200\n",
      "mealServiceDietInfo 키 없음: {'RESULT': {'CODE': 'ERROR-300', 'MESSAGE': '필수 값이 누락되어 있습니다. 요청인자를 참고 하십시오.'}}\n",
      "[]\n"
     ]
    },
    {
     "name": "stderr",
     "output_type": "stream",
     "text": [
      " ... (more hidden) ..."
     ]
    },
    {
     "name": "stdout",
     "output_type": "stream",
     "text": [
      "8000210 제천산업고등학교\n",
      "급식 정보 조회 중: 날짜=20241030\n",
      "mealService 응답코드: 200\n",
      "mealServiceDietInfo 키 없음: {'RESULT': {'CODE': 'ERROR-300', 'MESSAGE': '필수 값이 누락되어 있습니다. 요청인자를 참고 하십시오.'}}\n",
      "[]\n",
      "8000121 제천상업고등학교\n",
      "급식 정보 조회 중: 날짜=20241030\n"
     ]
    },
    {
     "name": "stderr",
     "output_type": "stream",
     "text": [
      " ... (more hidden) ..."
     ]
    },
    {
     "name": "stdout",
     "output_type": "stream",
     "text": [
      "mealService 응답코드: 200\n",
      "mealServiceDietInfo 키 없음: {'RESULT': {'CODE': 'ERROR-300', 'MESSAGE': '필수 값이 누락되어 있습니다. 요청인자를 참고 하십시오.'}}\n",
      "[]\n",
      "8000058 제천여자고등학교\n",
      "급식 정보 조회 중: 날짜=20241030\n",
      "mealService 응답코드: 200\n",
      "mealServiceDietInfo 키 없음: {'RESULT': {'CODE': 'ERROR-300', 'MESSAGE': '필수 값이 누락되어 있습니다. 요청인자를 참고 하십시오.'}}\n",
      "[]\n"
     ]
    },
    {
     "name": "stderr",
     "output_type": "stream",
     "text": [
      " ... (more hidden) ..."
     ]
    },
    {
     "name": "stdout",
     "output_type": "stream",
     "text": [
      "8000216 제천제일고등학교\n",
      "급식 정보 조회 중: 날짜=20241030\n",
      "mealService 응답코드: 200\n",
      "mealServiceDietInfo 키 없음: {'RESULT': {'CODE': 'ERROR-300', 'MESSAGE': '필수 값이 누락되어 있습니다. 요청인자를 참고 하십시오.'}}\n",
      "[]\n",
      "8000201 주성고등학교\n",
      "급식 정보 조회 중: 날짜=20241030\n",
      "mealService 응답코드: 200\n",
      "mealServiceDietInfo 키 없음: {'RESULT': {'CODE': 'ERROR-300', 'MESSAGE': '필수 값이 누락되어 있습니다. 요청인자를 참고 하십시오.'}}\n",
      "[]\n"
     ]
    },
    {
     "name": "stderr",
     "output_type": "stream",
     "text": [
      " ... (more hidden) ..."
     ]
    },
    {
     "name": "stdout",
     "output_type": "stream",
     "text": [
      "8000531 중앙탑고등학교\n",
      "급식 정보 조회 중: 날짜=20241030\n",
      "mealService 응답코드: 200\n",
      "mealServiceDietInfo 키 없음: {'RESULT': {'CODE': 'ERROR-300', 'MESSAGE': '필수 값이 누락되어 있습니다. 요청인자를 참고 하십시오.'}}\n",
      "[]\n",
      "8000117 증평공업고등학교\n",
      "급식 정보 조회 중: 날짜=20241030\n"
     ]
    },
    {
     "name": "stderr",
     "output_type": "stream",
     "text": [
      " ... (more hidden) ..."
     ]
    },
    {
     "name": "stdout",
     "output_type": "stream",
     "text": [
      "mealService 응답코드: 200\n",
      "mealServiceDietInfo 키 없음: {'RESULT': {'CODE': 'ERROR-300', 'MESSAGE': '필수 값이 누락되어 있습니다. 요청인자를 참고 하십시오.'}}\n",
      "[]\n",
      "8000062 진천고등학교\n",
      "급식 정보 조회 중: 날짜=20241030\n",
      "mealService 응답코드: 200\n",
      "mealServiceDietInfo 키 없음: {'RESULT': {'CODE': 'ERROR-300', 'MESSAGE': '필수 값이 누락되어 있습니다. 요청인자를 참고 하십시오.'}}\n",
      "[]\n"
     ]
    },
    {
     "name": "stderr",
     "output_type": "stream",
     "text": [
      " ... (more hidden) ..."
     ]
    },
    {
     "name": "stdout",
     "output_type": "stream",
     "text": [
      "8000122 진천상업고등학교\n",
      "급식 정보 조회 중: 날짜=20241030\n",
      "mealService 응답코드: 200\n",
      "mealServiceDietInfo 키 없음: {'RESULT': {'CODE': 'ERROR-300', 'MESSAGE': '필수 값이 누락되어 있습니다. 요청인자를 참고 하십시오.'}}\n",
      "[]\n"
     ]
    },
    {
     "name": "stderr",
     "output_type": "stream",
     "text": [
      " ... (more hidden) ..."
     ]
    },
    {
     "name": "stdout",
     "output_type": "stream",
     "text": [
      "8000064 청산고등학교\n",
      "급식 정보 조회 중: 날짜=20241030\n",
      "mealService 응답코드: 200\n",
      "mealServiceDietInfo 키 없음: {'RESULT': {'CODE': 'ERROR-300', 'MESSAGE': '필수 값이 누락되어 있습니다. 요청인자를 참고 하십시오.'}}\n",
      "[]\n",
      "8000096 청석고등학교\n",
      "급식 정보 조회 중: 날짜=20241030\n"
     ]
    },
    {
     "name": "stderr",
     "output_type": "stream",
     "text": [
      " ... (more hidden) ..."
     ]
    },
    {
     "name": "stdout",
     "output_type": "stream",
     "text": [
      "mealService 응답코드: 200\n",
      "mealServiceDietInfo 키 없음: {'RESULT': {'CODE': 'ERROR-300', 'MESSAGE': '필수 값이 누락되어 있습니다. 요청인자를 참고 하십시오.'}}\n",
      "[]\n",
      "8000214 청원고등학교\n",
      "급식 정보 조회 중: 날짜=20241030\n",
      "mealService 응답코드: 200\n",
      "mealServiceDietInfo 키 없음: {'RESULT': {'CODE': 'ERROR-300', 'MESSAGE': '필수 값이 누락되어 있습니다. 요청인자를 참고 하십시오.'}}\n",
      "[]\n"
     ]
    },
    {
     "name": "stderr",
     "output_type": "stream",
     "text": [
      " ... (more hidden) ..."
     ]
    },
    {
     "name": "stdout",
     "output_type": "stream",
     "text": [
      "8000507 청주IT과학고등학교\n",
      "급식 정보 조회 중: 날짜=20241030\n",
      "mealService 응답코드: 200\n",
      "mealServiceDietInfo 키 없음: {'RESULT': {'CODE': 'ERROR-300', 'MESSAGE': '필수 값이 누락되어 있습니다. 요청인자를 참고 하십시오.'}}\n",
      "[]\n",
      "8000066 청주고등학교\n",
      "급식 정보 조회 중: 날짜=20241030\n"
     ]
    },
    {
     "name": "stderr",
     "output_type": "stream",
     "text": [
      " ... (more hidden) ..."
     ]
    },
    {
     "name": "stdout",
     "output_type": "stream",
     "text": [
      "mealService 응답코드: 200\n",
      "mealServiceDietInfo 키 없음: {'RESULT': {'CODE': 'ERROR-300', 'MESSAGE': '필수 값이 누락되어 있습니다. 요청인자를 참고 하십시오.'}}\n",
      "[]\n",
      "8000280 청주공업고등학교\n",
      "급식 정보 조회 중: 날짜=20241030\n",
      "mealService 응답코드: 200\n",
      "mealServiceDietInfo 키 없음: {'RESULT': {'CODE': 'ERROR-300', 'MESSAGE': '필수 값이 누락되어 있습니다. 요청인자를 참고 하십시오.'}}\n",
      "[]\n"
     ]
    },
    {
     "name": "stderr",
     "output_type": "stream",
     "text": [
      " ... (more hidden) ..."
     ]
    },
    {
     "name": "stdout",
     "output_type": "stream",
     "text": [
      "8000125 청주농업고등학교\n",
      "급식 정보 조회 중: 날짜=20241030\n",
      "mealService 응답코드: 200\n",
      "mealServiceDietInfo 키 없음: {'RESULT': {'CODE': 'ERROR-300', 'MESSAGE': '필수 값이 누락되어 있습니다. 요청인자를 참고 하십시오.'}}\n",
      "[]\n",
      "8000195 청주대성고등학교\n",
      "급식 정보 조회 중: 날짜=20241030\n"
     ]
    },
    {
     "name": "stderr",
     "output_type": "stream",
     "text": [
      " ... (more hidden) ..."
     ]
    },
    {
     "name": "stdout",
     "output_type": "stream",
     "text": [
      "mealService 응답코드: 200\n",
      "mealServiceDietInfo 키 없음: {'RESULT': {'CODE': 'ERROR-300', 'MESSAGE': '필수 값이 누락되어 있습니다. 요청인자를 참고 하십시오.'}}\n",
      "[]\n",
      "8000203 청주신흥고등학교\n",
      "급식 정보 조회 중: 날짜=20241030\n",
      "mealService 응답코드: 200\n",
      "mealServiceDietInfo 키 없음: {'RESULT': {'CODE': 'ERROR-300', 'MESSAGE': '필수 값이 누락되어 있습니다. 요청인자를 참고 하십시오.'}}\n",
      "[]\n"
     ]
    },
    {
     "name": "stderr",
     "output_type": "stream",
     "text": [
      " ... (more hidden) ..."
     ]
    },
    {
     "name": "stdout",
     "output_type": "stream",
     "text": [
      "8000069 청주여자고등학교\n",
      "급식 정보 조회 중: 날짜=20241030\n",
      "mealService 응답코드: 200\n",
      "mealServiceDietInfo 키 없음: {'RESULT': {'CODE': 'ERROR-300', 'MESSAGE': '필수 값이 누락되어 있습니다. 요청인자를 참고 하십시오.'}}\n",
      "[]\n",
      "8000140 청주여자상업고등학교\n",
      "급식 정보 조회 중: 날짜=20241030\n"
     ]
    },
    {
     "name": "stderr",
     "output_type": "stream",
     "text": [
      " ... (more hidden) ..."
     ]
    },
    {
     "name": "stdout",
     "output_type": "stream",
     "text": [
      "mealService 응답코드: 200\n",
      "mealServiceDietInfo 키 없음: {'RESULT': {'CODE': 'ERROR-300', 'MESSAGE': '필수 값이 누락되어 있습니다. 요청인자를 참고 하십시오.'}}\n",
      "[]\n",
      "8000070 청주외국어고등학교\n",
      "급식 정보 조회 중: 날짜=20241030\n",
      "mealService 응답코드: 200\n",
      "mealServiceDietInfo 키 없음: {'RESULT': {'CODE': 'ERROR-300', 'MESSAGE': '필수 값이 누락되어 있습니다. 요청인자를 참고 하십시오.'}}\n",
      "[]\n"
     ]
    },
    {
     "name": "stderr",
     "output_type": "stream",
     "text": [
      " ... (more hidden) ..."
     ]
    },
    {
     "name": "stdout",
     "output_type": "stream",
     "text": [
      "8000072 청주중앙여자고등학교\n",
      "급식 정보 조회 중: 날짜=20241030\n",
      "mealService 응답코드: 200\n",
      "mealServiceDietInfo 키 없음: {'RESULT': {'CODE': 'ERROR-300', 'MESSAGE': '필수 값이 누락되어 있습니다. 요청인자를 참고 하십시오.'}}\n",
      "[]\n"
     ]
    },
    {
     "name": "stderr",
     "output_type": "stream",
     "text": [
      " ... (more hidden) ..."
     ]
    },
    {
     "name": "stdout",
     "output_type": "stream",
     "text": [
      "8000430 청주하이텍고등학교\n",
      "급식 정보 조회 중: 날짜=20241030\n",
      "mealService 응답코드: 200\n",
      "mealServiceDietInfo 키 없음: {'RESULT': {'CODE': 'ERROR-300', 'MESSAGE': '필수 값이 누락되어 있습니다. 요청인자를 참고 하십시오.'}}\n",
      "[]\n"
     ]
    },
    {
     "name": "stderr",
     "output_type": "stream",
     "text": [
      " ... (more hidden) ..."
     ]
    },
    {
     "name": "stdout",
     "output_type": "stream",
     "text": [
      "8000074 충북고등학교\n",
      "급식 정보 조회 중: 날짜=20241030\n",
      "mealService 응답코드: 200\n",
      "mealServiceDietInfo 키 없음: {'RESULT': {'CODE': 'ERROR-300', 'MESSAGE': '필수 값이 누락되어 있습니다. 요청인자를 참고 하십시오.'}}\n",
      "[]\n",
      "8000127 충북공업고등학교\n",
      "급식 정보 조회 중: 날짜=20241030\n"
     ]
    },
    {
     "name": "stderr",
     "output_type": "stream",
     "text": [
      " ... (more hidden) ..."
     ]
    },
    {
     "name": "stdout",
     "output_type": "stream",
     "text": [
      "mealService 응답코드: 200\n",
      "mealServiceDietInfo 키 없음: {'RESULT': {'CODE': 'ERROR-300', 'MESSAGE': '필수 값이 누락되어 있습니다. 요청인자를 참고 하십시오.'}}\n",
      "[]\n",
      "8000075 충북과학고등학교\n",
      "급식 정보 조회 중: 날짜=20241030\n",
      "mealService 응답코드: 200\n",
      "mealServiceDietInfo 키 없음: {'RESULT': {'CODE': 'ERROR-300', 'MESSAGE': '필수 값이 누락되어 있습니다. 요청인자를 참고 하십시오.'}}\n",
      "[]\n"
     ]
    },
    {
     "name": "stderr",
     "output_type": "stream",
     "text": [
      " ... (more hidden) ..."
     ]
    },
    {
     "name": "stdout",
     "output_type": "stream",
     "text": [
      "7003892 충북대학교사범대학부설고등학교\n",
      "급식 정보 조회 중: 날짜=20241030\n",
      "mealService 응답코드: 200\n",
      "mealServiceDietInfo 키 없음: {'RESULT': {'CODE': 'ERROR-300', 'MESSAGE': '필수 값이 누락되어 있습니다. 요청인자를 참고 하십시오.'}}\n",
      "[]\n",
      "8000237 충북반도체고등학교\n",
      "급식 정보 조회 중: 날짜=20241030\n",
      "mealService 응답코드: 200\n",
      "mealServiceDietInfo 키 없음: {'RESULT': {'CODE': 'ERROR-300', 'MESSAGE': '필수 값이 누락되어 있습니다. 요청인자를 참고 하십시오.'}}\n",
      "[]\n"
     ]
    },
    {
     "name": "stderr",
     "output_type": "stream",
     "text": [
      " ... (more hidden) ..."
     ]
    },
    {
     "name": "stdout",
     "output_type": "stream",
     "text": [
      "8000527 충북비즈니스고등학교\n",
      "급식 정보 조회 중: 날짜=20241030\n",
      "mealService 응답코드: 200\n",
      "mealServiceDietInfo 키 없음: {'RESULT': {'CODE': 'ERROR-300', 'MESSAGE': '필수 값이 누락되어 있습니다. 요청인자를 참고 하십시오.'}}\n",
      "[]\n",
      "8000384 충북산업과학고등학교\n",
      "급식 정보 조회 중: 날짜=20241030\n",
      "mealService 응답코드: 200\n",
      "mealServiceDietInfo 키 없음: {'RESULT': {'CODE': 'ERROR-300', 'MESSAGE': '필수 값이 누락되어 있습니다. 요청인자를 참고 하십시오.'}}\n"
     ]
    },
    {
     "name": "stderr",
     "output_type": "stream",
     "text": [
      " ... (more hidden) ..."
     ]
    },
    {
     "name": "stdout",
     "output_type": "stream",
     "text": [
      "[]\n",
      "8000335 충북상업정보고등학교\n",
      "급식 정보 조회 중: 날짜=20241030\n",
      "mealService 응답코드: 200\n",
      "mealServiceDietInfo 키 없음: {'RESULT': {'CODE': 'ERROR-300', 'MESSAGE': '필수 값이 누락되어 있습니다. 요청인자를 참고 하십시오.'}}\n",
      "[]\n"
     ]
    },
    {
     "name": "stderr",
     "output_type": "stream",
     "text": [
      " ... (more hidden) ..."
     ]
    },
    {
     "name": "stdout",
     "output_type": "stream",
     "text": [
      "8000383 충북생명산업고등학교\n",
      "급식 정보 조회 중: 날짜=20241030\n",
      "mealService 응답코드: 200\n",
      "mealServiceDietInfo 키 없음: {'RESULT': {'CODE': 'ERROR-300', 'MESSAGE': '필수 값이 누락되어 있습니다. 요청인자를 참고 하십시오.'}}\n",
      "[]\n",
      "8000310 충북에너지고등학교\n",
      "급식 정보 조회 중: 날짜=20241030\n"
     ]
    },
    {
     "name": "stderr",
     "output_type": "stream",
     "text": [
      " ... (more hidden) ..."
     ]
    },
    {
     "name": "stdout",
     "output_type": "stream",
     "text": [
      "mealService 응답코드: 200\n",
      "mealServiceDietInfo 키 없음: {'RESULT': {'CODE': 'ERROR-300', 'MESSAGE': '필수 값이 누락되어 있습니다. 요청인자를 참고 하십시오.'}}\n",
      "[]\n",
      "8000099 충북여자고등학교\n",
      "급식 정보 조회 중: 날짜=20241030\n",
      "mealService 응답코드: 200\n",
      "mealServiceDietInfo 키 없음: {'RESULT': {'CODE': 'ERROR-300', 'MESSAGE': '필수 값이 누락되어 있습니다. 요청인자를 참고 하십시오.'}}\n",
      "[]\n"
     ]
    },
    {
     "name": "stderr",
     "output_type": "stream",
     "text": [
      " ... (more hidden) ..."
     ]
    },
    {
     "name": "stdout",
     "output_type": "stream",
     "text": [
      "8000076 충북예술고등학교\n",
      "급식 정보 조회 중: 날짜=20241030\n",
      "mealService 응답코드: 200\n",
      "mealServiceDietInfo 키 없음: {'RESULT': {'CODE': 'ERROR-300', 'MESSAGE': '필수 값이 누락되어 있습니다. 요청인자를 참고 하십시오.'}}\n",
      "[]\n",
      "8000077 충북체육고등학교\n",
      "급식 정보 조회 중: 날짜=20241030\n"
     ]
    },
    {
     "name": "stderr",
     "output_type": "stream",
     "text": [
      " ... (more hidden) ..."
     ]
    },
    {
     "name": "stdout",
     "output_type": "stream",
     "text": [
      "mealService 응답코드: 200\n",
      "mealServiceDietInfo 키 없음: {'RESULT': {'CODE': 'ERROR-300', 'MESSAGE': '필수 값이 누락되어 있습니다. 요청인자를 참고 하십시오.'}}\n",
      "[]\n",
      "8000100 충원고등학교\n",
      "급식 정보 조회 중: 날짜=20241030\n",
      "mealService 응답코드: 200\n",
      "mealServiceDietInfo 키 없음: {'RESULT': {'CODE': 'ERROR-300', 'MESSAGE': '필수 값이 누락되어 있습니다. 요청인자를 참고 하십시오.'}}\n",
      "[]\n"
     ]
    },
    {
     "name": "stderr",
     "output_type": "stream",
     "text": [
      " ... (more hidden) ..."
     ]
    },
    {
     "name": "stdout",
     "output_type": "stream",
     "text": [
      "8000078 충주고등학교\n",
      "급식 정보 조회 중: 날짜=20241030\n",
      "mealService 응답코드: 200\n",
      "mealServiceDietInfo 키 없음: {'RESULT': {'CODE': 'ERROR-300', 'MESSAGE': '필수 값이 누락되어 있습니다. 요청인자를 참고 하십시오.'}}\n",
      "[]\n",
      "8000129 충주공업고등학교\n",
      "급식 정보 조회 중: 날짜=20241030\n"
     ]
    },
    {
     "name": "stderr",
     "output_type": "stream",
     "text": [
      " ... (more hidden) ..."
     ]
    },
    {
     "name": "stdout",
     "output_type": "stream",
     "text": [
      "mealService 응답코드: 200\n",
      "mealServiceDietInfo 키 없음: {'RESULT': {'CODE': 'ERROR-300', 'MESSAGE': '필수 값이 누락되어 있습니다. 요청인자를 참고 하십시오.'}}\n",
      "[]\n",
      "8000202 충주대원고등학교\n",
      "급식 정보 조회 중: 날짜=20241030\n",
      "mealService 응답코드: 200\n",
      "mealServiceDietInfo 키 없음: {'RESULT': {'CODE': 'ERROR-300', 'MESSAGE': '필수 값이 누락되어 있습니다. 요청인자를 참고 하십시오.'}}\n",
      "[]\n"
     ]
    },
    {
     "name": "stderr",
     "output_type": "stream",
     "text": [
      " ... (more hidden) ..."
     ]
    },
    {
     "name": "stdout",
     "output_type": "stream",
     "text": [
      "8000141 충주상업고등학교\n",
      "급식 정보 조회 중: 날짜=20241030\n",
      "mealService 응답코드: 200\n",
      "mealServiceDietInfo 키 없음: {'RESULT': {'CODE': 'ERROR-300', 'MESSAGE': '필수 값이 누락되어 있습니다. 요청인자를 참고 하십시오.'}}\n",
      "[]\n",
      "8000080 충주여자고등학교\n",
      "급식 정보 조회 중: 날짜=20241030\n"
     ]
    },
    {
     "name": "stderr",
     "output_type": "stream",
     "text": [
      " ... (more hidden) ..."
     ]
    },
    {
     "name": "stdout",
     "output_type": "stream",
     "text": [
      "mealService 응답코드: 200\n",
      "mealServiceDietInfo 키 없음: {'RESULT': {'CODE': 'ERROR-300', 'MESSAGE': '필수 값이 누락되어 있습니다. 요청인자를 참고 하십시오.'}}\n",
      "[]\n",
      "8000081 충주예성여자고등학교\n",
      "급식 정보 조회 중: 날짜=20241030\n",
      "mealService 응답코드: 200\n",
      "mealServiceDietInfo 키 없음: {'RESULT': {'CODE': 'ERROR-300', 'MESSAGE': '필수 값이 누락되어 있습니다. 요청인자를 참고 하십시오.'}}\n",
      "[]\n"
     ]
    },
    {
     "name": "stderr",
     "output_type": "stream",
     "text": [
      " ... (more hidden) ..."
     ]
    },
    {
     "name": "stdout",
     "output_type": "stream",
     "text": [
      "8000281 충주중산고등학교\n",
      "급식 정보 조회 중: 날짜=20241030\n",
      "mealService 응답코드: 200\n",
      "mealServiceDietInfo 키 없음: {'RESULT': {'CODE': 'ERROR-300', 'MESSAGE': '필수 값이 누락되어 있습니다. 요청인자를 참고 하십시오.'}}\n",
      "[]\n",
      "8000309 학산고등학교\n",
      "급식 정보 조회 중: 날짜=20241030\n"
     ]
    },
    {
     "name": "stderr",
     "output_type": "stream",
     "text": [
      " ... (more hidden) ..."
     ]
    },
    {
     "name": "stdout",
     "output_type": "stream",
     "text": [
      "mealService 응답코드: 200\n",
      "mealServiceDietInfo 키 없음: {'RESULT': {'CODE': 'ERROR-300', 'MESSAGE': '필수 값이 누락되어 있습니다. 요청인자를 참고 하십시오.'}}\n",
      "[]\n",
      "7003851 한국교원대학교부설고등학교\n",
      "급식 정보 조회 중: 날짜=20241030\n",
      "mealService 응답코드: 200\n",
      "mealServiceDietInfo 키 없음: {'RESULT': {'CODE': 'ERROR-300', 'MESSAGE': '필수 값이 누락되어 있습니다. 요청인자를 참고 하십시오.'}}\n",
      "[]\n"
     ]
    },
    {
     "name": "stderr",
     "output_type": "stream",
     "text": [
      " ... (more hidden) ..."
     ]
    },
    {
     "name": "stdout",
     "output_type": "stream",
     "text": [
      "8000287 한국바이오마이스터고등학교\n",
      "급식 정보 조회 중: 날짜=20241030\n",
      "mealService 응답코드: 200\n",
      "mealServiceDietInfo 키 없음: {'RESULT': {'CODE': 'ERROR-300', 'MESSAGE': '필수 값이 누락되어 있습니다. 요청인자를 참고 하십시오.'}}\n",
      "[]\n",
      "8000311 한국호텔관광고등학교\n",
      "급식 정보 조회 중: 날짜=20241030\n"
     ]
    },
    {
     "name": "stderr",
     "output_type": "stream",
     "text": [
      " ... (more hidden) ..."
     ]
    },
    {
     "name": "stdout",
     "output_type": "stream",
     "text": [
      "mealService 응답코드: 200\n",
      "mealServiceDietInfo 키 없음: {'RESULT': {'CODE': 'ERROR-300', 'MESSAGE': '필수 값이 누락되어 있습니다. 요청인자를 참고 하십시오.'}}\n",
      "[]\n",
      "8000269 한림디자인고등학교\n",
      "급식 정보 조회 중: 날짜=20241030\n",
      "mealService 응답코드: 200\n",
      "mealServiceDietInfo 키 없음: {'RESULT': {'CODE': 'ERROR-300', 'MESSAGE': '필수 값이 누락되어 있습니다. 요청인자를 참고 하십시오.'}}\n",
      "[]\n"
     ]
    },
    {
     "name": "stderr",
     "output_type": "stream",
     "text": [
      " ... (more hidden) ..."
     ]
    },
    {
     "name": "stdout",
     "output_type": "stream",
     "text": [
      "8000102 형석고등학교\n",
      "급식 정보 조회 중: 날짜=20241030\n",
      "mealService 응답코드: 200\n",
      "mealServiceDietInfo 키 없음: {'RESULT': {'CODE': 'ERROR-300', 'MESSAGE': '필수 값이 누락되어 있습니다. 요청인자를 참고 하십시오.'}}\n",
      "[]\n",
      "8000082 황간고등학교\n",
      "급식 정보 조회 중: 날짜=20241030\n"
     ]
    },
    {
     "name": "stderr",
     "output_type": "stream",
     "text": [
      " ... (more hidden) ..."
     ]
    },
    {
     "name": "stdout",
     "output_type": "stream",
     "text": [
      "mealService 응답코드: 200\n",
      "mealServiceDietInfo 키 없음: {'RESULT': {'CODE': 'ERROR-300', 'MESSAGE': '필수 값이 누락되어 있습니다. 요청인자를 참고 하십시오.'}}\n",
      "[]\n",
      "8000200 흥덕고등학교\n",
      "급식 정보 조회 중: 날짜=20241030\n",
      "mealService 응답코드: 200\n",
      "mealServiceDietInfo 키 없음: {'RESULT': {'CODE': 'ERROR-300', 'MESSAGE': '필수 값이 누락되어 있습니다. 요청인자를 참고 하십시오.'}}\n",
      "[]\n"
     ]
    },
    {
     "name": "stderr",
     "output_type": "stream",
     "text": [
      " ... (more hidden) ...\n"
     ]
    },
    {
     "name": "stdout",
     "output_type": "stream",
     "text": [
      "응답코드 : 200\n"
     ]
    },
    {
     "name": "stderr",
     "output_type": "stream",
     "text": [
      " ... (more hidden) ..."
     ]
    },
    {
     "name": "stdout",
     "output_type": "stream",
     "text": [
      "8140032 갈산고등학교\n",
      "급식 정보 조회 중: 날짜=20241030\n",
      "mealService 응답코드: 200\n",
      "mealServiceDietInfo 키 없음: {'RESULT': {'CODE': 'ERROR-300', 'MESSAGE': '필수 값이 누락되어 있습니다. 요청인자를 참고 하십시오.'}}\n",
      "[]\n",
      "8140034 강경고등학교\n",
      "급식 정보 조회 중: 날짜=20241030\n"
     ]
    },
    {
     "name": "stderr",
     "output_type": "stream",
     "text": [
      " ... (more hidden) ..."
     ]
    },
    {
     "name": "stdout",
     "output_type": "stream",
     "text": [
      "mealService 응답코드: 200\n",
      "mealServiceDietInfo 키 없음: {'RESULT': {'CODE': 'ERROR-300', 'MESSAGE': '필수 값이 누락되어 있습니다. 요청인자를 참고 하십시오.'}}\n",
      "[]\n",
      "8140378 강경상업고등학교\n",
      "급식 정보 조회 중: 날짜=20241030\n",
      "mealService 응답코드: 200\n",
      "mealServiceDietInfo 키 없음: {'RESULT': {'CODE': 'ERROR-300', 'MESSAGE': '필수 값이 누락되어 있습니다. 요청인자를 참고 하십시오.'}}\n",
      "[]\n"
     ]
    },
    {
     "name": "stderr",
     "output_type": "stream",
     "text": [
      " ... (more hidden) ..."
     ]
    },
    {
     "name": "stdout",
     "output_type": "stream",
     "text": [
      "8140360 건양대학교병설건양고등학교\n",
      "급식 정보 조회 중: 날짜=20241030\n",
      "mealService 응답코드: 200\n",
      "mealServiceDietInfo 키 없음: {'RESULT': {'CODE': 'ERROR-300', 'MESSAGE': '필수 값이 누락되어 있습니다. 요청인자를 참고 하십시오.'}}\n",
      "[]\n",
      "8140237 계룡고등학교\n",
      "급식 정보 조회 중: 날짜=20241030\n"
     ]
    },
    {
     "name": "stderr",
     "output_type": "stream",
     "text": [
      " ... (more hidden) ..."
     ]
    },
    {
     "name": "stdout",
     "output_type": "stream",
     "text": [
      "mealService 응답코드: 200\n",
      "mealServiceDietInfo 키 없음: {'RESULT': {'CODE': 'ERROR-300', 'MESSAGE': '필수 값이 누락되어 있습니다. 요청인자를 참고 하십시오.'}}\n",
      "[]\n",
      "8140036 공주고등학교\n",
      "급식 정보 조회 중: 날짜=20241030\n",
      "mealService 응답코드: 200\n",
      "mealServiceDietInfo 키 없음: {'RESULT': {'CODE': 'ERROR-300', 'MESSAGE': '필수 값이 누락되어 있습니다. 요청인자를 참고 하십시오.'}}\n",
      "[]\n"
     ]
    },
    {
     "name": "stderr",
     "output_type": "stream",
     "text": [
      " ... (more hidden) ..."
     ]
    },
    {
     "name": "stdout",
     "output_type": "stream",
     "text": [
      "8140080 공주금성여자고등학교\n",
      "급식 정보 조회 중: 날짜=20241030\n",
      "mealService 응답코드: 200\n",
      "mealServiceDietInfo 키 없음: {'RESULT': {'CODE': 'ERROR-300', 'MESSAGE': '필수 값이 누락되어 있습니다. 요청인자를 참고 하십시오.'}}\n",
      "[]\n",
      "8140347 공주마이스터고등학교\n",
      "급식 정보 조회 중: 날짜=20241030\n"
     ]
    },
    {
     "name": "stderr",
     "output_type": "stream",
     "text": [
      " ... (more hidden) ..."
     ]
    },
    {
     "name": "stdout",
     "output_type": "stream",
     "text": [
      "mealService 응답코드: 200\n",
      "mealServiceDietInfo 키 없음: {'RESULT': {'CODE': 'ERROR-300', 'MESSAGE': '필수 값이 누락되어 있습니다. 요청인자를 참고 하십시오.'}}\n",
      "[]\n",
      "8140238 공주생명과학고등학교\n",
      "급식 정보 조회 중: 날짜=20241030\n",
      "mealService 응답코드: 200\n",
      "mealServiceDietInfo 키 없음: {'RESULT': {'CODE': 'ERROR-300', 'MESSAGE': '필수 값이 누락되어 있습니다. 요청인자를 참고 하십시오.'}}\n",
      "[]\n"
     ]
    },
    {
     "name": "stderr",
     "output_type": "stream",
     "text": [
      " ... (more hidden) ..."
     ]
    },
    {
     "name": "stdout",
     "output_type": "stream",
     "text": [
      "8140037 공주여자고등학교\n",
      "급식 정보 조회 중: 날짜=20241030\n",
      "mealService 응답코드: 200\n",
      "mealServiceDietInfo 키 없음: {'RESULT': {'CODE': 'ERROR-300', 'MESSAGE': '필수 값이 누락되어 있습니다. 요청인자를 참고 하십시오.'}}\n",
      "[]\n",
      "8140082 공주영명고등학교\n",
      "급식 정보 조회 중: 날짜=20241030\n",
      "mealService 응답코드: 200\n",
      "mealServiceDietInfo 키 없음: {'RESULT': {'CODE': 'ERROR-300', 'MESSAGE': '필수 값이 누락되어 있습니다. 요청인자를 참고 하십시오.'}}\n",
      "[]\n"
     ]
    },
    {
     "name": "stderr",
     "output_type": "stream",
     "text": [
      " ... (more hidden) ..."
     ]
    },
    {
     "name": "stdout",
     "output_type": "stream",
     "text": [
      "8140196 공주정보고등학교\n",
      "급식 정보 조회 중: 날짜=20241030\n",
      "mealService 응답코드: 200\n",
      "mealServiceDietInfo 키 없음: {'RESULT': {'CODE': 'ERROR-300', 'MESSAGE': '필수 값이 누락되어 있습니다. 요청인자를 참고 하십시오.'}}\n",
      "[]\n",
      "C035903 국립공주대학교사범대학부설고등학교\n",
      "급식 정보 조회 중: 날짜=20241030\n"
     ]
    },
    {
     "name": "stderr",
     "output_type": "stream",
     "text": [
      " ... (more hidden) ..."
     ]
    },
    {
     "name": "stdout",
     "output_type": "stream",
     "text": [
      "mealService 응답코드: 200\n",
      "mealServiceDietInfo 키 없음: {'RESULT': {'CODE': 'ERROR-300', 'MESSAGE': '필수 값이 누락되어 있습니다. 요청인자를 참고 하십시오.'}}\n",
      "[]\n",
      "8140498 국방항공고등학교\n",
      "급식 정보 조회 중: 날짜=20241030\n",
      "mealService 응답코드: 200\n",
      "mealServiceDietInfo 키 없음: {'RESULT': {'CODE': 'ERROR-300', 'MESSAGE': '필수 값이 누락되어 있습니다. 요청인자를 참고 하십시오.'}}\n",
      "[]\n"
     ]
    },
    {
     "name": "stderr",
     "output_type": "stream",
     "text": [
      " ... (more hidden) ..."
     ]
    },
    {
     "name": "stdout",
     "output_type": "stream",
     "text": [
      "8140038 금산고등학교\n",
      "급식 정보 조회 중: 날짜=20241030\n",
      "mealService 응답코드: 200\n",
      "mealServiceDietInfo 키 없음: {'RESULT': {'CODE': 'ERROR-300', 'MESSAGE': '필수 값이 누락되어 있습니다. 요청인자를 참고 하십시오.'}}\n",
      "[]\n"
     ]
    },
    {
     "name": "stderr",
     "output_type": "stream",
     "text": [
      " ... (more hidden) ..."
     ]
    },
    {
     "name": "stdout",
     "output_type": "stream",
     "text": [
      "8140115 금산산업고등학교\n",
      "급식 정보 조회 중: 날짜=20241030\n",
      "mealService 응답코드: 200\n",
      "mealServiceDietInfo 키 없음: {'RESULT': {'CODE': 'ERROR-300', 'MESSAGE': '필수 값이 누락되어 있습니다. 요청인자를 참고 하십시오.'}}\n",
      "[]\n",
      "8140039 금산여자고등학교\n",
      "급식 정보 조회 중: 날짜=20241030\n",
      "mealService 응답코드: 200\n",
      "mealServiceDietInfo 키 없음: {'RESULT': {'CODE': 'ERROR-300', 'MESSAGE': '필수 값이 누락되어 있습니다. 요청인자를 참고 하십시오.'}}\n",
      "[]\n"
     ]
    },
    {
     "name": "stderr",
     "output_type": "stream",
     "text": [
      " ... (more hidden) ..."
     ]
    },
    {
     "name": "stdout",
     "output_type": "stream",
     "text": [
      "8140343 금산하이텍고등학교\n",
      "급식 정보 조회 중: 날짜=20241030\n",
      "mealService 응답코드: 200\n",
      "mealServiceDietInfo 키 없음: {'RESULT': {'CODE': 'ERROR-300', 'MESSAGE': '필수 값이 누락되어 있습니다. 요청인자를 참고 하십시오.'}}\n",
      "[]\n",
      "8140040 논산고등학교\n",
      "급식 정보 조회 중: 날짜=20241030\n",
      "mealService 응답코드: 200\n",
      "mealServiceDietInfo 키 없음: {'RESULT': {'CODE': 'ERROR-300', 'MESSAGE': '필수 값이 누락되어 있습니다. 요청인자를 참고 하십시오.'}}\n",
      "[]\n"
     ]
    },
    {
     "name": "stderr",
     "output_type": "stream",
     "text": [
      " ... (more hidden) ..."
     ]
    },
    {
     "name": "stdout",
     "output_type": "stream",
     "text": [
      "8140085 논산대건고등학교\n",
      "급식 정보 조회 중: 날짜=20241030\n",
      "mealService 응답코드: 200\n",
      "mealServiceDietInfo 키 없음: {'RESULT': {'CODE': 'ERROR-300', 'MESSAGE': '필수 값이 누락되어 있습니다. 요청인자를 참고 하십시오.'}}\n",
      "[]\n",
      "8140041 논산여자고등학교\n",
      "급식 정보 조회 중: 날짜=20241030\n"
     ]
    },
    {
     "name": "stderr",
     "output_type": "stream",
     "text": [
      " ... (more hidden) ..."
     ]
    },
    {
     "name": "stdout",
     "output_type": "stream",
     "text": [
      "mealService 응답코드: 200\n",
      "mealServiceDietInfo 키 없음: {'RESULT': {'CODE': 'ERROR-300', 'MESSAGE': '필수 값이 누락되어 있습니다. 요청인자를 참고 하십시오.'}}\n",
      "[]\n",
      "8140152 논산여자상업고등학교\n",
      "급식 정보 조회 중: 날짜=20241030\n",
      "mealService 응답코드: 200\n",
      "mealServiceDietInfo 키 없음: {'RESULT': {'CODE': 'ERROR-300', 'MESSAGE': '필수 값이 누락되어 있습니다. 요청인자를 참고 하십시오.'}}\n",
      "[]\n"
     ]
    },
    {
     "name": "stderr",
     "output_type": "stream",
     "text": [
      " ... (more hidden) ..."
     ]
    },
    {
     "name": "stdout",
     "output_type": "stream",
     "text": [
      "8140042 당진고등학교\n",
      "급식 정보 조회 중: 날짜=20241030\n",
      "mealService 응답코드: 200\n",
      "mealServiceDietInfo 키 없음: {'RESULT': {'CODE': 'ERROR-300', 'MESSAGE': '필수 값이 누락되어 있습니다. 요청인자를 참고 하십시오.'}}\n",
      "[]\n",
      "8140118 당진정보고등학교\n",
      "급식 정보 조회 중: 날짜=20241030\n"
     ]
    },
    {
     "name": "stderr",
     "output_type": "stream",
     "text": [
      " ... (more hidden) ..."
     ]
    },
    {
     "name": "stdout",
     "output_type": "stream",
     "text": [
      "mealService 응답코드: 200\n",
      "mealServiceDietInfo 키 없음: {'RESULT': {'CODE': 'ERROR-300', 'MESSAGE': '필수 값이 누락되어 있습니다. 요청인자를 참고 하십시오.'}}\n",
      "[]\n",
      "8140254 대산고등학교\n",
      "급식 정보 조회 중: 날짜=20241030\n",
      "mealService 응답코드: 200\n",
      "mealServiceDietInfo 키 없음: {'RESULT': {'CODE': 'ERROR-300', 'MESSAGE': '필수 값이 누락되어 있습니다. 요청인자를 참고 하십시오.'}}\n",
      "[]\n"
     ]
    },
    {
     "name": "stderr",
     "output_type": "stream",
     "text": [
      " ... (more hidden) ..."
     ]
    },
    {
     "name": "stdout",
     "output_type": "stream",
     "text": [
      "8140044 대천고등학교\n",
      "급식 정보 조회 중: 날짜=20241030\n",
      "mealService 응답코드: 200\n",
      "mealServiceDietInfo 키 없음: {'RESULT': {'CODE': 'ERROR-300', 'MESSAGE': '필수 값이 누락되어 있습니다. 요청인자를 참고 하십시오.'}}\n",
      "[]\n",
      "8140045 대천여자고등학교\n",
      "급식 정보 조회 중: 날짜=20241030\n"
     ]
    },
    {
     "name": "stderr",
     "output_type": "stream",
     "text": [
      " ... (more hidden) ..."
     ]
    },
    {
     "name": "stdout",
     "output_type": "stream",
     "text": [
      "mealService 응답코드: 200\n",
      "mealServiceDietInfo 키 없음: {'RESULT': {'CODE': 'ERROR-300', 'MESSAGE': '필수 값이 누락되어 있습니다. 요청인자를 참고 하십시오.'}}\n",
      "[]\n",
      "8140120 대천여자상업고등학교\n",
      "급식 정보 조회 중: 날짜=20241030\n",
      "mealService 응답코드: 200\n",
      "mealServiceDietInfo 키 없음: {'RESULT': {'CODE': 'ERROR-300', 'MESSAGE': '필수 값이 누락되어 있습니다. 요청인자를 참고 하십시오.'}}\n",
      "[]\n"
     ]
    },
    {
     "name": "stderr",
     "output_type": "stream",
     "text": [
      " ... (more hidden) ..."
     ]
    },
    {
     "name": "stdout",
     "output_type": "stream",
     "text": [
      "8140086 대흥고등학교\n",
      "급식 정보 조회 중: 날짜=20241030\n",
      "mealService 응답코드: 200\n",
      "mealServiceDietInfo 키 없음: {'RESULT': {'CODE': 'ERROR-300', 'MESSAGE': '필수 값이 누락되어 있습니다. 요청인자를 참고 하십시오.'}}\n",
      "[]\n",
      "8140046 덕산고등학교\n",
      "급식 정보 조회 중: 날짜=20241030\n",
      "mealService 응답코드: 200\n",
      "mealServiceDietInfo 키 없음: {'RESULT': {'CODE': 'ERROR-300', 'MESSAGE': '필수 값이 누락되어 있습니다. 요청인자를 참고 하십시오.'}}\n",
      "[]\n"
     ]
    },
    {
     "name": "stderr",
     "output_type": "stream",
     "text": [
      " ... (more hidden) ..."
     ]
    },
    {
     "name": "stdout",
     "output_type": "stream",
     "text": [
      "8140048 만리포고등학교\n",
      "급식 정보 조회 중: 날짜=20241030\n",
      "mealService 응답코드: 200\n",
      "mealServiceDietInfo 키 없음: {'RESULT': {'CODE': 'ERROR-300', 'MESSAGE': '필수 값이 누락되어 있습니다. 요청인자를 참고 하십시오.'}}\n",
      "[]\n",
      "8140049 목천고등학교\n",
      "급식 정보 조회 중: 날짜=20241030\n"
     ]
    },
    {
     "name": "stderr",
     "output_type": "stream",
     "text": [
      " ... (more hidden) ..."
     ]
    },
    {
     "name": "stdout",
     "output_type": "stream",
     "text": [
      "mealService 응답코드: 200\n",
      "mealServiceDietInfo 키 없음: {'RESULT': {'CODE': 'ERROR-300', 'MESSAGE': '필수 값이 누락되어 있습니다. 요청인자를 참고 하십시오.'}}\n",
      "[]\n",
      "8140256 배방고등학교\n",
      "급식 정보 조회 중: 날짜=20241030\n",
      "mealService 응답코드: 200\n",
      "mealServiceDietInfo 키 없음: {'RESULT': {'CODE': 'ERROR-300', 'MESSAGE': '필수 값이 누락되어 있습니다. 요청인자를 참고 하십시오.'}}\n",
      "[]\n"
     ]
    },
    {
     "name": "stderr",
     "output_type": "stream",
     "text": [
      " ... (more hidden) ..."
     ]
    },
    {
     "name": "stdout",
     "output_type": "stream",
     "text": [
      "8140050 병천고등학교\n",
      "급식 정보 조회 중: 날짜=20241030\n",
      "mealService 응답코드: 200\n",
      "mealServiceDietInfo 키 없음: {'RESULT': {'CODE': 'ERROR-300', 'MESSAGE': '필수 값이 누락되어 있습니다. 요청인자를 참고 하십시오.'}}\n",
      "[]\n",
      "8140087 복자여자고등학교\n",
      "급식 정보 조회 중: 날짜=20241030\n"
     ]
    },
    {
     "name": "stderr",
     "output_type": "stream",
     "text": [
      " ... (more hidden) ..."
     ]
    },
    {
     "name": "stdout",
     "output_type": "stream",
     "text": [
      "mealService 응답코드: 200\n",
      "mealServiceDietInfo 키 없음: {'RESULT': {'CODE': 'ERROR-300', 'MESSAGE': '필수 값이 누락되어 있습니다. 요청인자를 참고 하십시오.'}}\n",
      "[]\n",
      "8140051 부석고등학교\n",
      "급식 정보 조회 중: 날짜=20241030\n",
      "mealService 응답코드: 200\n",
      "mealServiceDietInfo 키 없음: {'RESULT': {'CODE': 'ERROR-300', 'MESSAGE': '필수 값이 누락되어 있습니다. 요청인자를 참고 하십시오.'}}\n",
      "[]\n"
     ]
    },
    {
     "name": "stderr",
     "output_type": "stream",
     "text": [
      " ... (more hidden) ..."
     ]
    },
    {
     "name": "stdout",
     "output_type": "stream",
     "text": [
      "8140052 부여고등학교\n",
      "급식 정보 조회 중: 날짜=20241030\n",
      "mealService 응답코드: 200\n",
      "mealServiceDietInfo 키 없음: {'RESULT': {'CODE': 'ERROR-300', 'MESSAGE': '필수 값이 누락되어 있습니다. 요청인자를 참고 하십시오.'}}\n",
      "[]\n",
      "8140053 부여여자고등학교\n",
      "급식 정보 조회 중: 날짜=20241030\n"
     ]
    },
    {
     "name": "stderr",
     "output_type": "stream",
     "text": [
      " ... (more hidden) ..."
     ]
    },
    {
     "name": "stdout",
     "output_type": "stream",
     "text": [
      "mealService 응답코드: 200\n",
      "mealServiceDietInfo 키 없음: {'RESULT': {'CODE': 'ERROR-300', 'MESSAGE': '필수 값이 누락되어 있습니다. 요청인자를 참고 하십시오.'}}\n",
      "[]\n",
      "8140192 부여전자고등학교\n",
      "급식 정보 조회 중: 날짜=20241030\n"
     ]
    },
    {
     "name": "stderr",
     "output_type": "stream",
     "text": [
      " ... (more hidden) ..."
     ]
    },
    {
     "name": "stdout",
     "output_type": "stream",
     "text": [
      "mealService 응답코드: 200\n",
      "mealServiceDietInfo 키 없음: {'RESULT': {'CODE': 'ERROR-300', 'MESSAGE': '필수 값이 누락되어 있습니다. 요청인자를 참고 하십시오.'}}\n",
      "[]\n",
      "8140193 부여정보고등학교\n",
      "급식 정보 조회 중: 날짜=20241030\n",
      "mealService 응답코드: 200\n",
      "mealServiceDietInfo 키 없음: {'RESULT': {'CODE': 'ERROR-300', 'MESSAGE': '필수 값이 누락되어 있습니다. 요청인자를 참고 하십시오.'}}\n",
      "[]\n"
     ]
    },
    {
     "name": "stderr",
     "output_type": "stream",
     "text": [
      " ... (more hidden) ..."
     ]
    },
    {
     "name": "stdout",
     "output_type": "stream",
     "text": [
      "8140270 북일고등학교\n",
      "급식 정보 조회 중: 날짜=20241030\n",
      "mealService 응답코드: 200\n",
      "mealServiceDietInfo 키 없음: {'RESULT': {'CODE': 'ERROR-300', 'MESSAGE': '필수 값이 누락되어 있습니다. 요청인자를 참고 하십시오.'}}\n",
      "[]\n",
      "8140271 북일여자고등학교\n",
      "급식 정보 조회 중: 날짜=20241030\n"
     ]
    },
    {
     "name": "stderr",
     "output_type": "stream",
     "text": [
      " ... (more hidden) ..."
     ]
    },
    {
     "name": "stdout",
     "output_type": "stream",
     "text": [
      "mealService 응답코드: 200\n",
      "mealServiceDietInfo 키 없음: {'RESULT': {'CODE': 'ERROR-300', 'MESSAGE': '필수 값이 누락되어 있습니다. 요청인자를 참고 하십시오.'}}\n",
      "[]\n",
      "8140501 비전고등학교\n",
      "급식 정보 조회 중: 날짜=20241030\n",
      "mealService 응답코드: 200\n",
      "mealServiceDietInfo 키 없음: {'RESULT': {'CODE': 'ERROR-300', 'MESSAGE': '필수 값이 누락되어 있습니다. 요청인자를 참고 하십시오.'}}\n",
      "[]\n"
     ]
    },
    {
     "name": "stderr",
     "output_type": "stream",
     "text": [
      " ... (more hidden) ..."
     ]
    },
    {
     "name": "stdout",
     "output_type": "stream",
     "text": [
      "8140088 삽교고등학교\n",
      "급식 정보 조회 중: 날짜=20241030\n",
      "mealService 응답코드: 200\n",
      "mealServiceDietInfo 키 없음: {'RESULT': {'CODE': 'ERROR-300', 'MESSAGE': '필수 값이 누락되어 있습니다. 요청인자를 참고 하십시오.'}}\n",
      "[]\n",
      "8140089 서령고등학교\n",
      "급식 정보 조회 중: 날짜=20241030\n"
     ]
    },
    {
     "name": "stderr",
     "output_type": "stream",
     "text": [
      " ... (more hidden) ..."
     ]
    },
    {
     "name": "stdout",
     "output_type": "stream",
     "text": [
      "mealService 응답코드: 200\n",
      "mealServiceDietInfo 키 없음: {'RESULT': {'CODE': 'ERROR-300', 'MESSAGE': '필수 값이 누락되어 있습니다. 요청인자를 참고 하십시오.'}}\n",
      "[]\n",
      "8140200 서산고등학교\n",
      "급식 정보 조회 중: 날짜=20241030\n",
      "mealService 응답코드: 200\n",
      "mealServiceDietInfo 키 없음: {'RESULT': {'CODE': 'ERROR-300', 'MESSAGE': '필수 값이 누락되어 있습니다. 요청인자를 참고 하십시오.'}}\n",
      "[]\n"
     ]
    },
    {
     "name": "stderr",
     "output_type": "stream",
     "text": [
      " ... (more hidden) ..."
     ]
    },
    {
     "name": "stdout",
     "output_type": "stream",
     "text": [
      "8140391 서산공업고등학교\n",
      "급식 정보 조회 중: 날짜=20241030\n",
      "mealService 응답코드: 200\n",
      "mealServiceDietInfo 키 없음: {'RESULT': {'CODE': 'ERROR-300', 'MESSAGE': '필수 값이 누락되어 있습니다. 요청인자를 참고 하십시오.'}}\n",
      "[]\n",
      "8140054 서산여자고등학교\n",
      "급식 정보 조회 중: 날짜=20241030\n",
      "mealService 응답코드: 200\n",
      "mealServiceDietInfo 키 없음: {'RESULT': {'CODE': 'ERROR-300', 'MESSAGE': '필수 값이 누락되어 있습니다. 요청인자를 참고 하십시오.'}}\n",
      "[]\n"
     ]
    },
    {
     "name": "stderr",
     "output_type": "stream",
     "text": [
      " ... (more hidden) ..."
     ]
    },
    {
     "name": "stdout",
     "output_type": "stream",
     "text": [
      "8140260 서산중앙고등학교\n",
      "급식 정보 조회 중: 날짜=20241030\n",
      "mealService 응답코드: 200\n",
      "mealServiceDietInfo 키 없음: {'RESULT': {'CODE': 'ERROR-300', 'MESSAGE': '필수 값이 누락되어 있습니다. 요청인자를 참고 하십시오.'}}\n",
      "[]\n",
      "8140090 서야고등학교\n",
      "급식 정보 조회 중: 날짜=20241030\n"
     ]
    },
    {
     "name": "stderr",
     "output_type": "stream",
     "text": [
      " ... (more hidden) ..."
     ]
    },
    {
     "name": "stdout",
     "output_type": "stream",
     "text": [
      "mealService 응답코드: 200\n",
      "mealServiceDietInfo 키 없음: {'RESULT': {'CODE': 'ERROR-300', 'MESSAGE': '필수 값이 누락되어 있습니다. 요청인자를 참고 하십시오.'}}\n",
      "[]\n",
      "8140209 서일고등학교\n",
      "급식 정보 조회 중: 날짜=20241030\n",
      "mealService 응답코드: 200\n",
      "mealServiceDietInfo 키 없음: {'RESULT': {'CODE': 'ERROR-300', 'MESSAGE': '필수 값이 누락되어 있습니다. 요청인자를 참고 하십시오.'}}\n",
      "[]\n"
     ]
    },
    {
     "name": "stderr",
     "output_type": "stream",
     "text": [
      " ... (more hidden) ..."
     ]
    },
    {
     "name": "stdout",
     "output_type": "stream",
     "text": [
      "8140055 서천고등학교\n",
      "급식 정보 조회 중: 날짜=20241030\n",
      "mealService 응답코드: 200\n",
      "mealServiceDietInfo 키 없음: {'RESULT': {'CODE': 'ERROR-300', 'MESSAGE': '필수 값이 누락되어 있습니다. 요청인자를 참고 하십시오.'}}\n",
      "[]\n"
     ]
    },
    {
     "name": "stderr",
     "output_type": "stream",
     "text": [
      " ... (more hidden) ..."
     ]
    },
    {
     "name": "stdout",
     "output_type": "stream",
     "text": [
      "8140056 서천여자고등학교\n",
      "급식 정보 조회 중: 날짜=20241030\n",
      "mealService 응답코드: 200\n",
      "mealServiceDietInfo 키 없음: {'RESULT': {'CODE': 'ERROR-300', 'MESSAGE': '필수 값이 누락되어 있습니다. 요청인자를 참고 하십시오.'}}\n",
      "[]\n",
      "8140217 서천여자정보고등학교\n",
      "급식 정보 조회 중: 날짜=20241030\n",
      "mealService 응답코드: 200\n",
      "mealServiceDietInfo 키 없음: {'RESULT': {'CODE': 'ERROR-300', 'MESSAGE': '필수 값이 누락되어 있습니다. 요청인자를 참고 하십시오.'}}\n",
      "[]\n"
     ]
    },
    {
     "name": "stderr",
     "output_type": "stream",
     "text": [
      " ... (more hidden) ..."
     ]
    },
    {
     "name": "stdout",
     "output_type": "stream",
     "text": [
      "8140091 서해삼육고등학교\n",
      "급식 정보 조회 중: 날짜=20241030\n",
      "mealService 응답코드: 200\n",
      "mealServiceDietInfo 키 없음: {'RESULT': {'CODE': 'ERROR-300', 'MESSAGE': '필수 값이 누락되어 있습니다. 요청인자를 참고 하십시오.'}}\n",
      "[]\n",
      "8140266 설화고등학교\n",
      "급식 정보 조회 중: 날짜=20241030\n"
     ]
    },
    {
     "name": "stderr",
     "output_type": "stream",
     "text": [
      " ... (more hidden) ..."
     ]
    },
    {
     "name": "stdout",
     "output_type": "stream",
     "text": [
      "mealService 응답코드: 200\n",
      "mealServiceDietInfo 키 없음: {'RESULT': {'CODE': 'ERROR-300', 'MESSAGE': '필수 값이 누락되어 있습니다. 요청인자를 참고 하십시오.'}}\n",
      "[]\n",
      "8140057 성환고등학교\n",
      "급식 정보 조회 중: 날짜=20241030\n",
      "mealService 응답코드: 200\n",
      "mealServiceDietInfo 키 없음: {'RESULT': {'CODE': 'ERROR-300', 'MESSAGE': '필수 값이 누락되어 있습니다. 요청인자를 참고 하십시오.'}}\n",
      "[]\n"
     ]
    },
    {
     "name": "stderr",
     "output_type": "stream",
     "text": [
      " ... (more hidden) ..."
     ]
    },
    {
     "name": "stdout",
     "output_type": "stream",
     "text": [
      "8140093 송악고등학교\n",
      "급식 정보 조회 중: 날짜=20241030\n",
      "mealService 응답코드: 200\n",
      "mealServiceDietInfo 키 없음: {'RESULT': {'CODE': 'ERROR-300', 'MESSAGE': '필수 값이 누락되어 있습니다. 요청인자를 참고 하십시오.'}}\n",
      "[]\n",
      "8140094 신평고등학교\n",
      "급식 정보 조회 중: 날짜=20241030\n"
     ]
    },
    {
     "name": "stderr",
     "output_type": "stream",
     "text": [
      " ... (more hidden) ..."
     ]
    },
    {
     "name": "stdout",
     "output_type": "stream",
     "text": [
      "mealService 응답코드: 200\n",
      "mealServiceDietInfo 키 없음: {'RESULT': {'CODE': 'ERROR-300', 'MESSAGE': '필수 값이 누락되어 있습니다. 요청인자를 참고 하십시오.'}}\n",
      "[]\n",
      "8140095 쌘뽈여자고등학교\n",
      "급식 정보 조회 중: 날짜=20241030\n",
      "mealService 응답코드: 200\n",
      "mealServiceDietInfo 키 없음: {'RESULT': {'CODE': 'ERROR-300', 'MESSAGE': '필수 값이 누락되어 있습니다. 요청인자를 참고 하십시오.'}}\n",
      "[]\n"
     ]
    },
    {
     "name": "stderr",
     "output_type": "stream",
     "text": [
      " ... (more hidden) ..."
     ]
    },
    {
     "name": "stdout",
     "output_type": "stream",
     "text": [
      "8140096 아산고등학교\n",
      "급식 정보 조회 중: 날짜=20241030\n",
      "mealService 응답코드: 200\n",
      "mealServiceDietInfo 키 없음: {'RESULT': {'CODE': 'ERROR-300', 'MESSAGE': '필수 값이 누락되어 있습니다. 요청인자를 참고 하십시오.'}}\n",
      "[]\n",
      "8140472 아산스마트팩토리마이스터고등학교\n",
      "급식 정보 조회 중: 날짜=20241030\n"
     ]
    },
    {
     "name": "stderr",
     "output_type": "stream",
     "text": [
      " ... (more hidden) ..."
     ]
    },
    {
     "name": "stdout",
     "output_type": "stream",
     "text": [
      "mealService 응답코드: 200\n",
      "mealServiceDietInfo 키 없음: {'RESULT': {'CODE': 'ERROR-300', 'MESSAGE': '필수 값이 누락되어 있습니다. 요청인자를 참고 하십시오.'}}\n",
      "[]\n",
      "8140491 아산충무고등학교\n",
      "급식 정보 조회 중: 날짜=20241030\n",
      "mealService 응답코드: 200\n",
      "mealServiceDietInfo 키 없음: {'RESULT': {'CODE': 'ERROR-300', 'MESSAGE': '필수 값이 누락되어 있습니다. 요청인자를 참고 하십시오.'}}\n",
      "[]\n"
     ]
    },
    {
     "name": "stderr",
     "output_type": "stream",
     "text": [
      " ... (more hidden) ..."
     ]
    },
    {
     "name": "stdout",
     "output_type": "stream",
     "text": [
      "8140058 안면고등학교\n",
      "급식 정보 조회 중: 날짜=20241030\n",
      "mealService 응답코드: 200\n",
      "mealServiceDietInfo 키 없음: {'RESULT': {'CODE': 'ERROR-300', 'MESSAGE': '필수 값이 누락되어 있습니다. 요청인자를 참고 하십시오.'}}\n",
      "[]\n",
      "8140098 연무고등학교\n",
      "급식 정보 조회 중: 날짜=20241030\n"
     ]
    },
    {
     "name": "stderr",
     "output_type": "stream",
     "text": [
      " ... (more hidden) ..."
     ]
    },
    {
     "name": "stdout",
     "output_type": "stream",
     "text": [
      "mealService 응답코드: 200\n",
      "mealServiceDietInfo 키 없음: {'RESULT': {'CODE': 'ERROR-300', 'MESSAGE': '필수 값이 누락되어 있습니다. 요청인자를 참고 하십시오.'}}\n",
      "[]\n",
      "8140482 연무마이스터고등학교\n",
      "급식 정보 조회 중: 날짜=20241030\n",
      "mealService 응답코드: 200\n",
      "mealServiceDietInfo 키 없음: {'RESULT': {'CODE': 'ERROR-300', 'MESSAGE': '필수 값이 누락되어 있습니다. 요청인자를 참고 하십시오.'}}\n",
      "[]\n"
     ]
    },
    {
     "name": "stderr",
     "output_type": "stream",
     "text": [
      " ... (more hidden) ..."
     ]
    },
    {
     "name": "stdout",
     "output_type": "stream",
     "text": [
      "8140100 예산고등학교\n",
      "급식 정보 조회 중: 날짜=20241030\n",
      "mealService 응답코드: 200\n",
      "mealServiceDietInfo 키 없음: {'RESULT': {'CODE': 'ERROR-300', 'MESSAGE': '필수 값이 누락되어 있습니다. 요청인자를 참고 하십시오.'}}\n",
      "[]\n",
      "8140059 예산여자고등학교\n",
      "급식 정보 조회 중: 날짜=20241030\n"
     ]
    },
    {
     "name": "stderr",
     "output_type": "stream",
     "text": [
      " ... (more hidden) ..."
     ]
    },
    {
     "name": "stdout",
     "output_type": "stream",
     "text": [
      "mealService 응답코드: 200\n",
      "mealServiceDietInfo 키 없음: {'RESULT': {'CODE': 'ERROR-300', 'MESSAGE': '필수 값이 누락되어 있습니다. 요청인자를 참고 하십시오.'}}\n",
      "[]\n",
      "8140344 예산예화여자고등학교\n",
      "급식 정보 조회 중: 날짜=20241030\n",
      "mealService 응답코드: 200\n",
      "mealServiceDietInfo 키 없음: {'RESULT': {'CODE': 'ERROR-300', 'MESSAGE': '필수 값이 누락되어 있습니다. 요청인자를 참고 하십시오.'}}\n",
      "[]\n"
     ]
    },
    {
     "name": "stderr",
     "output_type": "stream",
     "text": [
      " ... (more hidden) ..."
     ]
    },
    {
     "name": "stdout",
     "output_type": "stream",
     "text": [
      "8140061 온양고등학교\n",
      "급식 정보 조회 중: 날짜=20241030\n",
      "mealService 응답코드: 200\n",
      "mealServiceDietInfo 키 없음: {'RESULT': {'CODE': 'ERROR-300', 'MESSAGE': '필수 값이 누락되어 있습니다. 요청인자를 참고 하십시오.'}}\n",
      "[]\n",
      "8140062 온양여자고등학교\n",
      "급식 정보 조회 중: 날짜=20241030\n"
     ]
    },
    {
     "name": "stderr",
     "output_type": "stream",
     "text": [
      " ... (more hidden) ..."
     ]
    },
    {
     "name": "stdout",
     "output_type": "stream",
     "text": [
      "mealService 응답코드: 200\n",
      "mealServiceDietInfo 키 없음: {'RESULT': {'CODE': 'ERROR-300', 'MESSAGE': '필수 값이 누락되어 있습니다. 요청인자를 참고 하십시오.'}}\n",
      "[]\n",
      "8140229 온양용화고등학교\n",
      "급식 정보 조회 중: 날짜=20241030\n",
      "mealService 응답코드: 200\n",
      "mealServiceDietInfo 키 없음: {'RESULT': {'CODE': 'ERROR-300', 'MESSAGE': '필수 값이 누락되어 있습니다. 요청인자를 참고 하십시오.'}}\n",
      "[]\n"
     ]
    },
    {
     "name": "stderr",
     "output_type": "stream",
     "text": [
      " ... (more hidden) ..."
     ]
    },
    {
     "name": "stdout",
     "output_type": "stream",
     "text": [
      "8140063 용남고등학교\n",
      "급식 정보 조회 중: 날짜=20241030\n",
      "mealService 응답코드: 200\n",
      "mealServiceDietInfo 키 없음: {'RESULT': {'CODE': 'ERROR-300', 'MESSAGE': '필수 값이 누락되어 있습니다. 요청인자를 참고 하십시오.'}}\n",
      "[]\n",
      "8140064 웅천고등학교\n",
      "급식 정보 조회 중: 날짜=20241030\n",
      "mealService 응답코드: 200\n",
      "mealServiceDietInfo 키 없음: {'RESULT': {'CODE': 'ERROR-300', 'MESSAGE': '필수 값이 누락되어 있습니다. 요청인자를 참고 하십시오.'}}\n",
      "[]\n"
     ]
    },
    {
     "name": "stderr",
     "output_type": "stream",
     "text": [
      " ... (more hidden) ..."
     ]
    },
    {
     "name": "stdout",
     "output_type": "stream",
     "text": [
      "8140473 이순신고등학교\n",
      "급식 정보 조회 중: 날짜=20241030\n",
      "mealService 응답코드: 200\n",
      "mealServiceDietInfo 키 없음: {'RESULT': {'CODE': 'ERROR-300', 'MESSAGE': '필수 값이 누락되어 있습니다. 요청인자를 참고 하십시오.'}}\n",
      "[]\n",
      "8140101 장항고등학교\n",
      "급식 정보 조회 중: 날짜=20241030\n"
     ]
    },
    {
     "name": "stderr",
     "output_type": "stream",
     "text": [
      " ... (more hidden) ..."
     ]
    },
    {
     "name": "stdout",
     "output_type": "stream",
     "text": [
      "mealService 응답코드: 200\n",
      "mealServiceDietInfo 키 없음: {'RESULT': {'CODE': 'ERROR-300', 'MESSAGE': '필수 값이 누락되어 있습니다. 요청인자를 참고 하십시오.'}}\n",
      "[]\n",
      "8140134 장항공업고등학교\n",
      "급식 정보 조회 중: 날짜=20241030\n",
      "mealService 응답코드: 200\n",
      "mealServiceDietInfo 키 없음: {'RESULT': {'CODE': 'ERROR-300', 'MESSAGE': '필수 값이 누락되어 있습니다. 요청인자를 참고 하십시오.'}}\n",
      "[]\n"
     ]
    },
    {
     "name": "stderr",
     "output_type": "stream",
     "text": [
      " ... (more hidden) ..."
     ]
    },
    {
     "name": "stdout",
     "output_type": "stream",
     "text": [
      "8140354 정산고등학교\n",
      "급식 정보 조회 중: 날짜=20241030\n",
      "mealService 응답코드: 200\n",
      "mealServiceDietInfo 키 없음: {'RESULT': {'CODE': 'ERROR-300', 'MESSAGE': '필수 값이 누락되어 있습니다. 요청인자를 참고 하십시오.'}}\n",
      "[]\n",
      "8140136 주산산업고등학교\n",
      "급식 정보 조회 중: 날짜=20241030\n"
     ]
    },
    {
     "name": "stderr",
     "output_type": "stream",
     "text": [
      " ... (more hidden) ..."
     ]
    },
    {
     "name": "stdout",
     "output_type": "stream",
     "text": [
      "mealService 응답코드: 200\n",
      "mealServiceDietInfo 키 없음: {'RESULT': {'CODE': 'ERROR-300', 'MESSAGE': '필수 값이 누락되어 있습니다. 요청인자를 참고 하십시오.'}}\n",
      "[]\n",
      "8140104 천안고등학교\n",
      "급식 정보 조회 중: 날짜=20241030\n",
      "mealService 응답코드: 200\n",
      "mealServiceDietInfo 키 없음: {'RESULT': {'CODE': 'ERROR-300', 'MESSAGE': '필수 값이 누락되어 있습니다. 요청인자를 참고 하십시오.'}}\n",
      "[]\n"
     ]
    },
    {
     "name": "stderr",
     "output_type": "stream",
     "text": [
      " ... (more hidden) ..."
     ]
    },
    {
     "name": "stdout",
     "output_type": "stream",
     "text": [
      "8140139 천안공업고등학교\n",
      "급식 정보 조회 중: 날짜=20241030\n",
      "mealService 응답코드: 200\n",
      "mealServiceDietInfo 키 없음: {'RESULT': {'CODE': 'ERROR-300', 'MESSAGE': '필수 값이 누락되어 있습니다. 요청인자를 참고 하십시오.'}}\n",
      "[]\n",
      "8140213 천안두정고등학교\n",
      "급식 정보 조회 중: 날짜=20241030\n"
     ]
    },
    {
     "name": "stderr",
     "output_type": "stream",
     "text": [
      " ... (more hidden) ..."
     ]
    },
    {
     "name": "stdout",
     "output_type": "stream",
     "text": [
      "mealService 응답코드: 200\n",
      "mealServiceDietInfo 키 없음: {'RESULT': {'CODE': 'ERROR-300', 'MESSAGE': '필수 값이 누락되어 있습니다. 요청인자를 참고 하십시오.'}}\n",
      "[]\n",
      "8140387 천안불당고등학교\n",
      "급식 정보 조회 중: 날짜=20241030\n",
      "mealService 응답코드: 200\n",
      "mealServiceDietInfo 키 없음: {'RESULT': {'CODE': 'ERROR-300', 'MESSAGE': '필수 값이 누락되어 있습니다. 요청인자를 참고 하십시오.'}}\n",
      "[]\n"
     ]
    },
    {
     "name": "stderr",
     "output_type": "stream",
     "text": [
      " ... (more hidden) ..."
     ]
    },
    {
     "name": "stdout",
     "output_type": "stream",
     "text": [
      "8140358 천안상업고등학교\n",
      "급식 정보 조회 중: 날짜=20241030\n",
      "mealService 응답코드: 200\n",
      "mealServiceDietInfo 키 없음: {'RESULT': {'CODE': 'ERROR-300', 'MESSAGE': '필수 값이 누락되어 있습니다. 요청인자를 참고 하십시오.'}}\n",
      "[]\n",
      "8140236 천안신당고등학교\n",
      "급식 정보 조회 중: 날짜=20241030\n"
     ]
    },
    {
     "name": "stderr",
     "output_type": "stream",
     "text": [
      " ... (more hidden) ..."
     ]
    },
    {
     "name": "stdout",
     "output_type": "stream",
     "text": [
      "mealService 응답코드: 200\n",
      "mealServiceDietInfo 키 없음: {'RESULT': {'CODE': 'ERROR-300', 'MESSAGE': '필수 값이 누락되어 있습니다. 요청인자를 참고 하십시오.'}}\n",
      "[]\n",
      "8140219 천안쌍용고등학교\n",
      "급식 정보 조회 중: 날짜=20241030\n",
      "mealService 응답코드: 200\n",
      "mealServiceDietInfo 키 없음: {'RESULT': {'CODE': 'ERROR-300', 'MESSAGE': '필수 값이 누락되어 있습니다. 요청인자를 참고 하십시오.'}}\n",
      "[]\n"
     ]
    },
    {
     "name": "stderr",
     "output_type": "stream",
     "text": [
      " ... (more hidden) ..."
     ]
    },
    {
     "name": "stdout",
     "output_type": "stream",
     "text": [
      "8140253 천안업성고등학교\n",
      "급식 정보 조회 중: 날짜=20241030\n",
      "mealService 응답코드: 200\n",
      "mealServiceDietInfo 키 없음: {'RESULT': {'CODE': 'ERROR-300', 'MESSAGE': '필수 값이 누락되어 있습니다. 요청인자를 참고 하십시오.'}}\n",
      "[]\n",
      "8140069 천안여자고등학교\n",
      "급식 정보 조회 중: 날짜=20241030\n"
     ]
    },
    {
     "name": "stderr",
     "output_type": "stream",
     "text": [
      " ... (more hidden) ..."
     ]
    },
    {
     "name": "stdout",
     "output_type": "stream",
     "text": [
      "mealService 응답코드: 200\n",
      "mealServiceDietInfo 키 없음: {'RESULT': {'CODE': 'ERROR-300', 'MESSAGE': '필수 값이 누락되어 있습니다. 요청인자를 참고 하십시오.'}}\n",
      "[]\n",
      "8140160 천안여자상업고등학교\n",
      "급식 정보 조회 중: 날짜=20241030\n",
      "mealService 응답코드: 200\n",
      "mealServiceDietInfo 키 없음: {'RESULT': {'CODE': 'ERROR-300', 'MESSAGE': '필수 값이 누락되어 있습니다. 요청인자를 참고 하십시오.'}}\n",
      "[]\n"
     ]
    },
    {
     "name": "stderr",
     "output_type": "stream",
     "text": [
      " ... (more hidden) ..."
     ]
    },
    {
     "name": "stdout",
     "output_type": "stream",
     "text": [
      "8140246 천안오성고등학교\n",
      "급식 정보 조회 중: 날짜=20241030\n",
      "mealService 응답코드: 200\n",
      "mealServiceDietInfo 키 없음: {'RESULT': {'CODE': 'ERROR-300', 'MESSAGE': '필수 값이 누락되어 있습니다. 요청인자를 참고 하십시오.'}}\n",
      "[]\n",
      "8140214 천안월봉고등학교\n",
      "급식 정보 조회 중: 날짜=20241030\n"
     ]
    },
    {
     "name": "stderr",
     "output_type": "stream",
     "text": [
      " ... (more hidden) ..."
     ]
    },
    {
     "name": "stdout",
     "output_type": "stream",
     "text": [
      "mealService 응답코드: 200\n",
      "mealServiceDietInfo 키 없음: {'RESULT': {'CODE': 'ERROR-300', 'MESSAGE': '필수 값이 누락되어 있습니다. 요청인자를 참고 하십시오.'}}\n",
      "[]\n",
      "8140259 천안제일고등학교\n",
      "급식 정보 조회 중: 날짜=20241030\n",
      "mealService 응답코드: 200\n",
      "mealServiceDietInfo 키 없음: {'RESULT': {'CODE': 'ERROR-300', 'MESSAGE': '필수 값이 누락되어 있습니다. 요청인자를 참고 하십시오.'}}\n",
      "[]\n"
     ]
    },
    {
     "name": "stderr",
     "output_type": "stream",
     "text": [
      " ... (more hidden) ..."
     ]
    },
    {
     "name": "stdout",
     "output_type": "stream",
     "text": [
      "8140070 천안중앙고등학교\n",
      "급식 정보 조회 중: 날짜=20241030\n",
      "mealService 응답코드: 200\n",
      "mealServiceDietInfo 키 없음: {'RESULT': {'CODE': 'ERROR-300', 'MESSAGE': '필수 값이 누락되어 있습니다. 요청인자를 참고 하십시오.'}}\n",
      "[]\n",
      "8140265 천안청수고등학교\n",
      "급식 정보 조회 중: 날짜=20241030\n"
     ]
    },
    {
     "name": "stderr",
     "output_type": "stream",
     "text": [
      " ... (more hidden) ..."
     ]
    },
    {
     "name": "stdout",
     "output_type": "stream",
     "text": [
      "mealService 응답코드: 200\n",
      "mealServiceDietInfo 키 없음: {'RESULT': {'CODE': 'ERROR-300', 'MESSAGE': '필수 값이 누락되어 있습니다. 요청인자를 참고 하십시오.'}}\n",
      "[]\n",
      "8140267 청양고등학교\n",
      "급식 정보 조회 중: 날짜=20241030\n",
      "mealService 응답코드: 200\n",
      "mealServiceDietInfo 키 없음: {'RESULT': {'CODE': 'ERROR-300', 'MESSAGE': '필수 값이 누락되어 있습니다. 요청인자를 참고 하십시오.'}}\n",
      "[]\n"
     ]
    },
    {
     "name": "stderr",
     "output_type": "stream",
     "text": [
      " ... (more hidden) ..."
     ]
    },
    {
     "name": "stdout",
     "output_type": "stream",
     "text": [
      "8140071 충남과학고등학교\n",
      "급식 정보 조회 중: 날짜=20241030\n",
      "mealService 응답코드: 200\n",
      "mealServiceDietInfo 키 없음: {'RESULT': {'CODE': 'ERROR-300', 'MESSAGE': '필수 값이 누락되어 있습니다. 요청인자를 참고 하십시오.'}}\n",
      "[]\n",
      "8140459 충남드론항공고등학교\n",
      "급식 정보 조회 중: 날짜=20241030\n"
     ]
    },
    {
     "name": "stderr",
     "output_type": "stream",
     "text": [
      " ... (more hidden) ..."
     ]
    },
    {
     "name": "stdout",
     "output_type": "stream",
     "text": [
      "mealService 응답코드: 200\n",
      "mealServiceDietInfo 키 없음: {'RESULT': {'CODE': 'ERROR-300', 'MESSAGE': '필수 값이 누락되어 있습니다. 요청인자를 참고 하십시오.'}}\n",
      "[]\n",
      "8140359 충남디자인예술고등학교\n",
      "급식 정보 조회 중: 날짜=20241030\n",
      "mealService 응답코드: 200\n",
      "mealServiceDietInfo 키 없음: {'RESULT': {'CODE': 'ERROR-300', 'MESSAGE': '필수 값이 누락되어 있습니다. 요청인자를 참고 하십시오.'}}\n",
      "[]\n"
     ]
    },
    {
     "name": "stderr",
     "output_type": "stream",
     "text": [
      " ... (more hidden) ..."
     ]
    },
    {
     "name": "stdout",
     "output_type": "stream",
     "text": [
      "8140499 충남반도체마이스터고등학교\n",
      "급식 정보 조회 중: 날짜=20241030\n",
      "mealService 응답코드: 200\n",
      "mealServiceDietInfo 키 없음: {'RESULT': {'CODE': 'ERROR-300', 'MESSAGE': '필수 값이 누락되어 있습니다. 요청인자를 참고 하십시오.'}}\n",
      "[]\n",
      "8140366 충남삼성고등학교\n",
      "급식 정보 조회 중: 날짜=20241030\n"
     ]
    },
    {
     "name": "stderr",
     "output_type": "stream",
     "text": [
      " ... (more hidden) ..."
     ]
    },
    {
     "name": "stdout",
     "output_type": "stream",
     "text": [
      "mealService 응답코드: 200\n",
      "mealServiceDietInfo 키 없음: {'RESULT': {'CODE': 'ERROR-300', 'MESSAGE': '필수 값이 누락되어 있습니다. 요청인자를 참고 하십시오.'}}\n",
      "[]\n",
      "8140072 충남예술고등학교\n",
      "급식 정보 조회 중: 날짜=20241030\n",
      "mealService 응답코드: 200\n",
      "mealServiceDietInfo 키 없음: {'RESULT': {'CODE': 'ERROR-300', 'MESSAGE': '필수 값이 누락되어 있습니다. 요청인자를 참고 하십시오.'}}\n",
      "[]\n"
     ]
    },
    {
     "name": "stderr",
     "output_type": "stream",
     "text": [
      " ... (more hidden) ..."
     ]
    },
    {
     "name": "stdout",
     "output_type": "stream",
     "text": [
      "8140252 충남외국어고등학교\n",
      "급식 정보 조회 중: 날짜=20241030\n",
      "mealService 응답코드: 200\n",
      "mealServiceDietInfo 키 없음: {'RESULT': {'CODE': 'ERROR-300', 'MESSAGE': '필수 값이 누락되어 있습니다. 요청인자를 참고 하십시오.'}}\n",
      "[]\n",
      "8140195 충남인터넷고등학교\n",
      "급식 정보 조회 중: 날짜=20241030\n"
     ]
    },
    {
     "name": "stderr",
     "output_type": "stream",
     "text": [
      " ... (more hidden) ..."
     ]
    },
    {
     "name": "stdout",
     "output_type": "stream",
     "text": [
      "mealService 응답코드: 200\n",
      "mealServiceDietInfo 키 없음: {'RESULT': {'CODE': 'ERROR-300', 'MESSAGE': '필수 값이 누락되어 있습니다. 요청인자를 참고 하십시오.'}}\n",
      "[]\n",
      "8140073 충남체육고등학교\n",
      "급식 정보 조회 중: 날짜=20241030\n",
      "mealService 응답코드: 200\n",
      "mealServiceDietInfo 키 없음: {'RESULT': {'CODE': 'ERROR-300', 'MESSAGE': '필수 값이 누락되어 있습니다. 요청인자를 참고 하십시오.'}}\n",
      "[]\n"
     ]
    },
    {
     "name": "stderr",
     "output_type": "stream",
     "text": [
      " ... (more hidden) ..."
     ]
    },
    {
     "name": "stdout",
     "output_type": "stream",
     "text": [
      "8140206 충남해양과학고등학교\n",
      "급식 정보 조회 중: 날짜=20241030\n",
      "mealService 응답코드: 200\n",
      "mealServiceDietInfo 키 없음: {'RESULT': {'CODE': 'ERROR-300', 'MESSAGE': '필수 값이 누락되어 있습니다. 요청인자를 참고 하십시오.'}}\n",
      "[]\n",
      "8140074 태안고등학교\n",
      "급식 정보 조회 중: 날짜=20241030\n"
     ]
    },
    {
     "name": "stderr",
     "output_type": "stream",
     "text": [
      " ... (more hidden) ..."
     ]
    },
    {
     "name": "stdout",
     "output_type": "stream",
     "text": [
      "mealService 응답코드: 200\n",
      "mealServiceDietInfo 키 없음: {'RESULT': {'CODE': 'ERROR-300', 'MESSAGE': '필수 값이 누락되어 있습니다. 요청인자를 참고 하십시오.'}}\n",
      "[]\n",
      "8140197 태안여자고등학교\n",
      "급식 정보 조회 중: 날짜=20241030\n",
      "mealService 응답코드: 200\n",
      "mealServiceDietInfo 키 없음: {'RESULT': {'CODE': 'ERROR-300', 'MESSAGE': '필수 값이 누락되어 있습니다. 요청인자를 참고 하십시오.'}}\n",
      "[]\n"
     ]
    },
    {
     "name": "stderr",
     "output_type": "stream",
     "text": [
      " ... (more hidden) ..."
     ]
    },
    {
     "name": "stdout",
     "output_type": "stream",
     "text": [
      "8140461 한국K-POP고등학교\n",
      "급식 정보 조회 중: 날짜=20241030\n",
      "mealService 응답코드: 200\n",
      "mealServiceDietInfo 키 없음: {'RESULT': {'CODE': 'ERROR-300', 'MESSAGE': '필수 값이 누락되어 있습니다. 요청인자를 참고 하십시오.'}}\n",
      "[]\n",
      "8140377 한국식품마이스터고등학교\n",
      "급식 정보 조회 중: 날짜=20241030\n"
     ]
    },
    {
     "name": "stderr",
     "output_type": "stream",
     "text": [
      " ... (more hidden) ..."
     ]
    },
    {
     "name": "stdout",
     "output_type": "stream",
     "text": [
      "mealService 응답코드: 200\n",
      "mealServiceDietInfo 키 없음: {'RESULT': {'CODE': 'ERROR-300', 'MESSAGE': '필수 값이 누락되어 있습니다. 요청인자를 참고 하십시오.'}}\n",
      "[]\n",
      "8140500 한올고등학교\n",
      "급식 정보 조회 중: 날짜=20241030\n",
      "mealService 응답코드: 200\n",
      "mealServiceDietInfo 키 없음: {'RESULT': {'CODE': 'ERROR-300', 'MESSAGE': '필수 값이 누락되어 있습니다. 요청인자를 참고 하십시오.'}}\n",
      "[]\n"
     ]
    },
    {
     "name": "stderr",
     "output_type": "stream",
     "text": [
      " ... (more hidden) ..."
     ]
    },
    {
     "name": "stdout",
     "output_type": "stream",
     "text": [
      "8140107 한일고등학교\n",
      "급식 정보 조회 중: 날짜=20241030\n",
      "mealService 응답코드: 200\n",
      "mealServiceDietInfo 키 없음: {'RESULT': {'CODE': 'ERROR-300', 'MESSAGE': '필수 값이 누락되어 있습니다. 요청인자를 참고 하십시오.'}}\n",
      "[]\n",
      "8140460 합덕고등학교\n",
      "급식 정보 조회 중: 날짜=20241030\n",
      "mealService 응답코드: 200\n",
      "mealServiceDietInfo 키 없음: {'RESULT': {'CODE': 'ERROR-300', 'MESSAGE': '필수 값이 누락되어 있습니다. 요청인자를 참고 하십시오.'}}\n",
      "[]\n"
     ]
    },
    {
     "name": "stderr",
     "output_type": "stream",
     "text": [
      " ... (more hidden) ..."
     ]
    },
    {
     "name": "stdout",
     "output_type": "stream",
     "text": [
      "8140262 합덕제철고등학교\n",
      "급식 정보 조회 중: 날짜=20241030\n",
      "mealService 응답코드: 200\n",
      "mealServiceDietInfo 키 없음: {'RESULT': {'CODE': 'ERROR-300', 'MESSAGE': '필수 값이 누락되어 있습니다. 요청인자를 참고 하십시오.'}}\n",
      "[]\n",
      "8140108 호서고등학교\n",
      "급식 정보 조회 중: 날짜=20241030\n"
     ]
    },
    {
     "name": "stderr",
     "output_type": "stream",
     "text": [
      " ... (more hidden) ..."
     ]
    },
    {
     "name": "stdout",
     "output_type": "stream",
     "text": [
      "mealService 응답코드: 200\n",
      "mealServiceDietInfo 키 없음: {'RESULT': {'CODE': 'ERROR-300', 'MESSAGE': '필수 값이 누락되어 있습니다. 요청인자를 참고 하십시오.'}}\n",
      "[]\n",
      "8140077 홍성고등학교\n",
      "급식 정보 조회 중: 날짜=20241030\n",
      "mealService 응답코드: 200\n",
      "mealServiceDietInfo 키 없음: {'RESULT': {'CODE': 'ERROR-300', 'MESSAGE': '필수 값이 누락되어 있습니다. 요청인자를 참고 하십시오.'}}\n",
      "[]\n"
     ]
    },
    {
     "name": "stderr",
     "output_type": "stream",
     "text": [
      " ... (more hidden) ..."
     ]
    },
    {
     "name": "stdout",
     "output_type": "stream",
     "text": [
      "8140220 홍성공업고등학교\n",
      "급식 정보 조회 중: 날짜=20241030\n",
      "mealService 응답코드: 200\n",
      "mealServiceDietInfo 키 없음: {'RESULT': {'CODE': 'ERROR-300', 'MESSAGE': '필수 값이 누락되어 있습니다. 요청인자를 참고 하십시오.'}}\n",
      "[]\n",
      "8140078 홍성여자고등학교\n",
      "급식 정보 조회 중: 날짜=20241030\n"
     ]
    },
    {
     "name": "stderr",
     "output_type": "stream",
     "text": [
      " ... (more hidden) ..."
     ]
    },
    {
     "name": "stdout",
     "output_type": "stream",
     "text": [
      "mealService 응답코드: 200\n",
      "mealServiceDietInfo 키 없음: {'RESULT': {'CODE': 'ERROR-300', 'MESSAGE': '필수 값이 누락되어 있습니다. 요청인자를 참고 하십시오.'}}\n",
      "[]\n",
      "8140109 홍주고등학교\n",
      "급식 정보 조회 중: 날짜=20241030\n",
      "mealService 응답코드: 200\n",
      "mealServiceDietInfo 키 없음: {'RESULT': {'CODE': 'ERROR-300', 'MESSAGE': '필수 값이 누락되어 있습니다. 요청인자를 참고 하십시오.'}}\n",
      "[]\n"
     ]
    },
    {
     "name": "stderr",
     "output_type": "stream",
     "text": [
      " ... (more hidden) ...\n"
     ]
    },
    {
     "name": "stdout",
     "output_type": "stream",
     "text": [
      "응답코드 : 200\n"
     ]
    },
    {
     "name": "stderr",
     "output_type": "stream",
     "text": [
      " ... (more hidden) ..."
     ]
    },
    {
     "name": "stdout",
     "output_type": "stream",
     "text": [
      "8321199 강호항공고등학교\n",
      "급식 정보 조회 중: 날짜=20241030\n",
      "mealService 응답코드: 200\n",
      "mealServiceDietInfo 키 없음: {'RESULT': {'CODE': 'ERROR-300', 'MESSAGE': '필수 값이 누락되어 있습니다. 요청인자를 참고 하십시오.'}}\n",
      "[]\n",
      "8321168 고산고등학교\n",
      "급식 정보 조회 중: 날짜=20241030\n"
     ]
    },
    {
     "name": "stderr",
     "output_type": "stream",
     "text": [
      " ... (more hidden) ..."
     ]
    },
    {
     "name": "stdout",
     "output_type": "stream",
     "text": [
      "mealService 응답코드: 200\n",
      "mealServiceDietInfo 키 없음: {'RESULT': {'CODE': 'ERROR-300', 'MESSAGE': '필수 값이 누락되어 있습니다. 요청인자를 참고 하십시오.'}}\n",
      "[]\n",
      "8321197 고창고등학교\n",
      "급식 정보 조회 중: 날짜=20241030\n",
      "mealService 응답코드: 200\n",
      "mealServiceDietInfo 키 없음: {'RESULT': {'CODE': 'ERROR-300', 'MESSAGE': '필수 값이 누락되어 있습니다. 요청인자를 참고 하십시오.'}}\n",
      "[]\n"
     ]
    },
    {
     "name": "stderr",
     "output_type": "stream",
     "text": [
      " ... (more hidden) ..."
     ]
    },
    {
     "name": "stdout",
     "output_type": "stream",
     "text": [
      "8321200 고창북고등학교\n",
      "급식 정보 조회 중: 날짜=20241030\n",
      "mealService 응답코드: 200\n",
      "mealServiceDietInfo 키 없음: {'RESULT': {'CODE': 'ERROR-300', 'MESSAGE': '필수 값이 누락되어 있습니다. 요청인자를 참고 하십시오.'}}\n",
      "[]\n"
     ]
    },
    {
     "name": "stderr",
     "output_type": "stream",
     "text": [
      " ... (more hidden) ..."
     ]
    },
    {
     "name": "stdout",
     "output_type": "stream",
     "text": [
      "8321107 군산고등학교\n",
      "급식 정보 조회 중: 날짜=20241030\n",
      "mealService 응답코드: 200\n",
      "mealServiceDietInfo 키 없음: {'RESULT': {'CODE': 'ERROR-300', 'MESSAGE': '필수 값이 누락되어 있습니다. 요청인자를 참고 하십시오.'}}\n",
      "[]\n",
      "8321109 군산기계공업고등학교\n",
      "급식 정보 조회 중: 날짜=20241030\n"
     ]
    },
    {
     "name": "stderr",
     "output_type": "stream",
     "text": [
      " ... (more hidden) ..."
     ]
    },
    {
     "name": "stdout",
     "output_type": "stream",
     "text": [
      "mealService 응답코드: 200\n",
      "mealServiceDietInfo 키 없음: {'RESULT': {'CODE': 'ERROR-300', 'MESSAGE': '필수 값이 누락되어 있습니다. 요청인자를 참고 하십시오.'}}\n",
      "[]\n",
      "8321111 군산동고등학교\n",
      "급식 정보 조회 중: 날짜=20241030\n",
      "mealService 응답코드: 200\n",
      "mealServiceDietInfo 키 없음: {'RESULT': {'CODE': 'ERROR-300', 'MESSAGE': '필수 값이 누락되어 있습니다. 요청인자를 참고 하십시오.'}}\n",
      "[]\n"
     ]
    },
    {
     "name": "stderr",
     "output_type": "stream",
     "text": [
      " ... (more hidden) ..."
     ]
    },
    {
     "name": "stdout",
     "output_type": "stream",
     "text": [
      "8321110 군산상일고등학교\n",
      "급식 정보 조회 중: 날짜=20241030\n",
      "mealService 응답코드: 200\n",
      "mealServiceDietInfo 키 없음: {'RESULT': {'CODE': 'ERROR-300', 'MESSAGE': '필수 값이 누락되어 있습니다. 요청인자를 참고 하십시오.'}}\n",
      "[]\n",
      "8321108 군산여자고등학교\n",
      "급식 정보 조회 중: 날짜=20241030\n"
     ]
    },
    {
     "name": "stderr",
     "output_type": "stream",
     "text": [
      " ... (more hidden) ..."
     ]
    },
    {
     "name": "stdout",
     "output_type": "stream",
     "text": [
      "mealService 응답코드: 200\n",
      "mealServiceDietInfo 키 없음: {'RESULT': {'CODE': 'ERROR-300', 'MESSAGE': '필수 값이 누락되어 있습니다. 요청인자를 참고 하십시오.'}}\n",
      "[]\n",
      "8321112 군산여자상업고등학교\n",
      "급식 정보 조회 중: 날짜=20241030\n",
      "mealService 응답코드: 200\n",
      "mealServiceDietInfo 키 없음: {'RESULT': {'CODE': 'ERROR-300', 'MESSAGE': '필수 값이 누락되어 있습니다. 요청인자를 참고 하십시오.'}}\n",
      "[]\n"
     ]
    },
    {
     "name": "stderr",
     "output_type": "stream",
     "text": [
      " ... (more hidden) ..."
     ]
    },
    {
     "name": "stdout",
     "output_type": "stream",
     "text": [
      "8321118 군산영광여자고등학교\n",
      "급식 정보 조회 중: 날짜=20241030\n",
      "mealService 응답코드: 200\n",
      "mealServiceDietInfo 키 없음: {'RESULT': {'CODE': 'ERROR-300', 'MESSAGE': '필수 값이 누락되어 있습니다. 요청인자를 참고 하십시오.'}}\n",
      "[]\n",
      "8321115 군산제일고등학교\n",
      "급식 정보 조회 중: 날짜=20241030\n"
     ]
    },
    {
     "name": "stderr",
     "output_type": "stream",
     "text": [
      " ... (more hidden) ..."
     ]
    },
    {
     "name": "stdout",
     "output_type": "stream",
     "text": [
      "mealService 응답코드: 200\n",
      "mealServiceDietInfo 키 없음: {'RESULT': {'CODE': 'ERROR-300', 'MESSAGE': '필수 값이 누락되어 있습니다. 요청인자를 참고 하십시오.'}}\n",
      "[]\n",
      "8321116 군산중앙고등학교\n",
      "급식 정보 조회 중: 날짜=20241030\n",
      "mealService 응답코드: 200\n",
      "mealServiceDietInfo 키 없음: {'RESULT': {'CODE': 'ERROR-300', 'MESSAGE': '필수 값이 누락되어 있습니다. 요청인자를 참고 하십시오.'}}\n",
      "[]\n"
     ]
    },
    {
     "name": "stderr",
     "output_type": "stream",
     "text": [
      " ... (more hidden) ..."
     ]
    },
    {
     "name": "stdout",
     "output_type": "stream",
     "text": [
      "8321117 군산중앙여자고등학교\n",
      "급식 정보 조회 중: 날짜=20241030\n",
      "mealService 응답코드: 200\n",
      "mealServiceDietInfo 키 없음: {'RESULT': {'CODE': 'ERROR-300', 'MESSAGE': '필수 값이 누락되어 있습니다. 요청인자를 참고 하십시오.'}}\n",
      "[]\n",
      "8321236 글로벌학산고등학교\n",
      "급식 정보 조회 중: 날짜=20241030\n",
      "mealService 응답코드: 200\n",
      "mealServiceDietInfo 키 없음: {'RESULT': {'CODE': 'ERROR-300', 'MESSAGE': '필수 값이 누락되어 있습니다. 요청인자를 참고 하십시오.'}}\n",
      "[]\n"
     ]
    },
    {
     "name": "stderr",
     "output_type": "stream",
     "text": [
      " ... (more hidden) ..."
     ]
    },
    {
     "name": "stdout",
     "output_type": "stream",
     "text": [
      "8321158 김제고등학교\n",
      "급식 정보 조회 중: 날짜=20241030\n",
      "mealService 응답코드: 200\n",
      "mealServiceDietInfo 키 없음: {'RESULT': {'CODE': 'ERROR-300', 'MESSAGE': '필수 값이 누락되어 있습니다. 요청인자를 참고 하십시오.'}}\n",
      "[]\n",
      "8321160 김제농생명마이스터고등학교\n",
      "급식 정보 조회 중: 날짜=20241030\n",
      "mealService 응답코드: 200\n",
      "mealServiceDietInfo 키 없음: {'RESULT': {'CODE': 'ERROR-300', 'MESSAGE': '필수 값이 누락되어 있습니다. 요청인자를 참고 하십시오.'}}\n",
      "[]\n"
     ]
    },
    {
     "name": "stderr",
     "output_type": "stream",
     "text": [
      " ... (more hidden) ..."
     ]
    },
    {
     "name": "stdout",
     "output_type": "stream",
     "text": [
      "8321162 김제서고등학교\n",
      "급식 정보 조회 중: 날짜=20241030\n",
      "mealService 응답코드: 200\n",
      "mealServiceDietInfo 키 없음: {'RESULT': {'CODE': 'ERROR-300', 'MESSAGE': '필수 값이 누락되어 있습니다. 요청인자를 참고 하십시오.'}}\n",
      "[]\n",
      "8321159 김제여자고등학교\n",
      "급식 정보 조회 중: 날짜=20241030\n"
     ]
    },
    {
     "name": "stderr",
     "output_type": "stream",
     "text": [
      " ... (more hidden) ..."
     ]
    },
    {
     "name": "stdout",
     "output_type": "stream",
     "text": [
      "mealService 응답코드: 200\n",
      "mealServiceDietInfo 키 없음: {'RESULT': {'CODE': 'ERROR-300', 'MESSAGE': '필수 값이 누락되어 있습니다. 요청인자를 참고 하십시오.'}}\n",
      "[]\n",
      "8321125 남성고등학교\n",
      "급식 정보 조회 중: 날짜=20241030\n",
      "mealService 응답코드: 200\n",
      "mealServiceDietInfo 키 없음: {'RESULT': {'CODE': 'ERROR-300', 'MESSAGE': '필수 값이 누락되어 있습니다. 요청인자를 참고 하십시오.'}}\n",
      "[]\n"
     ]
    },
    {
     "name": "stderr",
     "output_type": "stream",
     "text": [
      " ... (more hidden) ..."
     ]
    },
    {
     "name": "stdout",
     "output_type": "stream",
     "text": [
      "8321149 남원고등학교\n",
      "급식 정보 조회 중: 날짜=20241030\n",
      "mealService 응답코드: 200\n",
      "mealServiceDietInfo 키 없음: {'RESULT': {'CODE': 'ERROR-300', 'MESSAGE': '필수 값이 누락되어 있습니다. 요청인자를 참고 하십시오.'}}\n",
      "[]\n",
      "8321155 남원국악예술고등학교\n",
      "급식 정보 조회 중: 날짜=20241030\n"
     ]
    },
    {
     "name": "stderr",
     "output_type": "stream",
     "text": [
      " ... (more hidden) ..."
     ]
    },
    {
     "name": "stdout",
     "output_type": "stream",
     "text": [
      "mealService 응답코드: 200\n",
      "mealServiceDietInfo 키 없음: {'RESULT': {'CODE': 'ERROR-300', 'MESSAGE': '필수 값이 누락되어 있습니다. 요청인자를 참고 하십시오.'}}\n",
      "[]\n",
      "8321154 남원서진여자고등학교\n",
      "급식 정보 조회 중: 날짜=20241030\n",
      "mealService 응답코드: 200\n",
      "mealServiceDietInfo 키 없음: {'RESULT': {'CODE': 'ERROR-300', 'MESSAGE': '필수 값이 누락되어 있습니다. 요청인자를 참고 하십시오.'}}\n",
      "[]\n"
     ]
    },
    {
     "name": "stderr",
     "output_type": "stream",
     "text": [
      " ... (more hidden) ..."
     ]
    },
    {
     "name": "stdout",
     "output_type": "stream",
     "text": [
      "8321150 남원여자고등학교\n",
      "급식 정보 조회 중: 날짜=20241030\n",
      "mealService 응답코드: 200\n",
      "mealServiceDietInfo 키 없음: {'RESULT': {'CODE': 'ERROR-300', 'MESSAGE': '필수 값이 누락되어 있습니다. 요청인자를 참고 하십시오.'}}\n",
      "[]\n",
      "8321151 남원용성고등학교\n",
      "급식 정보 조회 중: 날짜=20241030\n"
     ]
    },
    {
     "name": "stderr",
     "output_type": "stream",
     "text": [
      " ... (more hidden) ..."
     ]
    },
    {
     "name": "stdout",
     "output_type": "stream",
     "text": [
      "mealService 응답코드: 200\n",
      "mealServiceDietInfo 키 없음: {'RESULT': {'CODE': 'ERROR-300', 'MESSAGE': '필수 값이 누락되어 있습니다. 요청인자를 참고 하십시오.'}}\n",
      "[]\n",
      "8321156 남원제일고등학교\n",
      "급식 정보 조회 중: 날짜=20241030\n",
      "mealService 응답코드: 200\n",
      "mealServiceDietInfo 키 없음: {'RESULT': {'CODE': 'ERROR-300', 'MESSAGE': '필수 값이 누락되어 있습니다. 요청인자를 참고 하십시오.'}}\n",
      "[]\n"
     ]
    },
    {
     "name": "stderr",
     "output_type": "stream",
     "text": [
      " ... (more hidden) ..."
     ]
    },
    {
     "name": "stdout",
     "output_type": "stream",
     "text": [
      "8321163 덕암고등학교\n",
      "급식 정보 조회 중: 날짜=20241030\n",
      "mealService 응답코드: 200\n",
      "mealServiceDietInfo 키 없음: {'RESULT': {'CODE': 'ERROR-300', 'MESSAGE': '필수 값이 누락되어 있습니다. 요청인자를 참고 하십시오.'}}\n",
      "[]\n",
      "8321164 덕암정보고등학교\n",
      "급식 정보 조회 중: 날짜=20241030\n"
     ]
    },
    {
     "name": "stderr",
     "output_type": "stream",
     "text": [
      " ... (more hidden) ..."
     ]
    },
    {
     "name": "stdout",
     "output_type": "stream",
     "text": [
      "mealService 응답코드: 200\n",
      "mealServiceDietInfo 키 없음: {'RESULT': {'CODE': 'ERROR-300', 'MESSAGE': '필수 값이 누락되어 있습니다. 요청인자를 참고 하십시오.'}}\n",
      "[]\n",
      "8321194 동계고등학교\n",
      "급식 정보 조회 중: 날짜=20241030\n",
      "mealService 응답코드: 200\n",
      "mealServiceDietInfo 키 없음: {'RESULT': {'CODE': 'ERROR-300', 'MESSAGE': '필수 값이 누락되어 있습니다. 요청인자를 참고 하십시오.'}}\n",
      "[]\n"
     ]
    },
    {
     "name": "stderr",
     "output_type": "stream",
     "text": [
      " ... (more hidden) ..."
     ]
    },
    {
     "name": "stdout",
     "output_type": "stream",
     "text": [
      "8321161 동국대학교사범대학부속금산고등학교\n",
      "급식 정보 조회 중: 날짜=20241030\n",
      "mealService 응답코드: 200\n",
      "mealServiceDietInfo 키 없음: {'RESULT': {'CODE': 'ERROR-300', 'MESSAGE': '필수 값이 누락되어 있습니다. 요청인자를 참고 하십시오.'}}\n",
      "[]\n",
      "8321089 동암고등학교\n",
      "급식 정보 조회 중: 날짜=20241030\n",
      "mealService 응답코드: 200\n",
      "mealServiceDietInfo 키 없음: {'RESULT': {'CODE': 'ERROR-300', 'MESSAGE': '필수 값이 누락되어 있습니다. 요청인자를 참고 하십시오.'}}\n",
      "[]\n"
     ]
    },
    {
     "name": "stderr",
     "output_type": "stream",
     "text": [
      " ... (more hidden) ..."
     ]
    },
    {
     "name": "stdout",
     "output_type": "stream",
     "text": [
      "8321179 마령고등학교\n",
      "급식 정보 조회 중: 날짜=20241030\n",
      "mealService 응답코드: 200\n",
      "mealServiceDietInfo 키 없음: {'RESULT': {'CODE': 'ERROR-300', 'MESSAGE': '필수 값이 누락되어 있습니다. 요청인자를 참고 하십시오.'}}\n",
      "[]\n",
      "8321165 만경고등학교\n",
      "급식 정보 조회 중: 날짜=20241030\n"
     ]
    },
    {
     "name": "stderr",
     "output_type": "stream",
     "text": [
      " ... (more hidden) ..."
     ]
    },
    {
     "name": "stdout",
     "output_type": "stream",
     "text": [
      "mealService 응답코드: 200\n",
      "mealServiceDietInfo 키 없음: {'RESULT': {'CODE': 'ERROR-300', 'MESSAGE': '필수 값이 누락되어 있습니다. 요청인자를 참고 하십시오.'}}\n",
      "[]\n",
      "8321166 만경여자고등학교\n",
      "급식 정보 조회 중: 날짜=20241030\n",
      "mealService 응답코드: 200\n",
      "mealServiceDietInfo 키 없음: {'RESULT': {'CODE': 'ERROR-300', 'MESSAGE': '필수 값이 누락되어 있습니다. 요청인자를 참고 하십시오.'}}\n",
      "[]\n"
     ]
    },
    {
     "name": "stderr",
     "output_type": "stream",
     "text": [
      " ... (more hidden) ..."
     ]
    },
    {
     "name": "stdout",
     "output_type": "stream",
     "text": [
      "8321184 무주고등학교\n",
      "급식 정보 조회 중: 날짜=20241030\n",
      "mealService 응답코드: 200\n",
      "mealServiceDietInfo 키 없음: {'RESULT': {'CODE': 'ERROR-300', 'MESSAGE': '필수 값이 누락되어 있습니다. 요청인자를 참고 하십시오.'}}\n",
      "[]\n",
      "8321183 무풍고등학교\n",
      "급식 정보 조회 중: 날짜=20241030\n",
      "mealService 응답코드: 200\n",
      "mealServiceDietInfo 키 없음: {'RESULT': {'CODE': 'ERROR-300', 'MESSAGE': '필수 값이 누락되어 있습니다. 요청인자를 참고 하십시오.'}}\n",
      "[]\n"
     ]
    },
    {
     "name": "stderr",
     "output_type": "stream",
     "text": [
      " ... (more hidden) ..."
     ]
    },
    {
     "name": "stdout",
     "output_type": "stream",
     "text": [
      "8321140 배영고등학교\n",
      "급식 정보 조회 중: 날짜=20241030\n",
      "mealService 응답코드: 200\n",
      "mealServiceDietInfo 키 없음: {'RESULT': {'CODE': 'ERROR-300', 'MESSAGE': '필수 값이 누락되어 있습니다. 요청인자를 참고 하십시오.'}}\n",
      "[]\n",
      "8321208 백산고등학교\n",
      "급식 정보 조회 중: 날짜=20241030\n"
     ]
    },
    {
     "name": "stderr",
     "output_type": "stream",
     "text": [
      " ... (more hidden) ..."
     ]
    },
    {
     "name": "stdout",
     "output_type": "stream",
     "text": [
      "mealService 응답코드: 200\n",
      "mealServiceDietInfo 키 없음: {'RESULT': {'CODE': 'ERROR-300', 'MESSAGE': '필수 값이 누락되어 있습니다. 요청인자를 참고 하십시오.'}}\n",
      "[]\n",
      "8321238 백화고등학교\n",
      "급식 정보 조회 중: 날짜=20241030\n",
      "mealService 응답코드: 200\n",
      "mealServiceDietInfo 키 없음: {'RESULT': {'CODE': 'ERROR-300', 'MESSAGE': '필수 값이 누락되어 있습니다. 요청인자를 참고 하십시오.'}}\n",
      "[]\n"
     ]
    },
    {
     "name": "stderr",
     "output_type": "stream",
     "text": [
      " ... (more hidden) ..."
     ]
    },
    {
     "name": "stdout",
     "output_type": "stream",
     "text": [
      "8321203 부안고등학교\n",
      "급식 정보 조회 중: 날짜=20241030\n",
      "mealService 응답코드: 200\n",
      "mealServiceDietInfo 키 없음: {'RESULT': {'CODE': 'ERROR-300', 'MESSAGE': '필수 값이 누락되어 있습니다. 요청인자를 참고 하십시오.'}}\n",
      "[]\n",
      "8321209 부안여자고등학교\n",
      "급식 정보 조회 중: 날짜=20241030\n"
     ]
    },
    {
     "name": "stderr",
     "output_type": "stream",
     "text": [
      " ... (more hidden) ..."
     ]
    },
    {
     "name": "stdout",
     "output_type": "stream",
     "text": [
      "mealService 응답코드: 200\n",
      "mealServiceDietInfo 키 없음: {'RESULT': {'CODE': 'ERROR-300', 'MESSAGE': '필수 값이 누락되어 있습니다. 요청인자를 참고 하십시오.'}}\n",
      "[]\n",
      "8321188 산서고등학교\n",
      "급식 정보 조회 중: 날짜=20241030\n",
      "mealService 응답코드: 200\n",
      "mealServiceDietInfo 키 없음: {'RESULT': {'CODE': 'ERROR-300', 'MESSAGE': '필수 값이 누락되어 있습니다. 요청인자를 참고 하십시오.'}}\n",
      "[]\n"
     ]
    },
    {
     "name": "stderr",
     "output_type": "stream",
     "text": [
      " ... (more hidden) ..."
     ]
    },
    {
     "name": "stdout",
     "output_type": "stream",
     "text": [
      "8321090 상산고등학교\n",
      "급식 정보 조회 중: 날짜=20241030\n",
      "mealService 응답코드: 200\n",
      "mealServiceDietInfo 키 없음: {'RESULT': {'CODE': 'ERROR-300', 'MESSAGE': '필수 값이 누락되어 있습니다. 요청인자를 참고 하십시오.'}}\n",
      "[]\n",
      "8321207 서림고등학교\n",
      "급식 정보 조회 중: 날짜=20241030\n"
     ]
    },
    {
     "name": "stderr",
     "output_type": "stream",
     "text": [
      " ... (more hidden) ..."
     ]
    },
    {
     "name": "stdout",
     "output_type": "stream",
     "text": [
      "mealService 응답코드: 200\n",
      "mealServiceDietInfo 키 없음: {'RESULT': {'CODE': 'ERROR-300', 'MESSAGE': '필수 값이 누락되어 있습니다. 요청인자를 참고 하십시오.'}}\n",
      "[]\n",
      "8321141 서영여자고등학교\n",
      "급식 정보 조회 중: 날짜=20241030\n",
      "mealService 응답코드: 200\n",
      "mealServiceDietInfo 키 없음: {'RESULT': {'CODE': 'ERROR-300', 'MESSAGE': '필수 값이 누락되어 있습니다. 요청인자를 참고 하십시오.'}}\n",
      "[]\n"
     ]
    },
    {
     "name": "stderr",
     "output_type": "stream",
     "text": [
      " ... (more hidden) ..."
     ]
    },
    {
     "name": "stdout",
     "output_type": "stream",
     "text": [
      "8321181 설천고등학교\n",
      "급식 정보 조회 중: 날짜=20241030\n",
      "mealService 응답코드: 200\n",
      "mealServiceDietInfo 키 없음: {'RESULT': {'CODE': 'ERROR-300', 'MESSAGE': '필수 값이 누락되어 있습니다. 요청인자를 참고 하십시오.'}}\n",
      "[]\n",
      "8321157 성원고등학교\n",
      "급식 정보 조회 중: 날짜=20241030\n"
     ]
    },
    {
     "name": "stderr",
     "output_type": "stream",
     "text": [
      " ... (more hidden) ..."
     ]
    },
    {
     "name": "stdout",
     "output_type": "stream",
     "text": [
      "mealService 응답코드: 200\n",
      "mealServiceDietInfo 키 없음: {'RESULT': {'CODE': 'ERROR-300', 'MESSAGE': '필수 값이 누락되어 있습니다. 요청인자를 참고 하십시오.'}}\n",
      "[]\n",
      "8321126 성일고등학교\n",
      "급식 정보 조회 중: 날짜=20241030\n",
      "mealService 응답코드: 200\n",
      "mealServiceDietInfo 키 없음: {'RESULT': {'CODE': 'ERROR-300', 'MESSAGE': '필수 값이 누락되어 있습니다. 요청인자를 참고 하십시오.'}}\n",
      "[]\n"
     ]
    },
    {
     "name": "stderr",
     "output_type": "stream",
     "text": [
      " ... (more hidden) ..."
     ]
    },
    {
     "name": "stdout",
     "output_type": "stream",
     "text": [
      "8321172 세인고등학교\n",
      "급식 정보 조회 중: 날짜=20241030\n",
      "mealService 응답코드: 200\n",
      "mealServiceDietInfo 키 없음: {'RESULT': {'CODE': 'ERROR-300', 'MESSAGE': '필수 값이 누락되어 있습니다. 요청인자를 참고 하십시오.'}}\n",
      "[]\n"
     ]
    },
    {
     "name": "stderr",
     "output_type": "stream",
     "text": [
      " ... (more hidden) ..."
     ]
    },
    {
     "name": "stdout",
     "output_type": "stream",
     "text": [
      "8321268 수소에너지고등학교\n",
      "급식 정보 조회 중: 날짜=20241030\n",
      "mealService 응답코드: 200\n",
      "mealServiceDietInfo 키 없음: {'RESULT': {'CODE': 'ERROR-300', 'MESSAGE': '필수 값이 누락되어 있습니다. 요청인자를 참고 하십시오.'}}\n",
      "[]\n",
      "8321196 순창고등학교\n",
      "급식 정보 조회 중: 날짜=20241030\n"
     ]
    },
    {
     "name": "stderr",
     "output_type": "stream",
     "text": [
      " ... (more hidden) ..."
     ]
    },
    {
     "name": "stdout",
     "output_type": "stream",
     "text": [
      "mealService 응답코드: 200\n",
      "mealServiceDietInfo 키 없음: {'RESULT': {'CODE': 'ERROR-300', 'MESSAGE': '필수 값이 누락되어 있습니다. 요청인자를 참고 하십시오.'}}\n",
      "[]\n",
      "8321195 순창제일고등학교\n",
      "급식 정보 조회 중: 날짜=20241030\n",
      "mealService 응답코드: 200\n",
      "mealServiceDietInfo 키 없음: {'RESULT': {'CODE': 'ERROR-300', 'MESSAGE': '필수 값이 누락되어 있습니다. 요청인자를 참고 하십시오.'}}\n",
      "[]\n"
     ]
    },
    {
     "name": "stderr",
     "output_type": "stream",
     "text": [
      " ... (more hidden) ..."
     ]
    },
    {
     "name": "stdout",
     "output_type": "stream",
     "text": [
      "8321142 신태인고등학교\n",
      "급식 정보 조회 중: 날짜=20241030\n",
      "mealService 응답코드: 200\n",
      "mealServiceDietInfo 키 없음: {'RESULT': {'CODE': 'ERROR-300', 'MESSAGE': '필수 값이 누락되어 있습니다. 요청인자를 참고 하십시오.'}}\n",
      "[]\n",
      "8321182 안성고등학교\n",
      "급식 정보 조회 중: 날짜=20241030\n"
     ]
    },
    {
     "name": "stderr",
     "output_type": "stream",
     "text": [
      " ... (more hidden) ..."
     ]
    },
    {
     "name": "stdout",
     "output_type": "stream",
     "text": [
      "mealService 응답코드: 200\n",
      "mealServiceDietInfo 키 없음: {'RESULT': {'CODE': 'ERROR-300', 'MESSAGE': '필수 값이 누락되어 있습니다. 요청인자를 참고 하십시오.'}}\n",
      "[]\n",
      "8321178 안천고등학교\n",
      "급식 정보 조회 중: 날짜=20241030\n",
      "mealService 응답코드: 200\n",
      "mealServiceDietInfo 키 없음: {'RESULT': {'CODE': 'ERROR-300', 'MESSAGE': '필수 값이 누락되어 있습니다. 요청인자를 참고 하십시오.'}}\n",
      "[]\n"
     ]
    },
    {
     "name": "stderr",
     "output_type": "stream",
     "text": [
      " ... (more hidden) ..."
     ]
    },
    {
     "name": "stdout",
     "output_type": "stream",
     "text": [
      "8321083 양현고등학교\n",
      "급식 정보 조회 중: 날짜=20241030\n",
      "mealService 응답코드: 200\n",
      "mealServiceDietInfo 키 없음: {'RESULT': {'CODE': 'ERROR-300', 'MESSAGE': '필수 값이 누락되어 있습니다. 요청인자를 참고 하십시오.'}}\n",
      "[]\n",
      "8321122 여산고등학교\n",
      "급식 정보 조회 중: 날짜=20241030\n",
      "mealService 응답코드: 200\n",
      "mealServiceDietInfo 키 없음: {'RESULT': {'CODE': 'ERROR-300', 'MESSAGE': '필수 값이 누락되어 있습니다. 요청인자를 참고 하십시오.'}}\n",
      "[]\n"
     ]
    },
    {
     "name": "stderr",
     "output_type": "stream",
     "text": [
      " ... (more hidden) ..."
     ]
    },
    {
     "name": "stdout",
     "output_type": "stream",
     "text": [
      "8321092 완산고등학교\n",
      "급식 정보 조회 중: 날짜=20241030\n",
      "mealService 응답코드: 200\n",
      "mealServiceDietInfo 키 없음: {'RESULT': {'CODE': 'ERROR-300', 'MESSAGE': '필수 값이 누락되어 있습니다. 요청인자를 참고 하십시오.'}}\n",
      "[]\n",
      "8321093 완산여자고등학교\n",
      "급식 정보 조회 중: 날짜=20241030\n"
     ]
    },
    {
     "name": "stderr",
     "output_type": "stream",
     "text": [
      " ... (more hidden) ..."
     ]
    },
    {
     "name": "stdout",
     "output_type": "stream",
     "text": [
      "mealService 응답코드: 200\n",
      "mealServiceDietInfo 키 없음: {'RESULT': {'CODE': 'ERROR-300', 'MESSAGE': '필수 값이 누락되어 있습니다. 요청인자를 참고 하십시오.'}}\n",
      "[]\n",
      "8321173 완주고등학교\n",
      "급식 정보 조회 중: 날짜=20241030\n",
      "mealService 응답코드: 200\n",
      "mealServiceDietInfo 키 없음: {'RESULT': {'CODE': 'ERROR-300', 'MESSAGE': '필수 값이 누락되어 있습니다. 요청인자를 참고 하십시오.'}}\n",
      "[]\n"
     ]
    },
    {
     "name": "stderr",
     "output_type": "stream",
     "text": [
      " ... (more hidden) ..."
     ]
    },
    {
     "name": "stdout",
     "output_type": "stream",
     "text": [
      "8321143 왕신여자고등학교\n",
      "급식 정보 조회 중: 날짜=20241030\n",
      "mealService 응답코드: 200\n",
      "mealServiceDietInfo 키 없음: {'RESULT': {'CODE': 'ERROR-300', 'MESSAGE': '필수 값이 누락되어 있습니다. 요청인자를 참고 하십시오.'}}\n",
      "[]\n",
      "8321094 우석고등학교\n",
      "급식 정보 조회 중: 날짜=20241030\n"
     ]
    },
    {
     "name": "stderr",
     "output_type": "stream",
     "text": [
      " ... (more hidden) ..."
     ]
    },
    {
     "name": "stdout",
     "output_type": "stream",
     "text": [
      "mealService 응답코드: 200\n",
      "mealServiceDietInfo 키 없음: {'RESULT': {'CODE': 'ERROR-300', 'MESSAGE': '필수 값이 누락되어 있습니다. 요청인자를 참고 하십시오.'}}\n",
      "[]\n",
      "8321127 원광고등학교\n",
      "급식 정보 조회 중: 날짜=20241030\n",
      "mealService 응답코드: 200\n",
      "mealServiceDietInfo 키 없음: {'RESULT': {'CODE': 'ERROR-300', 'MESSAGE': '필수 값이 누락되어 있습니다. 요청인자를 참고 하십시오.'}}\n",
      "[]\n"
     ]
    },
    {
     "name": "stderr",
     "output_type": "stream",
     "text": [
      " ... (more hidden) ..."
     ]
    },
    {
     "name": "stdout",
     "output_type": "stream",
     "text": [
      "8321129 원광보건고등학교\n",
      "급식 정보 조회 중: 날짜=20241030\n",
      "mealService 응답코드: 200\n",
      "mealServiceDietInfo 키 없음: {'RESULT': {'CODE': 'ERROR-300', 'MESSAGE': '필수 값이 누락되어 있습니다. 요청인자를 참고 하십시오.'}}\n",
      "[]\n",
      "8321128 원광여자고등학교\n",
      "급식 정보 조회 중: 날짜=20241030\n"
     ]
    },
    {
     "name": "stderr",
     "output_type": "stream",
     "text": [
      " ... (more hidden) ..."
     ]
    },
    {
     "name": "stdout",
     "output_type": "stream",
     "text": [
      "mealService 응답코드: 200\n",
      "mealServiceDietInfo 키 없음: {'RESULT': {'CODE': 'ERROR-300', 'MESSAGE': '필수 값이 누락되어 있습니다. 요청인자를 참고 하십시오.'}}\n",
      "[]\n",
      "8321205 위도고등학교\n",
      "급식 정보 조회 중: 날짜=20241030\n",
      "mealService 응답코드: 200\n",
      "mealServiceDietInfo 키 없음: {'RESULT': {'CODE': 'ERROR-300', 'MESSAGE': '필수 값이 누락되어 있습니다. 요청인자를 참고 하십시오.'}}\n",
      "[]\n"
     ]
    },
    {
     "name": "stderr",
     "output_type": "stream",
     "text": [
      " ... (more hidden) ..."
     ]
    },
    {
     "name": "stdout",
     "output_type": "stream",
     "text": [
      "8321095 유일여자고등학교\n",
      "급식 정보 조회 중: 날짜=20241030\n",
      "mealService 응답코드: 200\n",
      "mealServiceDietInfo 키 없음: {'RESULT': {'CODE': 'ERROR-300', 'MESSAGE': '필수 값이 누락되어 있습니다. 요청인자를 참고 하십시오.'}}\n",
      "[]\n"
     ]
    },
    {
     "name": "stderr",
     "output_type": "stream",
     "text": [
      " ... (more hidden) ..."
     ]
    },
    {
     "name": "stdout",
     "output_type": "stream",
     "text": [
      "8321119 이리고등학교\n",
      "급식 정보 조회 중: 날짜=20241030\n",
      "mealService 응답코드: 200\n",
      "mealServiceDietInfo 키 없음: {'RESULT': {'CODE': 'ERROR-300', 'MESSAGE': '필수 값이 누락되어 있습니다. 요청인자를 참고 하십시오.'}}\n",
      "[]\n",
      "8321121 이리공업고등학교\n",
      "급식 정보 조회 중: 날짜=20241030\n"
     ]
    },
    {
     "name": "stderr",
     "output_type": "stream",
     "text": [
      " ... (more hidden) ..."
     ]
    },
    {
     "name": "stdout",
     "output_type": "stream",
     "text": [
      "mealService 응답코드: 200\n",
      "mealServiceDietInfo 키 없음: {'RESULT': {'CODE': 'ERROR-300', 'MESSAGE': '필수 값이 누락되어 있습니다. 요청인자를 참고 하십시오.'}}\n",
      "[]\n",
      "8321130 이리남성여자고등학교\n",
      "급식 정보 조회 중: 날짜=20241030\n",
      "mealService 응답코드: 200\n",
      "mealServiceDietInfo 키 없음: {'RESULT': {'CODE': 'ERROR-300', 'MESSAGE': '필수 값이 누락되어 있습니다. 요청인자를 참고 하십시오.'}}\n",
      "[]\n"
     ]
    },
    {
     "name": "stderr",
     "output_type": "stream",
     "text": [
      " ... (more hidden) ..."
     ]
    },
    {
     "name": "stdout",
     "output_type": "stream",
     "text": [
      "8321120 이리여자고등학교\n",
      "급식 정보 조회 중: 날짜=20241030\n",
      "mealService 응답코드: 200\n",
      "mealServiceDietInfo 키 없음: {'RESULT': {'CODE': 'ERROR-300', 'MESSAGE': '필수 값이 누락되어 있습니다. 요청인자를 참고 하십시오.'}}\n",
      "[]\n",
      "8321131 이일여자고등학교\n",
      "급식 정보 조회 중: 날짜=20241030\n",
      "mealService 응답코드: 200\n",
      "mealServiceDietInfo 키 없음: {'RESULT': {'CODE': 'ERROR-300', 'MESSAGE': '필수 값이 누락되어 있습니다. 요청인자를 참고 하십시오.'}}\n",
      "[]\n"
     ]
    },
    {
     "name": "stderr",
     "output_type": "stream",
     "text": [
      " ... (more hidden) ..."
     ]
    },
    {
     "name": "stdout",
     "output_type": "stream",
     "text": [
      "8321132 익산고등학교\n",
      "급식 정보 조회 중: 날짜=20241030\n",
      "mealService 응답코드: 200\n",
      "mealServiceDietInfo 키 없음: {'RESULT': {'CODE': 'ERROR-300', 'MESSAGE': '필수 값이 누락되어 있습니다. 요청인자를 참고 하십시오.'}}\n",
      "[]\n",
      "8321144 인상고등학교\n",
      "급식 정보 조회 중: 날짜=20241030\n"
     ]
    },
    {
     "name": "stderr",
     "output_type": "stream",
     "text": [
      " ... (more hidden) ..."
     ]
    },
    {
     "name": "stdout",
     "output_type": "stream",
     "text": [
      "mealService 응답코드: 200\n",
      "mealServiceDietInfo 키 없음: {'RESULT': {'CODE': 'ERROR-300', 'MESSAGE': '필수 값이 누락되어 있습니다. 요청인자를 참고 하십시오.'}}\n",
      "[]\n",
      "8321152 인월고등학교\n",
      "급식 정보 조회 중: 날짜=20241030\n",
      "mealService 응답코드: 200\n",
      "mealServiceDietInfo 키 없음: {'RESULT': {'CODE': 'ERROR-300', 'MESSAGE': '필수 값이 누락되어 있습니다. 요청인자를 참고 하십시오.'}}\n",
      "[]\n"
     ]
    },
    {
     "name": "stderr",
     "output_type": "stream",
     "text": [
      " ... (more hidden) ..."
     ]
    },
    {
     "name": "stdout",
     "output_type": "stream",
     "text": [
      "8321191 임실고등학교\n",
      "급식 정보 조회 중: 날짜=20241030\n",
      "mealService 응답코드: 200\n",
      "mealServiceDietInfo 키 없음: {'RESULT': {'CODE': 'ERROR-300', 'MESSAGE': '필수 값이 누락되어 있습니다. 요청인자를 참고 하십시오.'}}\n",
      "[]\n",
      "8321237 자유고등학교\n",
      "급식 정보 조회 중: 날짜=20241030\n"
     ]
    },
    {
     "name": "stderr",
     "output_type": "stream",
     "text": [
      " ... (more hidden) ..."
     ]
    },
    {
     "name": "stdout",
     "output_type": "stream",
     "text": [
      "mealService 응답코드: 200\n",
      "mealServiceDietInfo 키 없음: {'RESULT': {'CODE': 'ERROR-300', 'MESSAGE': '필수 값이 누락되어 있습니다. 요청인자를 참고 하십시오.'}}\n",
      "[]\n",
      "8321186 장수고등학교\n",
      "급식 정보 조회 중: 날짜=20241030\n",
      "mealService 응답코드: 200\n",
      "mealServiceDietInfo 키 없음: {'RESULT': {'CODE': 'ERROR-300', 'MESSAGE': '필수 값이 누락되어 있습니다. 요청인자를 참고 하십시오.'}}\n",
      "[]\n"
     ]
    },
    {
     "name": "stderr",
     "output_type": "stream",
     "text": [
      " ... (more hidden) ..."
     ]
    },
    {
     "name": "stdout",
     "output_type": "stream",
     "text": [
      "8321080 전라고등학교\n",
      "급식 정보 조회 중: 날짜=20241030\n",
      "mealService 응답코드: 200\n",
      "mealServiceDietInfo 키 없음: {'RESULT': {'CODE': 'ERROR-300', 'MESSAGE': '필수 값이 누락되어 있습니다. 요청인자를 참고 하십시오.'}}\n",
      "[]\n",
      "8321124 전북과학고등학교\n",
      "급식 정보 조회 중: 날짜=20241030\n"
     ]
    },
    {
     "name": "stderr",
     "output_type": "stream",
     "text": [
      " ... (more hidden) ..."
     ]
    },
    {
     "name": "stdout",
     "output_type": "stream",
     "text": [
      "mealService 응답코드: 200\n",
      "mealServiceDietInfo 키 없음: {'RESULT': {'CODE': 'ERROR-300', 'MESSAGE': '필수 값이 누락되어 있습니다. 요청인자를 참고 하십시오.'}}\n",
      "[]\n",
      "1421118 전북기계공업고등학교\n",
      "급식 정보 조회 중: 날짜=20241030\n",
      "mealService 응답코드: 200\n",
      "mealServiceDietInfo 키 없음: {'RESULT': {'CODE': 'ERROR-300', 'MESSAGE': '필수 값이 누락되어 있습니다. 요청인자를 참고 하십시오.'}}\n",
      "[]\n"
     ]
    },
    {
     "name": "stderr",
     "output_type": "stream",
     "text": [
      " ... (more hidden) ..."
     ]
    },
    {
     "name": "stdout",
     "output_type": "stream",
     "text": [
      "7003982 전북대학교사범대학부설고등학교\n",
      "급식 정보 조회 중: 날짜=20241030\n",
      "mealService 응답코드: 200\n",
      "mealServiceDietInfo 키 없음: {'RESULT': {'CODE': 'ERROR-300', 'MESSAGE': '필수 값이 누락되어 있습니다. 요청인자를 참고 하십시오.'}}\n",
      "[]\n",
      "8321235 전북베이커리고등학교\n",
      "급식 정보 조회 중: 날짜=20241030\n",
      "mealService 응답코드: 200\n",
      "mealServiceDietInfo 키 없음: {'RESULT': {'CODE': 'ERROR-300', 'MESSAGE': '필수 값이 누락되어 있습니다. 요청인자를 참고 하십시오.'}}\n",
      "[]\n"
     ]
    },
    {
     "name": "stderr",
     "output_type": "stream",
     "text": [
      " ... (more hidden) ..."
     ]
    },
    {
     "name": "stdout",
     "output_type": "stream",
     "text": [
      "8321096 전북여자고등학교\n",
      "급식 정보 조회 중: 날짜=20241030\n",
      "mealService 응답코드: 200\n",
      "mealServiceDietInfo 키 없음: {'RESULT': {'CODE': 'ERROR-300', 'MESSAGE': '필수 값이 누락되어 있습니다. 요청인자를 참고 하십시오.'}}\n",
      "[]\n",
      "8321114 전북외국어고등학교\n",
      "급식 정보 조회 중: 날짜=20241030\n"
     ]
    },
    {
     "name": "stderr",
     "output_type": "stream",
     "text": [
      " ... (more hidden) ..."
     ]
    },
    {
     "name": "stdout",
     "output_type": "stream",
     "text": [
      "mealService 응답코드: 200\n",
      "mealServiceDietInfo 키 없음: {'RESULT': {'CODE': 'ERROR-300', 'MESSAGE': '필수 값이 누락되어 있습니다. 요청인자를 참고 하십시오.'}}\n",
      "[]\n",
      "8321187 전북유니텍고등학교\n",
      "급식 정보 조회 중: 날짜=20241030\n",
      "mealService 응답코드: 200\n",
      "mealServiceDietInfo 키 없음: {'RESULT': {'CODE': 'ERROR-300', 'MESSAGE': '필수 값이 누락되어 있습니다. 요청인자를 참고 하십시오.'}}\n",
      "[]\n"
     ]
    },
    {
     "name": "stderr",
     "output_type": "stream",
     "text": [
      " ... (more hidden) ..."
     ]
    },
    {
     "name": "stdout",
     "output_type": "stream",
     "text": [
      "8321270 전북인공지능고등학교\n",
      "급식 정보 조회 중: 날짜=20241030\n",
      "mealService 응답코드: 200\n",
      "mealServiceDietInfo 키 없음: {'RESULT': {'CODE': 'ERROR-300', 'MESSAGE': '필수 값이 누락되어 있습니다. 요청인자를 참고 하십시오.'}}\n",
      "[]\n",
      "8321133 전북제일고등학교\n",
      "급식 정보 조회 중: 날짜=20241030\n"
     ]
    },
    {
     "name": "stderr",
     "output_type": "stream",
     "text": [
      " ... (more hidden) ..."
     ]
    },
    {
     "name": "stdout",
     "output_type": "stream",
     "text": [
      "mealService 응답코드: 200\n",
      "mealServiceDietInfo 키 없음: {'RESULT': {'CODE': 'ERROR-300', 'MESSAGE': '필수 값이 누락되어 있습니다. 요청인자를 참고 하십시오.'}}\n",
      "[]\n",
      "8321171 전북체육고등학교\n",
      "급식 정보 조회 중: 날짜=20241030\n",
      "mealService 응답코드: 200\n",
      "mealServiceDietInfo 키 없음: {'RESULT': {'CODE': 'ERROR-300', 'MESSAGE': '필수 값이 누락되어 있습니다. 요청인자를 참고 하십시오.'}}\n",
      "[]\n"
     ]
    },
    {
     "name": "stderr",
     "output_type": "stream",
     "text": [
      " ... (more hidden) ..."
     ]
    },
    {
     "name": "stdout",
     "output_type": "stream",
     "text": [
      "8321234 전북펫고등학교\n",
      "급식 정보 조회 중: 날짜=20241030\n",
      "mealService 응답코드: 200\n",
      "mealServiceDietInfo 키 없음: {'RESULT': {'CODE': 'ERROR-300', 'MESSAGE': '필수 값이 누락되어 있습니다. 요청인자를 참고 하십시오.'}}\n",
      "[]\n",
      "8321097 전일고등학교\n",
      "급식 정보 조회 중: 날짜=20241030\n",
      "mealService 응답코드: 200\n",
      "mealServiceDietInfo 키 없음: {'RESULT': {'CODE': 'ERROR-300', 'MESSAGE': '필수 값이 누락되어 있습니다. 요청인자를 참고 하십시오.'}}\n",
      "[]\n"
     ]
    },
    {
     "name": "stderr",
     "output_type": "stream",
     "text": [
      " ... (more hidden) ..."
     ]
    },
    {
     "name": "stdout",
     "output_type": "stream",
     "text": [
      "8321079 전주고등학교\n",
      "급식 정보 조회 중: 날짜=20241030\n",
      "mealService 응답코드: 200\n",
      "mealServiceDietInfo 키 없음: {'RESULT': {'CODE': 'ERROR-300', 'MESSAGE': '필수 값이 누락되어 있습니다. 요청인자를 참고 하십시오.'}}\n",
      "[]\n",
      "8321088 전주공업고등학교\n",
      "급식 정보 조회 중: 날짜=20241030\n",
      "mealService 응답코드: 200\n",
      "mealServiceDietInfo 키 없음: {'RESULT': {'CODE': 'ERROR-300', 'MESSAGE': '필수 값이 누락되어 있습니다. 요청인자를 참고 하십시오.'}}\n",
      "[]\n"
     ]
    },
    {
     "name": "stderr",
     "output_type": "stream",
     "text": [
      " ... (more hidden) ..."
     ]
    },
    {
     "name": "stdout",
     "output_type": "stream",
     "text": [
      "8321098 전주근영여자고등학교\n",
      "급식 정보 조회 중: 날짜=20241030\n",
      "mealService 응답코드: 200\n",
      "mealServiceDietInfo 키 없음: {'RESULT': {'CODE': 'ERROR-300', 'MESSAGE': '필수 값이 누락되어 있습니다. 요청인자를 참고 하십시오.'}}\n",
      "[]\n",
      "8321099 전주기전여자고등학교\n",
      "급식 정보 조회 중: 날짜=20241030\n"
     ]
    },
    {
     "name": "stderr",
     "output_type": "stream",
     "text": [
      " ... (more hidden) ..."
     ]
    },
    {
     "name": "stdout",
     "output_type": "stream",
     "text": [
      "mealService 응답코드: 200\n",
      "mealServiceDietInfo 키 없음: {'RESULT': {'CODE': 'ERROR-300', 'MESSAGE': '필수 값이 누락되어 있습니다. 요청인자를 참고 하십시오.'}}\n",
      "[]\n",
      "8321091 전주대학교사범대학부설고등학교\n",
      "급식 정보 조회 중: 날짜=20241030\n",
      "mealService 응답코드: 200\n",
      "mealServiceDietInfo 키 없음: {'RESULT': {'CODE': 'ERROR-300', 'MESSAGE': '필수 값이 누락되어 있습니다. 요청인자를 참고 하십시오.'}}\n",
      "[]\n"
     ]
    },
    {
     "name": "stderr",
     "output_type": "stream",
     "text": [
      " ... (more hidden) ..."
     ]
    },
    {
     "name": "stdout",
     "output_type": "stream",
     "text": [
      "8321087 전주상업정보고등학교\n",
      "급식 정보 조회 중: 날짜=20241030\n",
      "mealService 응답코드: 200\n",
      "mealServiceDietInfo 키 없음: {'RESULT': {'CODE': 'ERROR-300', 'MESSAGE': '필수 값이 누락되어 있습니다. 요청인자를 참고 하십시오.'}}\n",
      "[]\n",
      "8321085 전주생명과학고등학교\n",
      "급식 정보 조회 중: 날짜=20241030\n"
     ]
    },
    {
     "name": "stderr",
     "output_type": "stream",
     "text": [
      " ... (more hidden) ..."
     ]
    },
    {
     "name": "stdout",
     "output_type": "stream",
     "text": [
      "mealService 응답코드: 200\n",
      "mealServiceDietInfo 키 없음: {'RESULT': {'CODE': 'ERROR-300', 'MESSAGE': '필수 값이 누락되어 있습니다. 요청인자를 참고 하십시오.'}}\n",
      "[]\n",
      "8321100 전주성심여자고등학교\n",
      "급식 정보 조회 중: 날짜=20241030\n",
      "mealService 응답코드: 200\n",
      "mealServiceDietInfo 키 없음: {'RESULT': {'CODE': 'ERROR-300', 'MESSAGE': '필수 값이 누락되어 있습니다. 요청인자를 참고 하십시오.'}}\n",
      "[]\n"
     ]
    },
    {
     "name": "stderr",
     "output_type": "stream",
     "text": [
      " ... (more hidden) ..."
     ]
    },
    {
     "name": "stdout",
     "output_type": "stream",
     "text": [
      "8321082 전주솔내고등학교\n",
      "급식 정보 조회 중: 날짜=20241030\n",
      "mealService 응답코드: 200\n",
      "mealServiceDietInfo 키 없음: {'RESULT': {'CODE': 'ERROR-300', 'MESSAGE': '필수 값이 누락되어 있습니다. 요청인자를 참고 하십시오.'}}\n",
      "[]\n",
      "8321101 전주신흥고등학교\n",
      "급식 정보 조회 중: 날짜=20241030\n",
      "mealService 응답코드: 200\n",
      "mealServiceDietInfo 키 없음: {'RESULT': {'CODE': 'ERROR-300', 'MESSAGE': '필수 값이 누락되어 있습니다. 요청인자를 참고 하십시오.'}}\n",
      "[]\n"
     ]
    },
    {
     "name": "stderr",
     "output_type": "stream",
     "text": [
      " ... (more hidden) ..."
     ]
    },
    {
     "name": "stdout",
     "output_type": "stream",
     "text": [
      "8321081 전주여자고등학교\n",
      "급식 정보 조회 중: 날짜=20241030\n",
      "mealService 응답코드: 200\n",
      "mealServiceDietInfo 키 없음: {'RESULT': {'CODE': 'ERROR-300', 'MESSAGE': '필수 값이 누락되어 있습니다. 요청인자를 참고 하십시오.'}}\n",
      "[]\n",
      "8321102 전주영생고등학교\n",
      "급식 정보 조회 중: 날짜=20241030\n"
     ]
    },
    {
     "name": "stderr",
     "output_type": "stream",
     "text": [
      " ... (more hidden) ..."
     ]
    },
    {
     "name": "stdout",
     "output_type": "stream",
     "text": [
      "mealService 응답코드: 200\n",
      "mealServiceDietInfo 키 없음: {'RESULT': {'CODE': 'ERROR-300', 'MESSAGE': '필수 값이 누락되어 있습니다. 요청인자를 참고 하십시오.'}}\n",
      "[]\n",
      "8321174 전주예술고등학교\n",
      "급식 정보 조회 중: 날짜=20241030\n",
      "mealService 응답코드: 200\n",
      "mealServiceDietInfo 키 없음: {'RESULT': {'CODE': 'ERROR-300', 'MESSAGE': '필수 값이 누락되어 있습니다. 요청인자를 참고 하십시오.'}}\n",
      "[]\n"
     ]
    },
    {
     "name": "stderr",
     "output_type": "stream",
     "text": [
      " ... (more hidden) ..."
     ]
    },
    {
     "name": "stdout",
     "output_type": "stream",
     "text": [
      "8321086 전주제일고등학교\n",
      "급식 정보 조회 중: 날짜=20241030\n",
      "mealService 응답코드: 200\n",
      "mealServiceDietInfo 키 없음: {'RESULT': {'CODE': 'ERROR-300', 'MESSAGE': '필수 값이 누락되어 있습니다. 요청인자를 참고 하십시오.'}}\n",
      "[]\n",
      "8321103 전주중앙여자고등학교\n",
      "급식 정보 조회 중: 날짜=20241030\n"
     ]
    },
    {
     "name": "stderr",
     "output_type": "stream",
     "text": [
      " ... (more hidden) ..."
     ]
    },
    {
     "name": "stdout",
     "output_type": "stream",
     "text": [
      "mealService 응답코드: 200\n",
      "mealServiceDietInfo 키 없음: {'RESULT': {'CODE': 'ERROR-300', 'MESSAGE': '필수 값이 누락되어 있습니다. 요청인자를 참고 하십시오.'}}\n",
      "[]\n",
      "8321104 전주한일고등학교\n",
      "급식 정보 조회 중: 날짜=20241030\n",
      "mealService 응답코드: 200\n",
      "mealServiceDietInfo 키 없음: {'RESULT': {'CODE': 'ERROR-300', 'MESSAGE': '필수 값이 누락되어 있습니다. 요청인자를 참고 하십시오.'}}\n",
      "[]\n"
     ]
    },
    {
     "name": "stderr",
     "output_type": "stream",
     "text": [
      " ... (more hidden) ..."
     ]
    },
    {
     "name": "stdout",
     "output_type": "stream",
     "text": [
      "8321105 전주해성고등학교\n",
      "급식 정보 조회 중: 날짜=20241030\n",
      "mealService 응답코드: 200\n",
      "mealServiceDietInfo 키 없음: {'RESULT': {'CODE': 'ERROR-300', 'MESSAGE': '필수 값이 누락되어 있습니다. 요청인자를 참고 하십시오.'}}\n",
      "[]\n",
      "8321136 정읍고등학교\n",
      "급식 정보 조회 중: 날짜=20241030\n"
     ]
    },
    {
     "name": "stderr",
     "output_type": "stream",
     "text": [
      " ... (more hidden) ..."
     ]
    },
    {
     "name": "stdout",
     "output_type": "stream",
     "text": [
      "mealService 응답코드: 200\n",
      "mealServiceDietInfo 키 없음: {'RESULT': {'CODE': 'ERROR-300', 'MESSAGE': '필수 값이 누락되어 있습니다. 요청인자를 참고 하십시오.'}}\n",
      "[]\n",
      "8321137 정읍여자고등학교\n",
      "급식 정보 조회 중: 날짜=20241030\n",
      "mealService 응답코드: 200\n",
      "mealServiceDietInfo 키 없음: {'RESULT': {'CODE': 'ERROR-300', 'MESSAGE': '필수 값이 누락되어 있습니다. 요청인자를 참고 하십시오.'}}\n",
      "[]\n"
     ]
    },
    {
     "name": "stderr",
     "output_type": "stream",
     "text": [
      " ... (more hidden) ..."
     ]
    },
    {
     "name": "stdout",
     "output_type": "stream",
     "text": [
      "8321138 정읍제일고등학교\n",
      "급식 정보 조회 중: 날짜=20241030\n",
      "mealService 응답코드: 200\n",
      "mealServiceDietInfo 키 없음: {'RESULT': {'CODE': 'ERROR-300', 'MESSAGE': '필수 값이 누락되어 있습니다. 요청인자를 참고 하십시오.'}}\n",
      "[]\n",
      "8321145 정주고등학교\n",
      "급식 정보 조회 중: 날짜=20241030\n"
     ]
    },
    {
     "name": "stderr",
     "output_type": "stream",
     "text": [
      " ... (more hidden) ..."
     ]
    },
    {
     "name": "stdout",
     "output_type": "stream",
     "text": [
      "mealService 응답코드: 200\n",
      "mealServiceDietInfo 키 없음: {'RESULT': {'CODE': 'ERROR-300', 'MESSAGE': '필수 값이 누락되어 있습니다. 요청인자를 참고 하십시오.'}}\n",
      "[]\n",
      "8321204 줄포자동차공업고등학교\n",
      "급식 정보 조회 중: 날짜=20241030\n",
      "mealService 응답코드: 200\n",
      "mealServiceDietInfo 키 없음: {'RESULT': {'CODE': 'ERROR-300', 'MESSAGE': '필수 값이 누락되어 있습니다. 요청인자를 참고 하십시오.'}}\n",
      "[]\n"
     ]
    },
    {
     "name": "stderr",
     "output_type": "stream",
     "text": [
      " ... (more hidden) ..."
     ]
    },
    {
     "name": "stdout",
     "output_type": "stream",
     "text": [
      "8321167 지평선고등학교\n",
      "급식 정보 조회 중: 날짜=20241030\n",
      "mealService 응답코드: 200\n",
      "mealServiceDietInfo 키 없음: {'RESULT': {'CODE': 'ERROR-300', 'MESSAGE': '필수 값이 누락되어 있습니다. 요청인자를 참고 하십시오.'}}\n",
      "[]\n",
      "8321134 진경여자고등학교\n",
      "급식 정보 조회 중: 날짜=20241030\n",
      "mealService 응답코드: 200\n",
      "mealServiceDietInfo 키 없음: {'RESULT': {'CODE': 'ERROR-300', 'MESSAGE': '필수 값이 누락되어 있습니다. 요청인자를 참고 하십시오.'}}\n",
      "[]\n"
     ]
    },
    {
     "name": "stderr",
     "output_type": "stream",
     "text": [
      " ... (more hidden) ..."
     ]
    },
    {
     "name": "stdout",
     "output_type": "stream",
     "text": [
      "8321177 진안제일고등학교\n",
      "급식 정보 조회 중: 날짜=20241030\n",
      "mealService 응답코드: 200\n",
      "mealServiceDietInfo 키 없음: {'RESULT': {'CODE': 'ERROR-300', 'MESSAGE': '필수 값이 누락되어 있습니다. 요청인자를 참고 하십시오.'}}\n",
      "[]\n",
      "8321139 칠보고등학교\n",
      "급식 정보 조회 중: 날짜=20241030\n"
     ]
    },
    {
     "name": "stderr",
     "output_type": "stream",
     "text": [
      " ... (more hidden) ..."
     ]
    },
    {
     "name": "stdout",
     "output_type": "stream",
     "text": [
      "mealService 응답코드: 200\n",
      "mealServiceDietInfo 키 없음: {'RESULT': {'CODE': 'ERROR-300', 'MESSAGE': '필수 값이 누락되어 있습니다. 요청인자를 참고 하십시오.'}}\n",
      "[]\n",
      "8321146 태인고등학교\n",
      "급식 정보 조회 중: 날짜=20241030\n",
      "mealService 응답코드: 200\n",
      "mealServiceDietInfo 키 없음: {'RESULT': {'CODE': 'ERROR-300', 'MESSAGE': '필수 값이 누락되어 있습니다. 요청인자를 참고 하십시오.'}}\n",
      "[]\n"
     ]
    },
    {
     "name": "stderr",
     "output_type": "stream",
     "text": [
      " ... (more hidden) ..."
     ]
    },
    {
     "name": "stdout",
     "output_type": "stream",
     "text": [
      "8321185 푸른꿈고등학교\n",
      "급식 정보 조회 중: 날짜=20241030\n",
      "mealService 응답코드: 200\n",
      "mealServiceDietInfo 키 없음: {'RESULT': {'CODE': 'ERROR-300', 'MESSAGE': '필수 값이 누락되어 있습니다. 요청인자를 참고 하십시오.'}}\n",
      "[]\n",
      "8321175 한국게임과학고등학교\n",
      "급식 정보 조회 중: 날짜=20241030\n"
     ]
    },
    {
     "name": "stderr",
     "output_type": "stream",
     "text": [
      " ... (more hidden) ..."
     ]
    },
    {
     "name": "stdout",
     "output_type": "stream",
     "text": [
      "mealService 응답코드: 200\n",
      "mealServiceDietInfo 키 없음: {'RESULT': {'CODE': 'ERROR-300', 'MESSAGE': '필수 값이 누락되어 있습니다. 요청인자를 참고 하십시오.'}}\n",
      "[]\n",
      "8321153 한국경마축산고등학교\n",
      "급식 정보 조회 중: 날짜=20241030\n",
      "mealService 응답코드: 200\n",
      "mealServiceDietInfo 키 없음: {'RESULT': {'CODE': 'ERROR-300', 'MESSAGE': '필수 값이 누락되어 있습니다. 요청인자를 참고 하십시오.'}}\n",
      "[]\n"
     ]
    },
    {
     "name": "stderr",
     "output_type": "stream",
     "text": [
      " ... (more hidden) ..."
     ]
    },
    {
     "name": "stdout",
     "output_type": "stream",
     "text": [
      "8321233 한국기술부사관고등학교\n",
      "급식 정보 조회 중: 날짜=20241030\n",
      "mealService 응답코드: 200\n",
      "mealServiceDietInfo 키 없음: {'RESULT': {'CODE': 'ERROR-300', 'MESSAGE': '필수 값이 누락되어 있습니다. 요청인자를 참고 하십시오.'}}\n",
      "[]\n"
     ]
    },
    {
     "name": "stderr",
     "output_type": "stream",
     "text": [
      " ... (more hidden) ..."
     ]
    },
    {
     "name": "stdout",
     "output_type": "stream",
     "text": [
      "8321190 한국마사고등학교\n",
      "급식 정보 조회 중: 날짜=20241030\n",
      "mealService 응답코드: 200\n",
      "mealServiceDietInfo 키 없음: {'RESULT': {'CODE': 'ERROR-300', 'MESSAGE': '필수 값이 누락되어 있습니다. 요청인자를 참고 하십시오.'}}\n",
      "[]\n",
      "8321084 한국전통문화고등학교\n",
      "급식 정보 조회 중: 날짜=20241030\n"
     ]
    },
    {
     "name": "stderr",
     "output_type": "stream",
     "text": [
      " ... (more hidden) ..."
     ]
    },
    {
     "name": "stdout",
     "output_type": "stream",
     "text": [
      "mealService 응답코드: 200\n",
      "mealServiceDietInfo 키 없음: {'RESULT': {'CODE': 'ERROR-300', 'MESSAGE': '필수 값이 누락되어 있습니다. 요청인자를 참고 하십시오.'}}\n",
      "[]\n",
      "8321193 한국치즈과학고등학교\n",
      "급식 정보 조회 중: 날짜=20241030\n",
      "mealService 응답코드: 200\n",
      "mealServiceDietInfo 키 없음: {'RESULT': {'CODE': 'ERROR-300', 'MESSAGE': '필수 값이 누락되어 있습니다. 요청인자를 참고 하십시오.'}}\n",
      "[]\n"
     ]
    },
    {
     "name": "stderr",
     "output_type": "stream",
     "text": [
      " ... (more hidden) ..."
     ]
    },
    {
     "name": "stdout",
     "output_type": "stream",
     "text": [
      "8321180 한국한방고등학교\n",
      "급식 정보 조회 중: 날짜=20241030\n",
      "mealService 응답코드: 200\n",
      "mealServiceDietInfo 키 없음: {'RESULT': {'CODE': 'ERROR-300', 'MESSAGE': '필수 값이 누락되어 있습니다. 요청인자를 참고 하십시오.'}}\n",
      "[]\n",
      "8321113 한들고등학교\n",
      "급식 정보 조회 중: 날짜=20241030\n"
     ]
    },
    {
     "name": "stderr",
     "output_type": "stream",
     "text": [
      " ... (more hidden) ..."
     ]
    },
    {
     "name": "stdout",
     "output_type": "stream",
     "text": [
      "mealService 응답코드: 200\n",
      "mealServiceDietInfo 키 없음: {'RESULT': {'CODE': 'ERROR-300', 'MESSAGE': '필수 값이 누락되어 있습니다. 요청인자를 참고 하십시오.'}}\n",
      "[]\n",
      "8321169 한별고등학교\n",
      "급식 정보 조회 중: 날짜=20241030\n",
      "mealService 응답코드: 200\n",
      "mealServiceDietInfo 키 없음: {'RESULT': {'CODE': 'ERROR-300', 'MESSAGE': '필수 값이 누락되어 있습니다. 요청인자를 참고 하십시오.'}}\n",
      "[]\n"
     ]
    },
    {
     "name": "stderr",
     "output_type": "stream",
     "text": [
      " ... (more hidden) ..."
     ]
    },
    {
     "name": "stdout",
     "output_type": "stream",
     "text": [
      "8321123 함열고등학교\n",
      "급식 정보 조회 중: 날짜=20241030\n",
      "mealService 응답코드: 200\n",
      "mealServiceDietInfo 키 없음: {'RESULT': {'CODE': 'ERROR-300', 'MESSAGE': '필수 값이 누락되어 있습니다. 요청인자를 참고 하십시오.'}}\n",
      "[]\n",
      "8321135 함열여자고등학교\n",
      "급식 정보 조회 중: 날짜=20241030\n"
     ]
    },
    {
     "name": "stderr",
     "output_type": "stream",
     "text": [
      " ... (more hidden) ..."
     ]
    },
    {
     "name": "stdout",
     "output_type": "stream",
     "text": [
      "mealService 응답코드: 200\n",
      "mealServiceDietInfo 키 없음: {'RESULT': {'CODE': 'ERROR-300', 'MESSAGE': '필수 값이 누락되어 있습니다. 요청인자를 참고 하십시오.'}}\n",
      "[]\n",
      "8321198 해리고등학교\n",
      "급식 정보 조회 중: 날짜=20241030\n",
      "mealService 응답코드: 200\n",
      "mealServiceDietInfo 키 없음: {'RESULT': {'CODE': 'ERROR-300', 'MESSAGE': '필수 값이 누락되어 있습니다. 요청인자를 참고 하십시오.'}}\n",
      "[]\n"
     ]
    },
    {
     "name": "stderr",
     "output_type": "stream",
     "text": [
      " ... (more hidden) ..."
     ]
    },
    {
     "name": "stdout",
     "output_type": "stream",
     "text": [
      "8321148 호남고등학교\n",
      "급식 정보 조회 중: 날짜=20241030\n",
      "mealService 응답코드: 200\n",
      "mealServiceDietInfo 키 없음: {'RESULT': {'CODE': 'ERROR-300', 'MESSAGE': '필수 값이 누락되어 있습니다. 요청인자를 참고 하십시오.'}}\n",
      "[]\n",
      "8321106 호남제일고등학교\n",
      "급식 정보 조회 중: 날짜=20241030\n"
     ]
    },
    {
     "name": "stderr",
     "output_type": "stream",
     "text": [
      " ... (more hidden) ...\n"
     ]
    },
    {
     "name": "stdout",
     "output_type": "stream",
     "text": [
      "mealService 응답코드: 200\n",
      "mealServiceDietInfo 키 없음: {'RESULT': {'CODE': 'ERROR-300', 'MESSAGE': '필수 값이 누락되어 있습니다. 요청인자를 참고 하십시오.'}}\n",
      "[]\n",
      "응답코드 : 200\n"
     ]
    },
    {
     "name": "stderr",
     "output_type": "stream",
     "text": [
      " ... (more hidden) ..."
     ]
    },
    {
     "name": "stdout",
     "output_type": "stream",
     "text": [
      "8490032 강진고등학교\n",
      "급식 정보 조회 중: 날짜=20241030\n",
      "mealService 응답코드: 200\n",
      "mealServiceDietInfo 키 없음: {'RESULT': {'CODE': 'ERROR-300', 'MESSAGE': '필수 값이 누락되어 있습니다. 요청인자를 참고 하십시오.'}}\n",
      "[]\n",
      "8490245 고금고등학교\n",
      "급식 정보 조회 중: 날짜=20241030\n",
      "mealService 응답코드: 200\n",
      "mealServiceDietInfo 키 없음: {'RESULT': {'CODE': 'ERROR-300', 'MESSAGE': '필수 값이 누락되어 있습니다. 요청인자를 참고 하십시오.'}}\n",
      "[]\n"
     ]
    },
    {
     "name": "stderr",
     "output_type": "stream",
     "text": [
      " ... (more hidden) ..."
     ]
    },
    {
     "name": "stdout",
     "output_type": "stream",
     "text": [
      "8490033 고흥고등학교\n",
      "급식 정보 조회 중: 날짜=20241030\n",
      "mealService 응답코드: 200\n",
      "mealServiceDietInfo 키 없음: {'RESULT': {'CODE': 'ERROR-300', 'MESSAGE': '필수 값이 누락되어 있습니다. 요청인자를 참고 하십시오.'}}\n",
      "[]\n",
      "8490222 고흥도화고등학교\n",
      "급식 정보 조회 중: 날짜=20241030\n"
     ]
    },
    {
     "name": "stderr",
     "output_type": "stream",
     "text": [
      " ... (more hidden) ..."
     ]
    },
    {
     "name": "stdout",
     "output_type": "stream",
     "text": [
      "mealService 응답코드: 200\n",
      "mealServiceDietInfo 키 없음: {'RESULT': {'CODE': 'ERROR-300', 'MESSAGE': '필수 값이 누락되어 있습니다. 요청인자를 참고 하십시오.'}}\n",
      "[]\n",
      "8490323 고흥산업과학고등학교\n",
      "급식 정보 조회 중: 날짜=20241030\n",
      "mealService 응답코드: 200\n",
      "mealServiceDietInfo 키 없음: {'RESULT': {'CODE': 'ERROR-300', 'MESSAGE': '필수 값이 누락되어 있습니다. 요청인자를 참고 하십시오.'}}\n",
      "[]\n"
     ]
    },
    {
     "name": "stderr",
     "output_type": "stream",
     "text": [
      " ... (more hidden) ..."
     ]
    },
    {
     "name": "stdout",
     "output_type": "stream",
     "text": [
      "8490035 곡성고등학교\n",
      "급식 정보 조회 중: 날짜=20241030\n",
      "mealService 응답코드: 200\n",
      "mealServiceDietInfo 키 없음: {'RESULT': {'CODE': 'ERROR-300', 'MESSAGE': '필수 값이 누락되어 있습니다. 요청인자를 참고 하십시오.'}}\n",
      "[]\n",
      "8490077 광남고등학교\n",
      "급식 정보 조회 중: 날짜=20241030\n",
      "mealService 응답코드: 200\n",
      "mealServiceDietInfo 키 없음: {'RESULT': {'CODE': 'ERROR-300', 'MESSAGE': '필수 값이 누락되어 있습니다. 요청인자를 참고 하십시오.'}}\n",
      "[]\n"
     ]
    },
    {
     "name": "stderr",
     "output_type": "stream",
     "text": [
      " ... (more hidden) ..."
     ]
    },
    {
     "name": "stdout",
     "output_type": "stream",
     "text": [
      "8490037 광양고등학교\n",
      "급식 정보 조회 중: 날짜=20241030\n",
      "mealService 응답코드: 200\n",
      "mealServiceDietInfo 키 없음: {'RESULT': {'CODE': 'ERROR-300', 'MESSAGE': '필수 값이 누락되어 있습니다. 요청인자를 참고 하십시오.'}}\n",
      "[]\n",
      "8490243 광양백운고등학교\n",
      "급식 정보 조회 중: 날짜=20241030\n"
     ]
    },
    {
     "name": "stderr",
     "output_type": "stream",
     "text": [
      " ... (more hidden) ..."
     ]
    },
    {
     "name": "stdout",
     "output_type": "stream",
     "text": [
      "mealService 응답코드: 200\n",
      "mealServiceDietInfo 키 없음: {'RESULT': {'CODE': 'ERROR-300', 'MESSAGE': '필수 값이 누락되어 있습니다. 요청인자를 참고 하십시오.'}}\n",
      "[]\n",
      "8490038 광양여자고등학교\n",
      "급식 정보 조회 중: 날짜=20241030\n",
      "mealService 응답코드: 200\n",
      "mealServiceDietInfo 키 없음: {'RESULT': {'CODE': 'ERROR-300', 'MESSAGE': '필수 값이 누락되어 있습니다. 요청인자를 참고 하십시오.'}}\n",
      "[]\n"
     ]
    },
    {
     "name": "stderr",
     "output_type": "stream",
     "text": [
      " ... (more hidden) ..."
     ]
    },
    {
     "name": "stdout",
     "output_type": "stream",
     "text": [
      "8490078 광양제철고등학교\n",
      "급식 정보 조회 중: 날짜=20241030\n",
      "mealService 응답코드: 200\n",
      "mealServiceDietInfo 키 없음: {'RESULT': {'CODE': 'ERROR-300', 'MESSAGE': '필수 값이 누락되어 있습니다. 요청인자를 참고 하십시오.'}}\n",
      "[]\n",
      "8490433 광양하이텍고등학교\n",
      "급식 정보 조회 중: 날짜=20241030\n"
     ]
    },
    {
     "name": "stderr",
     "output_type": "stream",
     "text": [
      " ... (more hidden) ..."
     ]
    },
    {
     "name": "stdout",
     "output_type": "stream",
     "text": [
      "mealService 응답코드: 200\n",
      "mealServiceDietInfo 키 없음: {'RESULT': {'CODE': 'ERROR-300', 'MESSAGE': '필수 값이 누락되어 있습니다. 요청인자를 참고 하십시오.'}}\n",
      "[]\n",
      "8490299 광영고등학교\n",
      "급식 정보 조회 중: 날짜=20241030\n",
      "mealService 응답코드: 200\n",
      "mealServiceDietInfo 키 없음: {'RESULT': {'CODE': 'ERROR-300', 'MESSAGE': '필수 값이 누락되어 있습니다. 요청인자를 참고 하십시오.'}}\n",
      "[]\n"
     ]
    },
    {
     "name": "stderr",
     "output_type": "stream",
     "text": [
      " ... (more hidden) ..."
     ]
    },
    {
     "name": "stdout",
     "output_type": "stream",
     "text": [
      "8490039 구례고등학교\n",
      "급식 정보 조회 중: 날짜=20241030\n",
      "mealService 응답코드: 200\n",
      "mealServiceDietInfo 키 없음: {'RESULT': {'CODE': 'ERROR-300', 'MESSAGE': '필수 값이 누락되어 있습니다. 요청인자를 참고 하십시오.'}}\n",
      "[]\n",
      "8490120 구림공업고등학교\n",
      "급식 정보 조회 중: 날짜=20241030\n"
     ]
    },
    {
     "name": "stderr",
     "output_type": "stream",
     "text": [
      " ... (more hidden) ..."
     ]
    },
    {
     "name": "stdout",
     "output_type": "stream",
     "text": [
      "mealService 응답코드: 200\n",
      "mealServiceDietInfo 키 없음: {'RESULT': {'CODE': 'ERROR-300', 'MESSAGE': '필수 값이 누락되어 있습니다. 요청인자를 참고 하십시오.'}}\n",
      "[]\n",
      "8490079 금성고등학교\n",
      "급식 정보 조회 중: 날짜=20241030\n",
      "mealService 응답코드: 200\n",
      "mealServiceDietInfo 키 없음: {'RESULT': {'CODE': 'ERROR-300', 'MESSAGE': '필수 값이 누락되어 있습니다. 요청인자를 참고 하십시오.'}}\n",
      "[]\n"
     ]
    },
    {
     "name": "stderr",
     "output_type": "stream",
     "text": [
      " ... (more hidden) ..."
     ]
    },
    {
     "name": "stdout",
     "output_type": "stream",
     "text": [
      "8490040 나주고등학교\n",
      "급식 정보 조회 중: 날짜=20241030\n",
      "mealService 응답코드: 200\n",
      "mealServiceDietInfo 키 없음: {'RESULT': {'CODE': 'ERROR-300', 'MESSAGE': '필수 값이 누락되어 있습니다. 요청인자를 참고 하십시오.'}}\n",
      "[]\n",
      "8490169 나주공업고등학교\n",
      "급식 정보 조회 중: 날짜=20241030\n",
      "mealService 응답코드: 200\n",
      "mealServiceDietInfo 키 없음: {'RESULT': {'CODE': 'ERROR-300', 'MESSAGE': '필수 값이 누락되어 있습니다. 요청인자를 참고 하십시오.'}}\n",
      "[]\n"
     ]
    },
    {
     "name": "stderr",
     "output_type": "stream",
     "text": [
      " ... (more hidden) ..."
     ]
    },
    {
     "name": "stdout",
     "output_type": "stream",
     "text": [
      "8490373 나주상업고등학교\n",
      "급식 정보 조회 중: 날짜=20241030\n",
      "mealService 응답코드: 200\n",
      "mealServiceDietInfo 키 없음: {'RESULT': {'CODE': 'ERROR-300', 'MESSAGE': '필수 값이 누락되어 있습니다. 요청인자를 참고 하십시오.'}}\n",
      "[]\n",
      "8490301 남악고등학교\n",
      "급식 정보 조회 중: 날짜=20241030\n"
     ]
    },
    {
     "name": "stderr",
     "output_type": "stream",
     "text": [
      " ... (more hidden) ..."
     ]
    },
    {
     "name": "stdout",
     "output_type": "stream",
     "text": [
      "mealService 응답코드: 200\n",
      "mealServiceDietInfo 키 없음: {'RESULT': {'CODE': 'ERROR-300', 'MESSAGE': '필수 값이 누락되어 있습니다. 요청인자를 참고 하십시오.'}}\n",
      "[]\n",
      "8490289 노화고등학교\n",
      "급식 정보 조회 중: 날짜=20241030\n",
      "mealService 응답코드: 200\n",
      "mealServiceDietInfo 키 없음: {'RESULT': {'CODE': 'ERROR-300', 'MESSAGE': '필수 값이 누락되어 있습니다. 요청인자를 참고 하십시오.'}}\n",
      "[]\n"
     ]
    },
    {
     "name": "stderr",
     "output_type": "stream",
     "text": [
      " ... (more hidden) ..."
     ]
    },
    {
     "name": "stdout",
     "output_type": "stream",
     "text": [
      "8490270 녹동고등학교\n",
      "급식 정보 조회 중: 날짜=20241030\n",
      "mealService 응답코드: 200\n",
      "mealServiceDietInfo 키 없음: {'RESULT': {'CODE': 'ERROR-300', 'MESSAGE': '필수 값이 누락되어 있습니다. 요청인자를 참고 하십시오.'}}\n",
      "[]\n",
      "8490081 능주고등학교\n",
      "급식 정보 조회 중: 날짜=20241030\n"
     ]
    },
    {
     "name": "stderr",
     "output_type": "stream",
     "text": [
      " ... (more hidden) ..."
     ]
    },
    {
     "name": "stdout",
     "output_type": "stream",
     "text": [
      "mealService 응답코드: 200\n",
      "mealServiceDietInfo 키 없음: {'RESULT': {'CODE': 'ERROR-300', 'MESSAGE': '필수 값이 누락되어 있습니다. 요청인자를 참고 하십시오.'}}\n",
      "[]\n",
      "8490375 다향고등학교\n",
      "급식 정보 조회 중: 날짜=20241030\n",
      "mealService 응답코드: 200\n",
      "mealServiceDietInfo 키 없음: {'RESULT': {'CODE': 'ERROR-300', 'MESSAGE': '필수 값이 누락되어 있습니다. 요청인자를 참고 하십시오.'}}\n",
      "[]\n"
     ]
    },
    {
     "name": "stderr",
     "output_type": "stream",
     "text": [
      " ... (more hidden) ..."
     ]
    },
    {
     "name": "stdout",
     "output_type": "stream",
     "text": [
      "8490209 담양고등학교\n",
      "급식 정보 조회 중: 날짜=20241030\n",
      "mealService 응답코드: 200\n",
      "mealServiceDietInfo 키 없음: {'RESULT': {'CODE': 'ERROR-300', 'MESSAGE': '필수 값이 누락되어 있습니다. 요청인자를 참고 하십시오.'}}\n",
      "[]\n",
      "8490124 담양공업고등학교\n",
      "급식 정보 조회 중: 날짜=20241030\n"
     ]
    },
    {
     "name": "stderr",
     "output_type": "stream",
     "text": [
      " ... (more hidden) ..."
     ]
    },
    {
     "name": "stdout",
     "output_type": "stream",
     "text": [
      "mealService 응답코드: 200\n",
      "mealServiceDietInfo 키 없음: {'RESULT': {'CODE': 'ERROR-300', 'MESSAGE': '필수 값이 누락되어 있습니다. 요청인자를 참고 하십시오.'}}\n",
      "[]\n",
      "8490041 도초고등학교\n",
      "급식 정보 조회 중: 날짜=20241030\n",
      "mealService 응답코드: 200\n",
      "mealServiceDietInfo 키 없음: {'RESULT': {'CODE': 'ERROR-300', 'MESSAGE': '필수 값이 누락되어 있습니다. 요청인자를 참고 하십시오.'}}\n",
      "[]\n"
     ]
    },
    {
     "name": "stderr",
     "output_type": "stream",
     "text": [
      " ... (more hidden) ..."
     ]
    },
    {
     "name": "stdout",
     "output_type": "stream",
     "text": [
      "8490320 매성고등학교\n",
      "급식 정보 조회 중: 날짜=20241030\n",
      "mealService 응답코드: 200\n",
      "mealServiceDietInfo 키 없음: {'RESULT': {'CODE': 'ERROR-300', 'MESSAGE': '필수 값이 누락되어 있습니다. 요청인자를 참고 하십시오.'}}\n",
      "[]\n",
      "8490425 목상고등학교\n",
      "급식 정보 조회 중: 날짜=20241030\n"
     ]
    },
    {
     "name": "stderr",
     "output_type": "stream",
     "text": [
      " ... (more hidden) ..."
     ]
    },
    {
     "name": "stdout",
     "output_type": "stream",
     "text": [
      "mealService 응답코드: 200\n",
      "mealServiceDietInfo 키 없음: {'RESULT': {'CODE': 'ERROR-300', 'MESSAGE': '필수 값이 누락되어 있습니다. 요청인자를 참고 하십시오.'}}\n",
      "[]\n",
      "8490043 목포고등학교\n",
      "급식 정보 조회 중: 날짜=20241030\n",
      "mealService 응답코드: 200\n",
      "mealServiceDietInfo 키 없음: {'RESULT': {'CODE': 'ERROR-300', 'MESSAGE': '필수 값이 누락되어 있습니다. 요청인자를 참고 하십시오.'}}\n",
      "[]\n"
     ]
    },
    {
     "name": "stderr",
     "output_type": "stream",
     "text": [
      " ... (more hidden) ..."
     ]
    },
    {
     "name": "stdout",
     "output_type": "stream",
     "text": [
      "8490287 목포공업고등학교\n",
      "급식 정보 조회 중: 날짜=20241030\n",
      "mealService 응답코드: 200\n",
      "mealServiceDietInfo 키 없음: {'RESULT': {'CODE': 'ERROR-300', 'MESSAGE': '필수 값이 누락되어 있습니다. 요청인자를 참고 하십시오.'}}\n",
      "[]\n",
      "8490082 목포덕인고등학교\n",
      "급식 정보 조회 중: 날짜=20241030\n"
     ]
    },
    {
     "name": "stderr",
     "output_type": "stream",
     "text": [
      " ... (more hidden) ..."
     ]
    },
    {
     "name": "stdout",
     "output_type": "stream",
     "text": [
      "mealService 응답코드: 200\n",
      "mealServiceDietInfo 키 없음: {'RESULT': {'CODE': 'ERROR-300', 'MESSAGE': '필수 값이 누락되어 있습니다. 요청인자를 참고 하십시오.'}}\n",
      "[]\n",
      "8490083 목포마리아회고등학교\n",
      "급식 정보 조회 중: 날짜=20241030\n",
      "mealService 응답코드: 200\n",
      "mealServiceDietInfo 키 없음: {'RESULT': {'CODE': 'ERROR-300', 'MESSAGE': '필수 값이 누락되어 있습니다. 요청인자를 참고 하십시오.'}}\n",
      "[]\n"
     ]
    },
    {
     "name": "stderr",
     "output_type": "stream",
     "text": [
      " ... (more hidden) ..."
     ]
    },
    {
     "name": "stdout",
     "output_type": "stream",
     "text": [
      "8490236 목포성신고등학교\n",
      "급식 정보 조회 중: 날짜=20241030\n",
      "mealService 응답코드: 200\n",
      "mealServiceDietInfo 키 없음: {'RESULT': {'CODE': 'ERROR-300', 'MESSAGE': '필수 값이 누락되어 있습니다. 요청인자를 참고 하십시오.'}}\n",
      "[]\n",
      "8490044 목포여자고등학교\n",
      "급식 정보 조회 중: 날짜=20241030\n",
      "mealService 응답코드: 200\n",
      "mealServiceDietInfo 키 없음: {'RESULT': {'CODE': 'ERROR-300', 'MESSAGE': '필수 값이 누락되어 있습니다. 요청인자를 참고 하십시오.'}}\n",
      "[]\n"
     ]
    },
    {
     "name": "stderr",
     "output_type": "stream",
     "text": [
      " ... (more hidden) ..."
     ]
    },
    {
     "name": "stdout",
     "output_type": "stream",
     "text": [
      "8490171 목포여자상업고등학교\n",
      "급식 정보 조회 중: 날짜=20241030\n",
      "mealService 응답코드: 200\n",
      "mealServiceDietInfo 키 없음: {'RESULT': {'CODE': 'ERROR-300', 'MESSAGE': '필수 값이 누락되어 있습니다. 요청인자를 참고 하십시오.'}}\n",
      "[]\n",
      "8490085 목포정명여자고등학교\n",
      "급식 정보 조회 중: 날짜=20241030\n"
     ]
    },
    {
     "name": "stderr",
     "output_type": "stream",
     "text": [
      " ... (more hidden) ..."
     ]
    },
    {
     "name": "stdout",
     "output_type": "stream",
     "text": [
      "mealService 응답코드: 200\n",
      "mealServiceDietInfo 키 없음: {'RESULT': {'CODE': 'ERROR-300', 'MESSAGE': '필수 값이 누락되어 있습니다. 요청인자를 참고 하십시오.'}}\n",
      "[]\n",
      "8490045 목포제일여자고등학교\n",
      "급식 정보 조회 중: 날짜=20241030\n",
      "mealService 응답코드: 200\n",
      "mealServiceDietInfo 키 없음: {'RESULT': {'CODE': 'ERROR-300', 'MESSAGE': '필수 값이 누락되어 있습니다. 요청인자를 참고 하십시오.'}}\n",
      "[]\n"
     ]
    },
    {
     "name": "stderr",
     "output_type": "stream",
     "text": [
      " ... (more hidden) ..."
     ]
    },
    {
     "name": "stdout",
     "output_type": "stream",
     "text": [
      "8490273 목포중앙고등학교\n",
      "급식 정보 조회 중: 날짜=20241030\n",
      "mealService 응답코드: 200\n",
      "mealServiceDietInfo 키 없음: {'RESULT': {'CODE': 'ERROR-300', 'MESSAGE': '필수 값이 누락되어 있습니다. 요청인자를 참고 하십시오.'}}\n",
      "[]\n",
      "8490086 목포혜인여자고등학교\n",
      "급식 정보 조회 중: 날짜=20241030\n",
      "mealService 응답코드: 200\n",
      "mealServiceDietInfo 키 없음: {'RESULT': {'CODE': 'ERROR-300', 'MESSAGE': '필수 값이 누락되어 있습니다. 요청인자를 참고 하십시오.'}}\n",
      "[]\n"
     ]
    },
    {
     "name": "stderr",
     "output_type": "stream",
     "text": [
      " ... (more hidden) ..."
     ]
    },
    {
     "name": "stdout",
     "output_type": "stream",
     "text": [
      "8490087 목포홍일고등학교\n",
      "급식 정보 조회 중: 날짜=20241030\n",
      "mealService 응답코드: 200\n",
      "mealServiceDietInfo 키 없음: {'RESULT': {'CODE': 'ERROR-300', 'MESSAGE': '필수 값이 누락되어 있습니다. 요청인자를 참고 하십시오.'}}\n",
      "[]\n",
      "8490223 무안고등학교\n",
      "급식 정보 조회 중: 날짜=20241030\n"
     ]
    },
    {
     "name": "stderr",
     "output_type": "stream",
     "text": [
      " ... (more hidden) ..."
     ]
    },
    {
     "name": "stdout",
     "output_type": "stream",
     "text": [
      "mealService 응답코드: 200\n",
      "mealServiceDietInfo 키 없음: {'RESULT': {'CODE': 'ERROR-300', 'MESSAGE': '필수 값이 누락되어 있습니다. 요청인자를 참고 하십시오.'}}\n",
      "[]\n",
      "8490088 문태고등학교\n",
      "급식 정보 조회 중: 날짜=20241030\n",
      "mealService 응답코드: 200\n",
      "mealServiceDietInfo 키 없음: {'RESULT': {'CODE': 'ERROR-300', 'MESSAGE': '필수 값이 누락되어 있습니다. 요청인자를 참고 하십시오.'}}\n",
      "[]\n"
     ]
    },
    {
     "name": "stderr",
     "output_type": "stream",
     "text": [
      " ... (more hidden) ..."
     ]
    },
    {
     "name": "stdout",
     "output_type": "stream",
     "text": [
      "8490288 문향고등학교\n",
      "급식 정보 조회 중: 날짜=20241030\n",
      "mealService 응답코드: 200\n",
      "mealServiceDietInfo 키 없음: {'RESULT': {'CODE': 'ERROR-300', 'MESSAGE': '필수 값이 누락되어 있습니다. 요청인자를 참고 하십시오.'}}\n",
      "[]\n",
      "8490213 백제고등학교\n",
      "급식 정보 조회 중: 날짜=20241030\n"
     ]
    },
    {
     "name": "stderr",
     "output_type": "stream",
     "text": [
      " ... (more hidden) ..."
     ]
    },
    {
     "name": "stdout",
     "output_type": "stream",
     "text": [
      "mealService 응답코드: 200\n",
      "mealServiceDietInfo 키 없음: {'RESULT': {'CODE': 'ERROR-300', 'MESSAGE': '필수 값이 누락되어 있습니다. 요청인자를 참고 하십시오.'}}\n",
      "[]\n",
      "8490089 벌교고등학교\n",
      "급식 정보 조회 중: 날짜=20241030\n",
      "mealService 응답코드: 200\n",
      "mealServiceDietInfo 키 없음: {'RESULT': {'CODE': 'ERROR-300', 'MESSAGE': '필수 값이 누락되어 있습니다. 요청인자를 참고 하십시오.'}}\n",
      "[]\n"
     ]
    },
    {
     "name": "stderr",
     "output_type": "stream",
     "text": [
      " ... (more hidden) ..."
     ]
    },
    {
     "name": "stdout",
     "output_type": "stream",
     "text": [
      "8490413 벌교상업고등학교\n",
      "급식 정보 조회 중: 날짜=20241030\n",
      "mealService 응답코드: 200\n",
      "mealServiceDietInfo 키 없음: {'RESULT': {'CODE': 'ERROR-300', 'MESSAGE': '필수 값이 누락되어 있습니다. 요청인자를 참고 하십시오.'}}\n",
      "[]\n",
      "8490090 벌교여자고등학교\n",
      "급식 정보 조회 중: 날짜=20241030\n"
     ]
    },
    {
     "name": "stderr",
     "output_type": "stream",
     "text": [
      " ... (more hidden) ..."
     ]
    },
    {
     "name": "stdout",
     "output_type": "stream",
     "text": [
      "mealService 응답코드: 200\n",
      "mealServiceDietInfo 키 없음: {'RESULT': {'CODE': 'ERROR-300', 'MESSAGE': '필수 값이 누락되어 있습니다. 요청인자를 참고 하십시오.'}}\n",
      "[]\n",
      "8490272 법성고등학교\n",
      "급식 정보 조회 중: 날짜=20241030\n",
      "mealService 응답코드: 200\n",
      "mealServiceDietInfo 키 없음: {'RESULT': {'CODE': 'ERROR-300', 'MESSAGE': '필수 값이 누락되어 있습니다. 요청인자를 참고 하십시오.'}}\n",
      "[]\n"
     ]
    },
    {
     "name": "stderr",
     "output_type": "stream",
     "text": [
      " ... (more hidden) ..."
     ]
    },
    {
     "name": "stdout",
     "output_type": "stream",
     "text": [
      "8490429 병영상업고등학교\n",
      "급식 정보 조회 중: 날짜=20241030\n",
      "mealService 응답코드: 200\n",
      "mealServiceDietInfo 키 없음: {'RESULT': {'CODE': 'ERROR-300', 'MESSAGE': '필수 값이 누락되어 있습니다. 요청인자를 참고 하십시오.'}}\n",
      "[]\n",
      "8490047 보성고등학교\n",
      "급식 정보 조회 중: 날짜=20241030\n"
     ]
    },
    {
     "name": "stderr",
     "output_type": "stream",
     "text": [
      " ... (more hidden) ..."
     ]
    },
    {
     "name": "stdout",
     "output_type": "stream",
     "text": [
      "mealService 응답코드: 200\n",
      "mealServiceDietInfo 키 없음: {'RESULT': {'CODE': 'ERROR-300', 'MESSAGE': '필수 값이 누락되어 있습니다. 요청인자를 참고 하십시오.'}}\n",
      "[]\n",
      "8490048 봉황고등학교\n",
      "급식 정보 조회 중: 날짜=20241030\n",
      "mealService 응답코드: 200\n",
      "mealServiceDietInfo 키 없음: {'RESULT': {'CODE': 'ERROR-300', 'MESSAGE': '필수 값이 누락되어 있습니다. 요청인자를 참고 하십시오.'}}\n",
      "[]\n"
     ]
    },
    {
     "name": "stderr",
     "output_type": "stream",
     "text": [
      " ... (more hidden) ..."
     ]
    },
    {
     "name": "stdout",
     "output_type": "stream",
     "text": [
      "8490049 부영여자고등학교\n",
      "급식 정보 조회 중: 날짜=20241030\n",
      "mealService 응답코드: 200\n",
      "mealServiceDietInfo 키 없음: {'RESULT': {'CODE': 'ERROR-300', 'MESSAGE': '필수 값이 누락되어 있습니다. 요청인자를 참고 하십시오.'}}\n",
      "[]\n",
      "8490576 삼계부사관고등학교\n",
      "급식 정보 조회 중: 날짜=20241030\n"
     ]
    },
    {
     "name": "stderr",
     "output_type": "stream",
     "text": [
      " ... (more hidden) ..."
     ]
    },
    {
     "name": "stdout",
     "output_type": "stream",
     "text": [
      "mealService 응답코드: 200\n",
      "mealServiceDietInfo 키 없음: {'RESULT': {'CODE': 'ERROR-300', 'MESSAGE': '필수 값이 누락되어 있습니다. 요청인자를 참고 하십시오.'}}\n",
      "[]\n",
      "8490340 삼호고등학교\n",
      "급식 정보 조회 중: 날짜=20241030\n",
      "mealService 응답코드: 200\n",
      "mealServiceDietInfo 키 없음: {'RESULT': {'CODE': 'ERROR-300', 'MESSAGE': '필수 값이 누락되어 있습니다. 요청인자를 참고 하십시오.'}}\n",
      "[]\n"
     ]
    },
    {
     "name": "stderr",
     "output_type": "stream",
     "text": [
      " ... (more hidden) ..."
     ]
    },
    {
     "name": "stdout",
     "output_type": "stream",
     "text": [
      "8490052 성전고등학교\n",
      "급식 정보 조회 중: 날짜=20241030\n",
      "mealService 응답코드: 200\n",
      "mealServiceDietInfo 키 없음: {'RESULT': {'CODE': 'ERROR-300', 'MESSAGE': '필수 값이 누락되어 있습니다. 요청인자를 참고 하십시오.'}}\n",
      "[]\n",
      "8490427 송지고등학교\n",
      "급식 정보 조회 중: 날짜=20241030\n"
     ]
    },
    {
     "name": "stderr",
     "output_type": "stream",
     "text": [
      " ... (more hidden) ..."
     ]
    },
    {
     "name": "stdout",
     "output_type": "stream",
     "text": [
      "mealService 응답코드: 200\n",
      "mealServiceDietInfo 키 없음: {'RESULT': {'CODE': 'ERROR-300', 'MESSAGE': '필수 값이 누락되어 있습니다. 요청인자를 참고 하십시오.'}}\n",
      "[]\n",
      "8490091 순천강남여자고등학교\n",
      "급식 정보 조회 중: 날짜=20241030\n",
      "mealService 응답코드: 200\n",
      "mealServiceDietInfo 키 없음: {'RESULT': {'CODE': 'ERROR-300', 'MESSAGE': '필수 값이 누락되어 있습니다. 요청인자를 참고 하십시오.'}}\n",
      "[]\n"
     ]
    },
    {
     "name": "stderr",
     "output_type": "stream",
     "text": [
      " ... (more hidden) ..."
     ]
    },
    {
     "name": "stdout",
     "output_type": "stream",
     "text": [
      "8490054 순천고등학교\n",
      "급식 정보 조회 중: 날짜=20241030\n",
      "mealService 응답코드: 200\n",
      "mealServiceDietInfo 키 없음: {'RESULT': {'CODE': 'ERROR-300', 'MESSAGE': '필수 값이 누락되어 있습니다. 요청인자를 참고 하십시오.'}}\n",
      "[]\n",
      "8490141 순천공업고등학교\n",
      "급식 정보 조회 중: 날짜=20241030\n"
     ]
    },
    {
     "name": "stderr",
     "output_type": "stream",
     "text": [
      " ... (more hidden) ..."
     ]
    },
    {
     "name": "stdout",
     "output_type": "stream",
     "text": [
      "mealService 응답코드: 200\n",
      "mealServiceDietInfo 키 없음: {'RESULT': {'CODE': 'ERROR-300', 'MESSAGE': '필수 값이 누락되어 있습니다. 요청인자를 참고 하십시오.'}}\n",
      "[]\n",
      "8490092 순천금당고등학교\n",
      "급식 정보 조회 중: 날짜=20241030\n",
      "mealService 응답코드: 200\n",
      "mealServiceDietInfo 키 없음: {'RESULT': {'CODE': 'ERROR-300', 'MESSAGE': '필수 값이 누락되어 있습니다. 요청인자를 참고 하십시오.'}}\n",
      "[]\n"
     ]
    },
    {
     "name": "stderr",
     "output_type": "stream",
     "text": [
      " ... (more hidden) ..."
     ]
    },
    {
     "name": "stdout",
     "output_type": "stream",
     "text": [
      "8490093 순천매산고등학교\n",
      "급식 정보 조회 중: 날짜=20241030\n",
      "mealService 응답코드: 200\n",
      "mealServiceDietInfo 키 없음: {'RESULT': {'CODE': 'ERROR-300', 'MESSAGE': '필수 값이 누락되어 있습니다. 요청인자를 참고 하십시오.'}}\n",
      "[]\n",
      "8490094 순천매산여자고등학교\n",
      "급식 정보 조회 중: 날짜=20241030\n",
      "mealService 응답코드: 200\n",
      "mealServiceDietInfo 키 없음: {'RESULT': {'CODE': 'ERROR-300', 'MESSAGE': '필수 값이 누락되어 있습니다. 요청인자를 참고 하십시오.'}}\n",
      "[]\n"
     ]
    },
    {
     "name": "stderr",
     "output_type": "stream",
     "text": [
      " ... (more hidden) ..."
     ]
    },
    {
     "name": "stdout",
     "output_type": "stream",
     "text": [
      "8490519 순천미래과학고등학교\n",
      "급식 정보 조회 중: 날짜=20241030\n",
      "mealService 응답코드: 200\n",
      "mealServiceDietInfo 키 없음: {'RESULT': {'CODE': 'ERROR-300', 'MESSAGE': '필수 값이 누락되어 있습니다. 요청인자를 참고 하십시오.'}}\n",
      "[]\n",
      "8490339 순천복성고등학교\n",
      "급식 정보 조회 중: 날짜=20241030\n"
     ]
    },
    {
     "name": "stderr",
     "output_type": "stream",
     "text": [
      " ... (more hidden) ..."
     ]
    },
    {
     "name": "stdout",
     "output_type": "stream",
     "text": [
      "mealService 응답코드: 200\n",
      "mealServiceDietInfo 키 없음: {'RESULT': {'CODE': 'ERROR-300', 'MESSAGE': '필수 값이 누락되어 있습니다. 요청인자를 참고 하십시오.'}}\n",
      "[]\n",
      "8490055 순천여자고등학교\n",
      "급식 정보 조회 중: 날짜=20241030\n",
      "mealService 응답코드: 200\n",
      "mealServiceDietInfo 키 없음: {'RESULT': {'CODE': 'ERROR-300', 'MESSAGE': '필수 값이 누락되어 있습니다. 요청인자를 참고 하십시오.'}}\n",
      "[]\n"
     ]
    },
    {
     "name": "stderr",
     "output_type": "stream",
     "text": [
      " ... (more hidden) ..."
     ]
    },
    {
     "name": "stdout",
     "output_type": "stream",
     "text": [
      "8490230 순천제일고등학교\n",
      "급식 정보 조회 중: 날짜=20241030\n",
      "mealService 응답코드: 200\n",
      "mealServiceDietInfo 키 없음: {'RESULT': {'CODE': 'ERROR-300', 'MESSAGE': '필수 값이 누락되어 있습니다. 요청인자를 참고 하십시오.'}}\n",
      "[]\n",
      "8490235 순천청암고등학교\n",
      "급식 정보 조회 중: 날짜=20241030\n"
     ]
    },
    {
     "name": "stderr",
     "output_type": "stream",
     "text": [
      " ... (more hidden) ..."
     ]
    },
    {
     "name": "stdout",
     "output_type": "stream",
     "text": [
      "mealService 응답코드: 200\n",
      "mealServiceDietInfo 키 없음: {'RESULT': {'CODE': 'ERROR-300', 'MESSAGE': '필수 값이 누락되어 있습니다. 요청인자를 참고 하십시오.'}}\n",
      "[]\n",
      "8490291 순천팔마고등학교\n",
      "급식 정보 조회 중: 날짜=20241030\n",
      "mealService 응답코드: 200\n",
      "mealServiceDietInfo 키 없음: {'RESULT': {'CODE': 'ERROR-300', 'MESSAGE': '필수 값이 누락되어 있습니다. 요청인자를 참고 하십시오.'}}\n",
      "[]\n"
     ]
    },
    {
     "name": "stderr",
     "output_type": "stream",
     "text": [
      " ... (more hidden) ..."
     ]
    },
    {
     "name": "stdout",
     "output_type": "stream",
     "text": [
      "8490214 순천효산고등학교\n",
      "급식 정보 조회 중: 날짜=20241030\n",
      "mealService 응답코드: 200\n",
      "mealServiceDietInfo 키 없음: {'RESULT': {'CODE': 'ERROR-300', 'MESSAGE': '필수 값이 누락되어 있습니다. 요청인자를 참고 하십시오.'}}\n",
      "[]\n",
      "8490095 순천효천고등학교\n",
      "급식 정보 조회 중: 날짜=20241030\n",
      "mealService 응답코드: 200\n",
      "mealServiceDietInfo 키 없음: {'RESULT': {'CODE': 'ERROR-300', 'MESSAGE': '필수 값이 누락되어 있습니다. 요청인자를 참고 하십시오.'}}\n",
      "[]\n"
     ]
    },
    {
     "name": "stderr",
     "output_type": "stream",
     "text": [
      " ... (more hidden) ..."
     ]
    },
    {
     "name": "stdout",
     "output_type": "stream",
     "text": [
      "8490417 신안해양과학고등학교\n",
      "급식 정보 조회 중: 날짜=20241030\n",
      "mealService 응답코드: 200\n",
      "mealServiceDietInfo 키 없음: {'RESULT': {'CODE': 'ERROR-300', 'MESSAGE': '필수 값이 누락되어 있습니다. 요청인자를 참고 하십시오.'}}\n",
      "[]\n",
      "8490416 안좌고등학교\n",
      "급식 정보 조회 중: 날짜=20241030\n"
     ]
    },
    {
     "name": "stderr",
     "output_type": "stream",
     "text": [
      " ... (more hidden) ..."
     ]
    },
    {
     "name": "stdout",
     "output_type": "stream",
     "text": [
      "mealService 응답코드: 200\n",
      "mealServiceDietInfo 키 없음: {'RESULT': {'CODE': 'ERROR-300', 'MESSAGE': '필수 값이 누락되어 있습니다. 요청인자를 참고 하십시오.'}}\n",
      "[]\n",
      "8490056 약산고등학교\n",
      "급식 정보 조회 중: 날짜=20241030\n",
      "mealService 응답코드: 200\n",
      "mealServiceDietInfo 키 없음: {'RESULT': {'CODE': 'ERROR-300', 'MESSAGE': '필수 값이 누락되어 있습니다. 요청인자를 참고 하십시오.'}}\n",
      "[]\n"
     ]
    },
    {
     "name": "stderr",
     "output_type": "stream",
     "text": [
      " ... (more hidden) ..."
     ]
    },
    {
     "name": "stdout",
     "output_type": "stream",
     "text": [
      "8490057 여남고등학교\n",
      "급식 정보 조회 중: 날짜=20241030\n",
      "mealService 응답코드: 200\n",
      "mealServiceDietInfo 키 없음: {'RESULT': {'CODE': 'ERROR-300', 'MESSAGE': '필수 값이 누락되어 있습니다. 요청인자를 참고 하십시오.'}}\n",
      "[]\n",
      "8490058 여수고등학교\n",
      "급식 정보 조회 중: 날짜=20241030\n"
     ]
    },
    {
     "name": "stderr",
     "output_type": "stream",
     "text": [
      " ... (more hidden) ..."
     ]
    },
    {
     "name": "stdout",
     "output_type": "stream",
     "text": [
      "mealService 응답코드: 200\n",
      "mealServiceDietInfo 키 없음: {'RESULT': {'CODE': 'ERROR-300', 'MESSAGE': '필수 값이 누락되어 있습니다. 요청인자를 참고 하십시오.'}}\n",
      "[]\n",
      "8490177 여수공업고등학교\n",
      "급식 정보 조회 중: 날짜=20241030\n",
      "mealService 응답코드: 200\n",
      "mealServiceDietInfo 키 없음: {'RESULT': {'CODE': 'ERROR-300', 'MESSAGE': '필수 값이 누락되어 있습니다. 요청인자를 참고 하십시오.'}}\n",
      "[]\n"
     ]
    },
    {
     "name": "stderr",
     "output_type": "stream",
     "text": [
      " ... (more hidden) ..."
     ]
    },
    {
     "name": "stdout",
     "output_type": "stream",
     "text": [
      "8490411 여수석유화학고등학교\n",
      "급식 정보 조회 중: 날짜=20241030\n",
      "mealService 응답코드: 200\n",
      "mealServiceDietInfo 키 없음: {'RESULT': {'CODE': 'ERROR-300', 'MESSAGE': '필수 값이 누락되어 있습니다. 요청인자를 참고 하십시오.'}}\n",
      "[]\n"
     ]
    },
    {
     "name": "stderr",
     "output_type": "stream",
     "text": [
      " ... (more hidden) ..."
     ]
    },
    {
     "name": "stdout",
     "output_type": "stream",
     "text": [
      "8490059 여수여자고등학교\n",
      "급식 정보 조회 중: 날짜=20241030\n",
      "mealService 응답코드: 200\n",
      "mealServiceDietInfo 키 없음: {'RESULT': {'CODE': 'ERROR-300', 'MESSAGE': '필수 값이 누락되어 있습니다. 요청인자를 참고 하십시오.'}}\n",
      "[]\n",
      "8490212 여수정보과학고등학교\n",
      "급식 정보 조회 중: 날짜=20241030\n"
     ]
    },
    {
     "name": "stderr",
     "output_type": "stream",
     "text": [
      " ... (more hidden) ..."
     ]
    },
    {
     "name": "stdout",
     "output_type": "stream",
     "text": [
      "mealService 응답코드: 200\n",
      "mealServiceDietInfo 키 없음: {'RESULT': {'CODE': 'ERROR-300', 'MESSAGE': '필수 값이 누락되어 있습니다. 요청인자를 참고 하십시오.'}}\n",
      "[]\n",
      "8490096 여수중앙여자고등학교\n",
      "급식 정보 조회 중: 날짜=20241030\n",
      "mealService 응답코드: 200\n",
      "mealServiceDietInfo 키 없음: {'RESULT': {'CODE': 'ERROR-300', 'MESSAGE': '필수 값이 누락되어 있습니다. 요청인자를 참고 하십시오.'}}\n",
      "[]\n"
     ]
    },
    {
     "name": "stderr",
     "output_type": "stream",
     "text": [
      " ... (more hidden) ..."
     ]
    },
    {
     "name": "stdout",
     "output_type": "stream",
     "text": [
      "8490286 여수충무고등학교\n",
      "급식 정보 조회 중: 날짜=20241030\n",
      "mealService 응답코드: 200\n",
      "mealServiceDietInfo 키 없음: {'RESULT': {'CODE': 'ERROR-300', 'MESSAGE': '필수 값이 누락되어 있습니다. 요청인자를 참고 하십시오.'}}\n",
      "[]\n",
      "8490374 여수해양과학고등학교\n",
      "급식 정보 조회 중: 날짜=20241030\n"
     ]
    },
    {
     "name": "stderr",
     "output_type": "stream",
     "text": [
      " ... (more hidden) ..."
     ]
    },
    {
     "name": "stdout",
     "output_type": "stream",
     "text": [
      "mealService 응답코드: 200\n",
      "mealServiceDietInfo 키 없음: {'RESULT': {'CODE': 'ERROR-300', 'MESSAGE': '필수 값이 누락되어 있습니다. 요청인자를 참고 하십시오.'}}\n",
      "[]\n",
      "8490215 여수화양고등학교\n",
      "급식 정보 조회 중: 날짜=20241030\n",
      "mealService 응답코드: 200\n",
      "mealServiceDietInfo 키 없음: {'RESULT': {'CODE': 'ERROR-300', 'MESSAGE': '필수 값이 누락되어 있습니다. 요청인자를 참고 하십시오.'}}\n",
      "[]\n"
     ]
    },
    {
     "name": "stderr",
     "output_type": "stream",
     "text": [
      " ... (more hidden) ..."
     ]
    },
    {
     "name": "stdout",
     "output_type": "stream",
     "text": [
      "8490097 여양고등학교\n",
      "급식 정보 조회 중: 날짜=20241030\n",
      "mealService 응답코드: 200\n",
      "mealServiceDietInfo 키 없음: {'RESULT': {'CODE': 'ERROR-300', 'MESSAGE': '필수 값이 누락되어 있습니다. 요청인자를 참고 하십시오.'}}\n",
      "[]\n",
      "8490060 여천고등학교\n",
      "급식 정보 조회 중: 날짜=20241030\n",
      "mealService 응답코드: 200\n",
      "mealServiceDietInfo 키 없음: {'RESULT': {'CODE': 'ERROR-300', 'MESSAGE': '필수 값이 누락되어 있습니다. 요청인자를 참고 하십시오.'}}\n",
      "[]\n"
     ]
    },
    {
     "name": "stderr",
     "output_type": "stream",
     "text": [
      " ... (more hidden) ..."
     ]
    },
    {
     "name": "stdout",
     "output_type": "stream",
     "text": [
      "8490062 영광고등학교\n",
      "급식 정보 조회 중: 날짜=20241030\n",
      "mealService 응답코드: 200\n",
      "mealServiceDietInfo 키 없음: {'RESULT': {'CODE': 'ERROR-300', 'MESSAGE': '필수 값이 누락되어 있습니다. 요청인자를 참고 하십시오.'}}\n",
      "[]\n",
      "8490428 영광공업고등학교\n",
      "급식 정보 조회 중: 날짜=20241030\n"
     ]
    },
    {
     "name": "stderr",
     "output_type": "stream",
     "text": [
      " ... (more hidden) ..."
     ]
    },
    {
     "name": "stdout",
     "output_type": "stream",
     "text": [
      "mealService 응답코드: 200\n",
      "mealServiceDietInfo 키 없음: {'RESULT': {'CODE': 'ERROR-300', 'MESSAGE': '필수 값이 누락되어 있습니다. 요청인자를 참고 하십시오.'}}\n",
      "[]\n",
      "8490305 영광전자고등학교\n",
      "급식 정보 조회 중: 날짜=20241030\n",
      "mealService 응답코드: 200\n",
      "mealServiceDietInfo 키 없음: {'RESULT': {'CODE': 'ERROR-300', 'MESSAGE': '필수 값이 누락되어 있습니다. 요청인자를 참고 하십시오.'}}\n",
      "[]\n"
     ]
    },
    {
     "name": "stderr",
     "output_type": "stream",
     "text": [
      " ... (more hidden) ..."
     ]
    },
    {
     "name": "stdout",
     "output_type": "stream",
     "text": [
      "8490325 영산고등학교\n",
      "급식 정보 조회 중: 날짜=20241030\n",
      "mealService 응답코드: 200\n",
      "mealServiceDietInfo 키 없음: {'RESULT': {'CODE': 'ERROR-300', 'MESSAGE': '필수 값이 누락되어 있습니다. 요청인자를 참고 하십시오.'}}\n",
      "[]\n",
      "8490098 영산성지고등학교\n",
      "급식 정보 조회 중: 날짜=20241030\n"
     ]
    },
    {
     "name": "stderr",
     "output_type": "stream",
     "text": [
      " ... (more hidden) ..."
     ]
    },
    {
     "name": "stdout",
     "output_type": "stream",
     "text": [
      "mealService 응답코드: 200\n",
      "mealServiceDietInfo 키 없음: {'RESULT': {'CODE': 'ERROR-300', 'MESSAGE': '필수 값이 누락되어 있습니다. 요청인자를 참고 하십시오.'}}\n",
      "[]\n",
      "8490063 영암고등학교\n",
      "급식 정보 조회 중: 날짜=20241030\n",
      "mealService 응답코드: 200\n",
      "mealServiceDietInfo 키 없음: {'RESULT': {'CODE': 'ERROR-300', 'MESSAGE': '필수 값이 누락되어 있습니다. 요청인자를 참고 하십시오.'}}\n",
      "[]\n"
     ]
    },
    {
     "name": "stderr",
     "output_type": "stream",
     "text": [
      " ... (more hidden) ..."
     ]
    },
    {
     "name": "stdout",
     "output_type": "stream",
     "text": [
      "8490064 영암낭주고등학교\n",
      "급식 정보 조회 중: 날짜=20241030\n",
      "mealService 응답코드: 200\n",
      "mealServiceDietInfo 키 없음: {'RESULT': {'CODE': 'ERROR-300', 'MESSAGE': '필수 값이 누락되어 있습니다. 요청인자를 참고 하십시오.'}}\n",
      "[]\n",
      "8490099 영암여자고등학교\n",
      "급식 정보 조회 중: 날짜=20241030\n"
     ]
    },
    {
     "name": "stderr",
     "output_type": "stream",
     "text": [
      " ... (more hidden) ..."
     ]
    },
    {
     "name": "stdout",
     "output_type": "stream",
     "text": [
      "mealService 응답코드: 200\n",
      "mealServiceDietInfo 키 없음: {'RESULT': {'CODE': 'ERROR-300', 'MESSAGE': '필수 값이 누락되어 있습니다. 요청인자를 참고 하십시오.'}}\n",
      "[]\n",
      "8490100 영흥고등학교\n",
      "급식 정보 조회 중: 날짜=20241030\n",
      "mealService 응답코드: 200\n",
      "mealServiceDietInfo 키 없음: {'RESULT': {'CODE': 'ERROR-300', 'MESSAGE': '필수 값이 누락되어 있습니다. 요청인자를 참고 하십시오.'}}\n",
      "[]\n"
     ]
    },
    {
     "name": "stderr",
     "output_type": "stream",
     "text": [
      " ... (more hidden) ..."
     ]
    },
    {
     "name": "stdout",
     "output_type": "stream",
     "text": [
      "8490101 예당고등학교\n",
      "급식 정보 조회 중: 날짜=20241030\n",
      "mealService 응답코드: 200\n",
      "mealServiceDietInfo 키 없음: {'RESULT': {'CODE': 'ERROR-300', 'MESSAGE': '필수 값이 누락되어 있습니다. 요청인자를 참고 하십시오.'}}\n",
      "[]\n",
      "8490102 옥과고등학교\n",
      "급식 정보 조회 중: 날짜=20241030\n"
     ]
    },
    {
     "name": "stderr",
     "output_type": "stream",
     "text": [
      " ... (more hidden) ..."
     ]
    },
    {
     "name": "stdout",
     "output_type": "stream",
     "text": [
      "mealService 응답코드: 200\n",
      "mealServiceDietInfo 키 없음: {'RESULT': {'CODE': 'ERROR-300', 'MESSAGE': '필수 값이 누락되어 있습니다. 요청인자를 참고 하십시오.'}}\n",
      "[]\n",
      "8490065 완도고등학교\n",
      "급식 정보 조회 중: 날짜=20241030\n",
      "mealService 응답코드: 200\n",
      "mealServiceDietInfo 키 없음: {'RESULT': {'CODE': 'ERROR-300', 'MESSAGE': '필수 값이 누락되어 있습니다. 요청인자를 참고 하십시오.'}}\n",
      "[]\n"
     ]
    },
    {
     "name": "stderr",
     "output_type": "stream",
     "text": [
      " ... (more hidden) ..."
     ]
    },
    {
     "name": "stdout",
     "output_type": "stream",
     "text": [
      "8490066 완도금일고등학교\n",
      "급식 정보 조회 중: 날짜=20241030\n",
      "mealService 응답코드: 200\n",
      "mealServiceDietInfo 키 없음: {'RESULT': {'CODE': 'ERROR-300', 'MESSAGE': '필수 값이 누락되어 있습니다. 요청인자를 참고 하십시오.'}}\n",
      "[]\n",
      "8490151 완도수산고등학교\n",
      "급식 정보 조회 중: 날짜=20241030\n"
     ]
    },
    {
     "name": "stderr",
     "output_type": "stream",
     "text": [
      " ... (more hidden) ..."
     ]
    },
    {
     "name": "stdout",
     "output_type": "stream",
     "text": [
      "mealService 응답코드: 200\n",
      "mealServiceDietInfo 키 없음: {'RESULT': {'CODE': 'ERROR-300', 'MESSAGE': '필수 값이 누락되어 있습니다. 요청인자를 참고 하십시오.'}}\n",
      "[]\n",
      "8490377 임자고등학교\n",
      "급식 정보 조회 중: 날짜=20241030\n",
      "mealService 응답코드: 200\n",
      "mealServiceDietInfo 키 없음: {'RESULT': {'CODE': 'ERROR-300', 'MESSAGE': '필수 값이 누락되어 있습니다. 요청인자를 참고 하십시오.'}}\n",
      "[]\n"
     ]
    },
    {
     "name": "stderr",
     "output_type": "stream",
     "text": [
      " ... (more hidden) ..."
     ]
    },
    {
     "name": "stdout",
     "output_type": "stream",
     "text": [
      "8490103 장성고등학교\n",
      "급식 정보 조회 중: 날짜=20241030\n",
      "mealService 응답코드: 200\n",
      "mealServiceDietInfo 키 없음: {'RESULT': {'CODE': 'ERROR-300', 'MESSAGE': '필수 값이 누락되어 있습니다. 요청인자를 참고 하십시오.'}}\n",
      "[]\n",
      "8490458 장성하이텍고등학교\n",
      "급식 정보 조회 중: 날짜=20241030\n"
     ]
    },
    {
     "name": "stderr",
     "output_type": "stream",
     "text": [
      " ... (more hidden) ..."
     ]
    },
    {
     "name": "stdout",
     "output_type": "stream",
     "text": [
      "mealService 응답코드: 200\n",
      "mealServiceDietInfo 키 없음: {'RESULT': {'CODE': 'ERROR-300', 'MESSAGE': '필수 값이 누락되어 있습니다. 요청인자를 참고 하십시오.'}}\n",
      "[]\n",
      "8490067 장흥고등학교\n",
      "급식 정보 조회 중: 날짜=20241030\n",
      "mealService 응답코드: 200\n",
      "mealServiceDietInfo 키 없음: {'RESULT': {'CODE': 'ERROR-300', 'MESSAGE': '필수 값이 누락되어 있습니다. 요청인자를 참고 하십시오.'}}\n",
      "[]\n"
     ]
    },
    {
     "name": "stderr",
     "output_type": "stream",
     "text": [
      " ... (more hidden) ..."
     ]
    },
    {
     "name": "stdout",
     "output_type": "stream",
     "text": [
      "8490068 장흥관산고등학교\n",
      "급식 정보 조회 중: 날짜=20241030\n",
      "mealService 응답코드: 200\n",
      "mealServiceDietInfo 키 없음: {'RESULT': {'CODE': 'ERROR-300', 'MESSAGE': '필수 값이 누락되어 있습니다. 요청인자를 참고 하십시오.'}}\n",
      "[]\n",
      "8490069 전남과학고등학교\n",
      "급식 정보 조회 중: 날짜=20241030\n"
     ]
    },
    {
     "name": "stderr",
     "output_type": "stream",
     "text": [
      " ... (more hidden) ..."
     ]
    },
    {
     "name": "stdout",
     "output_type": "stream",
     "text": [
      "mealService 응답코드: 200\n",
      "mealServiceDietInfo 키 없음: {'RESULT': {'CODE': 'ERROR-300', 'MESSAGE': '필수 값이 누락되어 있습니다. 요청인자를 참고 하십시오.'}}\n",
      "[]\n",
      "8490376 전남기술과학고등학교\n",
      "급식 정보 조회 중: 날짜=20241030\n",
      "mealService 응답코드: 200\n",
      "mealServiceDietInfo 키 없음: {'RESULT': {'CODE': 'ERROR-300', 'MESSAGE': '필수 값이 누락되어 있습니다. 요청인자를 참고 하십시오.'}}\n",
      "[]\n"
     ]
    },
    {
     "name": "stderr",
     "output_type": "stream",
     "text": [
      " ... (more hidden) ..."
     ]
    },
    {
     "name": "stdout",
     "output_type": "stream",
     "text": [
      "8490577 전남미래자동차고등학교\n",
      "급식 정보 조회 중: 날짜=20241030\n",
      "mealService 응답코드: 200\n",
      "mealServiceDietInfo 키 없음: {'RESULT': {'CODE': 'ERROR-300', 'MESSAGE': '필수 값이 누락되어 있습니다. 요청인자를 참고 하십시오.'}}\n",
      "[]\n",
      "8490239 전남미용고등학교\n",
      "급식 정보 조회 중: 날짜=20241030\n"
     ]
    },
    {
     "name": "stderr",
     "output_type": "stream",
     "text": [
      " ... (more hidden) ..."
     ]
    },
    {
     "name": "stdout",
     "output_type": "stream",
     "text": [
      "mealService 응답코드: 200\n",
      "mealServiceDietInfo 키 없음: {'RESULT': {'CODE': 'ERROR-300', 'MESSAGE': '필수 값이 누락되어 있습니다. 요청인자를 참고 하십시오.'}}\n",
      "[]\n",
      "8490319 전남보건고등학교\n",
      "급식 정보 조회 중: 날짜=20241030\n",
      "mealService 응답코드: 200\n",
      "mealServiceDietInfo 키 없음: {'RESULT': {'CODE': 'ERROR-300', 'MESSAGE': '필수 값이 누락되어 있습니다. 요청인자를 참고 하십시오.'}}\n",
      "[]\n"
     ]
    },
    {
     "name": "stderr",
     "output_type": "stream",
     "text": [
      " ... (more hidden) ..."
     ]
    },
    {
     "name": "stdout",
     "output_type": "stream",
     "text": [
      "8490296 전남생명과학고등학교\n",
      "급식 정보 조회 중: 날짜=20241030\n",
      "mealService 응답코드: 200\n",
      "mealServiceDietInfo 키 없음: {'RESULT': {'CODE': 'ERROR-300', 'MESSAGE': '필수 값이 누락되어 있습니다. 요청인자를 참고 하십시오.'}}\n",
      "[]\n",
      "8490516 전남에너지고등학교\n",
      "급식 정보 조회 중: 날짜=20241030\n"
     ]
    },
    {
     "name": "stderr",
     "output_type": "stream",
     "text": [
      " ... (more hidden) ..."
     ]
    },
    {
     "name": "stdout",
     "output_type": "stream",
     "text": [
      "mealService 응답코드: 200\n",
      "mealServiceDietInfo 키 없음: {'RESULT': {'CODE': 'ERROR-300', 'MESSAGE': '필수 값이 누락되어 있습니다. 요청인자를 참고 하십시오.'}}\n",
      "[]\n",
      "8490180 전남예술고등학교\n",
      "급식 정보 조회 중: 날짜=20241030\n",
      "mealService 응답코드: 200\n",
      "mealServiceDietInfo 키 없음: {'RESULT': {'CODE': 'ERROR-300', 'MESSAGE': '필수 값이 누락되어 있습니다. 요청인자를 참고 하십시오.'}}\n",
      "[]\n"
     ]
    },
    {
     "name": "stderr",
     "output_type": "stream",
     "text": [
      " ... (more hidden) ..."
     ]
    },
    {
     "name": "stdout",
     "output_type": "stream",
     "text": [
      "8490070 전남외국어고등학교\n",
      "급식 정보 조회 중: 날짜=20241030\n",
      "mealService 응답코드: 200\n",
      "mealServiceDietInfo 키 없음: {'RESULT': {'CODE': 'ERROR-300', 'MESSAGE': '필수 값이 누락되어 있습니다. 요청인자를 참고 하십시오.'}}\n",
      "[]\n",
      "8490316 전남자연과학고등학교\n",
      "급식 정보 조회 중: 날짜=20241030\n"
     ]
    },
    {
     "name": "stderr",
     "output_type": "stream",
     "text": [
      " ... (more hidden) ..."
     ]
    },
    {
     "name": "stdout",
     "output_type": "stream",
     "text": [
      "mealService 응답코드: 200\n",
      "mealServiceDietInfo 키 없음: {'RESULT': {'CODE': 'ERROR-300', 'MESSAGE': '필수 값이 누락되어 있습니다. 요청인자를 참고 하십시오.'}}\n",
      "[]\n",
      "8490290 전남조리과학고등학교\n",
      "급식 정보 조회 중: 날짜=20241030\n",
      "mealService 응답코드: 200\n",
      "mealServiceDietInfo 키 없음: {'RESULT': {'CODE': 'ERROR-300', 'MESSAGE': '필수 값이 누락되어 있습니다. 요청인자를 참고 하십시오.'}}\n",
      "[]\n"
     ]
    },
    {
     "name": "stderr",
     "output_type": "stream",
     "text": [
      " ... (more hidden) ..."
     ]
    },
    {
     "name": "stdout",
     "output_type": "stream",
     "text": [
      "8490242 전남체육고등학교\n",
      "급식 정보 조회 중: 날짜=20241030\n",
      "mealService 응답코드: 200\n",
      "mealServiceDietInfo 키 없음: {'RESULT': {'CODE': 'ERROR-300', 'MESSAGE': '필수 값이 누락되어 있습니다. 요청인자를 참고 하십시오.'}}\n",
      "[]\n",
      "8490227 조도고등학교\n",
      "급식 정보 조회 중: 날짜=20241030\n"
     ]
    },
    {
     "name": "stderr",
     "output_type": "stream",
     "text": [
      " ... (more hidden) ..."
     ]
    },
    {
     "name": "stdout",
     "output_type": "stream",
     "text": [
      "mealService 응답코드: 200\n",
      "mealServiceDietInfo 키 없음: {'RESULT': {'CODE': 'ERROR-300', 'MESSAGE': '필수 값이 누락되어 있습니다. 요청인자를 참고 하십시오.'}}\n",
      "[]\n",
      "8490283 중마고등학교\n",
      "급식 정보 조회 중: 날짜=20241030\n",
      "mealService 응답코드: 200\n",
      "mealServiceDietInfo 키 없음: {'RESULT': {'CODE': 'ERROR-300', 'MESSAGE': '필수 값이 누락되어 있습니다. 요청인자를 참고 하십시오.'}}\n",
      "[]\n"
     ]
    },
    {
     "name": "stderr",
     "output_type": "stream",
     "text": [
      " ... (more hidden) ..."
     ]
    },
    {
     "name": "stdout",
     "output_type": "stream",
     "text": [
      "8490248 지명고등학교\n",
      "급식 정보 조회 중: 날짜=20241030\n",
      "mealService 응답코드: 200\n",
      "mealServiceDietInfo 키 없음: {'RESULT': {'CODE': 'ERROR-300', 'MESSAGE': '필수 값이 누락되어 있습니다. 요청인자를 참고 하십시오.'}}\n",
      "[]\n",
      "8490104 진도고등학교\n",
      "급식 정보 조회 중: 날짜=20241030\n",
      "mealService 응답코드: 200\n",
      "mealServiceDietInfo 키 없음: {'RESULT': {'CODE': 'ERROR-300', 'MESSAGE': '필수 값이 누락되어 있습니다. 요청인자를 참고 하십시오.'}}\n",
      "[]\n"
     ]
    },
    {
     "name": "stderr",
     "output_type": "stream",
     "text": [
      " ... (more hidden) ..."
     ]
    },
    {
     "name": "stdout",
     "output_type": "stream",
     "text": [
      "8490415 진도국악고등학교\n",
      "급식 정보 조회 중: 날짜=20241030\n",
      "mealService 응답코드: 200\n",
      "mealServiceDietInfo 키 없음: {'RESULT': {'CODE': 'ERROR-300', 'MESSAGE': '필수 값이 누락되어 있습니다. 요청인자를 참고 하십시오.'}}\n",
      "[]\n",
      "8490159 진도실업고등학교\n",
      "급식 정보 조회 중: 날짜=20241030\n"
     ]
    },
    {
     "name": "stderr",
     "output_type": "stream",
     "text": [
      " ... (more hidden) ..."
     ]
    },
    {
     "name": "stdout",
     "output_type": "stream",
     "text": [
      "mealService 응답코드: 200\n",
      "mealServiceDietInfo 키 없음: {'RESULT': {'CODE': 'ERROR-300', 'MESSAGE': '필수 값이 누락되어 있습니다. 요청인자를 참고 하십시오.'}}\n",
      "[]\n",
      "8490276 진성여자고등학교\n",
      "급식 정보 조회 중: 날짜=20241030\n",
      "mealService 응답코드: 200\n",
      "mealServiceDietInfo 키 없음: {'RESULT': {'CODE': 'ERROR-300', 'MESSAGE': '필수 값이 누락되어 있습니다. 요청인자를 참고 하십시오.'}}\n",
      "[]\n"
     ]
    },
    {
     "name": "stderr",
     "output_type": "stream",
     "text": [
      " ... (more hidden) ..."
     ]
    },
    {
     "name": "stdout",
     "output_type": "stream",
     "text": [
      "8490105 창평고등학교\n",
      "급식 정보 조회 중: 날짜=20241030\n",
      "mealService 응답코드: 200\n",
      "mealServiceDietInfo 키 없음: {'RESULT': {'CODE': 'ERROR-300', 'MESSAGE': '필수 값이 누락되어 있습니다. 요청인자를 참고 하십시오.'}}\n",
      "[]\n",
      "8490220 하의고등학교\n",
      "급식 정보 조회 중: 날짜=20241030\n"
     ]
    },
    {
     "name": "stderr",
     "output_type": "stream",
     "text": [
      " ... (more hidden) ..."
     ]
    },
    {
     "name": "stdout",
     "output_type": "stream",
     "text": [
      "mealService 응답코드: 200\n",
      "mealServiceDietInfo 키 없음: {'RESULT': {'CODE': 'ERROR-300', 'MESSAGE': '필수 값이 누락되어 있습니다. 요청인자를 참고 하십시오.'}}\n",
      "[]\n",
      "8490414 한국말산업고등학교\n",
      "급식 정보 조회 중: 날짜=20241030\n",
      "mealService 응답코드: 200\n",
      "mealServiceDietInfo 키 없음: {'RESULT': {'CODE': 'ERROR-300', 'MESSAGE': '필수 값이 누락되어 있습니다. 요청인자를 참고 하십시오.'}}\n",
      "[]\n"
     ]
    },
    {
     "name": "stderr",
     "output_type": "stream",
     "text": [
      " ... (more hidden) ..."
     ]
    },
    {
     "name": "stdout",
     "output_type": "stream",
     "text": [
      "8490412 한국바둑고등학교\n",
      "급식 정보 조회 중: 날짜=20241030\n",
      "mealService 응답코드: 200\n",
      "mealServiceDietInfo 키 없음: {'RESULT': {'CODE': 'ERROR-300', 'MESSAGE': '필수 값이 누락되어 있습니다. 요청인자를 참고 하십시오.'}}\n",
      "[]\n",
      "8490468 한국창의예술고등학교\n",
      "급식 정보 조회 중: 날짜=20241030\n"
     ]
    },
    {
     "name": "stderr",
     "output_type": "stream",
     "text": [
      " ... (more hidden) ..."
     ]
    },
    {
     "name": "stdout",
     "output_type": "stream",
     "text": [
      "mealService 응답코드: 200\n",
      "mealServiceDietInfo 키 없음: {'RESULT': {'CODE': 'ERROR-300', 'MESSAGE': '필수 값이 누락되어 있습니다. 요청인자를 참고 하십시오.'}}\n",
      "[]\n",
      "8490295 한국항만물류고등학교\n",
      "급식 정보 조회 중: 날짜=20241030\n",
      "mealService 응답코드: 200\n",
      "mealServiceDietInfo 키 없음: {'RESULT': {'CODE': 'ERROR-300', 'MESSAGE': '필수 값이 누락되어 있습니다. 요청인자를 참고 하십시오.'}}\n",
      "[]\n"
     ]
    },
    {
     "name": "stderr",
     "output_type": "stream",
     "text": [
      " ... (more hidden) ..."
     ]
    },
    {
     "name": "stdout",
     "output_type": "stream",
     "text": [
      "8490107 한빛고등학교\n",
      "급식 정보 조회 중: 날짜=20241030\n",
      "mealService 응답코드: 200\n",
      "mealServiceDietInfo 키 없음: {'RESULT': {'CODE': 'ERROR-300', 'MESSAGE': '필수 값이 누락되어 있습니다. 요청인자를 참고 하십시오.'}}\n",
      "[]\n",
      "8490108 한영고등학교\n",
      "급식 정보 조회 중: 날짜=20241030\n"
     ]
    },
    {
     "name": "stderr",
     "output_type": "stream",
     "text": [
      " ... (more hidden) ..."
     ]
    },
    {
     "name": "stdout",
     "output_type": "stream",
     "text": [
      "mealService 응답코드: 200\n",
      "mealServiceDietInfo 키 없음: {'RESULT': {'CODE': 'ERROR-300', 'MESSAGE': '필수 값이 누락되어 있습니다. 요청인자를 참고 하십시오.'}}\n",
      "[]\n",
      "8490363 한울고등학교\n",
      "급식 정보 조회 중: 날짜=20241030\n",
      "mealService 응답코드: 200\n",
      "mealServiceDietInfo 키 없음: {'RESULT': {'CODE': 'ERROR-300', 'MESSAGE': '필수 값이 누락되어 있습니다. 요청인자를 참고 하십시오.'}}\n",
      "[]\n"
     ]
    },
    {
     "name": "stderr",
     "output_type": "stream",
     "text": [
      " ... (more hidden) ..."
     ]
    },
    {
     "name": "stdout",
     "output_type": "stream",
     "text": [
      "8490109 함평고등학교\n",
      "급식 정보 조회 중: 날짜=20241030\n",
      "mealService 응답코드: 200\n",
      "mealServiceDietInfo 키 없음: {'RESULT': {'CODE': 'ERROR-300', 'MESSAGE': '필수 값이 누락되어 있습니다. 요청인자를 참고 하십시오.'}}\n",
      "[]\n",
      "8490224 함평골프고등학교\n",
      "급식 정보 조회 중: 날짜=20241030\n"
     ]
    },
    {
     "name": "stderr",
     "output_type": "stream",
     "text": [
      " ... (more hidden) ..."
     ]
    },
    {
     "name": "stdout",
     "output_type": "stream",
     "text": [
      "mealService 응답코드: 200\n",
      "mealServiceDietInfo 키 없음: {'RESULT': {'CODE': 'ERROR-300', 'MESSAGE': '필수 값이 누락되어 있습니다. 요청인자를 참고 하십시오.'}}\n",
      "[]\n",
      "8490459 함평학다리고등학교\n",
      "급식 정보 조회 중: 날짜=20241030\n",
      "mealService 응답코드: 200\n",
      "mealServiceDietInfo 키 없음: {'RESULT': {'CODE': 'ERROR-300', 'MESSAGE': '필수 값이 누락되어 있습니다. 요청인자를 참고 하십시오.'}}\n",
      "[]\n"
     ]
    },
    {
     "name": "stderr",
     "output_type": "stream",
     "text": [
      " ... (more hidden) ..."
     ]
    },
    {
     "name": "stdout",
     "output_type": "stream",
     "text": [
      "8490073 해남고등학교\n",
      "급식 정보 조회 중: 날짜=20241030\n",
      "mealService 응답코드: 200\n",
      "mealServiceDietInfo 키 없음: {'RESULT': {'CODE': 'ERROR-300', 'MESSAGE': '필수 값이 누락되어 있습니다. 요청인자를 참고 하십시오.'}}\n",
      "[]\n",
      "8490164 해남공업고등학교\n",
      "급식 정보 조회 중: 날짜=20241030\n",
      "mealService 응답코드: 200\n",
      "mealServiceDietInfo 키 없음: {'RESULT': {'CODE': 'ERROR-300', 'MESSAGE': '필수 값이 누락되어 있습니다. 요청인자를 참고 하십시오.'}}\n",
      "[]\n"
     ]
    },
    {
     "name": "stderr",
     "output_type": "stream",
     "text": [
      " ... (more hidden) ..."
     ]
    },
    {
     "name": "stdout",
     "output_type": "stream",
     "text": [
      "8490110 해룡고등학교\n",
      "급식 정보 조회 중: 날짜=20241030\n",
      "mealService 응답코드: 200\n",
      "mealServiceDietInfo 키 없음: {'RESULT': {'CODE': 'ERROR-300', 'MESSAGE': '필수 값이 누락되어 있습니다. 요청인자를 참고 하십시오.'}}\n",
      "[]\n",
      "8490165 호남원예고등학교\n",
      "급식 정보 조회 중: 날짜=20241030\n"
     ]
    },
    {
     "name": "stderr",
     "output_type": "stream",
     "text": [
      " ... (more hidden) ..."
     ]
    },
    {
     "name": "stdout",
     "output_type": "stream",
     "text": [
      "mealService 응답코드: 200\n",
      "mealServiceDietInfo 키 없음: {'RESULT': {'CODE': 'ERROR-300', 'MESSAGE': '필수 값이 누락되어 있습니다. 요청인자를 참고 하십시오.'}}\n",
      "[]\n",
      "8490076 화순고등학교\n",
      "급식 정보 조회 중: 날짜=20241030\n",
      "mealService 응답코드: 200\n",
      "mealServiceDietInfo 키 없음: {'RESULT': {'CODE': 'ERROR-300', 'MESSAGE': '필수 값이 누락되어 있습니다. 요청인자를 참고 하십시오.'}}\n",
      "[]\n"
     ]
    },
    {
     "name": "stderr",
     "output_type": "stream",
     "text": [
      " ... (more hidden) ..."
     ]
    },
    {
     "name": "stdout",
     "output_type": "stream",
     "text": [
      "8490271 화순이양고등학교\n",
      "급식 정보 조회 중: 날짜=20241030\n",
      "mealService 응답코드: 200\n",
      "mealServiceDietInfo 키 없음: {'RESULT': {'CODE': 'ERROR-300', 'MESSAGE': '필수 값이 누락되어 있습니다. 요청인자를 참고 하십시오.'}}\n",
      "[]\n",
      "8490111 화원고등학교\n",
      "급식 정보 조회 중: 날짜=20241030\n"
     ]
    },
    {
     "name": "stderr",
     "output_type": "stream",
     "text": [
      " ... (more hidden) ...\n"
     ]
    },
    {
     "name": "stdout",
     "output_type": "stream",
     "text": [
      "mealService 응답코드: 200\n",
      "mealServiceDietInfo 키 없음: {'RESULT': {'CODE': 'ERROR-300', 'MESSAGE': '필수 값이 누락되어 있습니다. 요청인자를 참고 하십시오.'}}\n",
      "[]\n",
      "응답코드 : 200\n"
     ]
    },
    {
     "name": "stderr",
     "output_type": "stream",
     "text": [
      " ... (more hidden) ..."
     ]
    },
    {
     "name": "stdout",
     "output_type": "stream",
     "text": [
      "8750075 가은고등학교\n",
      "급식 정보 조회 중: 날짜=20241030\n",
      "mealService 응답코드: 200\n",
      "mealServiceDietInfo 키 없음: {'RESULT': {'CODE': 'ERROR-300', 'MESSAGE': '필수 값이 누락되어 있습니다. 요청인자를 참고 하십시오.'}}\n",
      "[]\n",
      "8750474 강구정보고등학교\n",
      "급식 정보 조회 중: 날짜=20241030\n"
     ]
    },
    {
     "name": "stderr",
     "output_type": "stream",
     "text": [
      " ... (more hidden) ..."
     ]
    },
    {
     "name": "stdout",
     "output_type": "stream",
     "text": [
      "mealService 응답코드: 200\n",
      "mealServiceDietInfo 키 없음: {'RESULT': {'CODE': 'ERROR-300', 'MESSAGE': '필수 값이 누락되어 있습니다. 요청인자를 참고 하십시오.'}}\n",
      "[]\n",
      "8750143 경구고등학교\n",
      "급식 정보 조회 중: 날짜=20241030\n",
      "mealService 응답코드: 200\n",
      "mealServiceDietInfo 키 없음: {'RESULT': {'CODE': 'ERROR-300', 'MESSAGE': '필수 값이 누락되어 있습니다. 요청인자를 참고 하십시오.'}}\n",
      "[]\n"
     ]
    },
    {
     "name": "stderr",
     "output_type": "stream",
     "text": [
      " ... (more hidden) ..."
     ]
    },
    {
     "name": "stdout",
     "output_type": "stream",
     "text": [
      "8750813 경북골프경영고등학교\n",
      "급식 정보 조회 중: 날짜=20241030\n",
      "mealService 응답코드: 200\n",
      "mealServiceDietInfo 키 없음: {'RESULT': {'CODE': 'ERROR-300', 'MESSAGE': '필수 값이 누락되어 있습니다. 요청인자를 참고 하십시오.'}}\n",
      "[]\n",
      "8750078 경북과학고등학교\n",
      "급식 정보 조회 중: 날짜=20241030\n"
     ]
    },
    {
     "name": "stderr",
     "output_type": "stream",
     "text": [
      " ... (more hidden) ..."
     ]
    },
    {
     "name": "stdout",
     "output_type": "stream",
     "text": [
      "mealService 응답코드: 200\n",
      "mealServiceDietInfo 키 없음: {'RESULT': {'CODE': 'ERROR-300', 'MESSAGE': '필수 값이 누락되어 있습니다. 요청인자를 참고 하십시오.'}}\n",
      "[]\n",
      "8750627 경북과학기술고등학교\n",
      "급식 정보 조회 중: 날짜=20241030\n",
      "mealService 응답코드: 200\n",
      "mealServiceDietInfo 키 없음: {'RESULT': {'CODE': 'ERROR-300', 'MESSAGE': '필수 값이 누락되어 있습니다. 요청인자를 참고 하십시오.'}}\n",
      "[]\n"
     ]
    },
    {
     "name": "stderr",
     "output_type": "stream",
     "text": [
      " ... (more hidden) ..."
     ]
    },
    {
     "name": "stdout",
     "output_type": "stream",
     "text": [
      "8750810 경북관광비즈니스고등학교\n",
      "급식 정보 조회 중: 날짜=20241030\n",
      "mealService 응답코드: 200\n",
      "mealServiceDietInfo 키 없음: {'RESULT': {'CODE': 'ERROR-300', 'MESSAGE': '필수 값이 누락되어 있습니다. 요청인자를 참고 하십시오.'}}\n",
      "[]\n"
     ]
    },
    {
     "name": "stderr",
     "output_type": "stream",
     "text": [
      " ... (more hidden) ..."
     ]
    },
    {
     "name": "stdout",
     "output_type": "stream",
     "text": [
      "8750667 경북기계금속고등학교\n",
      "급식 정보 조회 중: 날짜=20241030\n",
      "mealService 응답코드: 200\n",
      "mealServiceDietInfo 키 없음: {'RESULT': {'CODE': 'ERROR-300', 'MESSAGE': '필수 값이 누락되어 있습니다. 요청인자를 참고 하십시오.'}}\n",
      "[]\n",
      "8750758 경북기계명장고등학교\n",
      "급식 정보 조회 중: 날짜=20241030\n",
      "mealService 응답코드: 200\n",
      "mealServiceDietInfo 키 없음: {'RESULT': {'CODE': 'ERROR-300', 'MESSAGE': '필수 값이 누락되어 있습니다. 요청인자를 참고 하십시오.'}}\n",
      "[]\n"
     ]
    },
    {
     "name": "stderr",
     "output_type": "stream",
     "text": [
      " ... (more hidden) ..."
     ]
    },
    {
     "name": "stdout",
     "output_type": "stream",
     "text": [
      "8750731 경북드론고등학교\n",
      "급식 정보 조회 중: 날짜=20241030\n",
      "mealService 응답코드: 200\n",
      "mealServiceDietInfo 키 없음: {'RESULT': {'CODE': 'ERROR-300', 'MESSAGE': '필수 값이 누락되어 있습니다. 요청인자를 참고 하십시오.'}}\n",
      "[]\n",
      "8750805 경북바이오마이스터고등학교\n",
      "급식 정보 조회 중: 날짜=20241030\n"
     ]
    },
    {
     "name": "stderr",
     "output_type": "stream",
     "text": [
      " ... (more hidden) ..."
     ]
    },
    {
     "name": "stdout",
     "output_type": "stream",
     "text": [
      "mealService 응답코드: 200\n",
      "mealServiceDietInfo 키 없음: {'RESULT': {'CODE': 'ERROR-300', 'MESSAGE': '필수 값이 누락되어 있습니다. 요청인자를 참고 하십시오.'}}\n",
      "[]\n",
      "8750444 경북생활과학고등학교\n",
      "급식 정보 조회 중: 날짜=20241030\n",
      "mealService 응답코드: 200\n",
      "mealServiceDietInfo 키 없음: {'RESULT': {'CODE': 'ERROR-300', 'MESSAGE': '필수 값이 누락되어 있습니다. 요청인자를 참고 하십시오.'}}\n",
      "[]\n"
     ]
    },
    {
     "name": "stderr",
     "output_type": "stream",
     "text": [
      " ... (more hidden) ..."
     ]
    },
    {
     "name": "stdout",
     "output_type": "stream",
     "text": [
      "8750730 경북세무고등학교\n",
      "급식 정보 조회 중: 날짜=20241030\n",
      "mealService 응답코드: 200\n",
      "mealServiceDietInfo 키 없음: {'RESULT': {'CODE': 'ERROR-300', 'MESSAGE': '필수 값이 누락되어 있습니다. 요청인자를 참고 하십시오.'}}\n",
      "[]\n",
      "8750829 경북소프트웨어마이스터고등학교\n",
      "급식 정보 조회 중: 날짜=20241030\n"
     ]
    },
    {
     "name": "stderr",
     "output_type": "stream",
     "text": [
      " ... (more hidden) ..."
     ]
    },
    {
     "name": "stdout",
     "output_type": "stream",
     "text": [
      "mealService 응답코드: 200\n",
      "mealServiceDietInfo 키 없음: {'RESULT': {'CODE': 'ERROR-300', 'MESSAGE': '필수 값이 누락되어 있습니다. 요청인자를 참고 하십시오.'}}\n",
      "[]\n",
      "8750079 경북외국어고등학교\n",
      "급식 정보 조회 중: 날짜=20241030\n",
      "mealService 응답코드: 200\n",
      "mealServiceDietInfo 키 없음: {'RESULT': {'CODE': 'ERROR-300', 'MESSAGE': '필수 값이 누락되어 있습니다. 요청인자를 참고 하십시오.'}}\n",
      "[]\n"
     ]
    },
    {
     "name": "stderr",
     "output_type": "stream",
     "text": [
      " ... (more hidden) ..."
     ]
    },
    {
     "name": "stdout",
     "output_type": "stream",
     "text": [
      "8750724 경북일고등학교\n",
      "급식 정보 조회 중: 날짜=20241030\n",
      "mealService 응답코드: 200\n",
      "mealServiceDietInfo 키 없음: {'RESULT': {'CODE': 'ERROR-300', 'MESSAGE': '필수 값이 누락되어 있습니다. 요청인자를 참고 하십시오.'}}\n",
      "[]\n",
      "8750770 경북자연과학고등학교\n",
      "급식 정보 조회 중: 날짜=20241030\n"
     ]
    },
    {
     "name": "stderr",
     "output_type": "stream",
     "text": [
      " ... (more hidden) ..."
     ]
    },
    {
     "name": "stdout",
     "output_type": "stream",
     "text": [
      "mealService 응답코드: 200\n",
      "mealServiceDietInfo 키 없음: {'RESULT': {'CODE': 'ERROR-300', 'MESSAGE': '필수 값이 누락되어 있습니다. 요청인자를 참고 하십시오.'}}\n",
      "[]\n",
      "8750726 경북조리과학고등학교\n",
      "급식 정보 조회 중: 날짜=20241030\n",
      "mealService 응답코드: 200\n",
      "mealServiceDietInfo 키 없음: {'RESULT': {'CODE': 'ERROR-300', 'MESSAGE': '필수 값이 누락되어 있습니다. 요청인자를 참고 하십시오.'}}\n",
      "[]\n"
     ]
    },
    {
     "name": "stderr",
     "output_type": "stream",
     "text": [
      " ... (more hidden) ..."
     ]
    },
    {
     "name": "stdout",
     "output_type": "stream",
     "text": [
      "8750080 경북체육고등학교\n",
      "급식 정보 조회 중: 날짜=20241030\n",
      "mealService 응답코드: 200\n",
      "mealServiceDietInfo 키 없음: {'RESULT': {'CODE': 'ERROR-300', 'MESSAGE': '필수 값이 누락되어 있습니다. 요청인자를 참고 하십시오.'}}\n",
      "[]\n",
      "8750644 경북하이텍고등학교\n",
      "급식 정보 조회 중: 날짜=20241030\n",
      "mealService 응답코드: 200\n",
      "mealServiceDietInfo 키 없음: {'RESULT': {'CODE': 'ERROR-300', 'MESSAGE': '필수 값이 누락되어 있습니다. 요청인자를 참고 하십시오.'}}\n",
      "[]\n"
     ]
    },
    {
     "name": "stderr",
     "output_type": "stream",
     "text": [
      " ... (more hidden) ..."
     ]
    },
    {
     "name": "stdout",
     "output_type": "stream",
     "text": [
      "8750557 경북항공고등학교\n",
      "급식 정보 조회 중: 날짜=20241030\n",
      "mealService 응답코드: 200\n",
      "mealServiceDietInfo 키 없음: {'RESULT': {'CODE': 'ERROR-300', 'MESSAGE': '필수 값이 누락되어 있습니다. 요청인자를 참고 하십시오.'}}\n",
      "[]\n",
      "8750776 경북휴먼테크고등학교\n",
      "급식 정보 조회 중: 날짜=20241030\n",
      "mealService 응답코드: 200\n",
      "mealServiceDietInfo 키 없음: {'RESULT': {'CODE': 'ERROR-300', 'MESSAGE': '필수 값이 누락되어 있습니다. 요청인자를 참고 하십시오.'}}\n",
      "[]\n"
     ]
    },
    {
     "name": "stderr",
     "output_type": "stream",
     "text": [
      " ... (more hidden) ..."
     ]
    },
    {
     "name": "stdout",
     "output_type": "stream",
     "text": [
      "8750081 경산고등학교\n",
      "급식 정보 조회 중: 날짜=20241030\n",
      "mealService 응답코드: 200\n",
      "mealServiceDietInfo 키 없음: {'RESULT': {'CODE': 'ERROR-300', 'MESSAGE': '필수 값이 누락되어 있습니다. 요청인자를 참고 하십시오.'}}\n",
      "[]\n",
      "8750555 경산과학고등학교\n",
      "급식 정보 조회 중: 날짜=20241030\n"
     ]
    },
    {
     "name": "stderr",
     "output_type": "stream",
     "text": [
      " ... (more hidden) ..."
     ]
    },
    {
     "name": "stdout",
     "output_type": "stream",
     "text": [
      "mealService 응답코드: 200\n",
      "mealServiceDietInfo 키 없음: {'RESULT': {'CODE': 'ERROR-300', 'MESSAGE': '필수 값이 누락되어 있습니다. 요청인자를 참고 하십시오.'}}\n",
      "[]\n",
      "8750144 경산여자고등학교\n",
      "급식 정보 조회 중: 날짜=20241030\n",
      "mealService 응답코드: 200\n",
      "mealServiceDietInfo 키 없음: {'RESULT': {'CODE': 'ERROR-300', 'MESSAGE': '필수 값이 누락되어 있습니다. 요청인자를 참고 하십시오.'}}\n",
      "[]\n"
     ]
    },
    {
     "name": "stderr",
     "output_type": "stream",
     "text": [
      " ... (more hidden) ..."
     ]
    },
    {
     "name": "stdout",
     "output_type": "stream",
     "text": [
      "8750771 경산제일고등학교\n",
      "급식 정보 조회 중: 날짜=20241030\n",
      "mealService 응답코드: 200\n",
      "mealServiceDietInfo 키 없음: {'RESULT': {'CODE': 'ERROR-300', 'MESSAGE': '필수 값이 누락되어 있습니다. 요청인자를 참고 하십시오.'}}\n",
      "[]\n",
      "8750145 경안고등학교\n",
      "급식 정보 조회 중: 날짜=20241030\n",
      "mealService 응답코드: 200\n",
      "mealServiceDietInfo 키 없음: {'RESULT': {'CODE': 'ERROR-300', 'MESSAGE': '필수 값이 누락되어 있습니다. 요청인자를 참고 하십시오.'}}\n",
      "[]\n"
     ]
    },
    {
     "name": "stderr",
     "output_type": "stream",
     "text": [
      " ... (more hidden) ..."
     ]
    },
    {
     "name": "stdout",
     "output_type": "stream",
     "text": [
      "8750588 경안여자고등학교\n",
      "급식 정보 조회 중: 날짜=20241030\n",
      "mealService 응답코드: 200\n",
      "mealServiceDietInfo 키 없음: {'RESULT': {'CODE': 'ERROR-300', 'MESSAGE': '필수 값이 누락되어 있습니다. 요청인자를 참고 하십시오.'}}\n",
      "[]\n"
     ]
    },
    {
     "name": "stderr",
     "output_type": "stream",
     "text": [
      " ... (more hidden) ..."
     ]
    },
    {
     "name": "stdout",
     "output_type": "stream",
     "text": [
      "8750146 경일고등학교\n",
      "급식 정보 조회 중: 날짜=20241030\n",
      "mealService 응답코드: 200\n",
      "mealServiceDietInfo 키 없음: {'RESULT': {'CODE': 'ERROR-300', 'MESSAGE': '필수 값이 누락되어 있습니다. 요청인자를 참고 하십시오.'}}\n",
      "[]\n",
      "8750147 경주고등학교\n",
      "급식 정보 조회 중: 날짜=20241030\n"
     ]
    },
    {
     "name": "stderr",
     "output_type": "stream",
     "text": [
      " ... (more hidden) ..."
     ]
    },
    {
     "name": "stdout",
     "output_type": "stream",
     "text": [
      "mealService 응답코드: 200\n",
      "mealServiceDietInfo 키 없음: {'RESULT': {'CODE': 'ERROR-300', 'MESSAGE': '필수 값이 누락되어 있습니다. 요청인자를 참고 하십시오.'}}\n",
      "[]\n",
      "8750225 경주공업고등학교\n",
      "급식 정보 조회 중: 날짜=20241030\n",
      "mealService 응답코드: 200\n",
      "mealServiceDietInfo 키 없음: {'RESULT': {'CODE': 'ERROR-300', 'MESSAGE': '필수 값이 누락되어 있습니다. 요청인자를 참고 하십시오.'}}\n",
      "[]\n"
     ]
    },
    {
     "name": "stderr",
     "output_type": "stream",
     "text": [
      " ... (more hidden) ..."
     ]
    },
    {
     "name": "stdout",
     "output_type": "stream",
     "text": [
      "8750446 경주디자인고등학교\n",
      "급식 정보 조회 중: 날짜=20241030\n",
      "mealService 응답코드: 200\n",
      "mealServiceDietInfo 키 없음: {'RESULT': {'CODE': 'ERROR-300', 'MESSAGE': '필수 값이 누락되어 있습니다. 요청인자를 참고 하십시오.'}}\n",
      "[]\n",
      "8750082 경주여자고등학교\n",
      "급식 정보 조회 중: 날짜=20241030\n"
     ]
    },
    {
     "name": "stderr",
     "output_type": "stream",
     "text": [
      " ... (more hidden) ..."
     ]
    },
    {
     "name": "stdout",
     "output_type": "stream",
     "text": [
      "mealService 응답코드: 200\n",
      "mealServiceDietInfo 키 없음: {'RESULT': {'CODE': 'ERROR-300', 'MESSAGE': '필수 값이 누락되어 있습니다. 요청인자를 참고 하십시오.'}}\n",
      "[]\n",
      "8750457 경주여자정보고등학교\n",
      "급식 정보 조회 중: 날짜=20241030\n",
      "mealService 응답코드: 200\n",
      "mealServiceDietInfo 키 없음: {'RESULT': {'CODE': 'ERROR-300', 'MESSAGE': '필수 값이 누락되어 있습니다. 요청인자를 참고 하십시오.'}}\n",
      "[]\n"
     ]
    },
    {
     "name": "stderr",
     "output_type": "stream",
     "text": [
      " ... (more hidden) ..."
     ]
    },
    {
     "name": "stdout",
     "output_type": "stream",
     "text": [
      "8750772 경주예일고등학교\n",
      "급식 정보 조회 중: 날짜=20241030\n",
      "mealService 응답코드: 200\n",
      "mealServiceDietInfo 키 없음: {'RESULT': {'CODE': 'ERROR-300', 'MESSAGE': '필수 값이 누락되어 있습니다. 요청인자를 참고 하십시오.'}}\n",
      "[]\n",
      "8750433 경주정보고등학교\n",
      "급식 정보 조회 중: 날짜=20241030\n",
      "mealService 응답코드: 200\n",
      "mealServiceDietInfo 키 없음: {'RESULT': {'CODE': 'ERROR-300', 'MESSAGE': '필수 값이 누락되어 있습니다. 요청인자를 참고 하십시오.'}}\n",
      "[]\n"
     ]
    },
    {
     "name": "stderr",
     "output_type": "stream",
     "text": [
      " ... (more hidden) ..."
     ]
    },
    {
     "name": "stdout",
     "output_type": "stream",
     "text": [
      "8750148 경주화랑고등학교\n",
      "급식 정보 조회 중: 날짜=20241030\n",
      "mealService 응답코드: 200\n",
      "mealServiceDietInfo 키 없음: {'RESULT': {'CODE': 'ERROR-300', 'MESSAGE': '필수 값이 누락되어 있습니다. 요청인자를 참고 하십시오.'}}\n",
      "[]\n",
      "8750083 계림고등학교\n",
      "급식 정보 조회 중: 날짜=20241030\n"
     ]
    },
    {
     "name": "stderr",
     "output_type": "stream",
     "text": [
      " ... (more hidden) ..."
     ]
    },
    {
     "name": "stdout",
     "output_type": "stream",
     "text": [
      "mealService 응답코드: 200\n",
      "mealServiceDietInfo 키 없음: {'RESULT': {'CODE': 'ERROR-300', 'MESSAGE': '필수 값이 누락되어 있습니다. 요청인자를 참고 하십시오.'}}\n",
      "[]\n",
      "8750084 구미고등학교\n",
      "급식 정보 조회 중: 날짜=20241030\n",
      "mealService 응답코드: 200\n",
      "mealServiceDietInfo 키 없음: {'RESULT': {'CODE': 'ERROR-300', 'MESSAGE': '필수 값이 누락되어 있습니다. 요청인자를 참고 하십시오.'}}\n",
      "[]\n"
     ]
    },
    {
     "name": "stderr",
     "output_type": "stream",
     "text": [
      " ... (more hidden) ..."
     ]
    },
    {
     "name": "stdout",
     "output_type": "stream",
     "text": [
      "8750754 구미산동고등학교\n",
      "급식 정보 조회 중: 날짜=20241030\n",
      "mealService 응답코드: 200\n",
      "mealServiceDietInfo 키 없음: {'RESULT': {'CODE': 'ERROR-300', 'MESSAGE': '필수 값이 누락되어 있습니다. 요청인자를 참고 하십시오.'}}\n",
      "[]\n",
      "8750085 구미여자고등학교\n",
      "급식 정보 조회 중: 날짜=20241030\n"
     ]
    },
    {
     "name": "stderr",
     "output_type": "stream",
     "text": [
      " ... (more hidden) ..."
     ]
    },
    {
     "name": "stdout",
     "output_type": "stream",
     "text": [
      "mealService 응답코드: 200\n",
      "mealServiceDietInfo 키 없음: {'RESULT': {'CODE': 'ERROR-300', 'MESSAGE': '필수 값이 누락되어 있습니다. 요청인자를 참고 하십시오.'}}\n",
      "[]\n",
      "8750611 구미여자상업고등학교\n",
      "급식 정보 조회 중: 날짜=20241030\n",
      "mealService 응답코드: 200\n",
      "mealServiceDietInfo 키 없음: {'RESULT': {'CODE': 'ERROR-300', 'MESSAGE': '필수 값이 누락되어 있습니다. 요청인자를 참고 하십시오.'}}\n",
      "[]\n"
     ]
    },
    {
     "name": "stderr",
     "output_type": "stream",
     "text": [
      " ... (more hidden) ..."
     ]
    },
    {
     "name": "stdout",
     "output_type": "stream",
     "text": [
      "1421116 구미전자공업고등학교\n",
      "급식 정보 조회 중: 날짜=20241030\n",
      "mealService 응답코드: 200\n",
      "mealServiceDietInfo 키 없음: {'RESULT': {'CODE': 'ERROR-300', 'MESSAGE': '필수 값이 누락되어 있습니다. 요청인자를 참고 하십시오.'}}\n",
      "[]\n",
      "8750234 구미정보고등학교\n",
      "급식 정보 조회 중: 날짜=20241030\n"
     ]
    },
    {
     "name": "stderr",
     "output_type": "stream",
     "text": [
      " ... (more hidden) ..."
     ]
    },
    {
     "name": "stdout",
     "output_type": "stream",
     "text": [
      "mealService 응답코드: 200\n",
      "mealServiceDietInfo 키 없음: {'RESULT': {'CODE': 'ERROR-300', 'MESSAGE': '필수 값이 누락되어 있습니다. 요청인자를 참고 하십시오.'}}\n",
      "[]\n",
      "8750811 구미제일고등학교\n",
      "급식 정보 조회 중: 날짜=20241030\n",
      "mealService 응답코드: 200\n",
      "mealServiceDietInfo 키 없음: {'RESULT': {'CODE': 'ERROR-300', 'MESSAGE': '필수 값이 누락되어 있습니다. 요청인자를 참고 하십시오.'}}\n",
      "[]\n"
     ]
    },
    {
     "name": "stderr",
     "output_type": "stream",
     "text": [
      " ... (more hidden) ..."
     ]
    },
    {
     "name": "stdout",
     "output_type": "stream",
     "text": [
      "8750151 근화여자고등학교\n",
      "급식 정보 조회 중: 날짜=20241030\n",
      "mealService 응답코드: 200\n",
      "mealServiceDietInfo 키 없음: {'RESULT': {'CODE': 'ERROR-300', 'MESSAGE': '필수 값이 누락되어 있습니다. 요청인자를 참고 하십시오.'}}\n",
      "[]\n",
      "8750088 금성고등학교\n",
      "급식 정보 조회 중: 날짜=20241030\n"
     ]
    },
    {
     "name": "stderr",
     "output_type": "stream",
     "text": [
      " ... (more hidden) ..."
     ]
    },
    {
     "name": "stdout",
     "output_type": "stream",
     "text": [
      "mealService 응답코드: 200\n",
      "mealServiceDietInfo 키 없음: {'RESULT': {'CODE': 'ERROR-300', 'MESSAGE': '필수 값이 누락되어 있습니다. 요청인자를 참고 하십시오.'}}\n",
      "[]\n",
      "8750447 금오고등학교\n",
      "급식 정보 조회 중: 날짜=20241030\n",
      "mealService 응답코드: 200\n",
      "mealServiceDietInfo 키 없음: {'RESULT': {'CODE': 'ERROR-300', 'MESSAGE': '필수 값이 누락되어 있습니다. 요청인자를 참고 하십시오.'}}\n",
      "[]\n"
     ]
    },
    {
     "name": "stderr",
     "output_type": "stream",
     "text": [
      " ... (more hidden) ..."
     ]
    },
    {
     "name": "stdout",
     "output_type": "stream",
     "text": [
      "8750237 금오공업고등학교\n",
      "급식 정보 조회 중: 날짜=20241030\n",
      "mealService 응답코드: 200\n",
      "mealServiceDietInfo 키 없음: {'RESULT': {'CODE': 'ERROR-300', 'MESSAGE': '필수 값이 누락되어 있습니다. 요청인자를 참고 하십시오.'}}\n",
      "[]\n",
      "8750090 금천고등학교\n",
      "급식 정보 조회 중: 날짜=20241030\n"
     ]
    },
    {
     "name": "stderr",
     "output_type": "stream",
     "text": [
      " ... (more hidden) ..."
     ]
    },
    {
     "name": "stdout",
     "output_type": "stream",
     "text": [
      "mealService 응답코드: 200\n",
      "mealServiceDietInfo 키 없음: {'RESULT': {'CODE': 'ERROR-300', 'MESSAGE': '필수 값이 누락되어 있습니다. 요청인자를 참고 하십시오.'}}\n",
      "[]\n",
      "8750154 길원여자고등학교\n",
      "급식 정보 조회 중: 날짜=20241030\n",
      "mealService 응답코드: 200\n",
      "mealServiceDietInfo 키 없음: {'RESULT': {'CODE': 'ERROR-300', 'MESSAGE': '필수 값이 누락되어 있습니다. 요청인자를 참고 하십시오.'}}\n",
      "[]\n"
     ]
    },
    {
     "name": "stderr",
     "output_type": "stream",
     "text": [
      " ... (more hidden) ..."
     ]
    },
    {
     "name": "stdout",
     "output_type": "stream",
     "text": [
      "8750155 김천고등학교\n",
      "급식 정보 조회 중: 날짜=20241030\n",
      "mealService 응답코드: 200\n",
      "mealServiceDietInfo 키 없음: {'RESULT': {'CODE': 'ERROR-300', 'MESSAGE': '필수 값이 누락되어 있습니다. 요청인자를 참고 하십시오.'}}\n",
      "[]\n",
      "8750626 김천생명과학고등학교\n",
      "급식 정보 조회 중: 날짜=20241030\n",
      "mealService 응답코드: 200\n",
      "mealServiceDietInfo 키 없음: {'RESULT': {'CODE': 'ERROR-300', 'MESSAGE': '필수 값이 누락되어 있습니다. 요청인자를 참고 하십시오.'}}\n",
      "[]\n"
     ]
    },
    {
     "name": "stderr",
     "output_type": "stream",
     "text": [
      " ... (more hidden) ..."
     ]
    },
    {
     "name": "stdout",
     "output_type": "stream",
     "text": [
      "8750092 김천여자고등학교\n",
      "급식 정보 조회 중: 날짜=20241030\n",
      "mealService 응답코드: 200\n",
      "mealServiceDietInfo 키 없음: {'RESULT': {'CODE': 'ERROR-300', 'MESSAGE': '필수 값이 누락되어 있습니다. 요청인자를 참고 하십시오.'}}\n",
      "[]\n",
      "8750156 김천예술고등학교\n",
      "급식 정보 조회 중: 날짜=20241030\n",
      "mealService 응답코드: 200\n",
      "mealServiceDietInfo 키 없음: {'RESULT': {'CODE': 'ERROR-300', 'MESSAGE': '필수 값이 누락되어 있습니다. 요청인자를 참고 하십시오.'}}\n",
      "[]\n"
     ]
    },
    {
     "name": "stderr",
     "output_type": "stream",
     "text": [
      " ... (more hidden) ..."
     ]
    },
    {
     "name": "stdout",
     "output_type": "stream",
     "text": [
      "8750093 김천중앙고등학교\n",
      "급식 정보 조회 중: 날짜=20241030\n",
      "mealService 응답코드: 200\n",
      "mealServiceDietInfo 키 없음: {'RESULT': {'CODE': 'ERROR-300', 'MESSAGE': '필수 값이 누락되어 있습니다. 요청인자를 참고 하십시오.'}}\n",
      "[]\n",
      "8750159 대가야고등학교\n",
      "급식 정보 조회 중: 날짜=20241030\n"
     ]
    },
    {
     "name": "stderr",
     "output_type": "stream",
     "text": [
      " ... (more hidden) ..."
     ]
    },
    {
     "name": "stdout",
     "output_type": "stream",
     "text": [
      "mealService 응답코드: 200\n",
      "mealServiceDietInfo 키 없음: {'RESULT': {'CODE': 'ERROR-300', 'MESSAGE': '필수 값이 누락되어 있습니다. 요청인자를 참고 하십시오.'}}\n",
      "[]\n",
      "8750594 대구가톨릭대학교사범대학부속무학고등학교\n",
      "급식 정보 조회 중: 날짜=20241030\n",
      "mealService 응답코드: 200\n",
      "mealServiceDietInfo 키 없음: {'RESULT': {'CODE': 'ERROR-300', 'MESSAGE': '필수 값이 누락되어 있습니다. 요청인자를 참고 하십시오.'}}\n",
      "[]\n"
     ]
    },
    {
     "name": "stderr",
     "output_type": "stream",
     "text": [
      " ... (more hidden) ..."
     ]
    },
    {
     "name": "stdout",
     "output_type": "stream",
     "text": [
      "8750160 대동고등학교\n",
      "급식 정보 조회 중: 날짜=20241030\n",
      "mealService 응답코드: 200\n",
      "mealServiceDietInfo 키 없음: {'RESULT': {'CODE': 'ERROR-300', 'MESSAGE': '필수 값이 누락되어 있습니다. 요청인자를 참고 하십시오.'}}\n",
      "[]\n"
     ]
    },
    {
     "name": "stderr",
     "output_type": "stream",
     "text": [
      " ... (more hidden) ..."
     ]
    },
    {
     "name": "stdout",
     "output_type": "stream",
     "text": [
      "8750161 대영고등학교\n",
      "급식 정보 조회 중: 날짜=20241030\n",
      "mealService 응답코드: 200\n",
      "mealServiceDietInfo 키 없음: {'RESULT': {'CODE': 'ERROR-300', 'MESSAGE': '필수 값이 누락되어 있습니다. 요청인자를 참고 하십시오.'}}\n",
      "[]\n",
      "8750162 대창고등학교\n",
      "급식 정보 조회 중: 날짜=20241030\n",
      "mealService 응답코드: 200\n",
      "mealServiceDietInfo 키 없음: {'RESULT': {'CODE': 'ERROR-300', 'MESSAGE': '필수 값이 누락되어 있습니다. 요청인자를 참고 하십시오.'}}\n",
      "[]\n"
     ]
    },
    {
     "name": "stderr",
     "output_type": "stream",
     "text": [
      " ... (more hidden) ..."
     ]
    },
    {
     "name": "stdout",
     "output_type": "stream",
     "text": [
      "8750163 도개고등학교\n",
      "급식 정보 조회 중: 날짜=20241030\n",
      "mealService 응답코드: 200\n",
      "mealServiceDietInfo 키 없음: {'RESULT': {'CODE': 'ERROR-300', 'MESSAGE': '필수 값이 누락되어 있습니다. 요청인자를 참고 하십시오.'}}\n",
      "[]\n",
      "8750812 동국대학교사범대학부속선화여자고등학교\n",
      "급식 정보 조회 중: 날짜=20241030\n"
     ]
    },
    {
     "name": "stderr",
     "output_type": "stream",
     "text": [
      " ... (more hidden) ..."
     ]
    },
    {
     "name": "stdout",
     "output_type": "stream",
     "text": [
      "mealService 응답코드: 200\n",
      "mealServiceDietInfo 키 없음: {'RESULT': {'CODE': 'ERROR-300', 'MESSAGE': '필수 값이 누락되어 있습니다. 요청인자를 참고 하십시오.'}}\n",
      "[]\n",
      "8750095 동명고등학교\n",
      "급식 정보 조회 중: 날짜=20241030\n",
      "mealService 응답코드: 200\n",
      "mealServiceDietInfo 키 없음: {'RESULT': {'CODE': 'ERROR-300', 'MESSAGE': '필수 값이 누락되어 있습니다. 요청인자를 참고 하십시오.'}}\n",
      "[]\n"
     ]
    },
    {
     "name": "stderr",
     "output_type": "stream",
     "text": [
      " ... (more hidden) ..."
     ]
    },
    {
     "name": "stdout",
     "output_type": "stream",
     "text": [
      "8750165 동지고등학교\n",
      "급식 정보 조회 중: 날짜=20241030\n",
      "mealService 응답코드: 200\n",
      "mealServiceDietInfo 키 없음: {'RESULT': {'CODE': 'ERROR-300', 'MESSAGE': '필수 값이 누락되어 있습니다. 요청인자를 참고 하십시오.'}}\n",
      "[]\n",
      "8750568 동지여자고등학교\n",
      "급식 정보 조회 중: 날짜=20241030\n"
     ]
    },
    {
     "name": "stderr",
     "output_type": "stream",
     "text": [
      " ... (more hidden) ..."
     ]
    },
    {
     "name": "stdout",
     "output_type": "stream",
     "text": [
      "mealService 응답코드: 200\n",
      "mealServiceDietInfo 키 없음: {'RESULT': {'CODE': 'ERROR-300', 'MESSAGE': '필수 값이 누락되어 있습니다. 요청인자를 참고 하십시오.'}}\n",
      "[]\n",
      "8750518 두호고등학교\n",
      "급식 정보 조회 중: 날짜=20241030\n",
      "mealService 응답코드: 200\n",
      "mealServiceDietInfo 키 없음: {'RESULT': {'CODE': 'ERROR-300', 'MESSAGE': '필수 값이 누락되어 있습니다. 요청인자를 참고 하십시오.'}}\n",
      "[]\n"
     ]
    },
    {
     "name": "stderr",
     "output_type": "stream",
     "text": [
      " ... (more hidden) ..."
     ]
    },
    {
     "name": "stdout",
     "output_type": "stream",
     "text": [
      "8750762 명인고등학교\n",
      "급식 정보 조회 중: 날짜=20241030\n",
      "mealService 응답코드: 200\n",
      "mealServiceDietInfo 키 없음: {'RESULT': {'CODE': 'ERROR-300', 'MESSAGE': '필수 값이 누락되어 있습니다. 요청인자를 참고 하십시오.'}}\n",
      "[]\n",
      "8750166 모계고등학교\n",
      "급식 정보 조회 중: 날짜=20241030\n",
      "mealService 응답코드: 200\n",
      "mealServiceDietInfo 키 없음: {'RESULT': {'CODE': 'ERROR-300', 'MESSAGE': '필수 값이 누락되어 있습니다. 요청인자를 참고 하십시오.'}}\n",
      "[]\n"
     ]
    },
    {
     "name": "stderr",
     "output_type": "stream",
     "text": [
      " ... (more hidden) ..."
     ]
    },
    {
     "name": "stdout",
     "output_type": "stream",
     "text": [
      "8750167 무산고등학교\n",
      "급식 정보 조회 중: 날짜=20241030\n",
      "mealService 응답코드: 200\n",
      "mealServiceDietInfo 키 없음: {'RESULT': {'CODE': 'ERROR-300', 'MESSAGE': '필수 값이 누락되어 있습니다. 요청인자를 참고 하십시오.'}}\n",
      "[]\n",
      "8750246 문경공업고등학교\n",
      "급식 정보 조회 중: 날짜=20241030\n"
     ]
    },
    {
     "name": "stderr",
     "output_type": "stream",
     "text": [
      " ... (more hidden) ..."
     ]
    },
    {
     "name": "stdout",
     "output_type": "stream",
     "text": [
      "mealService 응답코드: 200\n",
      "mealServiceDietInfo 키 없음: {'RESULT': {'CODE': 'ERROR-300', 'MESSAGE': '필수 값이 누락되어 있습니다. 요청인자를 참고 하십시오.'}}\n",
      "[]\n",
      "8750169 문경여자고등학교\n",
      "급식 정보 조회 중: 날짜=20241030\n",
      "mealService 응답코드: 200\n",
      "mealServiceDietInfo 키 없음: {'RESULT': {'CODE': 'ERROR-300', 'MESSAGE': '필수 값이 누락되어 있습니다. 요청인자를 참고 하십시오.'}}\n",
      "[]\n"
     ]
    },
    {
     "name": "stderr",
     "output_type": "stream",
     "text": [
      " ... (more hidden) ..."
     ]
    },
    {
     "name": "stdout",
     "output_type": "stream",
     "text": [
      "8750170 문명고등학교\n",
      "급식 정보 조회 중: 날짜=20241030\n",
      "mealService 응답코드: 200\n",
      "mealServiceDietInfo 키 없음: {'RESULT': {'CODE': 'ERROR-300', 'MESSAGE': '필수 값이 누락되어 있습니다. 요청인자를 참고 하십시오.'}}\n",
      "[]\n",
      "8750171 문창고등학교\n",
      "급식 정보 조회 중: 날짜=20241030\n",
      "mealService 응답코드: 200\n",
      "mealServiceDietInfo 키 없음: {'RESULT': {'CODE': 'ERROR-300', 'MESSAGE': '필수 값이 누락되어 있습니다. 요청인자를 참고 하십시오.'}}\n",
      "[]\n"
     ]
    },
    {
     "name": "stderr",
     "output_type": "stream",
     "text": [
      " ... (more hidden) ..."
     ]
    },
    {
     "name": "stdout",
     "output_type": "stream",
     "text": [
      "8750172 문화고등학교\n",
      "급식 정보 조회 중: 날짜=20241030\n",
      "mealService 응답코드: 200\n",
      "mealServiceDietInfo 키 없음: {'RESULT': {'CODE': 'ERROR-300', 'MESSAGE': '필수 값이 누락되어 있습니다. 요청인자를 참고 하십시오.'}}\n",
      "[]\n",
      "8750097 봉화고등학교\n",
      "급식 정보 조회 중: 날짜=20241030\n",
      "mealService 응답코드: 200\n",
      "mealServiceDietInfo 키 없음: {'RESULT': {'CODE': 'ERROR-300', 'MESSAGE': '필수 값이 누락되어 있습니다. 요청인자를 참고 하십시오.'}}\n"
     ]
    },
    {
     "name": "stderr",
     "output_type": "stream",
     "text": [
      " ... (more hidden) ..."
     ]
    },
    {
     "name": "stdout",
     "output_type": "stream",
     "text": [
      "[]\n",
      "8750581 북삼고등학교\n",
      "급식 정보 조회 중: 날짜=20241030\n",
      "mealService 응답코드: 200\n",
      "mealServiceDietInfo 키 없음: {'RESULT': {'CODE': 'ERROR-300', 'MESSAGE': '필수 값이 누락되어 있습니다. 요청인자를 참고 하십시오.'}}\n",
      "[]\n"
     ]
    },
    {
     "name": "stderr",
     "output_type": "stream",
     "text": [
      " ... (more hidden) ..."
     ]
    },
    {
     "name": "stdout",
     "output_type": "stream",
     "text": [
      "8750487 사곡고등학교\n",
      "급식 정보 조회 중: 날짜=20241030\n",
      "mealService 응답코드: 200\n",
      "mealServiceDietInfo 키 없음: {'RESULT': {'CODE': 'ERROR-300', 'MESSAGE': '필수 값이 누락되어 있습니다. 요청인자를 참고 하십시오.'}}\n",
      "[]\n",
      "8750654 사동고등학교\n",
      "급식 정보 조회 중: 날짜=20241030\n"
     ]
    },
    {
     "name": "stderr",
     "output_type": "stream",
     "text": [
      " ... (more hidden) ..."
     ]
    },
    {
     "name": "stdout",
     "output_type": "stream",
     "text": [
      "mealService 응답코드: 200\n",
      "mealServiceDietInfo 키 없음: {'RESULT': {'CODE': 'ERROR-300', 'MESSAGE': '필수 값이 누락되어 있습니다. 요청인자를 참고 하십시오.'}}\n",
      "[]\n",
      "8750536 삼성생활예술고등학교\n",
      "급식 정보 조회 중: 날짜=20241030\n",
      "mealService 응답코드: 200\n",
      "mealServiceDietInfo 키 없음: {'RESULT': {'CODE': 'ERROR-300', 'MESSAGE': '필수 값이 누락되어 있습니다. 요청인자를 참고 하십시오.'}}\n",
      "[]\n"
     ]
    },
    {
     "name": "stderr",
     "output_type": "stream",
     "text": [
      " ... (more hidden) ..."
     ]
    },
    {
     "name": "stdout",
     "output_type": "stream",
     "text": [
      "8750486 상모고등학교\n",
      "급식 정보 조회 중: 날짜=20241030\n",
      "mealService 응답코드: 200\n",
      "mealServiceDietInfo 키 없음: {'RESULT': {'CODE': 'ERROR-300', 'MESSAGE': '필수 값이 누락되어 있습니다. 요청인자를 참고 하십시오.'}}\n",
      "[]\n",
      "8750544 상산전자고등학교\n",
      "급식 정보 조회 중: 날짜=20241030\n"
     ]
    },
    {
     "name": "stderr",
     "output_type": "stream",
     "text": [
      " ... (more hidden) ..."
     ]
    },
    {
     "name": "stdout",
     "output_type": "stream",
     "text": [
      "mealService 응답코드: 200\n",
      "mealServiceDietInfo 키 없음: {'RESULT': {'CODE': 'ERROR-300', 'MESSAGE': '필수 값이 누락되어 있습니다. 요청인자를 참고 하십시오.'}}\n",
      "[]\n",
      "8750174 상주고등학교\n",
      "급식 정보 조회 중: 날짜=20241030\n",
      "mealService 응답코드: 200\n",
      "mealServiceDietInfo 키 없음: {'RESULT': {'CODE': 'ERROR-300', 'MESSAGE': '필수 값이 누락되어 있습니다. 요청인자를 참고 하십시오.'}}\n",
      "[]\n"
     ]
    },
    {
     "name": "stderr",
     "output_type": "stream",
     "text": [
      " ... (more hidden) ..."
     ]
    },
    {
     "name": "stdout",
     "output_type": "stream",
     "text": [
      "8750315 상주공업고등학교\n",
      "급식 정보 조회 중: 날짜=20241030\n",
      "mealService 응답코드: 200\n",
      "mealServiceDietInfo 키 없음: {'RESULT': {'CODE': 'ERROR-300', 'MESSAGE': '필수 값이 누락되어 있습니다. 요청인자를 참고 하십시오.'}}\n",
      "[]\n",
      "8750104 상주여자고등학교\n",
      "급식 정보 조회 중: 날짜=20241030\n"
     ]
    },
    {
     "name": "stderr",
     "output_type": "stream",
     "text": [
      " ... (more hidden) ..."
     ]
    },
    {
     "name": "stdout",
     "output_type": "stream",
     "text": [
      "mealService 응답코드: 200\n",
      "mealServiceDietInfo 키 없음: {'RESULT': {'CODE': 'ERROR-300', 'MESSAGE': '필수 값이 누락되어 있습니다. 요청인자를 참고 하십시오.'}}\n",
      "[]\n",
      "8750806 상지미래경영고등학교\n",
      "급식 정보 조회 중: 날짜=20241030\n",
      "mealService 응답코드: 200\n",
      "mealServiceDietInfo 키 없음: {'RESULT': {'CODE': 'ERROR-300', 'MESSAGE': '필수 값이 누락되어 있습니다. 요청인자를 참고 하십시오.'}}\n",
      "[]\n"
     ]
    },
    {
     "name": "stderr",
     "output_type": "stream",
     "text": [
      " ... (more hidden) ..."
     ]
    },
    {
     "name": "stdout",
     "output_type": "stream",
     "text": [
      "8750637 석적고등학교\n",
      "급식 정보 조회 중: 날짜=20241030\n",
      "mealService 응답코드: 200\n",
      "mealServiceDietInfo 키 없음: {'RESULT': {'CODE': 'ERROR-300', 'MESSAGE': '필수 값이 누락되어 있습니다. 요청인자를 참고 하십시오.'}}\n",
      "[]\n",
      "8750449 선덕여자고등학교\n",
      "급식 정보 조회 중: 날짜=20241030\n"
     ]
    },
    {
     "name": "stderr",
     "output_type": "stream",
     "text": [
      " ... (more hidden) ..."
     ]
    },
    {
     "name": "stdout",
     "output_type": "stream",
     "text": [
      "mealService 응답코드: 200\n",
      "mealServiceDietInfo 키 없음: {'RESULT': {'CODE': 'ERROR-300', 'MESSAGE': '필수 값이 누락되어 있습니다. 요청인자를 참고 하십시오.'}}\n",
      "[]\n",
      "8750105 선산고등학교\n",
      "급식 정보 조회 중: 날짜=20241030\n",
      "mealService 응답코드: 200\n",
      "mealServiceDietInfo 키 없음: {'RESULT': {'CODE': 'ERROR-300', 'MESSAGE': '필수 값이 누락되어 있습니다. 요청인자를 참고 하십시오.'}}\n",
      "[]\n"
     ]
    },
    {
     "name": "stderr",
     "output_type": "stream",
     "text": [
      " ... (more hidden) ..."
     ]
    },
    {
     "name": "stdout",
     "output_type": "stream",
     "text": [
      "8750519 선주고등학교\n",
      "급식 정보 조회 중: 날짜=20241030\n",
      "mealService 응답코드: 200\n",
      "mealServiceDietInfo 키 없음: {'RESULT': {'CODE': 'ERROR-300', 'MESSAGE': '필수 값이 누락되어 있습니다. 요청인자를 참고 하십시오.'}}\n",
      "[]\n",
      "8750450 성의고등학교\n",
      "급식 정보 조회 중: 날짜=20241030\n"
     ]
    },
    {
     "name": "stderr",
     "output_type": "stream",
     "text": [
      " ... (more hidden) ..."
     ]
    },
    {
     "name": "stdout",
     "output_type": "stream",
     "text": [
      "mealService 응답코드: 200\n",
      "mealServiceDietInfo 키 없음: {'RESULT': {'CODE': 'ERROR-300', 'MESSAGE': '필수 값이 누락되어 있습니다. 요청인자를 참고 하십시오.'}}\n",
      "[]\n",
      "8750451 성의여자고등학교\n",
      "급식 정보 조회 중: 날짜=20241030\n",
      "mealService 응답코드: 200\n",
      "mealServiceDietInfo 키 없음: {'RESULT': {'CODE': 'ERROR-300', 'MESSAGE': '필수 값이 누락되어 있습니다. 요청인자를 참고 하십시오.'}}\n",
      "[]\n"
     ]
    },
    {
     "name": "stderr",
     "output_type": "stream",
     "text": [
      " ... (more hidden) ..."
     ]
    },
    {
     "name": "stdout",
     "output_type": "stream",
     "text": [
      "8750177 성주고등학교\n",
      "급식 정보 조회 중: 날짜=20241030\n",
      "mealService 응답코드: 200\n",
      "mealServiceDietInfo 키 없음: {'RESULT': {'CODE': 'ERROR-300', 'MESSAGE': '필수 값이 누락되어 있습니다. 요청인자를 참고 하십시오.'}}\n",
      "[]\n",
      "8750465 성주여자고등학교\n",
      "급식 정보 조회 중: 날짜=20241030\n"
     ]
    },
    {
     "name": "stderr",
     "output_type": "stream",
     "text": [
      " ... (more hidden) ..."
     ]
    },
    {
     "name": "stdout",
     "output_type": "stream",
     "text": [
      "mealService 응답코드: 200\n",
      "mealServiceDietInfo 키 없음: {'RESULT': {'CODE': 'ERROR-300', 'MESSAGE': '필수 값이 누락되어 있습니다. 요청인자를 참고 하십시오.'}}\n",
      "[]\n",
      "8750178 성창여자고등학교\n",
      "급식 정보 조회 중: 날짜=20241030\n",
      "mealService 응답코드: 200\n",
      "mealServiceDietInfo 키 없음: {'RESULT': {'CODE': 'ERROR-300', 'MESSAGE': '필수 값이 누락되어 있습니다. 요청인자를 참고 하십시오.'}}\n",
      "[]\n"
     ]
    },
    {
     "name": "stderr",
     "output_type": "stream",
     "text": [
      " ... (more hidden) ..."
     ]
    },
    {
     "name": "stdout",
     "output_type": "stream",
     "text": [
      "8750179 성희여자고등학교\n",
      "급식 정보 조회 중: 날짜=20241030\n",
      "mealService 응답코드: 200\n",
      "mealServiceDietInfo 키 없음: {'RESULT': {'CODE': 'ERROR-300', 'MESSAGE': '필수 값이 누락되어 있습니다. 요청인자를 참고 하십시오.'}}\n",
      "[]\n",
      "8750180 세명고등학교\n",
      "급식 정보 조회 중: 날짜=20241030\n",
      "mealService 응답코드: 200\n",
      "mealServiceDietInfo 키 없음: {'RESULT': {'CODE': 'ERROR-300', 'MESSAGE': '필수 값이 누락되어 있습니다. 요청인자를 참고 하십시오.'}}\n",
      "[]\n"
     ]
    },
    {
     "name": "stderr",
     "output_type": "stream",
     "text": [
      " ... (more hidden) ..."
     ]
    },
    {
     "name": "stdout",
     "output_type": "stream",
     "text": [
      "8750541 세화고등학교\n",
      "급식 정보 조회 중: 날짜=20241030\n",
      "mealService 응답코드: 200\n",
      "mealServiceDietInfo 키 없음: {'RESULT': {'CODE': 'ERROR-300', 'MESSAGE': '필수 값이 누락되어 있습니다. 요청인자를 참고 하십시오.'}}\n",
      "[]\n",
      "8750107 수비고등학교\n",
      "급식 정보 조회 중: 날짜=20241030\n"
     ]
    },
    {
     "name": "stderr",
     "output_type": "stream",
     "text": [
      " ... (more hidden) ..."
     ]
    },
    {
     "name": "stdout",
     "output_type": "stream",
     "text": [
      "mealService 응답코드: 200\n",
      "mealServiceDietInfo 키 없음: {'RESULT': {'CODE': 'ERROR-300', 'MESSAGE': '필수 값이 누락되어 있습니다. 요청인자를 참고 하십시오.'}}\n",
      "[]\n",
      "8750182 순심고등학교\n",
      "급식 정보 조회 중: 날짜=20241030\n",
      "mealService 응답코드: 200\n",
      "mealServiceDietInfo 키 없음: {'RESULT': {'CODE': 'ERROR-300', 'MESSAGE': '필수 값이 누락되어 있습니다. 요청인자를 참고 하십시오.'}}\n",
      "[]\n"
     ]
    },
    {
     "name": "stderr",
     "output_type": "stream",
     "text": [
      " ... (more hidden) ..."
     ]
    },
    {
     "name": "stdout",
     "output_type": "stream",
     "text": [
      "8750183 순심여자고등학교\n",
      "급식 정보 조회 중: 날짜=20241030\n",
      "mealService 응답코드: 200\n",
      "mealServiceDietInfo 키 없음: {'RESULT': {'CODE': 'ERROR-300', 'MESSAGE': '필수 값이 누락되어 있습니다. 요청인자를 참고 하십시오.'}}\n",
      "[]\n",
      "8750184 신라고등학교\n",
      "급식 정보 조회 중: 날짜=20241030\n"
     ]
    },
    {
     "name": "stderr",
     "output_type": "stream",
     "text": [
      " ... (more hidden) ..."
     ]
    },
    {
     "name": "stdout",
     "output_type": "stream",
     "text": [
      "mealService 응답코드: 200\n",
      "mealServiceDietInfo 키 없음: {'RESULT': {'CODE': 'ERROR-300', 'MESSAGE': '필수 값이 누락되어 있습니다. 요청인자를 참고 하십시오.'}}\n",
      "[]\n",
      "8750323 신라공업고등학교\n",
      "급식 정보 조회 중: 날짜=20241030\n",
      "mealService 응답코드: 200\n",
      "mealServiceDietInfo 키 없음: {'RESULT': {'CODE': 'ERROR-300', 'MESSAGE': '필수 값이 누락되어 있습니다. 요청인자를 참고 하십시오.'}}\n",
      "[]\n"
     ]
    },
    {
     "name": "stderr",
     "output_type": "stream",
     "text": [
      " ... (more hidden) ..."
     ]
    },
    {
     "name": "stdout",
     "output_type": "stream",
     "text": [
      "8750453 안강전자고등학교\n",
      "급식 정보 조회 중: 날짜=20241030\n",
      "mealService 응답코드: 200\n",
      "mealServiceDietInfo 키 없음: {'RESULT': {'CODE': 'ERROR-300', 'MESSAGE': '필수 값이 누락되어 있습니다. 요청인자를 참고 하십시오.'}}\n",
      "[]\n",
      "8750467 안계고등학교\n",
      "급식 정보 조회 중: 날짜=20241030\n"
     ]
    },
    {
     "name": "stderr",
     "output_type": "stream",
     "text": [
      " ... (more hidden) ..."
     ]
    },
    {
     "name": "stdout",
     "output_type": "stream",
     "text": [
      "mealService 응답코드: 200\n",
      "mealServiceDietInfo 키 없음: {'RESULT': {'CODE': 'ERROR-300', 'MESSAGE': '필수 값이 누락되어 있습니다. 요청인자를 참고 하십시오.'}}\n",
      "[]\n",
      "8750113 안동고등학교\n",
      "급식 정보 조회 중: 날짜=20241030\n",
      "mealService 응답코드: 200\n",
      "mealServiceDietInfo 키 없음: {'RESULT': {'CODE': 'ERROR-300', 'MESSAGE': '필수 값이 누락되어 있습니다. 요청인자를 참고 하십시오.'}}\n",
      "[]\n"
     ]
    },
    {
     "name": "stderr",
     "output_type": "stream",
     "text": [
      " ... (more hidden) ..."
     ]
    },
    {
     "name": "stdout",
     "output_type": "stream",
     "text": [
      "8750114 안동여자고등학교\n",
      "급식 정보 조회 중: 날짜=20241030\n",
      "mealService 응답코드: 200\n",
      "mealServiceDietInfo 키 없음: {'RESULT': {'CODE': 'ERROR-300', 'MESSAGE': '필수 값이 누락되어 있습니다. 요청인자를 참고 하십시오.'}}\n",
      "[]\n",
      "8750186 안동중앙고등학교\n",
      "급식 정보 조회 중: 날짜=20241030\n"
     ]
    },
    {
     "name": "stderr",
     "output_type": "stream",
     "text": [
      " ... (more hidden) ..."
     ]
    },
    {
     "name": "stdout",
     "output_type": "stream",
     "text": [
      "mealService 응답코드: 200\n",
      "mealServiceDietInfo 키 없음: {'RESULT': {'CODE': 'ERROR-300', 'MESSAGE': '필수 값이 누락되어 있습니다. 요청인자를 참고 하십시오.'}}\n",
      "[]\n",
      "8750115 약목고등학교\n",
      "급식 정보 조회 중: 날짜=20241030\n",
      "mealService 응답코드: 200\n",
      "mealServiceDietInfo 키 없음: {'RESULT': {'CODE': 'ERROR-300', 'MESSAGE': '필수 값이 누락되어 있습니다. 요청인자를 참고 하십시오.'}}\n",
      "[]\n"
     ]
    },
    {
     "name": "stderr",
     "output_type": "stream",
     "text": [
      " ... (more hidden) ..."
     ]
    },
    {
     "name": "stdout",
     "output_type": "stream",
     "text": [
      "8750188 영광고등학교\n",
      "급식 정보 조회 중: 날짜=20241030\n",
      "mealService 응답코드: 200\n",
      "mealServiceDietInfo 키 없음: {'RESULT': {'CODE': 'ERROR-300', 'MESSAGE': '필수 값이 누락되어 있습니다. 요청인자를 참고 하십시오.'}}\n",
      "[]\n",
      "8750189 영광여자고등학교\n",
      "급식 정보 조회 중: 날짜=20241030\n",
      "mealService 응답코드: 200\n",
      "mealServiceDietInfo 키 없음: {'RESULT': {'CODE': 'ERROR-300', 'MESSAGE': '필수 값이 누락되어 있습니다. 요청인자를 참고 하십시오.'}}\n"
     ]
    },
    {
     "name": "stderr",
     "output_type": "stream",
     "text": [
      " ... (more hidden) ..."
     ]
    },
    {
     "name": "stdout",
     "output_type": "stream",
     "text": [
      "[]\n",
      "8750190 영남삼육고등학교\n",
      "급식 정보 조회 중: 날짜=20241030\n",
      "mealService 응답코드: 200\n",
      "mealServiceDietInfo 키 없음: {'RESULT': {'CODE': 'ERROR-300', 'MESSAGE': '필수 값이 누락되어 있습니다. 요청인자를 참고 하십시오.'}}\n",
      "[]\n"
     ]
    },
    {
     "name": "stderr",
     "output_type": "stream",
     "text": [
      " ... (more hidden) ..."
     ]
    },
    {
     "name": "stdout",
     "output_type": "stream",
     "text": [
      "8750546 영덕고등학교\n",
      "급식 정보 조회 중: 날짜=20241030\n",
      "mealService 응답코드: 200\n",
      "mealServiceDietInfo 키 없음: {'RESULT': {'CODE': 'ERROR-300', 'MESSAGE': '필수 값이 누락되어 있습니다. 요청인자를 참고 하십시오.'}}\n",
      "[]\n",
      "8750191 영덕여자고등학교\n",
      "급식 정보 조회 중: 날짜=20241030\n"
     ]
    },
    {
     "name": "stderr",
     "output_type": "stream",
     "text": [
      " ... (more hidden) ..."
     ]
    },
    {
     "name": "stdout",
     "output_type": "stream",
     "text": [
      "mealService 응답코드: 200\n",
      "mealServiceDietInfo 키 없음: {'RESULT': {'CODE': 'ERROR-300', 'MESSAGE': '필수 값이 누락되어 있습니다. 요청인자를 참고 하십시오.'}}\n",
      "[]\n",
      "8750192 영동고등학교\n",
      "급식 정보 조회 중: 날짜=20241030\n",
      "mealService 응답코드: 200\n",
      "mealServiceDietInfo 키 없음: {'RESULT': {'CODE': 'ERROR-300', 'MESSAGE': '필수 값이 누락되어 있습니다. 요청인자를 참고 하십시오.'}}\n",
      "[]\n"
     ]
    },
    {
     "name": "stderr",
     "output_type": "stream",
     "text": [
      " ... (more hidden) ..."
     ]
    },
    {
     "name": "stdout",
     "output_type": "stream",
     "text": [
      "8750117 영양고등학교\n",
      "급식 정보 조회 중: 날짜=20241030\n",
      "mealService 응답코드: 200\n",
      "mealServiceDietInfo 키 없음: {'RESULT': {'CODE': 'ERROR-300', 'MESSAGE': '필수 값이 누락되어 있습니다. 요청인자를 참고 하십시오.'}}\n",
      "[]\n",
      "8750325 영양여자고등학교\n",
      "급식 정보 조회 중: 날짜=20241030\n"
     ]
    },
    {
     "name": "stderr",
     "output_type": "stream",
     "text": [
      " ... (more hidden) ..."
     ]
    },
    {
     "name": "stdout",
     "output_type": "stream",
     "text": [
      "mealService 응답코드: 200\n",
      "mealServiceDietInfo 키 없음: {'RESULT': {'CODE': 'ERROR-300', 'MESSAGE': '필수 값이 누락되어 있습니다. 요청인자를 참고 하십시오.'}}\n",
      "[]\n",
      "8750480 영일고등학교\n",
      "급식 정보 조회 중: 날짜=20241030\n",
      "mealService 응답코드: 200\n",
      "mealServiceDietInfo 키 없음: {'RESULT': {'CODE': 'ERROR-300', 'MESSAGE': '필수 값이 누락되어 있습니다. 요청인자를 참고 하십시오.'}}\n",
      "[]\n"
     ]
    },
    {
     "name": "stderr",
     "output_type": "stream",
     "text": [
      " ... (more hidden) ..."
     ]
    },
    {
     "name": "stdout",
     "output_type": "stream",
     "text": [
      "8750118 영주여자고등학교\n",
      "급식 정보 조회 중: 날짜=20241030\n",
      "mealService 응답코드: 200\n",
      "mealServiceDietInfo 키 없음: {'RESULT': {'CODE': 'ERROR-300', 'MESSAGE': '필수 값이 누락되어 있습니다. 요청인자를 참고 하십시오.'}}\n",
      "[]\n",
      "8750456 영주제일고등학교\n",
      "급식 정보 조회 중: 날짜=20241030\n"
     ]
    },
    {
     "name": "stderr",
     "output_type": "stream",
     "text": [
      " ... (more hidden) ..."
     ]
    },
    {
     "name": "stdout",
     "output_type": "stream",
     "text": [
      "mealService 응답코드: 200\n",
      "mealServiceDietInfo 키 없음: {'RESULT': {'CODE': 'ERROR-300', 'MESSAGE': '필수 값이 누락되어 있습니다. 요청인자를 참고 하십시오.'}}\n",
      "[]\n",
      "8750119 영천고등학교\n",
      "급식 정보 조회 중: 날짜=20241030\n",
      "mealService 응답코드: 200\n",
      "mealServiceDietInfo 키 없음: {'RESULT': {'CODE': 'ERROR-300', 'MESSAGE': '필수 값이 누락되어 있습니다. 요청인자를 참고 하십시오.'}}\n",
      "[]\n"
     ]
    },
    {
     "name": "stderr",
     "output_type": "stream",
     "text": [
      " ... (more hidden) ..."
     ]
    },
    {
     "name": "stdout",
     "output_type": "stream",
     "text": [
      "8750525 영천성남여자고등학교\n",
      "급식 정보 조회 중: 날짜=20241030\n",
      "mealService 응답코드: 200\n",
      "mealServiceDietInfo 키 없음: {'RESULT': {'CODE': 'ERROR-300', 'MESSAGE': '필수 값이 누락되어 있습니다. 요청인자를 참고 하십시오.'}}\n",
      "[]\n",
      "8750120 영천여자고등학교\n",
      "급식 정보 조회 중: 날짜=20241030\n"
     ]
    },
    {
     "name": "stderr",
     "output_type": "stream",
     "text": [
      " ... (more hidden) ..."
     ]
    },
    {
     "name": "stdout",
     "output_type": "stream",
     "text": [
      "mealService 응답코드: 200\n",
      "mealServiceDietInfo 키 없음: {'RESULT': {'CODE': 'ERROR-300', 'MESSAGE': '필수 값이 누락되어 있습니다. 요청인자를 참고 하십시오.'}}\n",
      "[]\n",
      "8750476 영천전자고등학교\n",
      "급식 정보 조회 중: 날짜=20241030\n",
      "mealService 응답코드: 200\n",
      "mealServiceDietInfo 키 없음: {'RESULT': {'CODE': 'ERROR-300', 'MESSAGE': '필수 값이 누락되어 있습니다. 요청인자를 참고 하십시오.'}}\n",
      "[]\n"
     ]
    },
    {
     "name": "stderr",
     "output_type": "stream",
     "text": [
      " ... (more hidden) ..."
     ]
    },
    {
     "name": "stdout",
     "output_type": "stream",
     "text": [
      "8750121 영해고등학교\n",
      "급식 정보 조회 중: 날짜=20241030\n",
      "mealService 응답코드: 200\n",
      "mealServiceDietInfo 키 없음: {'RESULT': {'CODE': 'ERROR-300', 'MESSAGE': '필수 값이 누락되어 있습니다. 요청인자를 참고 하십시오.'}}\n",
      "[]\n",
      "8750768 예일메디텍고등학교\n",
      "급식 정보 조회 중: 날짜=20241030\n"
     ]
    },
    {
     "name": "stderr",
     "output_type": "stream",
     "text": [
      " ... (more hidden) ..."
     ]
    },
    {
     "name": "stdout",
     "output_type": "stream",
     "text": [
      "mealService 응답코드: 200\n",
      "mealServiceDietInfo 키 없음: {'RESULT': {'CODE': 'ERROR-300', 'MESSAGE': '필수 값이 누락되어 있습니다. 요청인자를 참고 하십시오.'}}\n",
      "[]\n",
      "8750122 예천여자고등학교\n",
      "급식 정보 조회 중: 날짜=20241030\n",
      "mealService 응답코드: 200\n",
      "mealServiceDietInfo 키 없음: {'RESULT': {'CODE': 'ERROR-300', 'MESSAGE': '필수 값이 누락되어 있습니다. 요청인자를 참고 하십시오.'}}\n",
      "[]\n"
     ]
    },
    {
     "name": "stderr",
     "output_type": "stream",
     "text": [
      " ... (more hidden) ..."
     ]
    },
    {
     "name": "stdout",
     "output_type": "stream",
     "text": [
      "8750198 오상고등학교\n",
      "급식 정보 조회 중: 날짜=20241030\n",
      "mealService 응답코드: 200\n",
      "mealServiceDietInfo 키 없음: {'RESULT': {'CODE': 'ERROR-300', 'MESSAGE': '필수 값이 누락되어 있습니다. 요청인자를 참고 하십시오.'}}\n",
      "[]\n",
      "8750468 오천고등학교\n",
      "급식 정보 조회 중: 날짜=20241030\n"
     ]
    },
    {
     "name": "stderr",
     "output_type": "stream",
     "text": [
      " ... (more hidden) ..."
     ]
    },
    {
     "name": "stdout",
     "output_type": "stream",
     "text": [
      "mealService 응답코드: 200\n",
      "mealServiceDietInfo 키 없음: {'RESULT': {'CODE': 'ERROR-300', 'MESSAGE': '필수 값이 누락되어 있습니다. 요청인자를 참고 하십시오.'}}\n",
      "[]\n",
      "8750589 우석여자고등학교\n",
      "급식 정보 조회 중: 날짜=20241030\n",
      "mealService 응답코드: 200\n",
      "mealServiceDietInfo 키 없음: {'RESULT': {'CODE': 'ERROR-300', 'MESSAGE': '필수 값이 누락되어 있습니다. 요청인자를 참고 하십시오.'}}\n",
      "[]\n"
     ]
    },
    {
     "name": "stderr",
     "output_type": "stream",
     "text": [
      " ... (more hidden) ..."
     ]
    },
    {
     "name": "stdout",
     "output_type": "stream",
     "text": [
      "8750587 울릉고등학교\n",
      "급식 정보 조회 중: 날짜=20241030\n",
      "mealService 응답코드: 200\n",
      "mealServiceDietInfo 키 없음: {'RESULT': {'CODE': 'ERROR-300', 'MESSAGE': '필수 값이 누락되어 있습니다. 요청인자를 참고 하십시오.'}}\n",
      "[]\n",
      "8750419 울진고등학교\n",
      "급식 정보 조회 중: 날짜=20241030\n"
     ]
    },
    {
     "name": "stderr",
     "output_type": "stream",
     "text": [
      " ... (more hidden) ..."
     ]
    },
    {
     "name": "stdout",
     "output_type": "stream",
     "text": [
      "mealService 응답코드: 200\n",
      "mealServiceDietInfo 키 없음: {'RESULT': {'CODE': 'ERROR-300', 'MESSAGE': '필수 값이 누락되어 있습니다. 요청인자를 참고 하십시오.'}}\n",
      "[]\n",
      "8750201 유성여자고등학교\n",
      "급식 정보 조회 중: 날짜=20241030\n",
      "mealService 응답코드: 200\n",
      "mealServiceDietInfo 키 없음: {'RESULT': {'CODE': 'ERROR-300', 'MESSAGE': '필수 값이 누락되어 있습니다. 요청인자를 참고 하십시오.'}}\n",
      "[]\n"
     ]
    },
    {
     "name": "stderr",
     "output_type": "stream",
     "text": [
      " ... (more hidden) ..."
     ]
    },
    {
     "name": "stdout",
     "output_type": "stream",
     "text": [
      "8750656 율곡고등학교\n",
      "급식 정보 조회 중: 날짜=20241030\n",
      "mealService 응답코드: 200\n",
      "mealServiceDietInfo 키 없음: {'RESULT': {'CODE': 'ERROR-300', 'MESSAGE': '필수 값이 누락되어 있습니다. 요청인자를 참고 하십시오.'}}\n",
      "[]\n",
      "8750202 의성고등학교\n",
      "급식 정보 조회 중: 날짜=20241030\n",
      "mealService 응답코드: 200\n",
      "mealServiceDietInfo 키 없음: {'RESULT': {'CODE': 'ERROR-300', 'MESSAGE': '필수 값이 누락되어 있습니다. 요청인자를 참고 하십시오.'}}\n",
      "[]\n"
     ]
    },
    {
     "name": "stderr",
     "output_type": "stream",
     "text": [
      " ... (more hidden) ..."
     ]
    },
    {
     "name": "stdout",
     "output_type": "stream",
     "text": [
      "8750124 의성여자고등학교\n",
      "급식 정보 조회 중: 날짜=20241030\n",
      "mealService 응답코드: 200\n",
      "mealServiceDietInfo 키 없음: {'RESULT': {'CODE': 'ERROR-300', 'MESSAGE': '필수 값이 누락되어 있습니다. 요청인자를 참고 하십시오.'}}\n",
      "[]\n",
      "8750766 의성유니텍고등학교\n",
      "급식 정보 조회 중: 날짜=20241030\n",
      "mealService 응답코드: 200\n",
      "mealServiceDietInfo 키 없음: {'RESULT': {'CODE': 'ERROR-300', 'MESSAGE': '필수 값이 누락되어 있습니다. 요청인자를 참고 하십시오.'}}\n",
      "[]\n"
     ]
    },
    {
     "name": "stderr",
     "output_type": "stream",
     "text": [
      " ... (more hidden) ..."
     ]
    },
    {
     "name": "stdout",
     "output_type": "stream",
     "text": [
      "8750203 이서고등학교\n",
      "급식 정보 조회 중: 날짜=20241030\n",
      "mealService 응답코드: 200\n",
      "mealServiceDietInfo 키 없음: {'RESULT': {'CODE': 'ERROR-300', 'MESSAGE': '필수 값이 누락되어 있습니다. 요청인자를 참고 하십시오.'}}\n",
      "[]\n",
      "8750473 인동고등학교\n",
      "급식 정보 조회 중: 날짜=20241030\n",
      "mealService 응답코드: 200\n",
      "mealServiceDietInfo 키 없음: {'RESULT': {'CODE': 'ERROR-300', 'MESSAGE': '필수 값이 누락되어 있습니다. 요청인자를 참고 하십시오.'}}\n",
      "[]\n"
     ]
    },
    {
     "name": "stderr",
     "output_type": "stream",
     "text": [
      " ... (more hidden) ..."
     ]
    },
    {
     "name": "stdout",
     "output_type": "stream",
     "text": [
      "8750127 점촌고등학교\n",
      "급식 정보 조회 중: 날짜=20241030\n",
      "mealService 응답코드: 200\n",
      "mealServiceDietInfo 키 없음: {'RESULT': {'CODE': 'ERROR-300', 'MESSAGE': '필수 값이 누락되어 있습니다. 요청인자를 참고 하십시오.'}}\n",
      "[]\n",
      "8750559 죽변고등학교\n",
      "급식 정보 조회 중: 날짜=20241030\n"
     ]
    },
    {
     "name": "stderr",
     "output_type": "stream",
     "text": [
      " ... (more hidden) ..."
     ]
    },
    {
     "name": "stdout",
     "output_type": "stream",
     "text": [
      "mealService 응답코드: 200\n",
      "mealServiceDietInfo 키 없음: {'RESULT': {'CODE': 'ERROR-300', 'MESSAGE': '필수 값이 누락되어 있습니다. 요청인자를 참고 하십시오.'}}\n",
      "[]\n",
      "8750205 진량고등학교\n",
      "급식 정보 조회 중: 날짜=20241030\n",
      "mealService 응답코드: 200\n",
      "mealServiceDietInfo 키 없음: {'RESULT': {'CODE': 'ERROR-300', 'MESSAGE': '필수 값이 누락되어 있습니다. 요청인자를 참고 하십시오.'}}\n",
      "[]\n"
     ]
    },
    {
     "name": "stderr",
     "output_type": "stream",
     "text": [
      " ... (more hidden) ..."
     ]
    },
    {
     "name": "stdout",
     "output_type": "stream",
     "text": [
      "8750535 진보고등학교\n",
      "급식 정보 조회 중: 날짜=20241030\n",
      "mealService 응답코드: 200\n",
      "mealServiceDietInfo 키 없음: {'RESULT': {'CODE': 'ERROR-300', 'MESSAGE': '필수 값이 누락되어 있습니다. 요청인자를 참고 하십시오.'}}\n",
      "[]\n",
      "8750558 청도고등학교\n",
      "급식 정보 조회 중: 날짜=20241030\n"
     ]
    },
    {
     "name": "stderr",
     "output_type": "stream",
     "text": [
      " ... (more hidden) ..."
     ]
    },
    {
     "name": "stdout",
     "output_type": "stream",
     "text": [
      "mealService 응답코드: 200\n",
      "mealServiceDietInfo 키 없음: {'RESULT': {'CODE': 'ERROR-300', 'MESSAGE': '필수 값이 누락되어 있습니다. 요청인자를 참고 하십시오.'}}\n",
      "[]\n",
      "8750130 청송고등학교\n",
      "급식 정보 조회 중: 날짜=20241030\n",
      "mealService 응답코드: 200\n",
      "mealServiceDietInfo 키 없음: {'RESULT': {'CODE': 'ERROR-300', 'MESSAGE': '필수 값이 누락되어 있습니다. 요청인자를 참고 하십시오.'}}\n",
      "[]\n"
     ]
    },
    {
     "name": "stderr",
     "output_type": "stream",
     "text": [
      " ... (more hidden) ..."
     ]
    },
    {
     "name": "stdout",
     "output_type": "stream",
     "text": [
      "8750632 청송여자고등학교\n",
      "급식 정보 조회 중: 날짜=20241030\n",
      "mealService 응답코드: 200\n",
      "mealServiceDietInfo 키 없음: {'RESULT': {'CODE': 'ERROR-300', 'MESSAGE': '필수 값이 누락되어 있습니다. 요청인자를 참고 하십시오.'}}\n",
      "[]\n",
      "8750655 포은고등학교\n",
      "급식 정보 조회 중: 날짜=20241030\n",
      "mealService 응답코드: 200\n",
      "mealServiceDietInfo 키 없음: {'RESULT': {'CODE': 'ERROR-300', 'MESSAGE': '필수 값이 누락되어 있습니다. 요청인자를 참고 하십시오.'}}\n",
      "[]\n"
     ]
    },
    {
     "name": "stderr",
     "output_type": "stream",
     "text": [
      " ... (more hidden) ..."
     ]
    },
    {
     "name": "stdout",
     "output_type": "stream",
     "text": [
      "8750133 포항고등학교\n",
      "급식 정보 조회 중: 날짜=20241030\n",
      "mealService 응답코드: 200\n",
      "mealServiceDietInfo 키 없음: {'RESULT': {'CODE': 'ERROR-300', 'MESSAGE': '필수 값이 누락되어 있습니다. 요청인자를 참고 하십시오.'}}\n",
      "[]\n",
      "8750625 포항과학기술고등학교\n",
      "급식 정보 조회 중: 날짜=20241030\n"
     ]
    },
    {
     "name": "stderr",
     "output_type": "stream",
     "text": [
      " ... (more hidden) ..."
     ]
    },
    {
     "name": "stdout",
     "output_type": "stream",
     "text": [
      "mealService 응답코드: 200\n",
      "mealServiceDietInfo 키 없음: {'RESULT': {'CODE': 'ERROR-300', 'MESSAGE': '필수 값이 누락되어 있습니다. 요청인자를 참고 하십시오.'}}\n",
      "[]\n",
      "8750542 포항동성고등학교\n",
      "급식 정보 조회 중: 날짜=20241030\n",
      "mealService 응답코드: 200\n",
      "mealServiceDietInfo 키 없음: {'RESULT': {'CODE': 'ERROR-300', 'MESSAGE': '필수 값이 누락되어 있습니다. 요청인자를 참고 하십시오.'}}\n",
      "[]\n"
     ]
    },
    {
     "name": "stderr",
     "output_type": "stream",
     "text": [
      " ... (more hidden) ..."
     ]
    },
    {
     "name": "stdout",
     "output_type": "stream",
     "text": [
      "8750769 포항보건고등학교\n",
      "급식 정보 조회 중: 날짜=20241030\n",
      "mealService 응답코드: 200\n",
      "mealServiceDietInfo 키 없음: {'RESULT': {'CODE': 'ERROR-300', 'MESSAGE': '필수 값이 누락되어 있습니다. 요청인자를 참고 하십시오.'}}\n",
      "[]\n",
      "8750134 포항여자고등학교\n",
      "급식 정보 조회 중: 날짜=20241030\n"
     ]
    },
    {
     "name": "stderr",
     "output_type": "stream",
     "text": [
      " ... (more hidden) ..."
     ]
    },
    {
     "name": "stdout",
     "output_type": "stream",
     "text": [
      "mealService 응답코드: 200\n",
      "mealServiceDietInfo 키 없음: {'RESULT': {'CODE': 'ERROR-300', 'MESSAGE': '필수 값이 누락되어 있습니다. 요청인자를 참고 하십시오.'}}\n",
      "[]\n",
      "8750292 포항여자전자고등학교\n",
      "급식 정보 조회 중: 날짜=20241030\n",
      "mealService 응답코드: 200\n",
      "mealServiceDietInfo 키 없음: {'RESULT': {'CODE': 'ERROR-300', 'MESSAGE': '필수 값이 누락되어 있습니다. 요청인자를 참고 하십시오.'}}\n",
      "[]\n"
     ]
    },
    {
     "name": "stderr",
     "output_type": "stream",
     "text": [
      " ... (more hidden) ..."
     ]
    },
    {
     "name": "stdout",
     "output_type": "stream",
     "text": [
      "8750208 포항영신고등학교\n",
      "급식 정보 조회 중: 날짜=20241030\n",
      "mealService 응답코드: 200\n",
      "mealServiceDietInfo 키 없음: {'RESULT': {'CODE': 'ERROR-300', 'MESSAGE': '필수 값이 누락되어 있습니다. 요청인자를 참고 하십시오.'}}\n",
      "[]\n",
      "8750209 포항예술고등학교\n",
      "급식 정보 조회 중: 날짜=20241030\n"
     ]
    },
    {
     "name": "stderr",
     "output_type": "stream",
     "text": [
      " ... (more hidden) ..."
     ]
    },
    {
     "name": "stdout",
     "output_type": "stream",
     "text": [
      "mealService 응답코드: 200\n",
      "mealServiceDietInfo 키 없음: {'RESULT': {'CODE': 'ERROR-300', 'MESSAGE': '필수 값이 누락되어 있습니다. 요청인자를 참고 하십시오.'}}\n",
      "[]\n",
      "8750539 포항이동고등학교\n",
      "급식 정보 조회 중: 날짜=20241030\n",
      "mealService 응답코드: 200\n",
      "mealServiceDietInfo 키 없음: {'RESULT': {'CODE': 'ERROR-300', 'MESSAGE': '필수 값이 누락되어 있습니다. 요청인자를 참고 하십시오.'}}\n",
      "[]\n"
     ]
    },
    {
     "name": "stderr",
     "output_type": "stream",
     "text": [
      " ... (more hidden) ..."
     ]
    },
    {
     "name": "stdout",
     "output_type": "stream",
     "text": [
      "8750534 포항장성고등학교\n",
      "급식 정보 조회 중: 날짜=20241030\n",
      "mealService 응답코드: 200\n",
      "mealServiceDietInfo 키 없음: {'RESULT': {'CODE': 'ERROR-300', 'MESSAGE': '필수 값이 누락되어 있습니다. 요청인자를 참고 하십시오.'}}\n",
      "[]\n",
      "8750210 포항제철고등학교\n",
      "급식 정보 조회 중: 날짜=20241030\n"
     ]
    },
    {
     "name": "stderr",
     "output_type": "stream",
     "text": [
      " ... (more hidden) ..."
     ]
    },
    {
     "name": "stdout",
     "output_type": "stream",
     "text": [
      "mealService 응답코드: 200\n",
      "mealServiceDietInfo 키 없음: {'RESULT': {'CODE': 'ERROR-300', 'MESSAGE': '필수 값이 누락되어 있습니다. 요청인자를 참고 하십시오.'}}\n",
      "[]\n",
      "8750337 포항제철공업고등학교\n",
      "급식 정보 조회 중: 날짜=20241030\n",
      "mealService 응답코드: 200\n",
      "mealServiceDietInfo 키 없음: {'RESULT': {'CODE': 'ERROR-300', 'MESSAGE': '필수 값이 누락되어 있습니다. 요청인자를 참고 하십시오.'}}\n",
      "[]\n"
     ]
    },
    {
     "name": "stderr",
     "output_type": "stream",
     "text": [
      " ... (more hidden) ..."
     ]
    },
    {
     "name": "stdout",
     "output_type": "stream",
     "text": [
      "8750211 포항중앙고등학교\n",
      "급식 정보 조회 중: 날짜=20241030\n",
      "mealService 응답코드: 200\n",
      "mealServiceDietInfo 키 없음: {'RESULT': {'CODE': 'ERROR-300', 'MESSAGE': '필수 값이 누락되어 있습니다. 요청인자를 참고 하십시오.'}}\n",
      "[]\n",
      "8750212 포항중앙여자고등학교\n",
      "급식 정보 조회 중: 날짜=20241030\n"
     ]
    },
    {
     "name": "stderr",
     "output_type": "stream",
     "text": [
      " ... (more hidden) ..."
     ]
    },
    {
     "name": "stdout",
     "output_type": "stream",
     "text": [
      "mealService 응답코드: 200\n",
      "mealServiceDietInfo 키 없음: {'RESULT': {'CODE': 'ERROR-300', 'MESSAGE': '필수 값이 누락되어 있습니다. 요청인자를 참고 하십시오.'}}\n",
      "[]\n",
      "8750670 포항흥해공업고등학교\n",
      "급식 정보 조회 중: 날짜=20241030\n",
      "mealService 응답코드: 200\n",
      "mealServiceDietInfo 키 없음: {'RESULT': {'CODE': 'ERROR-300', 'MESSAGE': '필수 값이 누락되어 있습니다. 요청인자를 참고 하십시오.'}}\n",
      "[]\n"
     ]
    },
    {
     "name": "stderr",
     "output_type": "stream",
     "text": [
      " ... (more hidden) ..."
     ]
    },
    {
     "name": "stdout",
     "output_type": "stream",
     "text": [
      "8750475 풍산고등학교\n",
      "급식 정보 조회 중: 날짜=20241030\n",
      "mealService 응답코드: 200\n",
      "mealServiceDietInfo 키 없음: {'RESULT': {'CODE': 'ERROR-300', 'MESSAGE': '필수 값이 누락되어 있습니다. 요청인자를 참고 하십시오.'}}\n",
      "[]\n",
      "8750214 하양여자고등학교\n",
      "급식 정보 조회 중: 날짜=20241030\n"
     ]
    },
    {
     "name": "stderr",
     "output_type": "stream",
     "text": [
      " ... (more hidden) ..."
     ]
    },
    {
     "name": "stdout",
     "output_type": "stream",
     "text": [
      "mealService 응답코드: 200\n",
      "mealServiceDietInfo 키 없음: {'RESULT': {'CODE': 'ERROR-300', 'MESSAGE': '필수 값이 누락되어 있습니다. 요청인자를 참고 하십시오.'}}\n",
      "[]\n",
      "8750763 한국국제조리고등학교\n",
      "급식 정보 조회 중: 날짜=20241030\n",
      "mealService 응답코드: 200\n",
      "mealServiceDietInfo 키 없음: {'RESULT': {'CODE': 'ERROR-300', 'MESSAGE': '필수 값이 누락되어 있습니다. 요청인자를 참고 하십시오.'}}\n",
      "[]\n"
     ]
    },
    {
     "name": "stderr",
     "output_type": "stream",
     "text": [
      " ... (more hidden) ..."
     ]
    },
    {
     "name": "stdout",
     "output_type": "stream",
     "text": [
      "8750757 한국국제통상마이스터고등학교\n",
      "급식 정보 조회 중: 날짜=20241030\n",
      "mealService 응답코드: 200\n",
      "mealServiceDietInfo 키 없음: {'RESULT': {'CODE': 'ERROR-300', 'MESSAGE': '필수 값이 누락되어 있습니다. 요청인자를 참고 하십시오.'}}\n",
      "[]\n",
      "8750775 한국미래농업고등학교\n",
      "급식 정보 조회 중: 날짜=20241030\n"
     ]
    },
    {
     "name": "stderr",
     "output_type": "stream",
     "text": [
      " ... (more hidden) ..."
     ]
    },
    {
     "name": "stdout",
     "output_type": "stream",
     "text": [
      "mealService 응답코드: 200\n",
      "mealServiceDietInfo 키 없음: {'RESULT': {'CODE': 'ERROR-300', 'MESSAGE': '필수 값이 누락되어 있습니다. 요청인자를 참고 하십시오.'}}\n",
      "[]\n",
      "8750807 한국미래산업고등학교\n",
      "급식 정보 조회 중: 날짜=20241030\n",
      "mealService 응답코드: 200\n",
      "mealServiceDietInfo 키 없음: {'RESULT': {'CODE': 'ERROR-300', 'MESSAGE': '필수 값이 누락되어 있습니다. 요청인자를 참고 하십시오.'}}\n",
      "[]\n"
     ]
    },
    {
     "name": "stderr",
     "output_type": "stream",
     "text": [
      " ... (more hidden) ..."
     ]
    },
    {
     "name": "stdout",
     "output_type": "stream",
     "text": [
      "8750630 한국산림과학고등학교\n",
      "급식 정보 조회 중: 날짜=20241030\n",
      "mealService 응답코드: 200\n",
      "mealServiceDietInfo 키 없음: {'RESULT': {'CODE': 'ERROR-300', 'MESSAGE': '필수 값이 누락되어 있습니다. 요청인자를 참고 하십시오.'}}\n",
      "[]\n"
     ]
    },
    {
     "name": "stderr",
     "output_type": "stream",
     "text": [
      " ... (more hidden) ..."
     ]
    },
    {
     "name": "stdout",
     "output_type": "stream",
     "text": [
      "8750556 한국생명과학고등학교\n",
      "급식 정보 조회 중: 날짜=20241030\n",
      "mealService 응답코드: 200\n",
      "mealServiceDietInfo 키 없음: {'RESULT': {'CODE': 'ERROR-300', 'MESSAGE': '필수 값이 누락되어 있습니다. 요청인자를 참고 하십시오.'}}\n",
      "[]\n",
      "8750652 한국원자력마이스터고등학교\n",
      "급식 정보 조회 중: 날짜=20241030\n"
     ]
    },
    {
     "name": "stderr",
     "output_type": "stream",
     "text": [
      " ... (more hidden) ..."
     ]
    },
    {
     "name": "stdout",
     "output_type": "stream",
     "text": [
      "mealService 응답코드: 200\n",
      "mealServiceDietInfo 키 없음: {'RESULT': {'CODE': 'ERROR-300', 'MESSAGE': '필수 값이 누락되어 있습니다. 요청인자를 참고 하십시오.'}}\n",
      "[]\n",
      "8750830 한국조리명장고등학교\n",
      "급식 정보 조회 중: 날짜=20241030\n",
      "mealService 응답코드: 200\n",
      "mealServiceDietInfo 키 없음: {'RESULT': {'CODE': 'ERROR-300', 'MESSAGE': '필수 값이 누락되어 있습니다. 요청인자를 참고 하십시오.'}}\n",
      "[]\n"
     ]
    },
    {
     "name": "stderr",
     "output_type": "stream",
     "text": [
      " ... (more hidden) ..."
     ]
    },
    {
     "name": "stdout",
     "output_type": "stream",
     "text": [
      "8750831 한국철도고등학교\n",
      "급식 정보 조회 중: 날짜=20241030\n",
      "mealService 응답코드: 200\n",
      "mealServiceDietInfo 키 없음: {'RESULT': {'CODE': 'ERROR-300', 'MESSAGE': '필수 값이 누락되어 있습니다. 요청인자를 참고 하십시오.'}}\n",
      "[]\n",
      "8750732 한국펫고등학교\n",
      "급식 정보 조회 중: 날짜=20241030\n"
     ]
    },
    {
     "name": "stderr",
     "output_type": "stream",
     "text": [
      " ... (more hidden) ..."
     ]
    },
    {
     "name": "stdout",
     "output_type": "stream",
     "text": [
      "mealService 응답코드: 200\n",
      "mealServiceDietInfo 키 없음: {'RESULT': {'CODE': 'ERROR-300', 'MESSAGE': '필수 값이 누락되어 있습니다. 요청인자를 참고 하십시오.'}}\n",
      "[]\n",
      "8750804 한국해양마이스터고등학교\n",
      "급식 정보 조회 중: 날짜=20241030\n",
      "mealService 응답코드: 200\n",
      "mealServiceDietInfo 키 없음: {'RESULT': {'CODE': 'ERROR-300', 'MESSAGE': '필수 값이 누락되어 있습니다. 요청인자를 참고 하십시오.'}}\n",
      "[]\n"
     ]
    },
    {
     "name": "stderr",
     "output_type": "stream",
     "text": [
      " ... (more hidden) ..."
     ]
    },
    {
     "name": "stdout",
     "output_type": "stream",
     "text": [
      "8750216 한일여자고등학교\n",
      "급식 정보 조회 중: 날짜=20241030\n",
      "mealService 응답코드: 200\n",
      "mealServiceDietInfo 키 없음: {'RESULT': {'CODE': 'ERROR-300', 'MESSAGE': '필수 값이 누락되어 있습니다. 요청인자를 참고 하십시오.'}}\n",
      "[]\n"
     ]
    },
    {
     "name": "stderr",
     "output_type": "stream",
     "text": [
      " ... (more hidden) ..."
     ]
    },
    {
     "name": "stdout",
     "output_type": "stream",
     "text": [
      "8750217 함창고등학교\n",
      "급식 정보 조회 중: 날짜=20241030\n",
      "mealService 응답코드: 200\n",
      "mealServiceDietInfo 키 없음: {'RESULT': {'CODE': 'ERROR-300', 'MESSAGE': '필수 값이 누락되어 있습니다. 요청인자를 참고 하십시오.'}}\n",
      "[]\n",
      "8750136 현서고등학교\n",
      "급식 정보 조회 중: 날짜=20241030\n"
     ]
    },
    {
     "name": "stderr",
     "output_type": "stream",
     "text": [
      " ... (more hidden) ..."
     ]
    },
    {
     "name": "stdout",
     "output_type": "stream",
     "text": [
      "mealService 응답코드: 200\n",
      "mealServiceDietInfo 키 없음: {'RESULT': {'CODE': 'ERROR-300', 'MESSAGE': '필수 값이 누락되어 있습니다. 요청인자를 참고 하십시오.'}}\n",
      "[]\n",
      "8750218 현일고등학교\n",
      "급식 정보 조회 중: 날짜=20241030\n",
      "mealService 응답코드: 200\n",
      "mealServiceDietInfo 키 없음: {'RESULT': {'CODE': 'ERROR-300', 'MESSAGE': '필수 값이 누락되어 있습니다. 요청인자를 참고 하십시오.'}}\n",
      "[]\n"
     ]
    },
    {
     "name": "stderr",
     "output_type": "stream",
     "text": [
      " ... (more hidden) ..."
     ]
    },
    {
     "name": "stdout",
     "output_type": "stream",
     "text": [
      "8750566 형곡고등학교\n",
      "급식 정보 조회 중: 날짜=20241030\n",
      "mealService 응답코드: 200\n",
      "mealServiceDietInfo 키 없음: {'RESULT': {'CODE': 'ERROR-300', 'MESSAGE': '필수 값이 누락되어 있습니다. 요청인자를 참고 하십시오.'}}\n",
      "[]\n",
      "8750138 화령고등학교\n",
      "급식 정보 조회 중: 날짜=20241030\n"
     ]
    },
    {
     "name": "stderr",
     "output_type": "stream",
     "text": [
      " ... (more hidden) ..."
     ]
    },
    {
     "name": "stdout",
     "output_type": "stream",
     "text": [
      "mealService 응답코드: 200\n",
      "mealServiceDietInfo 키 없음: {'RESULT': {'CODE': 'ERROR-300', 'MESSAGE': '필수 값이 누락되어 있습니다. 요청인자를 참고 하십시오.'}}\n",
      "[]\n",
      "8750669 효청보건고등학교\n",
      "급식 정보 조회 중: 날짜=20241030\n",
      "mealService 응답코드: 200\n",
      "mealServiceDietInfo 키 없음: {'RESULT': {'CODE': 'ERROR-300', 'MESSAGE': '필수 값이 누락되어 있습니다. 요청인자를 참고 하십시오.'}}\n",
      "[]\n"
     ]
    },
    {
     "name": "stderr",
     "output_type": "stream",
     "text": [
      " ... (more hidden) ...\n"
     ]
    },
    {
     "name": "stdout",
     "output_type": "stream",
     "text": [
      "8750140 후포고등학교\n",
      "급식 정보 조회 중: 날짜=20241030\n",
      "mealService 응답코드: 200\n",
      "mealServiceDietInfo 키 없음: {'RESULT': {'CODE': 'ERROR-300', 'MESSAGE': '필수 값이 누락되어 있습니다. 요청인자를 참고 하십시오.'}}\n",
      "[]\n",
      "응답코드 : 200\n"
     ]
    },
    {
     "name": "stderr",
     "output_type": "stream",
     "text": [
      " ... (more hidden) ..."
     ]
    },
    {
     "name": "stdout",
     "output_type": "stream",
     "text": [
      "9010438 간디고등학교\n",
      "급식 정보 조회 중: 날짜=20241030\n",
      "mealService 응답코드: 200\n",
      "mealServiceDietInfo 키 없음: {'RESULT': {'CODE': 'ERROR-300', 'MESSAGE': '필수 값이 누락되어 있습니다. 요청인자를 참고 하십시오.'}}\n",
      "[]\n",
      "9010079 거제고등학교\n",
      "급식 정보 조회 중: 날짜=20241030\n"
     ]
    },
    {
     "name": "stderr",
     "output_type": "stream",
     "text": [
      " ... (more hidden) ..."
     ]
    },
    {
     "name": "stdout",
     "output_type": "stream",
     "text": [
      "mealService 응답코드: 200\n",
      "mealServiceDietInfo 키 없음: {'RESULT': {'CODE': 'ERROR-300', 'MESSAGE': '필수 값이 누락되어 있습니다. 요청인자를 참고 하십시오.'}}\n",
      "[]\n",
      "9010123 거제공업고등학교\n",
      "급식 정보 조회 중: 날짜=20241030\n",
      "mealService 응답코드: 200\n",
      "mealServiceDietInfo 키 없음: {'RESULT': {'CODE': 'ERROR-300', 'MESSAGE': '필수 값이 누락되어 있습니다. 요청인자를 참고 하십시오.'}}\n",
      "[]\n"
     ]
    },
    {
     "name": "stderr",
     "output_type": "stream",
     "text": [
      " ... (more hidden) ..."
     ]
    },
    {
     "name": "stdout",
     "output_type": "stream",
     "text": [
      "9010480 거제상문고등학교\n",
      "급식 정보 조회 중: 날짜=20241030\n",
      "mealService 응답코드: 200\n",
      "mealServiceDietInfo 키 없음: {'RESULT': {'CODE': 'ERROR-300', 'MESSAGE': '필수 값이 누락되어 있습니다. 요청인자를 참고 하십시오.'}}\n",
      "[]\n",
      "9010479 거제여자상업고등학교\n",
      "급식 정보 조회 중: 날짜=20241030\n",
      "mealService 응답코드: 200\n",
      "mealServiceDietInfo 키 없음: {'RESULT': {'CODE': 'ERROR-300', 'MESSAGE': '필수 값이 누락되어 있습니다. 요청인자를 참고 하십시오.'}}\n"
     ]
    },
    {
     "name": "stderr",
     "output_type": "stream",
     "text": [
      " ... (more hidden) ..."
     ]
    },
    {
     "name": "stdout",
     "output_type": "stream",
     "text": [
      "[]\n",
      "9010323 거제옥포고등학교\n",
      "급식 정보 조회 중: 날짜=20241030\n",
      "mealService 응답코드: 200\n",
      "mealServiceDietInfo 키 없음: {'RESULT': {'CODE': 'ERROR-300', 'MESSAGE': '필수 값이 누락되어 있습니다. 요청인자를 참고 하십시오.'}}\n",
      "[]\n"
     ]
    },
    {
     "name": "stderr",
     "output_type": "stream",
     "text": [
      " ... (more hidden) ..."
     ]
    },
    {
     "name": "stdout",
     "output_type": "stream",
     "text": [
      "9010275 거제제일고등학교\n",
      "급식 정보 조회 중: 날짜=20241030\n",
      "mealService 응답코드: 200\n",
      "mealServiceDietInfo 키 없음: {'RESULT': {'CODE': 'ERROR-300', 'MESSAGE': '필수 값이 누락되어 있습니다. 요청인자를 참고 하십시오.'}}\n",
      "[]\n",
      "9010031 거제중앙고등학교\n",
      "급식 정보 조회 중: 날짜=20241030\n",
      "mealService 응답코드: 200\n",
      "mealServiceDietInfo 키 없음: {'RESULT': {'CODE': 'ERROR-300', 'MESSAGE': '필수 값이 누락되어 있습니다. 요청인자를 참고 하십시오.'}}\n",
      "[]\n"
     ]
    },
    {
     "name": "stderr",
     "output_type": "stream",
     "text": [
      " ... (more hidden) ..."
     ]
    },
    {
     "name": "stdout",
     "output_type": "stream",
     "text": [
      "9010080 거창고등학교\n",
      "급식 정보 조회 중: 날짜=20241030\n",
      "mealService 응답코드: 200\n",
      "mealServiceDietInfo 키 없음: {'RESULT': {'CODE': 'ERROR-300', 'MESSAGE': '필수 값이 누락되어 있습니다. 요청인자를 참고 하십시오.'}}\n",
      "[]\n",
      "9010081 거창대성고등학교\n",
      "급식 정보 조회 중: 날짜=20241030\n"
     ]
    },
    {
     "name": "stderr",
     "output_type": "stream",
     "text": [
      " ... (more hidden) ..."
     ]
    },
    {
     "name": "stdout",
     "output_type": "stream",
     "text": [
      "mealService 응답코드: 200\n",
      "mealServiceDietInfo 키 없음: {'RESULT': {'CODE': 'ERROR-300', 'MESSAGE': '필수 값이 누락되어 있습니다. 요청인자를 참고 하십시오.'}}\n",
      "[]\n",
      "9010690 거창승강기고등학교\n",
      "급식 정보 조회 중: 날짜=20241030\n",
      "mealService 응답코드: 200\n",
      "mealServiceDietInfo 키 없음: {'RESULT': {'CODE': 'ERROR-300', 'MESSAGE': '필수 값이 누락되어 있습니다. 요청인자를 참고 하십시오.'}}\n",
      "[]\n"
     ]
    },
    {
     "name": "stderr",
     "output_type": "stream",
     "text": [
      " ... (more hidden) ..."
     ]
    },
    {
     "name": "stdout",
     "output_type": "stream",
     "text": [
      "9010032 거창여자고등학교\n",
      "급식 정보 조회 중: 날짜=20241030\n",
      "mealService 응답코드: 200\n",
      "mealServiceDietInfo 키 없음: {'RESULT': {'CODE': 'ERROR-300', 'MESSAGE': '필수 값이 누락되어 있습니다. 요청인자를 참고 하십시오.'}}\n",
      "[]\n",
      "9010240 거창중앙고등학교\n",
      "급식 정보 조회 중: 날짜=20241030\n"
     ]
    },
    {
     "name": "stderr",
     "output_type": "stream",
     "text": [
      " ... (more hidden) ..."
     ]
    },
    {
     "name": "stdout",
     "output_type": "stream",
     "text": [
      "mealService 응답코드: 200\n",
      "mealServiceDietInfo 키 없음: {'RESULT': {'CODE': 'ERROR-300', 'MESSAGE': '필수 값이 누락되어 있습니다. 요청인자를 참고 하십시오.'}}\n",
      "[]\n",
      "9010437 경남간호고등학교\n",
      "급식 정보 조회 중: 날짜=20241030\n",
      "mealService 응답코드: 200\n",
      "mealServiceDietInfo 키 없음: {'RESULT': {'CODE': 'ERROR-300', 'MESSAGE': '필수 값이 누락되어 있습니다. 요청인자를 참고 하십시오.'}}\n",
      "[]\n"
     ]
    },
    {
     "name": "stderr",
     "output_type": "stream",
     "text": [
      " ... (more hidden) ..."
     ]
    },
    {
     "name": "stdout",
     "output_type": "stream",
     "text": [
      "9010033 경남과학고등학교\n",
      "급식 정보 조회 중: 날짜=20241030\n",
      "mealService 응답코드: 200\n",
      "mealServiceDietInfo 키 없음: {'RESULT': {'CODE': 'ERROR-300', 'MESSAGE': '필수 값이 누락되어 있습니다. 요청인자를 참고 하십시오.'}}\n",
      "[]\n",
      "9010334 경남관광고등학교\n",
      "급식 정보 조회 중: 날짜=20241030\n"
     ]
    },
    {
     "name": "stderr",
     "output_type": "stream",
     "text": [
      " ... (more hidden) ..."
     ]
    },
    {
     "name": "stdout",
     "output_type": "stream",
     "text": [
      "mealService 응답코드: 200\n",
      "mealServiceDietInfo 키 없음: {'RESULT': {'CODE': 'ERROR-300', 'MESSAGE': '필수 값이 누락되어 있습니다. 요청인자를 참고 하십시오.'}}\n",
      "[]\n",
      "9010505 경남로봇고등학교\n",
      "급식 정보 조회 중: 날짜=20241030\n",
      "mealService 응답코드: 200\n",
      "mealServiceDietInfo 키 없음: {'RESULT': {'CODE': 'ERROR-300', 'MESSAGE': '필수 값이 누락되어 있습니다. 요청인자를 참고 하십시오.'}}\n",
      "[]\n"
     ]
    },
    {
     "name": "stderr",
     "output_type": "stream",
     "text": [
      " ... (more hidden) ..."
     ]
    },
    {
     "name": "stdout",
     "output_type": "stream",
     "text": [
      "9010332 경남산업고등학교\n",
      "급식 정보 조회 중: 날짜=20241030\n",
      "mealService 응답코드: 200\n",
      "mealServiceDietInfo 키 없음: {'RESULT': {'CODE': 'ERROR-300', 'MESSAGE': '필수 값이 누락되어 있습니다. 요청인자를 참고 하십시오.'}}\n",
      "[]\n",
      "9010082 경남예술고등학교\n",
      "급식 정보 조회 중: 날짜=20241030\n"
     ]
    },
    {
     "name": "stderr",
     "output_type": "stream",
     "text": [
      " ... (more hidden) ..."
     ]
    },
    {
     "name": "stdout",
     "output_type": "stream",
     "text": [
      "mealService 응답코드: 200\n",
      "mealServiceDietInfo 키 없음: {'RESULT': {'CODE': 'ERROR-300', 'MESSAGE': '필수 값이 누락되어 있습니다. 요청인자를 참고 하십시오.'}}\n",
      "[]\n",
      "9010083 경남외국어고등학교\n",
      "급식 정보 조회 중: 날짜=20241030\n",
      "mealService 응답코드: 200\n",
      "mealServiceDietInfo 키 없음: {'RESULT': {'CODE': 'ERROR-300', 'MESSAGE': '필수 값이 누락되어 있습니다. 요청인자를 참고 하십시오.'}}\n",
      "[]\n"
     ]
    },
    {
     "name": "stderr",
     "output_type": "stream",
     "text": [
      " ... (more hidden) ..."
     ]
    },
    {
     "name": "stdout",
     "output_type": "stream",
     "text": [
      "9010335 경남자동차고등학교\n",
      "급식 정보 조회 중: 날짜=20241030\n",
      "mealService 응답코드: 200\n",
      "mealServiceDietInfo 키 없음: {'RESULT': {'CODE': 'ERROR-300', 'MESSAGE': '필수 값이 누락되어 있습니다. 요청인자를 참고 하십시오.'}}\n",
      "[]\n",
      "9010128 경남자영고등학교\n",
      "급식 정보 조회 중: 날짜=20241030\n"
     ]
    },
    {
     "name": "stderr",
     "output_type": "stream",
     "text": [
      " ... (more hidden) ..."
     ]
    },
    {
     "name": "stdout",
     "output_type": "stream",
     "text": [
      "mealService 응답코드: 200\n",
      "mealServiceDietInfo 키 없음: {'RESULT': {'CODE': 'ERROR-300', 'MESSAGE': '필수 값이 누락되어 있습니다. 요청인자를 참고 하십시오.'}}\n",
      "[]\n",
      "9010234 경남정보고등학교\n",
      "급식 정보 조회 중: 날짜=20241030\n",
      "mealService 응답코드: 200\n",
      "mealServiceDietInfo 키 없음: {'RESULT': {'CODE': 'ERROR-300', 'MESSAGE': '필수 값이 누락되어 있습니다. 요청인자를 참고 하십시오.'}}\n",
      "[]\n"
     ]
    },
    {
     "name": "stderr",
     "output_type": "stream",
     "text": [
      " ... (more hidden) ..."
     ]
    },
    {
     "name": "stdout",
     "output_type": "stream",
     "text": [
      "9010034 경남체육고등학교\n",
      "급식 정보 조회 중: 날짜=20241030\n",
      "mealService 응답코드: 200\n",
      "mealServiceDietInfo 키 없음: {'RESULT': {'CODE': 'ERROR-300', 'MESSAGE': '필수 값이 누락되어 있습니다. 요청인자를 참고 하십시오.'}}\n",
      "[]\n",
      "9010129 경남항공고등학교\n",
      "급식 정보 조회 중: 날짜=20241030\n"
     ]
    },
    {
     "name": "stderr",
     "output_type": "stream",
     "text": [
      " ... (more hidden) ..."
     ]
    },
    {
     "name": "stdout",
     "output_type": "stream",
     "text": [
      "mealService 응답코드: 200\n",
      "mealServiceDietInfo 키 없음: {'RESULT': {'CODE': 'ERROR-300', 'MESSAGE': '필수 값이 누락되어 있습니다. 요청인자를 참고 하십시오.'}}\n",
      "[]\n",
      "9010301 경남해양과학고등학교\n",
      "급식 정보 조회 중: 날짜=20241030\n",
      "mealService 응답코드: 200\n",
      "mealServiceDietInfo 키 없음: {'RESULT': {'CODE': 'ERROR-300', 'MESSAGE': '필수 값이 누락되어 있습니다. 요청인자를 참고 하십시오.'}}\n",
      "[]\n"
     ]
    },
    {
     "name": "stderr",
     "output_type": "stream",
     "text": [
      " ... (more hidden) ..."
     ]
    },
    {
     "name": "stdout",
     "output_type": "stream",
     "text": [
      "9010084 경상고등학교\n",
      "급식 정보 조회 중: 날짜=20241030\n",
      "mealService 응답코드: 200\n",
      "mealServiceDietInfo 키 없음: {'RESULT': {'CODE': 'ERROR-300', 'MESSAGE': '필수 값이 누락되어 있습니다. 요청인자를 참고 하십시오.'}}\n",
      "[]\n",
      "C020714 경상국립대학교사범대학부설고등학교\n",
      "급식 정보 조회 중: 날짜=20241030\n"
     ]
    },
    {
     "name": "stderr",
     "output_type": "stream",
     "text": [
      " ... (more hidden) ..."
     ]
    },
    {
     "name": "stdout",
     "output_type": "stream",
     "text": [
      "mealService 응답코드: 200\n",
      "mealServiceDietInfo 키 없음: {'RESULT': {'CODE': 'ERROR-300', 'MESSAGE': '필수 값이 누락되어 있습니다. 요청인자를 참고 하십시오.'}}\n",
      "[]\n",
      "9010280 경진고등학교\n",
      "급식 정보 조회 중: 날짜=20241030\n",
      "mealService 응답코드: 200\n",
      "mealServiceDietInfo 키 없음: {'RESULT': {'CODE': 'ERROR-300', 'MESSAGE': '필수 값이 누락되어 있습니다. 요청인자를 참고 하십시오.'}}\n",
      "[]\n"
     ]
    },
    {
     "name": "stderr",
     "output_type": "stream",
     "text": [
      " ... (more hidden) ..."
     ]
    },
    {
     "name": "stdout",
     "output_type": "stream",
     "text": [
      "9010085 경해여자고등학교\n",
      "급식 정보 조회 중: 날짜=20241030\n",
      "mealService 응답코드: 200\n",
      "mealServiceDietInfo 키 없음: {'RESULT': {'CODE': 'ERROR-300', 'MESSAGE': '필수 값이 누락되어 있습니다. 요청인자를 참고 하십시오.'}}\n",
      "[]\n",
      "9010160 고성고등학교\n",
      "급식 정보 조회 중: 날짜=20241030\n",
      "mealService 응답코드: 200\n",
      "mealServiceDietInfo 키 없음: {'RESULT': {'CODE': 'ERROR-300', 'MESSAGE': '필수 값이 누락되어 있습니다. 요청인자를 참고 하십시오.'}}\n",
      "[]\n"
     ]
    },
    {
     "name": "stderr",
     "output_type": "stream",
     "text": [
      " ... (more hidden) ..."
     ]
    },
    {
     "name": "stdout",
     "output_type": "stream",
     "text": [
      "9010276 고성중앙고등학교\n",
      "급식 정보 조회 중: 날짜=20241030\n",
      "mealService 응답코드: 200\n",
      "mealServiceDietInfo 키 없음: {'RESULT': {'CODE': 'ERROR-300', 'MESSAGE': '필수 값이 누락되어 있습니다. 요청인자를 참고 하십시오.'}}\n",
      "[]\n",
      "9010037 곤양고등학교\n",
      "급식 정보 조회 중: 날짜=20241030\n"
     ]
    },
    {
     "name": "stderr",
     "output_type": "stream",
     "text": [
      " ... (more hidden) ..."
     ]
    },
    {
     "name": "stdout",
     "output_type": "stream",
     "text": [
      "mealService 응답코드: 200\n",
      "mealServiceDietInfo 키 없음: {'RESULT': {'CODE': 'ERROR-300', 'MESSAGE': '필수 값이 누락되어 있습니다. 요청인자를 참고 하십시오.'}}\n",
      "[]\n",
      "9010388 공군항공과학고등학교\n",
      "급식 정보 조회 중: 날짜=20241030\n",
      "mealService 응답코드: 200\n",
      "mealServiceDietInfo 키 없음: {'RESULT': {'CODE': 'ERROR-300', 'MESSAGE': '필수 값이 누락되어 있습니다. 요청인자를 참고 하십시오.'}}\n",
      "[]\n"
     ]
    },
    {
     "name": "stderr",
     "output_type": "stream",
     "text": [
      " ... (more hidden) ..."
     ]
    },
    {
     "name": "stdout",
     "output_type": "stream",
     "text": [
      "9010516 구산고등학교\n",
      "급식 정보 조회 중: 날짜=20241030\n",
      "mealService 응답코드: 200\n",
      "mealServiceDietInfo 키 없음: {'RESULT': {'CODE': 'ERROR-300', 'MESSAGE': '필수 값이 누락되어 있습니다. 요청인자를 참고 하십시오.'}}\n",
      "[]\n",
      "9010086 군북고등학교\n",
      "급식 정보 조회 중: 날짜=20241030\n",
      "mealService 응답코드: 200\n",
      "mealServiceDietInfo 키 없음: {'RESULT': {'CODE': 'ERROR-300', 'MESSAGE': '필수 값이 누락되어 있습니다. 요청인자를 참고 하십시오.'}}\n",
      "[]\n"
     ]
    },
    {
     "name": "stderr",
     "output_type": "stream",
     "text": [
      " ... (more hidden) ..."
     ]
    },
    {
     "name": "stdout",
     "output_type": "stream",
     "text": [
      "9010038 금남고등학교\n",
      "급식 정보 조회 중: 날짜=20241030\n",
      "mealService 응답코드: 200\n",
      "mealServiceDietInfo 키 없음: {'RESULT': {'CODE': 'ERROR-300', 'MESSAGE': '필수 값이 누락되어 있습니다. 요청인자를 참고 하십시오.'}}\n",
      "[]\n",
      "9010039 김해가야고등학교\n",
      "급식 정보 조회 중: 날짜=20241030\n"
     ]
    },
    {
     "name": "stderr",
     "output_type": "stream",
     "text": [
      " ... (more hidden) ..."
     ]
    },
    {
     "name": "stdout",
     "output_type": "stream",
     "text": [
      "mealService 응답코드: 200\n",
      "mealServiceDietInfo 키 없음: {'RESULT': {'CODE': 'ERROR-300', 'MESSAGE': '필수 값이 누락되어 있습니다. 요청인자를 참고 하십시오.'}}\n",
      "[]\n",
      "9010130 김해건설공업고등학교\n",
      "급식 정보 조회 중: 날짜=20241030\n",
      "mealService 응답코드: 200\n",
      "mealServiceDietInfo 키 없음: {'RESULT': {'CODE': 'ERROR-300', 'MESSAGE': '필수 값이 누락되어 있습니다. 요청인자를 참고 하십시오.'}}\n",
      "[]\n"
     ]
    },
    {
     "name": "stderr",
     "output_type": "stream",
     "text": [
      " ... (more hidden) ..."
     ]
    },
    {
     "name": "stdout",
     "output_type": "stream",
     "text": [
      "9010040 김해경원고등학교\n",
      "급식 정보 조회 중: 날짜=20241030\n",
      "mealService 응답코드: 200\n",
      "mealServiceDietInfo 키 없음: {'RESULT': {'CODE': 'ERROR-300', 'MESSAGE': '필수 값이 누락되어 있습니다. 요청인자를 참고 하십시오.'}}\n",
      "[]\n",
      "9010041 김해고등학교\n",
      "급식 정보 조회 중: 날짜=20241030\n",
      "mealService 응답코드: 200\n",
      "mealServiceDietInfo 키 없음: {'RESULT': {'CODE': 'ERROR-300', 'MESSAGE': '필수 값이 누락되어 있습니다. 요청인자를 참고 하십시오.'}}\n",
      "[]\n"
     ]
    },
    {
     "name": "stderr",
     "output_type": "stream",
     "text": [
      " ... (more hidden) ..."
     ]
    },
    {
     "name": "stdout",
     "output_type": "stream",
     "text": [
      "9010282 김해대청고등학교\n",
      "급식 정보 조회 중: 날짜=20241030\n",
      "mealService 응답코드: 200\n",
      "mealServiceDietInfo 키 없음: {'RESULT': {'CODE': 'ERROR-300', 'MESSAGE': '필수 값이 누락되어 있습니다. 요청인자를 참고 하십시오.'}}\n",
      "[]\n"
     ]
    },
    {
     "name": "stderr",
     "output_type": "stream",
     "text": [
      " ... (more hidden) ..."
     ]
    },
    {
     "name": "stdout",
     "output_type": "stream",
     "text": [
      "9010281 김해분성고등학교\n",
      "급식 정보 조회 중: 날짜=20241030\n",
      "mealService 응답코드: 200\n",
      "mealServiceDietInfo 키 없음: {'RESULT': {'CODE': 'ERROR-300', 'MESSAGE': '필수 값이 누락되어 있습니다. 요청인자를 참고 하십시오.'}}\n",
      "[]\n",
      "9010294 김해분성여자고등학교\n",
      "급식 정보 조회 중: 날짜=20241030\n"
     ]
    },
    {
     "name": "stderr",
     "output_type": "stream",
     "text": [
      " ... (more hidden) ..."
     ]
    },
    {
     "name": "stdout",
     "output_type": "stream",
     "text": [
      "mealService 응답코드: 200\n",
      "mealServiceDietInfo 키 없음: {'RESULT': {'CODE': 'ERROR-300', 'MESSAGE': '필수 값이 누락되어 있습니다. 요청인자를 참고 하십시오.'}}\n",
      "[]\n",
      "9010295 김해삼문고등학교\n",
      "급식 정보 조회 중: 날짜=20241030\n",
      "mealService 응답코드: 200\n",
      "mealServiceDietInfo 키 없음: {'RESULT': {'CODE': 'ERROR-300', 'MESSAGE': '필수 값이 누락되어 있습니다. 요청인자를 참고 하십시오.'}}\n",
      "[]\n"
     ]
    },
    {
     "name": "stderr",
     "output_type": "stream",
     "text": [
      " ... (more hidden) ..."
     ]
    },
    {
     "name": "stdout",
     "output_type": "stream",
     "text": [
      "9010346 김해삼방고등학교\n",
      "급식 정보 조회 중: 날짜=20241030\n",
      "mealService 응답코드: 200\n",
      "mealServiceDietInfo 키 없음: {'RESULT': {'CODE': 'ERROR-300', 'MESSAGE': '필수 값이 누락되어 있습니다. 요청인자를 참고 하십시오.'}}\n",
      "[]\n",
      "9010327 김해생명과학고등학교\n",
      "급식 정보 조회 중: 날짜=20241030\n",
      "mealService 응답코드: 200\n",
      "mealServiceDietInfo 키 없음: {'RESULT': {'CODE': 'ERROR-300', 'MESSAGE': '필수 값이 누락되어 있습니다. 요청인자를 참고 하십시오.'}}\n",
      "[]\n"
     ]
    },
    {
     "name": "stderr",
     "output_type": "stream",
     "text": [
      " ... (more hidden) ..."
     ]
    },
    {
     "name": "stdout",
     "output_type": "stream",
     "text": [
      "9010537 김해수남고등학교\n",
      "급식 정보 조회 중: 날짜=20241030\n",
      "mealService 응답코드: 200\n",
      "mealServiceDietInfo 키 없음: {'RESULT': {'CODE': 'ERROR-300', 'MESSAGE': '필수 값이 누락되어 있습니다. 요청인자를 참고 하십시오.'}}\n",
      "[]\n",
      "9010042 김해여자고등학교\n",
      "급식 정보 조회 중: 날짜=20241030\n",
      "mealService 응답코드: 200\n",
      "mealServiceDietInfo 키 없음: {'RESULT': {'CODE': 'ERROR-300', 'MESSAGE': '필수 값이 누락되어 있습니다. 요청인자를 참고 하십시오.'}}\n",
      "[]\n"
     ]
    },
    {
     "name": "stderr",
     "output_type": "stream",
     "text": [
      " ... (more hidden) ..."
     ]
    },
    {
     "name": "stdout",
     "output_type": "stream",
     "text": [
      "9010321 김해영운고등학교\n",
      "급식 정보 조회 중: 날짜=20241030\n",
      "mealService 응답코드: 200\n",
      "mealServiceDietInfo 키 없음: {'RESULT': {'CODE': 'ERROR-300', 'MESSAGE': '필수 값이 누락되어 있습니다. 요청인자를 참고 하십시오.'}}\n",
      "[]\n",
      "9010322 김해외국어고등학교\n",
      "급식 정보 조회 중: 날짜=20241030\n"
     ]
    },
    {
     "name": "stderr",
     "output_type": "stream",
     "text": [
      " ... (more hidden) ..."
     ]
    },
    {
     "name": "stdout",
     "output_type": "stream",
     "text": [
      "mealService 응답코드: 200\n",
      "mealServiceDietInfo 키 없음: {'RESULT': {'CODE': 'ERROR-300', 'MESSAGE': '필수 값이 누락되어 있습니다. 요청인자를 참고 하십시오.'}}\n",
      "[]\n",
      "9010431 김해율하고등학교\n",
      "급식 정보 조회 중: 날짜=20241030\n",
      "mealService 응답코드: 200\n",
      "mealServiceDietInfo 키 없음: {'RESULT': {'CODE': 'ERROR-300', 'MESSAGE': '필수 값이 누락되어 있습니다. 요청인자를 참고 하십시오.'}}\n",
      "[]\n"
     ]
    },
    {
     "name": "stderr",
     "output_type": "stream",
     "text": [
      " ... (more hidden) ..."
     ]
    },
    {
     "name": "stdout",
     "output_type": "stream",
     "text": [
      "9010462 김해임호고등학교\n",
      "급식 정보 조회 중: 날짜=20241030\n",
      "mealService 응답코드: 200\n",
      "mealServiceDietInfo 키 없음: {'RESULT': {'CODE': 'ERROR-300', 'MESSAGE': '필수 값이 누락되어 있습니다. 요청인자를 참고 하십시오.'}}\n",
      "[]\n",
      "9010430 김해제일고등학교\n",
      "급식 정보 조회 중: 날짜=20241030\n"
     ]
    },
    {
     "name": "stderr",
     "output_type": "stream",
     "text": [
      " ... (more hidden) ..."
     ]
    },
    {
     "name": "stdout",
     "output_type": "stream",
     "text": [
      "mealService 응답코드: 200\n",
      "mealServiceDietInfo 키 없음: {'RESULT': {'CODE': 'ERROR-300', 'MESSAGE': '필수 값이 누락되어 있습니다. 요청인자를 참고 하십시오.'}}\n",
      "[]\n",
      "9010087 김해중앙여자고등학교\n",
      "급식 정보 조회 중: 날짜=20241030\n",
      "mealService 응답코드: 200\n",
      "mealServiceDietInfo 키 없음: {'RESULT': {'CODE': 'ERROR-300', 'MESSAGE': '필수 값이 누락되어 있습니다. 요청인자를 참고 하십시오.'}}\n",
      "[]\n"
     ]
    },
    {
     "name": "stderr",
     "output_type": "stream",
     "text": [
      " ... (more hidden) ..."
     ]
    },
    {
     "name": "stdout",
     "output_type": "stream",
     "text": [
      "9010241 김해한일여자고등학교\n",
      "급식 정보 조회 중: 날짜=20241030\n",
      "mealService 응답코드: 200\n",
      "mealServiceDietInfo 키 없음: {'RESULT': {'CODE': 'ERROR-300', 'MESSAGE': '필수 값이 누락되어 있습니다. 요청인자를 참고 하십시오.'}}\n",
      "[]\n",
      "9010088 남지고등학교\n",
      "급식 정보 조회 중: 날짜=20241030\n",
      "mealService 응답코드: 200\n",
      "mealServiceDietInfo 키 없음: {'RESULT': {'CODE': 'ERROR-300', 'MESSAGE': '필수 값이 누락되어 있습니다. 요청인자를 참고 하십시오.'}}\n"
     ]
    },
    {
     "name": "stderr",
     "output_type": "stream",
     "text": [
      " ... (more hidden) ..."
     ]
    },
    {
     "name": "stdout",
     "output_type": "stream",
     "text": [
      "[]\n",
      "9010089 남해고등학교\n",
      "급식 정보 조회 중: 날짜=20241030\n",
      "mealService 응답코드: 200\n",
      "mealServiceDietInfo 키 없음: {'RESULT': {'CODE': 'ERROR-300', 'MESSAGE': '필수 값이 누락되어 있습니다. 요청인자를 참고 하십시오.'}}\n",
      "[]\n"
     ]
    },
    {
     "name": "stderr",
     "output_type": "stream",
     "text": [
      " ... (more hidden) ..."
     ]
    },
    {
     "name": "stdout",
     "output_type": "stream",
     "text": [
      "9010132 남해정보산업고등학교\n",
      "급식 정보 조회 중: 날짜=20241030\n",
      "mealService 응답코드: 200\n",
      "mealServiceDietInfo 키 없음: {'RESULT': {'CODE': 'ERROR-300', 'MESSAGE': '필수 값이 누락되어 있습니다. 요청인자를 참고 하십시오.'}}\n",
      "[]\n",
      "9010229 남해제일고등학교\n",
      "급식 정보 조회 중: 날짜=20241030\n"
     ]
    },
    {
     "name": "stderr",
     "output_type": "stream",
     "text": [
      " ... (more hidden) ..."
     ]
    },
    {
     "name": "stdout",
     "output_type": "stream",
     "text": [
      "mealService 응답코드: 200\n",
      "mealServiceDietInfo 키 없음: {'RESULT': {'CODE': 'ERROR-300', 'MESSAGE': '필수 값이 누락되어 있습니다. 요청인자를 참고 하십시오.'}}\n",
      "[]\n",
      "9010090 남해해성고등학교\n",
      "급식 정보 조회 중: 날짜=20241030\n",
      "mealService 응답코드: 200\n",
      "mealServiceDietInfo 키 없음: {'RESULT': {'CODE': 'ERROR-300', 'MESSAGE': '필수 값이 누락되어 있습니다. 요청인자를 참고 하십시오.'}}\n",
      "[]\n"
     ]
    },
    {
     "name": "stderr",
     "output_type": "stream",
     "text": [
      " ... (more hidden) ..."
     ]
    },
    {
     "name": "stdout",
     "output_type": "stream",
     "text": [
      "9010135 단성고등학교\n",
      "급식 정보 조회 중: 날짜=20241030\n",
      "mealService 응답코드: 200\n",
      "mealServiceDietInfo 키 없음: {'RESULT': {'CODE': 'ERROR-300', 'MESSAGE': '필수 값이 누락되어 있습니다. 요청인자를 참고 하십시오.'}}\n",
      "[]\n",
      "9010044 대곡고등학교\n",
      "급식 정보 조회 중: 날짜=20241030\n"
     ]
    },
    {
     "name": "stderr",
     "output_type": "stream",
     "text": [
      " ... (more hidden) ..."
     ]
    },
    {
     "name": "stdout",
     "output_type": "stream",
     "text": [
      "mealService 응답코드: 200\n",
      "mealServiceDietInfo 키 없음: {'RESULT': {'CODE': 'ERROR-300', 'MESSAGE': '필수 값이 누락되어 있습니다. 요청인자를 참고 하십시오.'}}\n",
      "[]\n",
      "9010398 대성일고등학교\n",
      "급식 정보 조회 중: 날짜=20241030\n",
      "mealService 응답코드: 200\n",
      "mealServiceDietInfo 키 없음: {'RESULT': {'CODE': 'ERROR-300', 'MESSAGE': '필수 값이 누락되어 있습니다. 요청인자를 참고 하십시오.'}}\n",
      "[]\n"
     ]
    },
    {
     "name": "stderr",
     "output_type": "stream",
     "text": [
      " ... (more hidden) ..."
     ]
    },
    {
     "name": "stdout",
     "output_type": "stream",
     "text": [
      "9010091 대아고등학교\n",
      "급식 정보 조회 중: 날짜=20241030\n",
      "mealService 응답코드: 200\n",
      "mealServiceDietInfo 키 없음: {'RESULT': {'CODE': 'ERROR-300', 'MESSAGE': '필수 값이 누락되어 있습니다. 요청인자를 참고 하십시오.'}}\n",
      "[]\n",
      "9010045 덕산고등학교\n",
      "급식 정보 조회 중: 날짜=20241030\n"
     ]
    },
    {
     "name": "stderr",
     "output_type": "stream",
     "text": [
      " ... (more hidden) ..."
     ]
    },
    {
     "name": "stdout",
     "output_type": "stream",
     "text": [
      "mealService 응답코드: 200\n",
      "mealServiceDietInfo 키 없음: {'RESULT': {'CODE': 'ERROR-300', 'MESSAGE': '필수 값이 누락되어 있습니다. 요청인자를 참고 하십시오.'}}\n",
      "[]\n",
      "9010463 동원고등학교\n",
      "급식 정보 조회 중: 날짜=20241030\n",
      "mealService 응답코드: 200\n",
      "mealServiceDietInfo 키 없음: {'RESULT': {'CODE': 'ERROR-300', 'MESSAGE': '필수 값이 누락되어 있습니다. 요청인자를 참고 하십시오.'}}\n",
      "[]\n"
     ]
    },
    {
     "name": "stderr",
     "output_type": "stream",
     "text": [
      " ... (more hidden) ..."
     ]
    },
    {
     "name": "stdout",
     "output_type": "stream",
     "text": [
      "9010046 마산가포고등학교\n",
      "급식 정보 조회 중: 날짜=20241030\n",
      "mealService 응답코드: 200\n",
      "mealServiceDietInfo 키 없음: {'RESULT': {'CODE': 'ERROR-300', 'MESSAGE': '필수 값이 누락되어 있습니다. 요청인자를 참고 하십시오.'}}\n",
      "[]\n",
      "9010047 마산고등학교\n",
      "급식 정보 조회 중: 날짜=20241030\n"
     ]
    },
    {
     "name": "stderr",
     "output_type": "stream",
     "text": [
      " ... (more hidden) ..."
     ]
    },
    {
     "name": "stdout",
     "output_type": "stream",
     "text": [
      "mealService 응답코드: 200\n",
      "mealServiceDietInfo 키 없음: {'RESULT': {'CODE': 'ERROR-300', 'MESSAGE': '필수 값이 누락되어 있습니다. 요청인자를 참고 하십시오.'}}\n",
      "[]\n",
      "9010165 마산공업고등학교\n",
      "급식 정보 조회 중: 날짜=20241030\n",
      "mealService 응답코드: 200\n",
      "mealServiceDietInfo 키 없음: {'RESULT': {'CODE': 'ERROR-300', 'MESSAGE': '필수 값이 누락되어 있습니다. 요청인자를 참고 하십시오.'}}\n",
      "[]\n"
     ]
    },
    {
     "name": "stderr",
     "output_type": "stream",
     "text": [
      " ... (more hidden) ..."
     ]
    },
    {
     "name": "stdout",
     "output_type": "stream",
     "text": [
      "9010048 마산구암고등학교\n",
      "급식 정보 조회 중: 날짜=20241030\n",
      "mealService 응답코드: 200\n",
      "mealServiceDietInfo 키 없음: {'RESULT': {'CODE': 'ERROR-300', 'MESSAGE': '필수 값이 누락되어 있습니다. 요청인자를 참고 하십시오.'}}\n",
      "[]\n",
      "9010296 마산내서여자고등학교\n",
      "급식 정보 조회 중: 날짜=20241030\n",
      "mealService 응답코드: 200\n",
      "mealServiceDietInfo 키 없음: {'RESULT': {'CODE': 'ERROR-300', 'MESSAGE': '필수 값이 누락되어 있습니다. 요청인자를 참고 하십시오.'}}\n",
      "[]\n"
     ]
    },
    {
     "name": "stderr",
     "output_type": "stream",
     "text": [
      " ... (more hidden) ..."
     ]
    },
    {
     "name": "stdout",
     "output_type": "stream",
     "text": [
      "9010237 마산무학여자고등학교\n",
      "급식 정보 조회 중: 날짜=20241030\n",
      "mealService 응답코드: 200\n",
      "mealServiceDietInfo 키 없음: {'RESULT': {'CODE': 'ERROR-300', 'MESSAGE': '필수 값이 누락되어 있습니다. 요청인자를 참고 하십시오.'}}\n",
      "[]\n",
      "9010242 마산삼진고등학교\n",
      "급식 정보 조회 중: 날짜=20241030\n",
      "mealService 응답코드: 200\n",
      "mealServiceDietInfo 키 없음: {'RESULT': {'CODE': 'ERROR-300', 'MESSAGE': '필수 값이 누락되어 있습니다. 요청인자를 참고 하십시오.'}}\n",
      "[]\n"
     ]
    },
    {
     "name": "stderr",
     "output_type": "stream",
     "text": [
      " ... (more hidden) ..."
     ]
    },
    {
     "name": "stdout",
     "output_type": "stream",
     "text": [
      "9010049 마산여자고등학교\n",
      "급식 정보 조회 중: 날짜=20241030\n",
      "mealService 응답코드: 200\n",
      "mealServiceDietInfo 키 없음: {'RESULT': {'CODE': 'ERROR-300', 'MESSAGE': '필수 값이 누락되어 있습니다. 요청인자를 참고 하십시오.'}}\n",
      "[]\n",
      "9010273 마산용마고등학교\n",
      "급식 정보 조회 중: 날짜=20241030\n"
     ]
    },
    {
     "name": "stderr",
     "output_type": "stream",
     "text": [
      " ... (more hidden) ..."
     ]
    },
    {
     "name": "stdout",
     "output_type": "stream",
     "text": [
      "mealService 응답코드: 200\n",
      "mealServiceDietInfo 키 없음: {'RESULT': {'CODE': 'ERROR-300', 'MESSAGE': '필수 값이 누락되어 있습니다. 요청인자를 참고 하십시오.'}}\n",
      "[]\n",
      "9010092 마산제일고등학교\n",
      "급식 정보 조회 중: 날짜=20241030\n",
      "mealService 응답코드: 200\n",
      "mealServiceDietInfo 키 없음: {'RESULT': {'CODE': 'ERROR-300', 'MESSAGE': '필수 값이 누락되어 있습니다. 요청인자를 참고 하십시오.'}}\n",
      "[]\n"
     ]
    },
    {
     "name": "stderr",
     "output_type": "stream",
     "text": [
      " ... (more hidden) ..."
     ]
    },
    {
     "name": "stdout",
     "output_type": "stream",
     "text": [
      "9010093 마산제일여자고등학교\n",
      "급식 정보 조회 중: 날짜=20241030\n",
      "mealService 응답코드: 200\n",
      "mealServiceDietInfo 키 없음: {'RESULT': {'CODE': 'ERROR-300', 'MESSAGE': '필수 값이 누락되어 있습니다. 요청인자를 참고 하십시오.'}}\n",
      "[]\n",
      "9010094 마산중앙고등학교\n",
      "급식 정보 조회 중: 날짜=20241030\n"
     ]
    },
    {
     "name": "stderr",
     "output_type": "stream",
     "text": [
      " ... (more hidden) ..."
     ]
    },
    {
     "name": "stdout",
     "output_type": "stream",
     "text": [
      "mealService 응답코드: 200\n",
      "mealServiceDietInfo 키 없음: {'RESULT': {'CODE': 'ERROR-300', 'MESSAGE': '필수 값이 누락되어 있습니다. 요청인자를 참고 하십시오.'}}\n",
      "[]\n",
      "9010267 명덕고등학교\n",
      "급식 정보 조회 중: 날짜=20241030\n",
      "mealService 응답코드: 200\n",
      "mealServiceDietInfo 키 없음: {'RESULT': {'CODE': 'ERROR-300', 'MESSAGE': '필수 값이 누락되어 있습니다. 요청인자를 참고 하십시오.'}}\n",
      "[]\n"
     ]
    },
    {
     "name": "stderr",
     "output_type": "stream",
     "text": [
      " ... (more hidden) ..."
     ]
    },
    {
     "name": "stdout",
     "output_type": "stream",
     "text": [
      "9010050 명신고등학교\n",
      "급식 정보 조회 중: 날짜=20241030\n",
      "mealService 응답코드: 200\n",
      "mealServiceDietInfo 키 없음: {'RESULT': {'CODE': 'ERROR-300', 'MESSAGE': '필수 값이 누락되어 있습니다. 요청인자를 참고 하십시오.'}}\n",
      "[]\n",
      "9010333 물금고등학교\n",
      "급식 정보 조회 중: 날짜=20241030\n",
      "mealService 응답코드: 200\n",
      "mealServiceDietInfo 키 없음: {'RESULT': {'CODE': 'ERROR-300', 'MESSAGE': '필수 값이 누락되어 있습니다. 요청인자를 참고 하십시오.'}}\n"
     ]
    },
    {
     "name": "stderr",
     "output_type": "stream",
     "text": [
      " ... (more hidden) ..."
     ]
    },
    {
     "name": "stdout",
     "output_type": "stream",
     "text": [
      "[]\n",
      "9010095 밀성고등학교\n",
      "급식 정보 조회 중: 날짜=20241030\n",
      "mealService 응답코드: 200\n",
      "mealServiceDietInfo 키 없음: {'RESULT': {'CODE': 'ERROR-300', 'MESSAGE': '필수 값이 누락되어 있습니다. 요청인자를 참고 하십시오.'}}\n",
      "[]\n"
     ]
    },
    {
     "name": "stderr",
     "output_type": "stream",
     "text": [
      " ... (more hidden) ..."
     ]
    },
    {
     "name": "stdout",
     "output_type": "stream",
     "text": [
      "9010329 밀성제일고등학교\n",
      "급식 정보 조회 중: 날짜=20241030\n",
      "mealService 응답코드: 200\n",
      "mealServiceDietInfo 키 없음: {'RESULT': {'CODE': 'ERROR-300', 'MESSAGE': '필수 값이 누락되어 있습니다. 요청인자를 참고 하십시오.'}}\n",
      "[]\n",
      "9010051 밀양고등학교\n",
      "급식 정보 조회 중: 날짜=20241030\n"
     ]
    },
    {
     "name": "stderr",
     "output_type": "stream",
     "text": [
      " ... (more hidden) ..."
     ]
    },
    {
     "name": "stdout",
     "output_type": "stream",
     "text": [
      "mealService 응답코드: 200\n",
      "mealServiceDietInfo 키 없음: {'RESULT': {'CODE': 'ERROR-300', 'MESSAGE': '필수 값이 누락되어 있습니다. 요청인자를 참고 하십시오.'}}\n",
      "[]\n",
      "9010244 밀양동명고등학교\n",
      "급식 정보 조회 중: 날짜=20241030\n",
      "mealService 응답코드: 200\n",
      "mealServiceDietInfo 키 없음: {'RESULT': {'CODE': 'ERROR-300', 'MESSAGE': '필수 값이 누락되어 있습니다. 요청인자를 참고 하십시오.'}}\n",
      "[]\n"
     ]
    },
    {
     "name": "stderr",
     "output_type": "stream",
     "text": [
      " ... (more hidden) ..."
     ]
    },
    {
     "name": "stdout",
     "output_type": "stream",
     "text": [
      "9010052 밀양여자고등학교\n",
      "급식 정보 조회 중: 날짜=20241030\n",
      "mealService 응답코드: 200\n",
      "mealServiceDietInfo 키 없음: {'RESULT': {'CODE': 'ERROR-300', 'MESSAGE': '필수 값이 누락되어 있습니다. 요청인자를 참고 하십시오.'}}\n",
      "[]\n",
      "9010433 범어고등학교\n",
      "급식 정보 조회 중: 날짜=20241030\n"
     ]
    },
    {
     "name": "stderr",
     "output_type": "stream",
     "text": [
      " ... (more hidden) ..."
     ]
    },
    {
     "name": "stdout",
     "output_type": "stream",
     "text": [
      "mealService 응답코드: 200\n",
      "mealServiceDietInfo 키 없음: {'RESULT': {'CODE': 'ERROR-300', 'MESSAGE': '필수 값이 누락되어 있습니다. 요청인자를 참고 하십시오.'}}\n",
      "[]\n",
      "9010096 보광고등학교\n",
      "급식 정보 조회 중: 날짜=20241030\n",
      "mealService 응답코드: 200\n",
      "mealServiceDietInfo 키 없음: {'RESULT': {'CODE': 'ERROR-300', 'MESSAGE': '필수 값이 누락되어 있습니다. 요청인자를 참고 하십시오.'}}\n",
      "[]\n"
     ]
    },
    {
     "name": "stderr",
     "output_type": "stream",
     "text": [
      " ... (more hidden) ..."
     ]
    },
    {
     "name": "stdout",
     "output_type": "stream",
     "text": [
      "9010097 사천고등학교\n",
      "급식 정보 조회 중: 날짜=20241030\n",
      "mealService 응답코드: 200\n",
      "mealServiceDietInfo 키 없음: {'RESULT': {'CODE': 'ERROR-300', 'MESSAGE': '필수 값이 누락되어 있습니다. 요청인자를 참고 하십시오.'}}\n",
      "[]\n",
      "9010306 사천여자고등학교\n",
      "급식 정보 조회 중: 날짜=20241030\n",
      "mealService 응답코드: 200\n",
      "mealServiceDietInfo 키 없음: {'RESULT': {'CODE': 'ERROR-300', 'MESSAGE': '필수 값이 누락되어 있습니다. 요청인자를 참고 하십시오.'}}\n",
      "[]\n"
     ]
    },
    {
     "name": "stderr",
     "output_type": "stream",
     "text": [
      " ... (more hidden) ..."
     ]
    },
    {
     "name": "stdout",
     "output_type": "stream",
     "text": [
      "9010138 산청고등학교\n",
      "급식 정보 조회 중: 날짜=20241030\n",
      "mealService 응답코드: 200\n",
      "mealServiceDietInfo 키 없음: {'RESULT': {'CODE': 'ERROR-300', 'MESSAGE': '필수 값이 누락되어 있습니다. 요청인자를 참고 하십시오.'}}\n",
      "[]\n",
      "9010053 삼가고등학교\n",
      "급식 정보 조회 중: 날짜=20241030\n"
     ]
    },
    {
     "name": "stderr",
     "output_type": "stream",
     "text": [
      " ... (more hidden) ..."
     ]
    },
    {
     "name": "stdout",
     "output_type": "stream",
     "text": [
      "mealService 응답코드: 200\n",
      "mealServiceDietInfo 키 없음: {'RESULT': {'CODE': 'ERROR-300', 'MESSAGE': '필수 값이 누락되어 있습니다. 요청인자를 참고 하십시오.'}}\n",
      "[]\n",
      "9010098 삼랑진고등학교\n",
      "급식 정보 조회 중: 날짜=20241030\n",
      "mealService 응답코드: 200\n",
      "mealServiceDietInfo 키 없음: {'RESULT': {'CODE': 'ERROR-300', 'MESSAGE': '필수 값이 누락되어 있습니다. 요청인자를 참고 하십시오.'}}\n",
      "[]\n"
     ]
    },
    {
     "name": "stderr",
     "output_type": "stream",
     "text": [
      " ... (more hidden) ..."
     ]
    },
    {
     "name": "stdout",
     "output_type": "stream",
     "text": [
      "9010099 삼천포고등학교\n",
      "급식 정보 조회 중: 날짜=20241030\n",
      "mealService 응답코드: 200\n",
      "mealServiceDietInfo 키 없음: {'RESULT': {'CODE': 'ERROR-300', 'MESSAGE': '필수 값이 누락되어 있습니다. 요청인자를 참고 하십시오.'}}\n",
      "[]\n",
      "9010139 삼천포공업고등학교\n",
      "급식 정보 조회 중: 날짜=20241030\n"
     ]
    },
    {
     "name": "stderr",
     "output_type": "stream",
     "text": [
      " ... (more hidden) ..."
     ]
    },
    {
     "name": "stdout",
     "output_type": "stream",
     "text": [
      "mealService 응답코드: 200\n",
      "mealServiceDietInfo 키 없음: {'RESULT': {'CODE': 'ERROR-300', 'MESSAGE': '필수 값이 누락되어 있습니다. 요청인자를 참고 하십시오.'}}\n",
      "[]\n",
      "9010247 삼천포여자고등학교\n",
      "급식 정보 조회 중: 날짜=20241030\n",
      "mealService 응답코드: 200\n",
      "mealServiceDietInfo 키 없음: {'RESULT': {'CODE': 'ERROR-300', 'MESSAGE': '필수 값이 누락되어 있습니다. 요청인자를 참고 하십시오.'}}\n",
      "[]\n"
     ]
    },
    {
     "name": "stderr",
     "output_type": "stream",
     "text": [
      " ... (more hidden) ..."
     ]
    },
    {
     "name": "stdout",
     "output_type": "stream",
     "text": [
      "9010054 삼천포중앙고등학교\n",
      "급식 정보 조회 중: 날짜=20241030\n",
      "mealService 응답코드: 200\n",
      "mealServiceDietInfo 키 없음: {'RESULT': {'CODE': 'ERROR-300', 'MESSAGE': '필수 값이 누락되어 있습니다. 요청인자를 참고 하십시오.'}}\n",
      "[]\n",
      "9010100 삼현여자고등학교\n",
      "급식 정보 조회 중: 날짜=20241030\n"
     ]
    },
    {
     "name": "stderr",
     "output_type": "stream",
     "text": [
      " ... (more hidden) ..."
     ]
    },
    {
     "name": "stdout",
     "output_type": "stream",
     "text": [
      "mealService 응답코드: 200\n",
      "mealServiceDietInfo 키 없음: {'RESULT': {'CODE': 'ERROR-300', 'MESSAGE': '필수 값이 누락되어 있습니다. 요청인자를 참고 하십시오.'}}\n",
      "[]\n",
      "9010305 서상고등학교\n",
      "급식 정보 조회 중: 날짜=20241030\n",
      "mealService 응답코드: 200\n",
      "mealServiceDietInfo 키 없음: {'RESULT': {'CODE': 'ERROR-300', 'MESSAGE': '필수 값이 누락되어 있습니다. 요청인자를 참고 하십시오.'}}\n",
      "[]\n"
     ]
    },
    {
     "name": "stderr",
     "output_type": "stream",
     "text": [
      " ... (more hidden) ..."
     ]
    },
    {
     "name": "stdout",
     "output_type": "stream",
     "text": [
      "9010347 서창고등학교\n",
      "급식 정보 조회 중: 날짜=20241030\n",
      "mealService 응답코드: 200\n",
      "mealServiceDietInfo 키 없음: {'RESULT': {'CODE': 'ERROR-300', 'MESSAGE': '필수 값이 누락되어 있습니다. 요청인자를 참고 하십시오.'}}\n",
      "[]\n",
      "9010172 선명여자고등학교\n",
      "급식 정보 조회 중: 날짜=20241030\n"
     ]
    },
    {
     "name": "stderr",
     "output_type": "stream",
     "text": [
      " ... (more hidden) ..."
     ]
    },
    {
     "name": "stdout",
     "output_type": "stream",
     "text": [
      "mealService 응답코드: 200\n",
      "mealServiceDietInfo 키 없음: {'RESULT': {'CODE': 'ERROR-300', 'MESSAGE': '필수 값이 누락되어 있습니다. 요청인자를 참고 하십시오.'}}\n",
      "[]\n",
      "9010101 성지여자고등학교\n",
      "급식 정보 조회 중: 날짜=20241030\n",
      "mealService 응답코드: 200\n",
      "mealServiceDietInfo 키 없음: {'RESULT': {'CODE': 'ERROR-300', 'MESSAGE': '필수 값이 누락되어 있습니다. 요청인자를 참고 하십시오.'}}\n",
      "[]\n"
     ]
    },
    {
     "name": "stderr",
     "output_type": "stream",
     "text": [
      " ... (more hidden) ..."
     ]
    },
    {
     "name": "stdout",
     "output_type": "stream",
     "text": [
      "9010102 세종고등학교\n",
      "급식 정보 조회 중: 날짜=20241030\n",
      "mealService 응답코드: 200\n",
      "mealServiceDietInfo 키 없음: {'RESULT': {'CODE': 'ERROR-300', 'MESSAGE': '필수 값이 누락되어 있습니다. 요청인자를 참고 하십시오.'}}\n",
      "[]\n",
      "9010056 신등고등학교\n",
      "급식 정보 조회 중: 날짜=20241030\n",
      "mealService 응답코드: 200\n",
      "mealServiceDietInfo 키 없음: {'RESULT': {'CODE': 'ERROR-300', 'MESSAGE': '필수 값이 누락되어 있습니다. 요청인자를 참고 하십시오.'}}\n",
      "[]\n"
     ]
    },
    {
     "name": "stderr",
     "output_type": "stream",
     "text": [
      " ... (more hidden) ..."
     ]
    },
    {
     "name": "stdout",
     "output_type": "stream",
     "text": [
      "9010223 신반정보고등학교\n",
      "급식 정보 조회 중: 날짜=20241030\n",
      "mealService 응답코드: 200\n",
      "mealServiceDietInfo 키 없음: {'RESULT': {'CODE': 'ERROR-300', 'MESSAGE': '필수 값이 누락되어 있습니다. 요청인자를 참고 하십시오.'}}\n",
      "[]\n",
      "9010350 아림고등학교\n",
      "급식 정보 조회 중: 날짜=20241030\n"
     ]
    },
    {
     "name": "stderr",
     "output_type": "stream",
     "text": [
      " ... (more hidden) ..."
     ]
    },
    {
     "name": "stdout",
     "output_type": "stream",
     "text": [
      "mealService 응답코드: 200\n",
      "mealServiceDietInfo 키 없음: {'RESULT': {'CODE': 'ERROR-300', 'MESSAGE': '필수 값이 누락되어 있습니다. 요청인자를 참고 하십시오.'}}\n",
      "[]\n",
      "9010233 안의고등학교\n",
      "급식 정보 조회 중: 날짜=20241030\n",
      "mealService 응답코드: 200\n",
      "mealServiceDietInfo 키 없음: {'RESULT': {'CODE': 'ERROR-300', 'MESSAGE': '필수 값이 누락되어 있습니다. 요청인자를 참고 하십시오.'}}\n",
      "[]\n"
     ]
    },
    {
     "name": "stderr",
     "output_type": "stream",
     "text": [
      " ... (more hidden) ..."
     ]
    },
    {
     "name": "stdout",
     "output_type": "stream",
     "text": [
      "9010057 야로고등학교\n",
      "급식 정보 조회 중: 날짜=20241030\n",
      "mealService 응답코드: 200\n",
      "mealServiceDietInfo 키 없음: {'RESULT': {'CODE': 'ERROR-300', 'MESSAGE': '필수 값이 누락되어 있습니다. 요청인자를 참고 하십시오.'}}\n",
      "[]\n",
      "9010058 양산고등학교\n",
      "급식 정보 조회 중: 날짜=20241030\n",
      "mealService 응답코드: 200\n",
      "mealServiceDietInfo 키 없음: {'RESULT': {'CODE': 'ERROR-300', 'MESSAGE': '필수 값이 누락되어 있습니다. 요청인자를 참고 하십시오.'}}\n",
      "[]\n"
     ]
    },
    {
     "name": "stderr",
     "output_type": "stream",
     "text": [
      " ... (more hidden) ..."
     ]
    },
    {
     "name": "stdout",
     "output_type": "stream",
     "text": [
      "9010283 양산남부고등학교\n",
      "급식 정보 조회 중: 날짜=20241030\n",
      "mealService 응답코드: 200\n",
      "mealServiceDietInfo 키 없음: {'RESULT': {'CODE': 'ERROR-300', 'MESSAGE': '필수 값이 누락되어 있습니다. 요청인자를 참고 하십시오.'}}\n",
      "[]\n",
      "9010300 양산여자고등학교\n",
      "급식 정보 조회 중: 날짜=20241030\n"
     ]
    },
    {
     "name": "stderr",
     "output_type": "stream",
     "text": [
      " ... (more hidden) ..."
     ]
    },
    {
     "name": "stdout",
     "output_type": "stream",
     "text": [
      "mealService 응답코드: 200\n",
      "mealServiceDietInfo 키 없음: {'RESULT': {'CODE': 'ERROR-300', 'MESSAGE': '필수 값이 누락되어 있습니다. 요청인자를 참고 하십시오.'}}\n",
      "[]\n",
      "9010728 양산인공지능고등학교\n",
      "급식 정보 조회 중: 날짜=20241030\n",
      "mealService 응답코드: 200\n",
      "mealServiceDietInfo 키 없음: {'RESULT': {'CODE': 'ERROR-300', 'MESSAGE': '필수 값이 누락되어 있습니다. 요청인자를 참고 하십시오.'}}\n",
      "[]\n"
     ]
    },
    {
     "name": "stderr",
     "output_type": "stream",
     "text": [
      " ... (more hidden) ..."
     ]
    },
    {
     "name": "stdout",
     "output_type": "stream",
     "text": [
      "9010299 양산제일고등학교\n",
      "급식 정보 조회 중: 날짜=20241030\n",
      "mealService 응답코드: 200\n",
      "mealServiceDietInfo 키 없음: {'RESULT': {'CODE': 'ERROR-300', 'MESSAGE': '필수 값이 누락되어 있습니다. 요청인자를 참고 하십시오.'}}\n",
      "[]\n",
      "9010432 연초고등학교\n",
      "급식 정보 조회 중: 날짜=20241030\n"
     ]
    },
    {
     "name": "stderr",
     "output_type": "stream",
     "text": [
      " ... (more hidden) ..."
     ]
    },
    {
     "name": "stdout",
     "output_type": "stream",
     "text": [
      "mealService 응답코드: 200\n",
      "mealServiceDietInfo 키 없음: {'RESULT': {'CODE': 'ERROR-300', 'MESSAGE': '필수 값이 누락되어 있습니다. 요청인자를 참고 하십시오.'}}\n",
      "[]\n",
      "9010060 영산고등학교\n",
      "급식 정보 조회 중: 날짜=20241030\n",
      "mealService 응답코드: 200\n",
      "mealServiceDietInfo 키 없음: {'RESULT': {'CODE': 'ERROR-300', 'MESSAGE': '필수 값이 누락되어 있습니다. 요청인자를 참고 하십시오.'}}\n",
      "[]\n"
     ]
    },
    {
     "name": "stderr",
     "output_type": "stream",
     "text": [
      " ... (more hidden) ..."
     ]
    },
    {
     "name": "stdout",
     "output_type": "stream",
     "text": [
      "9010061 옥종고등학교\n",
      "급식 정보 조회 중: 날짜=20241030\n",
      "mealService 응답코드: 200\n",
      "mealServiceDietInfo 키 없음: {'RESULT': {'CODE': 'ERROR-300', 'MESSAGE': '필수 값이 누락되어 있습니다. 요청인자를 참고 하십시오.'}}\n",
      "[]\n",
      "9010106 용남고등학교\n",
      "급식 정보 조회 중: 날짜=20241030\n"
     ]
    },
    {
     "name": "stderr",
     "output_type": "stream",
     "text": [
      " ... (more hidden) ..."
     ]
    },
    {
     "name": "stdout",
     "output_type": "stream",
     "text": [
      "mealService 응답코드: 200\n",
      "mealServiceDietInfo 키 없음: {'RESULT': {'CODE': 'ERROR-300', 'MESSAGE': '필수 값이 누락되어 있습니다. 요청인자를 참고 하십시오.'}}\n",
      "[]\n",
      "9010221 웅상고등학교\n",
      "급식 정보 조회 중: 날짜=20241030\n",
      "mealService 응답코드: 200\n",
      "mealServiceDietInfo 키 없음: {'RESULT': {'CODE': 'ERROR-300', 'MESSAGE': '필수 값이 누락되어 있습니다. 요청인자를 참고 하십시오.'}}\n",
      "[]\n"
     ]
    },
    {
     "name": "stderr",
     "output_type": "stream",
     "text": [
      " ... (more hidden) ..."
     ]
    },
    {
     "name": "stdout",
     "output_type": "stream",
     "text": [
      "9010464 웅천고등학교\n",
      "급식 정보 조회 중: 날짜=20241030\n",
      "mealService 응답코드: 200\n",
      "mealServiceDietInfo 키 없음: {'RESULT': {'CODE': 'ERROR-300', 'MESSAGE': '필수 값이 누락되어 있습니다. 요청인자를 참고 하십시오.'}}\n",
      "[]\n",
      "9010222 의령고등학교\n",
      "급식 정보 조회 중: 날짜=20241030\n"
     ]
    },
    {
     "name": "stderr",
     "output_type": "stream",
     "text": [
      " ... (more hidden) ..."
     ]
    },
    {
     "name": "stdout",
     "output_type": "stream",
     "text": [
      "mealService 응답코드: 200\n",
      "mealServiceDietInfo 키 없음: {'RESULT': {'CODE': 'ERROR-300', 'MESSAGE': '필수 값이 누락되어 있습니다. 요청인자를 참고 하십시오.'}}\n",
      "[]\n",
      "9010108 의령여자고등학교\n",
      "급식 정보 조회 중: 날짜=20241030\n",
      "mealService 응답코드: 200\n",
      "mealServiceDietInfo 키 없음: {'RESULT': {'CODE': 'ERROR-300', 'MESSAGE': '필수 값이 누락되어 있습니다. 요청인자를 참고 하십시오.'}}\n",
      "[]\n"
     ]
    },
    {
     "name": "stderr",
     "output_type": "stream",
     "text": [
      " ... (more hidden) ..."
     ]
    },
    {
     "name": "stdout",
     "output_type": "stream",
     "text": [
      "9010260 장유고등학교\n",
      "급식 정보 조회 중: 날짜=20241030\n",
      "mealService 응답코드: 200\n",
      "mealServiceDietInfo 키 없음: {'RESULT': {'CODE': 'ERROR-300', 'MESSAGE': '필수 값이 누락되어 있습니다. 요청인자를 참고 하십시오.'}}\n",
      "[]\n",
      "9010699 증산고등학교\n",
      "급식 정보 조회 중: 날짜=20241030\n"
     ]
    },
    {
     "name": "stderr",
     "output_type": "stream",
     "text": [
      " ... (more hidden) ..."
     ]
    },
    {
     "name": "stdout",
     "output_type": "stream",
     "text": [
      "mealService 응답코드: 200\n",
      "mealServiceDietInfo 키 없음: {'RESULT': {'CODE': 'ERROR-300', 'MESSAGE': '필수 값이 누락되어 있습니다. 요청인자를 참고 하십시오.'}}\n",
      "[]\n",
      "9010298 지리산고등학교\n",
      "급식 정보 조회 중: 날짜=20241030\n",
      "mealService 응답코드: 200\n",
      "mealServiceDietInfo 키 없음: {'RESULT': {'CODE': 'ERROR-300', 'MESSAGE': '필수 값이 누락되어 있습니다. 요청인자를 참고 하십시오.'}}\n",
      "[]\n"
     ]
    },
    {
     "name": "stderr",
     "output_type": "stream",
     "text": [
      " ... (more hidden) ..."
     ]
    },
    {
     "name": "stdout",
     "output_type": "stream",
     "text": [
      "9010231 진교고등학교\n",
      "급식 정보 조회 중: 날짜=20241030\n",
      "mealService 응답코드: 200\n",
      "mealServiceDietInfo 키 없음: {'RESULT': {'CODE': 'ERROR-300', 'MESSAGE': '필수 값이 누락되어 있습니다. 요청인자를 참고 하십시오.'}}\n",
      "[]\n",
      "9010062 진서고등학교\n",
      "급식 정보 조회 중: 날짜=20241030\n",
      "mealService 응답코드: 200\n",
      "mealServiceDietInfo 키 없음: {'RESULT': {'CODE': 'ERROR-300', 'MESSAGE': '필수 값이 누락되어 있습니다. 요청인자를 참고 하십시오.'}}\n",
      "[]\n"
     ]
    },
    {
     "name": "stderr",
     "output_type": "stream",
     "text": [
      " ... (more hidden) ..."
     ]
    },
    {
     "name": "stdout",
     "output_type": "stream",
     "text": [
      "9010063 진양고등학교\n",
      "급식 정보 조회 중: 날짜=20241030\n",
      "mealService 응답코드: 200\n",
      "mealServiceDietInfo 키 없음: {'RESULT': {'CODE': 'ERROR-300', 'MESSAGE': '필수 값이 누락되어 있습니다. 요청인자를 참고 하십시오.'}}\n",
      "[]\n",
      "9010227 진영고등학교\n",
      "급식 정보 조회 중: 날짜=20241030\n"
     ]
    },
    {
     "name": "stderr",
     "output_type": "stream",
     "text": [
      " ... (more hidden) ..."
     ]
    },
    {
     "name": "stdout",
     "output_type": "stream",
     "text": [
      "mealService 응답코드: 200\n",
      "mealServiceDietInfo 키 없음: {'RESULT': {'CODE': 'ERROR-300', 'MESSAGE': '필수 값이 누락되어 있습니다. 요청인자를 참고 하십시오.'}}\n",
      "[]\n",
      "9010226 진영제일고등학교\n",
      "급식 정보 조회 중: 날짜=20241030\n",
      "mealService 응답코드: 200\n",
      "mealServiceDietInfo 키 없음: {'RESULT': {'CODE': 'ERROR-300', 'MESSAGE': '필수 값이 누락되어 있습니다. 요청인자를 참고 하십시오.'}}\n",
      "[]\n"
     ]
    },
    {
     "name": "stderr",
     "output_type": "stream",
     "text": [
      " ... (more hidden) ..."
     ]
    },
    {
     "name": "stdout",
     "output_type": "stream",
     "text": [
      "9010064 진주고등학교\n",
      "급식 정보 조회 중: 날짜=20241030\n",
      "mealService 응답코드: 200\n",
      "mealServiceDietInfo 키 없음: {'RESULT': {'CODE': 'ERROR-300', 'MESSAGE': '필수 값이 누락되어 있습니다. 요청인자를 참고 하십시오.'}}\n",
      "[]\n",
      "9010147 진주기계공업고등학교\n",
      "급식 정보 조회 중: 날짜=20241030\n"
     ]
    },
    {
     "name": "stderr",
     "output_type": "stream",
     "text": [
      " ... (more hidden) ..."
     ]
    },
    {
     "name": "stdout",
     "output_type": "stream",
     "text": [
      "mealService 응답코드: 200\n",
      "mealServiceDietInfo 키 없음: {'RESULT': {'CODE': 'ERROR-300', 'MESSAGE': '필수 값이 누락되어 있습니다. 요청인자를 참고 하십시오.'}}\n",
      "[]\n",
      "9010109 진주동명고등학교\n",
      "급식 정보 조회 중: 날짜=20241030\n",
      "mealService 응답코드: 200\n",
      "mealServiceDietInfo 키 없음: {'RESULT': {'CODE': 'ERROR-300', 'MESSAGE': '필수 값이 누락되어 있습니다. 요청인자를 참고 하십시오.'}}\n",
      "[]\n"
     ]
    },
    {
     "name": "stderr",
     "output_type": "stream",
     "text": [
      " ... (more hidden) ..."
     ]
    },
    {
     "name": "stdout",
     "output_type": "stream",
     "text": [
      "9010065 진주여자고등학교\n",
      "급식 정보 조회 중: 날짜=20241030\n",
      "mealService 응답코드: 200\n",
      "mealServiceDietInfo 키 없음: {'RESULT': {'CODE': 'ERROR-300', 'MESSAGE': '필수 값이 누락되어 있습니다. 요청인자를 참고 하십시오.'}}\n",
      "[]\n",
      "9010177 진주외국어고등학교\n",
      "급식 정보 조회 중: 날짜=20241030\n"
     ]
    },
    {
     "name": "stderr",
     "output_type": "stream",
     "text": [
      " ... (more hidden) ..."
     ]
    },
    {
     "name": "stdout",
     "output_type": "stream",
     "text": [
      "mealService 응답코드: 200\n",
      "mealServiceDietInfo 키 없음: {'RESULT': {'CODE': 'ERROR-300', 'MESSAGE': '필수 값이 누락되어 있습니다. 요청인자를 참고 하십시오.'}}\n",
      "[]\n",
      "9010110 진주제일여자고등학교\n",
      "급식 정보 조회 중: 날짜=20241030\n",
      "mealService 응답코드: 200\n",
      "mealServiceDietInfo 키 없음: {'RESULT': {'CODE': 'ERROR-300', 'MESSAGE': '필수 값이 누락되어 있습니다. 요청인자를 참고 하십시오.'}}\n",
      "[]\n"
     ]
    },
    {
     "name": "stderr",
     "output_type": "stream",
     "text": [
      " ... (more hidden) ..."
     ]
    },
    {
     "name": "stdout",
     "output_type": "stream",
     "text": [
      "9010279 진주중앙고등학교\n",
      "급식 정보 조회 중: 날짜=20241030\n",
      "mealService 응답코드: 200\n",
      "mealServiceDietInfo 키 없음: {'RESULT': {'CODE': 'ERROR-300', 'MESSAGE': '필수 값이 누락되어 있습니다. 요청인자를 참고 하십시오.'}}\n",
      "[]\n",
      "9010066 진해고등학교\n",
      "급식 정보 조회 중: 날짜=20241030\n"
     ]
    },
    {
     "name": "stderr",
     "output_type": "stream",
     "text": [
      " ... (more hidden) ..."
     ]
    },
    {
     "name": "stdout",
     "output_type": "stream",
     "text": [
      "mealService 응답코드: 200\n",
      "mealServiceDietInfo 키 없음: {'RESULT': {'CODE': 'ERROR-300', 'MESSAGE': '필수 값이 누락되어 있습니다. 요청인자를 참고 하십시오.'}}\n",
      "[]\n",
      "9010265 진해세화여자고등학교\n",
      "급식 정보 조회 중: 날짜=20241030\n",
      "mealService 응답코드: 200\n",
      "mealServiceDietInfo 키 없음: {'RESULT': {'CODE': 'ERROR-300', 'MESSAGE': '필수 값이 누락되어 있습니다. 요청인자를 참고 하십시오.'}}\n",
      "[]\n"
     ]
    },
    {
     "name": "stderr",
     "output_type": "stream",
     "text": [
      " ... (more hidden) ..."
     ]
    },
    {
     "name": "stdout",
     "output_type": "stream",
     "text": [
      "9010067 진해여자고등학교\n",
      "급식 정보 조회 중: 날짜=20241030\n",
      "mealService 응답코드: 200\n",
      "mealServiceDietInfo 키 없음: {'RESULT': {'CODE': 'ERROR-300', 'MESSAGE': '필수 값이 누락되어 있습니다. 요청인자를 참고 하십시오.'}}\n",
      "[]\n",
      "9010320 진해용원고등학교\n",
      "급식 정보 조회 중: 날짜=20241030\n",
      "mealService 응답코드: 200\n",
      "mealServiceDietInfo 키 없음: {'RESULT': {'CODE': 'ERROR-300', 'MESSAGE': '필수 값이 누락되어 있습니다. 요청인자를 참고 하십시오.'}}\n",
      "[]\n"
     ]
    },
    {
     "name": "stderr",
     "output_type": "stream",
     "text": [
      " ... (more hidden) ..."
     ]
    },
    {
     "name": "stdout",
     "output_type": "stream",
     "text": [
      "9010252 진해중앙고등학교\n",
      "급식 정보 조회 중: 날짜=20241030\n",
      "mealService 응답코드: 200\n",
      "mealServiceDietInfo 키 없음: {'RESULT': {'CODE': 'ERROR-300', 'MESSAGE': '필수 값이 누락되어 있습니다. 요청인자를 참고 하십시오.'}}\n",
      "[]\n",
      "9010111 창녕고등학교\n",
      "급식 정보 조회 중: 날짜=20241030\n",
      "mealService 응답코드: 200\n",
      "mealServiceDietInfo 키 없음: {'RESULT': {'CODE': 'ERROR-300', 'MESSAGE': '필수 값이 누락되어 있습니다. 요청인자를 참고 하십시오.'}}\n",
      "[]\n"
     ]
    },
    {
     "name": "stderr",
     "output_type": "stream",
     "text": [
      " ... (more hidden) ..."
     ]
    },
    {
     "name": "stdout",
     "output_type": "stream",
     "text": [
      "9010253 창녕대성고등학교\n",
      "급식 정보 조회 중: 날짜=20241030\n",
      "mealService 응답코드: 200\n",
      "mealServiceDietInfo 키 없음: {'RESULT': {'CODE': 'ERROR-300', 'MESSAGE': '필수 값이 누락되어 있습니다. 요청인자를 참고 하십시오.'}}\n",
      "[]\n",
      "9010570 창녕슈퍼텍고등학교\n",
      "급식 정보 조회 중: 날짜=20241030\n",
      "mealService 응답코드: 200\n",
      "mealServiceDietInfo 키 없음: {'RESULT': {'CODE': 'ERROR-300', 'MESSAGE': '필수 값이 누락되어 있습니다. 요청인자를 참고 하십시오.'}}\n",
      "[]\n"
     ]
    },
    {
     "name": "stderr",
     "output_type": "stream",
     "text": [
      " ... (more hidden) ..."
     ]
    },
    {
     "name": "stdout",
     "output_type": "stream",
     "text": [
      "9010254 창녕여자고등학교\n",
      "급식 정보 조회 중: 날짜=20241030\n",
      "mealService 응답코드: 200\n",
      "mealServiceDietInfo 키 없음: {'RESULT': {'CODE': 'ERROR-300', 'MESSAGE': '필수 값이 누락되어 있습니다. 요청인자를 참고 하십시오.'}}\n",
      "[]\n",
      "9010330 창녕옥야고등학교\n",
      "급식 정보 조회 중: 날짜=20241030\n",
      "mealService 응답코드: 200\n",
      "mealServiceDietInfo 키 없음: {'RESULT': {'CODE': 'ERROR-300', 'MESSAGE': '필수 값이 누락되어 있습니다. 요청인자를 참고 하십시오.'}}\n"
     ]
    },
    {
     "name": "stderr",
     "output_type": "stream",
     "text": [
      " ... (more hidden) ..."
     ]
    },
    {
     "name": "stdout",
     "output_type": "stream",
     "text": [
      "[]\n",
      "9010255 창선고등학교\n",
      "급식 정보 조회 중: 날짜=20241030\n",
      "mealService 응답코드: 200\n",
      "mealServiceDietInfo 키 없음: {'RESULT': {'CODE': 'ERROR-300', 'MESSAGE': '필수 값이 누락되어 있습니다. 요청인자를 참고 하십시오.'}}\n",
      "[]\n"
     ]
    },
    {
     "name": "stderr",
     "output_type": "stream",
     "text": [
      " ... (more hidden) ..."
     ]
    },
    {
     "name": "stdout",
     "output_type": "stream",
     "text": [
      "9010112 창신고등학교\n",
      "급식 정보 조회 중: 날짜=20241030\n",
      "mealService 응답코드: 200\n",
      "mealServiceDietInfo 키 없음: {'RESULT': {'CODE': 'ERROR-300', 'MESSAGE': '필수 값이 누락되어 있습니다. 요청인자를 참고 하십시오.'}}\n",
      "[]\n",
      "9010113 창원경일고등학교\n",
      "급식 정보 조회 중: 날짜=20241030\n"
     ]
    },
    {
     "name": "stderr",
     "output_type": "stream",
     "text": [
      " ... (more hidden) ..."
     ]
    },
    {
     "name": "stdout",
     "output_type": "stream",
     "text": [
      "mealService 응답코드: 200\n",
      "mealServiceDietInfo 키 없음: {'RESULT': {'CODE': 'ERROR-300', 'MESSAGE': '필수 값이 누락되어 있습니다. 요청인자를 참고 하십시오.'}}\n",
      "[]\n",
      "9010297 창원경일여자고등학교\n",
      "급식 정보 조회 중: 날짜=20241030\n",
      "mealService 응답코드: 200\n",
      "mealServiceDietInfo 키 없음: {'RESULT': {'CODE': 'ERROR-300', 'MESSAGE': '필수 값이 누락되어 있습니다. 요청인자를 참고 하십시오.'}}\n",
      "[]\n"
     ]
    },
    {
     "name": "stderr",
     "output_type": "stream",
     "text": [
      " ... (more hidden) ..."
     ]
    },
    {
     "name": "stdout",
     "output_type": "stream",
     "text": [
      "9010114 창원고등학교\n",
      "급식 정보 조회 중: 날짜=20241030\n",
      "mealService 응답코드: 200\n",
      "mealServiceDietInfo 키 없음: {'RESULT': {'CODE': 'ERROR-300', 'MESSAGE': '필수 값이 누락되어 있습니다. 요청인자를 참고 하십시오.'}}\n",
      "[]\n",
      "9010183 창원공업고등학교\n",
      "급식 정보 조회 중: 날짜=20241030\n"
     ]
    },
    {
     "name": "stderr",
     "output_type": "stream",
     "text": [
      " ... (more hidden) ..."
     ]
    },
    {
     "name": "stdout",
     "output_type": "stream",
     "text": [
      "mealService 응답코드: 200\n",
      "mealServiceDietInfo 키 없음: {'RESULT': {'CODE': 'ERROR-300', 'MESSAGE': '필수 값이 누락되어 있습니다. 요청인자를 참고 하십시오.'}}\n",
      "[]\n",
      "9010429 창원과학고등학교\n",
      "급식 정보 조회 중: 날짜=20241030\n",
      "mealService 응답코드: 200\n",
      "mealServiceDietInfo 키 없음: {'RESULT': {'CODE': 'ERROR-300', 'MESSAGE': '필수 값이 누락되어 있습니다. 요청인자를 참고 하십시오.'}}\n",
      "[]\n"
     ]
    },
    {
     "name": "stderr",
     "output_type": "stream",
     "text": [
      " ... (more hidden) ..."
     ]
    },
    {
     "name": "stdout",
     "output_type": "stream",
     "text": [
      "9010151 창원기계공업고등학교\n",
      "급식 정보 조회 중: 날짜=20241030\n",
      "mealService 응답코드: 200\n",
      "mealServiceDietInfo 키 없음: {'RESULT': {'CODE': 'ERROR-300', 'MESSAGE': '필수 값이 누락되어 있습니다. 요청인자를 참고 하십시오.'}}\n",
      "[]\n",
      "9010115 창원남고등학교\n",
      "급식 정보 조회 중: 날짜=20241030\n"
     ]
    },
    {
     "name": "stderr",
     "output_type": "stream",
     "text": [
      " ... (more hidden) ..."
     ]
    },
    {
     "name": "stdout",
     "output_type": "stream",
     "text": [
      "mealService 응답코드: 200\n",
      "mealServiceDietInfo 키 없음: {'RESULT': {'CODE': 'ERROR-300', 'MESSAGE': '필수 값이 누락되어 있습니다. 요청인자를 참고 하십시오.'}}\n",
      "[]\n",
      "9010068 창원남산고등학교\n",
      "급식 정보 조회 중: 날짜=20241030\n",
      "mealService 응답코드: 200\n",
      "mealServiceDietInfo 키 없음: {'RESULT': {'CODE': 'ERROR-300', 'MESSAGE': '필수 값이 누락되어 있습니다. 요청인자를 참고 하십시오.'}}\n",
      "[]\n"
     ]
    },
    {
     "name": "stderr",
     "output_type": "stream",
     "text": [
      " ... (more hidden) ..."
     ]
    },
    {
     "name": "stdout",
     "output_type": "stream",
     "text": [
      "9010116 창원대산고등학교\n",
      "급식 정보 조회 중: 날짜=20241030\n",
      "mealService 응답코드: 200\n",
      "mealServiceDietInfo 키 없음: {'RESULT': {'CODE': 'ERROR-300', 'MESSAGE': '필수 값이 누락되어 있습니다. 요청인자를 참고 하십시오.'}}\n",
      "[]\n",
      "9010309 창원대암고등학교\n",
      "급식 정보 조회 중: 날짜=20241030\n"
     ]
    },
    {
     "name": "stderr",
     "output_type": "stream",
     "text": [
      " ... (more hidden) ..."
     ]
    },
    {
     "name": "stdout",
     "output_type": "stream",
     "text": [
      "mealService 응답코드: 200\n",
      "mealServiceDietInfo 키 없음: {'RESULT': {'CODE': 'ERROR-300', 'MESSAGE': '필수 값이 누락되어 있습니다. 요청인자를 참고 하십시오.'}}\n",
      "[]\n",
      "9010293 창원명곡고등학교\n",
      "급식 정보 조회 중: 날짜=20241030\n",
      "mealService 응답코드: 200\n",
      "mealServiceDietInfo 키 없음: {'RESULT': {'CODE': 'ERROR-300', 'MESSAGE': '필수 값이 누락되어 있습니다. 요청인자를 참고 하십시오.'}}\n",
      "[]\n"
     ]
    },
    {
     "name": "stderr",
     "output_type": "stream",
     "text": [
      " ... (more hidden) ..."
     ]
    },
    {
     "name": "stdout",
     "output_type": "stream",
     "text": [
      "9010069 창원명지여자고등학교\n",
      "급식 정보 조회 중: 날짜=20241030\n",
      "mealService 응답코드: 200\n",
      "mealServiceDietInfo 키 없음: {'RESULT': {'CODE': 'ERROR-300', 'MESSAGE': '필수 값이 누락되어 있습니다. 요청인자를 참고 하십시오.'}}\n",
      "[]\n",
      "9010117 창원문성고등학교\n",
      "급식 정보 조회 중: 날짜=20241030\n",
      "mealService 응답코드: 200\n",
      "mealServiceDietInfo 키 없음: {'RESULT': {'CODE': 'ERROR-300', 'MESSAGE': '필수 값이 누락되어 있습니다. 요청인자를 참고 하십시오.'}}\n",
      "[]\n"
     ]
    },
    {
     "name": "stderr",
     "output_type": "stream",
     "text": [
      " ... (more hidden) ..."
     ]
    },
    {
     "name": "stdout",
     "output_type": "stream",
     "text": [
      "9010277 창원봉림고등학교\n",
      "급식 정보 조회 중: 날짜=20241030\n",
      "mealService 응답코드: 200\n",
      "mealServiceDietInfo 키 없음: {'RESULT': {'CODE': 'ERROR-300', 'MESSAGE': '필수 값이 누락되어 있습니다. 요청인자를 참고 하십시오.'}}\n",
      "[]\n",
      "9010698 창원북면고등학교\n",
      "급식 정보 조회 중: 날짜=20241030\n"
     ]
    },
    {
     "name": "stderr",
     "output_type": "stream",
     "text": [
      " ... (more hidden) ..."
     ]
    },
    {
     "name": "stdout",
     "output_type": "stream",
     "text": [
      "mealService 응답코드: 200\n",
      "mealServiceDietInfo 키 없음: {'RESULT': {'CODE': 'ERROR-300', 'MESSAGE': '필수 값이 누락되어 있습니다. 요청인자를 참고 하십시오.'}}\n",
      "[]\n",
      "9010261 창원사파고등학교\n",
      "급식 정보 조회 중: 날짜=20241030\n",
      "mealService 응답코드: 200\n",
      "mealServiceDietInfo 키 없음: {'RESULT': {'CODE': 'ERROR-300', 'MESSAGE': '필수 값이 누락되어 있습니다. 요청인자를 참고 하십시오.'}}\n",
      "[]\n"
     ]
    },
    {
     "name": "stderr",
     "output_type": "stream",
     "text": [
      " ... (more hidden) ..."
     ]
    },
    {
     "name": "stdout",
     "output_type": "stream",
     "text": [
      "9010405 창원성민여자고등학교\n",
      "급식 정보 조회 중: 날짜=20241030\n",
      "mealService 응답코드: 200\n",
      "mealServiceDietInfo 키 없음: {'RESULT': {'CODE': 'ERROR-300', 'MESSAGE': '필수 값이 누락되어 있습니다. 요청인자를 참고 하십시오.'}}\n",
      "[]\n",
      "9010278 창원신월고등학교\n",
      "급식 정보 조회 중: 날짜=20241030\n",
      "mealService 응답코드: 200\n",
      "mealServiceDietInfo 키 없음: {'RESULT': {'CODE': 'ERROR-300', 'MESSAGE': '필수 값이 누락되어 있습니다. 요청인자를 참고 하십시오.'}}\n",
      "[]\n"
     ]
    },
    {
     "name": "stderr",
     "output_type": "stream",
     "text": [
      " ... (more hidden) ..."
     ]
    },
    {
     "name": "stdout",
     "output_type": "stream",
     "text": [
      "9010070 창원여자고등학교\n",
      "급식 정보 조회 중: 날짜=20241030\n",
      "mealService 응답코드: 200\n",
      "mealServiceDietInfo 키 없음: {'RESULT': {'CODE': 'ERROR-300', 'MESSAGE': '필수 값이 누락되어 있습니다. 요청인자를 참고 하십시오.'}}\n",
      "[]\n",
      "9010262 창원용호고등학교\n",
      "급식 정보 조회 중: 날짜=20241030\n",
      "mealService 응답코드: 200\n",
      "mealServiceDietInfo 키 없음: {'RESULT': {'CODE': 'ERROR-300', 'MESSAGE': '필수 값이 누락되어 있습니다. 요청인자를 참고 하십시오.'}}\n",
      "[]\n"
     ]
    },
    {
     "name": "stderr",
     "output_type": "stream",
     "text": [
      " ... (more hidden) ..."
     ]
    },
    {
     "name": "stdout",
     "output_type": "stream",
     "text": [
      "9010071 창원중앙고등학교\n",
      "급식 정보 조회 중: 날짜=20241030\n",
      "mealService 응답코드: 200\n",
      "mealServiceDietInfo 키 없음: {'RESULT': {'CODE': 'ERROR-300', 'MESSAGE': '필수 값이 누락되어 있습니다. 요청인자를 참고 하십시오.'}}\n",
      "[]\n",
      "9010072 창원중앙여자고등학교\n",
      "급식 정보 조회 중: 날짜=20241030\n"
     ]
    },
    {
     "name": "stderr",
     "output_type": "stream",
     "text": [
      " ... (more hidden) ..."
     ]
    },
    {
     "name": "stdout",
     "output_type": "stream",
     "text": [
      "mealService 응답코드: 200\n",
      "mealServiceDietInfo 키 없음: {'RESULT': {'CODE': 'ERROR-300', 'MESSAGE': '필수 값이 누락되어 있습니다. 요청인자를 참고 하십시오.'}}\n",
      "[]\n",
      "9010319 창원토월고등학교\n",
      "급식 정보 조회 중: 날짜=20241030\n",
      "mealService 응답코드: 200\n",
      "mealServiceDietInfo 키 없음: {'RESULT': {'CODE': 'ERROR-300', 'MESSAGE': '필수 값이 누락되어 있습니다. 요청인자를 참고 하십시오.'}}\n",
      "[]\n"
     ]
    },
    {
     "name": "stderr",
     "output_type": "stream",
     "text": [
      " ... (more hidden) ..."
     ]
    },
    {
     "name": "stdout",
     "output_type": "stream",
     "text": [
      "9010118 철성고등학교\n",
      "급식 정보 조회 중: 날짜=20241030\n",
      "mealService 응답코드: 200\n",
      "mealServiceDietInfo 키 없음: {'RESULT': {'CODE': 'ERROR-300', 'MESSAGE': '필수 값이 누락되어 있습니다. 요청인자를 참고 하십시오.'}}\n",
      "[]\n"
     ]
    },
    {
     "name": "stderr",
     "output_type": "stream",
     "text": [
      " ... (more hidden) ..."
     ]
    },
    {
     "name": "stdout",
     "output_type": "stream",
     "text": [
      "9010328 초계고등학교\n",
      "급식 정보 조회 중: 날짜=20241030\n",
      "mealService 응답코드: 200\n",
      "mealServiceDietInfo 키 없음: {'RESULT': {'CODE': 'ERROR-300', 'MESSAGE': '필수 값이 누락되어 있습니다. 요청인자를 참고 하십시오.'}}\n",
      "[]\n",
      "9010256 충렬여자고등학교\n",
      "급식 정보 조회 중: 날짜=20241030\n",
      "mealService 응답코드: 200\n",
      "mealServiceDietInfo 키 없음: {'RESULT': {'CODE': 'ERROR-300', 'MESSAGE': '필수 값이 누락되어 있습니다. 요청인자를 참고 하십시오.'}}\n",
      "[]\n"
     ]
    },
    {
     "name": "stderr",
     "output_type": "stream",
     "text": [
      " ... (more hidden) ..."
     ]
    },
    {
     "name": "stdout",
     "output_type": "stream",
     "text": [
      "9010073 충무고등학교\n",
      "급식 정보 조회 중: 날짜=20241030\n",
      "mealService 응답코드: 200\n",
      "mealServiceDietInfo 키 없음: {'RESULT': {'CODE': 'ERROR-300', 'MESSAGE': '필수 값이 누락되어 있습니다. 요청인자를 참고 하십시오.'}}\n",
      "[]\n",
      "9010119 칠원고등학교\n",
      "급식 정보 조회 중: 날짜=20241030\n"
     ]
    },
    {
     "name": "stderr",
     "output_type": "stream",
     "text": [
      " ... (more hidden) ..."
     ]
    },
    {
     "name": "stdout",
     "output_type": "stream",
     "text": [
      "mealService 응답코드: 200\n",
      "mealServiceDietInfo 키 없음: {'RESULT': {'CODE': 'ERROR-300', 'MESSAGE': '필수 값이 누락되어 있습니다. 요청인자를 참고 하십시오.'}}\n",
      "[]\n",
      "9010406 태봉고등학교\n",
      "급식 정보 조회 중: 날짜=20241030\n",
      "mealService 응답코드: 200\n",
      "mealServiceDietInfo 키 없음: {'RESULT': {'CODE': 'ERROR-300', 'MESSAGE': '필수 값이 누락되어 있습니다. 요청인자를 참고 하십시오.'}}\n",
      "[]\n"
     ]
    },
    {
     "name": "stderr",
     "output_type": "stream",
     "text": [
      " ... (more hidden) ..."
     ]
    },
    {
     "name": "stdout",
     "output_type": "stream",
     "text": [
      "9010074 통영고등학교\n",
      "급식 정보 조회 중: 날짜=20241030\n",
      "mealService 응답코드: 200\n",
      "mealServiceDietInfo 키 없음: {'RESULT': {'CODE': 'ERROR-300', 'MESSAGE': '필수 값이 누락되어 있습니다. 요청인자를 참고 하십시오.'}}\n",
      "[]\n",
      "9010075 통영여자고등학교\n",
      "급식 정보 조회 중: 날짜=20241030\n"
     ]
    },
    {
     "name": "stderr",
     "output_type": "stream",
     "text": [
      " ... (more hidden) ..."
     ]
    },
    {
     "name": "stdout",
     "output_type": "stream",
     "text": [
      "mealService 응답코드: 200\n",
      "mealServiceDietInfo 키 없음: {'RESULT': {'CODE': 'ERROR-300', 'MESSAGE': '필수 값이 누락되어 있습니다. 요청인자를 참고 하십시오.'}}\n",
      "[]\n",
      "9010230 하동고등학교\n",
      "급식 정보 조회 중: 날짜=20241030\n",
      "mealService 응답코드: 200\n",
      "mealServiceDietInfo 키 없음: {'RESULT': {'CODE': 'ERROR-300', 'MESSAGE': '필수 값이 누락되어 있습니다. 요청인자를 참고 하십시오.'}}\n",
      "[]\n"
     ]
    },
    {
     "name": "stderr",
     "output_type": "stream",
     "text": [
      " ... (more hidden) ..."
     ]
    },
    {
     "name": "stdout",
     "output_type": "stream",
     "text": [
      "9010120 하동여자고등학교\n",
      "급식 정보 조회 중: 날짜=20241030\n",
      "mealService 응답코드: 200\n",
      "mealServiceDietInfo 키 없음: {'RESULT': {'CODE': 'ERROR-300', 'MESSAGE': '필수 값이 누락되어 있습니다. 요청인자를 참고 하십시오.'}}\n",
      "[]\n",
      "9010697 한국과학기술고등학교\n",
      "급식 정보 조회 중: 날짜=20241030\n",
      "mealService 응답코드: 200\n",
      "mealServiceDietInfo 키 없음: {'RESULT': {'CODE': 'ERROR-300', 'MESSAGE': '필수 값이 누락되어 있습니다. 요청인자를 참고 하십시오.'}}\n",
      "[]\n"
     ]
    },
    {
     "name": "stderr",
     "output_type": "stream",
     "text": [
      " ... (more hidden) ..."
     ]
    },
    {
     "name": "stdout",
     "output_type": "stream",
     "text": [
      "9010655 한국나노마이스터고등학교\n",
      "급식 정보 조회 중: 날짜=20241030\n",
      "mealService 응답코드: 200\n",
      "mealServiceDietInfo 키 없음: {'RESULT': {'CODE': 'ERROR-300', 'MESSAGE': '필수 값이 누락되어 있습니다. 요청인자를 참고 하십시오.'}}\n",
      "[]\n",
      "9010531 한일여자고등학교\n",
      "급식 정보 조회 중: 날짜=20241030\n"
     ]
    },
    {
     "name": "stderr",
     "output_type": "stream",
     "text": [
      " ... (more hidden) ..."
     ]
    },
    {
     "name": "stdout",
     "output_type": "stream",
     "text": [
      "mealService 응답코드: 200\n",
      "mealServiceDietInfo 키 없음: {'RESULT': {'CODE': 'ERROR-300', 'MESSAGE': '필수 값이 누락되어 있습니다. 요청인자를 참고 하십시오.'}}\n",
      "[]\n",
      "9010224 함안고등학교\n",
      "급식 정보 조회 중: 날짜=20241030\n",
      "mealService 응답코드: 200\n",
      "mealServiceDietInfo 키 없음: {'RESULT': {'CODE': 'ERROR-300', 'MESSAGE': '필수 값이 누락되어 있습니다. 요청인자를 참고 하십시오.'}}\n",
      "[]\n"
     ]
    },
    {
     "name": "stderr",
     "output_type": "stream",
     "text": [
      " ... (more hidden) ..."
     ]
    },
    {
     "name": "stdout",
     "output_type": "stream",
     "text": [
      "9010076 함양고등학교\n",
      "급식 정보 조회 중: 날짜=20241030\n",
      "mealService 응답코드: 200\n",
      "mealServiceDietInfo 키 없음: {'RESULT': {'CODE': 'ERROR-300', 'MESSAGE': '필수 값이 누락되어 있습니다. 요청인자를 참고 하십시오.'}}\n",
      "[]\n",
      "9010232 함양제일고등학교\n",
      "급식 정보 조회 중: 날짜=20241030\n"
     ]
    },
    {
     "name": "stderr",
     "output_type": "stream",
     "text": [
      " ... (more hidden) ..."
     ]
    },
    {
     "name": "stdout",
     "output_type": "stream",
     "text": [
      "mealService 응답코드: 200\n",
      "mealServiceDietInfo 키 없음: {'RESULT': {'CODE': 'ERROR-300', 'MESSAGE': '필수 값이 누락되어 있습니다. 요청인자를 참고 하십시오.'}}\n",
      "[]\n",
      "9010156 합천고등학교\n",
      "급식 정보 조회 중: 날짜=20241030\n",
      "mealService 응답코드: 200\n",
      "mealServiceDietInfo 키 없음: {'RESULT': {'CODE': 'ERROR-300', 'MESSAGE': '필수 값이 누락되어 있습니다. 요청인자를 참고 하십시오.'}}\n",
      "[]\n"
     ]
    },
    {
     "name": "stderr",
     "output_type": "stream",
     "text": [
      " ... (more hidden) ..."
     ]
    },
    {
     "name": "stdout",
     "output_type": "stream",
     "text": [
      "9010189 합천여자고등학교\n",
      "급식 정보 조회 중: 날짜=20241030\n",
      "mealService 응답코드: 200\n",
      "mealServiceDietInfo 키 없음: {'RESULT': {'CODE': 'ERROR-300', 'MESSAGE': '필수 값이 누락되어 있습니다. 요청인자를 참고 하십시오.'}}\n",
      "[]\n",
      "9010668 합천평화고등학교\n",
      "급식 정보 조회 중: 날짜=20241030\n",
      "mealService 응답코드: 200\n",
      "mealServiceDietInfo 키 없음: {'RESULT': {'CODE': 'ERROR-300', 'MESSAGE': '필수 값이 누락되어 있습니다. 요청인자를 참고 하십시오.'}}\n",
      "[]\n"
     ]
    },
    {
     "name": "stderr",
     "output_type": "stream",
     "text": [
      " ... (more hidden) ..."
     ]
    },
    {
     "name": "stdout",
     "output_type": "stream",
     "text": [
      "9010077 합포고등학교\n",
      "급식 정보 조회 중: 날짜=20241030\n",
      "mealService 응답코드: 200\n",
      "mealServiceDietInfo 키 없음: {'RESULT': {'CODE': 'ERROR-300', 'MESSAGE': '필수 값이 누락되어 있습니다. 요청인자를 참고 하십시오.'}}\n",
      "[]\n",
      "9010121 해성고등학교\n",
      "급식 정보 조회 중: 날짜=20241030\n",
      "mealService 응답코드: 200\n",
      "mealServiceDietInfo 키 없음: {'RESULT': {'CODE': 'ERROR-300', 'MESSAGE': '필수 값이 누락되어 있습니다. 요청인자를 참고 하십시오.'}}\n",
      "[]\n"
     ]
    },
    {
     "name": "stderr",
     "output_type": "stream",
     "text": [
      " ... (more hidden) ...\n"
     ]
    },
    {
     "name": "stdout",
     "output_type": "stream",
     "text": [
      "응답코드 : 200\n"
     ]
    },
    {
     "name": "stderr",
     "output_type": "stream",
     "text": [
      " ... (more hidden) ..."
     ]
    },
    {
     "name": "stdout",
     "output_type": "stream",
     "text": [
      "9290076 남녕고등학교\n",
      "급식 정보 조회 중: 날짜=20241030\n",
      "mealService 응답코드: 200\n",
      "mealServiceDietInfo 키 없음: {'RESULT': {'CODE': 'ERROR-300', 'MESSAGE': '필수 값이 누락되어 있습니다. 요청인자를 참고 하십시오.'}}\n",
      "[]\n",
      "9290073 남주고등학교\n",
      "급식 정보 조회 중: 날짜=20241030\n"
     ]
    },
    {
     "name": "stderr",
     "output_type": "stream",
     "text": [
      " ... (more hidden) ..."
     ]
    },
    {
     "name": "stdout",
     "output_type": "stream",
     "text": [
      "mealService 응답코드: 200\n",
      "mealServiceDietInfo 키 없음: {'RESULT': {'CODE': 'ERROR-300', 'MESSAGE': '필수 값이 누락되어 있습니다. 요청인자를 참고 하십시오.'}}\n",
      "[]\n",
      "9290075 대기고등학교\n",
      "급식 정보 조회 중: 날짜=20241030\n",
      "mealService 응답코드: 200\n",
      "mealServiceDietInfo 키 없음: {'RESULT': {'CODE': 'ERROR-300', 'MESSAGE': '필수 값이 누락되어 있습니다. 요청인자를 참고 하십시오.'}}\n",
      "[]\n"
     ]
    },
    {
     "name": "stderr",
     "output_type": "stream",
     "text": [
      " ... (more hidden) ..."
     ]
    },
    {
     "name": "stdout",
     "output_type": "stream",
     "text": [
      "9290056 대정고등학교\n",
      "급식 정보 조회 중: 날짜=20241030\n",
      "mealService 응답코드: 200\n",
      "mealServiceDietInfo 키 없음: {'RESULT': {'CODE': 'ERROR-300', 'MESSAGE': '필수 값이 누락되어 있습니다. 요청인자를 참고 하십시오.'}}\n",
      "[]\n",
      "9290057 대정여자고등학교\n",
      "급식 정보 조회 중: 날짜=20241030\n"
     ]
    },
    {
     "name": "stderr",
     "output_type": "stream",
     "text": [
      " ... (more hidden) ..."
     ]
    },
    {
     "name": "stdout",
     "output_type": "stream",
     "text": [
      "mealService 응답코드: 200\n",
      "mealServiceDietInfo 키 없음: {'RESULT': {'CODE': 'ERROR-300', 'MESSAGE': '필수 값이 누락되어 있습니다. 요청인자를 참고 하십시오.'}}\n",
      "[]\n",
      "9290074 삼성여자고등학교\n",
      "급식 정보 조회 중: 날짜=20241030\n",
      "mealService 응답코드: 200\n",
      "mealServiceDietInfo 키 없음: {'RESULT': {'CODE': 'ERROR-300', 'MESSAGE': '필수 값이 누락되어 있습니다. 요청인자를 참고 하십시오.'}}\n",
      "[]\n"
     ]
    },
    {
     "name": "stderr",
     "output_type": "stream",
     "text": [
      " ... (more hidden) ..."
     ]
    },
    {
     "name": "stdout",
     "output_type": "stream",
     "text": [
      "9290059 서귀포고등학교\n",
      "급식 정보 조회 중: 날짜=20241030\n",
      "mealService 응답코드: 200\n",
      "mealServiceDietInfo 키 없음: {'RESULT': {'CODE': 'ERROR-300', 'MESSAGE': '필수 값이 누락되어 있습니다. 요청인자를 참고 하십시오.'}}\n",
      "[]\n",
      "9290060 서귀포산업과학고등학교\n",
      "급식 정보 조회 중: 날짜=20241030\n"
     ]
    },
    {
     "name": "stderr",
     "output_type": "stream",
     "text": [
      " ... (more hidden) ..."
     ]
    },
    {
     "name": "stdout",
     "output_type": "stream",
     "text": [
      "mealService 응답코드: 200\n",
      "mealServiceDietInfo 키 없음: {'RESULT': {'CODE': 'ERROR-300', 'MESSAGE': '필수 값이 누락되어 있습니다. 요청인자를 참고 하십시오.'}}\n",
      "[]\n",
      "9290061 서귀포여자고등학교\n",
      "급식 정보 조회 중: 날짜=20241030\n",
      "mealService 응답코드: 200\n",
      "mealServiceDietInfo 키 없음: {'RESULT': {'CODE': 'ERROR-300', 'MESSAGE': '필수 값이 누락되어 있습니다. 요청인자를 참고 하십시오.'}}\n",
      "[]\n"
     ]
    },
    {
     "name": "stderr",
     "output_type": "stream",
     "text": [
      " ... (more hidden) ..."
     ]
    },
    {
     "name": "stdout",
     "output_type": "stream",
     "text": [
      "9290102 성산고등학교\n",
      "급식 정보 조회 중: 날짜=20241030\n",
      "mealService 응답코드: 200\n",
      "mealServiceDietInfo 키 없음: {'RESULT': {'CODE': 'ERROR-300', 'MESSAGE': '필수 값이 누락되어 있습니다. 요청인자를 참고 하십시오.'}}\n",
      "[]\n",
      "9290064 세화고등학교\n",
      "급식 정보 조회 중: 날짜=20241030\n"
     ]
    },
    {
     "name": "stderr",
     "output_type": "stream",
     "text": [
      " ... (more hidden) ..."
     ]
    },
    {
     "name": "stdout",
     "output_type": "stream",
     "text": [
      "mealService 응답코드: 200\n",
      "mealServiceDietInfo 키 없음: {'RESULT': {'CODE': 'ERROR-300', 'MESSAGE': '필수 값이 누락되어 있습니다. 요청인자를 참고 하십시오.'}}\n",
      "[]\n",
      "9290072 신성여자고등학교\n",
      "급식 정보 조회 중: 날짜=20241030\n",
      "mealService 응답코드: 200\n",
      "mealServiceDietInfo 키 없음: {'RESULT': {'CODE': 'ERROR-300', 'MESSAGE': '필수 값이 누락되어 있습니다. 요청인자를 참고 하십시오.'}}\n",
      "[]\n"
     ]
    },
    {
     "name": "stderr",
     "output_type": "stream",
     "text": [
      " ... (more hidden) ..."
     ]
    },
    {
     "name": "stdout",
     "output_type": "stream",
     "text": [
      "9290086 애월고등학교\n",
      "급식 정보 조회 중: 날짜=20241030\n",
      "mealService 응답코드: 200\n",
      "mealServiceDietInfo 키 없음: {'RESULT': {'CODE': 'ERROR-300', 'MESSAGE': '필수 값이 누락되어 있습니다. 요청인자를 참고 하십시오.'}}\n",
      "[]\n",
      "9290089 영주고등학교\n",
      "급식 정보 조회 중: 날짜=20241030\n"
     ]
    },
    {
     "name": "stderr",
     "output_type": "stream",
     "text": [
      " ... (more hidden) ..."
     ]
    },
    {
     "name": "stdout",
     "output_type": "stream",
     "text": [
      "mealService 응답코드: 200\n",
      "mealServiceDietInfo 키 없음: {'RESULT': {'CODE': 'ERROR-300', 'MESSAGE': '필수 값이 누락되어 있습니다. 요청인자를 참고 하십시오.'}}\n",
      "[]\n",
      "9290069 오현고등학교\n",
      "급식 정보 조회 중: 날짜=20241030\n",
      "mealService 응답코드: 200\n",
      "mealServiceDietInfo 키 없음: {'RESULT': {'CODE': 'ERROR-300', 'MESSAGE': '필수 값이 누락되어 있습니다. 요청인자를 참고 하십시오.'}}\n",
      "[]\n"
     ]
    },
    {
     "name": "stderr",
     "output_type": "stream",
     "text": [
      " ... (more hidden) ..."
     ]
    },
    {
     "name": "stdout",
     "output_type": "stream",
     "text": [
      "9290096 제주고등학교\n",
      "급식 정보 조회 중: 날짜=20241030\n",
      "mealService 응답코드: 200\n",
      "mealServiceDietInfo 키 없음: {'RESULT': {'CODE': 'ERROR-300', 'MESSAGE': '필수 값이 누락되어 있습니다. 요청인자를 참고 하십시오.'}}\n",
      "[]\n",
      "9290066 제주과학고등학교\n",
      "급식 정보 조회 중: 날짜=20241030\n"
     ]
    },
    {
     "name": "stderr",
     "output_type": "stream",
     "text": [
      " ... (more hidden) ..."
     ]
    },
    {
     "name": "stdout",
     "output_type": "stream",
     "text": [
      "mealService 응답코드: 200\n",
      "mealServiceDietInfo 키 없음: {'RESULT': {'CODE': 'ERROR-300', 'MESSAGE': '필수 값이 누락되어 있습니다. 요청인자를 참고 하십시오.'}}\n",
      "[]\n",
      "7003713 제주대학교사범대학부설고등학교\n",
      "급식 정보 조회 중: 날짜=20241030\n",
      "mealService 응답코드: 200\n",
      "mealServiceDietInfo 키 없음: {'RESULT': {'CODE': 'ERROR-300', 'MESSAGE': '필수 값이 누락되어 있습니다. 요청인자를 참고 하십시오.'}}\n",
      "[]\n"
     ]
    },
    {
     "name": "stderr",
     "output_type": "stream",
     "text": [
      " ... (more hidden) ..."
     ]
    },
    {
     "name": "stdout",
     "output_type": "stream",
     "text": [
      "9290071 제주여자고등학교\n",
      "급식 정보 조회 중: 날짜=20241030\n",
      "mealService 응답코드: 200\n",
      "mealServiceDietInfo 키 없음: {'RESULT': {'CODE': 'ERROR-300', 'MESSAGE': '필수 값이 누락되어 있습니다. 요청인자를 참고 하십시오.'}}\n",
      "[]\n",
      "9290051 제주여자상업고등학교\n",
      "급식 정보 조회 중: 날짜=20241030\n",
      "mealService 응답코드: 200\n",
      "mealServiceDietInfo 키 없음: {'RESULT': {'CODE': 'ERROR-300', 'MESSAGE': '필수 값이 누락되어 있습니다. 요청인자를 참고 하십시오.'}}\n",
      "[]\n"
     ]
    },
    {
     "name": "stderr",
     "output_type": "stream",
     "text": [
      " ... (more hidden) ..."
     ]
    },
    {
     "name": "stdout",
     "output_type": "stream",
     "text": [
      "9290068 제주외국어고등학교\n",
      "급식 정보 조회 중: 날짜=20241030\n",
      "mealService 응답코드: 200\n",
      "mealServiceDietInfo 키 없음: {'RESULT': {'CODE': 'ERROR-300', 'MESSAGE': '필수 값이 누락되어 있습니다. 요청인자를 참고 하십시오.'}}\n",
      "[]\n",
      "9290049 제주제일고등학교\n",
      "급식 정보 조회 중: 날짜=20241030\n"
     ]
    },
    {
     "name": "stderr",
     "output_type": "stream",
     "text": [
      " ... (more hidden) ..."
     ]
    },
    {
     "name": "stdout",
     "output_type": "stream",
     "text": [
      "mealService 응답코드: 200\n",
      "mealServiceDietInfo 키 없음: {'RESULT': {'CODE': 'ERROR-300', 'MESSAGE': '필수 값이 누락되어 있습니다. 요청인자를 참고 하십시오.'}}\n",
      "[]\n",
      "9290088 제주중앙고등학교\n",
      "급식 정보 조회 중: 날짜=20241030\n",
      "mealService 응답코드: 200\n",
      "mealServiceDietInfo 키 없음: {'RESULT': {'CODE': 'ERROR-300', 'MESSAGE': '필수 값이 누락되어 있습니다. 요청인자를 참고 하십시오.'}}\n",
      "[]\n"
     ]
    },
    {
     "name": "stderr",
     "output_type": "stream",
     "text": [
      " ... (more hidden) ..."
     ]
    },
    {
     "name": "stdout",
     "output_type": "stream",
     "text": [
      "9290050 제주중앙여자고등학교\n",
      "급식 정보 조회 중: 날짜=20241030\n",
      "mealService 응답코드: 200\n",
      "mealServiceDietInfo 키 없음: {'RESULT': {'CODE': 'ERROR-300', 'MESSAGE': '필수 값이 누락되어 있습니다. 요청인자를 참고 하십시오.'}}\n",
      "[]\n",
      "9290128 중문고등학교\n",
      "급식 정보 조회 중: 날짜=20241030\n"
     ]
    },
    {
     "name": "stderr",
     "output_type": "stream",
     "text": [
      " ... (more hidden) ..."
     ]
    },
    {
     "name": "stdout",
     "output_type": "stream",
     "text": [
      "mealService 응답코드: 200\n",
      "mealServiceDietInfo 키 없음: {'RESULT': {'CODE': 'ERROR-300', 'MESSAGE': '필수 값이 누락되어 있습니다. 요청인자를 참고 하십시오.'}}\n",
      "[]\n",
      "9290087 표선고등학교\n",
      "급식 정보 조회 중: 날짜=20241030\n",
      "mealService 응답코드: 200\n",
      "mealServiceDietInfo 키 없음: {'RESULT': {'CODE': 'ERROR-300', 'MESSAGE': '필수 값이 누락되어 있습니다. 요청인자를 참고 하십시오.'}}\n",
      "[]\n"
     ]
    },
    {
     "name": "stderr",
     "output_type": "stream",
     "text": [
      " ... (more hidden) ..."
     ]
    },
    {
     "name": "stdout",
     "output_type": "stream",
     "text": [
      "9290104 한국뷰티고등학교\n",
      "급식 정보 조회 중: 날짜=20241030\n",
      "mealService 응답코드: 200\n",
      "mealServiceDietInfo 키 없음: {'RESULT': {'CODE': 'ERROR-300', 'MESSAGE': '필수 값이 누락되어 있습니다. 요청인자를 참고 하십시오.'}}\n",
      "[]\n"
     ]
    },
    {
     "name": "stderr",
     "output_type": "stream",
     "text": [
      " ... (more hidden) ..."
     ]
    },
    {
     "name": "stdout",
     "output_type": "stream",
     "text": [
      "9290055 한림고등학교\n",
      "급식 정보 조회 중: 날짜=20241030\n",
      "mealService 응답코드: 200\n",
      "mealServiceDietInfo 키 없음: {'RESULT': {'CODE': 'ERROR-300', 'MESSAGE': '필수 값이 누락되어 있습니다. 요청인자를 참고 하십시오.'}}\n",
      "[]\n",
      "9290054 한림공업고등학교\n",
      "급식 정보 조회 중: 날짜=20241030\n"
     ]
    },
    {
     "name": "stderr",
     "output_type": "stream",
     "text": [
      " ... (more hidden) ..."
     ]
    },
    {
     "name": "stdout",
     "output_type": "stream",
     "text": [
      "mealService 응답코드: 200\n",
      "mealServiceDietInfo 키 없음: {'RESULT': {'CODE': 'ERROR-300', 'MESSAGE': '필수 값이 누락되어 있습니다. 요청인자를 참고 하십시오.'}}\n",
      "[]\n",
      "9290103 함덕고등학교\n",
      "급식 정보 조회 중: 날짜=20241030\n",
      "mealService 응답코드: 200\n",
      "mealServiceDietInfo 키 없음: {'RESULT': {'CODE': 'ERROR-300', 'MESSAGE': '필수 값이 누락되어 있습니다. 요청인자를 참고 하십시오.'}}\n",
      "[]\n"
     ]
    },
    {
     "name": "stderr",
     "output_type": "stream",
     "text": [
      " ... (more hidden) ..."
     ]
    },
    {
     "name": "stdout",
     "output_type": "stream",
     "text": [
      "수집된 급식 행 수: 0\n",
      "Empty DataFrame\n",
      "Columns: []\n",
      "Index: []\n"
     ]
    },
    {
     "name": "stderr",
     "output_type": "stream",
     "text": [
      "\n"
     ]
    }
   ],
   "source": [
    "EDU_CODES = [\n",
    "    \"B10\", \"C10\", \"D10\", \"E10\", \"F10\", \"G10\", \"H10\", \"I10\", \"J10\",\n",
    "    \"K10\", \"M10\", \"N10\", \"P10\", \"Q10\", \"R10\", \"S10\", \"T10\"\n",
    "]\n",
    "import requests\n",
    "import pandas as pd\n",
    "from datetime import datetime, timedelta\n",
    "from tqdm import tqdm\n",
    "import time\n",
    "\n",
    "API_KEY = '3c3bbe3ed1194b93a7aa44e8e81adee6'\n",
    "\n",
    "# 최근 한달 기간 설정\n",
    "today = datetime.today()\n",
    "one_month_ago = today - timedelta(days=30)\n",
    "FROM_DATE = one_month_ago.strftime('%Y%m%d')\n",
    "TO_DATE = today.strftime('%Y%m%d')\n",
    "                         \n",
    "def get_highschools(edu_code):\n",
    "    url = 'https://open.neis.go.kr/hub/schoolInfo'\n",
    "    params = {\n",
    "        'KEY': API_KEY, \n",
    "        'Type' : 'json', \n",
    "        'ATPT_OFCDC_SC_CODE' : edu_code, \n",
    "        'pIndex': 1, \n",
    "        'pSize': 1000\n",
    "    }\n",
    "    highschools = []\n",
    "    try:\n",
    "        res = requests.get(url, params=params, timeout=5)\n",
    "        print(f\"응답코드 : {res.status_code}\")\n",
    "        if res.status_code == 200 and 'schoolInfo' in res.json():\n",
    "            rows = res.json()['schoolInfo'][1]['row']\n",
    "            for row in rows:\n",
    "                if row.get('SCHUL_KND_SC_NM') == '고등학교':\n",
    "                    highschools.append((row['SD_SCHUL_CODE'], row['SCHUL_NM']))\n",
    "                else:\n",
    "                    pass\n",
    "        else:\n",
    "            print(\"200은 뜨나, schoolinfo은 없음\")\n",
    "    except Exception as e:\n",
    "        print(\"고등학교 목록 오류: {e}\")\n",
    "    return highschools\n",
    "\n",
    "highschool_list = get_highschools(EDU_CODE)\n",
    "len(highschool_list)\n",
    "\n",
    "\n",
    "def get_meal_info(edu_code, school_code, from_date, to_date):\n",
    "    print(f\"급식 정보 조회 중: 날짜={TARGET_DATE}\")\n",
    "    url = \"https://open.neis.go.kr/hub/mealServiceDietInfo\"\n",
    "    params = {\n",
    "        \"KEY\": API_KEY,\n",
    "        \"Type\": \"json\",\n",
    "        \"ATPT_OFCDC_SC_CODE\": edu_code,\n",
    "        \"MLSV_FROM_YMD\": from_date,\n",
    "        \"MLSV_TO_YMD\": to_date,\n",
    "        \"pIndex\" : 1,\n",
    "        \"pSize\" : 100\n",
    "    }\n",
    "    try:\n",
    "        res = requests.get(url, params=params, timeout=5)\n",
    "        print(f\"mealService 응답코드: {res.status_code}\")\n",
    "        if res.status_code == 200:\n",
    "            data = res.json()\n",
    "            if \"mealServiceDietInfo\" in data:\n",
    "                print(f\"급식 데이터 수: {len(data['mealServiceDietInfo'][1]['row'])}\")\n",
    "                return data[\"mealServiceDietInfo\"][1][\"row\"]\n",
    "            else:\n",
    "                print(\"mealServiceDietInfo 키 없음:\", data)\n",
    "        else:\n",
    "            print(\"응답 실패:\", res.text)\n",
    "    except Exception as e:\n",
    "        print(f\"급식 정보 조회 오류: {e}\")\n",
    "    return []\n",
    "\n",
    "\n",
    "all_data =[]\n",
    "for EDU_CODE in EDU_CODES:\n",
    "    highschool_list = get_highschools(EDU_CODE)\n",
    "    for school_code, school_name in tqdm(highschool_list, desc=\"고등학교 급식 조회\"):\n",
    "        print(school_code, school_name)\n",
    "        meals = get_meal_info(EDU_CODE, school_code, FROM_DATE, TO_DATE)\n",
    "        print(meals)\n",
    "        for meal in meals:\n",
    "            all_data.append({\n",
    "                \"교육청코드\": EDU_CODE,\n",
    "                \"학교코드\": school_code,\n",
    "                \"학교명\": school_name,\n",
    "                \"급식일자\": meal.get(\"MLSV_YMD\"),\n",
    "                \"식사명\": meal.get(\"MMEAL_SC_NM\"),\n",
    "                \"급식식단\": meal.get(\"DDISH_NM\")\n",
    "            })\n",
    "        time.sleep(0.1)\n",
    "\n",
    "# 저장\n",
    "df = pd.DataFrame(all_data)\n",
    "print(\"수집된 급식 행 수:\", len(df))\n",
    "print(df.head())"
   ]
  },
  {
   "cell_type": "code",
   "execution_count": null,
   "id": "be363eef-bf38-4374-bbc5-26d0930315b5",
   "metadata": {},
   "outputs": [],
   "source": []
  },
  {
   "cell_type": "code",
   "execution_count": null,
   "id": "c867a0ca-003c-4b8d-bbd0-fa0378c0ffbb",
   "metadata": {},
   "outputs": [],
   "source": [
    "import requests\n",
    "import pandas as pd\n",
    "from datetime import datetime, timedelta\n",
    "from tqdm import tqdm\n",
    "import time\n",
    "\n",
    "EDU_CODES = [\n",
    "    \"B10\", \"C10\", \"D10\", \"E10\", \"F10\", \"G10\", \"H10\", \"I10\", \"J10\",\n",
    "    \"K10\", \"M10\", \"N10\", \"P10\", \"Q10\", \"R10\", \"S10\", \"T10\"\n",
    "]\n",
    "\n",
    "API_KEY = '3c3bbe3ed1194b93a7aa44e8e81adee6'\n",
    "\n",
    "today = datetime.today()\n",
    "one_month_ago = today - timedelta(days=30)\n",
    "FROM_DATE = one_month_ago.strftime('%Y%m%d')\n",
    "TO_DATE = today.strftime('%Y%m%d')\n",
    "\n",
    "\n",
    "def get_highschools(edu_code):\n",
    "    url = 'https://open.neis.go.kr/hub/schoolInfo'\n",
    "    params = {\n",
    "        'KEY': API_KEY, \n",
    "        'Type': 'json', \n",
    "        'ATPT_OFCDC_SC_CODE': edu_code, \n",
    "        'pIndex': 1, \n",
    "        'pSize': 1000\n",
    "    }\n",
    "    highschools = []\n",
    "    try:\n",
    "        res = requests.get(url, params=params, timeout=5)\n",
    "        if res.status_code == 200 and 'schoolInfo' in res.json():\n",
    "            rows = res.json()['schoolInfo'][1]['row']\n",
    "            for row in rows:\n",
    "                if row.get('SCHUL_KND_SC_NM') == '고등학교':\n",
    "                    highschools.append((row['SD_SCHUL_CODE'], row['SCHUL_NM']))\n",
    "    except Exception as e:\n",
    "        print(f\"[오류] 고등학교 목록 조회 실패: {e}\")\n",
    "    return highschools\n",
    "\n",
    "\n",
    "def get_meal_info(edu_code, school_code, from_date, to_date):\n",
    "    url = \"https://open.neis.go.kr/hub/mealServiceDietInfo\"\n",
    "    params = {\n",
    "        \"KEY\": API_KEY,\n",
    "        \"Type\": \"json\",\n",
    "        \"ATPT_OFCDC_SC_CODE\": edu_code,\n",
    "        \"SD_SCHUL_CODE\": school_code,\n",
    "        \"MLSV_FROM_YMD\": from_date,\n",
    "        \"MLSV_TO_YMD\": to_date,\n",
    "        \"pIndex\": 1,\n",
    "        \"pSize\": 100\n",
    "    }\n",
    "    try:\n",
    "        res = requests.get(url, params=params, timeout=5)\n",
    "        if res.status_code == 200:\n",
    "            data = res.json()\n",
    "            if \"mealServiceDietInfo\" in data:\n",
    "                return data[\"mealServiceDietInfo\"][1][\"row\"]\n",
    "    except Exception as e:\n",
    "        print(f\"[오류] 급식 정보 조회 실패 ({school_code}): {e}\")\n",
    "    return []\n",
    "\n",
    "\n",
    "all_data = []\n",
    "\n",
    "for EDU_CODE in EDU_CODES:\n",
    "    highschool_list = get_highschools(EDU_CODE)\n",
    "    for school_code, school_name in tqdm(highschool_list, desc=f\"[{EDU_CODE}] 고등학교 급식 조회\"):\n",
    "        meals = get_meal_info(EDU_CODE, school_code, FROM_DATE, TO_DATE)\n",
    "        for meal in meals:\n",
    "            all_data.append({\n",
    "                \"교육청코드\": EDU_CODE,\n",
    "                \"학교코드\": school_code,\n",
    "                \"학교명\": school_name,\n",
    "                \"급식일자\": meal.get(\"MLSV_YMD\"),\n",
    "                \"식사명\": meal.get(\"MMEAL_SC_NM\"),\n",
    "                \"급식식단\": meal.get(\"DDISH_NM\")\n",
    "            })\n",
    "        time.sleep(0.1)\n",
    "\n",
    "# 결과 저장\n",
    "df = pd.DataFrame(all_data)\n",
    "print(\"총 수집된 급식 정보:\", len(df))\n",
    "# print(df.head())\n",
    "df.head()"
   ]
  },
  {
   "cell_type": "code",
   "execution_count": null,
   "id": "9e2a6138-3a0f-421b-87a2-70385afde162",
   "metadata": {},
   "outputs": [],
   "source": []
  }
 ],
 "metadata": {
  "kernelspec": {
   "display_name": "Python 3 (ipykernel)",
   "language": "python",
   "name": "python3"
  },
  "language_info": {
   "codemirror_mode": {
    "name": "ipython",
    "version": 3
   },
   "file_extension": ".py",
   "mimetype": "text/x-python",
   "name": "python",
   "nbconvert_exporter": "python",
   "pygments_lexer": "ipython3",
   "version": "3.11.12"
  }
 },
 "nbformat": 4,
 "nbformat_minor": 5
}
