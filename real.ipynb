{
 "cells": [
  {
   "cell_type": "code",
   "execution_count": 1,
   "metadata": {},
   "outputs": [],
   "source": [
    "from selenium import webdriver\n",
    "from selenium.webdriver.chrome.service import Service\n",
    "from selenium.webdriver.common.by import By\n",
    "from webdriver_manager.chrome import ChromeDriverManager\n",
    "import time\n",
    "\n",
    "# 1. Chrome 드라이버 설정\n",
    "options = webdriver.ChromeOptions()\n",
    "options.add_argument(\"--start-maximized\")  # 창 띄우기\n",
    "driver = webdriver.Chrome(service=Service(ChromeDriverManager().install()), options=options)\n",
    "\n",
    "# 2. 사이트 접속\n",
    "driver.get(\"https://quotes.toscrape.com\")\n",
    "time.sleep(2)  # 로딩 대기\n",
    "\n",
    "# 3. \"Login\" 버튼 클릭\n",
    "login_link = driver.find_element(By.LINK_TEXT, \"Login\")\n",
    "login_link.click()\n",
    "\n",
    "# 4. 결과 확인용 대기\n",
    "time.sleep(3)\n",
    "\n",
    "# driver.quit()"
   ]
  },
  {
   "cell_type": "markdown",
   "metadata": {},
   "source": [
    "# 웹사이트에서 직접 크롤링"
   ]
  },
  {
   "cell_type": "code",
   "execution_count": 1,
   "metadata": {},
   "outputs": [
    {
     "name": "stdout",
     "output_type": "stream",
     "text": [
      "“The world as we have created it is a process of our thinking. It cannot be changed without changing our thinking.” — Albert Einstein\n",
      "“It is our choices, Harry, that show what we truly are, far more than our abilities.” — J.K. Rowling\n",
      "“There are only two ways to live your life. One is as though nothing is a miracle. The other is as though everything is a miracle.” — Albert Einstein\n",
      "“The person, be it gentleman or lady, who has not pleasure in a good novel, must be intolerably stupid.” — Jane Austen\n",
      "“Imperfection is beauty, madness is genius and it's better to be absolutely ridiculous than absolutely boring.” — Marilyn Monroe\n",
      "“Try not to become a man of success. Rather become a man of value.” — Albert Einstein\n",
      "“It is better to be hated for what you are than to be loved for what you are not.” — André Gide\n",
      "“I have not failed. I've just found 10,000 ways that won't work.” — Thomas A. Edison\n",
      "“A woman is like a tea bag; you never know how strong it is until it's in hot water.” — Eleanor Roosevelt\n",
      "“A day without sunshine is like, you know, night.” — Steve Martin\n"
     ]
    }
   ],
   "source": [
    "import requests\n",
    "from bs4 import BeautifulSoup\n",
    "\n",
    "# 1. URL 설정\n",
    "url = \"http://quotes.toscrape.com/page/1/\"\n",
    "\n",
    "# 2. HTTP 요청\n",
    "response = requests.get(url)\n",
    "soup = BeautifulSoup(response.text, \"html.parser\")\n",
    "\n",
    "# 3. 명언과 저자 추출\n",
    "quotes = soup.find_all(\"div\", class_=\"quote\")\n",
    "\n",
    "for quote in quotes:\n",
    "    text = quote.find(\"span\", class_=\"text\").get_text()\n",
    "    author = quote.find(\"small\", class_=\"author\").get_text()\n",
    "    print(f\"{text} — {author}\")"
   ]
  },
  {
   "cell_type": "markdown",
   "metadata": {},
   "source": [
    "# NY Times 웹 크로링 (API)"
   ]
  },
  {
   "cell_type": "code",
   "execution_count": 6,
   "metadata": {},
   "outputs": [
    {
     "data": {
      "text/html": [
       "<div>\n",
       "<style scoped>\n",
       "    .dataframe tbody tr th:only-of-type {\n",
       "        vertical-align: middle;\n",
       "    }\n",
       "\n",
       "    .dataframe tbody tr th {\n",
       "        vertical-align: top;\n",
       "    }\n",
       "\n",
       "    .dataframe thead th {\n",
       "        text-align: right;\n",
       "    }\n",
       "</style>\n",
       "<table border=\"1\" class=\"dataframe\">\n",
       "  <thead>\n",
       "    <tr style=\"text-align: right;\">\n",
       "      <th></th>\n",
       "      <th>uri</th>\n",
       "      <th>url</th>\n",
       "      <th>id</th>\n",
       "      <th>asset_id</th>\n",
       "      <th>source</th>\n",
       "      <th>published_date</th>\n",
       "      <th>updated</th>\n",
       "      <th>section</th>\n",
       "      <th>subsection</th>\n",
       "      <th>nytdsection</th>\n",
       "      <th>...</th>\n",
       "      <th>byline</th>\n",
       "      <th>type</th>\n",
       "      <th>title</th>\n",
       "      <th>abstract</th>\n",
       "      <th>des_facet</th>\n",
       "      <th>org_facet</th>\n",
       "      <th>per_facet</th>\n",
       "      <th>geo_facet</th>\n",
       "      <th>media</th>\n",
       "      <th>eta_id</th>\n",
       "    </tr>\n",
       "  </thead>\n",
       "  <tbody>\n",
       "    <tr>\n",
       "      <th>0</th>\n",
       "      <td>nyt://article/145cfe92-7c5f-5da3-8ecf-6167d2e7...</td>\n",
       "      <td>https://www.nytimes.com/2025/06/17/nyregion/br...</td>\n",
       "      <td>100000010234457</td>\n",
       "      <td>100000010234457</td>\n",
       "      <td>New York Times</td>\n",
       "      <td>2025-06-17</td>\n",
       "      <td>2025-06-17 18:49:31</td>\n",
       "      <td>New York</td>\n",
       "      <td></td>\n",
       "      <td>new york</td>\n",
       "      <td>...</td>\n",
       "      <td>By Luis Ferré-Sadurní</td>\n",
       "      <td>Article</td>\n",
       "      <td>Brad Lander Is Arrested by ICE Agents at Immig...</td>\n",
       "      <td>Mr. Lander, the New York City comptroller and ...</td>\n",
       "      <td>[Immigration and Emigration, Elections, Mayors]</td>\n",
       "      <td>[Immigration and Customs Enforcement (US), Off...</td>\n",
       "      <td>[Lander, Brad]</td>\n",
       "      <td>[]</td>\n",
       "      <td>[{'type': 'image', 'subtype': 'photo', 'captio...</td>\n",
       "      <td>0</td>\n",
       "    </tr>\n",
       "  </tbody>\n",
       "</table>\n",
       "<p>1 rows × 22 columns</p>\n",
       "</div>"
      ],
      "text/plain": [
       "                                                 uri  \\\n",
       "0  nyt://article/145cfe92-7c5f-5da3-8ecf-6167d2e7...   \n",
       "\n",
       "                                                 url               id  \\\n",
       "0  https://www.nytimes.com/2025/06/17/nyregion/br...  100000010234457   \n",
       "\n",
       "          asset_id          source published_date              updated  \\\n",
       "0  100000010234457  New York Times     2025-06-17  2025-06-17 18:49:31   \n",
       "\n",
       "    section subsection nytdsection  ...                 byline     type  \\\n",
       "0  New York               new york  ...  By Luis Ferré-Sadurní  Article   \n",
       "\n",
       "                                               title  \\\n",
       "0  Brad Lander Is Arrested by ICE Agents at Immig...   \n",
       "\n",
       "                                            abstract  \\\n",
       "0  Mr. Lander, the New York City comptroller and ...   \n",
       "\n",
       "                                         des_facet  \\\n",
       "0  [Immigration and Emigration, Elections, Mayors]   \n",
       "\n",
       "                                           org_facet       per_facet  \\\n",
       "0  [Immigration and Customs Enforcement (US), Off...  [Lander, Brad]   \n",
       "\n",
       "  geo_facet                                              media eta_id  \n",
       "0        []  [{'type': 'image', 'subtype': 'photo', 'captio...      0  \n",
       "\n",
       "[1 rows x 22 columns]"
      ]
     },
     "execution_count": 6,
     "metadata": {},
     "output_type": "execute_result"
    }
   ],
   "source": [
    "import requests \n",
    "import pandas as pd \n",
    "\n",
    "API_KEY = 'yfiLGtQ4ktpGR3Ge055arXCqWXRcGkGt'\n",
    "\n",
    "url = 'https://api.nytimes.com/svc/mostpopular/v2/viewed/1.json'\n",
    "params = {\n",
    "    \"api-key\" : API_KEY\n",
    "}\n",
    "\n",
    "response = requests.get(url, params=params)\n",
    "\n",
    "data = response.json()\n",
    "df = pd.json_normalize(data['results'])\n",
    "df.head(1)"
   ]
  },
  {
   "cell_type": "markdown",
   "metadata": {},
   "source": [
    "# 단일 학교의 1일 급식 정보 가져오기"
   ]
  },
  {
   "cell_type": "code",
   "execution_count": 28,
   "metadata": {},
   "outputs": [
    {
     "name": "stdout",
     "output_type": "stream",
     "text": [
      "학교 이름 조회 예정 : 교육청=B10, 학교코드=7021105\n",
      "응답코드 : 200\n",
      "학교명: 서울이문초등학교\n",
      "급식 정보 조회 중: 날짜=20250616\n",
      "mealService 응답코드: 200\n",
      "급식 데이터 수: 1\n",
      "수집된 행 수: 1\n",
      "  교육청코드     학교코드       학교명      급식일자 식사명  \\\n",
      "0   B10  7021105  서울이문초등학교  20250616  중식   \n",
      "\n",
      "                                                급식식단  \n",
      "0  귀리밥* <br/>육개장* (1.5.6.16)<br/>시래기된장지짐y (5.6.16...  \n",
      "CSV 저장 완료: 서울_초등학교_급식_20241030.csv\n"
     ]
    }
   ],
   "source": [
    "import requests\n",
    "import pandas as pd \n",
    "\n",
    "EDU_CODE = 'B10'\n",
    "SCHOOL_CODE = '7021105'\n",
    "API_KEY = 'd49ee2210c844960846afdf42bea9644'\n",
    "TARGET_DATE = '20250616' # 수요일\n",
    "\n",
    "# 학교의 이름 가져오는 함수 \n",
    "def get_school_name(edu_code, school_code):\n",
    "    print(f'학교 이름 조회 예정 : 교육청={edu_code}, 학교코드={school_code}')\n",
    "    url = 'https://open.neis.go.kr/hub/schoolInfo'\n",
    "    params = {\n",
    "        'KEY': API_KEY, \n",
    "        'Type' : 'json', \n",
    "        'ATPT_OFCDC_SC_CODE' : edu_code, \n",
    "        'SD_SCHUL_CODE' : school_code\n",
    "    }\n",
    "    try:\n",
    "        res = requests.get(url, params=params, timeout=5)\n",
    "        print(f\"응답코드 : {res.status_code}\")\n",
    "        if res.status_code == 200:\n",
    "            data = res.json()\n",
    "            if \"schoolInfo\" in data:\n",
    "                # 여기코드가 핵심\n",
    "                # name = data[\"schoolInfo\"][1][\"row\"][0][\"SCHUL_NM\"]\n",
    "                name = data['schoolInfo'][1]['row'][0]['SCHUL_NM']\n",
    "                print(f\"학교명: {name}\")\n",
    "                return name\n",
    "            else:\n",
    "                print(\"해당학교는 존재하지 않음\", data)\n",
    "        else:\n",
    "            print(\"응답 실패:\", res.text)\n",
    "    except Exception as e:\n",
    "        print(f\"학교명 정보 조회 오류 : {e}\")\n",
    "    return \"학교명조회불가\"\n",
    "    \n",
    "def get_meal_info(edu_code, school_code):\n",
    "    print(f\"급식 정보 조회 중: 날짜={TARGET_DATE}\")\n",
    "    url = \"https://open.neis.go.kr/hub/mealServiceDietInfo\"\n",
    "    params = {\n",
    "        \"KEY\": API_KEY,\n",
    "        \"Type\": \"json\",\n",
    "        \"ATPT_OFCDC_SC_CODE\": edu_code,\n",
    "        \"SD_SCHUL_CODE\": school_code,\n",
    "        \"MLSV_YMD\": TARGET_DATE\n",
    "    }\n",
    "    try:\n",
    "        res = requests.get(url, params=params, timeout=5)\n",
    "        print(f\"mealService 응답코드: {res.status_code}\")\n",
    "        if res.status_code == 200:\n",
    "            data = res.json()\n",
    "            if \"mealServiceDietInfo\" in data:\n",
    "                print(f\"급식 데이터 수: {len(data['mealServiceDietInfo'][1]['row'])}\")\n",
    "                return data[\"mealServiceDietInfo\"][1][\"row\"]\n",
    "            else:\n",
    "                print(\"mealServiceDietInfo 키 없음:\", data)\n",
    "        else:\n",
    "            print(\"응답 실패:\", res.text)\n",
    "    except Exception as e:\n",
    "        print(f\"급식 정보 조회 오류: {e}\")\n",
    "    return []\n",
    "\n",
    "# 데이터 수집\n",
    "school_name = get_school_name(EDU_CODE, SCHOOL_CODE)\n",
    "meals = get_meal_info(EDU_CODE, SCHOOL_CODE)\n",
    "\n",
    "data = []\n",
    "for meal in meals:\n",
    "    data.append({\n",
    "        \"교육청코드\": EDU_CODE,\n",
    "        \"학교코드\": SCHOOL_CODE,\n",
    "        \"학교명\": school_name,\n",
    "        \"급식일자\": meal.get(\"MLSV_YMD\"),\n",
    "        \"식사명\": meal.get(\"MMEAL_SC_NM\"),\n",
    "        \"급식식단\": meal.get(\"DDISH_NM\")\n",
    "    })\n",
    "\n",
    "df = pd.DataFrame(data)\n",
    "print(\"수집된 행 수:\", len(df))\n",
    "print(df.head())\n",
    "\n",
    "df.to_csv(\"서울_초등학교_급식_20241030.csv\", index=False, encoding=\"utf-8-sig\")\n",
    "print(\"CSV 저장 완료: 서울_초등학교_급식_20241030.csv\")"
   ]
  },
  {
   "cell_type": "markdown",
   "metadata": {},
   "source": [
    "# 1개의 학교 한달간 데이터 수집\n",
    "- 날짜만 변경"
   ]
  },
  {
   "cell_type": "code",
   "execution_count": 33,
   "metadata": {},
   "outputs": [
    {
     "data": {
      "text/plain": [
       "('20250519', '20250618')"
      ]
     },
     "execution_count": 33,
     "metadata": {},
     "output_type": "execute_result"
    }
   ],
   "source": [
    "from datetime import datetime, timedelta\n",
    "today = datetime.today()\n",
    "one_month_ago = today - timedelta(days=30)\n",
    "FROM_DATE = one_month_ago.strftime('%Y%m%d')\n",
    "TO_DATE = today.strftime('%Y%m%d')\n",
    "\n",
    "FROM_DATE, TO_DATE"
   ]
  },
  {
   "cell_type": "code",
   "execution_count": 35,
   "metadata": {},
   "outputs": [
    {
     "name": "stdout",
     "output_type": "stream",
     "text": [
      "학교 이름 조회 예정 : 교육청=B10, 학교코드=7021105\n",
      "응답코드 : 200\n",
      "학교명: 서울이문초등학교\n",
      "급식 정보 조회 중: 날짜=20250616\n",
      "mealService 응답코드: 200\n",
      "급식 데이터 수: 21\n",
      "수집된 행 수: 21\n",
      "  교육청코드     학교코드       학교명      급식일자 식사명  \\\n",
      "0   B10  7021105  서울이문초등학교  20250519  중식   \n",
      "1   B10  7021105  서울이문초등학교  20250520  중식   \n",
      "2   B10  7021105  서울이문초등학교  20250521  중식   \n",
      "3   B10  7021105  서울이문초등학교  20250522  중식   \n",
      "4   B10  7021105  서울이문초등학교  20250523  중식   \n",
      "\n",
      "                                                급식식단  \n",
      "0  차수수밥* <br/>김치콩나물국^ (5.6.9)<br/>오이볶음 (5)<br/>순살...  \n",
      "1  강황밥 <br/>감자옹심이국 (5.6.17)<br/>미역줄기볶음* (5)<br/>오...  \n",
      "2  부지갱이나물밥&양념장 (5.6.13)<br/>북어계란국* (1.5.6)<br/>비름...  \n",
      "3  귀리밥* <br/>호박잎된장국y (5.6.18)<br/>참나물무침* (5.6)<br...  \n",
      "4  발아현미밥 <br/>어묵국y (1.2.5.6.7.8.13.16.18)<br/>고춧잎...  \n"
     ]
    }
   ],
   "source": [
    "import requests\n",
    "import pandas as pd \n",
    "from datetime import datetime, timedelta\n",
    "\n",
    "# 교육청 및 학교 코드\n",
    "EDU_CODE = 'B10'\n",
    "SCHOOL_CODE = '7021105'\n",
    "API_KEY = 'd49ee2210c844960846afdf42bea9644'\n",
    "\n",
    "# 최근 한달 기간 설정\n",
    "today = datetime.today()\n",
    "one_month_ago = today - timedelta(days=30)\n",
    "FROM_DATE = one_month_ago.strftime('%Y%m%d')\n",
    "TO_DATE = today.strftime('%Y%m%d')\n",
    "\n",
    "# 학교의 이름 가져오는 함수 \n",
    "def get_school_name(edu_code, school_code):\n",
    "    print(f'학교 이름 조회 예정 : 교육청={edu_code}, 학교코드={school_code}')\n",
    "    url = 'https://open.neis.go.kr/hub/schoolInfo'\n",
    "    params = {\n",
    "        'KEY': API_KEY, \n",
    "        'Type' : 'json', \n",
    "        'ATPT_OFCDC_SC_CODE' : edu_code, \n",
    "        'SD_SCHUL_CODE' : school_code\n",
    "    }\n",
    "    try:\n",
    "        res = requests.get(url, params=params, timeout=5)\n",
    "        print(f\"응답코드 : {res.status_code}\")\n",
    "        if res.status_code == 200:\n",
    "            data = res.json()\n",
    "            if \"schoolInfo\" in data:\n",
    "                # 여기코드가 핵심\n",
    "                # name = data[\"schoolInfo\"][1][\"row\"][0][\"SCHUL_NM\"]\n",
    "                name = data['schoolInfo'][1]['row'][0]['SCHUL_NM']\n",
    "                print(f\"학교명: {name}\")\n",
    "                return name\n",
    "            else:\n",
    "                print(\"해당학교는 존재하지 않음\", data)\n",
    "        else:\n",
    "            print(\"응답 실패:\", res.text)\n",
    "    except Exception as e:\n",
    "        print(f\"학교명 정보 조회 오류 : {e}\")\n",
    "    return \"학교명조회불가\"\n",
    "    \n",
    "def get_meal_info(edu_code, school_code, from_date, to_date):\n",
    "    print(f\"급식 정보 조회 중: 날짜={TARGET_DATE}\")\n",
    "    url = \"https://open.neis.go.kr/hub/mealServiceDietInfo\"\n",
    "    params = {\n",
    "        \"KEY\": API_KEY,\n",
    "        \"Type\": \"json\",\n",
    "        \"ATPT_OFCDC_SC_CODE\": edu_code,\n",
    "        \"SD_SCHUL_CODE\": school_code,\n",
    "        \"MLSV_FROM_YMD\": from_date, \n",
    "        \"MLSV_TO_YMD\" : to_date, \n",
    "        \"pIndex\" : 1, \n",
    "        \"pSize\" : 100\n",
    "    }\n",
    "    try:\n",
    "        res = requests.get(url, params=params, timeout=5)\n",
    "        print(f\"mealService 응답코드: {res.status_code}\")\n",
    "        if res.status_code == 200:\n",
    "            data = res.json()\n",
    "            if \"mealServiceDietInfo\" in data:\n",
    "                print(f\"급식 데이터 수: {len(data['mealServiceDietInfo'][1]['row'])}\")\n",
    "                return data[\"mealServiceDietInfo\"][1][\"row\"]\n",
    "            else:\n",
    "                print(\"mealServiceDietInfo 키 없음:\", data)\n",
    "        else:\n",
    "            print(\"응답 실패:\", res.text)\n",
    "    except Exception as e:\n",
    "        print(f\"급식 정보 조회 오류: {e}\")\n",
    "    return []\n",
    "\n",
    "# 데이터 수집\n",
    "school_name = get_school_name(EDU_CODE, SCHOOL_CODE)\n",
    "meals = get_meal_info(EDU_CODE, SCHOOL_CODE, FROM_DATE, TO_DATE)\n",
    "\n",
    "data = []\n",
    "for meal in meals:\n",
    "    data.append({\n",
    "        \"교육청코드\": EDU_CODE,\n",
    "        \"학교코드\": SCHOOL_CODE,\n",
    "        \"학교명\": school_name,\n",
    "        \"급식일자\": meal.get(\"MLSV_YMD\"),\n",
    "        \"식사명\": meal.get(\"MMEAL_SC_NM\"),\n",
    "        \"급식식단\": meal.get(\"DDISH_NM\")\n",
    "    })\n",
    "\n",
    "df = pd.DataFrame(data)\n",
    "print(\"수집된 행 수:\", len(df))\n",
    "print(df.head())\n",
    "\n",
    "# df.to_csv(\"서울_초등학교_급식_20241030.csv\", index=False, encoding=\"utf-8-sig\")\n",
    "# print(\"CSV 저장 완료: 서울_초등학교_급식_20241030.csv\")"
   ]
  },
  {
   "cell_type": "markdown",
   "metadata": {},
   "source": [
    "# 서울에 있는 모든 고등학교 최근 1개월 데이터 수집\n",
    "- 가장 중요한 건, 학교명과 학교코드가 필요"
   ]
  },
  {
   "cell_type": "code",
   "execution_count": 51,
   "metadata": {},
   "outputs": [
    {
     "name": "stdout",
     "output_type": "stream",
     "text": [
      "응답코드 : 200\n"
     ]
    },
    {
     "name": "stderr",
     "output_type": "stream",
     "text": [
      "고등학교 급식 조회:   1%|▎                                              | 1/178 [00:00<00:33,  5.28it/s]"
     ]
    },
    {
     "name": "stdout",
     "output_type": "stream",
     "text": [
      "7010057 가락고등학교\n",
      "급식 정보 조회 중: 날짜=20250616\n",
      "mealService 응답코드: 200\n",
      "급식 데이터 수: 21\n",
      "7011169 가재울고등학교\n",
      "급식 정보 조회 중: 날짜=20250616\n",
      "mealService 응답코드: 200\n",
      "급식 데이터 수: 21\n"
     ]
    },
    {
     "name": "stderr",
     "output_type": "stream",
     "text": [
      "고등학교 급식 조회:   1%|▌                                              | 2/178 [00:00<00:34,  5.11it/s]"
     ]
    },
    {
     "name": "stdout",
     "output_type": "stream",
     "text": [
      "7010117 강동고등학교\n",
      "급식 정보 조회 중: 날짜=20250616\n",
      "mealService 응답코드: 200\n",
      "급식 데이터 수: 41\n"
     ]
    },
    {
     "name": "stderr",
     "output_type": "stream",
     "text": [
      "고등학교 급식 조회:   2%|█                                              | 4/178 [00:00<00:35,  4.84it/s]"
     ]
    },
    {
     "name": "stdout",
     "output_type": "stream",
     "text": [
      "7010118 강서고등학교\n",
      "급식 정보 조회 중: 날짜=20250616\n",
      "mealService 응답코드: 200\n",
      "급식 데이터 수: 42\n"
     ]
    },
    {
     "name": "stderr",
     "output_type": "stream",
     "text": [
      "고등학교 급식 조회:   3%|█▎                                             | 5/178 [00:01<00:35,  4.84it/s]"
     ]
    },
    {
     "name": "stdout",
     "output_type": "stream",
     "text": [
      "7010958 강일고등학교\n",
      "급식 정보 조회 중: 날짜=20250616\n",
      "mealService 응답코드: 200\n",
      "급식 데이터 수: 21\n",
      "7010058 개포고등학교\n",
      "급식 정보 조회 중: 날짜=20250616\n",
      "mealService 응답코드: 200\n",
      "급식 데이터 수: 21\n"
     ]
    },
    {
     "name": "stderr",
     "output_type": "stream",
     "text": [
      "고등학교 급식 조회:   3%|█▌                                             | 6/178 [00:01<00:35,  4.85it/s]"
     ]
    },
    {
     "name": "stdout",
     "output_type": "stream",
     "text": [
      "7010119 건국대학교사범대학부속고등학교\n",
      "급식 정보 조회 중: 날짜=20250616\n",
      "mealService 응답코드: 200\n",
      "급식 데이터 수: 41\n"
     ]
    },
    {
     "name": "stderr",
     "output_type": "stream",
     "text": [
      "고등학교 급식 조회:   4%|█▊                                             | 7/178 [00:01<00:36,  4.68it/s]"
     ]
    },
    {
     "name": "stdout",
     "output_type": "stream",
     "text": [
      "7010059 경기고등학교\n",
      "급식 정보 조회 중: 날짜=20250616\n",
      "mealService 응답코드: 200\n",
      "급식 데이터 수: 36\n"
     ]
    },
    {
     "name": "stderr",
     "output_type": "stream",
     "text": [
      "고등학교 급식 조회:   5%|██▍                                            | 9/178 [00:01<00:35,  4.80it/s]"
     ]
    },
    {
     "name": "stdout",
     "output_type": "stream",
     "text": [
      "7010271 경기기계공업고등학교\n",
      "급식 정보 조회 중: 날짜=20250616\n",
      "mealService 응답코드: 200\n",
      "급식 데이터 수: 59\n"
     ]
    },
    {
     "name": "stderr",
     "output_type": "stream",
     "text": [
      "고등학교 급식 조회:   6%|██▌                                           | 10/178 [00:02<00:34,  4.90it/s]"
     ]
    },
    {
     "name": "stdout",
     "output_type": "stream",
     "text": [
      "7010272 경기상업고등학교\n",
      "급식 정보 조회 중: 날짜=20250616\n",
      "mealService 응답코드: 200\n",
      "급식 데이터 수: 20\n",
      "7010060 경기여자고등학교\n",
      "급식 정보 조회 중: 날짜=20250616\n",
      "mealService 응답코드: 200\n",
      "급식 데이터 수: 21\n"
     ]
    },
    {
     "name": "stderr",
     "output_type": "stream",
     "text": [
      "고등학교 급식 조회:   7%|███                                           | 12/178 [00:02<00:33,  4.93it/s]"
     ]
    },
    {
     "name": "stdout",
     "output_type": "stream",
     "text": [
      "7010061 경동고등학교\n",
      "급식 정보 조회 중: 날짜=20250616\n",
      "mealService 응답코드: 200\n",
      "급식 데이터 수: 21\n",
      "7010120 경문고등학교\n",
      "급식 정보 조회 중: 날짜=20250616\n",
      "mealService 응답코드: 200\n",
      "급식 데이터 수: 21\n"
     ]
    },
    {
     "name": "stderr",
     "output_type": "stream",
     "text": [
      "고등학교 급식 조회:   8%|███▌                                          | 14/178 [00:02<00:33,  4.88it/s]"
     ]
    },
    {
     "name": "stdout",
     "output_type": "stream",
     "text": [
      "7010062 경복고등학교\n",
      "급식 정보 조회 중: 날짜=20250616\n",
      "mealService 응답코드: 200\n",
      "급식 데이터 수: 21\n",
      "7010835 경복비즈니스고등학교\n",
      "급식 정보 조회 중: 날짜=20250616\n",
      "mealService 응답코드: 200\n",
      "급식 데이터 수: 36\n"
     ]
    },
    {
     "name": "stderr",
     "output_type": "stream",
     "text": [
      "고등학교 급식 조회:   8%|███▉                                          | 15/178 [00:03<00:34,  4.72it/s]"
     ]
    },
    {
     "name": "stdout",
     "output_type": "stream",
     "text": [
      "7010122 경복여자고등학교\n",
      "급식 정보 조회 중: 날짜=20250616\n",
      "mealService 응답코드: 200\n",
      "급식 데이터 수: 36\n"
     ]
    },
    {
     "name": "stderr",
     "output_type": "stream",
     "text": [
      "고등학교 급식 조회:   9%|████▏                                         | 16/178 [00:03<00:34,  4.66it/s]"
     ]
    },
    {
     "name": "stdout",
     "output_type": "stream",
     "text": [
      "7010124 경성고등학교\n",
      "급식 정보 조회 중: 날짜=20250616\n",
      "mealService 응답코드: 200\n",
      "급식 데이터 수: 21\n"
     ]
    },
    {
     "name": "stderr",
     "output_type": "stream",
     "text": [
      "고등학교 급식 조회:  10%|████▍                                         | 17/178 [00:03<00:34,  4.71it/s]"
     ]
    },
    {
     "name": "stdout",
     "output_type": "stream",
     "text": [
      "7010125 경신고등학교\n",
      "급식 정보 조회 중: 날짜=20250616\n",
      "mealService 응답코드: 200\n",
      "급식 데이터 수: 37\n"
     ]
    },
    {
     "name": "stderr",
     "output_type": "stream",
     "text": [
      "고등학교 급식 조회:  11%|████▉                                         | 19/178 [00:03<00:32,  4.85it/s]"
     ]
    },
    {
     "name": "stdout",
     "output_type": "stream",
     "text": [
      "7010563 경인고등학교\n",
      "급식 정보 조회 중: 날짜=20250616\n",
      "mealService 응답코드: 200\n",
      "급식 데이터 수: 21\n"
     ]
    },
    {
     "name": "stderr",
     "output_type": "stream",
     "text": [
      "고등학교 급식 조회:  11%|█████▏                                        | 20/178 [00:04<00:32,  4.92it/s]"
     ]
    },
    {
     "name": "stdout",
     "output_type": "stream",
     "text": [
      "7010698 경일고등학교\n",
      "급식 정보 조회 중: 날짜=20250616\n",
      "mealService 응답코드: 200\n",
      "급식 데이터 수: 21\n",
      "7010126 경희고등학교\n",
      "급식 정보 조회 중: 날짜=20250616\n",
      "mealService 응답코드: 200\n",
      "급식 데이터 수: 41\n"
     ]
    },
    {
     "name": "stderr",
     "output_type": "stream",
     "text": [
      "고등학교 급식 조회:  12%|█████▋                                        | 22/178 [00:04<00:31,  4.90it/s]"
     ]
    },
    {
     "name": "stdout",
     "output_type": "stream",
     "text": [
      "7010127 경희여자고등학교\n",
      "급식 정보 조회 중: 날짜=20250616\n",
      "mealService 응답코드: 200\n",
      "급식 데이터 수: 38\n",
      "7011312 계성고등학교\n",
      "급식 정보 조회 중: 날짜=20250616\n",
      "mealService 응답코드: 200\n",
      "급식 데이터 수: 37\n"
     ]
    },
    {
     "name": "stderr",
     "output_type": "stream",
     "text": [
      "고등학교 급식 조회:  13%|█████▉                                        | 23/178 [00:04<00:32,  4.72it/s]"
     ]
    },
    {
     "name": "stdout",
     "output_type": "stream",
     "text": [
      "7010797 고려대학교사범대학부속고등학교\n",
      "급식 정보 조회 중: 날짜=20250616\n"
     ]
    },
    {
     "name": "stderr",
     "output_type": "stream",
     "text": [
      "고등학교 급식 조회:  13%|██████▏                                       | 24/178 [00:05<00:37,  4.07it/s]"
     ]
    },
    {
     "name": "stdout",
     "output_type": "stream",
     "text": [
      "mealService 응답코드: 200\n",
      "급식 데이터 수: 21\n",
      "7011487 고명외식고등학교\n",
      "급식 정보 조회 중: 날짜=20250616\n",
      "mealService 응답코드: 200\n",
      "급식 데이터 수: 20\n"
     ]
    },
    {
     "name": "stderr",
     "output_type": "stream",
     "text": [
      "고등학교 급식 조회:  15%|██████▋                                       | 26/178 [00:05<00:32,  4.68it/s]"
     ]
    },
    {
     "name": "stdout",
     "output_type": "stream",
     "text": [
      "7010063 고척고등학교\n",
      "급식 정보 조회 중: 날짜=20250616\n",
      "mealService 응답코드: 200\n",
      "급식 데이터 수: 21\n"
     ]
    },
    {
     "name": "stderr",
     "output_type": "stream",
     "text": [
      "고등학교 급식 조회:  15%|██████▉                                       | 27/178 [00:05<00:31,  4.78it/s]"
     ]
    },
    {
     "name": "stdout",
     "output_type": "stream",
     "text": [
      "7010064 공항고등학교\n",
      "급식 정보 조회 중: 날짜=20250616\n",
      "mealService 응답코드: 200\n",
      "급식 데이터 수: 20\n",
      "7010065 관악고등학교\n",
      "급식 정보 조회 중: 날짜=20250616\n",
      "mealService 응답코드: 200\n",
      "급식 데이터 수: 21\n"
     ]
    },
    {
     "name": "stderr",
     "output_type": "stream",
     "text": [
      "고등학교 급식 조회:  16%|███████▍                                      | 29/178 [00:06<00:31,  4.80it/s]"
     ]
    },
    {
     "name": "stdout",
     "output_type": "stream",
     "text": [
      "7010066 광남고등학교\n",
      "급식 정보 조회 중: 날짜=20250616\n",
      "mealService 응답코드: 200\n",
      "급식 데이터 수: 40\n",
      "7010131 광문고등학교\n",
      "급식 정보 조회 중: 날짜=20250616\n",
      "mealService 응답코드: 200\n",
      "급식 데이터 수: 33\n"
     ]
    },
    {
     "name": "stderr",
     "output_type": "stream",
     "text": [
      "고등학교 급식 조회:  17%|███████▊                                      | 30/178 [00:06<00:31,  4.69it/s]"
     ]
    },
    {
     "name": "stdout",
     "output_type": "stream",
     "text": [
      "7010132 광성고등학교\n",
      "급식 정보 조회 중: 날짜=20250616\n",
      "mealService 응답코드: 200\n",
      "급식 데이터 수: 59\n"
     ]
    },
    {
     "name": "stderr",
     "output_type": "stream",
     "text": [
      "고등학교 급식 조회:  18%|████████▎                                     | 32/178 [00:06<00:30,  4.73it/s]"
     ]
    },
    {
     "name": "stdout",
     "output_type": "stream",
     "text": [
      "7010133 광신고등학교\n",
      "급식 정보 조회 중: 날짜=20250616\n",
      "mealService 응답코드: 200\n",
      "급식 데이터 수: 21\n",
      "7011488 광신방송예술고등학교\n",
      "급식 정보 조회 중: 날짜=20250616\n"
     ]
    },
    {
     "name": "stderr",
     "output_type": "stream",
     "text": [
      "고등학교 급식 조회:  19%|████████▌                                     | 33/178 [00:06<00:28,  5.04it/s]"
     ]
    },
    {
     "name": "stdout",
     "output_type": "stream",
     "text": [
      "mealService 응답코드: 200\n",
      "급식 데이터 수: 8\n",
      "7010067 광양고등학교\n",
      "급식 정보 조회 중: 날짜=20250616\n",
      "mealService 응답코드: 200\n",
      "급식 데이터 수: 20\n"
     ]
    },
    {
     "name": "stderr",
     "output_type": "stream",
     "text": [
      "고등학교 급식 조회:  19%|████████▊                                     | 34/178 [00:07<00:27,  5.20it/s]"
     ]
    },
    {
     "name": "stdout",
     "output_type": "stream",
     "text": [
      "7010134 광영고등학교\n",
      "급식 정보 조회 중: 날짜=20250616\n",
      "mealService 응답코드: 200\n",
      "급식 데이터 수: 21\n"
     ]
    },
    {
     "name": "stderr",
     "output_type": "stream",
     "text": [
      "고등학교 급식 조회:  20%|█████████                                     | 35/178 [00:07<00:29,  4.84it/s]"
     ]
    },
    {
     "name": "stdout",
     "output_type": "stream",
     "text": [
      "7010135 광영여자고등학교\n",
      "급식 정보 조회 중: 날짜=20250616\n",
      "mealService 응답코드: 200\n",
      "급식 데이터 수: 37\n"
     ]
    },
    {
     "name": "stderr",
     "output_type": "stream",
     "text": [
      "고등학교 급식 조회:  20%|█████████▎                                    | 36/178 [00:07<00:31,  4.57it/s]"
     ]
    },
    {
     "name": "stdout",
     "output_type": "stream",
     "text": [
      "7011505 광운인공지능고등학교\n",
      "급식 정보 조회 중: 날짜=20250616\n",
      "mealService 응답코드: 200\n",
      "급식 데이터 수: 18\n"
     ]
    },
    {
     "name": "stderr",
     "output_type": "stream",
     "text": [
      "고등학교 급식 조회:  21%|█████████▊                                    | 38/178 [00:07<00:28,  4.84it/s]"
     ]
    },
    {
     "name": "stdout",
     "output_type": "stream",
     "text": [
      "7010068 구로고등학교\n",
      "급식 정보 조회 중: 날짜=20250616\n",
      "mealService 응답코드: 200\n",
      "급식 데이터 수: 21\n"
     ]
    },
    {
     "name": "stderr",
     "output_type": "stream",
     "text": [
      "고등학교 급식 조회:  22%|██████████                                    | 39/178 [00:08<00:28,  4.91it/s]"
     ]
    },
    {
     "name": "stdout",
     "output_type": "stream",
     "text": [
      "7011111 구암고등학교\n",
      "급식 정보 조회 중: 날짜=20250616\n",
      "mealService 응답코드: 200\n",
      "급식 데이터 수: 21\n",
      "7010069 구일고등학교\n",
      "급식 정보 조회 중: 날짜=20250616\n",
      "mealService 응답코드: 200\n",
      "급식 데이터 수: 21\n"
     ]
    },
    {
     "name": "stderr",
     "output_type": "stream",
     "text": [
      "고등학교 급식 조회:  23%|██████████▌                                   | 41/178 [00:08<00:28,  4.85it/s]"
     ]
    },
    {
     "name": "stdout",
     "output_type": "stream",
     "text": [
      "7010827 구현고등학교\n",
      "급식 정보 조회 중: 날짜=20250616\n",
      "mealService 응답코드: 200\n",
      "급식 데이터 수: 21\n"
     ]
    },
    {
     "name": "stderr",
     "output_type": "stream",
     "text": [
      "고등학교 급식 조회:  24%|██████████▊                                   | 42/178 [00:08<00:28,  4.84it/s]"
     ]
    },
    {
     "name": "stdout",
     "output_type": "stream",
     "text": [
      "1371661 국립국악고등학교\n",
      "급식 정보 조회 중: 날짜=20250616\n",
      "mealService 응답코드: 200\n",
      "급식 데이터 수: 21\n",
      "1371663 국립전통예술고등학교\n",
      "급식 정보 조회 중: 날짜=20250616\n",
      "mealService 응답코드: 200\n",
      "급식 데이터 수: 37\n"
     ]
    },
    {
     "name": "stderr",
     "output_type": "stream",
     "text": [
      "고등학교 급식 조회:  25%|███████████▎                                  | 44/178 [00:09<00:27,  4.87it/s]"
     ]
    },
    {
     "name": "stdout",
     "output_type": "stream",
     "text": [
      "7010071 금옥여자고등학교\n",
      "급식 정보 조회 중: 날짜=20250616\n",
      "mealService 응답코드: 200\n",
      "급식 데이터 수: 21\n",
      "7010072 금천고등학교\n",
      "급식 정보 조회 중: 날짜=20250616\n"
     ]
    },
    {
     "name": "stderr",
     "output_type": "stream",
     "text": [
      "고등학교 급식 조회:  25%|███████████▋                                  | 45/178 [00:09<00:27,  4.90it/s]"
     ]
    },
    {
     "name": "stdout",
     "output_type": "stream",
     "text": [
      "mealService 응답코드: 200\n",
      "급식 데이터 수: 21\n",
      "7011319 금호고등학교\n",
      "급식 정보 조회 중: 날짜=20250616\n"
     ]
    },
    {
     "name": "stderr",
     "output_type": "stream",
     "text": [
      "고등학교 급식 조회:  26%|███████████▉                                  | 46/178 [00:09<00:27,  4.80it/s]"
     ]
    },
    {
     "name": "stdout",
     "output_type": "stream",
     "text": [
      "mealService 응답코드: 200\n",
      "급식 데이터 수: 21\n",
      "7010136 남강고등학교\n",
      "급식 정보 조회 중: 날짜=20250616\n"
     ]
    },
    {
     "name": "stderr",
     "output_type": "stream",
     "text": [
      "고등학교 급식 조회:  26%|████████████▏                                 | 47/178 [00:09<00:28,  4.65it/s]"
     ]
    },
    {
     "name": "stdout",
     "output_type": "stream",
     "text": [
      "mealService 응답코드: 200\n",
      "급식 데이터 수: 39\n",
      "7010564 노원고등학교\n",
      "급식 정보 조회 중: 날짜=20250616\n",
      "mealService 응답코드: 200\n",
      "급식 데이터 수: 21\n"
     ]
    },
    {
     "name": "stderr",
     "output_type": "stream",
     "text": [
      "고등학교 급식 조회:  28%|████████████▋                                 | 49/178 [00:10<00:25,  5.05it/s]"
     ]
    },
    {
     "name": "stdout",
     "output_type": "stream",
     "text": [
      "7010589 누원고등학교\n",
      "급식 정보 조회 중: 날짜=20250616\n",
      "mealService 응답코드: 200\n",
      "급식 데이터 수: 21\n"
     ]
    },
    {
     "name": "stderr",
     "output_type": "stream",
     "text": [
      "고등학교 급식 조회:  28%|████████████▉                                 | 50/178 [00:10<00:25,  5.01it/s]"
     ]
    },
    {
     "name": "stdout",
     "output_type": "stream",
     "text": [
      "7011489 단국대학교부속소프트웨어고등학교\n",
      "급식 정보 조회 중: 날짜=20250616\n",
      "mealService 응답코드: 200\n",
      "급식 데이터 수: 21\n"
     ]
    },
    {
     "name": "stderr",
     "output_type": "stream",
     "text": [
      "고등학교 급식 조회:  29%|█████████████▏                                | 51/178 [00:10<00:25,  5.00it/s]"
     ]
    },
    {
     "name": "stdout",
     "output_type": "stream",
     "text": [
      "7010137 단국대학교사범대학부속고등학교\n",
      "급식 정보 조회 중: 날짜=20250616\n",
      "mealService 응답코드: 200\n",
      "급식 데이터 수: 21\n",
      "7010073 당곡고등학교\n",
      "급식 정보 조회 중: 날짜=20250616\n",
      "mealService 응답코드: 200\n",
      "급식 데이터 수: 41\n"
     ]
    },
    {
     "name": "stderr",
     "output_type": "stream",
     "text": [
      "고등학교 급식 조회:  29%|█████████████▍                                | 52/178 [00:10<00:26,  4.81it/s]"
     ]
    },
    {
     "name": "stdout",
     "output_type": "stream",
     "text": [
      "7011507 대경생활과학고등학교\n",
      "급식 정보 조회 중: 날짜=20250616\n",
      "mealService 응답코드: 200\n",
      "급식 데이터 수: 21\n"
     ]
    },
    {
     "name": "stderr",
     "output_type": "stream",
     "text": [
      "고등학교 급식 조회:  30%|█████████████▋                                | 53/178 [00:11<00:25,  4.88it/s]"
     ]
    },
    {
     "name": "stdout",
     "output_type": "stream",
     "text": [
      "7010138 대광고등학교\n",
      "급식 정보 조회 중: 날짜=20250616\n",
      "mealService 응답코드: 200\n",
      "급식 데이터 수: 42\n"
     ]
    },
    {
     "name": "stderr",
     "output_type": "stream",
     "text": [
      "고등학교 급식 조회:  31%|██████████████▏                               | 55/178 [00:11<00:25,  4.86it/s]"
     ]
    },
    {
     "name": "stdout",
     "output_type": "stream",
     "text": [
      "7010833 대동세무고등학교\n",
      "급식 정보 조회 중: 날짜=20250616\n",
      "mealService 응답코드: 200\n",
      "급식 데이터 수: 21\n"
     ]
    },
    {
     "name": "stderr",
     "output_type": "stream",
     "text": [
      "고등학교 급식 조회:  31%|██████████████▍                               | 56/178 [00:11<00:23,  5.11it/s]"
     ]
    },
    {
     "name": "stdout",
     "output_type": "stream",
     "text": [
      "7010139 대성고등학교\n",
      "급식 정보 조회 중: 날짜=20250616\n",
      "mealService 응답코드: 200\n",
      "급식 데이터 수: 21\n",
      "7010140 대신고등학교\n",
      "급식 정보 조회 중: 날짜=20250616\n"
     ]
    },
    {
     "name": "stderr",
     "output_type": "stream",
     "text": [
      "고등학교 급식 조회:  32%|██████████████▋                               | 57/178 [00:11<00:23,  5.08it/s]"
     ]
    },
    {
     "name": "stdout",
     "output_type": "stream",
     "text": [
      "mealService 응답코드: 200\n",
      "급식 데이터 수: 21\n",
      "7010074 대영고등학교\n",
      "급식 정보 조회 중: 날짜=20250616\n"
     ]
    },
    {
     "name": "stderr",
     "output_type": "stream",
     "text": [
      "고등학교 급식 조회:  33%|██████████████▉                               | 58/178 [00:12<00:27,  4.29it/s]"
     ]
    },
    {
     "name": "stdout",
     "output_type": "stream",
     "text": [
      "mealService 응답코드: 200\n",
      "급식 데이터 수: 21\n",
      "7010141 대원고등학교\n",
      "급식 정보 조회 중: 날짜=20250616\n"
     ]
    },
    {
     "name": "stderr",
     "output_type": "stream",
     "text": [
      "고등학교 급식 조회:  33%|███████████████▏                              | 59/178 [00:12<00:26,  4.48it/s]"
     ]
    },
    {
     "name": "stdout",
     "output_type": "stream",
     "text": [
      "mealService 응답코드: 200\n",
      "급식 데이터 수: 35\n",
      "7010142 대원여자고등학교\n",
      "급식 정보 조회 중: 날짜=20250616\n"
     ]
    },
    {
     "name": "stderr",
     "output_type": "stream",
     "text": [
      "고등학교 급식 조회:  34%|███████████████▌                              | 60/178 [00:12<00:26,  4.39it/s]"
     ]
    },
    {
     "name": "stdout",
     "output_type": "stream",
     "text": [
      "mealService 응답코드: 200\n",
      "급식 데이터 수: 35\n",
      "7010143 대원외국어고등학교\n",
      "급식 정보 조회 중: 날짜=20250616\n",
      "mealService 응답코드: 200\n",
      "급식 데이터 수: 35\n"
     ]
    },
    {
     "name": "stderr",
     "output_type": "stream",
     "text": [
      "고등학교 급식 조회:  35%|████████████████                              | 62/178 [00:13<00:25,  4.52it/s]"
     ]
    },
    {
     "name": "stdout",
     "output_type": "stream",
     "text": [
      "7010144 대일고등학교\n",
      "급식 정보 조회 중: 날짜=20250616\n",
      "mealService 응답코드: 200\n",
      "급식 데이터 수: 21\n"
     ]
    },
    {
     "name": "stderr",
     "output_type": "stream",
     "text": [
      "고등학교 급식 조회:  35%|████████████████▎                             | 63/178 [00:13<00:24,  4.74it/s]"
     ]
    },
    {
     "name": "stdout",
     "output_type": "stream",
     "text": [
      "7011186 대일관광고등학교\n",
      "급식 정보 조회 중: 날짜=20250616\n",
      "mealService 응답코드: 200\n",
      "급식 데이터 수: 21\n",
      "7010145 대일외국어고등학교\n",
      "급식 정보 조회 중: 날짜=20250616\n",
      "mealService 응답코드: 200\n",
      "급식 데이터 수: 59\n"
     ]
    },
    {
     "name": "stderr",
     "output_type": "stream",
     "text": [
      "고등학교 급식 조회:  37%|████████████████▊                             | 65/178 [00:13<00:25,  4.47it/s]"
     ]
    },
    {
     "name": "stdout",
     "output_type": "stream",
     "text": [
      "7010146 대진고등학교\n",
      "급식 정보 조회 중: 날짜=20250616\n",
      "mealService 응답코드: 200\n",
      "급식 데이터 수: 39\n"
     ]
    },
    {
     "name": "stderr",
     "output_type": "stream",
     "text": [
      "고등학교 급식 조회:  37%|█████████████████                             | 66/178 [00:13<00:24,  4.59it/s]"
     ]
    },
    {
     "name": "stdout",
     "output_type": "stream",
     "text": [
      "7010740 대진디자인고등학교\n",
      "급식 정보 조회 중: 날짜=20250616\n",
      "mealService 응답코드: 200\n",
      "급식 데이터 수: 20\n"
     ]
    },
    {
     "name": "stderr",
     "output_type": "stream",
     "text": [
      "고등학교 급식 조회:  38%|█████████████████▎                            | 67/178 [00:14<00:23,  4.69it/s]"
     ]
    },
    {
     "name": "stdout",
     "output_type": "stream",
     "text": [
      "7010147 대진여자고등학교\n",
      "급식 정보 조회 중: 날짜=20250616\n",
      "mealService 응답코드: 200\n",
      "급식 데이터 수: 41\n"
     ]
    },
    {
     "name": "stderr",
     "output_type": "stream",
     "text": [
      "고등학교 급식 조회:  38%|█████████████████▌                            | 68/178 [00:14<00:23,  4.76it/s]"
     ]
    },
    {
     "name": "stdout",
     "output_type": "stream",
     "text": [
      "7010148 덕성여자고등학교\n",
      "급식 정보 조회 중: 날짜=20250616\n",
      "mealService 응답코드: 200\n",
      "급식 데이터 수: 36\n"
     ]
    },
    {
     "name": "stderr",
     "output_type": "stream",
     "text": [
      "고등학교 급식 조회:  39%|█████████████████▊                            | 69/178 [00:14<00:22,  4.82it/s]"
     ]
    },
    {
     "name": "stdout",
     "output_type": "stream",
     "text": [
      "7010808 덕수고등학교\n",
      "급식 정보 조회 중: 날짜=20250616\n",
      "mealService 응답코드: 200\n",
      "급식 데이터 수: 21\n",
      "7010149 덕원여자고등학교\n",
      "급식 정보 조회 중: 날짜=20250616\n",
      "mealService 응답코드: 200\n",
      "급식 데이터 수: 41\n"
     ]
    },
    {
     "name": "stderr",
     "output_type": "stream",
     "text": [
      "고등학교 급식 조회:  39%|██████████████████                            | 70/178 [00:14<00:22,  4.73it/s]"
     ]
    },
    {
     "name": "stdout",
     "output_type": "stream",
     "text": [
      "7010150 덕원예술고등학교\n",
      "급식 정보 조회 중: 날짜=20250616\n",
      "mealService 응답코드: 200\n",
      "급식 데이터 수: 41\n"
     ]
    },
    {
     "name": "stderr",
     "output_type": "stream",
     "text": [
      "고등학교 급식 조회:  40%|██████████████████▌                           | 72/178 [00:15<00:21,  4.92it/s]"
     ]
    },
    {
     "name": "stdout",
     "output_type": "stream",
     "text": [
      "7010317 덕일전자공업고등학교\n",
      "급식 정보 조회 중: 날짜=20250616\n",
      "mealService 응답코드: 200\n",
      "급식 데이터 수: 20\n",
      "7011318 도선고등학교\n",
      "급식 정보 조회 중: 날짜=20250616\n"
     ]
    },
    {
     "name": "stderr",
     "output_type": "stream",
     "text": [
      "고등학교 급식 조회:  41%|██████████████████▊                           | 73/178 [00:15<00:21,  4.88it/s]"
     ]
    },
    {
     "name": "stdout",
     "output_type": "stream",
     "text": [
      "mealService 응답코드: 200\n",
      "급식 데이터 수: 21\n",
      "7010560 독산고등학교\n",
      "급식 정보 조회 중: 날짜=20250616\n",
      "mealService 응답코드: 200\n",
      "급식 데이터 수: 20\n"
     ]
    },
    {
     "name": "stderr",
     "output_type": "stream",
     "text": [
      "고등학교 급식 조회:  42%|███████████████████▍                          | 75/178 [00:15<00:20,  4.93it/s]"
     ]
    },
    {
     "name": "stdout",
     "output_type": "stream",
     "text": [
      "7011586 동국대학교사범대학부속가람고등학교\n",
      "급식 정보 조회 중: 날짜=20250616\n",
      "mealService 응답코드: 200\n",
      "급식 데이터 수: 42\n",
      "7010151 동국대학교사범대학부속고등학교\n",
      "급식 정보 조회 중: 날짜=20250616\n",
      "mealService 응답코드: 200\n",
      "급식 데이터 수: 40\n"
     ]
    },
    {
     "name": "stderr",
     "output_type": "stream",
     "text": [
      "고등학교 급식 조회:  43%|███████████████████▉                          | 77/178 [00:16<00:21,  4.74it/s]"
     ]
    },
    {
     "name": "stdout",
     "output_type": "stream",
     "text": [
      "7010152 동덕여자고등학교\n",
      "급식 정보 조회 중: 날짜=20250616\n",
      "mealService 응답코드: 200\n",
      "급식 데이터 수: 21\n"
     ]
    },
    {
     "name": "stderr",
     "output_type": "stream",
     "text": [
      "고등학교 급식 조회:  44%|████████████████████▏                         | 78/178 [00:16<00:19,  5.01it/s]"
     ]
    },
    {
     "name": "stdout",
     "output_type": "stream",
     "text": [
      "7011490 동명생활경영고등학교\n",
      "급식 정보 조회 중: 날짜=20250616\n",
      "mealService 응답코드: 200\n",
      "급식 데이터 수: 20\n",
      "7010153 동명여자고등학교\n",
      "급식 정보 조회 중: 날짜=20250616\n"
     ]
    },
    {
     "name": "stderr",
     "output_type": "stream",
     "text": [
      "고등학교 급식 조회:  44%|████████████████████▍                         | 79/178 [00:16<00:20,  4.95it/s]"
     ]
    },
    {
     "name": "stdout",
     "output_type": "stream",
     "text": [
      "mealService 응답코드: 200\n",
      "급식 데이터 수: 20\n",
      "7010154 동북고등학교\n",
      "급식 정보 조회 중: 날짜=20250616\n",
      "mealService 응답코드: 200\n",
      "급식 데이터 수: 38\n"
     ]
    },
    {
     "name": "stderr",
     "output_type": "stream",
     "text": [
      "고등학교 급식 조회:  45%|████████████████████▋                         | 80/178 [00:16<00:19,  4.91it/s]"
     ]
    },
    {
     "name": "stdout",
     "output_type": "stream",
     "text": [
      "7010155 동성고등학교\n",
      "급식 정보 조회 중: 날짜=20250616\n",
      "mealService 응답코드: 200\n",
      "급식 데이터 수: 63\n"
     ]
    },
    {
     "name": "stderr",
     "output_type": "stream",
     "text": [
      "고등학교 급식 조회:  46%|████████████████████▉                         | 81/178 [00:17<00:21,  4.48it/s]"
     ]
    },
    {
     "name": "stdout",
     "output_type": "stream",
     "text": [
      "7010965 동양고등학교\n",
      "급식 정보 조회 중: 날짜=20250616\n",
      "mealService 응답코드: 200\n",
      "급식 데이터 수: 37\n"
     ]
    },
    {
     "name": "stderr",
     "output_type": "stream",
     "text": [
      "고등학교 급식 조회:  47%|█████████████████████▍                        | 83/178 [00:17<00:19,  4.77it/s]"
     ]
    },
    {
     "name": "stdout",
     "output_type": "stream",
     "text": [
      "7010156 동일여자고등학교\n",
      "급식 정보 조회 중: 날짜=20250616\n",
      "mealService 응답코드: 200\n",
      "급식 데이터 수: 20\n",
      "7010075 동작고등학교\n",
      "급식 정보 조회 중: 날짜=20250616\n"
     ]
    },
    {
     "name": "stderr",
     "output_type": "stream",
     "text": [
      "고등학교 급식 조회:  47%|█████████████████████▋                        | 84/178 [00:17<00:19,  4.89it/s]"
     ]
    },
    {
     "name": "stdout",
     "output_type": "stream",
     "text": [
      "mealService 응답코드: 200\n",
      "급식 데이터 수: 20\n",
      "7010076 둔촌고등학교\n",
      "급식 정보 조회 중: 날짜=20250616\n",
      "mealService 응답코드: 200\n",
      "급식 데이터 수: 21\n"
     ]
    },
    {
     "name": "stderr",
     "output_type": "stream",
     "text": [
      "고등학교 급식 조회:  48%|█████████████████████▉                        | 85/178 [00:17<00:18,  4.95it/s]"
     ]
    },
    {
     "name": "stdout",
     "output_type": "stream",
     "text": [
      "7010700 등촌고등학교\n",
      "급식 정보 조회 중: 날짜=20250616\n",
      "mealService 응답코드: 200\n",
      "급식 데이터 수: 21\n"
     ]
    },
    {
     "name": "stderr",
     "output_type": "stream",
     "text": [
      "고등학교 급식 조회:  49%|██████████████████████▍                       | 87/178 [00:18<00:18,  4.89it/s]"
     ]
    },
    {
     "name": "stdout",
     "output_type": "stream",
     "text": [
      "7010908 리라아트고등학교\n",
      "급식 정보 조회 중: 날짜=20250616\n",
      "mealService 응답코드: 200\n",
      "급식 데이터 수: 19\n"
     ]
    },
    {
     "name": "stderr",
     "output_type": "stream",
     "text": [
      "고등학교 급식 조회:  49%|██████████████████████▋                       | 88/178 [00:18<00:18,  4.93it/s]"
     ]
    },
    {
     "name": "stdout",
     "output_type": "stream",
     "text": [
      "7010157 마포고등학교\n",
      "급식 정보 조회 중: 날짜=20250616\n",
      "mealService 응답코드: 200\n",
      "급식 데이터 수: 21\n"
     ]
    },
    {
     "name": "stderr",
     "output_type": "stream",
     "text": [
      "고등학교 급식 조회:  50%|███████████████████████                       | 89/178 [00:18<00:17,  4.96it/s]"
     ]
    },
    {
     "name": "stdout",
     "output_type": "stream",
     "text": [
      "7010077 면목고등학교\n",
      "급식 정보 조회 중: 날짜=20250616\n",
      "mealService 응답코드: 200\n",
      "급식 데이터 수: 22\n",
      "7010158 명덕고등학교\n",
      "급식 정보 조회 중: 날짜=20250616\n",
      "mealService 응답코드: 200\n",
      "급식 데이터 수: 69\n"
     ]
    },
    {
     "name": "stderr",
     "output_type": "stream",
     "text": [
      "고등학교 급식 조회:  51%|███████████████████████▎                      | 90/178 [00:18<00:18,  4.76it/s]"
     ]
    },
    {
     "name": "stdout",
     "output_type": "stream",
     "text": [
      "7010159 명덕여자고등학교\n",
      "급식 정보 조회 중: 날짜=20250616\n",
      "mealService 응답코드: 200\n",
      "급식 데이터 수: 69\n"
     ]
    },
    {
     "name": "stderr",
     "output_type": "stream",
     "text": [
      "고등학교 급식 조회:  51%|███████████████████████▌                      | 91/178 [00:19<00:18,  4.60it/s]"
     ]
    },
    {
     "name": "stdout",
     "output_type": "stream",
     "text": [
      "7010160 명덕외국어고등학교\n",
      "급식 정보 조회 중: 날짜=20250616\n",
      "mealService 응답코드: 200\n",
      "급식 데이터 수: 69\n"
     ]
    },
    {
     "name": "stderr",
     "output_type": "stream",
     "text": [
      "고등학교 급식 조회:  52%|████████████████████████                      | 93/178 [00:19<00:17,  4.84it/s]"
     ]
    },
    {
     "name": "stdout",
     "output_type": "stream",
     "text": [
      "7010078 명일여자고등학교\n",
      "급식 정보 조회 중: 날짜=20250616\n",
      "mealService 응답코드: 200\n",
      "급식 데이터 수: 21\n",
      "7010163 명지고등학교\n",
      "급식 정보 조회 중: 날짜=20250616\n",
      "mealService 응답코드: 200\n",
      "급식 데이터 수: 41\n"
     ]
    },
    {
     "name": "stderr",
     "output_type": "stream",
     "text": [
      "고등학교 급식 조회:  53%|████████████████████████▎                     | 94/178 [00:19<00:17,  4.80it/s]"
     ]
    },
    {
     "name": "stdout",
     "output_type": "stream",
     "text": [
      "7010744 목동고등학교\n",
      "급식 정보 조회 중: 날짜=20250616\n",
      "mealService 응답코드: 200\n",
      "급식 데이터 수: 41\n"
     ]
    },
    {
     "name": "stderr",
     "output_type": "stream",
     "text": [
      "고등학교 급식 조회:  54%|████████████████████████▊                     | 96/178 [00:20<00:17,  4.82it/s]"
     ]
    },
    {
     "name": "stdout",
     "output_type": "stream",
     "text": [
      "7010079 무학여자고등학교\n",
      "급식 정보 조회 중: 날짜=20250616\n",
      "mealService 응답코드: 200\n",
      "mealServiceDietInfo 키 없음: {'RESULT': {'CODE': 'INFO-200', 'MESSAGE': '해당하는 데이터가 없습니다.'}}\n",
      "7010166 문일고등학교\n",
      "급식 정보 조회 중: 날짜=20250616\n",
      "mealService 응답코드: 200\n",
      "급식 데이터 수: 42\n"
     ]
    },
    {
     "name": "stderr",
     "output_type": "stream",
     "text": [
      "고등학교 급식 조회:  54%|█████████████████████████                     | 97/178 [00:20<00:18,  4.46it/s]"
     ]
    },
    {
     "name": "stdout",
     "output_type": "stream",
     "text": [
      "7010701 문정고등학교\n",
      "급식 정보 조회 중: 날짜=20250616\n",
      "mealService 응답코드: 200\n",
      "급식 데이터 수: 21\n"
     ]
    },
    {
     "name": "stderr",
     "output_type": "stream",
     "text": [
      "고등학교 급식 조회:  56%|█████████████████████████▌                    | 99/178 [00:20<00:16,  4.73it/s]"
     ]
    },
    {
     "name": "stdout",
     "output_type": "stream",
     "text": [
      "7010959 문현고등학교\n",
      "급식 정보 조회 중: 날짜=20250616\n",
      "mealService 응답코드: 200\n",
      "급식 데이터 수: 20\n",
      "7010591 미래산업과학고등학교\n",
      "급식 정보 조회 중: 날짜=20250616\n",
      "mealService 응답코드: 200\n",
      "급식 데이터 수: 21\n"
     ]
    },
    {
     "name": "stderr",
     "output_type": "stream",
     "text": [
      "고등학교 급식 조회:  56%|█████████████████████████▎                   | 100/178 [00:21<00:16,  4.69it/s]"
     ]
    },
    {
     "name": "stdout",
     "output_type": "stream",
     "text": [
      "7011569 미림마이스터고등학교\n",
      "급식 정보 조회 중: 날짜=20250616\n",
      "mealService 응답코드: 200\n",
      "급식 데이터 수: 58\n"
     ]
    },
    {
     "name": "stderr",
     "output_type": "stream",
     "text": [
      "고등학교 급식 조회:  57%|█████████████████████████▌                   | 101/178 [00:21<00:16,  4.75it/s]"
     ]
    },
    {
     "name": "stdout",
     "output_type": "stream",
     "text": [
      "7010167 미림여자고등학교\n",
      "급식 정보 조회 중: 날짜=20250616\n",
      "mealService 응답코드: 200\n",
      "급식 데이터 수: 58\n"
     ]
    },
    {
     "name": "stderr",
     "output_type": "stream",
     "text": [
      "고등학교 급식 조회:  57%|█████████████████████████▊                   | 102/178 [00:21<00:16,  4.58it/s]"
     ]
    },
    {
     "name": "stdout",
     "output_type": "stream",
     "text": [
      "7010080 반포고등학교\n",
      "급식 정보 조회 중: 날짜=20250616\n",
      "mealService 응답코드: 200\n",
      "급식 데이터 수: 21\n"
     ]
    },
    {
     "name": "stderr",
     "output_type": "stream",
     "text": [
      "고등학교 급식 조회:  58%|██████████████████████████▎                  | 104/178 [00:21<00:15,  4.80it/s]"
     ]
    },
    {
     "name": "stdout",
     "output_type": "stream",
     "text": [
      "7010590 방산고등학교\n",
      "급식 정보 조회 중: 날짜=20250616\n",
      "mealService 응답코드: 200\n",
      "급식 데이터 수: 21\n",
      "7010168 배명고등학교\n",
      "급식 정보 조회 중: 날짜=20250616\n",
      "mealService 응답코드: 200\n",
      "급식 데이터 수: 62\n"
     ]
    },
    {
     "name": "stderr",
     "output_type": "stream",
     "text": [
      "고등학교 급식 조회:  59%|██████████████████████████▌                  | 105/178 [00:22<00:15,  4.57it/s]"
     ]
    },
    {
     "name": "stdout",
     "output_type": "stream",
     "text": [
      "7010169 배문고등학교\n",
      "급식 정보 조회 중: 날짜=20250616\n",
      "mealService 응답코드: 200\n",
      "급식 데이터 수: 38\n"
     ]
    },
    {
     "name": "stderr",
     "output_type": "stream",
     "text": [
      "고등학교 급식 조회:  60%|██████████████████████████▊                  | 106/178 [00:22<00:15,  4.52it/s]"
     ]
    },
    {
     "name": "stdout",
     "output_type": "stream",
     "text": [
      "7010170 배재고등학교\n",
      "급식 정보 조회 중: 날짜=20250616\n",
      "mealService 응답코드: 200\n",
      "급식 데이터 수: 62\n"
     ]
    },
    {
     "name": "stderr",
     "output_type": "stream",
     "text": [
      "고등학교 급식 조회:  61%|███████████████████████████▎                 | 108/178 [00:22<00:15,  4.55it/s]"
     ]
    },
    {
     "name": "stdout",
     "output_type": "stream",
     "text": [
      "7010171 배화여자고등학교\n",
      "급식 정보 조회 중: 날짜=20250616\n",
      "mealService 응답코드: 200\n",
      "급식 데이터 수: 41\n",
      "7010172 백암고등학교\n",
      "급식 정보 조회 중: 날짜=20250616\n",
      "mealService 응답코드: 200\n",
      "급식 데이터 수: 35\n"
     ]
    },
    {
     "name": "stderr",
     "output_type": "stream",
     "text": [
      "고등학교 급식 조회:  61%|███████████████████████████▌                 | 109/178 [00:22<00:14,  4.62it/s]"
     ]
    },
    {
     "name": "stdout",
     "output_type": "stream",
     "text": [
      "7010173 보성고등학교\n",
      "급식 정보 조회 중: 날짜=20250616\n",
      "mealService 응답코드: 200\n",
      "급식 데이터 수: 38\n"
     ]
    },
    {
     "name": "stderr",
     "output_type": "stream",
     "text": [
      "고등학교 급식 조회:  62%|███████████████████████████▊                 | 110/178 [00:23<00:14,  4.54it/s]"
     ]
    },
    {
     "name": "stdout",
     "output_type": "stream",
     "text": [
      "7010174 보성여자고등학교\n",
      "급식 정보 조회 중: 날짜=20250616\n",
      "mealService 응답코드: 200\n",
      "급식 데이터 수: 21\n"
     ]
    },
    {
     "name": "stderr",
     "output_type": "stream",
     "text": [
      "고등학교 급식 조회:  62%|████████████████████████████                 | 111/178 [00:23<00:14,  4.65it/s]"
     ]
    },
    {
     "name": "stdout",
     "output_type": "stream",
     "text": [
      "7010813 보인고등학교\n",
      "급식 정보 조회 중: 날짜=20250616\n",
      "mealService 응답코드: 200\n",
      "급식 데이터 수: 59\n"
     ]
    },
    {
     "name": "stderr",
     "output_type": "stream",
     "text": [
      "고등학교 급식 조회:  63%|████████████████████████████▌                | 113/178 [00:23<00:13,  4.76it/s]"
     ]
    },
    {
     "name": "stdout",
     "output_type": "stream",
     "text": [
      "7010736 불암고등학교\n",
      "급식 정보 조회 중: 날짜=20250616\n",
      "mealService 응답코드: 200\n",
      "급식 데이터 수: 21\n"
     ]
    },
    {
     "name": "stderr",
     "output_type": "stream",
     "text": [
      "고등학교 급식 조회:  64%|████████████████████████████▊                | 114/178 [00:24<00:13,  4.75it/s]"
     ]
    },
    {
     "name": "stdout",
     "output_type": "stream",
     "text": [
      "7010985 삼각산고등학교\n",
      "급식 정보 조회 중: 날짜=20250616\n",
      "mealService 응답코드: 200\n",
      "급식 데이터 수: 19\n",
      "7010081 삼성고등학교\n",
      "급식 정보 조회 중: 날짜=20250616\n",
      "mealService 응답코드: 200\n",
      "급식 데이터 수: 21\n"
     ]
    },
    {
     "name": "stderr",
     "output_type": "stream",
     "text": [
      "고등학교 급식 조회:  65%|█████████████████████████████▎               | 116/178 [00:24<00:12,  4.84it/s]"
     ]
    },
    {
     "name": "stdout",
     "output_type": "stream",
     "text": [
      "7010082 상계고등학교\n",
      "급식 정보 조회 중: 날짜=20250616\n",
      "mealService 응답코드: 200\n",
      "급식 데이터 수: 20\n"
     ]
    },
    {
     "name": "stderr",
     "output_type": "stream",
     "text": [
      "고등학교 급식 조회:  66%|█████████████████████████████▌               | 117/178 [00:24<00:12,  5.02it/s]"
     ]
    },
    {
     "name": "stdout",
     "output_type": "stream",
     "text": [
      "7010593 상명고등학교\n",
      "급식 정보 조회 중: 날짜=20250616\n",
      "mealService 응답코드: 200\n",
      "급식 데이터 수: 21\n",
      "7010178 상명대학교사범대학부속여자고등학교\n",
      "급식 정보 조회 중: 날짜=20250616\n"
     ]
    },
    {
     "name": "stderr",
     "output_type": "stream",
     "text": [
      "고등학교 급식 조회:  66%|█████████████████████████████▊               | 118/178 [00:24<00:12,  5.00it/s]"
     ]
    },
    {
     "name": "stdout",
     "output_type": "stream",
     "text": [
      "mealService 응답코드: 200\n",
      "급식 데이터 수: 21\n",
      "7010179 상문고등학교\n",
      "급식 정보 조회 중: 날짜=20250616\n",
      "mealService 응답코드: 200\n",
      "급식 데이터 수: 20\n"
     ]
    },
    {
     "name": "stderr",
     "output_type": "stream",
     "text": [
      "고등학교 급식 조회:  67%|██████████████████████████████▎              | 120/178 [00:25<00:11,  5.16it/s]"
     ]
    },
    {
     "name": "stdout",
     "output_type": "stream",
     "text": [
      "7010806 상암고등학교\n",
      "급식 정보 조회 중: 날짜=20250616\n",
      "mealService 응답코드: 200\n",
      "급식 데이터 수: 21\n",
      "7010916 상일미디어고등학교\n",
      "급식 정보 조회 중: 날짜=20250616\n"
     ]
    },
    {
     "name": "stderr",
     "output_type": "stream",
     "text": [
      "고등학교 급식 조회:  68%|██████████████████████████████▌              | 121/178 [00:25<00:10,  5.24it/s]"
     ]
    },
    {
     "name": "stdout",
     "output_type": "stream",
     "text": [
      "mealService 응답코드: 200\n",
      "급식 데이터 수: 21\n",
      "7010181 상일여자고등학교\n",
      "급식 정보 조회 중: 날짜=20250616\n",
      "mealService 응답코드: 200\n",
      "급식 데이터 수: 21\n"
     ]
    },
    {
     "name": "stderr",
     "output_type": "stream",
     "text": [
      "고등학교 급식 조회:  69%|███████████████████████████████              | 123/178 [00:25<00:10,  5.06it/s]"
     ]
    },
    {
     "name": "stdout",
     "output_type": "stream",
     "text": [
      "7010182 서라벌고등학교\n",
      "급식 정보 조회 중: 날짜=20250616\n",
      "mealService 응답코드: 200\n",
      "급식 데이터 수: 35\n",
      "7010183 서문여자고등학교\n",
      "급식 정보 조회 중: 날짜=20250616\n",
      "mealService 응답코드: 200\n",
      "급식 데이터 수: 37\n"
     ]
    },
    {
     "name": "stderr",
     "output_type": "stream",
     "text": [
      "고등학교 급식 조회:  70%|███████████████████████████████▌             | 125/178 [00:26<00:10,  4.98it/s]"
     ]
    },
    {
     "name": "stdout",
     "output_type": "stream",
     "text": [
      "7010721 서서울생활과학고등학교\n",
      "급식 정보 조회 중: 날짜=20250616\n",
      "mealService 응답코드: 200\n",
      "급식 데이터 수: 20\n",
      "7010083 서울고등학교\n",
      "급식 정보 조회 중: 날짜=20250616\n",
      "mealService 응답코드: 200\n",
      "급식 데이터 수: 41\n"
     ]
    },
    {
     "name": "stderr",
     "output_type": "stream",
     "text": [
      "고등학교 급식 조회:  71%|███████████████████████████████▊             | 126/178 [00:26<00:11,  4.62it/s]"
     ]
    },
    {
     "name": "stdout",
     "output_type": "stream",
     "text": [
      "7010278 서울공업고등학교\n",
      "급식 정보 조회 중: 날짜=20250616\n",
      "mealService 응답코드: 200\n",
      "급식 데이터 수: 19\n"
     ]
    },
    {
     "name": "stderr",
     "output_type": "stream",
     "text": [
      "고등학교 급식 조회:  71%|████████████████████████████████             | 127/178 [00:26<00:11,  4.52it/s]"
     ]
    },
    {
     "name": "stdout",
     "output_type": "stream",
     "text": [
      "7010906 서울공연예술고등학교\n",
      "급식 정보 조회 중: 날짜=20250616\n",
      "mealService 응답코드: 200\n",
      "급식 데이터 수: 21\n"
     ]
    },
    {
     "name": "stderr",
     "output_type": "stream",
     "text": [
      "고등학교 급식 조회:  72%|████████████████████████████████▎            | 128/178 [00:26<00:11,  4.48it/s]"
     ]
    },
    {
     "name": "stdout",
     "output_type": "stream",
     "text": [
      "7010084 서울과학고등학교\n",
      "급식 정보 조회 중: 날짜=20250616\n",
      "mealService 응답코드: 200\n",
      "급식 데이터 수: 60\n"
     ]
    },
    {
     "name": "stderr",
     "output_type": "stream",
     "text": [
      "고등학교 급식 조회:  72%|████████████████████████████████▌            | 129/178 [00:27<00:10,  4.46it/s]"
     ]
    },
    {
     "name": "stdout",
     "output_type": "stream",
     "text": [
      "7010739 서울관광고등학교\n",
      "급식 정보 조회 중: 날짜=20250616\n",
      "mealService 응답코드: 200\n",
      "급식 데이터 수: 19\n"
     ]
    },
    {
     "name": "stderr",
     "output_type": "stream",
     "text": [
      "고등학교 급식 조회:  73%|████████████████████████████████▊            | 130/178 [00:27<00:10,  4.49it/s]"
     ]
    },
    {
     "name": "stdout",
     "output_type": "stream",
     "text": [
      "7010817 서울국제고등학교\n",
      "급식 정보 조회 중: 날짜=20250616\n",
      "mealService 응답코드: 200\n",
      "급식 데이터 수: 58\n"
     ]
    },
    {
     "name": "stderr",
     "output_type": "stream",
     "text": [
      "고등학교 급식 조회:  74%|█████████████████████████████████▎           | 132/178 [00:27<00:10,  4.43it/s]"
     ]
    },
    {
     "name": "stdout",
     "output_type": "stream",
     "text": [
      "7010964 서울금융고등학교\n",
      "급식 정보 조회 중: 날짜=20250616\n",
      "mealService 응답코드: 200\n",
      "급식 데이터 수: 20\n",
      "7011109 서울대학교사범대학부설고등학교\n",
      "급식 정보 조회 중: 날짜=20250616\n",
      "mealService 응답코드: 200\n",
      "급식 데이터 수: 21\n"
     ]
    },
    {
     "name": "stderr",
     "output_type": "stream",
     "text": [
      "고등학교 급식 조회:  75%|█████████████████████████████████▌           | 133/178 [00:28<00:10,  4.46it/s]"
     ]
    },
    {
     "name": "stdout",
     "output_type": "stream",
     "text": [
      "7011180 서울도시과학기술고등학교\n",
      "급식 정보 조회 중: 날짜=20250616\n",
      "mealService 응답코드: 200\n",
      "급식 데이터 수: 54\n"
     ]
    },
    {
     "name": "stderr",
     "output_type": "stream",
     "text": [
      "고등학교 급식 조회:  76%|██████████████████████████████████▏          | 135/178 [00:28<00:09,  4.49it/s]"
     ]
    },
    {
     "name": "stdout",
     "output_type": "stream",
     "text": [
      "7011539 서울동구고등학교\n",
      "급식 정보 조회 중: 날짜=20250616\n",
      "mealService 응답코드: 200\n",
      "급식 데이터 수: 19\n",
      "7011494 서울동산고등학교\n",
      "급식 정보 조회 중: 날짜=20250616\n",
      "mealService 응답코드: 200\n",
      "급식 데이터 수: 21\n"
     ]
    },
    {
     "name": "stderr",
     "output_type": "stream",
     "text": [
      "고등학교 급식 조회:  77%|██████████████████████████████████▋          | 137/178 [00:28<00:08,  4.59it/s]"
     ]
    },
    {
     "name": "stdout",
     "output_type": "stream",
     "text": [
      "7010741 서울디자인고등학교\n",
      "급식 정보 조회 중: 날짜=20250616\n",
      "mealService 응답코드: 200\n",
      "급식 데이터 수: 21\n"
     ]
    },
    {
     "name": "stderr",
     "output_type": "stream",
     "text": [
      "고등학교 급식 조회:  78%|██████████████████████████████████▉          | 138/178 [00:29<00:08,  4.84it/s]"
     ]
    },
    {
     "name": "stdout",
     "output_type": "stream",
     "text": [
      "7011585 서울디지털콘텐츠고등학교\n",
      "급식 정보 조회 중: 날짜=20250616\n",
      "mealService 응답코드: 200\n",
      "급식 데이터 수: 21\n"
     ]
    },
    {
     "name": "stderr",
     "output_type": "stream",
     "text": [
      "고등학교 급식 조회:  78%|███████████████████████████████████▏         | 139/178 [00:29<00:07,  5.06it/s]"
     ]
    },
    {
     "name": "stdout",
     "output_type": "stream",
     "text": [
      "7010572 서울디지텍고등학교\n",
      "급식 정보 조회 중: 날짜=20250616\n",
      "mealService 응답코드: 200\n",
      "급식 데이터 수: 21\n",
      "7010738 서울로봇고등학교\n",
      "급식 정보 조회 중: 날짜=20250616\n"
     ]
    },
    {
     "name": "stderr",
     "output_type": "stream",
     "text": [
      "고등학교 급식 조회:  79%|███████████████████████████████████▍         | 140/178 [00:29<00:08,  4.55it/s]"
     ]
    },
    {
     "name": "stdout",
     "output_type": "stream",
     "text": [
      "mealService 응답코드: 200\n",
      "급식 데이터 수: 62\n",
      "7011506 서울매그넷고등학교\n",
      "급식 정보 조회 중: 날짜=20250616\n",
      "mealService 응답코드: 200\n",
      "급식 데이터 수: 20\n"
     ]
    },
    {
     "name": "stderr",
     "output_type": "stream",
     "text": [
      "고등학교 급식 조회:  79%|███████████████████████████████████▋         | 141/178 [00:29<00:07,  4.76it/s]"
     ]
    },
    {
     "name": "stdout",
     "output_type": "stream",
     "text": [
      "7010697 서울문영여자고등학교\n",
      "급식 정보 조회 중: 날짜=20250616\n",
      "mealService 응답코드: 200\n",
      "급식 데이터 수: 41\n"
     ]
    },
    {
     "name": "stderr",
     "output_type": "stream",
     "text": [
      "고등학교 급식 조회:  80%|███████████████████████████████████▉         | 142/178 [00:29<00:07,  4.70it/s]"
     ]
    },
    {
     "name": "stdout",
     "output_type": "stream",
     "text": [
      "7010888 서울문화고등학교\n",
      "급식 정보 조회 중: 날짜=20250616\n",
      "mealService 응답코드: 200\n",
      "급식 데이터 수: 19\n"
     ]
    },
    {
     "name": "stderr",
     "output_type": "stream",
     "text": [
      "고등학교 급식 조회:  81%|████████████████████████████████████▍        | 144/178 [00:30<00:06,  4.94it/s]"
     ]
    },
    {
     "name": "stdout",
     "output_type": "stream",
     "text": [
      "7010185 서울미술고등학교\n",
      "급식 정보 조회 중: 날짜=20250616\n",
      "mealService 응답코드: 200\n",
      "급식 데이터 수: 18\n",
      "7011575 서울반도체고등학교\n",
      "급식 정보 조회 중: 날짜=20250616\n"
     ]
    },
    {
     "name": "stderr",
     "output_type": "stream",
     "text": [
      "고등학교 급식 조회:  81%|████████████████████████████████████▋        | 145/178 [00:30<00:06,  4.88it/s]"
     ]
    },
    {
     "name": "stdout",
     "output_type": "stream",
     "text": [
      "mealService 응답코드: 200\n",
      "급식 데이터 수: 21\n",
      "7010836 서울방송고등학교\n",
      "급식 정보 조회 중: 날짜=20250616\n",
      "mealService 응답코드: 200\n",
      "급식 데이터 수: 20\n"
     ]
    },
    {
     "name": "stderr",
     "output_type": "stream",
     "text": [
      "고등학교 급식 조회:  83%|█████████████████████████████████████▏       | 147/178 [00:30<00:06,  5.14it/s]"
     ]
    },
    {
     "name": "stdout",
     "output_type": "stream",
     "text": [
      "7011584 서울백영고등학교\n",
      "급식 정보 조회 중: 날짜=20250616\n",
      "mealService 응답코드: 200\n",
      "급식 데이터 수: 17\n",
      "7010186 서울세종고등학교\n",
      "급식 정보 조회 중: 날짜=20250616\n",
      "mealService 응답코드: 200\n",
      "급식 데이터 수: 21\n"
     ]
    },
    {
     "name": "stderr",
     "output_type": "stream",
     "text": [
      "고등학교 급식 조회:  83%|█████████████████████████████████████▍       | 148/178 [00:31<00:05,  5.02it/s]"
     ]
    },
    {
     "name": "stdout",
     "output_type": "stream",
     "text": [
      "7011492 서울신정고등학교\n",
      "급식 정보 조회 중: 날짜=20250616\n",
      "mealService 응답코드: 200\n",
      "급식 데이터 수: 21\n"
     ]
    },
    {
     "name": "stderr",
     "output_type": "stream",
     "text": [
      "고등학교 급식 조회:  84%|█████████████████████████████████████▉       | 150/178 [00:31<00:05,  4.95it/s]"
     ]
    },
    {
     "name": "stdout",
     "output_type": "stream",
     "text": [
      "7010960 서울아이티고등학교\n",
      "급식 정보 조회 중: 날짜=20250616\n",
      "mealService 응답코드: 200\n",
      "급식 데이터 수: 21\n"
     ]
    },
    {
     "name": "stderr",
     "output_type": "stream",
     "text": [
      "고등학교 급식 조회:  85%|██████████████████████████████████████▏      | 151/178 [00:31<00:05,  4.91it/s]"
     ]
    },
    {
     "name": "stdout",
     "output_type": "stream",
     "text": [
      "7010085 서울여자고등학교\n",
      "급식 정보 조회 중: 날짜=20250616\n",
      "mealService 응답코드: 200\n",
      "급식 데이터 수: 41\n"
     ]
    },
    {
     "name": "stderr",
     "output_type": "stream",
     "text": [
      "고등학교 급식 조회:  85%|██████████████████████████████████████▍      | 152/178 [00:31<00:05,  5.04it/s]"
     ]
    },
    {
     "name": "stdout",
     "output_type": "stream",
     "text": [
      "7010340 서울여자상업고등학교\n",
      "급식 정보 조회 중: 날짜=20250616\n",
      "mealService 응답코드: 200\n",
      "급식 데이터 수: 20\n",
      "7010795 서울영상고등학교\n",
      "급식 정보 조회 중: 날짜=20250616\n",
      "mealService 응답코드: 200\n",
      "급식 데이터 수: 55\n"
     ]
    },
    {
     "name": "stderr",
     "output_type": "stream",
     "text": [
      "고등학교 급식 조회:  87%|██████████████████████████████████████▉      | 154/178 [00:32<00:04,  4.91it/s]"
     ]
    },
    {
     "name": "stdout",
     "output_type": "stream",
     "text": [
      "7010187 서울예술고등학교\n",
      "급식 정보 조회 중: 날짜=20250616\n",
      "mealService 응답코드: 200\n",
      "급식 데이터 수: 30\n"
     ]
    },
    {
     "name": "stderr",
     "output_type": "stream",
     "text": [
      "고등학교 급식 조회:  87%|███████████████████████████████████████▏     | 155/178 [00:32<00:04,  4.89it/s]"
     ]
    },
    {
     "name": "stdout",
     "output_type": "stream",
     "text": [
      "7010188 서울외국어고등학교\n",
      "급식 정보 조회 중: 날짜=20250616\n",
      "mealService 응답코드: 200\n",
      "급식 데이터 수: 37\n",
      "7011558 서울웹툰애니메이션고등학교\n",
      "급식 정보 조회 중: 날짜=20250616\n",
      "mealService 응답코드: 200\n",
      "급식 데이터 수: 18\n"
     ]
    },
    {
     "name": "stderr",
     "output_type": "stream",
     "text": [
      "고등학교 급식 조회:  88%|███████████████████████████████████████▋     | 157/178 [00:33<00:04,  4.97it/s]"
     ]
    },
    {
     "name": "stdout",
     "output_type": "stream",
     "text": [
      "7011486 서울의료보건고등학교\n",
      "급식 정보 조회 중: 날짜=20250616\n",
      "mealService 응답코드: 200\n",
      "급식 데이터 수: 21\n",
      "7011498 서울인공지능고등학교\n",
      "급식 정보 조회 중: 날짜=20250616\n",
      "mealService 응답코드: 200\n",
      "급식 데이터 수: 21\n"
     ]
    },
    {
     "name": "stderr",
     "output_type": "stream",
     "text": [
      "고등학교 급식 조회:  89%|████████████████████████████████████████▏    | 159/178 [00:33<00:03,  5.11it/s]"
     ]
    },
    {
     "name": "stdout",
     "output_type": "stream",
     "text": [
      "7011513 서울정화고등학교\n",
      "급식 정보 조회 중: 날짜=20250616\n",
      "mealService 응답코드: 200\n",
      "급식 데이터 수: 21\n",
      "7010086 서울체육고등학교\n",
      "급식 정보 조회 중: 날짜=20250616\n"
     ]
    },
    {
     "name": "stderr",
     "output_type": "stream",
     "text": [
      "고등학교 급식 조회:  90%|████████████████████████████████████████▍    | 160/178 [00:33<00:03,  4.87it/s]"
     ]
    },
    {
     "name": "stdout",
     "output_type": "stream",
     "text": [
      "mealService 응답코드: 200\n",
      "급식 데이터 수: 52\n",
      "7011213 서울컨벤션고등학교\n",
      "급식 정보 조회 중: 날짜=20250616\n",
      "mealService 응답코드: 200\n",
      "급식 데이터 수: 21\n"
     ]
    },
    {
     "name": "stderr",
     "output_type": "stream",
     "text": [
      "고등학교 급식 조회:  91%|████████████████████████████████████████▉    | 162/178 [00:33<00:03,  5.26it/s]"
     ]
    },
    {
     "name": "stdout",
     "output_type": "stream",
     "text": [
      "7011491 서일문화예술고등학교\n",
      "급식 정보 조회 중: 날짜=20250616\n",
      "mealService 응답코드: 200\n",
      "급식 데이터 수: 16\n",
      "7010087 서초고등학교\n",
      "급식 정보 조회 중: 날짜=20250616\n"
     ]
    },
    {
     "name": "stderr",
     "output_type": "stream",
     "text": [
      "고등학교 급식 조회:  92%|█████████████████████████████████████████▏   | 163/178 [00:34<00:02,  5.27it/s]"
     ]
    },
    {
     "name": "stdout",
     "output_type": "stream",
     "text": [
      "mealService 응답코드: 200\n",
      "급식 데이터 수: 19\n",
      "7010088 석관고등학교\n",
      "급식 정보 조회 중: 날짜=20250616\n"
     ]
    },
    {
     "name": "stderr",
     "output_type": "stream",
     "text": [
      "고등학교 급식 조회:  92%|█████████████████████████████████████████▍   | 164/178 [00:34<00:02,  5.00it/s]"
     ]
    },
    {
     "name": "stdout",
     "output_type": "stream",
     "text": [
      "mealService 응답코드: 200\n",
      "급식 데이터 수: 21\n",
      "7010189 선덕고등학교\n",
      "급식 정보 조회 중: 날짜=20250616\n"
     ]
    },
    {
     "name": "stderr",
     "output_type": "stream",
     "text": [
      "고등학교 급식 조회:  93%|█████████████████████████████████████████▋   | 165/178 [00:34<00:02,  4.65it/s]"
     ]
    },
    {
     "name": "stdout",
     "output_type": "stream",
     "text": [
      "mealService 응답코드: 200\n",
      "급식 데이터 수: 43\n",
      "7010536 선린인터넷고등학교\n",
      "급식 정보 조회 중: 날짜=20250616\n",
      "mealService 응답코드: 200\n",
      "급식 데이터 수: 19\n"
     ]
    },
    {
     "name": "stderr",
     "output_type": "stream",
     "text": [
      "고등학교 급식 조회:  93%|█████████████████████████████████████████▉   | 166/178 [00:34<00:02,  4.95it/s]"
     ]
    },
    {
     "name": "stdout",
     "output_type": "stream",
     "text": [
      "7010984 선사고등학교\n",
      "급식 정보 조회 중: 날짜=20250616\n",
      "mealService 응답코드: 200\n",
      "급식 데이터 수: 21\n"
     ]
    },
    {
     "name": "stderr",
     "output_type": "stream",
     "text": [
      "고등학교 급식 조회:  94%|██████████████████████████████████████████▍  | 168/178 [00:35<00:01,  5.06it/s]"
     ]
    },
    {
     "name": "stdout",
     "output_type": "stream",
     "text": [
      "7010734 선유고등학교\n",
      "급식 정보 조회 중: 날짜=20250616\n",
      "mealService 응답코드: 200\n",
      "급식 데이터 수: 20\n",
      "7011508 선일빅데이터고등학교\n",
      "급식 정보 조회 중: 날짜=20250616\n"
     ]
    },
    {
     "name": "stderr",
     "output_type": "stream",
     "text": [
      "고등학교 급식 조회:  95%|██████████████████████████████████████████▋  | 169/178 [00:35<00:01,  4.99it/s]"
     ]
    },
    {
     "name": "stdout",
     "output_type": "stream",
     "text": [
      "mealService 응답코드: 200\n",
      "급식 데이터 수: 21\n",
      "7010190 선일여자고등학교\n",
      "급식 정보 조회 중: 날짜=20250616\n",
      "mealService 응답코드: 200\n",
      "급식 데이터 수: 21\n"
     ]
    },
    {
     "name": "stderr",
     "output_type": "stream",
     "text": [
      "고등학교 급식 조회:  96%|██████████████████████████████████████████▉  | 170/178 [00:35<00:01,  5.03it/s]"
     ]
    },
    {
     "name": "stdout",
     "output_type": "stream",
     "text": [
      "7010191 선정고등학교\n",
      "급식 정보 조회 중: 날짜=20250616\n",
      "mealService 응답코드: 200\n",
      "급식 데이터 수: 40\n"
     ]
    },
    {
     "name": "stderr",
     "output_type": "stream",
     "text": [
      "고등학교 급식 조회:  97%|███████████████████████████████████████████▍ | 172/178 [00:36<00:01,  4.89it/s]"
     ]
    },
    {
     "name": "stdout",
     "output_type": "stream",
     "text": [
      "7011315 선정국제관광고등학교\n",
      "급식 정보 조회 중: 날짜=20250616\n",
      "mealService 응답코드: 200\n",
      "급식 데이터 수: 40\n",
      "7010192 선화예술고등학교\n",
      "급식 정보 조회 중: 날짜=20250616\n",
      "mealService 응답코드: 200\n",
      "급식 데이터 수: 62\n"
     ]
    },
    {
     "name": "stderr",
     "output_type": "stream",
     "text": [
      "고등학교 급식 조회:  98%|███████████████████████████████████████████▉ | 174/178 [00:36<00:00,  4.61it/s]"
     ]
    },
    {
     "name": "stdout",
     "output_type": "stream",
     "text": [
      "7010193 성남고등학교\n",
      "급식 정보 조회 중: 날짜=20250616\n",
      "mealService 응답코드: 200\n",
      "급식 데이터 수: 19\n"
     ]
    },
    {
     "name": "stderr",
     "output_type": "stream",
     "text": [
      "고등학교 급식 조회:  98%|████████████████████████████████████████████▏| 175/178 [00:36<00:00,  4.68it/s]"
     ]
    },
    {
     "name": "stdout",
     "output_type": "stream",
     "text": [
      "7011179 성덕고등학교\n",
      "급식 정보 조회 중: 날짜=20250616\n",
      "mealService 응답코드: 200\n",
      "급식 데이터 수: 21\n",
      "7010089 성동고등학교\n",
      "급식 정보 조회 중: 날짜=20250616\n",
      "mealService 응답코드: 200\n",
      "급식 데이터 수: 20\n"
     ]
    },
    {
     "name": "stderr",
     "output_type": "stream",
     "text": [
      "고등학교 급식 조회:  99%|████████████████████████████████████████████▍| 176/178 [00:36<00:00,  4.71it/s]"
     ]
    },
    {
     "name": "stdout",
     "output_type": "stream",
     "text": [
      "7010737 성동공업고등학교\n",
      "급식 정보 조회 중: 날짜=20250616\n",
      "mealService 응답코드: 200\n",
      "급식 데이터 수: 38\n"
     ]
    },
    {
     "name": "stderr",
     "output_type": "stream",
     "text": [
      "고등학교 급식 조회: 100%|█████████████████████████████████████████████| 178/178 [00:37<00:00,  4.82it/s]"
     ]
    },
    {
     "name": "stdout",
     "output_type": "stream",
     "text": [
      "7010889 성동글로벌경영고등학교\n",
      "급식 정보 조회 중: 날짜=20250616\n",
      "mealService 응답코드: 200\n",
      "급식 데이터 수: 19\n"
     ]
    },
    {
     "name": "stderr",
     "output_type": "stream",
     "text": [
      "고등학교 급식 조회: 100%|█████████████████████████████████████████████| 178/178 [00:37<00:00,  4.77it/s]"
     ]
    },
    {
     "name": "stdout",
     "output_type": "stream",
     "text": [
      "수집된 급식 행 수: 5222\n",
      "  교육청코드     학교코드     학교명      급식일자 식사명  \\\n",
      "0   B10  7010057  가락고등학교  20250519  중식   \n",
      "1   B10  7010057  가락고등학교  20250520  중식   \n",
      "2   B10  7010057  가락고등학교  20250521  중식   \n",
      "3   B10  7010057  가락고등학교  20250522  중식   \n",
      "4   B10  7010057  가락고등학교  20250523  중식   \n",
      "\n",
      "                                                급식식단  \n",
      "0  쌀밥 <br/>소고기미역국 (2.5.6.15.16.18)<br/>돼지갈비찜 (5.6...  \n",
      "1  쇠고기콩나물밥 (5.6.16)<br/>물만두국 (1.2.5.6.10.15.16.18...  \n",
      "2  새우볶음밥 (1.5.6.8.9.13.18)<br/>씨앗호떡파이 (1.2.3.5.6)...  \n",
      "3  쌀밥 <br/>볶음우동 (5.6.8.9.13.15.17.18)<br/>zero초코파...  \n",
      "4  현미밥 <br/>어묵국 (1.2.5.6.15.16.18)<br/>마라찜닭 (5.6....  \n"
     ]
    },
    {
     "name": "stderr",
     "output_type": "stream",
     "text": [
      "\n"
     ]
    }
   ],
   "source": [
    "highschool_list = get_highschools(EDU_CODE)\n",
    "\n",
    "# 최근 한달 기간 설정\n",
    "today = datetime.today()\n",
    "one_month_ago = today - timedelta(days=30)\n",
    "FROM_DATE = one_month_ago.strftime('%Y%m%d')\n",
    "TO_DATE = today.strftime('%Y%m%d')\n",
    "\n",
    "def get_meal_info(edu_code, school_code, from_date, to_date):\n",
    "    print(f\"급식 정보 조회 중: 날짜={TARGET_DATE}\")\n",
    "    url = \"https://open.neis.go.kr/hub/mealServiceDietInfo\"\n",
    "    params = {\n",
    "        \"KEY\": API_KEY,\n",
    "        \"Type\": \"json\",\n",
    "        \"ATPT_OFCDC_SC_CODE\": edu_code,\n",
    "        \"SD_SCHUL_CODE\": school_code,\n",
    "        \"MLSV_FROM_YMD\": from_date, \n",
    "        \"MLSV_TO_YMD\" : to_date, \n",
    "        \"pIndex\" : 1, \n",
    "        \"pSize\" : 100\n",
    "    }\n",
    "    try:\n",
    "        res = requests.get(url, params=params, timeout=5)\n",
    "        print(f\"mealService 응답코드: {res.status_code}\")\n",
    "        if res.status_code == 200:\n",
    "            data = res.json()\n",
    "            if \"mealServiceDietInfo\" in data:\n",
    "                print(f\"급식 데이터 수: {len(data['mealServiceDietInfo'][1]['row'])}\")\n",
    "                return data[\"mealServiceDietInfo\"][1][\"row\"]\n",
    "            else:\n",
    "                print(\"mealServiceDietInfo 키 없음:\", data)\n",
    "        else:\n",
    "            print(\"응답 실패:\", res.text)\n",
    "    except Exception as e:\n",
    "        print(f\"급식 정보 조회 오류: {e}\")\n",
    "    return []\n",
    "\n",
    "all_data = []\n",
    "for school_code, school_name in tqdm(highschool_list, desc=\"고등학교 급식 조회\"):\n",
    "    print(school_code, school_name)\n",
    "    meals = get_meal_info(EDU_CODE, school_code, FROM_DATE, TO_DATE)\n",
    "    for meal in meals:\n",
    "        all_data.append({\n",
    "            \"교육청코드\": EDU_CODE,\n",
    "            \"학교코드\": school_code,\n",
    "            \"학교명\": school_name,\n",
    "            \"급식일자\": meal.get(\"MLSV_YMD\"),\n",
    "            \"식사명\": meal.get(\"MMEAL_SC_NM\"),\n",
    "            \"급식식단\": meal.get(\"DDISH_NM\")\n",
    "        })\n",
    "    time.sleep(0.1)\n",
    "\n",
    "# 저장\n",
    "df = pd.DataFrame(all_data)\n",
    "print(\"수집된 급식 행 수:\", len(df))\n",
    "print(df.head())"
   ]
  },
  {
   "cell_type": "code",
   "execution_count": 52,
   "metadata": {},
   "outputs": [],
   "source": [
    "df.to_csv(\"서울_고등학교 전체_급식_최근1개월.csv\", index=False, encoding=\"utf-8-sig\")"
   ]
  },
  {
   "cell_type": "markdown",
   "metadata": {},
   "source": [
    "# 4교시 미션\n",
    "- 전국시도교육청 기반으로 고등학교 전체 급식데이터 수집\n",
    "- ChatGPT 사용하지 않고 진행 (반복문~반복문~조건문, 기초문법 확장한 개념)"
   ]
  },
  {
   "cell_type": "code",
   "execution_count": 53,
   "metadata": {},
   "outputs": [],
   "source": [
    "EDU_CODES = [\n",
    "    \"B10\", \"C10\", \"D10\", \"E10\", \"F10\", \"G10\", \"H10\", \"I10\", \"J10\",\n",
    "    \"K10\", \"M10\", \"N10\", \"P10\", \"Q10\", \"R10\", \"S10\", \"T10\"\n",
    "]\n",
    "\n",
    "# "
   ]
  }
 ],
 "metadata": {
  "kernelspec": {
   "display_name": "Python 3 (ipykernel)",
   "language": "python",
   "name": "python3"
  },
  "language_info": {
   "codemirror_mode": {
    "name": "ipython",
    "version": 3
   },
   "file_extension": ".py",
   "mimetype": "text/x-python",
   "name": "python",
   "nbconvert_exporter": "python",
   "pygments_lexer": "ipython3",
   "version": "3.11.12"
  }
 },
 "nbformat": 4,
 "nbformat_minor": 4
}
